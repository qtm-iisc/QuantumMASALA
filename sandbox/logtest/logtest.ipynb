{
 "cells": [
  {
   "cell_type": "code",
   "execution_count": 1,
   "id": "0ffa8407-d14b-4738-ae22-eb9018b445b7",
   "metadata": {},
   "outputs": [],
   "source": [
    "%load_ext autoreload\n",
    "%autoreload 2"
   ]
  },
  {
   "cell_type": "code",
   "execution_count": 2,
   "id": "ceb79661-535b-47b4-844c-bc6b4a08e827",
   "metadata": {},
   "outputs": [
    {
     "name": "stdout",
     "output_type": "stream",
     "text": [
      "(8, 6, 1)\n",
      "<Cluster(cluster_id='1687877084-j6kq', profile='default')>\n",
      "Starting 4 engines with <class 'ipyparallel.cluster.launcher.MPIEngineSetLauncher'>\n",
      "100%|███████████████████████████████████████████████████████████████████████████████████████████████████████████████████████████████████████████████████████████████████████████████████████████████████████████████████████████████████| 4/4 [00:05<00:00,  1.44s/engine]\n"
     ]
    },
    {
     "data": {
      "text/plain": [
       "[0, 1, 2, 3]"
      ]
     },
     "execution_count": 2,
     "metadata": {},
     "output_type": "execute_result"
    }
   ],
   "source": [
    "import ipyparallel as ipp\n",
    "print(ipp.version_info)\n",
    "\n",
    "nproc = 4\n",
    "cluster = ipp.Cluster(engines='mpi', n=nproc, shutdown_atexit=False)\n",
    "print(cluster)\n",
    "client = cluster.start_and_connect_sync(activate=True)\n",
    "view = client[:]\n",
    "client.ids"
   ]
  },
  {
   "cell_type": "code",
   "execution_count": 6,
   "id": "349bd880-6239-4b32-89d9-50b1b47bebf2",
   "metadata": {},
   "outputs": [
    {
     "data": {
      "text/plain": [
       "[stdout:2] PROFILE          CLUSTER ID                       RUNNING ENGINES LAUNCHER\r\n",
       "default          1687877084-j6kq                  True          4 MPI\r\n"
      ]
     },
     "metadata": {},
     "output_type": "display_data"
    },
    {
     "data": {
      "text/plain": [
       "[stdout:3] PROFILE          CLUSTER ID                       RUNNING ENGINES LAUNCHER\r\n",
       "default          1687877084-j6kq                  True          4 MPI\r\n"
      ]
     },
     "metadata": {},
     "output_type": "display_data"
    },
    {
     "data": {
      "text/plain": [
       "[stdout:0] PROFILE          CLUSTER ID                       RUNNING ENGINES LAUNCHER\r\n",
       "default          1687877084-j6kq                  True          4 MPI\r\n"
      ]
     },
     "metadata": {},
     "output_type": "display_data"
    },
    {
     "data": {
      "text/plain": [
       "[stdout:1] PROFILE          CLUSTER ID                       RUNNING ENGINES LAUNCHER\r\n",
       "default          1687877084-j6kq                  True          4 MPI\r\n"
      ]
     },
     "metadata": {},
     "output_type": "display_data"
    }
   ],
   "source": [
    "!ipcluster list"
   ]
  },
  {
   "cell_type": "code",
   "execution_count": 4,
   "id": "a07eceb1-b645-4344-a681-2417f5af3fb6",
   "metadata": {},
   "outputs": [
    {
     "name": "stdout",
     "output_type": "stream",
     "text": [
      "%autopx enabled\n"
     ]
    }
   ],
   "source": [
    "%autopx --block --group-outputs=engine"
   ]
  },
  {
   "cell_type": "code",
   "execution_count": 33,
   "id": "25183cda-8486-449f-865a-54570d6734f2",
   "metadata": {},
   "outputs": [
    {
     "data": {
      "text/plain": [
       "[stdout:2] True\n"
      ]
     },
     "metadata": {},
     "output_type": "display_data"
    },
    {
     "data": {
      "text/plain": [
       "[stdout:1] True\n"
      ]
     },
     "metadata": {},
     "output_type": "display_data"
    },
    {
     "data": {
      "text/plain": [
       "[stdout:0] True\n"
      ]
     },
     "metadata": {},
     "output_type": "display_data"
    },
    {
     "data": {
      "text/plain": [
       "[stdout:3] True\n"
      ]
     },
     "metadata": {},
     "output_type": "display_data"
    }
   ],
   "source": [
    "import logging\n",
    "from pathlib import Path\n",
    "from time import strftime\n",
    "\n",
    "from mpi4py.MPI import COMM_WORLD\n",
    "world_size = COMM_WORLD.Get_size()\n",
    "world_rank = COMM_WORLD.Get_rank()\n",
    "\n",
    "LOGGER_NAME = 'QTM'\n",
    "LOGFILE_DIR = 'test.log'\n",
    "LOG_FORMAT = f'%(asctime)s - proc {world_rank}/{world_size} - level %(levelno)s: %(message)s'\n",
    "\n",
    "\n",
    "logger = logging.getLogger(LOGGER_NAME)\n",
    "print(logger.hasHandlers())\n",
    "\n",
    "logfile_path = Path(LOGFILE_DIR)\n",
    "if logfile_path.is_file():\n",
    "    COMM_WORLD.barrier()\n",
    "    if world_rank == 0:\n",
    "        logfile_path.rename(\n",
    "            logfile_path.with_suffix(\n",
    "                f'.pre{strftime(\"%Y%m%d-%H%M%S\")}' + logfile_path.suffix\n",
    "            ))\n",
    "    \n",
    "\n",
    "logger_file = logging.FileHandler(LOGFILE_DIR)\n",
    "logger_file.setLevel(logging.INFO)\n",
    "\n",
    "logger_fmt = logging.Formatter(LOG_FORMAT)\n",
    "\n",
    "logger_file.setFormatter(logger_fmt)\n",
    "logger.addHandler(logger_file)\n",
    "\n",
    "warn_logger = logging.getLogger('py.warnings')\n",
    "warn_logger.addHandler(logger_file)"
   ]
  },
  {
   "cell_type": "code",
   "execution_count": 34,
   "id": "72fd9ef9-12ee-422d-93ee-643741d86236",
   "metadata": {},
   "outputs": [
    {
     "name": "stdout",
     "output_type": "stream",
     "text": [
      "%px: 100%|██████████████████████████████████████████████████████████████████████████████████████████████████████████████████████████████████████████████████████████████████████████████████████████████████████████████████████████████| 4/4 [00:00<00:00, 444.42tasks/s]\n"
     ]
    }
   ],
   "source": [
    "from time import sleep\n",
    "\n",
    "# logger.handlers.clear()\n",
    "logger.setLevel(logging.DEBUG)\n",
    "logger_file.setLevel(logging.INFO)\n",
    "logger.info('Hello')\n",
    "if world_rank == 1:\n",
    "    sleep(2)\n",
    "    logger.warning('woke up')\n",
    "logger.debug('am here')"
   ]
  },
  {
   "cell_type": "code",
   "execution_count": 35,
   "id": "75949497-602e-4e30-bb18-70103e204e58",
   "metadata": {},
   "outputs": [],
   "source": [
    "from logging import captureWarnings\n",
    "import warnings\n",
    "\n",
    "captureWarnings(True)\n",
    "warnings.warn(\"A Warning\")\n"
   ]
  },
  {
   "cell_type": "code",
   "execution_count": 10,
   "id": "76f67656-3f88-47b3-8c33-7a3e55f7a331",
   "metadata": {},
   "outputs": [
    {
     "name": "stdout",
     "output_type": "stream",
     "text": [
      "%autopx disabled\n"
     ]
    }
   ],
   "source": [
    "%autopx --block --group-outputs=engine"
   ]
  },
  {
   "cell_type": "code",
   "execution_count": 11,
   "id": "bbc87b7a-b1d8-444d-ac67-4ed689301c65",
   "metadata": {},
   "outputs": [
    {
     "name": "stdout",
     "output_type": "stream",
     "text": [
      "Stopping engine(s): 1687876361\n",
      "Starting 4 engines with <class 'ipyparallel.cluster.launcher.MPIEngineSetLauncher'>\n",
      "engine set stopped 1687876361: {'exit_code': 1, 'pid': 10165, 'identifier': 'ipengine-1687876360-2zxj-1687876361-9810'}\n",
      "PROFILE          CLUSTER ID                       RUNNING ENGINES LAUNCHER\n",
      "default          1687876360-2zxj                  True          4 MPI\n"
     ]
    }
   ],
   "source": [
    "cluster.restart_engines_sync()\n",
    "!ipcluster list"
   ]
  }
 ],
 "metadata": {
  "kernelspec": {
   "display_name": "Python 3 (ipykernel)",
   "language": "python",
   "name": "python3"
  },
  "language_info": {
   "codemirror_mode": {
    "name": "ipython",
    "version": 3
   },
   "file_extension": ".py",
   "mimetype": "text/x-python",
   "name": "python",
   "nbconvert_exporter": "python",
   "pygments_lexer": "ipython3",
   "version": "3.11.0"
  }
 },
 "nbformat": 4,
 "nbformat_minor": 5
}
