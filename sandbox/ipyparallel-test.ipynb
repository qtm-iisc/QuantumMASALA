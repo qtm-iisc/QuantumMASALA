{
 "cells": [
  {
   "cell_type": "code",
   "execution_count": 1,
   "id": "e376e95c-e2c7-4c4a-90ab-08c31add0d37",
   "metadata": {},
   "outputs": [],
   "source": [
    "%load_ext autoreload\n",
    "%autoreload 2"
   ]
  },
  {
   "cell_type": "code",
   "execution_count": 2,
   "id": "e80f5c27-826f-4569-9ed0-85414d025ad3",
   "metadata": {},
   "outputs": [
    {
     "name": "stdout",
     "output_type": "stream",
     "text": [
      "(8, 6, 1)\n",
      "<Cluster(cluster_id='1687066366-d1qn', profile='default')>\n",
      "Starting 4 engines with <class 'ipyparallel.cluster.launcher.MPIEngineSetLauncher'>\n",
      "100%|███████████████████████████████████████████████████████████████████████████████████████████████████████████████████████████████████████████████████████████████████████████████████████████████████████████████████████████████████| 4/4 [00:05<00:00,  1.46s/engine]\n"
     ]
    },
    {
     "data": {
      "text/plain": [
       "[0, 1, 2, 3]"
      ]
     },
     "execution_count": 2,
     "metadata": {},
     "output_type": "execute_result"
    }
   ],
   "source": [
    "import ipyparallel as ipp\n",
    "print(ipp.version_info)\n",
    "from IPython.display import display\n",
    "\n",
    "nproc = 4\n",
    "cluster = ipp.Cluster(engines='mpi', n=nproc, shutdown_atexit=False)\n",
    "print(cluster)\n",
    "client = cluster.start_and_connect_sync(activate=True)\n",
    "view = client[:]\n",
    "client.ids\n"
   ]
  },
  {
   "cell_type": "code",
   "execution_count": 3,
   "id": "b572f539-6a72-4d13-baba-398517d2ec88",
   "metadata": {},
   "outputs": [
    {
     "name": "stdout",
     "output_type": "stream",
     "text": [
      "PROFILE          CLUSTER ID                       RUNNING ENGINES LAUNCHER\n",
      "default          1687062289-99ox                  True          4 MPI\n",
      "default          1687066366-d1qn                  True          4 MPI\n"
     ]
    }
   ],
   "source": [
    "!ipcluster list"
   ]
  },
  {
   "cell_type": "code",
   "execution_count": 4,
   "id": "159aed40-70e4-4f98-b89c-566064261c07",
   "metadata": {},
   "outputs": [
    {
     "name": "stdout",
     "output_type": "stream",
     "text": [
      "%autopx enabled\n"
     ]
    }
   ],
   "source": [
    "%autopx"
   ]
  },
  {
   "cell_type": "code",
   "execution_count": 5,
   "id": "1f2075bc-c93b-4116-9608-35bfb6eec3b3",
   "metadata": {},
   "outputs": [
    {
     "data": {
      "text/plain": [
       "[stdout:1] 1/4 -> 0 1\n"
      ]
     },
     "metadata": {},
     "output_type": "display_data"
    },
    {
     "data": {
      "text/plain": [
       "[stdout:3] 3/4 -> 1 1\n"
      ]
     },
     "metadata": {},
     "output_type": "display_data"
    },
    {
     "data": {
      "text/plain": [
       "[stdout:2] 2/4 -> 1 0\n"
      ]
     },
     "metadata": {},
     "output_type": "display_data"
    },
    {
     "data": {
      "text/plain": [
       "[stdout:0] 0/4 -> 0 0\n"
      ]
     },
     "metadata": {},
     "output_type": "display_data"
    }
   ],
   "source": [
    "from mpi4py.MPI import COMM_WORLD\n",
    "\n",
    "\n",
    "numkgrp = 2\n",
    "\n",
    "wrld_size = COMM_WORLD.Get_size()\n",
    "wrld_rank = COMM_WORLD.Get_rank()\n",
    "\n",
    "kgrp_size = wrld_size // numkgrp\n",
    "idxkgrp = wrld_rank // numkgrp\n",
    "kgrp_rank = wrld_rank % numkgrp\n",
    "\n",
    "\n",
    "kgrp_intracomm = COMM_WORLD.Split(idxkgrp, wrld_rank)\n",
    "kgrp_rank = kgrp_intracomm.Get_rank()\n",
    "\n",
    "print(f\"{wrld_rank}/{wrld_size} -> {idxkgrp} {kgrp_rank}\")"
   ]
  },
  {
   "cell_type": "code",
   "execution_count": 6,
   "id": "f61ec3d4-e955-40da-b668-e0a3f5cf1216",
   "metadata": {},
   "outputs": [
    {
     "data": {
      "text/plain": [
       "[stdout:0] True\n"
      ]
     },
     "metadata": {},
     "output_type": "display_data"
    },
    {
     "data": {
      "text/plain": [
       "[stdout:1] True\n"
      ]
     },
     "metadata": {},
     "output_type": "display_data"
    },
    {
     "data": {
      "text/plain": [
       "[stdout:3] True\n"
      ]
     },
     "metadata": {},
     "output_type": "display_data"
    },
    {
     "data": {
      "text/plain": [
       "[stdout:2] True\n"
      ]
     },
     "metadata": {},
     "output_type": "display_data"
    }
   ],
   "source": [
    "from mpi4py.MPI import COMM_NULL, COMM_SELF\n",
    "print(kgrp_intracomm.Get_parent() == COMM_NULL)"
   ]
  },
  {
   "cell_type": "code",
   "execution_count": 10,
   "id": "300be401-ccc1-4c1c-b368-0254c476fedc",
   "metadata": {},
   "outputs": [
    {
     "data": {
      "text/plain": [
       "[stdout:0] 0/4: False, True, True\n"
      ]
     },
     "metadata": {},
     "output_type": "display_data"
    },
    {
     "data": {
      "text/plain": [
       "[stdout:3] 3/4: False, True, True\n"
      ]
     },
     "metadata": {},
     "output_type": "display_data"
    },
    {
     "data": {
      "text/plain": [
       "[stdout:1] 1/4: True, True, True\n"
      ]
     },
     "metadata": {},
     "output_type": "display_data"
    },
    {
     "data": {
      "text/plain": [
       "[stdout:2] 2/4: False, True, True\n"
      ]
     },
     "metadata": {},
     "output_type": "display_data"
    }
   ],
   "source": [
    "from mpi4py.MPI import Group, Intracomm\n",
    "\n",
    "l_idxrank = [0, 2, 3]\n",
    "\n",
    "newcomm = COMM_WORLD.Create_group(\n",
    "    COMM_WORLD.Get_group().Incl(\n",
    "        l_idxrank\n",
    "    )\n",
    ")\n",
    "\n",
    "print(f\"{wrld_rank}/{wrld_size}: {newcomm == COMM_NULL}, {newcomm.Get_parent() == COMM_NULL}, {isinstance(newcomm, Intracomm)}\")"
   ]
  },
  {
   "cell_type": "code",
   "execution_count": 15,
   "id": "116ab426-b410-4b2c-adba-dc884eb8ec22",
   "metadata": {},
   "outputs": [
    {
     "data": {
      "text/plain": [
       "[stdout:0] True False False\n"
      ]
     },
     "metadata": {},
     "output_type": "display_data"
    }
   ],
   "source": [
    "from mpi4py.MPI import IDENT, SIMILAR, UNEQUAL\n",
    "if wrld_rank == 0:\n",
    "    grp_int = Group.Intersection(COMM_WORLD.Get_group(), newcomm.Get_group())\n",
    "    out = Group.Compare(newcomm.Get_group(), grp_int)\n",
    "    print(out == IDENT, out == SIMILAR, out == UNEQUAL)"
   ]
  },
  {
   "cell_type": "code",
   "execution_count": 16,
   "id": "f6f35d24-7dba-4019-8366-1335a750ba77",
   "metadata": {},
   "outputs": [
    {
     "name": "stderr",
     "output_type": "stream",
     "text": [
      "[1:execute]\n",
      "\u001B[0;31m---------------------------------------------------------------------------\u001B[0m\n",
      "\u001B[0;31mException\u001B[0m                                 Traceback (most recent call last)\n",
      "Cell \u001B[0;32mIn[12], line 1\u001B[0m\n",
      "\u001B[0;32m----> 1\u001B[0m \u001B[43mCOMM_NULL\u001B[49m\u001B[38;5;241;43m.\u001B[39;49m\u001B[43mbarrier\u001B[49m\u001B[43m(\u001B[49m\u001B[43m)\u001B[49m\n",
      "\n",
      "File \u001B[0;32mmpi4py/MPI/Comm.pyx:1560\u001B[0m, in \u001B[0;36mmpi4py.MPI.Comm.barrier\u001B[0;34m()\u001B[0m\n",
      "\n",
      "File \u001B[0;32mmpi4py/MPI/msgpickle.pxi:690\u001B[0m, in \u001B[0;36mmpi4py.MPI.PyMPI_barrier\u001B[0;34m()\u001B[0m\n",
      "\n",
      "\u001B[0;31mException\u001B[0m: MPI_ERR_COMM: invalid communicator\n",
      "[0:execute]\n",
      "\u001B[0;31m---------------------------------------------------------------------------\u001B[0m\n",
      "\u001B[0;31mException\u001B[0m                                 Traceback (most recent call last)\n",
      "Cell \u001B[0;32mIn[12], line 1\u001B[0m\n",
      "\u001B[0;32m----> 1\u001B[0m \u001B[43mCOMM_NULL\u001B[49m\u001B[38;5;241;43m.\u001B[39;49m\u001B[43mbarrier\u001B[49m\u001B[43m(\u001B[49m\u001B[43m)\u001B[49m\n",
      "\n",
      "File \u001B[0;32mmpi4py/MPI/Comm.pyx:1560\u001B[0m, in \u001B[0;36mmpi4py.MPI.Comm.barrier\u001B[0;34m()\u001B[0m\n",
      "\n",
      "File \u001B[0;32mmpi4py/MPI/msgpickle.pxi:690\u001B[0m, in \u001B[0;36mmpi4py.MPI.PyMPI_barrier\u001B[0;34m()\u001B[0m\n",
      "\n",
      "\u001B[0;31mException\u001B[0m: MPI_ERR_COMM: invalid communicator\n",
      "[2:execute]\n",
      "\u001B[0;31m---------------------------------------------------------------------------\u001B[0m\n",
      "\u001B[0;31mException\u001B[0m                                 Traceback (most recent call last)\n",
      "Cell \u001B[0;32mIn[12], line 1\u001B[0m\n",
      "\u001B[0;32m----> 1\u001B[0m \u001B[43mCOMM_NULL\u001B[49m\u001B[38;5;241;43m.\u001B[39;49m\u001B[43mbarrier\u001B[49m\u001B[43m(\u001B[49m\u001B[43m)\u001B[49m\n",
      "\n",
      "File \u001B[0;32mmpi4py/MPI/Comm.pyx:1560\u001B[0m, in \u001B[0;36mmpi4py.MPI.Comm.barrier\u001B[0;34m()\u001B[0m\n",
      "\n",
      "File \u001B[0;32mmpi4py/MPI/msgpickle.pxi:690\u001B[0m, in \u001B[0;36mmpi4py.MPI.PyMPI_barrier\u001B[0;34m()\u001B[0m\n",
      "\n",
      "\u001B[0;31mException\u001B[0m: MPI_ERR_COMM: invalid communicator\n",
      "[3:execute]\n",
      "\u001B[0;31m---------------------------------------------------------------------------\u001B[0m\n",
      "\u001B[0;31mException\u001B[0m                                 Traceback (most recent call last)\n",
      "Cell \u001B[0;32mIn[12], line 1\u001B[0m\n",
      "\u001B[0;32m----> 1\u001B[0m \u001B[43mCOMM_NULL\u001B[49m\u001B[38;5;241;43m.\u001B[39;49m\u001B[43mbarrier\u001B[49m\u001B[43m(\u001B[49m\u001B[43m)\u001B[49m\n",
      "\n",
      "File \u001B[0;32mmpi4py/MPI/Comm.pyx:1560\u001B[0m, in \u001B[0;36mmpi4py.MPI.Comm.barrier\u001B[0;34m()\u001B[0m\n",
      "\n",
      "File \u001B[0;32mmpi4py/MPI/msgpickle.pxi:690\u001B[0m, in \u001B[0;36mmpi4py.MPI.PyMPI_barrier\u001B[0;34m()\u001B[0m\n",
      "\n",
      "\u001B[0;31mException\u001B[0m: MPI_ERR_COMM: invalid communicator\n"
     ]
    },
    {
     "ename": "AlreadyDisplayedError",
     "evalue": "4 errors",
     "output_type": "error",
     "traceback": [
      "4 errors"
     ]
    }
   ],
   "source": [
    "COMM_NULL.barrier()"
   ]
  },
  {
   "cell_type": "code",
   "execution_count": 10,
   "id": "8c152be9-a9eb-4188-a011-f9952b5efd6f",
   "metadata": {},
   "outputs": [
    {
     "data": {
      "text/plain": [
       "[stdout:0] 4\n"
      ]
     },
     "metadata": {},
     "output_type": "display_data"
    },
    {
     "data": {
      "text/plain": [
       "[stdout:2] 4\n"
      ]
     },
     "metadata": {},
     "output_type": "display_data"
    },
    {
     "data": {
      "text/plain": [
       "[stdout:3] 4\n"
      ]
     },
     "metadata": {},
     "output_type": "display_data"
    },
    {
     "data": {
      "text/plain": [
       "[stdout:1] 4\n"
      ]
     },
     "metadata": {},
     "output_type": "display_data"
    },
    {
     "name": "stderr",
     "output_type": "stream",
     "text": [
      "[1:execute]\n",
      "\u001B[0;31m---------------------------------------------------------------------------\u001B[0m\n",
      "\u001B[0;31mZeroDivisionError\u001B[0m                         Traceback (most recent call last)\n",
      "File \u001B[0;32m~/qtmpy/src/qtmpy/mpi/comm.py:68\u001B[0m, in \u001B[0;36mCommMod.__exit__\u001B[0;34m(***failed resolving arguments***)\u001B[0m\n",
      "\u001B[1;32m     67\u001B[0m     \u001B[38;5;28;01mif\u001B[39;00m \u001B[38;5;28misinstance\u001B[39m(exc_val, \u001B[38;5;167;01mException\u001B[39;00m):\n",
      "\u001B[0;32m---> 68\u001B[0m         \u001B[38;5;28;01mraise\u001B[39;00m exc_val\n",
      "\u001B[1;32m     69\u001B[0m \u001B[38;5;28;01mexcept\u001B[39;00m \u001B[38;5;167;01mException\u001B[39;00m \u001B[38;5;28;01mas\u001B[39;00m exc_val:\n",
      "\n",
      "Cell \u001B[0;32mIn[3], line 28\u001B[0m\n",
      "\u001B[1;32m     27\u001B[0m \u001B[38;5;28;01mif\u001B[39;00m comm_rank \u001B[38;5;241m==\u001B[39m \u001B[38;5;241m1\u001B[39m:\n",
      "\u001B[0;32m---> 28\u001B[0m     \u001B[38;5;28mprint\u001B[39m(\u001B[38;5;241;43m1\u001B[39;49m\u001B[38;5;241;43m/\u001B[39;49m\u001B[38;5;241;43m0\u001B[39;49m)\n",
      "\u001B[1;32m     29\u001B[0m val_final \u001B[38;5;241m=\u001B[39m (comm_size \u001B[38;5;241m-\u001B[39m \u001B[38;5;241m1\u001B[39m) \u001B[38;5;241m*\u001B[39m comm_size \u001B[38;5;241m/\u001B[39m\u001B[38;5;241m/\u001B[39m \u001B[38;5;241m2\u001B[39m\n",
      "\n",
      "\u001B[0;31mZeroDivisionError\u001B[0m: division by zero\n",
      "\n",
      "The above exception was the direct cause of the following exception:\n",
      "\n",
      "\u001B[0;31mException\u001B[0m                                 Traceback (most recent call last)\n",
      "Cell \u001B[0;32mIn[3], line 22\u001B[0m\n",
      "\u001B[1;32m     18\u001B[0m         \u001B[38;5;28mself\u001B[39m\u001B[38;5;241m.\u001B[39mbuffer[:] \u001B[38;5;241m=\u001B[39m val\n",
      "\u001B[1;32m     21\u001B[0m check \u001B[38;5;241m=\u001B[39m \u001B[38;5;28;01mNone\u001B[39;00m\n",
      "\u001B[0;32m---> 22\u001B[0m \u001B[38;5;28;43;01mwith\u001B[39;49;00m\u001B[43m \u001B[49m\u001B[43mCommMod\u001B[49m\u001B[43m(\u001B[49m\u001B[43mMPI\u001B[49m\u001B[38;5;241;43m.\u001B[39;49m\u001B[43mCOMM_WORLD\u001B[49m\u001B[43m)\u001B[49m\u001B[43m \u001B[49m\u001B[38;5;28;43;01mas\u001B[39;49;00m\u001B[43m \u001B[49m\u001B[43mcomm\u001B[49m\u001B[43m:\u001B[49m\n",
      "\u001B[1;32m     23\u001B[0m \u001B[43m    \u001B[49m\u001B[43mcomm_size\u001B[49m\u001B[43m,\u001B[49m\u001B[43m \u001B[49m\u001B[43mcomm_rank\u001B[49m\u001B[43m \u001B[49m\u001B[38;5;241;43m=\u001B[39;49m\u001B[43m \u001B[49m\u001B[43mcomm\u001B[49m\u001B[38;5;241;43m.\u001B[39;49m\u001B[43mGet_size\u001B[49m\u001B[43m(\u001B[49m\u001B[43m)\u001B[49m\u001B[43m,\u001B[49m\u001B[43m \u001B[49m\u001B[43mcomm\u001B[49m\u001B[38;5;241;43m.\u001B[39;49m\u001B[43mGet_rank\u001B[49m\u001B[43m(\u001B[49m\u001B[43m)\u001B[49m\n",
      "\u001B[1;32m     25\u001B[0m \u001B[43m    \u001B[49m\u001B[43marr\u001B[49m\u001B[43m \u001B[49m\u001B[38;5;241;43m=\u001B[39;49m\u001B[43m \u001B[49m\u001B[43mTest\u001B[49m\u001B[43m(\u001B[49m\u001B[43mcomm_rank\u001B[49m\u001B[43m)\u001B[49m\n",
      "\n",
      "File \u001B[0;32m~/qtmpy/src/qtmpy/mpi/comm.py:70\u001B[0m, in \u001B[0;36mCommMod.__exit__\u001B[0;34m(***failed resolving arguments***)\u001B[0m\n",
      "\u001B[1;32m     68\u001B[0m         \u001B[38;5;28;01mraise\u001B[39;00m exc_val\n",
      "\u001B[1;32m     69\u001B[0m \u001B[38;5;28;01mexcept\u001B[39;00m \u001B[38;5;167;01mException\u001B[39;00m \u001B[38;5;28;01mas\u001B[39;00m exc_val:\n",
      "\u001B[0;32m---> 70\u001B[0m     \u001B[38;5;28;01mraise\u001B[39;00m \u001B[38;5;167;01mException\u001B[39;00m(\n",
      "\u001B[1;32m     71\u001B[0m         \u001B[38;5;124mf\u001B[39m\u001B[38;5;124m\"\u001B[39m\u001B[38;5;124mProcess # \u001B[39m\u001B[38;5;132;01m{\u001B[39;00m\u001B[38;5;28mself\u001B[39m\u001B[38;5;241m.\u001B[39mglob_rank\u001B[38;5;132;01m}\u001B[39;00m\u001B[38;5;124m / \u001B[39m\u001B[38;5;132;01m{\u001B[39;00m\u001B[38;5;28mself\u001B[39m\u001B[38;5;241m.\u001B[39mglob_size\u001B[38;5;132;01m}\u001B[39;00m\u001B[38;5;124m has encountered \u001B[39m\u001B[38;5;124m\"\u001B[39m\n",
      "\u001B[1;32m     72\u001B[0m         \u001B[38;5;124mf\u001B[39m\u001B[38;5;124m\"\u001B[39m\u001B[38;5;124man exception. Please refer above for further info.\u001B[39m\u001B[38;5;124m\"\u001B[39m\n",
      "\u001B[1;32m     73\u001B[0m     ) \u001B[38;5;28;01mfrom\u001B[39;00m \u001B[38;5;21;01mexc_val\u001B[39;00m\n",
      "\u001B[1;32m     75\u001B[0m \u001B[38;5;28mself\u001B[39m\u001B[38;5;241m.\u001B[39mbarrier()\n",
      "\u001B[1;32m     76\u001B[0m \u001B[38;5;28;01mif\u001B[39;00m \u001B[38;5;28mself\u001B[39m\u001B[38;5;241m.\u001B[39mparent_comm \u001B[38;5;129;01mis\u001B[39;00m \u001B[38;5;129;01mnot\u001B[39;00m \u001B[38;5;28;01mNone\u001B[39;00m:\n",
      "\n",
      "\u001B[0;31mException\u001B[0m: Process # 1 / 4 has encountered an exception. Please refer above for further info.\n"
     ]
    },
    {
     "name": "stdout",
     "output_type": "stream",
     "text": [
      "%px:  25%|███████████████████████████████████████████████████████▊                                                                                                                                                                       | 1/4 [00:31<01:35, 31.92s/tasks]\n"
     ]
    },
    {
     "name": "stderr",
     "output_type": "stream",
     "text": [
      "Received Keyboard Interrupt. Sending signal SIGINT to engines...\n"
     ]
    }
   ],
   "source": [
    "%%px\n",
    "import ipyparallel as ipp\n",
    "\n",
    "import numpy as np\n",
    "from mpi4py import MPI\n",
    "from mpi4py.MPI import IN_PLACE, SUM, Intracomm\n",
    "from mpi4py_fft import DistArray\n",
    "\n",
    "from qtmpy.mpi.comm import CommMod\n",
    "\n",
    "\n",
    "\n",
    "class Test:\n",
    "\n",
    "    shape = (10, 10)\n",
    "\n",
    "    def __init__(self, val):\n",
    "        self.buffer = np.empty(self.shape, dtype='i8')\n",
    "        self.buffer[:] = val\n",
    "\n",
    "        \n",
    "check = None\n",
    "with CommMod(MPI.COMM_WORLD) as comm:\n",
    "    comm_size, comm_rank = comm.Get_size(), comm.Get_rank()\n",
    "\n",
    "    arr = Test(comm_rank)\n",
    "    print(comm_size)\n",
    "    if comm_rank == 1:\n",
    "        print(1/0)\n",
    "    val_final = (comm_size - 1) * comm_size // 2\n",
    "    comm.Allreduce_sum_inplace(arr.buffer)\n",
    "    check = np.all(arr.buffer == val_final)\n",
    "\n",
    "print(f\"{comm_rank}/{comm_size}: {check}\")"
   ]
  },
  {
   "cell_type": "code",
   "execution_count": 11,
   "id": "a4f954c5-ba71-4ee7-9427-f1ada0cb1d4a",
   "metadata": {
    "tags": []
   },
   "outputs": [
    {
     "name": "stdout",
     "output_type": "stream",
     "text": [
      "PROFILE          CLUSTER ID                       RUNNING ENGINES LAUNCHER\n",
      "default          1687061752-k8hg                  True          0 MPI\n",
      "default          1687061963-e5sr                  True          0 MPI\n",
      "default          1687062222-1rs4                  True          4 MPI\n"
     ]
    }
   ],
   "source": [
    "!ipcluster list"
   ]
  },
  {
   "cell_type": "code",
   "execution_count": null,
   "id": "39ff1042-0b37-4fb4-89f4-bfc15cddaf0f",
   "metadata": {},
   "outputs": [],
   "source": [
    "!ipcluster list"
   ]
  },
  {
   "cell_type": "code",
   "execution_count": null,
   "id": "6279abb4-b8d4-4cda-8c27-a048ef4a78e9",
   "metadata": {},
   "outputs": [],
   "source": [
    "cluster.restart_engines_sync()"
   ]
  },
  {
   "cell_type": "code",
   "execution_count": 5,
   "id": "4ced3517-5183-4968-9ed3-2fc7b5b36e0a",
   "metadata": {},
   "outputs": [
    {
     "data": {
      "text/plain": [
       "[stdout:2] WARNING: More than 1 'ipyparallel.Cluster' instances detected. Interrupts might not be signalled to the correct cluster.\n",
       "Selecting cluster-id: <Cluster(cluster_id='1687061963-e5sr', profile='default', controller=<running>, engine_sets=['1687061964'])>\n",
       "4\n",
       "2/4: True\n"
      ]
     },
     "metadata": {},
     "output_type": "display_data"
    },
    {
     "data": {
      "text/plain": [
       "[stdout:0] WARNING: More than 1 'ipyparallel.Cluster' instances detected. Interrupts might not be signalled to the correct cluster.\n",
       "Selecting cluster-id: <Cluster(cluster_id='1687061963-e5sr', profile='default', controller=<running>, engine_sets=['1687061964'])>\n",
       "4\n",
       "0/4: True\n"
      ]
     },
     "metadata": {},
     "output_type": "display_data"
    },
    {
     "data": {
      "text/plain": [
       "[stdout:1] WARNING: More than 1 'ipyparallel.Cluster' instances detected. Interrupts might not be signalled to the correct cluster.\n",
       "Selecting cluster-id: <Cluster(cluster_id='1687061963-e5sr', profile='default', controller=<running>, engine_sets=['1687061964'])>\n",
       "4\n",
       "1/4: True\n"
      ]
     },
     "metadata": {},
     "output_type": "display_data"
    },
    {
     "data": {
      "text/plain": [
       "[stdout:3] WARNING: More than 1 'ipyparallel.Cluster' instances detected. Interrupts might not be signalled to the correct cluster.\n",
       "Selecting cluster-id: <Cluster(cluster_id='1687061963-e5sr', profile='default', controller=<running>, engine_sets=['1687061964'])>\n",
       "4\n",
       "3/4: True\n"
      ]
     },
     "metadata": {},
     "output_type": "display_data"
    }
   ],
   "source": [
    "import ipyparallel as ipp\n",
    "\n",
    "import numpy as np\n",
    "from mpi4py import MPI\n",
    "from mpi4py.MPI import IN_PLACE, SUM\n",
    "from mpi4py_fft import DistArray\n",
    "\n",
    "from qtmpy.mpi.comm import CommMod\n",
    "\n",
    "\n",
    "\n",
    "class Test:\n",
    "\n",
    "    shape = (10, 10)\n",
    "\n",
    "    def __init__(self, val):\n",
    "        self.buffer = np.empty(self.shape, dtype='i8')\n",
    "        self.buffer[:] = val\n",
    "\n",
    "        \n",
    "check = None\n",
    "with CommMod(MPI.COMM_WORLD) as comm:\n",
    "    comm_size, comm_rank = comm.Get_size(), comm.Get_rank()\n",
    "\n",
    "    arr = Test(comm_rank)\n",
    "    print(comm_size)\n",
    "    val_final = (comm_size - 1) * comm_size // 2\n",
    "    comm.Allreduce_sum_inplace(arr.buffer)\n",
    "    check = np.all(arr.buffer == val_final)\n",
    "\n",
    "print(f\"{comm_rank}/{comm_size}: {check}\")"
   ]
  },
  {
   "cell_type": "code",
   "execution_count": 6,
   "id": "ef01e7b3-6a04-4004-b5ab-a8d01db4f8f3",
   "metadata": {},
   "outputs": [
    {
     "data": {
      "text/plain": [
       "[stdout:0] True\n"
      ]
     },
     "metadata": {},
     "output_type": "display_data"
    },
    {
     "data": {
      "text/plain": [
       "[stdout:1] True\n"
      ]
     },
     "metadata": {},
     "output_type": "display_data"
    },
    {
     "data": {
      "text/plain": [
       "[stdout:2] True\n"
      ]
     },
     "metadata": {},
     "output_type": "display_data"
    },
    {
     "data": {
      "text/plain": [
       "[stdout:3] True\n"
      ]
     },
     "metadata": {},
     "output_type": "display_data"
    }
   ],
   "source": [
    "print(check)"
   ]
  },
  {
   "cell_type": "code",
   "execution_count": null,
   "id": "7171f5f9-956c-49e3-a356-cc4e8ca6e58d",
   "metadata": {},
   "outputs": [],
   "source": []
  }
 ],
 "metadata": {
  "kernelspec": {
   "display_name": "Python 3 (ipykernel)",
   "language": "python",
   "name": "python3"
  },
  "language_info": {
   "codemirror_mode": {
    "name": "ipython",
    "version": 3
   },
   "file_extension": ".py",
   "mimetype": "text/x-python",
   "name": "python",
   "nbconvert_exporter": "python",
   "pygments_lexer": "ipython3",
   "version": "3.11.0"
  }
 },
 "nbformat": 4,
 "nbformat_minor": 5
}
