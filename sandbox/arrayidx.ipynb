{
 "cells": [
  {
   "cell_type": "code",
   "execution_count": 1,
   "id": "9fb522ad-2ada-4ec3-9668-ab050ed1c66f",
   "metadata": {},
   "outputs": [
    {
     "name": "stdout",
     "output_type": "stream",
     "text": [
      "Shape: (2, 4) + (10,)\n",
      "Mask\n",
      "[ True  True False  True False  True  True  True  True False]\n",
      "Count: 7, Indices: [0 1 3 5 6 7 8]\n"
     ]
    }
   ],
   "source": [
    "import numpy as np\n",
    "\n",
    "shape_head = (2, 4)\n",
    "shape_tail = (10, )\n",
    "\n",
    "dat = np.random.rand(*(*shape_head, *shape_tail))\n",
    "dat_bak= dat.copy()\n",
    "\n",
    "print(f\"Shape: {shape_head} + {shape_tail}\")\n",
    "\n",
    "mask = np.random.rand(*shape_tail) > 0.5\n",
    "idx = np.nonzero(mask)\n",
    "\n",
    "print(\"Mask\")\n",
    "print(mask)\n",
    "print(f\"Count: {np.sum(mask)}, Indices: {idx[0]}\")"
   ]
  },
  {
   "cell_type": "code",
   "execution_count": 2,
   "id": "35ac2de6-85ac-4258-a562-870762f92606",
   "metadata": {},
   "outputs": [
    {
     "name": "stdout",
     "output_type": "stream",
     "text": [
      "(2, 4, 7) (7, 2, 4) False\n",
      "False\n",
      "[[[0.         0.         0.05083801 0.         0.59172221 0.\n",
      "   0.         0.         0.         0.41339882]\n",
      "  [0.         0.         0.25706593 0.         0.53193681 0.\n",
      "   0.         0.         0.         0.0061467 ]\n",
      "  [0.         0.         0.42510126 0.         0.7048283  0.\n",
      "   0.         0.         0.         0.81593823]\n",
      "  [0.         0.         0.06278819 0.         0.21090457 0.\n",
      "   0.         0.         0.         0.63549142]]\n",
      "\n",
      " [[0.         0.         0.12261577 0.         0.91980184 0.\n",
      "   0.         0.         0.         0.88885465]\n",
      "  [0.         0.         0.32996032 0.         0.90220704 0.\n",
      "   0.         0.         0.         0.40586513]\n",
      "  [0.         0.         0.83317625 0.         0.02073766 0.\n",
      "   0.         0.         0.         0.54659591]\n",
      "  [0.         0.         0.92098642 0.         0.28628369 0.\n",
      "   0.         0.         0.         0.326205  ]]]\n"
     ]
    }
   ],
   "source": [
    "# Accessing\n",
    "sl = (slice(None), ) * len(shape_head) + (mask, )\n",
    "print(dat[sl].shape, dat[sl].base.shape, dat[sl].base is dat)\n",
    "\n",
    "# Writing\n",
    "dat[sl] = 0\n",
    "print(np.all(dat == dat_bak))\n",
    "print(dat)\n",
    "\n",
    "# Restoring array\n",
    "dat[:] = dat_bak"
   ]
  },
  {
   "cell_type": "code",
   "execution_count": 3,
   "id": "13fd67ab-d9f3-442c-8304-6410955adedc",
   "metadata": {},
   "outputs": [
    {
     "name": "stdout",
     "output_type": "stream",
     "text": [
      "(2, 4, 7) (7, 2, 4) False\n",
      "False\n",
      "[[[0.         0.         0.05083801 0.         0.59172221 0.\n",
      "   0.         0.         0.         0.41339882]\n",
      "  [0.         0.         0.25706593 0.         0.53193681 0.\n",
      "   0.         0.         0.         0.0061467 ]\n",
      "  [0.         0.         0.42510126 0.         0.7048283  0.\n",
      "   0.         0.         0.         0.81593823]\n",
      "  [0.         0.         0.06278819 0.         0.21090457 0.\n",
      "   0.         0.         0.         0.63549142]]\n",
      "\n",
      " [[0.         0.         0.12261577 0.         0.91980184 0.\n",
      "   0.         0.         0.         0.88885465]\n",
      "  [0.         0.         0.32996032 0.         0.90220704 0.\n",
      "   0.         0.         0.         0.40586513]\n",
      "  [0.         0.         0.83317625 0.         0.02073766 0.\n",
      "   0.         0.         0.         0.54659591]\n",
      "  [0.         0.         0.92098642 0.         0.28628369 0.\n",
      "   0.         0.         0.         0.326205  ]]]\n"
     ]
    }
   ],
   "source": [
    "# Accessing\n",
    "sl = (slice(None), ) * len(shape_head) + idx\n",
    "print(dat[sl].shape, dat[sl].base.shape, dat[sl].base is dat)\n",
    "\n",
    "# Writing\n",
    "dat[sl] = 0\n",
    "print(np.all(dat == dat_bak))\n",
    "print(dat)\n",
    "\n",
    "# Restoring array\n",
    "dat[:] = dat_bak"
   ]
  },
  {
   "cell_type": "code",
   "execution_count": 4,
   "id": "c1ec46d8-5820-45bd-a602-521e76453835",
   "metadata": {},
   "outputs": [
    {
     "name": "stdout",
     "output_type": "stream",
     "text": [
      "Shape: (2, 4) + (3, 5)\n",
      "Mask\n",
      "[[False  True  True False  True]\n",
      " [False  True  True False  True]\n",
      " [ True  True False False False]]\n",
      "Count: 8, Indices:\n",
      "[[0 0 0 1 1 1 2 2]\n",
      " [1 2 4 1 2 4 0 1]]\n"
     ]
    }
   ],
   "source": [
    "import numpy as np\n",
    "\n",
    "shape_head = (2, 4)\n",
    "shape_tail = (3, 5)\n",
    "\n",
    "dat = np.random.rand(*(*shape_head, *shape_tail))\n",
    "dat_bak= dat.copy()\n",
    "\n",
    "print(f\"Shape: {shape_head} + {shape_tail}\")\n",
    "\n",
    "mask = np.random.rand(*shape_tail) > 0.5\n",
    "idx = np.nonzero(mask)\n",
    "\n",
    "print(\"Mask\")\n",
    "print(mask)\n",
    "print(f\"Count: {np.sum(mask)}, Indices:\\n{np.array(idx)}\")"
   ]
  },
  {
   "cell_type": "code",
   "execution_count": 5,
   "id": "059c079e-8340-48c6-88b1-53a5e5803511",
   "metadata": {},
   "outputs": [
    {
     "name": "stdout",
     "output_type": "stream",
     "text": [
      "(2, 4, 8) (8, 2, 4) False\n",
      "False\n",
      "[[[[0.37862546 0.         0.         0.95049346 0.        ]\n",
      "   [0.44748575 0.         0.         0.2604028  0.        ]\n",
      "   [0.         0.         0.9130436  0.37846377 0.38842555]]\n",
      "\n",
      "  [[0.90823889 0.         0.         0.00620796 0.        ]\n",
      "   [0.8545222  0.         0.         0.94112365 0.        ]\n",
      "   [0.         0.         0.89834424 0.60395757 0.97621934]]\n",
      "\n",
      "  [[0.9459852  0.         0.         0.89419759 0.        ]\n",
      "   [0.24887895 0.         0.         0.26558549 0.        ]\n",
      "   [0.         0.         0.73434074 0.09681712 0.9126964 ]]\n",
      "\n",
      "  [[0.15504323 0.         0.         0.79921166 0.        ]\n",
      "   [0.86846969 0.         0.         0.01136617 0.        ]\n",
      "   [0.         0.         0.07326025 0.99345128 0.24734726]]]\n",
      "\n",
      "\n",
      " [[[0.95528074 0.         0.         0.02761119 0.        ]\n",
      "   [0.87445408 0.         0.         0.12240327 0.        ]\n",
      "   [0.         0.         0.5818263  0.74234262 0.59950214]]\n",
      "\n",
      "  [[0.0170425  0.         0.         0.50250744 0.        ]\n",
      "   [0.80518906 0.         0.         0.22827429 0.        ]\n",
      "   [0.         0.         0.73370905 0.5680161  0.00705267]]\n",
      "\n",
      "  [[0.05515316 0.         0.         0.40581166 0.        ]\n",
      "   [0.96174308 0.         0.         0.19502594 0.        ]\n",
      "   [0.         0.         0.66539865 0.73303176 0.11986708]]\n",
      "\n",
      "  [[0.3578962  0.         0.         0.38966836 0.        ]\n",
      "   [0.95898471 0.         0.         0.69039786 0.        ]\n",
      "   [0.         0.         0.73007097 0.37049164 0.08633658]]]]\n"
     ]
    }
   ],
   "source": [
    "# Accessing\n",
    "sl = (slice(None), ) * len(shape_head) + (mask, )\n",
    "print(dat[sl].shape, dat[sl].base.shape, dat[sl].base is dat)\n",
    "\n",
    "# Writing\n",
    "dat[sl] = 0\n",
    "print(np.all(dat == dat_bak))\n",
    "print(dat)\n",
    "\n",
    "# Restoring array\n",
    "dat[:] = dat_bak"
   ]
  },
  {
   "cell_type": "code",
   "execution_count": 6,
   "id": "4b981d39-14d5-45cd-8977-35814e1c579a",
   "metadata": {},
   "outputs": [
    {
     "name": "stdout",
     "output_type": "stream",
     "text": [
      "(2, 4, 8) (8, 2, 4) False\n",
      "False\n",
      "[[[[0.37862546 0.         0.         0.95049346 0.        ]\n",
      "   [0.44748575 0.         0.         0.2604028  0.        ]\n",
      "   [0.         0.         0.9130436  0.37846377 0.38842555]]\n",
      "\n",
      "  [[0.90823889 0.         0.         0.00620796 0.        ]\n",
      "   [0.8545222  0.         0.         0.94112365 0.        ]\n",
      "   [0.         0.         0.89834424 0.60395757 0.97621934]]\n",
      "\n",
      "  [[0.9459852  0.         0.         0.89419759 0.        ]\n",
      "   [0.24887895 0.         0.         0.26558549 0.        ]\n",
      "   [0.         0.         0.73434074 0.09681712 0.9126964 ]]\n",
      "\n",
      "  [[0.15504323 0.         0.         0.79921166 0.        ]\n",
      "   [0.86846969 0.         0.         0.01136617 0.        ]\n",
      "   [0.         0.         0.07326025 0.99345128 0.24734726]]]\n",
      "\n",
      "\n",
      " [[[0.95528074 0.         0.         0.02761119 0.        ]\n",
      "   [0.87445408 0.         0.         0.12240327 0.        ]\n",
      "   [0.         0.         0.5818263  0.74234262 0.59950214]]\n",
      "\n",
      "  [[0.0170425  0.         0.         0.50250744 0.        ]\n",
      "   [0.80518906 0.         0.         0.22827429 0.        ]\n",
      "   [0.         0.         0.73370905 0.5680161  0.00705267]]\n",
      "\n",
      "  [[0.05515316 0.         0.         0.40581166 0.        ]\n",
      "   [0.96174308 0.         0.         0.19502594 0.        ]\n",
      "   [0.         0.         0.66539865 0.73303176 0.11986708]]\n",
      "\n",
      "  [[0.3578962  0.         0.         0.38966836 0.        ]\n",
      "   [0.95898471 0.         0.         0.69039786 0.        ]\n",
      "   [0.         0.         0.73007097 0.37049164 0.08633658]]]]\n"
     ]
    }
   ],
   "source": [
    "# Accessing\n",
    "sl = (slice(None), ) * len(shape_head) + idx\n",
    "print(dat[sl].shape, dat[sl].base.shape, dat[sl].base is dat)\n",
    "\n",
    "# Writing\n",
    "dat[sl] = 0\n",
    "print(np.all(dat == dat_bak))\n",
    "print(dat)\n",
    "\n",
    "# Restoring array\n",
    "dat[:] = dat_bak"
   ]
  },
  {
   "cell_type": "code",
   "execution_count": 7,
   "id": "abdac3a8-b5e8-42ad-aa20-00f4e68109fa",
   "metadata": {},
   "outputs": [],
   "source": [
    "class Test:\n",
    "    def __init__(self):\n",
    "        self.num = 10\n",
    "        \n",
    "    def __eq__(self, other):\n",
    "        if self.num == other.num:\n",
    "            return True\n",
    "        return False"
   ]
  },
  {
   "cell_type": "code",
   "execution_count": 11,
   "id": "3b858197-96cf-4a6e-a5fa-a9bd7add84c6",
   "metadata": {},
   "outputs": [
    {
     "data": {
      "text/plain": [
       "False"
      ]
     },
     "execution_count": 11,
     "metadata": {},
     "output_type": "execute_result"
    }
   ],
   "source": [
    "t = Test()\n",
    "hasattr(t, '__add__')"
   ]
  },
  {
   "cell_type": "code",
   "execution_count": 5,
   "id": "d64acae4-85ed-4464-a868-bd86a3169050",
   "metadata": {},
   "outputs": [
    {
     "name": "stdout",
     "output_type": "stream",
     "text": [
      "complex128 complex128\n"
     ]
    }
   ],
   "source": [
    "import numpy as np\n",
    "\n",
    "s1 = (10, 10)\n",
    "s2 = (5, 10)\n",
    "\n",
    "A = np.random.rand(*s1) + 1j * np.random.rand(*s1)\n",
    "B = np.random.rand(*s2) + 1j * np.random.rand(*s2)\n",
    "\n",
    "print(A.dtype, B.dtype)"
   ]
  },
  {
   "cell_type": "code",
   "execution_count": 6,
   "id": "48523ece-743f-4800-b57d-aef5264138cf",
   "metadata": {},
   "outputs": [
    {
     "ename": "AttributeError",
     "evalue": "'numpy.ndarray' object has no attribute '_array'",
     "output_type": "error",
     "traceback": [
      "\u001B[0;31m---------------------------------------------------------------------------\u001B[0m",
      "\u001B[0;31mAttributeError\u001B[0m                            Traceback (most recent call last)",
      "Cell \u001B[0;32mIn[6], line 2\u001B[0m\n\u001B[1;32m      1\u001B[0m \u001B[38;5;28;01mfrom\u001B[39;00m \u001B[38;5;21;01mnumpy\u001B[39;00m\u001B[38;5;21;01m.\u001B[39;00m\u001B[38;5;21;01marray_api\u001B[39;00m \u001B[38;5;28;01mimport\u001B[39;00m vecdot\n\u001B[0;32m----> 2\u001B[0m C \u001B[38;5;241m=\u001B[39m \u001B[43mvecdot\u001B[49m\u001B[43m(\u001B[49m\u001B[43mA\u001B[49m\u001B[38;5;241;43m.\u001B[39;49m\u001B[43mreal\u001B[49m\u001B[43m,\u001B[49m\u001B[43m \u001B[49m\u001B[43mB\u001B[49m\u001B[38;5;241;43m.\u001B[39;49m\u001B[43mreal\u001B[49m\u001B[43m,\u001B[49m\u001B[43m \u001B[49m\u001B[43maxis\u001B[49m\u001B[38;5;241;43m=\u001B[39;49m\u001B[38;5;241;43m1\u001B[39;49m\u001B[43m)\u001B[49m\n",
      "File \u001B[0;32m~/miniconda3/envs/qtmpy_new/lib/python3.11/site-packages/numpy/array_api/linalg.py:388\u001B[0m, in \u001B[0;36mvecdot\u001B[0;34m(x1, x2, axis)\u001B[0m\n\u001B[1;32m    385\u001B[0m \u001B[38;5;28;01mif\u001B[39;00m x1_shape[axis] \u001B[38;5;241m!=\u001B[39m x2_shape[axis]:\n\u001B[1;32m    386\u001B[0m     \u001B[38;5;28;01mraise\u001B[39;00m \u001B[38;5;167;01mValueError\u001B[39;00m(\u001B[38;5;124m\"\u001B[39m\u001B[38;5;124mx1 and x2 must have the same size along the given axis\u001B[39m\u001B[38;5;124m\"\u001B[39m)\n\u001B[0;32m--> 388\u001B[0m x1_, x2_ \u001B[38;5;241m=\u001B[39m np\u001B[38;5;241m.\u001B[39mbroadcast_arrays(\u001B[43mx1\u001B[49m\u001B[38;5;241;43m.\u001B[39;49m\u001B[43m_array\u001B[49m, x2\u001B[38;5;241m.\u001B[39m_array)\n\u001B[1;32m    389\u001B[0m x1_ \u001B[38;5;241m=\u001B[39m np\u001B[38;5;241m.\u001B[39mmoveaxis(x1_, axis, \u001B[38;5;241m-\u001B[39m\u001B[38;5;241m1\u001B[39m)\n\u001B[1;32m    390\u001B[0m x2_ \u001B[38;5;241m=\u001B[39m np\u001B[38;5;241m.\u001B[39mmoveaxis(x2_, axis, \u001B[38;5;241m-\u001B[39m\u001B[38;5;241m1\u001B[39m)\n",
      "\u001B[0;31mAttributeError\u001B[0m: 'numpy.ndarray' object has no attribute '_array'"
     ]
    }
   ],
   "source": [
    "from numpy.array_api import vecdot\n",
    "C = vecdot(A.real, B.real, axis=1)"
   ]
  },
  {
   "cell_type": "code",
   "execution_count": null,
   "id": "945a052e-6667-44fb-9c16-f44d4f8542d2",
   "metadata": {},
   "outputs": [],
   "source": []
  }
 ],
 "metadata": {
  "kernelspec": {
   "display_name": "Python 3 (ipykernel)",
   "language": "python",
   "name": "python3"
  },
  "language_info": {
   "codemirror_mode": {
    "name": "ipython",
    "version": 3
   },
   "file_extension": ".py",
   "mimetype": "text/x-python",
   "name": "python",
   "nbconvert_exporter": "python",
   "pygments_lexer": "ipython3",
   "version": "3.11.0"
  }
 },
 "nbformat": 4,
 "nbformat_minor": 5
}
