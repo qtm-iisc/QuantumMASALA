{
 "cells": [
  {
   "cell_type": "code",
   "execution_count": 1,
   "id": "2c98f62e-b7c8-43a6-905b-58b44752d081",
   "metadata": {},
   "outputs": [],
   "source": [
    "%load_ext autoreload\n",
    "%autoreload 2"
   ]
  },
  {
   "cell_type": "code",
   "execution_count": null,
   "id": "6a97fa69-5bb5-46de-97af-8cb1337987aa",
   "metadata": {},
   "outputs": [],
   "source": []
  },
  {
   "cell_type": "code",
   "execution_count": 1,
   "id": "698c823f-0f8a-4a3a-a9ac-17e4ed0edf57",
   "metadata": {},
   "outputs": [
    {
     "name": "stdout",
     "output_type": "stream",
     "text": [
      "(8, 6, 1)\n"
     ]
    }
   ],
   "source": [
    "import ipyparallel as ipp\n",
    "print(ipp.version_info)"
   ]
  },
  {
   "cell_type": "code",
   "execution_count": 2,
   "id": "154fc82c-96ca-4113-9a39-41afbaa61a37",
   "metadata": {},
   "outputs": [
    {
     "name": "stdout",
     "output_type": "stream",
     "text": [
      "<Cluster(cluster_id='1689594517-odnd', profile='default')>\n",
      "Starting 4 engines with <class 'ipyparallel.cluster.launcher.MPIEngineSetLauncher'>\n",
      "100%|███████████████████████████████████████████████████████████████████████████████████████████████████████████████████████████████████████████████████████████████████████████████████████████████████████████████████████████████████| 4/4 [00:06<00:00,  1.50s/engine]\n"
     ]
    },
    {
     "data": {
      "text/plain": [
       "[0, 1, 2, 3]"
      ]
     },
     "execution_count": 2,
     "metadata": {},
     "output_type": "execute_result"
    }
   ],
   "source": [
    "nproc = 4\n",
    "cluster = ipp.Cluster(engines='mpi', n=nproc, shutdown_atexit=False)\n",
    "print(cluster)\n",
    "client = cluster.start_and_connect_sync(activate=True)\n",
    "view = client[:]\n",
    "client.ids"
   ]
  },
  {
   "cell_type": "code",
   "execution_count": 3,
   "id": "b1edb80c-4114-4c2f-b1ce-dad054991299",
   "metadata": {},
   "outputs": [
    {
     "name": "stdout",
     "output_type": "stream",
     "text": [
      "PROFILE          CLUSTER ID                       RUNNING ENGINES LAUNCHER\n",
      "default          1689594517-odnd                  True          4 MPI\n"
     ]
    }
   ],
   "source": [
    "!ipcluster list"
   ]
  },
  {
   "cell_type": "code",
   "execution_count": 4,
   "id": "8df48adf-d359-48df-9309-6dd0a2a75b2a",
   "metadata": {},
   "outputs": [
    {
     "name": "stdout",
     "output_type": "stream",
     "text": [
      "%autopx enabled\n"
     ]
    }
   ],
   "source": [
    "%autopx --block --group-outputs=engine"
   ]
  },
  {
   "cell_type": "code",
   "execution_count": 6,
   "id": "3ba83a76-5b92-47b3-b673-97304fb4628a",
   "metadata": {},
   "outputs": [],
   "source": [
    "import time\n",
    "import numpy as np\n",
    "from mpi4py.MPI import COMM_WORLD\n",
    "from qtmpy.mpi import QTMComm\n",
    "\n",
    "comm_world = QTMComm(COMM_WORLD)\n",
    "\n",
    "def print_msg(msg: str):\n",
    "    curr_time = time.strftime(\"%H:%M:%S\", time.localtime())\n",
    "    print(f\"{curr_time}: {msg}\")\n",
    "\n",
    "if comm_world.size != 4:\n",
    "    raise RuntimeError(\n",
    "        \"This example requires 4 MPI Process. \"\n",
    "        f\"got COMM_WORLD.size = {comm.size}\"\n",
    "    )\n"
   ]
  },
  {
   "cell_type": "code",
   "execution_count": 7,
   "id": "38acf7d9-3914-45cd-9798-a9213133757b",
   "metadata": {},
   "outputs": [
    {
     "data": {
      "text/plain": [
       "[stdout:2] 17:19:03: Hello from process #2/4\n",
       "17:19:03: process #2 is at the end of 'with' code-block\n",
       "17:19:06: process #2 has exited 'with' code-block\n"
      ]
     },
     "metadata": {},
     "output_type": "display_data"
    },
    {
     "data": {
      "text/plain": [
       "[stdout:0] 17:19:03: Hello from process #0/4\n",
       "17:19:03: process #0 is at the end of 'with' code-block\n",
       "17:19:06: process #0 has exited 'with' code-block\n"
      ]
     },
     "metadata": {},
     "output_type": "display_data"
    },
    {
     "data": {
      "text/plain": [
       "[stdout:1] 17:19:03: Hello from process #1/4\n",
       "17:19:03: process #1 going to sleep for 3 seconds\n",
       "17:19:06: process #1 is at the end of 'with' code-block\n",
       "17:19:06: process #1 has exited 'with' code-block\n"
      ]
     },
     "metadata": {},
     "output_type": "display_data"
    },
    {
     "data": {
      "text/plain": [
       "[stdout:3] 17:19:03: Hello from process #3/4\n",
       "17:19:03: process #3 is at the end of 'with' code-block\n",
       "17:19:06: process #3 has exited 'with' code-block\n"
      ]
     },
     "metadata": {},
     "output_type": "display_data"
    },
    {
     "name": "stdout",
     "output_type": "stream",
     "text": [
      "%px: 100%|███████████████████████████████████████████████████████████████████████████████████████████████████████████████████████████████████████████████████████████████████████████████████████████████████████████████████████████████| 4/4 [00:01<00:00,  3.92tasks/s]\n"
     ]
    }
   ],
   "source": [
    "with comm_world as comm:\n",
    "    size, rank = comm.size, comm.rank\n",
    "    print_msg(f\"Hello from process #{rank}/{size}\")\n",
    "    # Proc 1 going to sleep while the rest skip ahead\n",
    "    if comm.rank == 1:\n",
    "        print_msg(f\"process #{rank} going to sleep for 3 seconds\")\n",
    "        time.sleep(3)\n",
    "    print_msg(f\"process #{rank} is at the end of 'with' code-block\")\n",
    "\n",
    "# When exiting, all procs in comm will be in sync.\n",
    "# No need for 'comm.Barrier()' here.\n",
    "# So all procs will print the message below at the exact time.\n",
    "print_msg(f\"process #{rank} has exited 'with' code-block\")"
   ]
  },
  {
   "cell_type": "code",
   "execution_count": 8,
   "id": "5cb21929-8533-4a45-8088-893ee806cdd6",
   "metadata": {},
   "outputs": [
    {
     "data": {
      "text/plain": [
       "[stdout:3] process #3/4 is assigned to subgroup #1 and its rank is 1/2\n"
      ]
     },
     "metadata": {},
     "output_type": "display_data"
    },
    {
     "data": {
      "text/plain": [
       "[stdout:2] process #2/4 is assigned to subgroup #0 and its rank is 1/2\n"
      ]
     },
     "metadata": {},
     "output_type": "display_data"
    },
    {
     "data": {
      "text/plain": [
       "[stdout:1] process #1/4 is assigned to subgroup #1 and its rank is 0/2\n"
      ]
     },
     "metadata": {},
     "output_type": "display_data"
    },
    {
     "data": {
      "text/plain": [
       "[stdout:0] process #0/4 is assigned to subgroup #0 and its rank is 0/2\n"
      ]
     },
     "metadata": {},
     "output_type": "display_data"
    }
   ],
   "source": [
    "color, key = rank % 2, rank // 2\n",
    "\n",
    "with comm_world.Split(color, key) as comm:\n",
    "    wrld_size, wrld_rank = comm_world.size, comm_world.rank\n",
    "    grp_id = comm.id_\n",
    "    grp_size, grp_rank = comm.size, comm.rank\n",
    "    print(f\"process #{rank}/{size} is assigned to \"\n",
    "          f\"subgroup #{grp_id} and its rank is \"\n",
    "          f\"{grp_rank}/{grp_size}\")\n",
    "    "
   ]
  },
  {
   "cell_type": "code",
   "execution_count": 1,
   "id": "a196f095-2c4c-42ad-8561-4d505daf4a33",
   "metadata": {},
   "outputs": [
    {
     "ename": "NameError",
     "evalue": "name 'comm_world' is not defined",
     "output_type": "error",
     "traceback": [
      "\u001B[0;31m---------------------------------------------------------------------------\u001B[0m",
      "\u001B[0;31mNameError\u001B[0m                                 Traceback (most recent call last)",
      "Cell \u001B[0;32mIn[1], line 3\u001B[0m\n\u001B[1;32m      1\u001B[0m grp_iproc \u001B[38;5;241m=\u001B[39m [\u001B[38;5;241m0\u001B[39m, \u001B[38;5;241m3\u001B[39m]\n\u001B[0;32m----> 3\u001B[0m \u001B[38;5;28;01mwith\u001B[39;00m \u001B[43mcomm_world\u001B[49m\u001B[38;5;241m.\u001B[39mIncl(grp_iproc) \u001B[38;5;28;01mas\u001B[39;00m comm:\n\u001B[1;32m      4\u001B[0m     \u001B[38;5;28;01mif\u001B[39;00m \u001B[38;5;129;01mnot\u001B[39;00m comm\u001B[38;5;241m.\u001B[39mis_null:\n\u001B[1;32m      5\u001B[0m         wrld_size, wrld_rank \u001B[38;5;241m=\u001B[39m comm_world\u001B[38;5;241m.\u001B[39msize, comm_world\u001B[38;5;241m.\u001B[39mrank\n",
      "\u001B[0;31mNameError\u001B[0m: name 'comm_world' is not defined"
     ]
    }
   ],
   "source": [
    "grp_iproc = [0, 3]\n",
    "\n",
    "with comm_world.Incl(grp_iproc) as comm:\n",
    "    if not comm.is_null:\n",
    "        wrld_size, wrld_rank = comm_world.size, comm_world.rank\n",
    "        grp_size, grp_rank = comm.size, comm.rank\n",
    "        print_msg(f\"process #{rank}/{size} is part of the subgroup\"\n",
    "                  f\"and its rank is {grp_rank}/{grp_size}\")\n",
    "        print_msg(f\"process #{rank} going to sleep for 3 seconds\")\n",
    "        time.sleep(3)\n",
    "    else:\n",
    "        print_msg(f\"process #{rank}/{size} is not part of the subgroup\")\n",
    "    print_msg(f\"process #{rank} is at the end of 'with' code-block\")"
   ]
  },
  {
   "cell_type": "code",
   "execution_count": 8,
   "id": "8261f6e5-18d1-4018-a79b-66581f3f8f67",
   "metadata": {},
   "outputs": [
    {
     "name": "stdout",
     "output_type": "stream",
     "text": [
      "%autopx disabled\n"
     ]
    }
   ],
   "source": [
    "%autopx --block --group-outputs=engine"
   ]
  },
  {
   "cell_type": "code",
   "execution_count": 22,
   "id": "8234564b-fe72-4426-95f5-900c9e4e4fbb",
   "metadata": {},
   "outputs": [
    {
     "name": "stderr",
     "output_type": "stream",
     "text": [
      "[1:execute]\n",
      "\u001B[0;31m---------------------------------------------------------------------------\u001B[0m\n",
      "\u001B[0;31mNameError\u001B[0m                                 Traceback (most recent call last)\n",
      "Cell \u001B[0;32mIn[15], line 1\u001B[0m\n",
      "\u001B[0;32m----> 1\u001B[0m \u001B[43mcluster\u001B[49m\u001B[38;5;241m.\u001B[39mstop_cluster_sync()\n",
      "\n",
      "\u001B[0;31mNameError\u001B[0m: name 'cluster' is not defined\n",
      "[2:execute]\n",
      "\u001B[0;31m---------------------------------------------------------------------------\u001B[0m\n",
      "\u001B[0;31mNameError\u001B[0m                                 Traceback (most recent call last)\n",
      "Cell \u001B[0;32mIn[15], line 1\u001B[0m\n",
      "\u001B[0;32m----> 1\u001B[0m \u001B[43mcluster\u001B[49m\u001B[38;5;241m.\u001B[39mstop_cluster_sync()\n",
      "\n",
      "\u001B[0;31mNameError\u001B[0m: name 'cluster' is not defined\n"
     ]
    },
    {
     "name": "stdout",
     "output_type": "stream",
     "text": [
      "%px:  50%|███████████████████████████████████████████████████████████████████████████████████████████████████████████████▌                                                                                                               | 2/4 [00:09<00:09,  4.90s/tasks]\n"
     ]
    },
    {
     "name": "stderr",
     "output_type": "stream",
     "text": [
      "Received Keyboard Interrupt. Sending signal SIGINT to engines...\n"
     ]
    }
   ],
   "source": [
    "cluster.stop_cluster_sync()"
   ]
  },
  {
   "cell_type": "code",
   "execution_count": 20,
   "id": "c32b1497-6a89-409b-a58a-7dfc90cc876e",
   "metadata": {},
   "outputs": [
    {
     "name": "stderr",
     "output_type": "stream",
     "text": [
      "Received Keyboard Interrupt. Sending signal SIGINT to engines...\n"
     ]
    }
   ],
   "source": [
    "!ipcluster list"
   ]
  },
  {
   "cell_type": "code",
   "execution_count": null,
   "id": "b6e1ab1c-8aa1-41ec-88ed-1b57db6359a0",
   "metadata": {},
   "outputs": [],
   "source": []
  }
 ],
 "metadata": {
  "kernelspec": {
   "display_name": "Python 3 (ipykernel)",
   "language": "python",
   "name": "python3"
  },
  "language_info": {
   "codemirror_mode": {
    "name": "ipython",
    "version": 3
   },
   "file_extension": ".py",
   "mimetype": "text/x-python",
   "name": "python",
   "nbconvert_exporter": "python",
   "pygments_lexer": "ipython3",
   "version": "3.11.0"
  }
 },
 "nbformat": 4,
 "nbformat_minor": 5
}
