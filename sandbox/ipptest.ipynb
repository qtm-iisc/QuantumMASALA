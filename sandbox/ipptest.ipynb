{
 "cells": [
  {
   "cell_type": "code",
   "execution_count": 1,
   "id": "4b3fb9d1-4c9a-4385-91f6-00665ddd46b3",
   "metadata": {},
   "outputs": [
    {
     "name": "stdout",
     "output_type": "stream",
     "text": [
      "(8, 6, 1)\n",
      "<Cluster(cluster_id='1686992415-fxfy', profile='default')>\n",
      "Starting 4 engines with <class 'ipyparallel.cluster.launcher.MPIEngineSetLauncher'>\n",
      "100%|███████████████████████████████████████████████████████████████████████████████████████████████████████████████████████████████████████████████████████████████████████████████████████████████████████████████████████████████████| 4/4 [00:05<00:00,  1.42s/engine]\n"
     ]
    },
    {
     "data": {
      "text/plain": [
       "[0, 1, 2, 3]"
      ]
     },
     "execution_count": 1,
     "metadata": {},
     "output_type": "execute_result"
    }
   ],
   "source": [
    "import ipyparallel as ipp\n",
    "print(ipp.version_info)\n",
    "from IPython.display import display\n",
    "\n",
    "nproc = 4\n",
    "cluster = ipp.Cluster(engines='mpi', n=nproc, shutdown_atexit=False)\n",
    "print(cluster)\n",
    "client = cluster.start_and_connect_sync(activate=True)\n",
    "view = client[:]\n",
    "client.ids\n"
   ]
  },
  {
   "cell_type": "code",
   "execution_count": 2,
   "id": "9ca72edb-d79d-4e65-816b-28288303ed00",
   "metadata": {},
   "outputs": [
    {
     "name": "stdout",
     "output_type": "stream",
     "text": [
      "PROFILE          CLUSTER ID                       RUNNING ENGINES LAUNCHER\n",
      "default          1686992415-fxfy                  True          4 MPI\n"
     ]
    }
   ],
   "source": [
    "!ipcluster list"
   ]
  },
  {
   "cell_type": "code",
   "execution_count": 3,
   "id": "80c9a04d-80a0-40a5-8033-4f27500696a0",
   "metadata": {},
   "outputs": [
    {
     "name": "stdout",
     "output_type": "stream",
     "text": [
      "%autopx enabled\n"
     ]
    }
   ],
   "source": [
    "%autopx"
   ]
  },
  {
   "cell_type": "code",
   "execution_count": 5,
   "id": "50e07cf2-6a24-4e88-8219-3619799eba6b",
   "metadata": {},
   "outputs": [
    {
     "data": {
      "text/plain": [
       "[stdout:1] 4\n"
      ]
     },
     "metadata": {},
     "output_type": "display_data"
    },
    {
     "name": "stderr",
     "output_type": "stream",
     "text": [
      "[1:execute]\n",
      "\u001B[0;31m---------------------------------------------------------------------------\u001B[0m\n",
      "\u001B[0;31mException\u001B[0m                                 Traceback (most recent call last)\n",
      "Cell \u001B[0;32mIn[2], line 27\u001B[0m\n",
      "\u001B[1;32m     25\u001B[0m check \u001B[38;5;241m=\u001B[39m \u001B[38;5;28;01mNone\u001B[39;00m\n",
      "\u001B[1;32m     26\u001B[0m \u001B[38;5;28;01mif\u001B[39;00m comm_rank \u001B[38;5;241m==\u001B[39m \u001B[38;5;241m1\u001B[39m:\n",
      "\u001B[0;32m---> 27\u001B[0m     \u001B[38;5;28;01mraise\u001B[39;00m \u001B[38;5;167;01mException\u001B[39;00m(\u001B[38;5;124m'\u001B[39m\u001B[38;5;124man error\u001B[39m\u001B[38;5;124m'\u001B[39m)\n",
      "\u001B[1;32m     28\u001B[0m val_final \u001B[38;5;241m=\u001B[39m (comm_size \u001B[38;5;241m-\u001B[39m \u001B[38;5;241m1\u001B[39m) \u001B[38;5;241m*\u001B[39m comm_size \u001B[38;5;241m/\u001B[39m\u001B[38;5;241m/\u001B[39m \u001B[38;5;241m2\u001B[39m\n",
      "\u001B[1;32m     29\u001B[0m comm\u001B[38;5;241m.\u001B[39mAllreduce(IN_PLACE, arr\u001B[38;5;241m.\u001B[39mbuffer, op\u001B[38;5;241m=\u001B[39mSUM)\n",
      "\n",
      "\u001B[0;31mException\u001B[0m: an error\n"
     ]
    },
    {
     "name": "stdout",
     "output_type": "stream",
     "text": [
      "%px:  25%|███████████████████████████████████████████████████████▊                                                                                                                                                                       | 1/4 [00:05<00:17,  5.87s/tasks]\n"
     ]
    },
    {
     "name": "stderr",
     "output_type": "stream",
     "text": [
      "Received Keyboard Interrupt. Sending signal SIGINT to engines...\n"
     ]
    }
   ],
   "source": [
    "import ipyparallel as ipp\n",
    "\n",
    "import numpy as np\n",
    "from mpi4py import MPI\n",
    "from mpi4py.MPI import IN_PLACE, SUM\n",
    "from mpi4py_fft import DistArray\n",
    "\n",
    "\n",
    "\n",
    "class Test:\n",
    "\n",
    "    shape = (10, 10)\n",
    "\n",
    "    def __init__(self, val):\n",
    "        self.buffer = np.empty(self.shape, dtype='i8')\n",
    "        self.buffer[:] = val\n",
    "\n",
    "        \n",
    "check = None\n",
    "comm = MPI.COMM_WORLD\n",
    "comm_size, comm_rank = comm.Get_size(), comm.Get_rank()\n",
    "\n",
    "arr = Test(comm_rank)\n",
    "print(comm_size)\n",
    "check = None\n",
    "if comm_rank == 1:\n",
    "    raise Exception('an error')\n",
    "val_final = (comm_size - 1) * comm_size // 2\n",
    "comm.Allreduce(IN_PLACE, arr.buffer, op=SUM)\n",
    "check = np.all(arr.buffer == val_final)\n",
    "\n",
    "print(f\"{comm_rank}/{comm_size}: {check}\")"
   ]
  },
  {
   "cell_type": "code",
   "execution_count": 7,
   "id": "ffd3f7a1-b099-49f1-8875-0234961183a6",
   "metadata": {},
   "outputs": [
    {
     "data": {
      "text/plain": [
       "[stdout:1] None\n"
      ]
     },
     "metadata": {},
     "output_type": "display_data"
    },
    {
     "name": "stdout",
     "output_type": "stream",
     "text": [
      "%px:  25%|███████████████████████████████████████████████████████▊                                                                                                                                                                       | 1/4 [00:04<00:14,  4.84s/tasks]\n"
     ]
    },
    {
     "name": "stderr",
     "output_type": "stream",
     "text": [
      "Received Keyboard Interrupt. Sending signal SIGINT to engines...\n"
     ]
    },
    {
     "name": "stdout",
     "output_type": "stream",
     "text": [
      "Controller stopped: {'exit_code': <Negsignal.SIGKILL: -9>, 'pid': 13983, 'identifier': 'ipcontroller-1686992415-fxfy-13968'}\n",
      "engine set stopped 1686992416: {'exit_code': <Negsignal.SIGKILL: -9>, 'pid': 14012, 'identifier': 'ipengine-1686992415-fxfy-1686992416-13968'}\n"
     ]
    }
   ],
   "source": [
    "print(check)"
   ]
  },
  {
   "cell_type": "code",
   "execution_count": 9,
   "id": "bad20f4e-02b8-4aa3-94c9-4febc3fd8387",
   "metadata": {},
   "outputs": [
    {
     "data": {
      "text/plain": [
       "[stdout:1] 4\n",
       "1/4: True\n"
      ]
     },
     "metadata": {},
     "output_type": "display_data"
    },
    {
     "data": {
      "text/plain": [
       "[stdout:0] 4\n",
       "0/4: True\n"
      ]
     },
     "metadata": {},
     "output_type": "display_data"
    },
    {
     "data": {
      "text/plain": [
       "[stdout:2] 4\n",
       "2/4: True\n"
      ]
     },
     "metadata": {},
     "output_type": "display_data"
    },
    {
     "data": {
      "text/plain": [
       "[stdout:3] 4\n",
       "3/4: True\n"
      ]
     },
     "metadata": {},
     "output_type": "display_data"
    }
   ],
   "source": [
    "import ipyparallel as ipp\n",
    "\n",
    "import numpy as np\n",
    "from mpi4py import MPI\n",
    "from mpi4py.MPI import IN_PLACE, SUM\n",
    "from mpi4py_fft import DistArray\n",
    "\n",
    "from qtmpy.mpi.comm import CommMod\n",
    "\n",
    "\n",
    "\n",
    "class Test:\n",
    "\n",
    "    shape = (10, 10)\n",
    "\n",
    "    def __init__(self, val):\n",
    "        self.buffer = np.empty(self.shape, dtype='i8')\n",
    "        self.buffer[:] = val\n",
    "\n",
    "        \n",
    "check = None\n",
    "with CommMod(MPI.COMM_WORLD) as comm:\n",
    "    comm_size, comm_rank = comm.Get_size(), comm.Get_rank()\n",
    "\n",
    "    arr = Test(comm_rank)\n",
    "    print(comm_size)\n",
    "    val_final = (comm_size - 1) * comm_size // 2\n",
    "    comm.Allreduce_sum_inplace(arr.buffer)\n",
    "    check = np.all(arr.buffer == val_final)\n",
    "\n",
    "print(f\"{comm_rank}/{comm_size}: {check}\")"
   ]
  },
  {
   "cell_type": "code",
   "execution_count": 4,
   "id": "9eb85cb5-6779-434f-8971-3642a16b5188",
   "metadata": {},
   "outputs": [
    {
     "data": {
      "text/plain": [
       "[stdout:1] 4\n"
      ]
     },
     "metadata": {},
     "output_type": "display_data"
    },
    {
     "name": "stderr",
     "output_type": "stream",
     "text": [
      "[1:execute]\n",
      "\u001B[0;31m---------------------------------------------------------------------------\u001B[0m\n",
      "\u001B[0;31mZeroDivisionError\u001B[0m                         Traceback (most recent call last)\n",
      "File \u001B[0;32m~/qtmpy/src/qtmpy/mpi/comm.py:106\u001B[0m, in \u001B[0;36mCommMod.__exit__\u001B[0;34m(***failed resolving arguments***)\u001B[0m\n",
      "\u001B[1;32m    105\u001B[0m     \u001B[38;5;28;01mif\u001B[39;00m \u001B[38;5;28misinstance\u001B[39m(exc_val, \u001B[38;5;167;01mException\u001B[39;00m):\n",
      "\u001B[0;32m--> 106\u001B[0m         \u001B[38;5;28;01mraise\u001B[39;00m exc_val\n",
      "\u001B[1;32m    107\u001B[0m \u001B[38;5;28;01mexcept\u001B[39;00m \u001B[38;5;167;01mException\u001B[39;00m \u001B[38;5;28;01mas\u001B[39;00m exc_val:\n",
      "\n",
      "Cell \u001B[0;32mIn[1], line 28\u001B[0m\n",
      "\u001B[1;32m     27\u001B[0m \u001B[38;5;28;01mif\u001B[39;00m comm_rank \u001B[38;5;241m==\u001B[39m \u001B[38;5;241m1\u001B[39m:\n",
      "\u001B[0;32m---> 28\u001B[0m     \u001B[38;5;28mprint\u001B[39m(\u001B[38;5;241;43m1\u001B[39;49m\u001B[38;5;241;43m/\u001B[39;49m\u001B[38;5;241;43m0\u001B[39;49m)\n",
      "\u001B[1;32m     29\u001B[0m val_final \u001B[38;5;241m=\u001B[39m (comm_size \u001B[38;5;241m-\u001B[39m \u001B[38;5;241m1\u001B[39m) \u001B[38;5;241m*\u001B[39m comm_size \u001B[38;5;241m/\u001B[39m\u001B[38;5;241m/\u001B[39m \u001B[38;5;241m2\u001B[39m\n",
      "\n",
      "\u001B[0;31mZeroDivisionError\u001B[0m: division by zero\n",
      "\n",
      "The above exception was the direct cause of the following exception:\n",
      "\n",
      "\u001B[0;31mException\u001B[0m                                 Traceback (most recent call last)\n",
      "Cell \u001B[0;32mIn[1], line 22\u001B[0m\n",
      "\u001B[1;32m     18\u001B[0m         \u001B[38;5;28mself\u001B[39m\u001B[38;5;241m.\u001B[39mbuffer[:] \u001B[38;5;241m=\u001B[39m val\n",
      "\u001B[1;32m     21\u001B[0m check \u001B[38;5;241m=\u001B[39m \u001B[38;5;28;01mNone\u001B[39;00m\n",
      "\u001B[0;32m---> 22\u001B[0m \u001B[38;5;28;43;01mwith\u001B[39;49;00m\u001B[43m \u001B[49m\u001B[43mCommMod\u001B[49m\u001B[43m(\u001B[49m\u001B[43mMPI\u001B[49m\u001B[38;5;241;43m.\u001B[39;49m\u001B[43mCOMM_WORLD\u001B[49m\u001B[43m)\u001B[49m\u001B[43m \u001B[49m\u001B[38;5;28;43;01mas\u001B[39;49;00m\u001B[43m \u001B[49m\u001B[43mcomm\u001B[49m\u001B[43m:\u001B[49m\n",
      "\u001B[1;32m     23\u001B[0m \u001B[43m    \u001B[49m\u001B[43mcomm_size\u001B[49m\u001B[43m,\u001B[49m\u001B[43m \u001B[49m\u001B[43mcomm_rank\u001B[49m\u001B[43m \u001B[49m\u001B[38;5;241;43m=\u001B[39;49m\u001B[43m \u001B[49m\u001B[43mcomm\u001B[49m\u001B[38;5;241;43m.\u001B[39;49m\u001B[43mGet_size\u001B[49m\u001B[43m(\u001B[49m\u001B[43m)\u001B[49m\u001B[43m,\u001B[49m\u001B[43m \u001B[49m\u001B[43mcomm\u001B[49m\u001B[38;5;241;43m.\u001B[39;49m\u001B[43mGet_rank\u001B[49m\u001B[43m(\u001B[49m\u001B[43m)\u001B[49m\n",
      "\u001B[1;32m     25\u001B[0m \u001B[43m    \u001B[49m\u001B[43marr\u001B[49m\u001B[43m \u001B[49m\u001B[38;5;241;43m=\u001B[39;49m\u001B[43m \u001B[49m\u001B[43mTest\u001B[49m\u001B[43m(\u001B[49m\u001B[43mcomm_rank\u001B[49m\u001B[43m)\u001B[49m\n",
      "\n",
      "File \u001B[0;32m~/qtmpy/src/qtmpy/mpi/comm.py:108\u001B[0m, in \u001B[0;36mCommMod.__exit__\u001B[0;34m(***failed resolving arguments***)\u001B[0m\n",
      "\u001B[1;32m    106\u001B[0m         \u001B[38;5;28;01mraise\u001B[39;00m exc_val\n",
      "\u001B[1;32m    107\u001B[0m \u001B[38;5;28;01mexcept\u001B[39;00m \u001B[38;5;167;01mException\u001B[39;00m \u001B[38;5;28;01mas\u001B[39;00m exc_val:\n",
      "\u001B[0;32m--> 108\u001B[0m     \u001B[38;5;28;01mraise\u001B[39;00m \u001B[38;5;167;01mException\u001B[39;00m(\n",
      "\u001B[1;32m    109\u001B[0m         \u001B[38;5;124mf\u001B[39m\u001B[38;5;124m\"\u001B[39m\u001B[38;5;124mProcess # \u001B[39m\u001B[38;5;132;01m{\u001B[39;00m\u001B[38;5;28mself\u001B[39m\u001B[38;5;241m.\u001B[39mglob_rank\u001B[38;5;132;01m}\u001B[39;00m\u001B[38;5;124m / \u001B[39m\u001B[38;5;132;01m{\u001B[39;00m\u001B[38;5;28mself\u001B[39m\u001B[38;5;241m.\u001B[39mglob_size\u001B[38;5;132;01m}\u001B[39;00m\u001B[38;5;124m has encountered \u001B[39m\u001B[38;5;124m\"\u001B[39m\n",
      "\u001B[1;32m    110\u001B[0m         \u001B[38;5;124mf\u001B[39m\u001B[38;5;124m\"\u001B[39m\u001B[38;5;124man exception. Please refer above for further info.\u001B[39m\u001B[38;5;124m\"\u001B[39m\n",
      "\u001B[1;32m    111\u001B[0m     ) \u001B[38;5;28;01mfrom\u001B[39;00m \u001B[38;5;21;01mexc_val\u001B[39;00m\n",
      "\u001B[1;32m    113\u001B[0m \u001B[38;5;28mself\u001B[39m\u001B[38;5;241m.\u001B[39mbarrier()\n",
      "\n",
      "\u001B[0;31mException\u001B[0m: Process # 1 / 4 has encountered an exception. Please refer above for further info.\n"
     ]
    },
    {
     "data": {
      "text/plain": [
       "[stdout:2] 4\n"
      ]
     },
     "metadata": {},
     "output_type": "display_data"
    },
    {
     "data": {
      "text/plain": [
       "[stdout:3] 4\n"
      ]
     },
     "metadata": {},
     "output_type": "display_data"
    },
    {
     "data": {
      "text/plain": [
       "[stdout:0] 4\n"
      ]
     },
     "metadata": {},
     "output_type": "display_data"
    },
    {
     "name": "stdout",
     "output_type": "stream",
     "text": [
      "%px:   0%|                                                                                                                                                                                                                                       | 0/4 [00:00<?, ?tasks/s]engine set stopped 1686991997: {'exit_code': 1, 'pid': 13205, 'identifier': 'ipengine-1686991996-vd1q-1686991997-13158'}\n",
      "%px: 100%|███████████████████████████████████████████████████████████████████████████████████████████████████████████████████████████████████████████████████████████████████████████████████████████████████████████████████████████████| 4/4 [00:00<00:00,  6.44tasks/s]\n"
     ]
    },
    {
     "ename": "AlreadyDisplayedError",
     "evalue": "4 errors",
     "output_type": "error",
     "traceback": [
      "4 errors"
     ]
    }
   ],
   "source": [
    "%%px\n",
    "import ipyparallel as ipp\n",
    "\n",
    "import numpy as np\n",
    "from mpi4py import MPI\n",
    "from mpi4py.MPI import IN_PLACE, SUM\n",
    "from mpi4py_fft import DistArray\n",
    "\n",
    "from qtmpy.mpi.comm import CommMod\n",
    "\n",
    "\n",
    "\n",
    "class Test:\n",
    "\n",
    "    shape = (10, 10)\n",
    "\n",
    "    def __init__(self, val):\n",
    "        self.buffer = np.empty(self.shape, dtype='i8')\n",
    "        self.buffer[:] = val\n",
    "\n",
    "        \n",
    "check = None\n",
    "with CommMod(MPI.COMM_WORLD) as comm:\n",
    "    comm_size, comm_rank = comm.Get_size(), comm.Get_rank()\n",
    "\n",
    "    arr = Test(comm_rank)\n",
    "    print(comm_size)\n",
    "    if comm_rank == 1:\n",
    "        print(1/0)\n",
    "    val_final = (comm_size - 1) * comm_size // 2\n",
    "    comm.Allreduce_sum_inplace(arr.buffer)\n",
    "    check = np.all(arr.buffer == val_final)\n",
    "\n",
    "print(f\"{comm_rank}/{comm_size}: {check}\")"
   ]
  },
  {
   "cell_type": "code",
   "execution_count": 5,
   "id": "7edbd234-7bea-4f33-be80-84f4dcfac21a",
   "metadata": {},
   "outputs": [
    {
     "name": "stdout",
     "output_type": "stream",
     "text": [
      "PROFILE          CLUSTER ID                       RUNNING ENGINES LAUNCHER\n",
      "default          1686991996-vd1q                  True          0 MPI\n"
     ]
    }
   ],
   "source": [
    "!ipcluster list"
   ]
  },
  {
   "cell_type": "code",
   "execution_count": 6,
   "id": "f944bd49-ddd5-4564-a8a2-69d493e7c9ff",
   "metadata": {},
   "outputs": [
    {
     "name": "stdout",
     "output_type": "stream",
     "text": [
      "Stopping engine(s): 1686991997\n",
      "Starting 4 engines with <class 'ipyparallel.cluster.launcher.MPIEngineSetLauncher'>\n"
     ]
    }
   ],
   "source": [
    "cluster.restart_engines_sync()"
   ]
  },
  {
   "cell_type": "code",
   "execution_count": 7,
   "id": "09224996-5d3b-4c98-97be-55418f94d301",
   "metadata": {},
   "outputs": [
    {
     "name": "stdout",
     "output_type": "stream",
     "text": [
      "PROFILE          CLUSTER ID                       RUNNING ENGINES LAUNCHER\n",
      "default          1686991996-vd1q                  True          4 MPI\n"
     ]
    }
   ],
   "source": [
    "!ipcluster list"
   ]
  }
 ],
 "metadata": {
  "kernelspec": {
   "display_name": "Python 3 (ipykernel)",
   "language": "python",
   "name": "python3"
  },
  "language_info": {
   "codemirror_mode": {
    "name": "ipython",
    "version": 3
   },
   "file_extension": ".py",
   "mimetype": "text/x-python",
   "name": "python",
   "nbconvert_exporter": "python",
   "pygments_lexer": "ipython3",
   "version": "3.11.0"
  }
 },
 "nbformat": 4,
 "nbformat_minor": 5
}
