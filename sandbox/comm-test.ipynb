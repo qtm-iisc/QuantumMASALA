{
 "cells": [
  {
   "cell_type": "code",
   "execution_count": null,
   "id": "05c6f2ea-e65f-442c-8ea7-7c22690a7b8f",
   "metadata": {},
   "outputs": [],
   "source": [
    "%load_ext autoreload\n",
    "%autoreload 2"
   ]
  },
  {
   "cell_type": "code",
   "execution_count": null,
   "id": "9bbb99fc-5bcf-46a8-82e7-0f22807e501e",
   "metadata": {},
   "outputs": [
    {
     "name": "stdout",
     "output_type": "stream",
     "text": [
      "(8, 6, 1)\n"
     ]
    }
   ],
   "source": [
    "import ipyparallel as ipp\n",
    "print(ipp.version_info)"
   ]
  },
  {
   "cell_type": "code",
   "execution_count": null,
   "id": "879962ca-e3e1-4d1d-b2b9-4d76aa990ef7",
   "metadata": {},
   "outputs": [
    {
     "name": "stdout",
     "output_type": "stream",
     "text": [
      "<Cluster(cluster_id='1687498951-52eg', profile='default')>\n",
      "Starting 4 engines with <class 'ipyparallel.cluster.launcher.MPIEngineSetLauncher'>\n",
      "100%|███████████████████████████████████████████████████████████████████████████████████████████████████████████████████████████████████████████████████████████████████████████████████████████████████████████████████████████████████| 4/4 [00:05<00:00,  1.44s/engine]\n"
     ]
    },
    {
     "data": {
      "text/plain": [
       "[0, 1, 2, 3]"
      ]
     },
     "execution_count": 3,
     "metadata": {},
     "output_type": "execute_result"
    }
   ],
   "source": [
    "nproc = 4\n",
    "cluster = ipp.Cluster(engines='mpi', n=nproc, shutdown_atexit=False)\n",
    "print(cluster)\n",
    "client = cluster.start_and_connect_sync(activate=True)\n",
    "view = client[:]\n",
    "client.ids"
   ]
  },
  {
   "cell_type": "code",
   "execution_count": null,
   "id": "caca0eca-bc2d-4a6a-a787-5ebd34c25eec",
   "metadata": {},
   "outputs": [
    {
     "name": "stdout",
     "output_type": "stream",
     "text": [
      "PROFILE          CLUSTER ID                       RUNNING ENGINES LAUNCHER\n",
      "default          1687498951-52eg                  True          4 MPI\n"
     ]
    }
   ],
   "source": [
    "!ipcluster list"
   ]
  },
  {
   "cell_type": "code",
   "execution_count": null,
   "id": "c7cdb51a-86ec-4a2b-8ffb-75924f918ee0",
   "metadata": {},
   "outputs": [
    {
     "name": "stdout",
     "output_type": "stream",
     "text": [
      "%autopx enabled\n"
     ]
    }
   ],
   "source": [
    "%autopx --block --group-outputs=engine"
   ]
  },
  {
   "cell_type": "code",
   "execution_count": null,
   "id": "8ca5fd37-6142-4da0-b49c-ab6c42069ff1",
   "metadata": {},
   "outputs": [],
   "source": [
    "import numpy as np\n",
    "from qtmpy.mpi import CommMod, CommManager\n",
    "from mpi4py.MPI import COMM_WORLD\n",
    "\n",
    "comm = CommMod(COMM_WORLD)"
   ]
  },
  {
   "cell_type": "code",
   "execution_count": null,
   "id": "531ec474-13a0-41df-95e7-e6cc5e3def2f",
   "metadata": {},
   "outputs": [
    {
     "data": {
      "text/plain": [
       "[stdout:1] [6. 6. 6. 6. 6. 6. 6. 6. 6. 6.]\n"
      ]
     },
     "metadata": {},
     "output_type": "display_data"
    },
    {
     "data": {
      "text/plain": [
       "[stdout:2] [6. 6. 6. 6. 6. 6. 6. 6. 6. 6.]\n"
      ]
     },
     "metadata": {},
     "output_type": "display_data"
    },
    {
     "data": {
      "text/plain": [
       "[stdout:0] [6. 6. 6. 6. 6. 6. 6. 6. 6. 6.]\n"
      ]
     },
     "metadata": {},
     "output_type": "display_data"
    },
    {
     "data": {
      "text/plain": [
       "[stdout:3] [6. 6. 6. 6. 6. 6. 6. 6. 6. 6.]\n"
      ]
     },
     "metadata": {},
     "output_type": "display_data"
    }
   ],
   "source": [
    "with comm:\n",
    "    arr = np.zeros(10)\n",
    "    arr[:] = comm.rank\n",
    "    comm.Allreduce(comm.IN_PLACE, arr, comm.SUM)\n",
    "    print(arr)"
   ]
  },
  {
   "cell_type": "code",
   "execution_count": null,
   "id": "50627c8d-b929-45e8-b911-7e48d27bc9b3",
   "metadata": {},
   "outputs": [
    {
     "name": "stdout",
     "output_type": "stream",
     "text": [
      "%px:   0%|                                                                                                                                                                                                                                       | 0/4 [00:00<?, ?tasks/s]"
     ]
    },
    {
     "data": {
      "text/plain": [
       "[stdout:0] a [2. 2. 2. 2. 2. 2. 2. 2. 2. 2.]\n",
       "0\n"
      ]
     },
     "metadata": {},
     "output_type": "display_data"
    },
    {
     "data": {
      "text/plain": [
       "[stdout:2] a [2. 2. 2. 2. 2. 2. 2. 2. 2. 2.]\n",
       "2\n"
      ]
     },
     "metadata": {},
     "output_type": "display_data"
    },
    {
     "data": {
      "text/plain": [
       "[stdout:1] 1\n",
       "b [1. 1. 1. 1. 1. 1. 1. 1. 1. 1.]\n"
      ]
     },
     "metadata": {},
     "output_type": "display_data"
    },
    {
     "data": {
      "text/plain": [
       "[stdout:3] 3\n",
       "b [1. 1. 1. 1. 1. 1. 1. 1. 1. 1.]\n"
      ]
     },
     "metadata": {},
     "output_type": "display_data"
    },
    {
     "name": "stdout",
     "output_type": "stream",
     "text": [
      "%px: 100%|███████████████████████████████████████████████████████████████████████████████████████████████████████████████████████████████████████████████████████████████████████████████████████████████████████████████████████████████| 4/4 [00:05<00:00,  1.25s/tasks]\n"
     ]
    }
   ],
   "source": [
    "import time\n",
    "\n",
    "with comm:\n",
    "    arr = np.zeros(10)\n",
    "    with comm.Incl([0, 2]) as c1:\n",
    "        if not c1.is_null:\n",
    "            arr[:] = c1.world_rank\n",
    "            c1.Allreduce(c1.IN_PLACE, arr, c1.SUM)\n",
    "            time.sleep(2)\n",
    "            print('a', arr)\n",
    "    print(comm.rank)\n",
    "    with comm.Incl([1, 3]) as c2:\n",
    "        if not c2.is_null:\n",
    "            arr[:] = c2.world_rank\n",
    "            c2.Allreduce(c2.IN_PLACE, arr, c2.MIN)\n",
    "            time.sleep(5)\n",
    "            print('b', arr)\n",
    "            "
   ]
  },
  {
   "cell_type": "code",
   "execution_count": null,
   "id": "1d6027ad-ff8a-44d5-a837-075d93b9c36a",
   "metadata": {},
   "outputs": [
    {
     "name": "stdout",
     "output_type": "stream",
     "text": [
      "%px:   0%|                                                                                                                                                                                                                                       | 0/4 [00:00<?, ?tasks/s]"
     ]
    },
    {
     "data": {
      "text/plain": [
       "[stdout:3] b [1. 1. 1. 1. 1. 1. 1. 1. 1. 1.]\n"
      ]
     },
     "metadata": {},
     "output_type": "display_data"
    },
    {
     "data": {
      "text/plain": [
       "[stdout:0] a [2. 2. 2. 2. 2. 2. 2. 2. 2. 2.]\n"
      ]
     },
     "metadata": {},
     "output_type": "display_data"
    },
    {
     "data": {
      "text/plain": [
       "[stdout:2] a [2. 2. 2. 2. 2. 2. 2. 2. 2. 2.]\n"
      ]
     },
     "metadata": {},
     "output_type": "display_data"
    },
    {
     "data": {
      "text/plain": [
       "[stdout:1] b [1. 1. 1. 1. 1. 1. 1. 1. 1. 1.]\n"
      ]
     },
     "metadata": {},
     "output_type": "display_data"
    },
    {
     "name": "stdout",
     "output_type": "stream",
     "text": [
      "%px: 100%|██████████████████████████████████████████████████████████████████████████████████████████████████████████████████████████████████████████████████████████████████████████████████████████████████████████████████████████████| 4/4 [00:00<00:00, 101.99tasks/s]\n"
     ]
    }
   ],
   "source": [
    "import time\n",
    "\n",
    "with comm:\n",
    "    arr = np.zeros(10)\n",
    "    with comm.Incl([0, 2], False) as c1:\n",
    "        if not c1.is_null:\n",
    "            arr[:] = c1.world_rank\n",
    "            c1.Allreduce(c1.IN_PLACE, arr, c1.SUM)\n",
    "            time.sleep(2)\n",
    "            print('a', arr)\n",
    "    # print(comm.rank)\n",
    "    with comm.Incl([1, 3], False) as c2:\n",
    "        if not c2.is_null:\n",
    "            arr[:] = c2.world_rank\n",
    "            c2.Allreduce(c2.IN_PLACE, arr, c2.MIN)\n",
    "            time.sleep(2)\n",
    "            print('b', arr)"
   ]
  },
  {
   "cell_type": "code",
   "execution_count": null,
   "id": "b59a74c2-fcfb-4788-8aa6-9f16bbaedd04",
   "metadata": {},
   "outputs": [
    {
     "name": "stdout",
     "output_type": "stream",
     "text": [
      "%px:   0%|                                                                                                                                                                                                                                       | 0/4 [00:00<?, ?tasks/s]"
     ]
    },
    {
     "data": {
      "text/plain": [
       "[stdout:2] a [2. 2. 2. 2. 2. 2. 2. 2. 2. 2.]\n"
      ]
     },
     "metadata": {},
     "output_type": "display_data"
    },
    {
     "data": {
      "text/plain": [
       "[stdout:0] a [2. 2. 2. 2. 2. 2. 2. 2. 2. 2.]\n",
       "b [3. 3. 3. 3. 3. 3. 3. 3. 3. 3.]\n"
      ]
     },
     "metadata": {},
     "output_type": "display_data"
    },
    {
     "name": "stdout",
     "output_type": "stream",
     "text": [
      "%px:   0%|                                                                                                                                                                                                                                       | 0/4 [00:04<?, ?tasks/s]"
     ]
    },
    {
     "data": {
      "text/plain": [
       "[stdout:3] b [3. 3. 3. 3. 3. 3. 3. 3. 3. 3.]\n"
      ]
     },
     "metadata": {},
     "output_type": "display_data"
    },
    {
     "name": "stdout",
     "output_type": "stream",
     "text": [
      "%px: 100%|███████████████████████████████████████████████████████████████████████████████████████████████████████████████████████████████████████████████████████████████████████████████████████████████████████████████████████████████| 4/4 [00:05<00:00,  1.25s/tasks]\n"
     ]
    }
   ],
   "source": [
    "import time\n",
    "\n",
    "with comm:\n",
    "    arr = np.zeros(10)\n",
    "    with comm.Incl([0, 2], sync_with_parent=False) as c1:\n",
    "        if not c1.is_null:\n",
    "            arr[:] = c1.world_rank\n",
    "            c1.Allreduce(c1.IN_PLACE, arr, c1.SUM)\n",
    "            time.sleep(2)\n",
    "            print('a', arr)\n",
    "    # print(comm.rank)\n",
    "    with comm.Incl([0, 3], sync_with_parent=False) as c2:\n",
    "        if not c2.is_null:\n",
    "            arr[:] = c2.world_rank\n",
    "            c2.Allreduce(c2.IN_PLACE, arr, c2.MAX)\n",
    "            time.sleep(5)\n",
    "            print('b', arr)"
   ]
  },
  {
   "cell_type": "code",
   "execution_count": null,
   "id": "9eb940f9-c4dd-4bd6-b321-fb48fe7affd2",
   "metadata": {},
   "outputs": [
    {
     "data": {
      "text/plain": [
       "[stdout:1] [4 5 6 7]\n",
       "[8 9]\n",
       "[]\n"
      ]
     },
     "metadata": {},
     "output_type": "display_data"
    },
    {
     "data": {
      "text/plain": [
       "[stdout:0] [0 1 2 3]\n",
       "[5 6 7]\n",
       "[]\n"
      ]
     },
     "metadata": {},
     "output_type": "display_data"
    },
    {
     "data": {
      "text/plain": [
       "[stdout:3] [11 12 13]\n",
       "[12 13]\n",
       "[]\n"
      ]
     },
     "metadata": {},
     "output_type": "display_data"
    },
    {
     "data": {
      "text/plain": [
       "[stdout:2] [ 8  9 10]\n",
       "[10 11]\n",
       "[]\n"
      ]
     },
     "metadata": {},
     "output_type": "display_data"
    }
   ],
   "source": [
    "start = 5\n",
    "N = 14\n",
    "print(np.arange(N)[comm.scatter_slice(slice(N))])\n",
    "print(np.arange(N)[comm.scatter_slice(slice(start, N))])\n",
    "print(np.arange(N)[comm.scatter_slice(slice(N, start))])"
   ]
  },
  {
   "cell_type": "code",
   "execution_count": null,
   "id": "845a716e-58d9-4205-a402-a80333b825ed",
   "metadata": {},
   "outputs": [
    {
     "data": {
      "text/plain": [
       "[stdout:1] \n",
       "[0 2 1 0] [1 2 0 0]\n",
       "[0. 1. 1.]\n"
      ]
     },
     "metadata": {},
     "output_type": "display_data"
    },
    {
     "data": {
      "text/plain": [
       "[stdout:2] \n",
       "[0 0 1 1] [0 1 1 0]\n",
       "[1. 2.]\n"
      ]
     },
     "metadata": {},
     "output_type": "display_data"
    },
    {
     "data": {
      "text/plain": [
       "[stdout:3] \n",
       "[0 0 0 1] [0 0 1 1]\n",
       "[2. 3.]\n"
      ]
     },
     "metadata": {},
     "output_type": "display_data"
    },
    {
     "data": {
      "text/plain": [
       "[stdout:0] \n",
       "[0 0 0 0 1 1 1 2 2 3]\n",
       "[0 0 0 1 1 1 2 2 3 3]\n",
       "[3 1 0 0] [3 0 0 0]\n",
       "[0. 0. 0.]\n"
      ]
     },
     "metadata": {},
     "output_type": "display_data"
    }
   ],
   "source": [
    "import numpy as np\n",
    "from qtmpy.mpi import CommMod, CommManager\n",
    "from mpi4py.MPI import COMM_WORLD\n",
    "\n",
    "comm = CommMod(COMM_WORLD)\n",
    "\n",
    "\n",
    "with comm:\n",
    "    print()\n",
    "    full_size = comm.size * (comm.size + 1) // 2\n",
    "    inp_size = comm.size - comm.rank\n",
    "       \n",
    "    l_inp_size = comm.size - np.arange(comm.size, dtype='i8')\n",
    "    \n",
    "    l_out_size = full_size // comm.size \\\n",
    "        + (full_size % comm.size > np.arange(comm.size, dtype='i8'))\n",
    "    out_slice = comm.scatter_slice(slice(full_size))\n",
    "\n",
    "    arr_inp = np.empty((inp_size, ))\n",
    "    arr_inp[:] = comm.rank\n",
    "    arr_out = np.empty((l_out_size[comm.rank], ))\n",
    "    \n",
    "    inp_proc_map = np.repeat(np.arange(comm.size, dtype='i8'),\n",
    "                             l_inp_size)\n",
    "    out_proc_map = np.repeat(np.arange(comm.size, dtype='i8'),\n",
    "                             l_out_size)\n",
    "    \n",
    "\n",
    "    istart = np.sum(l_inp_size[:comm.rank])\n",
    "    istop = istart + l_inp_size[comm.rank]\n",
    "    # print(istart, istop)\n",
    "    sendbuf = np.histogram(out_proc_map[istart:istop],\n",
    "                           np.arange(comm.size + 1, dtype='i8'))[0]\n",
    "    recvbuf = np.histogram(inp_proc_map[out_slice], np.arange(comm.size + 1, dtype='i8'))[0]\n",
    "    \n",
    "    if comm.rank == 0:\n",
    "        print(inp_proc_map)\n",
    "        print(out_proc_map)\n",
    "    print(sendbuf, recvbuf)\n",
    "    \n",
    "    comm().Alltoallv([arr_inp, sendbuf], [arr_out, recvbuf])\n",
    "    print(arr_out)"
   ]
  },
  {
   "cell_type": "code",
   "execution_count": 70,
   "id": "6a0f31c0-3972-4be5-b5c1-64de031d0a33",
   "metadata": {},
   "outputs": [
    {
     "data": {
      "text/plain": [
       "[stdout:3] 1/2 0/1 1/2 \n",
       "(9, 18, 9)\n"
      ]
     },
     "metadata": {},
     "output_type": "display_data"
    },
    {
     "data": {
      "text/plain": [
       "[stdout:0] 0/2 0/1 0/2 \n",
       "(9, 18, 9)\n"
      ]
     },
     "metadata": {},
     "output_type": "display_data"
    },
    {
     "data": {
      "text/plain": [
       "[stdout:2] 1/2 0/1 0/2 \n",
       "(9, 18, 9)\n"
      ]
     },
     "metadata": {},
     "output_type": "display_data"
    },
    {
     "data": {
      "text/plain": [
       "[stdout:1] 0/2 0/1 1/2 \n",
       "(9, 18, 9)\n"
      ]
     },
     "metadata": {},
     "output_type": "display_data"
    }
   ],
   "source": [
    "from mpi4py.MPI import COMM_WORLD\n",
    "from mpi4py_fft.pencil import Subcomm, Pencil\n",
    "from mpi4py_fft import PFFT, DistArray\n",
    "\n",
    "\n",
    "axis = 1\n",
    "grid = [2, 1, 2]\n",
    "shape = (18, 18, 18)\n",
    "\n",
    "subcomm = Subcomm(COMM_WORLD, grid)\n",
    "arr = DistArray(shape, subcomm, dtype='c16')\n",
    "pencil_1 = Pencil(subcomm, shape, axis)\n",
    "pencil_2 = Pencil(subcomm, shape, axis=2)\n",
    "transfer = \n",
    "out = \"\"\n",
    "for comm in subcomm:\n",
    "    out = out + f\"{comm.Get_rank()}/{comm.Get_size()} \"\n",
    "print(out)\n",
    "print(pencil_1.subshape)\n",
    "print(pencil_2.subshape)"
   ]
  },
  {
   "cell_type": "code",
   "execution_count": null,
   "id": "ba359b5e-7f25-4aee-85e0-e3922bc341b0",
   "metadata": {},
   "outputs": [],
   "source": []
  },
  {
   "cell_type": "code",
   "execution_count": null,
   "id": "dac6bf56-a1ac-49d7-acbe-53d36ee4617f",
   "metadata": {},
   "outputs": [],
   "source": []
  },
  {
   "cell_type": "code",
   "execution_count": null,
   "id": "c621525c-45ee-45fe-bf47-ed464c5ea3a9",
   "metadata": {},
   "outputs": [],
   "source": []
  },
  {
   "cell_type": "code",
   "execution_count": null,
   "id": "9dc3d9aa-0758-4835-a2cc-f72ed8b4d09b",
   "metadata": {},
   "outputs": [],
   "source": []
  },
  {
   "cell_type": "code",
   "execution_count": 33,
   "id": "7bb23822-19ce-44de-bae3-d8d854231e83",
   "metadata": {
    "tags": []
   },
   "outputs": [
    {
     "name": "stdout",
     "output_type": "stream",
     "text": [
      "%autopx enabled\n"
     ]
    }
   ],
   "source": [
    "%autopx --block --group-outputs=engine"
   ]
  },
  {
   "cell_type": "code",
   "execution_count": 31,
   "id": "00ea3cc5-86d7-4095-a15e-bf27b819be86",
   "metadata": {},
   "outputs": [
    {
     "name": "stdout",
     "output_type": "stream",
     "text": [
      "Stopping engine(s): 1687498952\n",
      "Starting 4 engines with <class 'ipyparallel.cluster.launcher.MPIEngineSetLauncher'>\n",
      "engine set stopped 1687498952: {'exit_code': 1, 'pid': 20731, 'identifier': 'ipengine-1687498951-52eg-1687498952-18123'}\n"
     ]
    }
   ],
   "source": [
    "cluster.restart_engines_sync()"
   ]
  },
  {
   "cell_type": "code",
   "execution_count": 32,
   "id": "2057a0de-385c-4726-afc4-775039bd7f06",
   "metadata": {},
   "outputs": [
    {
     "name": "stdout",
     "output_type": "stream",
     "text": [
      "PROFILE          CLUSTER ID                       RUNNING ENGINES LAUNCHER\n",
      "default          1687498951-52eg                  True          4 MPI\n"
     ]
    }
   ],
   "source": [
    "!ipcluster list"
   ]
  },
  {
   "cell_type": "code",
   "execution_count": null,
   "id": "8802182f-871c-493e-a28c-51014987933e",
   "metadata": {},
   "outputs": [],
   "source": []
  }
 ],
 "metadata": {
  "kernelspec": {
   "display_name": "Python 3 (ipykernel)",
   "language": "python",
   "name": "python3"
  },
  "language_info": {
   "codemirror_mode": {
    "name": "ipython",
    "version": 3
   },
   "file_extension": ".py",
   "mimetype": "text/x-python",
   "name": "python",
   "nbconvert_exporter": "python",
   "pygments_lexer": "ipython3",
   "version": "3.11.0"
  }
 },
 "nbformat": 4,
 "nbformat_minor": 5
}
