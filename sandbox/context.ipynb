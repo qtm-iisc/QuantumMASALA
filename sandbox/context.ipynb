{
 "cells": [
  {
   "cell_type": "code",
   "execution_count": 1,
   "id": "98869acc-0c4b-4e00-88a3-8f1708bd66fe",
   "metadata": {},
   "outputs": [],
   "source": [
    "from contextvars import Context, copy_context\n",
    "\n",
    "class Test:\n",
    "    \n",
    "    def __init__(self):\n",
    "        self.attr = 10\n",
    "        \n",
    "    def func(self):\n",
    "        print(list(copy_context().items()))"
   ]
  },
  {
   "cell_type": "code",
   "execution_count": 2,
   "id": "33b64d4b-43c9-4d94-8641-b35e2432e8b7",
   "metadata": {},
   "outputs": [],
   "source": [
    "from contextlib import contextmanager\n",
    "from contextvars import ContextVar\n",
    "\n",
    "@contextmanager\n",
    "def ctx():\n",
    "    print('entering context')\n",
    "    var = ContextVar('var')\n",
    "    var.set(1000)\n",
    "    yield None\n",
    "    print('leaving context')\n",
    "    del var"
   ]
  },
  {
   "cell_type": "code",
   "execution_count": 4,
   "id": "87f0dad0-11d9-42e2-a756-cfdafb6200c7",
   "metadata": {},
   "outputs": [
    {
     "name": "stdout",
     "output_type": "stream",
     "text": [
      "entering context\n",
      "[(<ContextVar name='var' at 0x7f3d2a62b5b0>, 1000), (<ContextVar name='var' at 0x7f3d2a62a110>, 1000), (<ContextVar name='decimal_context' at 0x7f3d2c07c1d0>, Context(prec=28, rounding=ROUND_HALF_EVEN, Emin=-999999, Emax=999999, capitals=1, clamp=0, flags=[], traps=[InvalidOperation, DivisionByZero, Overflow]))]\n",
      "leaving context\n"
     ]
    }
   ],
   "source": [
    "t = Test()\n",
    "\n",
    "with ctx():\n",
    "    t.func()"
   ]
  },
  {
   "cell_type": "code",
   "execution_count": null,
   "id": "bf5bce2e-88fa-4470-9625-e20f6b7ed7d6",
   "metadata": {},
   "outputs": [],
   "source": []
  }
 ],
 "metadata": {
  "kernelspec": {
   "display_name": "Python 3 (ipykernel)",
   "language": "python",
   "name": "python3"
  },
  "language_info": {
   "codemirror_mode": {
    "name": "ipython",
    "version": 3
   },
   "file_extension": ".py",
   "mimetype": "text/x-python",
   "name": "python",
   "nbconvert_exporter": "python",
   "pygments_lexer": "ipython3",
   "version": "3.11.0"
  }
 },
 "nbformat": 4,
 "nbformat_minor": 5
}
