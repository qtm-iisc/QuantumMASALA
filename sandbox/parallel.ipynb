{
 "cells": [
  {
   "cell_type": "code",
   "execution_count": 1,
   "id": "e376e95c-e2c7-4c4a-90ab-08c31add0d37",
   "metadata": {},
   "outputs": [],
   "source": [
    "%load_ext autoreload\n",
    "%autoreload 2"
   ]
  },
  {
   "cell_type": "code",
   "execution_count": 2,
   "id": "e80f5c27-826f-4569-9ed0-85414d025ad3",
   "metadata": {},
   "outputs": [
    {
     "name": "stdout",
     "output_type": "stream",
     "text": [
      "Starting 4 engines with <class 'ipyparallel.cluster.launcher.MPIEngineSetLauncher'>\n",
      "100%|███████████████████████████████████████████████████████████████████████████████████████████████████████████████████████████████████████████████████████████████████████████████████████████████████████████████████████████████████| 4/4 [00:05<00:00,  1.41s/engine]\n",
      "hello\n",
      "Hello World from rank 0. total ranks=4. host=pop-os\n",
      "Hello World from rank 1. total ranks=4. host=pop-os\n",
      "Hello World from rank 2. total ranks=4. host=pop-os\n",
      "Hello World from rank 3. total ranks=4. host=pop-os\n",
      "Stopping engine(s): 1686989258\n",
      "engine set stopped 1686989258: {'exit_code': 1, 'pid': 8754, 'identifier': 'ipengine-1686989257-syq9-1686989258-8710'}\n",
      "Stopping controller\n",
      "Controller stopped: {'exit_code': 0, 'pid': 8725, 'identifier': 'ipcontroller-1686989257-syq9-8710'}\n"
     ]
    }
   ],
   "source": [
    "import ipyparallel as ipp\n",
    "def mpi_example():\n",
    "    from mpi4py import MPI\n",
    "    comm = MPI.COMM_WORLD\n",
    "    return f\"Hello World from rank {comm.Get_rank()}. total ranks={comm.Get_size()}. host={MPI.Get_processor_name()}\"\n",
    "\n",
    "# request an MPI cluster with 24 engines\n",
    "with ipp.Cluster(controller_ip=\"*\", engines=\"mpi\", n=4) as rc:\n",
    "    # get a broadcast_view on the cluster which is best\n",
    "    # suited for MPI style computation\n",
    "    view = rc.broadcast_view()\n",
    "    # run the mpi_example function on all engines in parallel\n",
    "    r = view.apply_sync(mpi_example)\n",
    "    # Retrieve and print the result from the engines\n",
    "    print('hello')\n",
    "    print(\"\\n\".join(r))\n",
    "# at this point, the cluster processes have been shutdown"
   ]
  },
  {
   "cell_type": "code",
   "execution_count": 3,
   "id": "faa351d5-9c45-454c-904d-014aea1b0e28",
   "metadata": {},
   "outputs": [],
   "source": [
    "import numpy as np\n",
    "\n",
    "alat = 5.107\n",
    "ecutwfc = 20\n",
    "ecutrho = 4 * ecutwfc\n",
    "\n",
    "latvec_alat = 0.5 * np.array([\n",
    "    [ 1,  1,  1],\n",
    "    [-1,  1,  1], \n",
    "    [-1, -1,  1]\n",
    "]).T"
   ]
  },
  {
   "cell_type": "code",
   "execution_count": 4,
   "id": "890d6ce0-1b6a-4f80-8aba-27e9c404bf63",
   "metadata": {},
   "outputs": [
    {
     "name": "stdout",
     "output_type": "stream",
     "text": [
      "a1 : [2.5535, -2.5535, -2.5535]\n",
      "a2 : [2.5535, 2.5535, -2.5535]\n",
      "a3 : [2.5535, 2.5535, 2.5535]\n",
      "[[ 2.5535 -2.5535 -2.5535]\n",
      " [ 2.5535  2.5535 -2.5535]\n",
      " [ 2.5535  2.5535  2.5535]]\n",
      "[[ 1.00000000e+00 -5.55111512e-17 -5.55111512e-17]\n",
      " [ 0.00000000e+00  1.00000000e+00  1.66533454e-16]\n",
      " [-5.55111512e-17  5.55111512e-17  1.00000000e+00]]\n",
      "[[ 1.00000000e+00 -7.08738623e-17 -7.08738623e-17]\n",
      " [ 0.00000000e+00  1.00000000e+00  1.41747725e-16]\n",
      " [-7.08738623e-17  7.08738623e-17  1.00000000e+00]]\n"
     ]
    }
   ],
   "source": [
    "from qtmpy.lattice import RealLattice\n",
    "\n",
    "reallat = RealLattice.from_alat(alat, *latvec_alat)\n",
    "for i, ax in enumerate(reallat.axes_cart):\n",
    "    print(f\"a{i+1} : {ax}\")\n",
    "\n",
    "l_vec_cryst = np.eye(3)\n",
    "l_vec_cart = reallat.cryst2cart(l_vec_cryst, axis=1)\n",
    "\n",
    "print(l_vec_cart)\n",
    "\n",
    "l_vec_cart = reallat.latvec\n",
    "l_vec_cryst = reallat.cart2cryst(l_vec_cart, axis=0)\n",
    "print(l_vec_cryst)\n",
    "\n",
    "l_vec_cryst = reallat.alat2cryst(l_vec_cart / reallat.alat, axis=0)\n",
    "print(l_vec_cryst)"
   ]
  },
  {
   "cell_type": "code",
   "execution_count": 5,
   "id": "d5d93240-5d9f-46c4-a9bb-1c685ca04168",
   "metadata": {},
   "outputs": [],
   "source": [
    "from qtmpy.config import qtmconfig\n",
    "from qtmpy.lattice import ReciLattice\n",
    "from qtmpy.gspace.gspc import GSpace\n",
    "\n",
    "qtmconfig.fft_backend = 'numpy'\n",
    "\n",
    "recilat = ReciLattice.from_reallat(reallat)\n",
    "gspc = GSpace(recilat, ecutrho)"
   ]
  },
  {
   "cell_type": "code",
   "execution_count": 6,
   "id": "2e537b73-9d43-462b-ad7b-a44edccfb6d1",
   "metadata": {},
   "outputs": [
    {
     "name": "stdout",
     "output_type": "stream",
     "text": [
      "(18, 18, 18)\n",
      "[[ 0  0  0 ... -1 -1 -1]\n",
      " [ 0  0  0 ... -1 -1 -1]\n",
      " [ 0  1  2 ... -3 -2 -1]]\n"
     ]
    }
   ],
   "source": [
    "print(gspc.grid_shape)\n",
    "print(gspc.g_cryst)"
   ]
  },
  {
   "cell_type": "code",
   "execution_count": 7,
   "id": "c87dac02-4f7e-4beb-becd-5dff35fbc519",
   "metadata": {},
   "outputs": [],
   "source": [
    "# Choose the axis/alignmennt of sticks\n",
    "axis = 2\n",
    "\n",
    "grid_shape = gspc.grid_shape\n",
    "g_cryst = gspc.g_cryst\n",
    "numg = gspc.size\n",
    "\n",
    "# Each G vector will be part of a stick that is labelled\n",
    "# by its coordinates in which the one corresponding to \n",
    "# 'axis' is neglected\n",
    "isticks = np.delete(g_cryst, axis, 0)\n",
    "ni = np.delete(grid_shape, axis, 0)\n",
    "\n",
    "# The 2d label of sticks are mapped to 1d numbers here\n",
    "isticks += (isticks < 0) * ni.reshape((2, 1))\n",
    "isticks = ni[1] * isticks[0] + isticks[1]\n",
    "\n",
    "# G-vectors are now sorted so that those lying along the same\n",
    "# stick is grouped together.\n",
    "idxsort = np.argsort(isticks)\n",
    "g_cryst = g_cryst[(slice(None), idxsort)]\n",
    "\n",
    "# The number of sticks are given by the unique label entries\n",
    "isticks, lensticks = np.unique(isticks, return_counts=True)\n",
    "# Note that np.unique gives unique and sorted list of isticks\n",
    "numsticks = len(isticks)"
   ]
  },
  {
   "cell_type": "code",
   "execution_count": 8,
   "id": "db67491e-60a2-45c7-a62c-fa608910713e",
   "metadata": {},
   "outputs": [
    {
     "name": "stdout",
     "output_type": "stream",
     "text": [
      "229\n"
     ]
    }
   ],
   "source": [
    "print(len(isticks))\n",
    "#print(np.column_stack((isticks, lensticks)))"
   ]
  },
  {
   "cell_type": "code",
   "execution_count": 18,
   "id": "8b1dcf70-0cd8-461e-ba54-6188d6b9947f",
   "metadata": {},
   "outputs": [
    {
     "data": {
      "text/plain": [
       "array([0, 1, 1, 2, 2, 1, 4])"
      ]
     },
     "execution_count": 18,
     "metadata": {},
     "output_type": "execute_result"
    }
   ],
   "source": [
    "x = np.array([0, 1, 5, 10, 11, 3, 10001])\n",
    "bins = np.array([1, 10, 100, 1000])\n",
    "inds = np.digitize(x, bins, right=False)\n",
    "inds"
   ]
  },
  {
   "cell_type": "code",
   "execution_count": 19,
   "id": "7cb8269f-7cce-4ee2-be9d-88feeaea90f3",
   "metadata": {},
   "outputs": [
    {
     "name": "stdout",
     "output_type": "stream",
     "text": [
      "[2 2 2 0 0 3 1]\n"
     ]
    }
   ],
   "source": [
    "bins = np.array([1, 10, 100, 1000])\n",
    "y = np.array([100, 100, 100, 1, 1, 1000, 10])\n",
    "print(np.searchsorted(bins, y, side='left'))"
   ]
  },
  {
   "cell_type": "code",
   "execution_count": 23,
   "id": "99476acc-0eae-4afb-bc6b-750467a134d8",
   "metadata": {},
   "outputs": [
    {
     "name": "stdout",
     "output_type": "stream",
     "text": [
      "[  10   10   10   10   10  100 1000 1000]\n"
     ]
    }
   ],
   "source": [
    "print(np.repeat([10, 100, 1000], [5, 1, 2]))\n"
   ]
  },
  {
   "cell_type": "code",
   "execution_count": null,
   "id": "2f930c0e-2eb7-4580-b90c-41bef077320c",
   "metadata": {},
   "outputs": [
    {
     "name": "stdout",
     "output_type": "stream",
     "text": [
      "(array([2, 1, 0]), array([1, 2, 3, 4]))\n"
     ]
    }
   ],
   "source": [
    "x = np.array([0, 0, 0, 1, 1, 2])\n",
    "bins = np.arange(4 + 1, dtype='i8')\n",
    "print(np.histogram(x, bins))"
   ]
  },
  {
   "cell_type": "code",
   "execution_count": 15,
   "id": "0c2506a1-c322-417e-8acc-c44b105dc48a",
   "metadata": {},
   "outputs": [
    {
     "name": "stdout",
     "output_type": "stream",
     "text": [
      "[15 14 15 14 13 12 11  8  5  5]\n"
     ]
    },
    {
     "data": {
      "text/plain": [
       "array([ 15,  29,  44,  58,  71,  83,  94, 102, 107, 112])"
      ]
     },
     "execution_count": 11,
     "metadata": {},
     "output_type": "execute_result"
    }
   ],
   "source": [
    "print(lensticks[:10])\n",
    "np.cumsum(lensticks)[:10]"
   ]
  },
  {
   "cell_type": "code",
   "execution_count": 14,
   "id": "2ea363ed-f4c2-4fb6-909b-36a5b385547b",
   "metadata": {},
   "outputs": [
    {
     "name": "stdout",
     "output_type": "stream",
     "text": [
      "[0 0 0 0 0 0 0 0 0 0 0 0 0 0 0 0 0 0 0 0 0 0 0 0 0 0 0 0 0 0 0 0 0 0 0 0 0\n",
      " 0 0 0 0 0 0 0 0 0 0 0 0 0 0 0 0 0 0 0 0 0 0 0 0 0 0 0 0 0 0 0 0 0 0 0 0 0\n",
      " 0 0 0 0 0 0 0 0 0 0 0 0 0 0 0 0 0 0 0 0 0 0 0 0 0 0 0 0 0 0 0 0 0 0 0 0 0\n",
      " 0 0 0 0 0 0 0 0 0 0 0 0 0 0 0 0 0 0 0 0 0 0 0 0 0 0 0 0 0 0 0 0 0 0 0 0 0\n",
      " 0 0 0 0 0 0 0 0 0 0 0 0 0 0 0 0 0 0 0 0 0 0 0 0 0 0 0 0 0 0 0 0 0 0 0 0 0\n",
      " 0 0 0 0 0 0 0 0 0 0 0 0 0 0 0 0 0 0 0 0 0 0 0 0 0 0 0 0 0 0 0 0 0 0 0 0 0\n",
      " 0 0 0 0 0 0 0 0 0 0 0 0 0 0 0 0 0 0 0 0 0 0 0 0 0 0 0 0 0 0 0 0 0 0 0 0 0\n",
      " 0 0 0 0 0 0 0 0 0 0 0 0 0 0 0 0 0 0 0 0 0 0 0 0 0 0 0 0 0 0 0 0 0 0 0 0 0\n",
      " 0 0 0 0 0 0 0 0 0 0 0 0 0 0 0 0 0 0 0 0 0 0 0 0 0 0 0 0 0 0 0 0 0 0 0 0 0\n",
      " 0 0 0 0 0 0 0 0 0 0 0 0 0 0 0 0 0 0 0 0 0 0 0 0 0 0 0 0 0 0 0 0 0 0 0 0 0\n",
      " 0 0 0 0 0 0 0 0 0 0 0 0 0 0 0 0 0 0 0 0 0 0 0 0 0 0 0 0 0 0 0 0 0 0 0 0 0\n",
      " 0 0 0 0 0 0 0 0 0 0 0 0 0 0 0 0 0 0 0 0 0 0 0 0 0 0 0 0 0 0 0 0 0 0 0 0 0\n",
      " 0 0 0 0 0 0 0 0 0 0 0 0 0 0 0 0 0 0 0 0 0 0 0 0 0 0 0 0 0 0 0 0 0 0 0 0 0\n",
      " 0 0 0 0 0 0 0 0 0 0 0 0 0 0 0 0 0 0 0 0 0 0 0 0 0 0 0 0 0 0 0 0 0 0 0 0 0\n",
      " 0 0 0 0 0 0 0 0 0 0 0 0 0 0 0 0 0 0 0 0 0 0 0 0 0 0 0 0 0 0 0 0 0 0 0 0 0\n",
      " 0 0 0 0 0 0]\n",
      "[561   0   0   0] [667 511 441 624]\n",
      "[0 0 0 0 0 0 0 0 0 0 0 0 0 0 0 0 0 0 0 0 0 0 0 0 0 0 0 0 0 0 0 0 0 0 0 0 0\n",
      " 0 0 0 0 0 0 0 0 0 0 0 0 0 0 0 0 0 0 0 0 0 0 0 0 0 0 0 0 0 0 0 0 0 0 0 0 0\n",
      " 0 0 0 0 0 0 0 0 0 0 0 0 0 0 0 0 0 0 0 0 0 0 0 0 0 0 0 0 0 0 0 0 1 1 1 1 1\n",
      " 1 1 1 1 1 1 1 1 1 1 1 1 1 1 1 1 1 1 1 1 1 1 1 1 1 1 1 1 1 1 1 1 1 1 1 1 1\n",
      " 1 1 1 1 1 1 1 1 1 1 1 1 1 1 1 1 1 1 1 1 1 1 1 1 1 1 1 1 1 1 1 1 1 1 1 1 1\n",
      " 1 1 1 1 1 1 1 1 1 1 1 1 1 1 1 1 1 1 1 1 1 1 1 1 1 1 1 1 1 1 1 1 1 1 1 1 1\n",
      " 1 1 1 1 1 1 1 1 1 1 1 1 1 1 1 1 1 1 1 1 1 1 1 1 1 1 1 1 1 1 1 1 1 1 1 1 1\n",
      " 1 1 1 1 1 1 1 1 1 1 1 1 1 1 1 1 1 1 1 1 1 1 1 1 1 1 1 1 1 1 1 1 1 1 1 1 1\n",
      " 1 1 1 1 1 1 1 1 1 1 1 1 1 1 1 1 1 1 1 1 1 1 1 1 1 1 1 1 1 1 1 1 1 1 1 1 1\n",
      " 1 1 1 1 1 1 1 1 1 1 1 1 1 1 1 1 1 1 1 1 1 1 1 1 1 1 1 1 1 1 1 1 1 1 1 1 1\n",
      " 1 1 1 1 1 1 1 1 1 1 1 1 1 1 1 1 1 1 1 1 1 1 1 1 1 1 1 1 1 1 1 1 1 1 1 1 1\n",
      " 1 1 1 1 1 1 1 1 1 1 1 1 1 1 1 1 1 1 1 1 1 1 1 1 1 1 1 1 1 1 1 1 1 1 1 1 1\n",
      " 1 1 1 1 1 1 1 1 1 1 1 1 1 1 1 1 1 1 1 1 1 1 1 1 1 1 1 1 1 1 1 1 1 1 1 1 1\n",
      " 1 1 1 1 1 1 1 1 1 1 1 1 1 1 1 1 1 1 1 1 1 1 1 1 1 1 1 1 1 1 1 1 1 1 1 1 1\n",
      " 1 1 1 1 1 1 1 1 1 1 1 1 1 1 1 1 1 1 1 1 1 1 1 1 1 1 1 1 1 1 1 1 1 1 1 1 1\n",
      " 1 1 1 1 1 1]\n",
      "[106 455   0   0] [667 511 441 624]\n",
      "[1 1 1 1 1 1 1 1 1 1 1 1 1 1 1 1 1 1 1 1 1 1 1 1 1 1 1 1 1 1 1 1 1 1 1 1 1\n",
      " 1 1 1 1 1 1 1 1 1 1 1 1 1 1 1 1 1 1 1 2 2 2 2 2 2 2 2 2 2 2 2 2 2 2 2 2 2\n",
      " 2 2 2 2 2 2 2 2 2 2 2 2 2 2 2 2 2 2 2 2 2 2 2 2 2 2 2 2 2 2 2 2 2 2 2 2 2\n",
      " 2 2 2 2 2 2 2 2 2 2 2 2 2 2 2 2 2 2 2 2 2 2 2 2 2 2 2 2 2 2 2 2 2 2 2 2 2\n",
      " 2 2 2 2 2 2 2 2 2 2 2 2 2 2 2 2 2 2 2 2 2 2 2 2 2 2 2 2 2 2 2 2 2 2 2 2 2\n",
      " 2 2 2 2 2 2 2 2 2 2 2 2 2 2 2 2 2 2 2 2 2 2 2 2 2 2 2 2 2 2 2 2 2 2 2 2 2\n",
      " 2 2 2 2 2 2 2 2 2 2 2 2 2 2 2 2 2 2 2 2 2 2 2 2 2 2 2 2 2 2 2 2 2 2 2 2 2\n",
      " 2 2 2 2 2 2 2 2 2 2 2 2 2 2 2 2 2 2 2 2 2 2 2 2 2 2 2 2 2 2 2 2 2 2 2 2 2\n",
      " 2 2 2 2 2 2 2 2 2 2 2 2 2 2 2 2 2 2 2 2 2 2 2 2 2 2 2 2 2 2 2 2 2 2 2 2 2\n",
      " 2 2 2 2 2 2 2 2 2 2 2 2 2 2 2 2 2 2 2 2 2 2 2 2 2 2 2 2 2 2 2 2 2 2 2 2 2\n",
      " 2 2 2 2 2 2 2 2 2 2 2 2 2 2 2 2 2 2 2 2 2 2 2 2 2 2 2 2 2 2 2 2 2 2 2 2 2\n",
      " 2 2 2 2 2 2 2 2 2 2 2 2 2 2 2 2 2 2 2 2 2 2 2 2 2 2 2 2 2 2 2 2 2 2 2 2 2\n",
      " 2 2 2 2 2 2 2 2 2 2 2 2 2 2 2 2 2 2 2 2 2 2 2 2 2 2 2 2 2 2 2 2 2 2 2 2 2\n",
      " 2 2 2 2 2 2 2 2 2 2 2 2 2 2 2 2 3 3 3 3 3 3 3 3 3 3 3 3 3 3 3 3 3 3 3 3 3\n",
      " 3 3 3 3 3 3 3 3 3 3 3 3 3 3 3 3 3 3 3 3 3 3 3 3 3 3 3 3 3 3 3 3 3 3 3 3 3\n",
      " 3 3 3 3 3 3]\n",
      "[  0  56 441  64] [667 511 441 624]\n",
      "[3 3 3 3 3 3 3 3 3 3 3 3 3 3 3 3 3 3 3 3 3 3 3 3 3 3 3 3 3 3 3 3 3 3 3 3 3\n",
      " 3 3 3 3 3 3 3 3 3 3 3 3 3 3 3 3 3 3 3 3 3 3 3 3 3 3 3 3 3 3 3 3 3 3 3 3 3\n",
      " 3 3 3 3 3 3 3 3 3 3 3 3 3 3 3 3 3 3 3 3 3 3 3 3 3 3 3 3 3 3 3 3 3 3 3 3 3\n",
      " 3 3 3 3 3 3 3 3 3 3 3 3 3 3 3 3 3 3 3 3 3 3 3 3 3 3 3 3 3 3 3 3 3 3 3 3 3\n",
      " 3 3 3 3 3 3 3 3 3 3 3 3 3 3 3 3 3 3 3 3 3 3 3 3 3 3 3 3 3 3 3 3 3 3 3 3 3\n",
      " 3 3 3 3 3 3 3 3 3 3 3 3 3 3 3 3 3 3 3 3 3 3 3 3 3 3 3 3 3 3 3 3 3 3 3 3 3\n",
      " 3 3 3 3 3 3 3 3 3 3 3 3 3 3 3 3 3 3 3 3 3 3 3 3 3 3 3 3 3 3 3 3 3 3 3 3 3\n",
      " 3 3 3 3 3 3 3 3 3 3 3 3 3 3 3 3 3 3 3 3 3 3 3 3 3 3 3 3 3 3 3 3 3 3 3 3 3\n",
      " 3 3 3 3 3 3 3 3 3 3 3 3 3 3 3 3 3 3 3 3 3 3 3 3 3 3 3 3 3 3 3 3 3 3 3 3 3\n",
      " 3 3 3 3 3 3 3 3 3 3 3 3 3 3 3 3 3 3 3 3 3 3 3 3 3 3 3 3 3 3 3 3 3 3 3 3 3\n",
      " 3 3 3 3 3 3 3 3 3 3 3 3 3 3 3 3 3 3 3 3 3 3 3 3 3 3 3 3 3 3 3 3 3 3 3 3 3\n",
      " 3 3 3 3 3 3 3 3 3 3 3 3 3 3 3 3 3 3 3 3 3 3 3 3 3 3 3 3 3 3 3 3 3 3 3 3 3\n",
      " 3 3 3 3 3 3 3 3 3 3 3 3 3 3 3 3 3 3 3 3 3 3 3 3 3 3 3 3 3 3 3 3 3 3 3 3 3\n",
      " 3 3 3 3 3 3 3 3 3 3 3 3 3 3 3 3 3 3 3 3 3 3 3 3 3 3 3 3 3 3 3 3 3 3 3 3 3\n",
      " 3 3 3 3 3 3 3 3 3 3 3 3 3 3 3 3 3 3 3 3 3 3 3 3 3 3 3 3 3 3 3 3 3 3 3 3 3\n",
      " 3 3 3 3 3]\n",
      "[  0   0   0 560] [667 511 441 624]\n"
     ]
    }
   ],
   "source": [
    "# Now distrbuting the g vectors\n",
    "# They are distributed based on the sorted order, not the original order\n",
    "# This allows us to transfer them as vectors using MPI_Alltoallv\n",
    "numg_global = numg\n",
    "g_cryst_global = np.copy(g_cryst)\n",
    "isticks_global = np.copy(isticks)\n",
    "lensticks_global = np.copy(lensticks)\n",
    "numsticks_global = numsticks\n",
    "\n",
    "nproc = 4\n",
    "for iproc in range(nproc):\n",
    "    # First construct the local slice of G-vectors\n",
    "    numg_proc = (numg_global // nproc) + (numg_global % nproc > iproc)\n",
    "    ig_start = iproc * (numg_global // nproc) + min(numg_global % nproc, iproc)\n",
    "    ig_stop = ig_start + numg_proc\n",
    "    ig_local = slice(ig_start, ig_stop)\n",
    "    \n",
    "    # Find the list of local sticks\n",
    "    numsticks_proc = (numsticks_global // nproc) + (numsticks_global % nproc > iproc)\n",
    "    istick_start = iproc * (numsticks_global // nproc) + min(numsticks_global % nproc, iproc)\n",
    "    istick_stop = istick_start + numsticks_proc\n",
    "    isticks_local = isticks_global[istick_start:istick_stop]\n",
    "    #print(isticks_local)\n",
    "    \n",
    "    # Find the corresponding istick coordinate of the local G-vectors\n",
    "    g_isticks_global = np.delete(g_cryst_global, axis, 0)\n",
    "    ni = np.delete(grid_shape, axis, 0)\n",
    "    g_isticks_global += (g_isticks_global < 0) * ni.reshape((2, 1))\n",
    "    g_isticks_global = ni[1] * g_isticks_global[0] + g_isticks_global[1]\n",
    "    \n",
    "    # Find out which istick goes to which proc\n",
    "    l_numsticks_world = (numsticks_global // nproc) \\\n",
    "        + (numsticks_global % nproc > np.arange(nproc, dtype='i8'))\n",
    "    bin_edges = isticks_global[np.cumsum(l_numsticks_world) - 1]\n",
    "    #print(bin_edges)\n",
    "    g_global_iproc = np.digitize(g_isticks_global, bin_edges, right=True)\n",
    "    g_local_iproc = g_global_iproc[ig_local]\n",
    "    print(g_local_iproc)\n",
    "    sendbufspec, _ = np.histogram(g_local_iproc, np.arange(nproc + 1, dtype='i8'))\n",
    "    recvbufspec, _ = np.histogram(g_global_iproc, np.arange(nproc + 1, dtype='i8'))\n",
    "    print(sendbufspec, recvbufspec)"
   ]
  },
  {
   "cell_type": "code",
   "execution_count": 35,
   "id": "0ef29f54-6183-4ae4-8b2f-67880e90dacc",
   "metadata": {},
   "outputs": [
    {
     "name": "stdout",
     "output_type": "stream",
     "text": [
      "229 58 0 58\n",
      "[ 0  1  2  3  4  5  6  7  8 10 11 12 13 14 15 16 17 18 19 20 21 22 23 24\n",
      " 25 26 29 30 31 32 33 34 35 36 37 38 39 40 41 42 43 44 47 48 49 50 51 52\n",
      " 53 54 55 56 57 58 59 60 61 62]\n",
      "229 57 58 115\n",
      "[ 66  67  68  69  70  71  72  73  74  75  76  77  78  79  80  84  85  86\n",
      "  87  88  89  90  91  92  93  94  95  96  97  98 103 104 105 106 107 108\n",
      " 109 110 111 112 113 114 115 116 122 123 124 125 126 127 128 129 130 131\n",
      " 132 133 142]\n",
      "229 57 115 172\n",
      "[143 144 145 146 147 148 149 150 180 192 193 194 195 196 197 198 199 200\n",
      " 209 210 211 212 213 214 215 216 217 218 219 220 226 227 228 229 230 231\n",
      " 232 233 234 235 236 237 238 239 244 245 246 247 248 249 250 251 252 253\n",
      " 254 255 256]\n",
      "229 57 172 229\n",
      "[257 258 262 263 264 265 266 267 268 269 270 271 272 273 274 275 276 280\n",
      " 281 282 283 284 285 286 287 288 289 290 291 292 293 294 295 298 299 300\n",
      " 301 302 303 304 305 306 307 308 309 310 311 312 313 316 317 318 319 320\n",
      " 321 322 323]\n"
     ]
    }
   ],
   "source": [
    "nproc = 4\n",
    "bin_edges = []\n",
    "for iproc in range(nproc):\n",
    "    numsticks_proc = (numsticks // nproc) + (numsticks % nproc > iproc)\n",
    "    istick_start = iproc * (numsticks // nproc) + min(numsticks % nproc, iproc)\n",
    "    istick_stop = istick_start + numsticks_proc\n",
    "    bin_edges.append(istick_stop)\n",
    "    print(numsticks, numsticks_proc, istick_start, istick_stop)\n",
    "    print(isticks[istick_start: istick_stop])"
   ]
  },
  {
   "cell_type": "code",
   "execution_count": 37,
   "id": "3f99a53c-5efb-4e21-904a-733fff1f2492",
   "metadata": {},
   "outputs": [
    {
     "name": "stdout",
     "output_type": "stream",
     "text": [
      "[58, 115, 172, 229]\n"
     ]
    }
   ],
   "source": [
    "print(bin_edges)\n",
    "ax_dist = (2, 2)"
   ]
  },
  {
   "cell_type": "code",
   "execution_count": 1,
   "id": "aa07601e-9c4c-43c4-ab3f-e6303463b21b",
   "metadata": {},
   "outputs": [
    {
     "name": "stdout",
     "output_type": "stream",
     "text": [
      "0/1: (10, 12, 15)->(10, 12, 15), (slice(0, 10, None), slice(0, 12, None), slice(0, 15, None))\n",
      "Starting 4 engines with <class 'ipyparallel.cluster.launcher.MPIEngineSetLauncher'>\n",
      "100%|██████████████████████████████████████████████████████████████████████████████████████████| 4/4 [00:05<00:00,  1.45s/engine]\n",
      "0/4: (10, 12, 15)->(5, 6, 15), (slice(0, 5, None), slice(0, 6, None), slice(0, 15, None))\n",
      "1/4: (10, 12, 15)->(5, 6, 15), (slice(0, 5, None), slice(6, 12, None), slice(0, 15, None))\n",
      "2/4: (10, 12, 15)->(5, 6, 15), (slice(5, 10, None), slice(0, 6, None), slice(0, 15, None))\n",
      "3/4: (10, 12, 15)->(5, 6, 15), (slice(5, 10, None), slice(6, 12, None), slice(0, 15, None))\n",
      "Stopping engine(s): 1686721140\n",
      "engine set stopped 1686721140: {'exit_code': 1, 'pid': 8254, 'identifier': 'ipengine-1686721139-b27l-1686721140-7979'}\n",
      "Stopping controller\n",
      "Controller stopped: {'exit_code': 0, 'pid': 8225, 'identifier': 'ipcontroller-1686721139-b27l-7979'}\n"
     ]
    }
   ],
   "source": [
    "import ipyparallel as ipp\n",
    "\n",
    "nproc = 4\n",
    "shape = (10, 12, 15)\n",
    "distrib = [2, 2, 1]\n",
    "    \n",
    "def test_pfft(shape, distrib):\n",
    "    from mpi4py import MPI\n",
    "    from mpi4py_fft import DistArray\n",
    "    comm = MPI.COMM_WORLD\n",
    "    comm_size, comm_rank = comm.Get_size(), comm.Get_rank()\n",
    "\n",
    "    arr = DistArray(shape, distrib, dtype='c16')\n",
    "    return f\"{comm_rank}/{comm_size}: {shape}->{arr.shape}, {arr.local_slice()}\"\n",
    "    \n",
    "print(test_pfft(shape, [0, 0, 1]))\n",
    "\n",
    "# request an MPI cluster with 24 engines\n",
    "with ipp.Cluster(controller_ip=\"*\", engines=\"mpi\", n=nproc) as rc:\n",
    "    view = rc.broadcast_view()\n",
    "    r = view.apply_sync(test_pfft, shape, distrib)\n",
    "    print(\"\\n\".join(r))"
   ]
  },
  {
   "cell_type": "code",
   "execution_count": 21,
   "id": "28d17dd5-8911-418c-becd-933f077a85e2",
   "metadata": {},
   "outputs": [
    {
     "ename": "AttributeError",
     "evalue": "'numpy.ndarray' object has no attribute '__array_namespace__'",
     "output_type": "error",
     "traceback": [
      "\u001B[0;31m---------------------------------------------------------------------------\u001B[0m",
      "\u001B[0;31mAttributeError\u001B[0m                            Traceback (most recent call last)",
      "Cell \u001B[0;32mIn[21], line 7\u001B[0m\n\u001B[1;32m      4\u001B[0m shape \u001B[38;5;241m=\u001B[39m (\u001B[38;5;241m10\u001B[39m, \u001B[38;5;241m10\u001B[39m)\n\u001B[1;32m      5\u001B[0m nproc \u001B[38;5;241m=\u001B[39m \u001B[38;5;241m4\u001B[39m\n\u001B[0;32m----> 7\u001B[0m \u001B[38;5;28mprint\u001B[39m(\u001B[43mnp\u001B[49m\u001B[38;5;241;43m.\u001B[39;49m\u001B[43mzeros\u001B[49m\u001B[43m(\u001B[49m\u001B[38;5;241;43m10\u001B[39;49m\u001B[43m)\u001B[49m\u001B[38;5;241;43m.\u001B[39;49m\u001B[43m__array_namespace__\u001B[49m)\n\u001B[1;32m      9\u001B[0m \u001B[38;5;28;01mclass\u001B[39;00m \u001B[38;5;21;01mTest\u001B[39;00m:\n\u001B[1;32m     11\u001B[0m     \u001B[38;5;28;01mdef\u001B[39;00m \u001B[38;5;21m__init__\u001B[39m(\u001B[38;5;28mself\u001B[39m, val):\n",
      "\u001B[0;31mAttributeError\u001B[0m: 'numpy.ndarray' object has no attribute '__array_namespace__'"
     ]
    }
   ],
   "source": [
    "import numpy as np\n",
    "import ipyparallel as ipp\n",
    "\n",
    "shape = (10, 10)\n",
    "nproc = 4\n",
    "\n",
    "\n",
    "class Test:\n",
    "    \n",
    "    def __init__(self, val):\n",
    "        self.buffer = np.empty(shape, dtype='i8')\n",
    "        self.buffer[:] = val\n",
    "        \n",
    "    def __array__(self):\n",
    "        return self.buffer\n",
    "    \n",
    "\n",
    "def test_array():\n",
    "    from mpi4py import MPI\n",
    "    from mpi4py.MPI import IN_PLACE, SUM\n",
    "    from mpi4py_fft import DistArray\n",
    "    comm = MPI.COMM_WORLD\n",
    "    comm_size, comm_rank = comm.Get_size(), comm.Get_rank()\n",
    "\n",
    "    arr = Test(comm_rank)\n",
    "    val_final = (comm_size - 1) * comm_size // 2\n",
    "    comm.Allreduce(IN_PLACE, arr.buffer, op=SUM)\n",
    "    check = np.all(arr.buffer == val_final)\n",
    "    return f\"{comm_rank}/{comm_size}: {check}\"\n",
    "    \n",
    "print(test_array())\n",
    "\n",
    "# request an MPI cluster with 24 engines\n",
    "with ipp.Cluster(controller_ip=\"*\", engines=\"mpi\", n=nproc) as rc:\n",
    "    view = rc.broadcast_view()\n",
    "    r = view.apply_sync(test_array)\n",
    "    print(\"\\n\".join(r))"
   ]
  },
  {
   "cell_type": "code",
   "execution_count": null,
   "id": "f1fb2538-ce93-4c7b-8e35-b5a36a7de43e",
   "metadata": {},
   "outputs": [],
   "source": []
  }
 ],
 "metadata": {
  "kernelspec": {
   "display_name": "Python 3 (ipykernel)",
   "language": "python",
   "name": "python3"
  },
  "language_info": {
   "codemirror_mode": {
    "name": "ipython",
    "version": 3
   },
   "file_extension": ".py",
   "mimetype": "text/x-python",
   "name": "python",
   "nbconvert_exporter": "python",
   "pygments_lexer": "ipython3",
   "version": "3.11.0"
  }
 },
 "nbformat": 4,
 "nbformat_minor": 5
}
