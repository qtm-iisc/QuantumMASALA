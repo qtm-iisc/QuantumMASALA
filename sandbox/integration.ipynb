{
 "cells": [
  {
   "cell_type": "code",
   "execution_count": 1,
   "metadata": {},
   "outputs": [],
   "source": [
    "%load_ext autoreload\n",
    "%autoreload 2"
   ]
  },
  {
   "cell_type": "code",
   "execution_count": 2,
   "metadata": {
    "tags": []
   },
   "outputs": [],
   "source": [
    "import numpy as np\n",
    "\n",
    "alat = 5.107\n",
    "ecutwfc = 20\n",
    "ecutrho = 4 * ecutwfc\n",
    "\n",
    "latvec_alat = 0.5 * np.array([\n",
    "    [ 1,  1,  1],\n",
    "    [-1,  1,  1], \n",
    "    [-1, -1,  1]\n",
    "]).T"
   ]
  },
  {
   "cell_type": "code",
   "execution_count": 3,
   "metadata": {},
   "outputs": [
    {
     "name": "stdout",
     "output_type": "stream",
     "text": [
      "a1 : [2.5535, -2.5535, -2.5535]\n",
      "a2 : [2.5535, 2.5535, -2.5535]\n",
      "a3 : [2.5535, 2.5535, 2.5535]\n",
      "[[ 2.5535 -2.5535 -2.5535]\n",
      " [ 2.5535  2.5535 -2.5535]\n",
      " [ 2.5535  2.5535  2.5535]]\n",
      "[[ 1.00000000e+00 -5.55111512e-17 -5.55111512e-17]\n",
      " [ 0.00000000e+00  1.00000000e+00  1.66533454e-16]\n",
      " [-5.55111512e-17  5.55111512e-17  1.00000000e+00]]\n",
      "[[ 1.00000000e+00 -7.08738623e-17 -7.08738623e-17]\n",
      " [ 0.00000000e+00  1.00000000e+00  1.41747725e-16]\n",
      " [-7.08738623e-17  7.08738623e-17  1.00000000e+00]]\n"
     ]
    }
   ],
   "source": [
    "from qtmpy.lattice import RealLattice\n",
    "\n",
    "reallat = RealLattice.from_alat(alat, *latvec_alat)\n",
    "for i, ax in enumerate(reallat.axes_cart):\n",
    "    print(f\"a{i+1} : {ax}\")\n",
    "\n",
    "l_vec_cryst = np.eye(3)\n",
    "l_vec_cart = reallat.cryst2cart(l_vec_cryst, axis=1)\n",
    "\n",
    "print(l_vec_cart)\n",
    "\n",
    "l_vec_cart = reallat.latvec\n",
    "l_vec_cryst = reallat.cart2cryst(l_vec_cart, axis=0)\n",
    "print(l_vec_cryst)\n",
    "\n",
    "l_vec_cryst = reallat.alat2cryst(l_vec_cart / reallat.alat, axis=0)\n",
    "print(l_vec_cryst)"
   ]
  },
  {
   "cell_type": "code",
   "execution_count": 4,
   "metadata": {},
   "outputs": [],
   "source": [
    "from qtmpy.config import qtmconfig\n",
    "from qtmpy.lattice import ReciLattice\n",
    "from qtmpy.gspace.gspc import GSpace\n",
    "\n",
    "qtmconfig.fft_backend = 'numpy'\n",
    "\n",
    "recilat = ReciLattice.from_reallat(reallat)\n",
    "gspc = GSpace(recilat, ecutrho)"
   ]
  },
  {
   "cell_type": "code",
   "execution_count": 5,
   "metadata": {},
   "outputs": [
    {
     "name": "stdout",
     "output_type": "stream",
     "text": [
      "<KeysViewHDF5 ['MillerIndices', 'rhodiff_g', 'rhotot_g']>\n",
      "False\n",
      "False\n",
      "[  0   1  43 ... 200  78  18]\n",
      "[[ 0  0  0]\n",
      " [ 0  0  1]\n",
      " [ 0  0  2]\n",
      " ...\n",
      " [-1 -1 -3]\n",
      " [-1 -1 -2]\n",
      " [-1 -1 -1]]\n",
      "(2243,)\n"
     ]
    }
   ],
   "source": [
    "import h5py\n",
    "\n",
    "f = h5py.File('./charge-density.hdf5')\n",
    "\n",
    "print(f.keys())\n",
    "out = np.array(f['MillerIndices'])\n",
    "print(np.all(out == gspc.g_cryst.T[gspc.idxsort]))\n",
    "qe2qtm_map = np.argsort(gspc.idxsort)\n",
    "print(np.all(out[qe2qtm_map] == gspc.g_cryst.T))\n",
    "print(qe2qtm_map)\n",
    "print(gspc.g_cryst.T)\n",
    "rhotot_g = np.array(f['rhotot_g']).view('c16')\n",
    "rhodiff_g = np.array(f['rhodiff_g']).view('c16')\n",
    "print(rhotot_g.shape)\n",
    "f.close()"
   ]
  },
  {
   "cell_type": "code",
   "execution_count": 6,
   "metadata": {},
   "outputs": [
    {
     "name": "stdout",
     "output_type": "stream",
     "text": [
      "8.757842488417447e-19\n",
      "0.24024391957368915\n",
      "(0.24024391957368915+0j)\n"
     ]
    }
   ],
   "source": [
    "print(np.amax(np.abs(rhotot_g.imag)))\n",
    "print(np.amax(np.abs(rhotot_g.real)))\n",
    "print(rhotot_g[0])"
   ]
  },
  {
   "cell_type": "code",
   "execution_count": 7,
   "metadata": {},
   "outputs": [
    {
     "ename": "SyntaxError",
     "evalue": "invalid syntax. Perhaps you forgot a comma? (base.py, line 17)",
     "output_type": "error",
     "traceback": [
      "Traceback \u001B[0;36m(most recent call last)\u001B[0m:\n",
      "\u001B[0m  File \u001B[1;32m~/miniconda3/envs/qtmpy_new/lib/python3.11/site-packages/IPython/core/interactiveshell.py:3460\u001B[0m in \u001B[1;35mrun_code\u001B[0m\n    exec(code_obj, self.user_global_ns, self.user_ns)\u001B[0m\n",
      "\u001B[0m  Cell \u001B[1;32mIn[7], line 1\u001B[0m\n    from qtmpy.field import GField\u001B[0m\n",
      "\u001B[0;36m  File \u001B[0;32m~/qtmpy/src/qtmpy/field/__init__.py:10\u001B[0;36m\n\u001B[0;31m    from .base import *\u001B[0;36m\n",
      "\u001B[0;36m  File \u001B[0;32m~/qtmpy/src/qtmpy/field/base.py:17\u001B[0;36m\u001B[0m\n\u001B[0;31m    buffer: NDArray, comm: Optional[]):\u001B[0m\n\u001B[0m                           ^\u001B[0m\n\u001B[0;31mSyntaxError\u001B[0m\u001B[0;31m:\u001B[0m invalid syntax. Perhaps you forgot a comma?\n"
     ]
    }
   ],
   "source": [
    "from qtmpy.field import GField\n",
    "\n",
    "rho = GField(gspc, np.array([rhotot_g, rhodiff_g]))"
   ]
  },
  {
   "cell_type": "code",
   "execution_count": null,
   "metadata": {},
   "outputs": [],
   "source": [
    "from qtmpy.field import concatenate, stack\n",
    "\n",
    "out = stack((rho[0], rho[1]), axis=0)"
   ]
  },
  {
   "cell_type": "code",
   "execution_count": null,
   "metadata": {},
   "outputs": [],
   "source": [
    "rho[0] = (rho[0] + rho[1]) / 2"
   ]
  },
  {
   "cell_type": "code",
   "execution_count": 9,
   "metadata": {},
   "outputs": [
    {
     "name": "stdout",
     "output_type": "stream",
     "text": [
      "a1 : [2.5535, -2.5535, -2.5535]\n",
      "a2 : [2.5535, 2.5535, -2.5535]\n",
      "a3 : [2.5535, 2.5535, 2.5535]\n",
      "[[ 2.5535 -2.5535 -2.5535]\n",
      " [ 2.5535  2.5535 -2.5535]\n",
      " [ 2.5535  2.5535  2.5535]]\n",
      "[[ 1.00000000e+00  0.00000000e+00  0.00000000e+00]\n",
      " [ 0.00000000e+00  1.00000000e+00  0.00000000e+00]\n",
      " [-5.55111512e-17 -5.55111512e-17  1.00000000e+00]]\n",
      "[[ 1.00000000e+00  0.00000000e+00  0.00000000e+00]\n",
      " [ 0.00000000e+00  1.00000000e+00  0.00000000e+00]\n",
      " [-7.08738623e-17 -7.08738623e-17  1.00000000e+00]]\n"
     ]
    }
   ],
   "source": [
    "import cupy as cp\n",
    "\n",
    "reallat = RealLattice(alat, alat * cp.array(latvec_alat).T)\n",
    "for i, ax in enumerate(reallat.axes_cart):\n",
    "    print(f\"a{i+1} : {ax}\")\n",
    "\n",
    "l_vec_cryst = cp.eye(3)\n",
    "l_vec_cart = reallat.cryst2cart(l_vec_cryst, axis=1)\n",
    "\n",
    "print(l_vec_cart)\n",
    "\n",
    "l_vec_cart = reallat.latvec\n",
    "l_vec_cryst = reallat.cart2cryst(l_vec_cart, axis=0)\n",
    "print(l_vec_cryst)\n",
    "\n",
    "l_vec_cryst = reallat.alat2cryst(l_vec_cart / reallat.alat, axis=0)\n",
    "print(l_vec_cryst)"
   ]
  },
  {
   "cell_type": "code",
   "execution_count": 10,
   "metadata": {},
   "outputs": [],
   "source": [
    "qtmconfig.use_gpu = True"
   ]
  },
  {
   "cell_type": "code",
   "execution_count": 11,
   "metadata": {},
   "outputs": [],
   "source": [
    "gspc_gpu = gspc.dev"
   ]
  },
  {
   "cell_type": "code",
   "execution_count": 12,
   "metadata": {},
   "outputs": [
    {
     "name": "stdout",
     "output_type": "stream",
     "text": [
      "[[ 0  0  0 ... -1 -1 -1]\n",
      " [ 0  0  0 ... -1 -1 -1]\n",
      " [ 0  1  2 ... -3 -2 -1]]\n"
     ]
    }
   ],
   "source": [
    "print(gspc_gpu.g_cryst)"
   ]
  },
  {
   "cell_type": "code",
   "execution_count": 23,
   "metadata": {},
   "outputs": [],
   "source": [
    "from types import MethodType\n",
    "\n",
    "\n",
    "class Test:\n",
    "    \n",
    "    def __init__(self, flag):\n",
    "        self.flag = flag\n",
    "        self.attr1 = 10\n",
    "    \n",
    "    @property\n",
    "    def attr2(self):\n",
    "        return 100\n",
    "        \n",
    "    def func1(self):\n",
    "        print('hello world')\n",
    "    \n",
    "    def func2(self, arg1):\n",
    "        print(arg1)\n",
    "        \n",
    "    def __enter__(self):\n",
    "        print('entering')\n",
    "    \n",
    "    def __exit__(self, exc_type, exc_val, exc_tb):\n",
    "        print('exiting')\n",
    "        \n",
    "    def __getattribute__(self, item):\n",
    "        # print(f'getattribute: {item}')\n",
    "        out = super().__getattribute__(item)\n",
    "        if isinstance(out, MethodType) and not self.flag:\n",
    "            raise ValueError(\"disabled\")\n",
    "        return out"
   ]
  },
  {
   "cell_type": "code",
   "execution_count": 24,
   "metadata": {},
   "outputs": [
    {
     "name": "stdout",
     "output_type": "stream",
     "text": [
      "10 100\n",
      "hello world\n",
      "abc\n",
      "entering\n",
      "here\n",
      "exiting\n",
      "entering\n",
      "here\n",
      "exiting\n",
      "10\n",
      "100\n"
     ]
    },
    {
     "ename": "ValueError",
     "evalue": "disabled",
     "output_type": "error",
     "traceback": [
      "\u001B[0;31m---------------------------------------------------------------------------\u001B[0m",
      "\u001B[0;31mValueError\u001B[0m                                Traceback (most recent call last)",
      "Cell \u001B[0;32mIn[24], line 17\u001B[0m\n\u001B[1;32m     15\u001B[0m \u001B[38;5;28mprint\u001B[39m(b\u001B[38;5;241m.\u001B[39mattr1)\n\u001B[1;32m     16\u001B[0m \u001B[38;5;28mprint\u001B[39m(b\u001B[38;5;241m.\u001B[39mattr2)\n\u001B[0;32m---> 17\u001B[0m \u001B[43mb\u001B[49m\u001B[38;5;241;43m.\u001B[39;49m\u001B[43mfunc1\u001B[49m()\n\u001B[1;32m     18\u001B[0m b\u001B[38;5;241m.\u001B[39mfunc2(a)\n",
      "Cell \u001B[0;32mIn[23], line 30\u001B[0m, in \u001B[0;36mTest.__getattribute__\u001B[0;34m(self, item)\u001B[0m\n\u001B[1;32m     28\u001B[0m out \u001B[38;5;241m=\u001B[39m \u001B[38;5;28msuper\u001B[39m()\u001B[38;5;241m.\u001B[39m\u001B[38;5;21m__getattribute__\u001B[39m(item)\n\u001B[1;32m     29\u001B[0m \u001B[38;5;28;01mif\u001B[39;00m \u001B[38;5;28misinstance\u001B[39m(out, MethodType) \u001B[38;5;129;01mand\u001B[39;00m \u001B[38;5;129;01mnot\u001B[39;00m \u001B[38;5;28mself\u001B[39m\u001B[38;5;241m.\u001B[39mflag:\n\u001B[0;32m---> 30\u001B[0m     \u001B[38;5;28;01mraise\u001B[39;00m \u001B[38;5;167;01mValueError\u001B[39;00m(\u001B[38;5;124m\"\u001B[39m\u001B[38;5;124mdisabled\u001B[39m\u001B[38;5;124m\"\u001B[39m)\n\u001B[1;32m     31\u001B[0m \u001B[38;5;28;01mreturn\u001B[39;00m out\n",
      "\u001B[0;31mValueError\u001B[0m: disabled"
     ]
    }
   ],
   "source": [
    "a = Test(True)\n",
    "print(a.attr1, a.attr2)\n",
    "a.func1()\n",
    "a.func2('abc')\n",
    "\n",
    "with a:\n",
    "    print('here')\n",
    "\n",
    "\n",
    "b = Test(False)\n",
    "\n",
    "with b:\n",
    "    print('here')\n",
    "    \n",
    "print(b.attr1)\n",
    "print(b.attr2)\n",
    "b.func1()\n",
    "b.func2(a)"
   ]
  },
  {
   "cell_type": "code",
   "execution_count": 4,
   "metadata": {},
   "outputs": [
    {
     "ename": "TypeError",
     "evalue": "issubclass() arg 2 must be a class, a tuple of classes, or a union",
     "output_type": "error",
     "traceback": [
      "\u001B[0;31m---------------------------------------------------------------------------\u001B[0m",
      "\u001B[0;31mTypeError\u001B[0m                                 Traceback (most recent call last)",
      "Cell \u001B[0;32mIn[4], line 5\u001B[0m\n\u001B[1;32m      2\u001B[0m \u001B[38;5;28;01mfrom\u001B[39;00m \u001B[38;5;21;01mtyping\u001B[39;00m \u001B[38;5;28;01mimport\u001B[39;00m Union\n\u001B[1;32m      4\u001B[0m t \u001B[38;5;241m=\u001B[39m Union[\u001B[38;5;124m'\u001B[39m\u001B[38;5;124mOp\u001B[39m\u001B[38;5;124m'\u001B[39m, \u001B[38;5;28mstr\u001B[39m]\n\u001B[0;32m----> 5\u001B[0m \u001B[38;5;28mprint\u001B[39m(\u001B[38;5;28;43misinstance\u001B[39;49m\u001B[43m(\u001B[49m\u001B[38;5;124;43m'\u001B[39;49m\u001B[38;5;124;43mSUM\u001B[39;49m\u001B[38;5;124;43m'\u001B[39;49m\u001B[43m,\u001B[49m\u001B[43m \u001B[49m\u001B[43mt\u001B[49m\u001B[43m)\u001B[49m)\n",
      "File \u001B[0;32m~/miniconda3/envs/qtmpy_new/lib/python3.11/typing.py:1649\u001B[0m, in \u001B[0;36m_UnionGenericAlias.__instancecheck__\u001B[0;34m(self, obj)\u001B[0m\n\u001B[1;32m   1648\u001B[0m \u001B[38;5;28;01mdef\u001B[39;00m \u001B[38;5;21m__instancecheck__\u001B[39m(\u001B[38;5;28mself\u001B[39m, obj):\n\u001B[0;32m-> 1649\u001B[0m     \u001B[38;5;28;01mreturn\u001B[39;00m \u001B[38;5;28;43mself\u001B[39;49m\u001B[38;5;241;43m.\u001B[39;49m\u001B[38;5;21;43m__subclasscheck__\u001B[39;49m\u001B[43m(\u001B[49m\u001B[38;5;28;43mtype\u001B[39;49m\u001B[43m(\u001B[49m\u001B[43mobj\u001B[49m\u001B[43m)\u001B[49m\u001B[43m)\u001B[49m\n",
      "File \u001B[0;32m~/miniconda3/envs/qtmpy_new/lib/python3.11/typing.py:1653\u001B[0m, in \u001B[0;36m_UnionGenericAlias.__subclasscheck__\u001B[0;34m(self, cls)\u001B[0m\n\u001B[1;32m   1651\u001B[0m \u001B[38;5;28;01mdef\u001B[39;00m \u001B[38;5;21m__subclasscheck__\u001B[39m(\u001B[38;5;28mself\u001B[39m, \u001B[38;5;28mcls\u001B[39m):\n\u001B[1;32m   1652\u001B[0m     \u001B[38;5;28;01mfor\u001B[39;00m arg \u001B[38;5;129;01min\u001B[39;00m \u001B[38;5;28mself\u001B[39m\u001B[38;5;241m.\u001B[39m__args__:\n\u001B[0;32m-> 1653\u001B[0m         \u001B[38;5;28;01mif\u001B[39;00m \u001B[38;5;28;43missubclass\u001B[39;49m\u001B[43m(\u001B[49m\u001B[38;5;28;43mcls\u001B[39;49m\u001B[43m,\u001B[49m\u001B[43m \u001B[49m\u001B[43marg\u001B[49m\u001B[43m)\u001B[49m:\n\u001B[1;32m   1654\u001B[0m             \u001B[38;5;28;01mreturn\u001B[39;00m \u001B[38;5;28;01mTrue\u001B[39;00m\n",
      "\u001B[0;31mTypeError\u001B[0m: issubclass() arg 2 must be a class, a tuple of classes, or a union"
     ]
    }
   ],
   "source": [
    "from mpi4py.MPI import Op, SUM, PROD\n",
    "from typing import Union\n",
    "\n",
    "t = Union['Op', str]\n",
    "print(isinstance('SUM', t))"
   ]
  },
  {
   "cell_type": "code",
   "execution_count": null,
   "metadata": {},
   "outputs": [],
   "source": []
  }
 ],
 "metadata": {
  "kernelspec": {
   "display_name": "Python 3 (ipykernel)",
   "language": "python",
   "name": "python3"
  },
  "language_info": {
   "codemirror_mode": {
    "name": "ipython",
    "version": 3
   },
   "file_extension": ".py",
   "mimetype": "text/x-python",
   "name": "python",
   "nbconvert_exporter": "python",
   "pygments_lexer": "ipython3",
   "version": "3.11.0"
  }
 },
 "nbformat": 4,
 "nbformat_minor": 4
}
