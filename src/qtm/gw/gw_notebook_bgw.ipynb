{
 "cells": [
  {
   "attachments": {},
   "cell_type": "markdown",
   "metadata": {},
   "source": [
    "# G<sub>0</sub>W<sub>0</sub> Approximation Tutorial Notebook\n",
    "\n",
    "In this notebook, we present an example calculation of quasiparticle energies using QuatumMASALA's `gw` module."
   ]
  },
  {
   "cell_type": "code",
   "execution_count": 1,
   "metadata": {},
   "outputs": [],
   "source": [
    "%load_ext autoreload\n",
    "%autoreload 2"
   ]
  },
  {
   "cell_type": "code",
   "execution_count": 2,
   "metadata": {},
   "outputs": [],
   "source": [
    "# Imports\n",
    "from __future__ import annotations\n",
    "import numpy as np\n",
    "import sys\n",
    "\n",
    "\n",
    "sys.path.append(\".\")\n",
    "\n",
    "dirname = \"../../../tests/bgw/silicon/cohsex/\"\n",
    "# dirname = \"../../../tests/bgw/gaas_4/cohsex/\"\n",
    "# dirname = \"../gw_old/scripts/results/si_6_nband272/si_6_gw/\""
   ]
  },
  {
   "attachments": {},
   "cell_type": "markdown",
   "metadata": {},
   "source": [
    "### Load Input Files\n",
    "Input data is handled by the ``EpsInp`` class.\\\n",
    "The data can be provided either by constructing the ``EpsInp`` object or by reading BGW-compatible input file ``epsilon.inp``.\\\n",
    "The attributes have been supplied with docstrings from BerkeleyGW's input specification, so they will be accessible directly in most IDEs."
   ]
  },
  {
   "cell_type": "code",
   "execution_count": 3,
   "metadata": {},
   "outputs": [],
   "source": [
    "from qtm.gw.io_bgw.epsinp import Epsinp\n",
    "\n",
    "# Constructing input manually\n",
    "# epsinp = Epsinp(epsilon_cutoff=1.2,\n",
    "#                 use_wfn_hdf5=True,\n",
    "#                 number_bands=8,\n",
    "#                 write_vcoul=True,\n",
    "#                 qpts=[[0.0,0.0,0.0]],\n",
    "#                 is_q0=[True])\n",
    "\n",
    "# Reading from epsilon.inp file\n",
    "epsinp = Epsinp.from_epsilon_inp(filename=dirname+'epsilon.inp')\n",
    "# print(epsinp)\n",
    "\n",
    "# There is an analogous system to read SigmaInp\n",
    "from qtm.gw.io_bgw.sigmainp import Sigmainp\n",
    "sigmainp = Sigmainp.from_sigma_inp(filename=dirname+'sigma.inp')\n",
    "# print(sigmainp)"
   ]
  },
  {
   "attachments": {},
   "cell_type": "markdown",
   "metadata": {},
   "source": [
    "### Load WfnData\n",
    "Calculation of dielectric matrix requires mean field eigenfunctions. \\\n",
    "Wavefunction data generated from mean-field codes can be read using the ``wfn2py`` utility, which assumes that the incoming data satisfies BerkeleyGW's [`wfn_h5`](http://manual.berkeleygw.org/3.0/wfn_h5_spec/) specification. The data is stored as a `NamedTuple` object.\n",
    "\n",
    "For reasons discussed later, we also require wavefunctions on a shifted grid to calculate dielectric matrix at $q\\to 0$. This shifted grid dataset will be referred to as `wfnqdata`.\n",
    "\n",
    "Similarly, the utilities `read_rho` and `read_vxc` can be used to read density and exchange-correlation respectively."
   ]
  },
  {
   "cell_type": "code",
   "execution_count": 4,
   "metadata": {},
   "outputs": [],
   "source": [
    "# wfn2py\n",
    "from qtm.gw.io_bgw import inp\n",
    "from qtm.gw.io_bgw.wfn2py import wfn2py\n",
    "\n",
    "wfndata = wfn2py(dirname+'WFN.h5')#, wfn_ecutrho_minus_ecutwfn=epsinp.epsilon_cutoff)\n",
    "# print(wfndata.__doc__)\n",
    "\n",
    "wfnqdata = wfn2py(dirname+'WFNq.h5')#, wfn_ecutrho_minus_ecutwfn=epsinp.epsilon_cutoff)\n",
    "# print(wfnqdata.__doc__)\n",
    "\n",
    "# RHO data\n",
    "rho = inp.read_rho(dirname+\"RHO\")\n",
    "\n",
    "# Vxc data\n",
    "vxc = inp.read_vxc(dirname+\"vxc.dat\")"
   ]
  },
  {
   "attachments": {},
   "cell_type": "markdown",
   "metadata": {},
   "source": [
    "### Initialize Epsilon Class\n",
    "\n",
    "``Epsilon`` class can be initialized by either directly passing the required `quantummasala.core` objects or by passing the input objects discussed earlier."
   ]
  },
  {
   "cell_type": "code",
   "execution_count": 5,
   "metadata": {},
   "outputs": [
    {
     "name": "stderr",
     "output_type": "stream",
     "text": [
      "Vcoul calculation for qpts: 100%|██████████| 64/64 [00:00<00:00, 16183.48it/s]\n"
     ]
    }
   ],
   "source": [
    "from qtm.gw.core import QPoints\n",
    "from qtm.gw.epsilon import Epsilon\n",
    "\n",
    "# Manual initialization\n",
    "# epsilon = Epsilon(\n",
    "#     crystal = wfndata.crystal,\n",
    "#     gspace = wfndata.grho,\n",
    "#     kpts = wfndata.kpts,\n",
    "#     kptsq = wfnqdata.kpts,\n",
    "#     l_wfn = wfndata.l_wfn,\n",
    "#     l_wfnq = wfnqdata.l_wfn,\n",
    "#     l_gsp_wfn = wfndata.l_gk,\n",
    "#     l_gsp_wfnq = wfnqdata.l_gk,\n",
    "#     qpts = QPoints.from_cryst(wfndata.kpts.recilat, epsinp.is_q0, *epsinp.qpts),\n",
    "#     epsinp = epsinp,\n",
    "# )\n",
    "\n",
    "epsilon = Epsilon.from_data(wfndata=wfndata, wfnqdata=wfnqdata, epsinp=epsinp)"
   ]
  },
  {
   "attachments": {},
   "cell_type": "markdown",
   "metadata": {},
   "source": [
    "The three main steps involved in the calculation have been mapped to the corresponding functions:\n",
    "1.  ``matrix_elements``: Calculation of Planewave Matrix elements\n",
    "2.  ``polarizability``: Calculation of RPA polarizability matrix $P$\n",
    "3.  ``epsilon_inverse``: Calculation of (static) epsilon-inverse matrix\n",
    "\n",
    "<!-- 1.  ``matrix_elements``: Calculation of Planewave Matrix elements\n",
    "    $$M_{nn'}({\\textbf k},{\\textbf q},{\\textbf G}) = \\bra{n\\,{\\textbf k}{+}{\\textbf q}}e^{i({\\textbf q}+{\\textbf G})\\cdot{\\textbf r}}\\ket{n'\\,\\textbf k}$$\n",
    "    where the $\\textbf G$-vectors included in the calculation satisfy $|\\textbf q + \\textbf G|^2 < E_{\\text{cut}}$.\n",
    "    Since this is a convolution in k-space, the time complexity can be reduced from $\\mathcal{O}\\left(N^2_G\\right)$ to $\\mathcal{O}\\left(N_G\\ln N_G\\right)$ by using Fast Fourier Transform, where $N_G$  the number of reciprocal lattice vectors in the wavefunction.\n",
    "    $$\n",
    "    M_{nn'}({\\bf k},{\\bf q},\\{{\\bf G}\\}) = {\\rm FFT}^{-1}\\left( \\phi^{*}_{n,{\\bf k}+{\\bf q} }({\\bf r}) \\phi_{n',{\\bf k} }({\\bf r}) \\right).\n",
    "    $$\n",
    "    where $\\phi_{n',{\\bf k}}({\\bf r}) = {\\rm FFT}\\left( \\psi_{n\\bf k}(\\bf G)\\right)$. \n",
    "    \n",
    "2.  ``polarizability``: Calculation of RPA polarizability matrix $P$\n",
    "    $$\n",
    "        P_{\\textbf{GG'}}{\\left({\\textbf q}\\;\\!;0\\right)}=\n",
    "        \\,\\,{}\\sum_{n}^{\\textrm occ}\\sum_{n'}^{\\textrm emp}\\sum_{{\\textbf k}}\n",
    "        \\frac{\n",
    "        \\bra{n'\\textbf k}e^{-i({\\textbf q}+{\\textbf G})\\cdot{\\textbf r}}\\ket{n{\\textbf k}{+}{\\textbf q}}\n",
    "        \\bra{n{\\textbf k}{+}{\\textbf q}}e^{i({\\textbf q}+{\\textbf G'})\\cdot{\\textbf r}}\\ket{n'\\textbf k}\n",
    "        }{E_{n{\\textbf k}{+}{\\textbf q}}\\,{-}\\,E_{n'{\\textbf k}}}.\n",
    "    $$\n",
    "3.  ``epsilon_inverse``: Calculation of (static) epsilon-inverse matrix\n",
    "    $$\n",
    "        \\epsilon_{\\textbf{GG'}}{\\left({\\textbf q}\\;\\!\\right)}=\n",
    "        \\delta_{\\textbf{GG'}}\\,{-}\\,v{\\left({\\textbf q}{+}{\\textbf G}\\right)} \\,\n",
    "        P_{\\textbf{GG'}}{\\left({\\textbf q}\\;\\!\\right)}\n",
    "    $$\n",
    "    where $ v(\\textbf{q} + \\textbf{G}) = \\frac{8\\pi}{\\left|\\textbf q + \\textbf G\\right|^2} $ is bare Coulomb potential, written in Rydberg units. If this formula is used as-is for the case where $|\\textbf q| = |\\textbf G| = 0$, the resulting $v\\left({\\textbf{q=0}, \\textbf{G=0}}\\;\\!\\right)$ blows up as $1/q^2$. However, for 3D gapped systems, the matrix elements $\\big| M_{nn'}\\left({\\bf k},{\\textbf{q}\\to\\textbf{0}},{\\textbf{G=0}}\\right)\\big| \\sim q$ cancel the Coulomb divergence and $\\epsilon_{\\textbf{00}}\\left({\\textbf q\\to\\textbf{0}}\\;\\!\\right) \\sim q^2/q^2$ which is a finite number. In order to calculate $\\epsilon_{\\textbf{00}}\\left({\\textbf q=\\textbf{0}}\\;\\!\\right)$, we use the scheme specified in BGW2012, wherein $q=0$ is replaced with a small but non-zero value. Since matrix element calculation involves the eigenvectors $\\ket{n{\\textbf k}{+}{\\textbf q}}$, having a non-$\\Gamma$-centered $\\textbf q\\to 0$ point requires mean-field eigenvectors over a shifted $k$-grid. -->"
   ]
  },
  {
   "cell_type": "code",
   "execution_count": 6,
   "metadata": {},
   "outputs": [
    {
     "name": "stderr",
     "output_type": "stream",
     "text": [
      "Vcoul calculation for qpts: 100%|██████████| 64/64 [00:00<00:00, 15645.83it/s]\n"
     ]
    },
    {
     "name": "stderr",
     "output_type": "stream",
     "text": [
      "Epsilon> q-pt index: 100%|██████████| 64/64 [00:24<00:00,  2.57it/s]\n"
     ]
    }
   ],
   "source": [
    "from tqdm import trange\n",
    "from qtm.gw.core import reorder_2d_matrix_sorted_gvecs, sort_cryst_like_BGW\n",
    "\n",
    "\n",
    "def calculate_epsilon(numq=None, writing=False):\n",
    "    epsmats = []\n",
    "    if numq is None:\n",
    "        numq = epsilon.qpts.numq\n",
    "\n",
    "    for i_q in trange(0, numq, desc=\"Epsilon> q-pt index\"):\n",
    "        # Create map between BGW's sorting order and QTm's sorting order\n",
    "        gkspc = epsilon.l_gq[i_q]\n",
    "        \n",
    "        if i_q == epsilon.qpts.index_q0:\n",
    "            key = gkspc.g_norm2\n",
    "        else:\n",
    "            key = gkspc.gk_norm2\n",
    "\n",
    "        indices_gspace_sorted = sort_cryst_like_BGW(\n",
    "            cryst=gkspc.g_cryst, key_array=key\n",
    "        )\n",
    "\n",
    "        # Calculate matrix elements\n",
    "        M = next(epsilon.matrix_elements(i_q=i_q))\n",
    "\n",
    "        # Calculate polarizability matrix (faster, but not memory-efficient)\n",
    "        chimat = epsilon.polarizability(M)\n",
    "\n",
    "        # Calculate polarizability matrix (memory-efficient)\n",
    "        # chimat = epsilon.polarizability_active(i_q)\n",
    "\n",
    "        # Calculate epsilon inverse matrix\n",
    "        epsinv = epsilon.epsilon_inverse(i_q=i_q, polarizability_matrix=chimat, store=True)\n",
    "\n",
    "\n",
    "        epsinv = reorder_2d_matrix_sorted_gvecs(epsinv, indices_gspace_sorted)\n",
    "        epsilon.l_epsinv[i_q] = epsinv\n",
    "        \n",
    "        # Compare the results with BGW's results\n",
    "        if i_q == epsilon.qpts.index_q0:\n",
    "            epsref = epsilon.read_epsmat(dirname + \"eps0mat.h5\")[0][0, 0]\n",
    "            if writing:\n",
    "                epsilon.write_epsmat(\n",
    "                    filename=\"test/epsilon/eps0mat_qtm.h5\", epsinvmats=[epsinv]\n",
    "                )\n",
    "        else:\n",
    "            epsref = np.array(epsilon.read_epsmat(dirname + \"epsmat.h5\")[i_q - 1][0, 0])\n",
    "            epsmats.append(epsinv)\n",
    "\n",
    "        # Calculate stddev between reference and calculated epsinv matrices\n",
    "        std_eps = np.std(epsref - epsinv) / np.sqrt(np.prod(list(epsinv.shape)))\n",
    "\n",
    "        epstol = 1e-16\n",
    "        if np.abs(std_eps) > epstol:\n",
    "            print(f\"Standard deviation exceeded {epstol} tolerance: {std_eps}, for i_q:{i_q}\")\n",
    "            print(epsref[:2,:2])\n",
    "            print(epsinv[:2,:2])\n",
    "\n",
    "    if writing:\n",
    "        epsilon.write_epsmat(filename=\"test/epsilon/epsmat_qtm.h5\", epsinvmats=epsmats)\n",
    "\n",
    "\n",
    "epsinp.no_min_fftgrid = True\n",
    "epsilon = Epsilon.from_data(wfndata=wfndata, wfnqdata=wfnqdata, epsinp=epsinp)\n",
    "calculate_epsilon()\n",
    "\n",
    "# epsinp.no_min_fftgrid = False\n",
    "# epsilon = Epsilon.from_data(wfndata=wfndata, wfnqdata=wfnqdata, epsinp=epsinp)\n",
    "# calculate_epsilon()\n"
   ]
  },
  {
   "cell_type": "markdown",
   "metadata": {},
   "source": [
    "### Sigma Calculation"
   ]
  },
  {
   "cell_type": "code",
   "execution_count": 7,
   "metadata": {},
   "outputs": [
    {
     "name": "stderr",
     "output_type": "stream",
     "text": [
      "Vcoul calculation for qpts: 100%|██████████| 64/64 [00:00<00:00, 16146.49it/s]\n"
     ]
    },
    {
     "name": "stdout",
     "output_type": "stream",
     "text": [
      "vcoul: Vcoul:\n",
      "        * gspace = <qtm.gspace.gspc.GSpace object at 0x7f2800dabe50>\n",
      "        * qpts = <qtm.gw.core.QPoints object at 0x7f27fe561160>\n",
      "        * bare_coulomb_cutoff = 10.0\n",
      "        * avgcut = 1e-05\n",
      "        * l_gspace_q = <class 'list'> of length 64\n",
      "        * vcoul = <class 'list'> of length 64\n",
      "        * N_SAMPLES = 2500000.0\n",
      "        * N_SAMPLES_COARSE = 250000.0\n",
      "        * SEED = 5000\n",
      "        \n"
     ]
    },
    {
     "name": "stderr",
     "output_type": "stream",
     "text": [
      "Vcoul calculation for qpts: 100%|██████████| 64/64 [00:48<00:00,  1.32it/s]\n"
     ]
    }
   ],
   "source": [
    "from qtm.gw.sigma import Sigma\n",
    "\n",
    "outdir = dirname+\"temp/\"\n",
    "\n",
    "sigma = Sigma.from_data(\n",
    "    wfndata=wfndata,\n",
    "    wfnqdata=wfnqdata,\n",
    "    sigmainp=sigmainp,\n",
    "    epsinp=epsinp,\n",
    "    l_epsmats=epsilon.l_epsinv,\n",
    "    rho=rho,\n",
    "    vxc=vxc,\n",
    "    outdir=outdir,\n",
    ")"
   ]
  },
  {
   "cell_type": "code",
   "execution_count": 8,
   "metadata": {},
   "outputs": [
    {
     "name": "stdout",
     "output_type": "stream",
     "text": [
      "(137,)\n"
     ]
    },
    {
     "name": "stderr",
     "output_type": "stream",
     "text": [
      "Sigma_SX_Static:   0%|          | 0/64 [00:00<?, ?it/s]"
     ]
    },
    {
     "name": "stderr",
     "output_type": "stream",
     "text": [
      "Sigma_SX_Static: 100%|██████████| 64/64 [00:02<00:00, 29.26it/s]"
     ]
    },
    {
     "name": "stdout",
     "output_type": "stream",
     "text": [
      "Sigma SX COHSEX\n",
      "   11.897822   10.692213   11.350437\n",
      "    8.050415   10.691906   10.025763\n",
      "    8.052588    8.736187    8.384990\n",
      "    8.052483    8.736867    8.385902\n",
      "    2.917532    2.597576    2.882170\n",
      "    2.915433    2.597634    2.433213\n",
      "    2.919747    1.333271    2.431261\n",
      "    2.674705    1.334266    0.749947\n"
     ]
    },
    {
     "name": "stderr",
     "output_type": "stream",
     "text": [
      "\n"
     ]
    }
   ],
   "source": [
    "sigma_sx_cohsex_mat = sigma.sigma_sx_static(yielding=True)    \n",
    "print(\"Sigma SX COHSEX\")\n",
    "sigma.pprint_sigma_mat(sigma_sx_cohsex_mat)"
   ]
  },
  {
   "cell_type": "markdown",
   "metadata": {},
   "source": [
    "from tqdm.auto import tqdm\n",
    "sigma_x_mat = sigma.sigma_x(yielding=True)    \n",
    "print(\"Sigma X\")\n",
    "sigma.pprint_sigma_mat(sigma_x_mat)"
   ]
  },
  {
   "cell_type": "code",
   "execution_count": 9,
   "metadata": {},
   "outputs": [
    {
     "name": "stderr",
     "output_type": "stream",
     "text": [
      "Sigma_CH_Static_Partial:   0%|          | 0/64 [00:00<?, ?it/s]"
     ]
    },
    {
     "name": "stderr",
     "output_type": "stream",
     "text": [
      "Sigma_CH_Static_Partial: 100%|██████████| 64/64 [00:03<00:00, 16.30it/s]"
     ]
    },
    {
     "name": "stdout",
     "output_type": "stream",
     "text": [
      "Sigma CH COHSEX\n",
      "   -6.641277   -6.317908   -6.511362\n",
      "   -5.113976   -6.317977   -6.076655\n",
      "   -5.114200   -5.580271   -5.418842\n",
      "   -5.114077   -5.580427   -5.419831\n",
      "   -4.749343   -4.710424   -4.933476\n",
      "   -4.748586   -4.710832   -4.288478\n",
      "   -4.750098   -3.472540   -4.288100\n",
      "   -4.781285   -3.473914   -2.996284\n"
     ]
    },
    {
     "name": "stderr",
     "output_type": "stream",
     "text": [
      "\n"
     ]
    }
   ],
   "source": [
    "sigma_ch_cohsex_mat = sigma.sigma_ch_static()    \n",
    "print(\"Sigma CH COHSEX\")\n",
    "sigma.pprint_sigma_mat(sigma_ch_cohsex_mat)"
   ]
  },
  {
   "cell_type": "code",
   "execution_count": 10,
   "metadata": {},
   "outputs": [
    {
     "name": "stderr",
     "output_type": "stream",
     "text": [
      "Sigma_X:   0%|          | 0/64 [00:00<?, ?it/s]"
     ]
    },
    {
     "name": "stderr",
     "output_type": "stream",
     "text": [
      "Sigma_X: 100%|██████████| 64/64 [00:02<00:00, 30.22it/s]\n"
     ]
    },
    {
     "name": "stdout",
     "output_type": "stream",
     "text": [
      "Sigma X\n",
      "  -17.544906  -16.031120  -16.916213\n",
      "  -12.984799  -16.031115  -14.895720\n",
      "  -12.984990  -13.425014  -13.214186\n",
      "  -12.984879  -13.425073  -13.214228\n",
      "   -5.772040   -5.203257   -5.937991\n",
      "   -5.772092   -5.202819   -5.086562\n",
      "   -5.772459   -3.793211   -5.086561\n",
      "   -5.801537   -3.793222   -2.418507\n",
      "(137,)\n"
     ]
    },
    {
     "name": "stderr",
     "output_type": "stream",
     "text": [
      "Sigma_SX_Static: 100%|██████████| 64/64 [00:02<00:00, 29.48it/s]\n"
     ]
    },
    {
     "name": "stdout",
     "output_type": "stream",
     "text": [
      "Sigma SX STATIC\n",
      "   11.897822   10.692213   11.350437\n",
      "    8.050415   10.691906   10.025763\n",
      "    8.052588    8.736187    8.384990\n",
      "    8.052483    8.736867    8.385902\n",
      "    2.917532    2.597576    2.882170\n",
      "    2.915433    2.597634    2.433213\n",
      "    2.919747    1.333271    2.431261\n",
      "    2.674705    1.334266    0.749947\n"
     ]
    },
    {
     "name": "stderr",
     "output_type": "stream",
     "text": [
      "Sigma_CH_Static_Partial: 100%|██████████| 64/64 [00:03<00:00, 16.36it/s]\n"
     ]
    },
    {
     "name": "stdout",
     "output_type": "stream",
     "text": [
      "Sigma CH STATIC\n",
      "   -6.641277   -6.317908   -6.511362\n",
      "   -5.113976   -6.317977   -6.076655\n",
      "   -5.114200   -5.580271   -5.418842\n",
      "   -5.114077   -5.580427   -5.419831\n",
      "   -4.749343   -4.710424   -4.933476\n",
      "   -4.748586   -4.710832   -4.288478\n",
      "   -4.750098   -3.472540   -4.288100\n",
      "   -4.781285   -3.473914   -2.996284\n"
     ]
    },
    {
     "name": "stderr",
     "output_type": "stream",
     "text": [
      "Sigma_CH_Static_Exact: 100%|██████████| 64/64 [00:23<00:00,  2.74it/s]"
     ]
    },
    {
     "name": "stdout",
     "output_type": "stream",
     "text": [
      "Sigma CH EXACT STATIC\n",
      "   -7.461535   -7.645228   -7.650968\n",
      "   -7.788499   -7.645261   -7.324929\n",
      "   -7.788918   -7.500747   -7.703410\n",
      "   -7.788862   -7.501264   -7.704059\n",
      "   -7.361444   -6.804707   -7.377943\n",
      "   -7.360928   -6.804653   -7.142290\n",
      "   -7.362404   -7.712695   -7.142081\n",
      "   -7.851026   -7.714351   -6.239520\n",
      "Sig (Exact):\n",
      "  -13.108618  -12.984135  -13.216744\n",
      "  -12.722883  -12.984470  -12.194886\n",
      "  -12.721321  -12.189574  -12.532606\n",
      "  -12.721258  -12.189470  -12.532385\n",
      "  -10.215951   -9.410387  -10.433764\n",
      "  -10.217588   -9.409837   -9.795639\n",
      "  -10.215116  -10.172634   -9.797381\n",
      "  -10.977857  -10.173308   -7.908080\n",
      "Eqp0 (Exact):\n",
      "   -8.400645   -3.702053   -5.747930\n",
      "    4.873471   -3.702388   -2.754254\n",
      "    4.875034    1.794270    3.591356\n",
      "    4.875096    1.794374    3.591578\n",
      "    8.702105    6.618048    7.562137\n",
      "    8.700468    6.618598    9.542243\n",
      "    8.702940   16.821542    9.540501\n",
      "    9.643758   16.820869   13.970027\n",
      "Sig (Partial):\n",
      "  -12.288361  -11.656815  -12.077138\n",
      "  -10.048360  -11.657186  -10.946612\n",
      "  -10.046602  -10.269098  -10.248038\n",
      "  -10.046473  -10.268634  -10.248157\n",
      "   -7.603850   -7.316105   -7.989297\n",
      "   -7.605245   -7.316016   -6.941826\n",
      "   -7.602810   -5.932479   -6.943399\n",
      "   -7.908117   -5.932870   -4.664844\n",
      "Eqp0 (Partial):\n",
      "   -7.580387   -2.374732   -4.608325\n",
      "    7.547994   -2.375104   -1.505981\n",
      "    7.549752    3.714747    5.875925\n",
      "    7.549881    3.715211    5.875806\n",
      "   11.314206    8.712330   10.006604\n",
      "   11.312811    8.712419   12.396056\n",
      "   11.315247   21.061697   12.394482\n",
      "   12.713499   21.061306   17.213263\n",
      "\n",
      "   n         Emf          Eo           X        SX-X          CH         Sig         Vxc        Eqp0        Eqp1         CH`        Sig`       Eqp0`       Eqp1`         Znk\n",
      "   0   -5.790269   -5.790269  -17.544906   11.897822   -7.461535  -13.108618  -10.498242   -8.400645   -8.400645   -6.641277  -12.288361   -7.580387   -7.580387    1.000000\n",
      "   1    6.277664    6.277664  -12.984799    8.050415   -7.788499  -12.722883  -11.318690    4.873471    4.873471   -5.113976  -10.048360    7.547994    7.547994    1.000000\n",
      "   2    6.277664    6.277664  -12.984990    8.052588   -7.788918  -12.721321  -11.318690    4.875034    4.875034   -5.114200  -10.046602    7.549752    7.549752    1.000000\n",
      "   3    6.277664    6.277664  -12.984879    8.052483   -7.788862  -12.721258  -11.318690    4.875096    4.875096   -5.114077  -10.046473    7.549881    7.549881    1.000000\n",
      "   4    8.829793    8.829793   -5.772040    2.917532   -7.361444  -10.215951  -10.088263    8.702105    8.702105   -4.749343   -7.603850   11.314206   11.314206    1.000000\n",
      "   5    8.829793    8.829793   -5.772092    2.915433   -7.360928  -10.217588  -10.088263    8.700468    8.700468   -4.748586   -7.605245   11.312811   11.312811    1.000000\n",
      "   6    8.829793    8.829793   -5.772459    2.919747   -7.362404  -10.215116  -10.088263    8.702940    8.702940   -4.750098   -7.602810   11.315247   11.315247    1.000000\n",
      "   7    9.764447    9.764447   -5.801537    2.674705   -7.851026  -10.977857  -10.857169    9.643758    9.643758   -4.781285   -7.908117   12.713499   12.713499    1.000000\n",
      "   n         Emf          Eo           X        SX-X          CH         Sig         Vxc        Eqp0        Eqp1         CH`        Sig`       Eqp0`       Eqp1`         Znk\n",
      "   0   -1.571921   -1.571921  -16.031120   10.692213   -7.645228  -12.984135  -10.854004   -3.702053   -3.702053   -6.317908  -11.656815   -2.374732   -2.374732    1.000000\n",
      "   1   -1.571921   -1.571921  -16.031115   10.691906   -7.645261  -12.984470  -10.854004   -3.702388   -3.702388   -6.317977  -11.657186   -2.375104   -2.375104    1.000000\n",
      "   2    3.359705    3.359705  -13.425014    8.736187   -7.500747  -12.189574  -10.624139    1.794270    1.794270   -5.580271  -10.269098    3.714747    3.714747    1.000000\n",
      "   3    3.359705    3.359705  -13.425073    8.736867   -7.501264  -12.189470  -10.624139    1.794374    1.794374   -5.580427  -10.268634    3.715211    3.715211    1.000000\n",
      "   4    6.881284    6.881284   -5.203257    2.597576   -6.804707   -9.410387   -9.147152    6.618048    6.618048   -4.710424   -7.316105    8.712330    8.712330    1.000000\n",
      "   5    6.881284    6.881284   -5.202819    2.597634   -6.804653   -9.409837   -9.147152    6.618598    6.618598   -4.710832   -7.316016    8.712419    8.712419    1.000000\n",
      "   6   16.424702   16.424702   -3.793211    1.333271   -7.712695  -10.172634  -10.569474   16.821542   16.821542   -3.472540   -5.932479   21.061697   21.061697    1.000000\n",
      "   7   16.424703   16.424703   -3.793222    1.334266   -7.714351  -10.173308  -10.569474   16.820869   16.820869   -3.473914   -5.932870   21.061306   21.061306    1.000000\n",
      "   n         Emf          Eo           X        SX-X          CH         Sig         Vxc        Eqp0        Eqp1         CH`        Sig`       Eqp0`       Eqp1`         Znk\n",
      "   0   -3.393789   -3.393789  -16.916213   11.350437   -7.650968  -13.216744  -10.862603   -5.747930   -5.747930   -6.511362  -12.077138   -4.608325   -4.608325    1.000000\n",
      "   1   -0.800364   -0.800364  -14.895720   10.025763   -7.324929  -12.194886  -10.240996   -2.754254   -2.754254   -6.076655  -10.946612   -1.505981   -1.505981    1.000000\n",
      "   2    5.056764    5.056764  -13.214186    8.384990   -7.703410  -12.532606  -11.067198    3.591356    3.591356   -5.418842  -10.248038    5.875925    5.875925    1.000000\n",
      "   3    5.056765    5.056765  -13.214228    8.385902   -7.704059  -12.532385  -11.067198    3.591578    3.591578   -5.419831  -10.248157    5.875806    5.875806    1.000000\n",
      "   4    7.830308    7.830308   -5.937991    2.882170   -7.377943  -10.433764  -10.165594    7.562137    7.562137   -4.933476   -7.989297   10.006604   10.006604    1.000000\n",
      "   5    9.588314    9.588314   -5.086562    2.433213   -7.142290   -9.795639   -9.749568    9.542243    9.542243   -4.288478   -6.941826   12.396056   12.396056    1.000000\n",
      "   6    9.588314    9.588314   -5.086561    2.431261   -7.142081   -9.797381   -9.749567    9.540501    9.540501   -4.288100   -6.943399   12.394482   12.394482    1.000000\n",
      "   7   13.832238   13.832238   -2.418507    0.749947   -6.239520   -7.908080   -8.045868   13.970027   13.970027   -2.996284   -4.664844   17.213263   17.213263    1.000000\n"
     ]
    },
    {
     "name": "stderr",
     "output_type": "stream",
     "text": [
      "\n"
     ]
    }
   ],
   "source": [
    "sigma.autosave=False\n",
    "sigma.print_condition=True\n",
    "cohsex_result = sigma.calculate_static_cohsex()"
   ]
  },
  {
   "cell_type": "code",
   "execution_count": 11,
   "metadata": {},
   "outputs": [
    {
     "name": "stdout",
     "output_type": "stream",
     "text": [
      "k-point index: 0\n",
      "[3.6e-05 2.0e-05 2.4e-05 2.4e-05 5.0e-06 7.0e-06 2.0e-06 2.3e-05]\n",
      "k-point index: 40\n",
      "[1.8e-05 2.6e-05 5.0e-06 1.0e-05 1.9e-05 1.3e-05 3.9e-05 3.0e-05]\n",
      "k-point index: 8\n",
      "[3.9e-05 2.0e-06 1.4e-05 1.5e-05 3.0e-06 5.0e-06 7.0e-06 2.2e-05]\n"
     ]
    }
   ],
   "source": [
    "from qtm.gw.io_bgw.sigma_hp_reader import read_sigma_hp\n",
    "ref_dict = read_sigma_hp(dirname+\"sigma_hp.log\")\n",
    "for ik in cohsex_result:\n",
    "    print(\"k-point index:\",ik)\n",
    "    qtty = 'Eqp1'\n",
    "    print(np.abs(ref_dict[ik+1][qtty]-np.around(cohsex_result[ik][qtty],6)))"
   ]
  },
  {
   "cell_type": "code",
   "execution_count": 12,
   "metadata": {},
   "outputs": [
    {
     "name": "stderr",
     "output_type": "stream",
     "text": [
      "Sigma_CH_Static_Exact: 100%|██████████| 64/64 [00:23<00:00,  2.75it/s]"
     ]
    },
    {
     "name": "stdout",
     "output_type": "stream",
     "text": [
      "Sigma CH COHSEX EXACT\n",
      "   -7.461535   -7.645228   -7.650968\n",
      "   -7.788499   -7.645261   -7.324929\n",
      "   -7.788918   -7.500747   -7.703410\n",
      "   -7.788862   -7.501264   -7.704059\n",
      "   -7.361444   -6.804707   -7.377943\n",
      "   -7.360928   -6.804653   -7.142290\n",
      "   -7.362404   -7.712695   -7.142081\n",
      "   -7.851026   -7.714351   -6.239520\n"
     ]
    },
    {
     "name": "stderr",
     "output_type": "stream",
     "text": [
      "\n"
     ]
    }
   ],
   "source": [
    "sigma.print_condition=True\n",
    "sigma_ch_exact_mat = sigma.sigma_ch_static_exact()    \n",
    "print(\"Sigma CH COHSEX EXACT\")\n",
    "sigma.pprint_sigma_mat(sigma_ch_exact_mat)"
   ]
  },
  {
   "cell_type": "code",
   "execution_count": 13,
   "metadata": {},
   "outputs": [
    {
     "name": "stderr",
     "output_type": "stream",
     "text": [
      "Sigma_CH_GPP:   0%|          | 0/64 [00:00<?, ?it/s]"
     ]
    },
    {
     "name": "stderr",
     "output_type": "stream",
     "text": [
      "Sigma_CH_GPP: 100%|██████████| 64/64 [00:54<00:00,  1.17it/s]"
     ]
    },
    {
     "name": "stdout",
     "output_type": "stream",
     "text": [
      "Sigma CH GPP\n",
      "   -5.809203   -5.862668   -5.896258\n",
      "   -5.426201   -5.862915   -5.647912\n",
      "   -5.427718   -5.567567   -5.584283\n",
      "   -5.416109   -5.568202   -5.586360\n",
      "   -5.398088   -4.984852   -5.448451\n",
      "   -5.397232   -4.984614   -4.889763\n",
      "   -5.400241   -4.661941   -4.885163\n",
      "   -5.754373   -4.670230   -3.779749\n"
     ]
    },
    {
     "name": "stderr",
     "output_type": "stream",
     "text": [
      "\n"
     ]
    }
   ],
   "source": [
    "sigma.print_condition=False\n",
    "sigma_ch_gpp,_ = sigma.sigma_ch_gpp()    \n",
    "print(\"Sigma CH GPP\")\n",
    "sigma.pprint_sigma_mat(sigma_ch_gpp)"
   ]
  },
  {
   "cell_type": "code",
   "execution_count": 14,
   "metadata": {},
   "outputs": [
    {
     "name": "stderr",
     "output_type": "stream",
     "text": [
      "Sigma_X:   0%|          | 0/64 [00:00<?, ?it/s]"
     ]
    },
    {
     "name": "stderr",
     "output_type": "stream",
     "text": [
      "Sigma_X: 100%|██████████| 64/64 [00:02<00:00, 30.43it/s]"
     ]
    },
    {
     "name": "stdout",
     "output_type": "stream",
     "text": [
      "Sigma X GPP\n"
     ]
    },
    {
     "name": "stderr",
     "output_type": "stream",
     "text": [
      "\n"
     ]
    },
    {
     "name": "stdout",
     "output_type": "stream",
     "text": [
      "  -17.544906  -16.031120  -16.916213\n",
      "  -12.984799  -16.031115  -14.895720\n",
      "  -12.984990  -13.425014  -13.214186\n",
      "  -12.984879  -13.425073  -13.214228\n",
      "   -5.772040   -5.203257   -5.937991\n",
      "   -5.772092   -5.202819   -5.086562\n",
      "   -5.772459   -3.793211   -5.086561\n",
      "   -5.801537   -3.793222   -2.418507\n"
     ]
    },
    {
     "name": "stderr",
     "output_type": "stream",
     "text": [
      "Sigma_CH_Static_Partial: 100%|██████████| 64/64 [00:03<00:00, 16.43it/s]"
     ]
    },
    {
     "name": "stdout",
     "output_type": "stream",
     "text": [
      "Sigma CH STATIC COHSEX\n"
     ]
    },
    {
     "name": "stderr",
     "output_type": "stream",
     "text": [
      "\n"
     ]
    },
    {
     "name": "stdout",
     "output_type": "stream",
     "text": [
      "   -6.641277   -6.317908   -6.511362\n",
      "   -5.113976   -6.317977   -6.076655\n",
      "   -5.114200   -5.580271   -5.418842\n",
      "   -5.114077   -5.580427   -5.419831\n",
      "   -4.749343   -4.710424   -4.933476\n",
      "   -4.748586   -4.710832   -4.288478\n",
      "   -4.750098   -3.472540   -4.288100\n",
      "   -4.781285   -3.473914   -2.996284\n"
     ]
    },
    {
     "name": "stderr",
     "output_type": "stream",
     "text": [
      "Sigma_CH_Static_Exact: 100%|██████████| 64/64 [00:23<00:00,  2.73it/s]"
     ]
    },
    {
     "name": "stdout",
     "output_type": "stream",
     "text": [
      "Sigma CH STATIC EXACT\n"
     ]
    },
    {
     "name": "stderr",
     "output_type": "stream",
     "text": [
      "\n"
     ]
    },
    {
     "name": "stdout",
     "output_type": "stream",
     "text": [
      "   -7.461535   -7.645228   -7.650968\n",
      "   -7.788499   -7.645261   -7.324929\n",
      "   -7.788918   -7.500747   -7.703410\n",
      "   -7.788862   -7.501264   -7.704059\n",
      "   -7.361444   -6.804707   -7.377943\n",
      "   -7.360928   -6.804653   -7.142290\n",
      "   -7.362404   -7.712695   -7.142081\n",
      "   -7.851026   -7.714351   -6.239520\n",
      "Started sigma_sx_gpp 2023-09-03 21:34:45\n"
     ]
    },
    {
     "name": "stderr",
     "output_type": "stream",
     "text": [
      "Sigma_SX_GPP: 100%|██████████| 64/64 [00:50<00:00,  1.27it/s]"
     ]
    },
    {
     "name": "stdout",
     "output_type": "stream",
     "text": [
      "Sigma SX GPP\n"
     ]
    },
    {
     "name": "stderr",
     "output_type": "stream",
     "text": [
      "\n"
     ]
    },
    {
     "name": "stdout",
     "output_type": "stream",
     "text": [
      "   12.264463   10.862820   11.567866\n",
      "    8.203939   10.862420   10.184037\n",
      "    8.207702    8.852984    8.518146\n",
      "    8.196115    8.854197    8.520741\n",
      "    3.356442    2.869535    3.293694\n",
      "    3.353732    2.869395    2.792918\n",
      "    3.358630    1.779970    2.786417\n",
      "    3.373766    1.787217    1.095793\n"
     ]
    },
    {
     "name": "stderr",
     "output_type": "stream",
     "text": [
      "Sigma_CH_GPP:   5%|▍         | 3/64 [00:02<00:49,  1.22it/s]"
     ]
    }
   ],
   "source": [
    "gpp_result = sigma.calculate_gpp()"
   ]
  },
  {
   "cell_type": "code",
   "execution_count": null,
   "metadata": {},
   "outputs": [
    {
     "name": "stdout",
     "output_type": "stream",
     "text": [
      "k-point index: 0\n",
      "[0.000236 0.000262 0.000678 0.004735 0.004289 0.001108 0.001276 0.001741]\n",
      "k-point index: 40\n",
      "[1.067e-03 7.200e-05 2.290e-03 5.800e-05 6.000e-05 1.991e-03 8.690e-04\n",
      " 6.440e-04]\n",
      "k-point index: 8\n",
      "[8.630e-04 1.535e-03 2.410e-04 3.362e-03 4.570e-04 1.992e-03 2.456e-03\n",
      " 9.600e-05]\n"
     ]
    }
   ],
   "source": [
    "from qtm.gw.io_bgw.sigma_hp_reader import read_sigma_hp\n",
    "\n",
    "ref_dict = read_sigma_hp(dirname+\"../gpp/sigma_hp.log\")\n",
    "for ik in gpp_result:\n",
    "    print(\"k-point index:\",ik)\n",
    "    qtty = 'Eqp1'\n",
    "    print(np.abs(ref_dict[ik+1][qtty]-np.around(gpp_result[ik][qtty],6)))"
   ]
  }
 ],
 "metadata": {
  "kernelspec": {
   "display_name": "qtmgw",
   "language": "python",
   "name": "python3"
  },
  "language_info": {
   "codemirror_mode": {
    "name": "ipython",
    "version": 3
   },
   "file_extension": ".py",
   "mimetype": "text/x-python",
   "name": "python",
   "nbconvert_exporter": "python",
   "pygments_lexer": "ipython3",
   "version": "3.9.17"
  },
  "orig_nbformat": 4,
  "vscode": {
   "interpreter": {
    "hash": "e999361976a928b84e12c419d14d94f70e0843150ccb2ec1be172a20bbe93fd8"
   }
  }
 },
 "nbformat": 4,
 "nbformat_minor": 2
}
