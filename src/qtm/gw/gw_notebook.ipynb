{
 "cells": [
  {
   "attachments": {},
   "cell_type": "markdown",
   "metadata": {},
   "source": [
    "# GW Approximation Tutorial Notebook\n",
    "\n",
    "In this notebook, we present an example calculation of quasiparticle energies using QuatumMASALA's `gw` module."
   ]
  },
  {
   "cell_type": "code",
   "execution_count": 92,
   "metadata": {},
   "outputs": [
    {
     "name": "stdout",
     "output_type": "stream",
     "text": [
      "The autoreload extension is already loaded. To reload it, use:\n",
      "  %reload_ext autoreload\n"
     ]
    }
   ],
   "source": [
    "%load_ext autoreload\n",
    "%autoreload 2"
   ]
  },
  {
   "cell_type": "code",
   "execution_count": 93,
   "metadata": {},
   "outputs": [],
   "source": [
    "# Imports\n",
    "from __future__ import annotations\n",
    "import numpy as np\n",
    "import sys\n",
    "\n",
    "\n",
    "sys.path.append(\".\")\n",
    "\n",
    "dirname = \"../../../tests/bgw/silicon/cohsex/\""
   ]
  },
  {
   "attachments": {},
   "cell_type": "markdown",
   "metadata": {},
   "source": [
    "### Load Input Files\n",
    "Input data is handled by the ``EpsInp`` class.\\\n",
    "The data can be provided either by constructing the ``EpsInp`` object or by reading BGW-compatible input file ``epsilon.inp``.\\\n",
    "The attributes have been supplied with docstrings from BerkeleyGW's input specification, so they will be accessible directly in most IDEs."
   ]
  },
  {
   "cell_type": "code",
   "execution_count": 94,
   "metadata": {},
   "outputs": [],
   "source": [
    "from qtm.gw.io_bgw.epsinp import Epsinp\n",
    "\n",
    "# Constructing input manually\n",
    "epsinp = Epsinp(epsilon_cutoff=10.0,\n",
    "                use_wfn_hdf5=True,\n",
    "                number_bands=8,\n",
    "                write_vcoul=True,\n",
    "                qpts=[[0.0,0.0,0.0]],\n",
    "                is_q0=[True])\n",
    "\n",
    "# Reading from epsilon.inp file\n",
    "epsinp = Epsinp.from_epsilon_inp(filename=dirname+'epsilon.inp')\n",
    "# print(epsinp)\n",
    "\n",
    "# There is an analogous system to read SigmaInp\n",
    "from qtm.gw.io_bgw.sigmainp import Sigmainp\n",
    "sigmainp = Sigmainp.from_sigma_inp(filename=dirname+'sigma.inp')\n",
    "# print(sigmainp)"
   ]
  },
  {
   "attachments": {},
   "cell_type": "markdown",
   "metadata": {},
   "source": [
    "### Load WfnData\n",
    "Calculation of dielectric matrix requires mean field eigenfunctions. \\\n",
    "Wavefunction data generated from mean-field codes can be read using the ``wfn2py`` utility, which assumes that the incoming data satisfies BerkeleyGW's [`wfn_h5`](http://manual.berkeleygw.org/3.0/wfn_h5_spec/) specification. The data is stored as a `NamedTuple` object.\n",
    "\n",
    "For reasons discussed later, we also require wavefunctions on a shifted grid to calculate dielectric matrix at $q\\to 0$. This shifted grid dataset will be referred to as `wfnqdata`.\n",
    "\n",
    "Similarly, the utilities `read_rho` and `read_vxc` can be used to read density and exchange-correlation respectively."
   ]
  },
  {
   "cell_type": "code",
   "execution_count": 95,
   "metadata": {},
   "outputs": [
    {
     "name": "stdout",
     "output_type": "stream",
     "text": [
      "[0.91459276+0.26278404j 0.09447287+0.02714429j 0.00296139+0.00085088j\n",
      " 0.0060695 +0.00174391j 0.00130582+0.00037519j]\n",
      "[5.81663054e-03-9.40558288e-01j 4.24138879e-04-6.85829817e-02j\n",
      " 3.62901206e-06-5.87082508e-04j 2.51956677e-05-4.07420045e-03j\n",
      " 5.12124701e-06-8.28321086e-04j]\n",
      "[-6.80046766e-01-4.91020637e-02j -4.41114116e-02-3.18501595e-03j\n",
      " -5.95393129e-03-4.29891403e-04j -2.24667559e-03-1.62219137e-04j\n",
      " -2.92834433e-05-2.11479737e-06j]\n",
      "[-0.15657846+0.09401062j -0.0090998 +0.00546357j -0.00732237+0.00439639j\n",
      " -0.00145277+0.00087225j -0.00071016+0.00042639j]\n",
      "[0.56918722+0.74880547j 0.06837594+0.08995334j 0.00306547+0.00403283j\n",
      " 0.00450524+0.00592695j 0.00094637+0.00124502j]\n",
      "[6.33133821e-01-6.94216332e-01j 5.02131995e-02-5.50575825e-02j\n",
      " 5.34787320e-04-5.86382137e-04j 3.29207019e-03-3.60968356e-03j\n",
      " 7.10060866e-04-7.78564842e-04j]\n",
      "[-2.47132964e-01+8.31090956e-01j -1.60314123e-02+5.39125010e-02j\n",
      " -5.54994843e-04+1.86641068e-03j -7.94497202e-04+2.67184159e-03j\n",
      " -1.03134890e-04+3.46827095e-04j]\n",
      "[ 1.79691091e-01-1.59739561e-01j  1.28809931e-02-1.14507902e-02j\n",
      "  7.46672761e-03-6.63767914e-03j  1.41735726e-03-1.25998598e-03j\n",
      " -1.15168509e-04+1.02381258e-04j]\n",
      "[0.62593064-0.27034321j 0.07144858-0.03085906j 0.01203767-0.00519914j\n",
      " 0.01039195-0.00448835j 0.00180785-0.00078082j]\n",
      "[-0.8252242 +0.26606752j -0.06980946+0.02250785j -0.00331646+0.00106929j\n",
      " -0.00645759+0.00208204j -0.00132568+0.00042742j]\n",
      "[-0.2921387 +5.52180458e-01j -0.00489463+5.65558659e-02j\n",
      "  0.00771298+1.03901336e-02j -0.00040938+3.28445679e-03j\n",
      " -0.00032964+2.99303829e-04j]\n",
      "[-1.09902380e-02-0.04952101j -5.31057226e-03-0.02392884j\n",
      " -3.30523961e-03-0.01489305j -4.47168115e-04-0.00201487j\n",
      "  2.81379044e-05+0.00012679j]\n",
      "[0.05210567+0.17504229j 0.00136315+0.00457936j 0.00451157+0.01515604j\n",
      " 0.00311465+0.01046324j 0.00044175+0.001484j  ]\n",
      "[0.10421395-0.21666809j 0.00645599-0.01342245j 0.00507926-0.01056014j\n",
      " 0.00336534-0.00699679j 0.00049278-0.00102452j]\n",
      "[ 5.00131219e-02-8.47367169e-03j  3.05915162e-02-5.18311096e-03j\n",
      "  1.62267267e-02-2.74929064e-03j  2.53530895e-03-4.29555058e-04j\n",
      " -8.40265296e-06+1.42400002e-06j]\n",
      "[ 6.48800163e-09+1.64046195e-08j  2.18098446e-02+4.74102946e-03j\n",
      "  1.35574187e-02+2.94711788e-03j  1.67890481e-03+3.64964441e-04j\n",
      " -1.03453531e-04-2.24887879e-05j]\n",
      "[-0.47122519-0.81402123j -0.05660785-0.09778765j -0.00253787-0.00438406j\n",
      " -0.00372985-0.00644315j -0.00078349-0.00135345j]\n",
      "[9.29161342e-01-1.39477431e-01j 7.36908353e-02-1.10618059e-02j\n",
      " 7.84830319e-04-1.17815391e-04j 4.83131666e-03-7.25230122e-04j\n",
      " 1.04205669e-03-1.56424691e-04j]\n",
      "[8.17382744e-01-2.89261700e-01j 5.30232521e-02-1.87642730e-02j\n",
      " 1.83563616e-03-6.49609480e-04j 2.62775955e-03-9.29931623e-04j\n",
      " 3.41107643e-04-1.20713273e-04j]\n",
      "[ 1.34257135e-01-1.99450844e-01j  9.62409967e-03-1.42974571e-02j\n",
      "  5.57879719e-03-8.28779811e-03j  1.05898227e-03-1.57321632e-03j\n",
      " -8.60494298e-05+1.27835283e-04j]\n",
      "[-0.81074934+0.47484762j -0.11934711+0.06990036j -0.00618012+0.00361964j\n",
      " -0.00702271+0.00411313j -0.00143851+0.00084252j]\n",
      "[-0.89449906+0.29078372j -0.07902131+0.02568824j -0.00127302+0.00041383j\n",
      " -0.00532511+0.00173109j -0.00117023+0.00038042j]\n",
      "[ 9.07985096e-01+3.50017041e-02j  5.96293597e-02+2.29864125e-03j\n",
      " -3.90262460e-04-1.50408706e-05j  3.30201033e-03+1.27279784e-04j\n",
      "  6.29208364e-04+2.42550479e-05j]\n",
      "[-6.58193805e-02+3.88865367e-01j -4.50435210e-03+2.66119865e-02j\n",
      " -1.54196971e-03+9.11013649e-03j -3.30253108e-04+1.95110023e-03j\n",
      "  2.43143556e-05-1.43657085e-04j]\n",
      "[0.69893181-0.51310937j 0.1176153 -0.08634532j 0.01053754-0.00773596j\n",
      " 0.00884278-0.00649179j 0.00162182-0.00119063j]\n",
      "[0.58824846-0.69255021j 0.05681061-0.06688363j 0.00157274-0.0018516j\n",
      " 0.00446813-0.00526036j 0.00096691-0.00113835j]\n",
      "[ 0.19980529+0.84372078j  0.01277633+0.05395083j -0.00073202-0.0030911j\n",
      "  0.00087506+0.0036951j   0.00020664+0.00087258j]\n",
      "[ 4.66518866e-01-2.33119657e-01j  2.21121531e-02-3.02144811e-02j\n",
      " -1.71465667e-03-1.17846173e-02j  1.14170631e-03-1.82145559e-03j\n",
      "  1.61001945e-04+1.35650905e-04j]\n",
      "[-2.10232802e-01+1.16652358e-01j -1.79846829e-08-8.57507377e-09j\n",
      " -1.66198854e-02+9.22191452e-03j -1.15239389e-02+6.39431473e-03j\n",
      " -1.53846074e-03+8.53647247e-04j]\n",
      "[-0.38954298+0.0616823j  -0.02484682+0.00393437j -0.01206827+0.00191095j\n",
      " -0.00974921+0.00154374j -0.00155314+0.00024593j]\n",
      "[0.36911414+0.16635585j 0.03857287-0.00896965j 0.00980198-0.01162784j\n",
      " 0.00457918-0.00034036j 0.0006303 +0.0003121j ]\n",
      "[ 0.02929059+0.04141464j -0.01498135-0.02118251j -0.00962338-0.01360675j\n",
      " -0.00090545-0.00128023j  0.00013124+0.00018556j]\n",
      "[-0.60527724-0.31386955j -0.06909103-0.03582752j -0.01164047-0.00603622j\n",
      " -0.01004905-0.00521099j -0.00174819-0.00090653j]\n",
      "[-3.97737033e-03-0.86704733j -3.36456386e-04-0.07334747j\n",
      " -1.59862761e-05-0.00348455j -3.11246017e-05-0.00678486j\n",
      " -6.39002671e-06-0.00139287j]\n",
      "[6.18465632e-01-8.80255410e-02j 4.71191158e-02-2.97782247e-02j\n",
      " 3.07288908e-03-1.26153701e-02j 2.81754208e-03-1.62555707e-03j\n",
      " 4.46285976e-04+9.43873142e-05j]\n",
      "[-0.04993473-8.92404000e-03j -0.02412877-4.31212733e-03j\n",
      " -0.01501747-2.68381573e-03j -0.0020317 -3.63093594e-04j\n",
      "  0.00012785+2.28482449e-05j]\n",
      "[0.7760453 -0.38670479j 0.13059185-0.06507413j 0.01170016-0.00583021j\n",
      " 0.0098184 -0.00489253j 0.00180076-0.00089732j]\n",
      "[-0.24278675+0.87562357j -0.02344735+0.0845641j  -0.00064912+0.00234107j\n",
      " -0.00184412+0.00665092j -0.00039907+0.00143927j]\n",
      "[ 0.57586068-0.64820628j  0.0368228 -0.04144886j -0.00210976+0.00237481j\n",
      "  0.002522  -0.00283884j  0.00059556-0.00067038j]\n",
      "[5.15869616e-01-0.08006124j 2.97753507e-02-0.0221247j\n",
      " 1.61576551e-03-0.01179634j 1.60999577e-03-0.00139237j\n",
      " 1.18000679e-04+0.00017906j]\n",
      "[-0.34319541+0.52198203j -0.22626615+0.07927555j -0.00106306+0.01138847j\n",
      "  0.00285003+0.00883834j -0.00042131+0.00131663j]\n",
      "[7.55002004e-01-4.26331884e-01j 8.17962677e-02-4.61884172e-02j\n",
      " 6.31414395e-04-3.56548972e-04j 6.10138645e-03-3.44530968e-03j\n",
      " 1.35039298e-03-7.62535349e-04j]\n",
      "[ 0.35814989-0.58017521j  0.01877039-0.03040658j -0.00419925+0.00680246j\n",
      "  0.00172443-0.00279345j  0.00050204-0.00081326j]\n",
      "[-0.2216622 +0.32621205j -0.00141688+0.00208517j  0.00637831-0.00938672j\n",
      " -0.00035304+0.00051956j -0.00023979+0.0003529j ]\n",
      "[-0.02795811+0.0423256j   0.08041815-0.12174475j -0.00723265+0.01094947j\n",
      " -0.00671272+0.01016235j -0.00035752+0.00054124j]\n",
      "[ 0.29275714+2.72818794e-01j -0.0016041 +6.87149183e-02j\n",
      "  0.00815891-8.96221842e-03j  0.00758824-1.49600885e-03j\n",
      "  0.00108285+2.33447634e-04j]\n",
      "[ 0.12316425-0.37467185j  0.00252844-0.00769164j -0.00379481+0.01154398j\n",
      "  0.00064106-0.00195012j  0.00024807-0.00075464j]\n",
      "[ 0.11137916-0.21307341j -0.00428316+0.00819387j -0.00598735+0.01145405j\n",
      "  0.00015766-0.00030161j  0.00020832-0.00039852j]\n",
      "[-0.07082843+0.16833935j -0.00185298+0.00440399j -0.00613269+0.01457567j\n",
      " -0.0042338 +0.01006257j -0.00060048+0.00142717j]\n",
      "[-0.18077542+0.15851136j -0.01119892+0.00981967j -0.0088108 +0.00772567j\n",
      " -0.00583772+0.00511875j -0.00085481+0.00074953j]\n",
      "[-2.31663684e-03+5.06729596e-02j -1.41699333e-03+3.09951258e-02j\n",
      " -7.51616748e-04+1.64407968e-02j -1.17434927e-04+2.56875211e-03j\n",
      "  3.88690359e-07-8.51510310e-06j]\n",
      "[-1.64631046e-08+3.05770811e-09j -5.79207590e-03+2.15545469e-02j\n",
      " -3.60046984e-03+1.33987304e-02j -4.45867424e-04+1.65925400e-03j\n",
      "  2.74743928e-05-1.02243367e-04j]\n",
      "[-1.98267130e-01-1.35999103e-01j  3.00110490e-09-1.79421660e-08j\n",
      " -1.56739412e-02-1.07513642e-02j -1.08680289e-02-7.45478701e-03j\n",
      " -1.45088469e-03-9.95227070e-04j]\n",
      "[0.29761526-0.25879258j 0.01898326-0.01650696j 0.0092203 -0.00801755j\n",
      " 0.0074485 -0.00647687j 0.00118662-0.00103182j]\n",
      "[-2.47736984e-01+0.30907689j  1.63158484e-04+0.03906245j\n",
      "  9.28280797e-03+0.01232562j -6.96790056e-04+0.00445137j\n",
      " -4.50740698e-04+0.00052058j]\n",
      "[-2.30580723e-03-0.05067342j  1.17933856e-03+0.02591812j\n",
      "  7.57554733e-04+0.01664869j  7.12766830e-05+0.00156645j\n",
      " -1.03300108e-05-0.00022704j]\n",
      "[ 0.04913858-0.01259017j -0.14134139+0.0362143j   0.01271196-0.00325704j\n",
      "  0.01179814-0.0030229j   0.00062836-0.000161j  ]\n",
      "[0.3764527 +0.11029293j 0.02857672+0.06243594j 0.00326231-0.0118001j\n",
      " 0.00601881-0.00483379j 0.00105393-0.00028849j]\n",
      "[ 0.39439562-7.24329072e-04j  0.00809655-1.48697391e-05j\n",
      " -0.01215169+2.23182473e-05j  0.00205278-3.77268259e-06j\n",
      "  0.00079437-1.45631995e-06j]\n",
      "[ 0.19629507+0.13883026j -0.00754865-0.0053388j  -0.0105521 -0.00746301j\n",
      "  0.00027786+0.00019653j  0.00036714+0.00025966j]\n",
      "[-5.32017299e-09-1.52134690e-08j  1.03872044e-01-9.13257111e-02j\n",
      " -8.23219227e-03+7.23785215e-03j -7.77095628e-03+6.83232623e-03j\n",
      " -8.98720901e-05+7.90155520e-05j]\n",
      "[-0.02527052+0.04398313j -0.04679698+0.08144961j  0.00522911-0.00910122j\n",
      "  0.00334492-0.00582179j  0.00014752-0.00025676j]\n",
      "[-0.204518  -0.12640407j -0.00207733-0.00128391j  0.01095375+0.00677006j\n",
      " -0.00075844-0.00046876j -0.00044961-0.00027789j]\n",
      "[-0.17389672-0.0558098j   0.00982598+0.00315352j  0.01147899+0.00368402j\n",
      " -0.00045103-0.00014475j -0.00042175-0.00013536j]\n",
      "WfnData(crystal, grho, kpts, l_gk, l_wfn, symmetry)\n",
      "[9.97534542e-03+0.95154373j 1.02858217e-03+0.09811149j\n",
      " 3.21182835e-05+0.00306394j 6.61028802e-05+0.0063055j\n",
      " 1.42235412e-05+0.00135681j]\n",
      "[8.77509255e-01-3.38277954e-01j 6.39213992e-02-2.46415916e-02j\n",
      " 5.45707688e-04-2.10365294e-04j 3.79364872e-03-1.46244423e-03j\n",
      " 7.70594455e-04-2.97062438e-04j]\n",
      "[6.54971415e-01-1.76337396e-01j 4.24964493e-02-1.14412841e-02j\n",
      " 5.81399153e-03-1.56528555e-03j 2.16957887e-03-5.84106772e-04j\n",
      " 2.49387964e-05-6.71584655e-06j]\n",
      "[0.11950496+0.13727857j 0.00693532+0.0079668j  0.00560287+0.00643618j\n",
      " 0.00111201+0.00127739j 0.00054549+0.00062662j]\n",
      "[0.08503003+0.93676523j 0.01019269+0.112291j   0.00045555+0.00501879j\n",
      " 0.00067202+0.00740365j 0.00014122+0.00155578j]\n",
      "[2.93318648e-01-8.92556749e-01j 2.32336970e-02-7.06992979e-02j\n",
      " 2.44828461e-04-7.44992285e-04j 1.52226226e-03-4.63217779e-03j\n",
      " 3.28257982e-04-9.98873493e-04j]\n",
      "[8.31717002e-01+2.40987817e-01j 5.39497177e-02+1.56317770e-02j\n",
      " 1.90592171e-03+5.52239885e-04j 2.67147877e-03+7.74052261e-04j\n",
      " 3.44149990e-04+9.97139556e-05j]\n",
      "[-2.39113458e-01-1.07607188e-02j -1.71283103e-02-7.70826450e-04j\n",
      " -9.97361589e-03-4.48849075e-04j -1.89322746e-03-8.52055866e-05j\n",
      "  1.53683452e-04+6.91518514e-06j]\n",
      "[0.60232871-0.3219809j  0.06868344-0.03671553j 0.01152287-0.00615966j\n",
      " 0.0099667 -0.00532778j 0.0017354 -0.00092768j]\n",
      "[0.7094594 -0.49901108j 0.059944  -0.04216274j 0.00282776-0.00198894j\n",
      " 0.00553673-0.00389435j 0.00113711-0.00079981j]\n",
      "[-7.83609528e-05-0.00037072j -1.00826163e-03-0.03554325j\n",
      " -5.29876804e-04-0.01876332j -5.36034138e-05-0.00188837j\n",
      "  6.81592975e-06+0.00024323j]\n",
      "[-0.04726901-1.87842358e-02j -0.02273694-9.03555524e-03j\n",
      " -0.01416412-5.62876611e-03j -0.00191838-7.62349057e-04j\n",
      "  0.0001203 +4.78074189e-05j]\n",
      "[-0.09277186+0.15755865j -0.00243883+0.00414208j -0.0080123 +0.01360763j\n",
      " -0.00553306+0.00939703j -0.00078506+0.0013333j ]\n",
      "[-0.14513117-0.19191715j -0.00902104-0.01192911j -0.00706461-0.00934204j\n",
      " -0.00467478-0.00618179j -0.00068431-0.0009049j ]\n",
      "[ 4.83473072e-02+1.22591718e-02j  3.00483806e-02+7.61935404e-03j\n",
      "  1.59510911e-02+4.04471952e-03j  2.47927115e-03+6.28668034e-04j\n",
      " -1.08641225e-05-2.75444835e-06j]\n",
      "[ 2.07208371e-07-8.76265344e-08j  2.22822170e-02+5.34448517e-04j\n",
      "  1.38582871e-02+3.32395322e-04j  1.71713590e-03+4.11832369e-05j\n",
      " -1.05533532e-04-2.53174220e-06j]\n",
      "[0.73333152+0.58905355j 0.08790523+0.0706104j  0.00392887+0.0031559j\n",
      " 0.00579583+0.00465554j 0.00121792+0.0009783j ]\n",
      "[9.32018083e-01+1.18472238e-01j 7.38250195e-02+9.38413673e-03j\n",
      " 7.77921988e-04+9.88868509e-05j 4.83698083e-03+6.14847690e-04j\n",
      " 1.04303640e-03+1.32583307e-04j]\n",
      "[-3.48054604e-01+7.92897405e-01j -2.25767115e-02+5.14316591e-02j\n",
      " -7.97586171e-04+1.81696906e-03j -1.11795718e-03+2.54679496e-03j\n",
      " -1.44019230e-04+3.28084798e-04j]\n",
      "[ 2.19181445e-01-9.61797048e-02j  1.57005289e-02-6.88958470e-03j\n",
      "  9.14223816e-03-4.01172577e-03j  1.73540838e-03-7.61516160e-04j\n",
      " -1.40874084e-04+6.18180140e-05j]\n",
      "[0.53937378-0.76939633j 0.07918414-0.11295332j 0.00409063-0.00583511j\n",
      " 0.00466597-0.00665584j 0.00095618-0.00136396j]\n",
      "[0.52286202+0.78180722j 0.04611912+0.06895935j 0.00073614+0.00110071j\n",
      " 0.00310738+0.0046463j  0.00068291+0.00102112j]\n",
      "[ 3.94364277e-01+8.18272268e-01j  2.58783197e-02+5.36952620e-02j\n",
      " -1.67437883e-04-3.47417469e-04j  1.43119483e-03+2.96961533e-03j\n",
      "  2.72242049e-04+5.64875794e-04j]\n",
      "[-4.83939352e-02-3.88795707e-01j -3.31296980e-03-2.66164326e-02j\n",
      " -1.14334311e-03-9.18568785e-03j -2.44126582e-04-1.96131263e-03j\n",
      "  1.81008498e-05+1.45406816e-04j]\n",
      "[-0.74048936+0.45183037j -0.12426596+0.07582452j -0.011104  +0.00677541j\n",
      " -0.00934746+0.00570361j -0.00171586+0.00104698j]\n",
      "[-0.88792979+0.19298067j -0.08559703+0.01860352j -0.00234671+0.00051002j\n",
      " -0.00673112+0.00146292j -0.00145732+0.00031673j]\n",
      "[-0.68822255-0.52672907j -0.04393604-0.03362629j  0.00253787+0.00194233j\n",
      " -0.00300641-0.00230094j -0.00071024-0.00054358j]\n",
      "[ 5.90827367e-02-2.55860535e-01j  8.86397858e-03-3.83523492e-02j\n",
      "  3.79435303e-03-1.64094946e-02j  5.42145386e-04-2.34559518e-03j\n",
      " -4.82211184e-05+2.08442977e-04j]\n",
      "[1.77489883e-02-2.40218823e-01j 8.60887965e-06-1.17998839e-04j\n",
      " 1.39845847e-03-1.89268704e-02j 9.70130975e-04-1.31299079e-02j\n",
      " 1.29633643e-04-1.75446048e-03j]\n",
      "[0.2025769 +0.33937815j 0.01294414+0.02168527j 0.0062491 +0.0104692j\n",
      " 0.00505231+0.00846417j 0.00080533+0.00134919j]\n",
      "[ 0.22118444-0.13950293j -0.01266157+0.00799591j -0.01586921+0.01001502j\n",
      " -0.00050719+0.00032081j  0.00041689-0.00026295j]\n",
      "[ 0.03865143+0.03229652j -0.01989338-0.01662242j -0.01277802-0.01067701j\n",
      " -0.00120471-0.00100663j  0.00017381+0.00014523j]\n",
      "[0.49052086-0.4752482j  0.05593398-0.05419257j 0.00938394-0.00909175j\n",
      " 0.00811662-0.0078639j  0.00141327-0.00136926j]\n",
      "[0.74606357-0.44241816j 0.06303679-0.03738107j 0.00297366-0.00176338j\n",
      " 0.0058224 -0.0034527j  0.00119578-0.0007091j ]\n",
      "[-0.00035681+1.39555646e-04j -0.03488238+6.89775040e-03j\n",
      " -0.0184147 +3.63895773e-03j -0.00185325+3.66507194e-04j\n",
      "  0.00023872-4.71206049e-05j]\n",
      "[-0.04913105+1.31661407e-02j -0.02363268+6.33296453e-03j\n",
      " -0.01472216+3.94516764e-03j -0.00199396+5.34331085e-04j\n",
      "  0.00012504-3.35104838e-05j]\n",
      "[0.84045539-0.21473217j 0.1410419 -0.03603564j 0.01260304-0.00322001j\n",
      " 0.01060936-0.00271063j 0.0019475 -0.00049758j]\n",
      "[0.35914183+0.83467238j 0.03462156+0.08046297j 0.00094916+0.00220595j\n",
      " 0.00272254+0.00632741j 0.00058945+0.00136991j]\n",
      "[-0.25135393+0.82940641j -0.01604638+0.05294919j  0.00092687-0.00305849j\n",
      " -0.00109801+0.00362315j -0.0002594 +0.00085594j]\n",
      "[ 2.53303510e-01+6.92375276e-02j  3.79685216e-02+1.03860665e-02j\n",
      "  1.62451360e-02+4.44557847e-03j  2.32211735e-03+6.35232345e-04j\n",
      " -2.06356512e-04-5.64915676e-05j]\n",
      "[0.13333565+0.87353701j 0.03207292+0.21001356j 0.00245182+0.01606697j\n",
      " 0.00165981+0.01087957j 0.00030544+0.00200132j]\n",
      "[5.70656773e-01-6.52361309e-01j 6.16622512e-02-7.04909178e-02j\n",
      " 4.49997256e-04-5.14395900e-04j 4.60347648e-03-5.26258856e-03j\n",
      " 1.01966863e-03-1.16565798e-03j]\n",
      "[ 0.68053435-1.22548913e-02j  0.03553297-6.39881351e-04j\n",
      " -0.00801932+1.44422943e-04j  0.00326828-5.88541127e-05j\n",
      "  0.00095314-1.71651088e-05j]\n",
      "[-0.25494506+0.29970211j -0.00158689+0.00186546j  0.00735475-0.00864594j\n",
      " -0.00040255+0.00047322j -0.00027541+0.00032376j]\n",
      "[-0.00818799-0.0504247j   0.02332772+0.14366616j -0.00210462-0.01296141j\n",
      " -0.00195147-0.0120182j  -0.0001045 -0.00064356j]\n",
      "[-0.36613948+0.51819718j -0.04796565+0.06789808j  0.00168732-0.00239098j\n",
      " -0.00335515+0.00474703j -0.00079855+0.00113006j]\n",
      "[-3.96918307e-02-0.391548j   -8.02814884e-04-0.00791956j\n",
      "  1.22670673e-03+0.012101j   -2.06050889e-04-0.00203271j\n",
      " -7.99496113e-05-0.00078871j]\n",
      "[-0.21370292-0.10919298j  0.00825902+0.00421999j  0.01150768+0.00587991j\n",
      " -0.0002988 -0.00015267j -0.0003994 -0.00020408j]\n",
      "[-0.12633893+0.13217346j -0.00332128+0.00347474j -0.01091134+0.01141522j\n",
      " -0.00753504+0.00788301j -0.00106911+0.00111849j]\n",
      "[0.04260059-0.23681311j 0.00264793-0.01471977j 0.0020737 -0.01152743j\n",
      " 0.00137219-0.00762792j 0.00020087-0.00111659j]\n",
      "[-4.83316728e-02+1.23207084e-02j -3.00387280e-02+7.65731872e-03j\n",
      " -1.59459828e-02+4.06486355e-03j -2.47847876e-03+6.31803916e-04j\n",
      "  1.08623961e-05-2.76949928e-06j]\n",
      "[-1.66414390e-07+1.59290681e-07j -2.09214709e-02+7.68602312e-03j\n",
      " -1.30119782e-02+4.78027434e-03j -1.61227379e-03+5.92310818e-04j\n",
      "  9.90895600e-05-3.64020749e-05j]\n",
      "[1.04013880e-01-2.17258447e-01j 5.10000380e-05-1.06767479e-04j\n",
      " 8.19528451e-03-1.71178141e-02j 5.68520708e-03-1.18749287e-02j\n",
      " 7.59671362e-04-1.58676391e-03j]\n",
      "[-0.18126256-0.35122476j -0.01158221-0.02244224j -0.0055916 -0.01083464j\n",
      " -0.00452072-0.00875962j -0.0007206 -0.00139628j]\n",
      "[-0.25619767-5.24057685e-02j  0.01467291+2.99261637e-03j\n",
      "  0.01838556+3.75547534e-03j  0.0005881 +1.19507783e-04j\n",
      " -0.00048289-9.87670812e-05j]\n",
      "[-1.73024746e-02+0.0473035j   8.90519651e-03-0.02434643j\n",
      "  5.72004264e-03-0.01563834j  5.39281524e-04-0.00147437j\n",
      " -7.78058155e-05+0.00021272j]\n",
      "[-7.28577638e-03-0.05056294j  2.07572001e-02+0.14406001j\n",
      " -1.87271378e-03-0.01299695j -1.73643147e-03-0.01205113j\n",
      " -9.29831927e-05-0.00064532j]\n",
      "[-0.13418493+0.62014674j -0.01757386+0.08125265j  0.00061722-0.00286052j\n",
      " -0.00123021+0.0056814j  -0.00029271+0.00135243j]\n",
      "[-0.37508501+0.11914916j -0.00758657+0.00240994j  0.01159218-0.00368237j\n",
      " -0.00194724+0.00061854j -0.00075554+0.00024j   ]\n",
      "[ 5.63477009e-02-0.23327447j -2.17766544e-03+0.0090154j\n",
      " -3.03424560e-03+0.01256158j  7.87885299e-05-0.00032617j\n",
      "  1.05313006e-04-0.00043599j]\n",
      "[-9.88798069e-08+2.03579523e-07j -3.33563948e-03+1.38115984e-01j\n",
      "  2.64543405e-04-1.09541124e-02j  2.49603138e-04-1.03357420e-02j\n",
      "  2.93708322e-06-1.21498715e-04j]\n",
      "[ 0.03127559+0.04102604j  0.05677425+0.07447348j -0.00637071-0.00835675j\n",
      " -0.00405222-0.00531547j -0.00017837-0.00023397j]\n",
      "[ 9.98817573e-04+0.24023796j  9.62520602e-06+0.00231501j\n",
      " -5.35560561e-05-0.01287592j  3.70956103e-06+0.00089397j\n",
      "  2.20162588e-06+0.00052896j]\n",
      "[ 0.11721374+0.13978372j -0.00663949-0.00791794j -0.0077428 -0.00923369j\n",
      "  0.00030262+0.0003609j   0.00028413+0.00033883j]\n"
     ]
    }
   ],
   "source": [
    "# wfn2py\n",
    "from qtm.gw.io_bgw import inp\n",
    "from qtm.gw.io_bgw.wfn2py import wfn2py\n",
    "\n",
    "wfndata = wfn2py(dirname+'WFN.h5')#, wfn_ecutrho_minus_ecutwfn=epsinp.epsilon_cutoff)\n",
    "print(wfndata.__doc__)\n",
    "\n",
    "wfnqdata = wfn2py(dirname+'WFNq.h5')#, wfn_ecutrho_minus_ecutwfn=epsinp.epsilon_cutoff)\n",
    "# print(wfnqdata.__doc__)\n",
    "\n",
    "# RHO data\n",
    "rho = inp.read_rho(dirname+\"RHO\")\n",
    "\n",
    "# Vxc data\n",
    "vxc = inp.read_vxc(dirname+\"vxc.dat\")"
   ]
  },
  {
   "attachments": {},
   "cell_type": "markdown",
   "metadata": {},
   "source": [
    "### Initialize Epsilon Class\n",
    "\n",
    "``Epsilon`` class can be initialized by either directly passing the required `quantummasala.core` objects or by passing the input objects discussed earlier."
   ]
  },
  {
   "cell_type": "code",
   "execution_count": 96,
   "metadata": {},
   "outputs": [
    {
     "name": "stderr",
     "output_type": "stream",
     "text": [
      "Vcoul calculation for qpts: 100%|██████████| 64/64 [00:00<00:00, 17612.72it/s]\n",
      "Vcoul calculation for qpts: 100%|██████████| 64/64 [00:00<00:00, 17880.20it/s]\n"
     ]
    }
   ],
   "source": [
    "from qtm.gw.core import QPoints\n",
    "from qtm.gw.epsilon import Epsilon\n",
    "\n",
    "epsilon = Epsilon(\n",
    "    crystal = wfndata.crystal,\n",
    "    gspace = wfndata.grho,\n",
    "    kpts = wfndata.kpts,\n",
    "    kptsq = wfnqdata.kpts,\n",
    "    l_wfn = wfndata.l_wfn,\n",
    "    l_wfnq = wfnqdata.l_wfn,\n",
    "    l_gsp_wfn = wfndata.l_gk,\n",
    "    l_gsp_wfnq = wfnqdata.l_gk,\n",
    "    qpts = QPoints.from_cryst(wfndata.kpts.recilat, epsinp.is_q0, *epsinp.qpts),\n",
    "    epsinp = epsinp,\n",
    ")\n",
    "\n",
    "epsilon = Epsilon.from_data(wfndata=wfndata, wfnqdata=wfnqdata, epsinp=epsinp)"
   ]
  },
  {
   "cell_type": "code",
   "execution_count": 97,
   "metadata": {},
   "outputs": [
    {
     "name": "stdout",
     "output_type": "stream",
     "text": [
      "[[ 9.14592757e-01+2.62784037e-01j  9.44728675e-02+2.71442910e-02j\n",
      "   2.96138507e-03+8.50880880e-04j]\n",
      " [ 6.45053818e-09-4.62314618e-09j -4.62775051e-02+3.18821118e-02j\n",
      "  -3.96432930e-03+2.73115270e-03j]\n",
      " [-2.53191638e-09-8.45071366e-10j  1.45762352e-02+4.87794633e-03j\n",
      "   1.24867588e-03+4.17856600e-04j]]\n"
     ]
    }
   ],
   "source": [
    "print(epsilon.l_wfn[0].evc.data[:3,:3])"
   ]
  },
  {
   "attachments": {},
   "cell_type": "markdown",
   "metadata": {},
   "source": [
    "The three main steps involved in the calculation have been mapped to the corresponding functions:\n",
    "1.  ``matrix_elements``: Calculation of Planewave Matrix elements\n",
    "    $$M_{nn'}(k,q,G) = \\bra{n\\,{\\textbf k}{+}{\\textbf q}}e^{i({\\textbf q}+{\\textbf G})\\cdot{\\textbf r}}\\ket{n'\\,\\textbf k}$$\n",
    "    where the $\\textbf G$-vectors included in the calculation satisfy $|\\textbf q + \\textbf G|^2 < E_{\\text{cut}}$ which is specified in input. \\\n",
    "    Since this is a convolution in k-space, the time complexity can be reduced from $N^4$ to $N^3\\ln N$ by using Convolution Theorem. \\\n",
    "    ($N$ is roughly proportional to the number of k-vectors in the calculation.)\n",
    "    $$\n",
    "    M_{nn'}({\\bf k},{\\bf q},\\{{\\bf G}\\}) = {\\rm FFT}^{-1}\\left( \\phi^{*}_{n,{\\bf k}+{\\bf q} }({\\bf r}) \\phi_{n',{\\bf k} }({\\bf r}) \\right).\n",
    "    $$\n",
    "    where $\\phi_{n',{\\bf k}}({\\bf r}) = {\\rm FFT}\\left( \\psi_{n\\bf k}(\\bf G)\\right)$. \n",
    "    % Time complexity of this step: $O(N^3 \\ln N)$\n",
    "2.  ``polarizability``: Calculation of RPA polarizability matrix $P$\n",
    "    $$\n",
    "        P_{\\textbf{GG'}}{\\left({\\textbf q}\\;\\!;0\\right)}=\n",
    "        \\,\\,{}\\sum_{n}^{\\textrm occ}\\sum_{n'}^{\\textrm emp}\\sum_{{\\textbf k}}\n",
    "        \\frac{\n",
    "        \\bra{n'\\textbf k}e^{-i({\\textbf q}+{\\textbf G})\\cdot{\\textbf r}}\\ket{n{\\textbf k}{+}{\\textbf q}}\n",
    "        \\bra{n{\\textbf k}{+}{\\textbf q}}e^{i({\\textbf q}+{\\textbf G'})\\cdot{\\textbf r}}\\ket{n'\\textbf k}\n",
    "        }{E_{n{\\textbf k}{+}{\\textbf q}}\\,{-}\\,E_{n'{\\textbf k}}}.\n",
    "    $$\n",
    "3.  ``epsilon_inverse``: Calculation of (static) Epsilon Inverse matrix\n",
    "    $$\n",
    "        \\epsilon_{\\textbf{GG'}}{\\left({\\textbf q}\\;\\!\\right)}=\n",
    "        \\delta_{\\textbf{GG'}}\\,{-}\\,v{\\left({\\textbf q}{+}{\\textbf G}\\right)} \\,\n",
    "        P_{\\textbf{GG'}}{\\left({\\textbf q}\\;\\!\\right)}\n",
    "    $$\n",
    "    where $ v(\\textbf{q} + \\textbf{G}) = \\frac{8\\pi}{\\left|\\textbf q + \\textbf G\\right|^2} $ is bare Coulomb potential, written in Rydberg units. If this formula is used as-is for the case where $|\\textbf q| = |\\textbf G| = 0$, the resulting $v\\left({\\textbf{q=0}, \\textbf{G=0}}\\;\\!\\right)$ blows up as $1/q^2$. However, for 3D gapped systems, the matrix elements $\\big| M_{nn'}\\left({\\bf k},{\\textbf{q}\\to\\textbf{0}},{\\textbf{G=0}}\\right)\\big| \\sim q$ cancel the Coulomb divergence and $\\epsilon_{\\textbf{00}}\\left({\\textbf q\\to\\textbf{0}}\\;\\!\\right) \\sim q^2/q^2$ which is a finite number. In order to calculate $\\epsilon_{\\textbf{00}}\\left({\\textbf q=\\textbf{0}}\\;\\!\\right)$, we use the scheme specified in BGW(2012), where $q=0$ is replaced with a small but non-zero value. Since matrix element calculation involves the eigenvectors $\\ket{n{\\textbf k}{+}{\\textbf q}}$, having a non-$\\Gamma$-centered $\\textbf q\\to 0$ point requires mean-field eigenvectors over a shifted $k$-grid."
   ]
  },
  {
   "cell_type": "code",
   "execution_count": 98,
   "metadata": {},
   "outputs": [
    {
     "name": "stderr",
     "output_type": "stream",
     "text": [
      "Vcoul calculation for qpts: 100%|██████████| 64/64 [00:00<00:00, 16937.06it/s]\n",
      "Epsilon> q-pt index: 100%|██████████| 64/64 [00:23<00:00,  2.69it/s]\n"
     ]
    }
   ],
   "source": [
    "from tqdm import trange\n",
    "from qtm.gw.core import reorder_2d_matrix_sorted_gvecs, sort_cryst_like_BGW\n",
    "\n",
    "\n",
    "def calculate_epsilon(numq=None, writing=False):\n",
    "    epsmats = []\n",
    "    if numq is None:\n",
    "        numq = epsilon.qpts.numq\n",
    "\n",
    "    for i_q in trange(0, numq, desc=\"Epsilon> q-pt index\"):\n",
    "        # Create map between BGW's sorting order and QTm's sorting order\n",
    "        gkspc = epsilon.l_gq[i_q]\n",
    "        if i_q == epsilon.qpts.index_q0:\n",
    "            key = gkspc.g_norm2\n",
    "            indices_gspace_sorted = sort_cryst_like_BGW(\n",
    "                cryst=gkspc.g_cryst, key_array=key\n",
    "            )\n",
    "        else:\n",
    "            key = gkspc.gk_norm2\n",
    "            indices_gspace_sorted = sort_cryst_like_BGW(\n",
    "                cryst=gkspc.g_cryst, key_array=key\n",
    "            )\n",
    "\n",
    "        # Calculate polarizability matrix (Memory-inefficient, but faster)\n",
    "        chimat = epsilon.polarizability(next(epsilon.matrix_elements(i_q=i_q)))\n",
    "\n",
    "        # Calculate polarizability matrix (memory-efficient)\n",
    "        # chimat = epsilon.polarizability_active(i_q)\n",
    "\n",
    "        # Calculate epsilon inverse matrix\n",
    "        epsinv = epsilon.epsilon_inverse(i_q=i_q, polarizability_matrix=chimat, store=True)\n",
    "\n",
    "        # indices = epsilon.l_gq[i_q].gk_indices_tosorted\n",
    "        epsinv = reorder_2d_matrix_sorted_gvecs(epsinv, indices_gspace_sorted)\n",
    "        epsilon.l_epsinv[i_q] = epsinv\n",
    "        \n",
    "        # Compare the results with BGW's results\n",
    "        if i_q == epsilon.qpts.index_q0:\n",
    "            epsref = epsilon.read_epsmat(dirname + \"eps0mat.h5\")[0][0, 0]\n",
    "            # indices = epsilon.l_gq[i_q].gk_indices_tosorted\n",
    "            if writing:\n",
    "                epsilon.write_epsmat(\n",
    "                    filename=\"test/epsilon/eps0mat_qtm.h5\", epsinvmats=[epsinv]\n",
    "                )\n",
    "        else:\n",
    "            epsref = np.array(epsilon.read_epsmat(dirname + \"epsmat.h5\")[i_q - 1][0, 0])\n",
    "            epsmats.append(epsinv)\n",
    "\n",
    "        # Calculate stddev between reference and calculated epsinv matrices\n",
    "        # print(\"epsinv.shape\", epsinv.shape,\"epsref.shape\", epsref.shape)\n",
    "        mindim = min(*epsref.shape)#, *epsinv.shape)\n",
    "        epsref = epsref[:mindim, :mindim]\n",
    "        std_eps = np.std(epsref - epsinv) / np.sqrt(np.prod(list(epsinv.shape)))\n",
    "\n",
    "        epstol = 1e-15\n",
    "        if np.abs(std_eps) > epstol:\n",
    "            print(f\"Standard deviation exceeded {epstol} tolerance\", std_eps)\n",
    "            print(\"i_q\", i_q)\n",
    "            # print(epsinv[0])\n",
    "            # print(epsref[0])\n",
    "\n",
    "    if writing:\n",
    "        epsilon.write_epsmat(filename=\"test/epsilon/epsmat_qtm.h5\", epsinvmats=epsmats)\n",
    "\n",
    "\n",
    "epsinp.no_min_fftgrid = True\n",
    "epsilon = Epsilon.from_data(wfndata=wfndata, wfnqdata=wfnqdata, epsinp=epsinp)\n",
    "calculate_epsilon()#numq=1)\n",
    "\n",
    "# epsinp.no_min_fftgrid = False\n",
    "# epsilon = Epsilon.from_data(wfndata=wfndata, wfnqdata=wfnqdata, epsinp=epsinp)\n",
    "# calculate_epsilon()#numq=1)\n"
   ]
  },
  {
   "cell_type": "markdown",
   "metadata": {},
   "source": [
    "### Sigma Calculation"
   ]
  },
  {
   "cell_type": "code",
   "execution_count": 99,
   "metadata": {},
   "outputs": [
    {
     "name": "stderr",
     "output_type": "stream",
     "text": [
      "Vcoul calculation for qpts: 100%|██████████| 64/64 [00:00<00:00, 17109.79it/s]\n"
     ]
    },
    {
     "name": "stdout",
     "output_type": "stream",
     "text": [
      "vcoul: Vcoul:\n",
      "        * gspace = <qtm.gspace.gspc.GSpace object at 0x7f6360896e90>\n",
      "        * qpts = <qtm.gw.core.QPoints object at 0x7f6360037190>\n",
      "        * bare_coulomb_cutoff = 10.0\n",
      "        * avgcut = 1e-05\n",
      "        * l_gspace_q = <class 'list'> of length 64\n",
      "        * vcoul = <class 'list'> of length 64\n",
      "        * N_SAMPLES = 2500000.0\n",
      "        * N_SAMPLES_COARSE = 250000.0\n",
      "        * SEED = 5000\n",
      "        \n"
     ]
    },
    {
     "name": "stderr",
     "output_type": "stream",
     "text": [
      "Vcoul calculation for qpts:   0%|          | 0/64 [00:00<?, ?it/s]"
     ]
    },
    {
     "name": "stderr",
     "output_type": "stream",
     "text": [
      "Vcoul calculation for qpts: 100%|██████████| 64/64 [00:49<00:00,  1.30it/s]\n"
     ]
    }
   ],
   "source": [
    "from qtm.gw.sigma import Sigma\n",
    "\n",
    "\n",
    "# dirname = \"./scripts/results/si_6_nband272_pristine_cohsex/si_6_gw/\"\n",
    "# outdir = \"./test/tempdir_20230618_173806/\"\n",
    "outdir = dirname+\"test/\"\n",
    "\n",
    "sigma = Sigma.from_data(\n",
    "    wfndata=wfndata,\n",
    "    wfnqdata=wfnqdata,\n",
    "    sigmainp=sigmainp,\n",
    "    epsinp=epsinp,\n",
    "    l_epsmats=epsilon.l_epsinv,\n",
    "    rho=rho,\n",
    "    vxc=vxc,\n",
    "    outdir=dirname+\"temp/\",\n",
    ")"
   ]
  },
  {
   "cell_type": "code",
   "execution_count": 100,
   "metadata": {},
   "outputs": [
    {
     "name": "stdout",
     "output_type": "stream",
     "text": [
      "(4477, 3)\n"
     ]
    }
   ],
   "source": [
    "print(sigma.rho.gvecs.shape)"
   ]
  },
  {
   "cell_type": "code",
   "execution_count": 101,
   "metadata": {},
   "outputs": [
    {
     "name": "stderr",
     "output_type": "stream",
     "text": [
      "Sigma_X:   5%|▍         | 3/64 [00:00<00:02, 28.11it/s]"
     ]
    },
    {
     "name": "stderr",
     "output_type": "stream",
     "text": [
      "Sigma_X: 100%|██████████| 64/64 [00:02<00:00, 29.13it/s]"
     ]
    },
    {
     "name": "stdout",
     "output_type": "stream",
     "text": [
      "Sigma X GPP\n",
      "  -17.544906  -16.031120  -16.916213\n",
      "  -12.984799  -16.031115  -14.895720\n",
      "  -12.984990  -13.425014  -13.214186\n",
      "  -12.984879  -13.425073  -13.214228\n",
      "   -5.772040   -5.203257   -5.937991\n",
      "   -5.772092   -5.202819   -5.086562\n",
      "   -5.772459   -3.793211   -5.086561\n",
      "   -5.801537   -3.793222   -2.418507\n"
     ]
    },
    {
     "name": "stderr",
     "output_type": "stream",
     "text": [
      "\n"
     ]
    }
   ],
   "source": [
    "sigma.print_condition=False\n",
    "sigma_x_mat = sigma.sigma_x()    \n",
    "print(\"Sigma X GPP\")\n",
    "sigma.pprint_sigma_mat(np.real(sigma_x_mat.T))\n"
   ]
  },
  {
   "cell_type": "code",
   "execution_count": 102,
   "metadata": {},
   "outputs": [
    {
     "name": "stderr",
     "output_type": "stream",
     "text": [
      "Sigma_SX_Static:   5%|▍         | 3/64 [00:00<00:02, 28.70it/s]"
     ]
    },
    {
     "name": "stderr",
     "output_type": "stream",
     "text": [
      "Sigma_SX_Static: 100%|██████████| 64/64 [00:02<00:00, 28.63it/s]"
     ]
    },
    {
     "name": "stdout",
     "output_type": "stream",
     "text": [
      "Sigma SX COHSEX\n",
      "   11.897822   10.692213   11.350437\n",
      "    8.050415   10.691906   10.025763\n",
      "    8.052588    8.736187    8.384990\n",
      "    8.052483    8.736867    8.385902\n",
      "    2.917532    2.597576    2.882170\n",
      "    2.915433    2.597634    2.433213\n",
      "    2.919747    1.333271    2.431261\n",
      "    2.674705    1.334266    0.749947\n"
     ]
    },
    {
     "name": "stderr",
     "output_type": "stream",
     "text": [
      "\n"
     ]
    }
   ],
   "source": [
    "sigma.print_condition=False\n",
    "sigma_sx_cohsex_mat = sigma.sigma_sx_static()    \n",
    "print(\"Sigma SX COHSEX\")\n",
    "sigma.pprint_sigma_mat(np.real(sigma_sx_cohsex_mat.T))"
   ]
  },
  {
   "cell_type": "code",
   "execution_count": 103,
   "metadata": {},
   "outputs": [
    {
     "name": "stderr",
     "output_type": "stream",
     "text": [
      "Sigma_CH_Static_Partial:   0%|          | 0/64 [00:00<?, ?it/s]"
     ]
    },
    {
     "name": "stderr",
     "output_type": "stream",
     "text": [
      "Sigma_CH_Static_Partial: 100%|██████████| 64/64 [00:04<00:00, 15.67it/s]"
     ]
    },
    {
     "name": "stdout",
     "output_type": "stream",
     "text": [
      "Sigma CH COHSEX\n",
      "   -6.641277   -6.317907   -6.511362\n",
      "   -5.113976   -6.317977   -6.076655\n",
      "   -5.114200   -5.580271   -5.418842\n",
      "   -5.114077   -5.580427   -5.419831\n",
      "   -4.749343   -4.710424   -4.933476\n",
      "   -4.748586   -4.710832   -4.288478\n",
      "   -4.750098   -3.472540   -4.288100\n",
      "   -4.781285   -3.473914   -2.996284\n"
     ]
    },
    {
     "name": "stderr",
     "output_type": "stream",
     "text": [
      "\n"
     ]
    }
   ],
   "source": [
    "sigma.print_condition=False\n",
    "sigma_ch_cohsex_mat = sigma.sigma_ch_static()    \n",
    "print(\"Sigma CH COHSEX\")\n",
    "sigma.pprint_sigma_mat(np.real(sigma_ch_cohsex_mat.T))"
   ]
  },
  {
   "cell_type": "code",
   "execution_count": 104,
   "metadata": {},
   "outputs": [
    {
     "name": "stderr",
     "output_type": "stream",
     "text": [
      "Sigma_CH_Static_Exact:   0%|          | 0/64 [00:00<?, ?it/s]"
     ]
    },
    {
     "name": "stderr",
     "output_type": "stream",
     "text": [
      "Sigma_CH_Static_Exact: 100%|██████████| 64/64 [00:22<00:00,  2.82it/s]"
     ]
    },
    {
     "name": "stdout",
     "output_type": "stream",
     "text": [
      "Sigma CH COHSEX EXACT\n",
      "   -7.461535   -7.645228   -7.650968\n",
      "   -7.788499   -7.645261   -7.324929\n",
      "   -7.788918   -7.500747   -7.703410\n",
      "   -7.788862   -7.501264   -7.704059\n",
      "   -7.361444   -6.804707   -7.377943\n",
      "   -7.360928   -6.804653   -7.142290\n",
      "   -7.362404   -7.712695   -7.142081\n",
      "   -7.851026   -7.714351   -6.239520\n"
     ]
    },
    {
     "name": "stderr",
     "output_type": "stream",
     "text": [
      "\n"
     ]
    }
   ],
   "source": [
    "sigma.print_condition=False\n",
    "sigma_ch_exact_mat = sigma.sigma_ch_static_exact()    \n",
    "print(\"Sigma CH COHSEX EXACT\")\n",
    "sigma.pprint_sigma_mat(np.real(sigma_ch_exact_mat.T))"
   ]
  },
  {
   "cell_type": "code",
   "execution_count": 116,
   "metadata": {},
   "outputs": [
    {
     "name": "stderr",
     "output_type": "stream",
     "text": [
      "Sigma_X: 100%|██████████| 64/64 [00:02<00:00, 26.19it/s]\n"
     ]
    },
    {
     "name": "stdout",
     "output_type": "stream",
     "text": [
      "Sigma X\n",
      "[[-17.544906+0.j -12.984799+0.j -12.98499 +0.j -12.984879+0.j\n",
      "   -5.77204 +0.j  -5.772092+0.j  -5.772459+0.j  -5.801537+0.j]\n",
      " [-16.03112 +0.j -16.031115+0.j -13.425014+0.j -13.425073+0.j\n",
      "   -5.203257+0.j  -5.202819+0.j  -3.793211+0.j  -3.793222+0.j]\n",
      " [-16.916213+0.j -14.89572 +0.j -13.214186+0.j -13.214228+0.j\n",
      "   -5.937991+0.j  -5.086562+0.j  -5.086561+0.j  -2.418507+0.j]]\n"
     ]
    },
    {
     "name": "stderr",
     "output_type": "stream",
     "text": [
      "Sigma_SX_Static:   5%|▍         | 3/64 [00:00<00:02, 25.70it/s]"
     ]
    },
    {
     "name": "stdout",
     "output_type": "stream",
     "text": [
      "i_q: 0, 2023-08-04 11:00:50\n",
      "i_q: 1, 2023-08-04 11:00:50\n",
      "i_q: 2, 2023-08-04 11:00:50\n",
      "i_q: 3, 2023-08-04 11:00:50\n",
      "i_q: 4, 2023-08-04 11:00:50\n",
      "i_q: 5, 2023-08-04 11:00:50\n"
     ]
    },
    {
     "name": "stderr",
     "output_type": "stream",
     "text": [
      "Sigma_SX_Static:  14%|█▍        | 9/64 [00:00<00:02, 25.58it/s]"
     ]
    },
    {
     "name": "stdout",
     "output_type": "stream",
     "text": [
      "i_q: 6, 2023-08-04 11:00:50\n",
      "i_q: 7, 2023-08-04 11:00:50\n",
      "i_q: 8, 2023-08-04 11:00:50\n",
      "i_q: 9, 2023-08-04 11:00:50\n",
      "i_q: 10, 2023-08-04 11:00:50\n",
      "i_q: 11, 2023-08-04 11:00:50\n"
     ]
    },
    {
     "name": "stderr",
     "output_type": "stream",
     "text": [
      "Sigma_SX_Static:  23%|██▎       | 15/64 [00:00<00:01, 25.54it/s]"
     ]
    },
    {
     "name": "stdout",
     "output_type": "stream",
     "text": [
      "i_q: 12, 2023-08-04 11:00:50\n",
      "i_q: 13, 2023-08-04 11:00:50\n",
      "i_q: 14, 2023-08-04 11:00:50\n",
      "i_q: 15, 2023-08-04 11:00:50\n",
      "i_q: 16, 2023-08-04 11:00:50\n",
      "i_q: 17, 2023-08-04 11:00:50\n"
     ]
    },
    {
     "name": "stderr",
     "output_type": "stream",
     "text": [
      "Sigma_SX_Static:  33%|███▎      | 21/64 [00:00<00:01, 25.49it/s]"
     ]
    },
    {
     "name": "stdout",
     "output_type": "stream",
     "text": [
      "i_q: 18, 2023-08-04 11:00:50\n",
      "i_q: 19, 2023-08-04 11:00:50\n",
      "i_q: 20, 2023-08-04 11:00:50\n",
      "i_q: 21, 2023-08-04 11:00:50\n",
      "i_q: 22, 2023-08-04 11:00:51\n",
      "i_q: 23, 2023-08-04 11:00:51\n"
     ]
    },
    {
     "name": "stderr",
     "output_type": "stream",
     "text": [
      "Sigma_SX_Static:  42%|████▏     | 27/64 [00:01<00:01, 25.55it/s]"
     ]
    },
    {
     "name": "stdout",
     "output_type": "stream",
     "text": [
      "i_q: 24, 2023-08-04 11:00:51\n",
      "i_q: 25, 2023-08-04 11:00:51\n",
      "i_q: 26, 2023-08-04 11:00:51\n",
      "i_q: 27, 2023-08-04 11:00:51\n",
      "i_q: 28, 2023-08-04 11:00:51\n",
      "i_q: 29, 2023-08-04 11:00:51\n"
     ]
    },
    {
     "name": "stderr",
     "output_type": "stream",
     "text": [
      "Sigma_SX_Static:  52%|█████▏    | 33/64 [00:01<00:01, 25.58it/s]"
     ]
    },
    {
     "name": "stdout",
     "output_type": "stream",
     "text": [
      "i_q: 30, 2023-08-04 11:00:51\n",
      "i_q: 31, 2023-08-04 11:00:51\n",
      "i_q: 32, 2023-08-04 11:00:51\n",
      "i_q: 33, 2023-08-04 11:00:51\n",
      "i_q: 34, 2023-08-04 11:00:51\n",
      "i_q: 35, 2023-08-04 11:00:51\n"
     ]
    },
    {
     "name": "stderr",
     "output_type": "stream",
     "text": [
      "Sigma_SX_Static:  61%|██████    | 39/64 [00:01<00:00, 25.55it/s]"
     ]
    },
    {
     "name": "stdout",
     "output_type": "stream",
     "text": [
      "i_q: 36, 2023-08-04 11:00:51\n",
      "i_q: 37, 2023-08-04 11:00:51\n",
      "i_q: 38, 2023-08-04 11:00:51\n",
      "i_q: 39, 2023-08-04 11:00:51\n",
      "i_q: 40, 2023-08-04 11:00:51\n",
      "i_q: 41, 2023-08-04 11:00:51\n"
     ]
    },
    {
     "name": "stderr",
     "output_type": "stream",
     "text": [
      "Sigma_SX_Static:  70%|███████   | 45/64 [00:01<00:00, 25.14it/s]"
     ]
    },
    {
     "name": "stdout",
     "output_type": "stream",
     "text": [
      "i_q: 42, 2023-08-04 11:00:51\n",
      "i_q: 43, 2023-08-04 11:00:51\n",
      "i_q: 44, 2023-08-04 11:00:51\n",
      "i_q: 45, 2023-08-04 11:00:51\n",
      "i_q: 46, 2023-08-04 11:00:51\n",
      "i_q: 47, 2023-08-04 11:00:51\n"
     ]
    },
    {
     "name": "stderr",
     "output_type": "stream",
     "text": [
      "Sigma_SX_Static:  80%|███████▉  | 51/64 [00:02<00:00, 25.36it/s]"
     ]
    },
    {
     "name": "stdout",
     "output_type": "stream",
     "text": [
      "i_q: 48, 2023-08-04 11:00:52\n",
      "i_q: 49, 2023-08-04 11:00:52\n",
      "i_q: 50, 2023-08-04 11:00:52\n",
      "i_q: 51, 2023-08-04 11:00:52\n",
      "i_q: 52, 2023-08-04 11:00:52\n",
      "i_q: 53, 2023-08-04 11:00:52\n"
     ]
    },
    {
     "name": "stderr",
     "output_type": "stream",
     "text": [
      "Sigma_SX_Static:  89%|████████▉ | 57/64 [00:02<00:00, 25.06it/s]"
     ]
    },
    {
     "name": "stdout",
     "output_type": "stream",
     "text": [
      "i_q: 54, 2023-08-04 11:00:52\n",
      "i_q: 55, 2023-08-04 11:00:52\n",
      "i_q: 56, 2023-08-04 11:00:52\n",
      "i_q: 57, 2023-08-04 11:00:52\n",
      "i_q: 58, 2023-08-04 11:00:52\n"
     ]
    },
    {
     "name": "stderr",
     "output_type": "stream",
     "text": [
      "Sigma_SX_Static: 100%|██████████| 64/64 [00:02<00:00, 25.42it/s]\n"
     ]
    },
    {
     "name": "stdout",
     "output_type": "stream",
     "text": [
      "i_q: 59, 2023-08-04 11:00:52\n",
      "i_q: 60, 2023-08-04 11:00:52\n",
      "i_q: 61, 2023-08-04 11:00:52\n",
      "i_q: 62, 2023-08-04 11:00:52\n",
      "i_q: 63, 2023-08-04 11:00:52\n",
      "Sigma SX STATIC\n",
      "[[11.897822-0.j        8.050415-0.j        8.052588+0.j\n",
      "   8.052483+0.j        2.917532+0.j        2.915433+0.j\n",
      "   2.919747-0.j        2.674705-0.j      ]\n",
      " [10.692213-0.002825j 10.691906+0.002825j  8.736187+0.j\n",
      "   8.736867-0.j        2.597576-0.00052j   2.597634+0.00052j\n",
      "   1.333271+0.j        1.334266-0.j      ]\n",
      " [11.350437-0.j       10.025763+0.j        8.38499 -0.j\n",
      "   8.385902+0.j        2.88217 -0.j        2.433213+0.j\n",
      "   2.431261+0.j        0.749947+0.j      ]]\n"
     ]
    },
    {
     "name": "stderr",
     "output_type": "stream",
     "text": [
      "Sigma_CH_Static_Partial:   0%|          | 0/64 [00:00<?, ?it/s]"
     ]
    },
    {
     "name": "stdout",
     "output_type": "stream",
     "text": [
      "i_q: 0, 2023-08-04 11:00:52\n"
     ]
    },
    {
     "name": "stderr",
     "output_type": "stream",
     "text": [
      "Sigma_CH_Static_Partial:   3%|▎         | 2/64 [00:00<00:04, 15.26it/s]"
     ]
    },
    {
     "name": "stdout",
     "output_type": "stream",
     "text": [
      "i_q: 1, 2023-08-04 11:00:52\n",
      "i_q: 2, 2023-08-04 11:00:52\n",
      "i_q: 3, 2023-08-04 11:00:52\n"
     ]
    },
    {
     "name": "stderr",
     "output_type": "stream",
     "text": [
      "Sigma_CH_Static_Partial:   6%|▋         | 4/64 [00:00<00:03, 15.27it/s]"
     ]
    },
    {
     "name": "stdout",
     "output_type": "stream",
     "text": [
      "i_q: 4, 2023-08-04 11:00:52\n"
     ]
    },
    {
     "name": "stderr",
     "output_type": "stream",
     "text": [
      "Sigma_CH_Static_Partial:   9%|▉         | 6/64 [00:00<00:03, 15.21it/s]"
     ]
    },
    {
     "name": "stdout",
     "output_type": "stream",
     "text": [
      "i_q: 5, 2023-08-04 11:00:52\n",
      "i_q: 6, 2023-08-04 11:00:53\n",
      "i_q: 7, 2023-08-04 11:00:53\n"
     ]
    },
    {
     "name": "stderr",
     "output_type": "stream",
     "text": [
      "Sigma_CH_Static_Partial:  12%|█▎        | 8/64 [00:00<00:03, 15.23it/s]"
     ]
    },
    {
     "name": "stdout",
     "output_type": "stream",
     "text": [
      "i_q: 8, 2023-08-04 11:00:53\n"
     ]
    },
    {
     "name": "stderr",
     "output_type": "stream",
     "text": [
      "Sigma_CH_Static_Partial:  16%|█▌        | 10/64 [00:00<00:03, 15.22it/s]"
     ]
    },
    {
     "name": "stdout",
     "output_type": "stream",
     "text": [
      "i_q: 9, 2023-08-04 11:00:53\n",
      "i_q: 10, 2023-08-04 11:00:53\n",
      "i_q: 11, 2023-08-04 11:00:53\n"
     ]
    },
    {
     "name": "stderr",
     "output_type": "stream",
     "text": [
      "Sigma_CH_Static_Partial:  19%|█▉        | 12/64 [00:00<00:03, 15.22it/s]"
     ]
    },
    {
     "name": "stdout",
     "output_type": "stream",
     "text": [
      "i_q: 12, 2023-08-04 11:00:53\n"
     ]
    },
    {
     "name": "stderr",
     "output_type": "stream",
     "text": [
      "Sigma_CH_Static_Partial:  22%|██▏       | 14/64 [00:00<00:03, 15.22it/s]"
     ]
    },
    {
     "name": "stdout",
     "output_type": "stream",
     "text": [
      "i_q: 13, 2023-08-04 11:00:53\n",
      "i_q: 14, 2023-08-04 11:00:53\n",
      "i_q: 15, 2023-08-04 11:00:53\n"
     ]
    },
    {
     "name": "stderr",
     "output_type": "stream",
     "text": [
      "Sigma_CH_Static_Partial:  25%|██▌       | 16/64 [00:01<00:03, 15.21it/s]"
     ]
    },
    {
     "name": "stdout",
     "output_type": "stream",
     "text": [
      "i_q: 16, 2023-08-04 11:00:53\n"
     ]
    },
    {
     "name": "stderr",
     "output_type": "stream",
     "text": [
      "Sigma_CH_Static_Partial:  28%|██▊       | 18/64 [00:01<00:03, 15.19it/s]"
     ]
    },
    {
     "name": "stdout",
     "output_type": "stream",
     "text": [
      "i_q: 17, 2023-08-04 11:00:53\n",
      "i_q: 18, 2023-08-04 11:00:53\n",
      "i_q: 19, 2023-08-04 11:00:53\n"
     ]
    },
    {
     "name": "stderr",
     "output_type": "stream",
     "text": [
      "Sigma_CH_Static_Partial:  31%|███▏      | 20/64 [00:01<00:02, 15.21it/s]"
     ]
    },
    {
     "name": "stdout",
     "output_type": "stream",
     "text": [
      "i_q: 20, 2023-08-04 11:00:53\n"
     ]
    },
    {
     "name": "stderr",
     "output_type": "stream",
     "text": [
      "Sigma_CH_Static_Partial:  34%|███▍      | 22/64 [00:01<00:02, 15.18it/s]"
     ]
    },
    {
     "name": "stdout",
     "output_type": "stream",
     "text": [
      "i_q: 21, 2023-08-04 11:00:54\n",
      "i_q: 22, 2023-08-04 11:00:54\n",
      "i_q: 23, 2023-08-04 11:00:54\n"
     ]
    },
    {
     "name": "stderr",
     "output_type": "stream",
     "text": [
      "Sigma_CH_Static_Partial:  38%|███▊      | 24/64 [00:01<00:02, 15.22it/s]"
     ]
    },
    {
     "name": "stdout",
     "output_type": "stream",
     "text": [
      "i_q: 24, 2023-08-04 11:00:54\n"
     ]
    },
    {
     "name": "stderr",
     "output_type": "stream",
     "text": [
      "Sigma_CH_Static_Partial:  41%|████      | 26/64 [00:01<00:02, 15.24it/s]"
     ]
    },
    {
     "name": "stdout",
     "output_type": "stream",
     "text": [
      "i_q: 25, 2023-08-04 11:00:54\n",
      "i_q: 26, 2023-08-04 11:00:54\n",
      "i_q: 27, 2023-08-04 11:00:54\n"
     ]
    },
    {
     "name": "stderr",
     "output_type": "stream",
     "text": [
      "Sigma_CH_Static_Partial:  44%|████▍     | 28/64 [00:01<00:02, 15.24it/s]"
     ]
    },
    {
     "name": "stdout",
     "output_type": "stream",
     "text": [
      "i_q: 28, 2023-08-04 11:00:54\n"
     ]
    },
    {
     "name": "stderr",
     "output_type": "stream",
     "text": [
      "Sigma_CH_Static_Partial:  47%|████▋     | 30/64 [00:01<00:02, 15.24it/s]"
     ]
    },
    {
     "name": "stdout",
     "output_type": "stream",
     "text": [
      "i_q: 29, 2023-08-04 11:00:54\n",
      "i_q: 30, 2023-08-04 11:00:54\n",
      "i_q: 31, 2023-08-04 11:00:54\n"
     ]
    },
    {
     "name": "stderr",
     "output_type": "stream",
     "text": [
      "Sigma_CH_Static_Partial:  50%|█████     | 32/64 [00:02<00:02, 15.24it/s]"
     ]
    },
    {
     "name": "stdout",
     "output_type": "stream",
     "text": [
      "i_q: 32, 2023-08-04 11:00:54\n"
     ]
    },
    {
     "name": "stderr",
     "output_type": "stream",
     "text": [
      "Sigma_CH_Static_Partial:  53%|█████▎    | 34/64 [00:02<00:01, 15.25it/s]"
     ]
    },
    {
     "name": "stdout",
     "output_type": "stream",
     "text": [
      "i_q: 33, 2023-08-04 11:00:54\n",
      "i_q: 34, 2023-08-04 11:00:54\n",
      "i_q: 35, 2023-08-04 11:00:54\n"
     ]
    },
    {
     "name": "stderr",
     "output_type": "stream",
     "text": [
      "Sigma_CH_Static_Partial:  56%|█████▋    | 36/64 [00:02<00:01, 15.25it/s]"
     ]
    },
    {
     "name": "stdout",
     "output_type": "stream",
     "text": [
      "i_q: 36, 2023-08-04 11:00:55\n"
     ]
    },
    {
     "name": "stderr",
     "output_type": "stream",
     "text": [
      "Sigma_CH_Static_Partial:  59%|█████▉    | 38/64 [00:02<00:01, 15.26it/s]"
     ]
    },
    {
     "name": "stdout",
     "output_type": "stream",
     "text": [
      "i_q: 37, 2023-08-04 11:00:55\n",
      "i_q: 38, 2023-08-04 11:00:55\n",
      "i_q: 39, 2023-08-04 11:00:55\n"
     ]
    },
    {
     "name": "stderr",
     "output_type": "stream",
     "text": [
      "Sigma_CH_Static_Partial:  62%|██████▎   | 40/64 [00:02<00:01, 15.25it/s]"
     ]
    },
    {
     "name": "stdout",
     "output_type": "stream",
     "text": [
      "i_q: 40, 2023-08-04 11:00:55\n"
     ]
    },
    {
     "name": "stderr",
     "output_type": "stream",
     "text": [
      "Sigma_CH_Static_Partial:  66%|██████▌   | 42/64 [00:02<00:01, 15.26it/s]"
     ]
    },
    {
     "name": "stdout",
     "output_type": "stream",
     "text": [
      "i_q: 41, 2023-08-04 11:00:55\n",
      "i_q: 42, 2023-08-04 11:00:55\n",
      "i_q: 43, 2023-08-04 11:00:55\n"
     ]
    },
    {
     "name": "stderr",
     "output_type": "stream",
     "text": [
      "Sigma_CH_Static_Partial:  69%|██████▉   | 44/64 [00:02<00:01, 15.28it/s]"
     ]
    },
    {
     "name": "stdout",
     "output_type": "stream",
     "text": [
      "i_q: 44, 2023-08-04 11:00:55\n"
     ]
    },
    {
     "name": "stderr",
     "output_type": "stream",
     "text": [
      "Sigma_CH_Static_Partial:  72%|███████▏  | 46/64 [00:03<00:01, 15.26it/s]"
     ]
    },
    {
     "name": "stdout",
     "output_type": "stream",
     "text": [
      "i_q: 45, 2023-08-04 11:00:55\n",
      "i_q: 46, 2023-08-04 11:00:55\n",
      "i_q: 47, 2023-08-04 11:00:55\n"
     ]
    },
    {
     "name": "stderr",
     "output_type": "stream",
     "text": [
      "Sigma_CH_Static_Partial:  75%|███████▌  | 48/64 [00:03<00:01, 15.27it/s]"
     ]
    },
    {
     "name": "stdout",
     "output_type": "stream",
     "text": [
      "i_q: 48, 2023-08-04 11:00:55\n"
     ]
    },
    {
     "name": "stderr",
     "output_type": "stream",
     "text": [
      "Sigma_CH_Static_Partial:  78%|███████▊  | 50/64 [00:03<00:00, 15.27it/s]"
     ]
    },
    {
     "name": "stdout",
     "output_type": "stream",
     "text": [
      "i_q: 49, 2023-08-04 11:00:55\n",
      "i_q: 50, 2023-08-04 11:00:55\n",
      "i_q: 51, 2023-08-04 11:00:56\n"
     ]
    },
    {
     "name": "stderr",
     "output_type": "stream",
     "text": [
      "Sigma_CH_Static_Partial:  84%|████████▍ | 54/64 [00:03<00:00, 15.06it/s]"
     ]
    },
    {
     "name": "stdout",
     "output_type": "stream",
     "text": [
      "i_q: 52, 2023-08-04 11:00:56\n",
      "i_q: 53, 2023-08-04 11:00:56\n",
      "i_q: 54, 2023-08-04 11:00:56\n",
      "i_q: 55, 2023-08-04 11:00:56\n"
     ]
    },
    {
     "name": "stderr",
     "output_type": "stream",
     "text": [
      "Sigma_CH_Static_Partial:  91%|█████████ | 58/64 [00:03<00:00, 15.19it/s]"
     ]
    },
    {
     "name": "stdout",
     "output_type": "stream",
     "text": [
      "i_q: 56, 2023-08-04 11:00:56\n",
      "i_q: 57, 2023-08-04 11:00:56\n",
      "i_q: 58, 2023-08-04 11:00:56\n",
      "i_q: 59, 2023-08-04 11:00:56\n"
     ]
    },
    {
     "name": "stderr",
     "output_type": "stream",
     "text": [
      "Sigma_CH_Static_Partial:  97%|█████████▋| 62/64 [00:04<00:00, 15.24it/s]"
     ]
    },
    {
     "name": "stdout",
     "output_type": "stream",
     "text": [
      "i_q: 60, 2023-08-04 11:00:56\n",
      "i_q: 61, 2023-08-04 11:00:56\n",
      "i_q: 62, 2023-08-04 11:00:56\n",
      "i_q: 63, 2023-08-04 11:00:56\n"
     ]
    },
    {
     "name": "stderr",
     "output_type": "stream",
     "text": [
      "Sigma_CH_Static_Partial: 100%|██████████| 64/64 [00:04<00:00, 15.19it/s]\n"
     ]
    },
    {
     "name": "stdout",
     "output_type": "stream",
     "text": [
      "Sigma CH STATIC\n",
      "[[-6.641277+0.j       -5.113976+0.j       -5.1142  -0.j\n",
      "  -5.114077-0.j       -4.749343+0.j       -4.748586-0.j\n",
      "  -4.750098+0.j       -4.781285+0.j      ]\n",
      " [-6.317907+0.001465j -6.317977-0.001465j -5.580271-0.j\n",
      "  -5.580427+0.j       -4.710424+0.000515j -4.710832-0.000515j\n",
      "  -3.47254 -0.j       -3.473914+0.j      ]\n",
      " [-6.511362+0.j       -6.076655-0.j       -5.418842+0.j\n",
      "  -5.419831-0.j       -4.933476+0.j       -4.288478+0.j\n",
      "  -4.2881  -0.j       -2.996284-0.j      ]]\n"
     ]
    },
    {
     "name": "stderr",
     "output_type": "stream",
     "text": [
      "Sigma_CH_Static_Exact: 100%|██████████| 64/64 [00:24<00:00,  2.63it/s]"
     ]
    },
    {
     "name": "stdout",
     "output_type": "stream",
     "text": [
      "Sigma CH EXACT STATIC\n",
      "[[-7.461535+0.j       -7.788499+0.j       -7.788918-0.j\n",
      "  -7.788862-0.j       -7.361444+0.j       -7.360928-0.j\n",
      "  -7.362404+0.j       -7.851026-0.j      ]\n",
      " [-7.645228-0.001649j -7.645261+0.001649j -7.500747+0.j\n",
      "  -7.501264-0.j       -6.804707-0.000647j -6.804653+0.000647j\n",
      "  -7.712695+0.j       -7.714351+0.j      ]\n",
      " [-7.650968+0.j       -7.324929-0.j       -7.70341 +0.j\n",
      "  -7.704059-0.j       -7.377943+0.j       -7.14229 +0.j\n",
      "  -7.142081-0.j       -6.23952 -0.j      ]]\n",
      "Sig (Exact):\n",
      "[[-13.108618-0.j       -12.984135-0.004475j -13.216744-0.j      ]\n",
      " [-12.722883-0.j       -12.98447 +0.004475j -12.194886+0.j      ]\n",
      " [-12.721321-0.j       -12.189574+0.j       -12.532606-0.j      ]\n",
      " [-12.721258-0.j       -12.18947 -0.j       -12.532385+0.j      ]\n",
      " [-10.215951+0.j        -9.410387-0.001167j -10.433764+0.j      ]\n",
      " [-10.217588+0.j        -9.409837+0.001167j  -9.795639+0.j      ]\n",
      " [-10.215116+0.j       -10.172634+0.j        -9.797381+0.j      ]\n",
      " [-10.977857-0.j       -10.173308+0.j        -7.90808 -0.j      ]]\n",
      "Eqp0 (Exact):\n",
      "[[-8.4006448 +0.j       -3.70205257-0.004475j -5.74793044+0.j      ]\n",
      " [ 4.87347118+0.j       -3.70238739+0.004475j -2.75425443+0.j      ]\n",
      " [ 4.87503325+0.j        1.79427022+0.j        3.59135612+0.j      ]\n",
      " [ 4.87509641+0.j        1.79437424+0.j        3.5915773 +0.j      ]\n",
      " [ 8.70210511+0.j        6.61804839-0.001167j  7.56213753+0.j      ]\n",
      " [ 8.70046813+0.j        6.61859838+0.001167j  9.54224288+0.j      ]\n",
      " [ 8.70294016+0.j       16.82154259+0.j        9.54050049+0.j      ]\n",
      " [ 9.64375828+0.j       16.82086854+0.j       13.97002644+0.j      ]]\n",
      "Sig (Partial):\n",
      "[[-12.288361-0.000e+00j -11.656815-1.361e-03j -12.077138-0.000e+00j]\n",
      " [-10.04836 -0.000e+00j -11.657186+1.361e-03j -10.946612+0.000e+00j]\n",
      " [-10.046602-0.000e+00j -10.269098+0.000e+00j -10.248038-0.000e+00j]\n",
      " [-10.046473-0.000e+00j -10.268634-0.000e+00j -10.248157+0.000e+00j]\n",
      " [ -7.60385 +0.000e+00j  -7.316105-5.000e-06j  -7.989297+0.000e+00j]\n",
      " [ -7.605245+0.000e+00j  -7.316016+5.000e-06j  -6.941826+0.000e+00j]\n",
      " [ -7.60281 +0.000e+00j  -5.932479+0.000e+00j  -6.943399+0.000e+00j]\n",
      " [ -7.908117+0.000e+00j  -5.93287 -0.000e+00j  -4.664844-0.000e+00j]]\n",
      "Eqp0 (Partial):\n",
      "[[-7.5803878 +0.000e+00j -2.37473257-1.361e-03j -4.60832444+0.000e+00j]\n",
      " [ 7.54799418+0.000e+00j -2.37510339+1.361e-03j -1.50598043+0.000e+00j]\n",
      " [ 7.54975225+0.000e+00j  3.71474622+0.000e+00j  5.87592412+0.000e+00j]\n",
      " [ 7.54988141+0.000e+00j  3.71521024+0.000e+00j  5.8758053 +0.000e+00j]\n",
      " [11.31420611+0.000e+00j  8.71233039-5.000e-06j 10.00660453+0.000e+00j]\n",
      " [11.31281113+0.000e+00j  8.71241938+5.000e-06j 12.39605588+0.000e+00j]\n",
      " [11.31524616+0.000e+00j 21.06169759+0.000e+00j 12.39448249+0.000e+00j]\n",
      " [12.71349828+0.000e+00j 21.06130654+0.000e+00j 17.21326244+0.000e+00j]]\n",
      "   n         Emf          Eo           X        SX-X          CH         Sig         Vxc        Eqp0        Eqp1         CH`        Sig`       Eqp0`       Eqp1`         Znk\n",
      "   0-5.790269+0.000000j-5.790269+0.000000j  -17.544906   11.897822   -7.461535  -13.108618  -10.498242   -8.400645   -8.400645   -6.641277  -12.288361   -7.580388   -7.580388    1.000000\n",
      "   16.277664+0.000000j6.277664+0.000000j  -12.984799    8.050415   -7.788499  -12.722883  -11.318690    4.873471    4.873471   -5.113976  -10.048360    7.547994    7.547994    1.000000\n",
      "   26.277664+0.000000j6.277664+0.000000j  -12.984990    8.052588   -7.788918  -12.721321  -11.318690    4.875033    4.875033   -5.114200  -10.046602    7.549752    7.549752    1.000000\n",
      "   36.277664+0.000000j6.277664+0.000000j  -12.984879    8.052483   -7.788862  -12.721258  -11.318690    4.875096    4.875096   -5.114077  -10.046473    7.549881    7.549881    1.000000\n",
      "   48.829793+0.000000j8.829793+0.000000j   -5.772040    2.917532   -7.361444  -10.215951  -10.088263    8.702105    8.702105   -4.749343   -7.603850   11.314206   11.314206    1.000000\n",
      "   58.829793+0.000000j8.829793+0.000000j   -5.772092    2.915433   -7.360928  -10.217588  -10.088263    8.700468    8.700468   -4.748586   -7.605245   11.312811   11.312811    1.000000\n",
      "   68.829793+0.000000j8.829793+0.000000j   -5.772459    2.919747   -7.362404  -10.215116  -10.088263    8.702940    8.702940   -4.750098   -7.602810   11.315246   11.315246    1.000000\n",
      "   79.764447+0.000000j9.764447+0.000000j   -5.801537    2.674705   -7.851026  -10.977857  -10.857169    9.643758    9.643758   -4.781285   -7.908117   12.713498   12.713498    1.000000\n",
      "   n         Emf          Eo           X        SX-X          CH         Sig         Vxc        Eqp0        Eqp1         CH`        Sig`       Eqp0`       Eqp1`         Znk\n",
      "   0-1.571921+0.000000j-1.571921+0.000000j  -16.031120   10.692213   -7.645228  -12.984135  -10.854004   -3.702053   -3.702053   -6.317907  -11.656815   -2.374733   -2.374733    1.000000\n",
      "   1-1.571921+0.000000j-1.571921+0.000000j  -16.031115   10.691906   -7.645261  -12.984470  -10.854004   -3.702387   -3.702387   -6.317977  -11.657186   -2.375103   -2.375103    1.000000\n",
      "   23.359705+0.000000j3.359705+0.000000j  -13.425014    8.736187   -7.500747  -12.189574  -10.624139    1.794270    1.794270   -5.580271  -10.269098    3.714746    3.714746    1.000000\n",
      "   33.359705+0.000000j3.359705+0.000000j  -13.425073    8.736867   -7.501264  -12.189470  -10.624139    1.794374    1.794374   -5.580427  -10.268634    3.715210    3.715210    1.000000\n",
      "   46.881284+0.000000j6.881284+0.000000j   -5.203257    2.597576   -6.804707   -9.410387   -9.147152    6.618048    6.618048   -4.710424   -7.316105    8.712330    8.712330    1.000000\n",
      "   56.881284+0.000000j6.881284+0.000000j   -5.202819    2.597634   -6.804653   -9.409837   -9.147152    6.618598    6.618598   -4.710832   -7.316016    8.712419    8.712419    1.000000\n",
      "   616.424702+0.000000j16.424702+0.000000j   -3.793211    1.333271   -7.712695  -10.172634  -10.569474   16.821543   16.821543   -3.472540   -5.932479   21.061698   21.061698    1.000000\n",
      "   716.424703+0.000000j16.424703+0.000000j   -3.793222    1.334266   -7.714351  -10.173308  -10.569474   16.820869   16.820869   -3.473914   -5.932870   21.061307   21.061307    1.000000\n",
      "   n         Emf          Eo           X        SX-X          CH         Sig         Vxc        Eqp0        Eqp1         CH`        Sig`       Eqp0`       Eqp1`         Znk\n",
      "   0-3.393789+0.000000j-3.393789+0.000000j  -16.916213   11.350437   -7.650968  -13.216744  -10.862603   -5.747930   -5.747930   -6.511362  -12.077138   -4.608324   -4.608324    1.000000\n",
      "   1-0.800364+0.000000j-0.800364+0.000000j  -14.895720   10.025763   -7.324929  -12.194886  -10.240996   -2.754254   -2.754254   -6.076655  -10.946612   -1.505980   -1.505980    1.000000\n",
      "   25.056764+0.000000j5.056764+0.000000j  -13.214186    8.384990   -7.703410  -12.532606  -11.067198    3.591356    3.591356   -5.418842  -10.248038    5.875924    5.875924    1.000000\n",
      "   35.056765+0.000000j5.056765+0.000000j  -13.214228    8.385902   -7.704059  -12.532385  -11.067198    3.591577    3.591577   -5.419831  -10.248157    5.875805    5.875805    1.000000\n",
      "   47.830308+0.000000j7.830308+0.000000j   -5.937991    2.882170   -7.377943  -10.433764  -10.165594    7.562138    7.562138   -4.933476   -7.989297   10.006605   10.006605    1.000000\n",
      "   59.588314+0.000000j9.588314+0.000000j   -5.086562    2.433213   -7.142290   -9.795639   -9.749568    9.542243    9.542243   -4.288478   -6.941826   12.396056   12.396056    1.000000\n",
      "   69.588314+0.000000j9.588314+0.000000j   -5.086561    2.431261   -7.142081   -9.797381   -9.749567    9.540500    9.540500   -4.288100   -6.943399   12.394482   12.394482    1.000000\n",
      "   713.832238+0.000000j13.832238+0.000000j   -2.418507    0.749947   -6.239520   -7.908080   -8.045868   13.970026   13.970026   -2.996284   -4.664844   17.213262   17.213262    1.000000\n"
     ]
    },
    {
     "name": "stderr",
     "output_type": "stream",
     "text": [
      "\n"
     ]
    }
   ],
   "source": [
    "sigma.calculate_static_cohsex()"
   ]
  },
  {
   "cell_type": "code",
   "execution_count": 115,
   "metadata": {},
   "outputs": [
    {
     "name": "stderr",
     "output_type": "stream",
     "text": [
      "Sigma_X: 100%|██████████| 64/64 [00:02<00:00, 28.61it/s]\n"
     ]
    },
    {
     "name": "stdout",
     "output_type": "stream",
     "text": [
      "Sigma X GPP\n",
      "[[-17.544906+0.j -12.984799+0.j -12.98499 +0.j -12.984879+0.j\n",
      "   -5.77204 +0.j  -5.772092+0.j  -5.772459+0.j  -5.801537+0.j]\n",
      " [-16.03112 +0.j -16.031115+0.j -13.425014+0.j -13.425073+0.j\n",
      "   -5.203257+0.j  -5.202819+0.j  -3.793211+0.j  -3.793222+0.j]\n",
      " [-16.916213+0.j -14.89572 +0.j -13.214186+0.j -13.214228+0.j\n",
      "   -5.937991+0.j  -5.086562+0.j  -5.086561+0.j  -2.418507+0.j]]\n"
     ]
    },
    {
     "name": "stderr",
     "output_type": "stream",
     "text": [
      "Sigma_CH_Static_Partial: 100%|██████████| 64/64 [00:04<00:00, 15.34it/s]\n"
     ]
    },
    {
     "name": "stdout",
     "output_type": "stream",
     "text": [
      "Sigma CH STATIC COHSEX\n",
      "[[-6.641277+0.j       -5.113976+0.j       -5.1142  -0.j\n",
      "  -5.114077-0.j       -4.749343+0.j       -4.748586-0.j\n",
      "  -4.750098+0.j       -4.781285+0.j      ]\n",
      " [-6.317907+0.001465j -6.317977-0.001465j -5.580271-0.j\n",
      "  -5.580427+0.j       -4.710424+0.000515j -4.710832-0.000515j\n",
      "  -3.47254 -0.j       -3.473914+0.j      ]\n",
      " [-6.511362+0.j       -6.076655-0.j       -5.418842+0.j\n",
      "  -5.419831-0.j       -4.933476+0.j       -4.288478+0.j\n",
      "  -4.2881  -0.j       -2.996284-0.j      ]]\n"
     ]
    },
    {
     "name": "stderr",
     "output_type": "stream",
     "text": [
      "Sigma_CH_Static_Exact: 100%|██████████| 64/64 [00:22<00:00,  2.80it/s]\n"
     ]
    },
    {
     "name": "stdout",
     "output_type": "stream",
     "text": [
      "Sigma CH STATIC EXACT\n",
      "[[-7.461535+0.j       -7.788499+0.j       -7.788918-0.j\n",
      "  -7.788862-0.j       -7.361444+0.j       -7.360928-0.j\n",
      "  -7.362404+0.j       -7.851026-0.j      ]\n",
      " [-7.645228-0.001649j -7.645261+0.001649j -7.500747+0.j\n",
      "  -7.501264-0.j       -6.804707-0.000647j -6.804653+0.000647j\n",
      "  -7.712695+0.j       -7.714351+0.j      ]\n",
      " [-7.650968+0.j       -7.324929-0.j       -7.70341 +0.j\n",
      "  -7.704059-0.j       -7.377943+0.j       -7.14229 +0.j\n",
      "  -7.142081-0.j       -6.23952 -0.j      ]]\n"
     ]
    },
    {
     "name": "stderr",
     "output_type": "stream",
     "text": [
      "Sigma_SX_GPP: 100%|██████████| 64/64 [00:56<00:00,  1.13it/s]\n"
     ]
    },
    {
     "name": "stdout",
     "output_type": "stream",
     "text": [
      "Sigma SX GPP\n",
      "[[12.264463-0.000e+00j  8.203939-0.000e+00j  8.207702+0.000e+00j\n",
      "   8.196115-0.000e+00j  3.356442+0.000e+00j  3.353732+0.000e+00j\n",
      "   3.35863 -0.000e+00j  3.373766-0.000e+00j]\n",
      " [10.86282 -2.257e-03j 10.86242 +2.257e-03j  8.852984+1.000e-06j\n",
      "   8.854197-1.000e-06j  2.869535-1.025e-03j  2.869395+1.025e-03j\n",
      "   1.77997 -0.000e+00j  1.787217+0.000e+00j]\n",
      " [11.567866-0.000e+00j 10.184037+0.000e+00j  8.518146-0.000e+00j\n",
      "   8.520741-0.000e+00j  3.293694-0.000e+00j  2.792918+0.000e+00j\n",
      "   2.786417+0.000e+00j  1.095793-0.000e+00j]]\n"
     ]
    },
    {
     "name": "stderr",
     "output_type": "stream",
     "text": [
      "Sigma_CH_GPP: 100%|██████████| 64/64 [01:03<00:00,  1.00it/s]\n"
     ]
    },
    {
     "name": "stdout",
     "output_type": "stream",
     "text": [
      "Sigma CH GPP\n",
      "<class 'numpy.ndarray'>\n",
      "[[-5.809203+0.000e+00j -5.426201+0.000e+00j -5.427718-0.000e+00j\n",
      "  -5.416109-0.000e+00j -5.398088-0.000e+00j -5.397232-0.000e+00j\n",
      "  -5.400241+0.000e+00j -5.754373+0.000e+00j]\n",
      " [-5.862668+1.486e-03j -5.862915-1.486e-03j -5.567567-1.000e-06j\n",
      "  -5.568202+1.000e-06j -4.984852+9.330e-04j -4.984614-9.330e-04j\n",
      "  -4.661941+0.000e+00j -4.67023 -0.000e+00j]\n",
      " [-5.896258+0.000e+00j -5.647912-0.000e+00j -5.584283+0.000e+00j\n",
      "  -5.58636 -0.000e+00j -5.448451+0.000e+00j -4.889763-0.000e+00j\n",
      "  -4.885163-0.000e+00j -3.779749+0.000e+00j]]\n",
      "Sig GPP:\n",
      "[[-11.089642-0.00e+00j -11.031114-7.69e-04j -11.244657-0.00e+00j]\n",
      " [-10.207861-0.00e+00j -11.031756+7.69e-04j -10.359839+0.00e+00j]\n",
      " [-10.205808-0.00e+00j -10.140086+0.00e+00j -10.280927-0.00e+00j]\n",
      " [-10.205675-0.00e+00j -10.139568-0.00e+00j -10.280453-0.00e+00j]\n",
      " [ -7.81452 +0.00e+00j  -7.319359-9.10e-05j  -8.093495+0.00e+00j]\n",
      " [ -7.816428+0.00e+00j  -7.318821+9.10e-05j  -7.184402+0.00e+00j]\n",
      " [ -7.814906+0.00e+00j  -6.676562+0.00e+00j  -7.186302+0.00e+00j]\n",
      " [ -8.182946+0.00e+00j  -6.677617-0.00e+00j  -5.103702-0.00e+00j]]\n",
      "Eqp0\n",
      "[[-6.3816688 +0.00e+00j -1.74903157-7.69e-04j -3.77584344+0.00e+00j]\n",
      " [ 7.38849318+0.00e+00j -1.74967339+7.69e-04j -0.91920743+0.00e+00j]\n",
      " [ 7.39054625+0.00e+00j  3.84375822+0.00e+00j  5.84303512+0.00e+00j]\n",
      " [ 7.39067941+0.00e+00j  3.84427624+0.00e+00j  5.8435093 +0.00e+00j]\n",
      " [11.10353611+0.00e+00j  8.70907639-9.10e-05j  9.90240653+0.00e+00j]\n",
      " [11.10162813+0.00e+00j  8.70961438+9.10e-05j 12.15347988+0.00e+00j]\n",
      " [11.10315016+0.00e+00j 20.31761459+0.00e+00j 12.15157949+0.00e+00j]\n",
      " [12.43866928+0.00e+00j 20.31655954+0.00e+00j 16.77440444+0.00e+00j]]\n"
     ]
    },
    {
     "name": "stderr",
     "output_type": "stream",
     "text": [
      "Sigma_CH_GPP: 100%|██████████| 64/64 [01:03<00:00,  1.00it/s]\n",
      "Sigma_SX_GPP: 100%|██████████| 64/64 [01:02<00:00,  1.03it/s]"
     ]
    },
    {
     "name": "stdout",
     "output_type": "stream",
     "text": [
      "Sigma CH GPP dE\n",
      "[[-6.069133+0.000e+00j -5.674153+0.000e+00j -5.675515-0.000e+00j\n",
      "  -5.67074 -0.000e+00j -5.638703-0.000e+00j -5.637616-0.000e+00j\n",
      "  -5.641277+0.000e+00j -5.906215+0.000e+00j]\n",
      " [-6.140514+1.592e-03j -6.140759-1.592e-03j -5.852472-1.000e-06j\n",
      "  -5.853379+1.000e-06j -5.283794+1.031e-03j -5.283891-1.031e-03j\n",
      "  -4.911355+0.000e+00j -4.918082-0.000e+00j]\n",
      " [-6.167574+0.000e+00j -5.920682-0.000e+00j -5.876948+0.000e+00j\n",
      "  -5.879183-0.000e+00j -5.771614+0.000e+00j -5.105332-0.000e+00j\n",
      "  -5.105442-0.000e+00j -4.068753-0.000e+00j]]\n",
      "Sigma SX GPP dE\n",
      "[[12.125756-0.000e+00j  8.26073 -0.000e+00j  8.264336+0.000e+00j\n",
      "   8.259618-0.000e+00j  3.393069+0.000e+00j  3.390101+0.000e+00j\n",
      "   3.39565 -0.000e+00j  3.326756-0.000e+00j]\n",
      " [10.845385-2.309e-03j 10.845035+2.309e-03j  8.913773+1.000e-06j\n",
      "   8.915292-1.000e-06j  2.971232-1.098e-03j  2.971444+1.098e-03j\n",
      "   1.797535-0.000e+00j  1.802831+0.000e+00j]\n",
      " [11.517813-0.000e+00j 10.175576+0.000e+00j  8.604115-0.000e+00j\n",
      "   8.606857+0.000e+00j  3.415843+0.000e+00j  2.81711 +0.000e+00j\n",
      "   2.815283+0.000e+00j  1.189892+0.000e+00j]]\n",
      "Z:\n",
      "[[0.7149821 -6.41051953e-09j 0.77203292+3.27684101e-05j\n",
      "  0.75679113+9.06078416e-12j]\n",
      " [0.83951687+4.77927833e-11j 0.77206403-3.27710543e-05j\n",
      "  0.78049886+1.58026657e-12j]\n",
      " [0.83951556+2.27398492e-13j 0.81691552-3.92360427e-08j\n",
      "  0.82870835+2.92032631e-11j]\n",
      " [0.83954042+1.46539989e-13j 0.81693873+3.92624942e-08j\n",
      "  0.82870162+4.90869683e-12j]\n",
      " [0.83057225+2.82714612e-12j 0.83525063+1.82646164e-05j\n",
      "  0.83262993+1.88864176e-12j]\n",
      " [0.83055467-5.93029280e-12j 0.83526224-1.82651244e-05j\n",
      "  0.83936542-2.13548280e-12j]\n",
      " [0.83055389+1.34929054e-11j 0.81178776-2.71949282e-08j\n",
      "  0.83934041-3.66057761e-12j]\n",
      " [0.83413173+2.02435455e-11j 0.81153125+2.71997709e-08j\n",
      "  0.83688649-4.14519625e-11j]]\n",
      "Sig_2:\n",
      "[[-11.488282-0.00e+00j -11.32625 -7.17e-04j -11.565973-0.00e+00j]\n",
      " [-10.398221-0.00e+00j -11.32684 +7.17e-04j -10.640827+0.00e+00j]\n",
      " [-10.39617 -0.00e+00j -10.363713+0.00e+00j -10.487019-0.00e+00j]\n",
      " [-10.396001-0.00e+00j -10.36316 -0.00e+00j -10.486554-0.00e+00j]\n",
      " [ -8.017675+0.00e+00j  -7.51582 -6.60e-05j  -8.293762+0.00e+00j]\n",
      " [ -8.019607+0.00e+00j  -7.515266+6.60e-05j  -7.374784+0.00e+00j]\n",
      " [ -8.018086+0.00e+00j  -6.90703 -0.00e+00j  -7.376719+0.00e+00j]\n",
      " [ -8.380995+0.00e+00j  -6.908474+0.00e+00j  -5.297368-0.00e+00j]]\n",
      "Eqp1\n",
      "[[-6.21310918 -1.70865625 -3.68292446]\n",
      " [ 7.21022381 -1.70915719 -0.89312122]\n",
      " [ 7.21194594  3.75513564  5.70835351]\n",
      " [ 7.21208544  3.75557006  5.70874121]\n",
      " [10.71830089  8.4079487   9.55559924]\n",
      " [10.71667626  8.40841928 11.74142553]\n",
      " [10.71793864 19.58492089 11.73976634]\n",
      " [11.99510059 19.58306614 16.29449737]]\n",
      "   n         Emf          Eo           X        SX-X          CH         Sig         Vxc        Eqp0        Eqp1         CH`        Sig`       Eqp0`       Eqp1`         Znk\n",
      "   0-5.790269+0.000000j-5.790269+0.000000j  -17.544906   12.264463   -5.809199  -11.089642  -10.498242   -6.377629   -6.210221   -5.809203  -11.089645   -6.381669   -6.213109    0.714982\n",
      "   16.277664+0.000000j6.277664+0.000000j  -12.984799    8.203939   -5.427001  -10.207861  -11.318690    6.389180    6.371284   -5.426201  -10.207060    7.388493    7.210224    0.839517\n",
      "   26.277664+0.000000j6.277664+0.000000j  -12.984990    8.207702   -5.428520  -10.205808  -11.318690    6.390126    6.372078   -5.427718  -10.205007    7.390546    7.211946    0.839516\n",
      "   36.277664+0.000000j6.277664+0.000000j  -12.984879    8.196115   -5.416911  -10.205675  -11.318690    6.390362    6.372279   -5.416109  -10.204873    7.390679    7.212085    0.839540\n",
      "   48.829793+0.000000j8.829793+0.000000j   -5.772040    3.356442   -5.398922   -7.814520  -10.088263   10.061577    9.852879   -5.398088   -7.813685   11.103536   10.718301    0.830572\n",
      "   58.829793+0.000000j8.829793+0.000000j   -5.772092    3.353732   -5.398067   -7.816428  -10.088263   10.059650    9.851256   -5.397232   -7.815593   11.101628   10.716676    0.830555\n",
      "   68.829793+0.000000j8.829793+0.000000j   -5.772459    3.358630   -5.401077   -7.814906  -10.088263   10.061043    9.852412   -5.400241   -7.814070   11.103150   10.717939    0.830554\n",
      "   79.764447+0.000000j9.764447+0.000000j   -5.801537    3.373766   -5.755175   -8.182946  -10.857169   11.437882   11.160312   -5.754373   -8.182144   12.438669   11.995101    0.834132\n",
      "   n         Emf          Eo           X        SX-X          CH         Sig         Vxc        Eqp0        Eqp1         CH`        Sig`       Eqp0`       Eqp1`         Znk\n",
      "   0-1.571921+0.000000j-1.571921+0.000000j  -16.031120   10.862820   -5.862814  -11.031114  -10.854004   -1.931015   -1.849154   -5.862668  -11.030968   -1.749032   -1.708656    0.772033\n",
      "   1-1.571921+0.000000j-1.571921+0.000000j  -16.031115   10.862420   -5.863061  -11.031756  -10.854004   -1.931434   -1.849488   -5.862915  -11.031611   -1.749673   -1.709157    0.772064\n",
      "   23.359705+0.000000j3.359705+0.000000j  -13.425014    8.852984   -5.568057  -10.140086  -10.624139    3.232610    3.255879   -5.567567  -10.139597    3.843758    3.755136    0.816916\n",
      "   33.359705+0.000000j3.359705+0.000000j  -13.425073    8.854197   -5.568692  -10.139568  -10.624139    3.232826    3.256053   -5.568202  -10.139078    3.844276    3.755570    0.816939\n",
      "   46.881284+0.000000j6.881284+0.000000j   -5.203257    2.869535   -4.985636   -7.319359   -9.147152    7.729717    7.589938   -4.984852   -7.318574    8.709076    8.407949    0.835251\n",
      "   56.881284+0.000000j6.881284+0.000000j   -5.202819    2.869395   -4.985398   -7.318821   -9.147152    7.730768    7.590825   -4.984614   -7.318037    8.709614    8.408419    0.835262\n",
      "   616.424702+0.000000j16.424702+0.000000j   -3.793211    1.779970   -4.663321   -6.676562  -10.569474   18.594307   18.185961   -4.661941   -6.675181   20.317615   19.584921    0.811788\n",
      "   716.424703+0.000000j16.424703+0.000000j   -3.793222    1.787217   -4.671612   -6.677617  -10.569474   18.592718   18.184115   -4.670230   -6.676236   20.316560   19.583066    0.811531\n",
      "   n         Emf          Eo           X        SX-X          CH         Sig         Vxc        Eqp0        Eqp1         CH`        Sig`       Eqp0`       Eqp1`         Znk\n",
      "   0-3.393789+0.000000j-3.393789+0.000000j  -16.916213   11.567866   -5.896310  -11.244657  -10.862603   -3.840865   -3.732132   -5.896258  -11.244605   -3.775843   -3.682924    0.756791\n",
      "   1-0.800364+0.000000j-0.800364+0.000000j  -14.895720   10.184037   -5.648156  -10.359839  -10.240996   -1.224518   -1.131416   -5.647912  -10.359595   -0.919207   -0.893121    0.780499\n",
      "   25.056764+0.000000j5.056764+0.000000j  -13.214186    8.518146   -5.584888  -10.280927  -11.067198    5.087677    5.082382   -5.584283  -10.280322    5.843035    5.708354    0.828708\n",
      "   35.056765+0.000000j5.056765+0.000000j  -13.214228    8.520741   -5.586966  -10.280453  -11.067198    5.087533    5.082262   -5.586360  -10.279847    5.843509    5.708741    0.828702\n",
      "   47.830308+0.000000j7.830308+0.000000j   -5.937991    3.293694   -5.449198   -8.093495  -10.165594    8.970788    8.779906   -5.448451   -8.092748    9.902407    9.555599    0.832630\n",
      "   59.588314+0.000000j9.588314+0.000000j   -5.086562    2.792918   -4.890758   -7.184402   -9.749568   10.912840   10.700075   -4.889763   -7.183408   12.153480   11.741426    0.839365\n",
      "   69.588314+0.000000j9.588314+0.000000j   -5.086561    2.786417   -4.886158   -7.186302   -9.749567   10.910645   10.698200   -4.885163   -7.185308   12.151579   11.739766    0.839340\n",
      "   713.832238+0.000000j13.832238+0.000000j   -2.418507    1.095793   -3.780989   -5.103702   -8.045868   15.227851   15.000208   -3.779749   -5.102463   16.774404   16.294497    0.836886\n"
     ]
    },
    {
     "name": "stderr",
     "output_type": "stream",
     "text": [
      "\n"
     ]
    }
   ],
   "source": [
    "sigma.calculate_gpp()"
   ]
  },
  {
   "cell_type": "markdown",
   "metadata": {},
   "source": []
  }
 ],
 "metadata": {
  "kernelspec": {
   "display_name": "qtmgw",
   "language": "python",
   "name": "python3"
  },
  "language_info": {
   "codemirror_mode": {
    "name": "ipython",
    "version": 3
   },
   "file_extension": ".py",
   "mimetype": "text/x-python",
   "name": "python",
   "nbconvert_exporter": "python",
   "pygments_lexer": "ipython3",
   "version": "3.11.4"
  },
  "orig_nbformat": 4,
  "vscode": {
   "interpreter": {
    "hash": "e999361976a928b84e12c419d14d94f70e0843150ccb2ec1be172a20bbe93fd8"
   }
  }
 },
 "nbformat": 4,
 "nbformat_minor": 2
}
