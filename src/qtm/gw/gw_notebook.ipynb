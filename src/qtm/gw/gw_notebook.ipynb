{
 "cells": [
  {
   "attachments": {},
   "cell_type": "markdown",
   "metadata": {},
   "source": [
    "# GW Approximation Tutorial Notebook\n",
    "\n",
    "In this notebook, we present an example calculation of quasiparticle energies using QuatumMASALA's `gw` module."
   ]
  },
  {
   "cell_type": "code",
   "execution_count": 15,
   "metadata": {},
   "outputs": [
    {
     "name": "stdout",
     "output_type": "stream",
     "text": [
      "The autoreload extension is already loaded. To reload it, use:\n",
      "  %reload_ext autoreload\n"
     ]
    }
   ],
   "source": [
    "%load_ext autoreload\n",
    "%autoreload 2"
   ]
  },
  {
   "cell_type": "code",
   "execution_count": 16,
   "metadata": {},
   "outputs": [],
   "source": [
    "# Imports\n",
    "from __future__ import annotations\n",
    "import numpy as np\n",
    "import sys\n",
    "\n",
    "\n",
    "sys.path.append(\".\")\n",
    "\n",
    "dirname = \"../../../tests/bgw/silicon/cohsex/\""
   ]
  },
  {
   "attachments": {},
   "cell_type": "markdown",
   "metadata": {},
   "source": [
    "### Load Input Files\n",
    "Input data is handled by the ``EpsInp`` class.\\\n",
    "The data can be provided either by constructing the ``EpsInp`` object or by reading BGW-compatible input file ``epsilon.inp``.\\\n",
    "The attributes have been supplied with docstrings from BerkeleyGW's input specification, so they will be accessible directly in most IDEs."
   ]
  },
  {
   "cell_type": "code",
   "execution_count": 17,
   "metadata": {},
   "outputs": [],
   "source": [
    "from qtm.gw.io_bgw.epsinp import Epsinp\n",
    "\n",
    "# Constructing input manually\n",
    "epsinp = Epsinp(epsilon_cutoff=10.0,\n",
    "                use_wfn_hdf5=True,\n",
    "                number_bands=8,\n",
    "                write_vcoul=True,\n",
    "                qpts=[[0.0,0.0,0.0]],\n",
    "                is_q0=[True])\n",
    "\n",
    "# Reading from epsilon.inp file\n",
    "epsinp = Epsinp.from_epsilon_inp(filename=dirname+'epsilon.inp')\n",
    "# print(epsinp)\n",
    "\n",
    "# There is an analogous system to read SigmaInp\n",
    "from qtm.gw.io_bgw.sigmainp import Sigmainp\n",
    "sigmainp = Sigmainp.from_sigma_inp(filename=dirname+'sigma.inp')\n",
    "# print(sigmainp)"
   ]
  },
  {
   "attachments": {},
   "cell_type": "markdown",
   "metadata": {},
   "source": [
    "### Load WfnData\n",
    "Calculation of dielectric matrix requires mean field eigenfunctions. \\\n",
    "Wavefunction data generated from mean-field codes can be read using the ``wfn2py`` utility, which assumes that the incoming data satisfies BerkeleyGW's [`wfn_h5`](http://manual.berkeleygw.org/3.0/wfn_h5_spec/) specification. The data is stored as a `NamedTuple` object.\n",
    "\n",
    "For reasons discussed later, we also require wavefunctions on a shifted grid to calculate dielectric matrix at $q\\to 0$. This shifted grid dataset will be referred to as `wfnqdata`.\n",
    "\n",
    "Similarly, the utilities `read_rho` and `read_vxc` can be used to read density and exchange-correlation respectively."
   ]
  },
  {
   "cell_type": "code",
   "execution_count": 18,
   "metadata": {},
   "outputs": [
    {
     "name": "stdout",
     "output_type": "stream",
     "text": [
      "WfnData(crystal, grho, kpts, l_gk, l_wfn, symmetry)\n"
     ]
    }
   ],
   "source": [
    "# wfn2py\n",
    "from qtm.gw.io_bgw import inp\n",
    "from qtm.gw.io_bgw.wfn2py import wfn2py\n",
    "\n",
    "wfndata = wfn2py(dirname+'WFN.h5')#, wfn_ecutrho_minus_ecutwfn=epsinp.epsilon_cutoff)\n",
    "print(wfndata.__doc__)\n",
    "\n",
    "wfnqdata = wfn2py(dirname+'WFNq.h5')#, wfn_ecutrho_minus_ecutwfn=epsinp.epsilon_cutoff)\n",
    "# print(wfnqdata.__doc__)\n",
    "\n",
    "# RHO data\n",
    "rho = inp.read_rho(dirname+\"RHO\")\n",
    "\n",
    "# Vxc data\n",
    "vxc = inp.read_vxc(dirname+\"vxc.dat\")"
   ]
  },
  {
   "attachments": {},
   "cell_type": "markdown",
   "metadata": {},
   "source": [
    "### Initialize Epsilon Class\n",
    "\n",
    "``Epsilon`` class can be initialized by either directly passing the required `quantummasala.core` objects or by passing the input objects discussed earlier."
   ]
  },
  {
   "cell_type": "code",
   "execution_count": 19,
   "metadata": {},
   "outputs": [
    {
     "name": "stderr",
     "output_type": "stream",
     "text": [
      "Vcoul calculation for qpts: 100%|██████████| 64/64 [00:00<00:00, 12205.50it/s]\n",
      "Vcoul calculation for qpts: 100%|██████████| 64/64 [00:00<00:00, 12373.72it/s]\n"
     ]
    }
   ],
   "source": [
    "from qtm.gw.core import QPoints\n",
    "from qtm.gw.epsilon import Epsilon\n",
    "\n",
    "epsilon = Epsilon(\n",
    "    crystal = wfndata.crystal,\n",
    "    gspace = wfndata.grho,\n",
    "    kpts = wfndata.kpts,\n",
    "    kptsq = wfnqdata.kpts,\n",
    "    l_wfn = wfndata.l_wfn,\n",
    "    l_wfnq = wfnqdata.l_wfn,\n",
    "    l_gsp_wfn = wfndata.l_gk,\n",
    "    l_gsp_wfnq = wfnqdata.l_gk,\n",
    "    qpts = QPoints.from_cryst(wfndata.kpts.recilat, epsinp.is_q0, *epsinp.qpts),\n",
    "    epsinp = epsinp,\n",
    ")\n",
    "\n",
    "epsilon = Epsilon.from_data(wfndata=wfndata, wfnqdata=wfnqdata, epsinp=epsinp)"
   ]
  },
  {
   "attachments": {},
   "cell_type": "markdown",
   "metadata": {},
   "source": [
    "The three main steps involved in the calculation have been mapped to the corresponding functions:\n",
    "1.  ``matrix_elements``: Calculation of Planewave Matrix elements\n",
    "    $$M_{nn'}({\\textbf k},{\\textbf q},{\\textbf G}) = \\bra{n\\,{\\textbf k}{+}{\\textbf q}}e^{i({\\textbf q}+{\\textbf G})\\cdot{\\textbf r}}\\ket{n'\\,\\textbf k}$$\n",
    "    where the $\\textbf G$-vectors included in the calculation satisfy $|\\textbf q + \\textbf G|^2 < E_{\\text{cut}}$.\n",
    "    Since this is a convolution in k-space, the time complexity can be reduced from $\\mathcal{O}\\left(N^2_G\\right)$ to $\\mathcal{O}\\left(N_G\\ln N_G\\right)$ by using Fast Fourier Transform, where $N_G$  the number of reciprocal lattice vectors in the wavefunction.\n",
    "    $$\n",
    "    M_{nn'}({\\bf k},{\\bf q},\\{{\\bf G}\\}) = {\\rm FFT}^{-1}\\left( \\phi^{*}_{n,{\\bf k}+{\\bf q} }({\\bf r}) \\phi_{n',{\\bf k} }({\\bf r}) \\right).\n",
    "    $$\n",
    "    where $\\phi_{n',{\\bf k}}({\\bf r}) = {\\rm FFT}\\left( \\psi_{n\\bf k}(\\bf G)\\right)$. \n",
    "    \n",
    "2.  ``polarizability``: Calculation of RPA polarizability matrix $P$\n",
    "    $$\n",
    "        P_{\\textbf{GG'}}{\\left({\\textbf q}\\;\\!;0\\right)}=\n",
    "        \\,\\,{}\\sum_{n}^{\\textrm occ}\\sum_{n'}^{\\textrm emp}\\sum_{{\\textbf k}}\n",
    "        \\frac{\n",
    "        \\bra{n'\\textbf k}e^{-i({\\textbf q}+{\\textbf G})\\cdot{\\textbf r}}\\ket{n{\\textbf k}{+}{\\textbf q}}\n",
    "        \\bra{n{\\textbf k}{+}{\\textbf q}}e^{i({\\textbf q}+{\\textbf G'})\\cdot{\\textbf r}}\\ket{n'\\textbf k}\n",
    "        }{E_{n{\\textbf k}{+}{\\textbf q}}\\,{-}\\,E_{n'{\\textbf k}}}.\n",
    "    $$\n",
    "3.  ``epsilon_inverse``: Calculation of (static) epsilon-inverse matrix\n",
    "    $$\n",
    "        \\epsilon_{\\textbf{GG'}}{\\left({\\textbf q}\\;\\!\\right)}=\n",
    "        \\delta_{\\textbf{GG'}}\\,{-}\\,v{\\left({\\textbf q}{+}{\\textbf G}\\right)} \\,\n",
    "        P_{\\textbf{GG'}}{\\left({\\textbf q}\\;\\!\\right)}\n",
    "    $$\n",
    "    where $ v(\\textbf{q} + \\textbf{G}) = \\frac{8\\pi}{\\left|\\textbf q + \\textbf G\\right|^2} $ is bare Coulomb potential, written in Rydberg units. If this formula is used as-is for the case where $|\\textbf q| = |\\textbf G| = 0$, the resulting $v\\left({\\textbf{q=0}, \\textbf{G=0}}\\;\\!\\right)$ blows up as $1/q^2$. However, for 3D gapped systems, the matrix elements $\\big| M_{nn'}\\left({\\bf k},{\\textbf{q}\\to\\textbf{0}},{\\textbf{G=0}}\\right)\\big| \\sim q$ cancel the Coulomb divergence and $\\epsilon_{\\textbf{00}}\\left({\\textbf q\\to\\textbf{0}}\\;\\!\\right) \\sim q^2/q^2$ which is a finite number. In order to calculate $\\epsilon_{\\textbf{00}}\\left({\\textbf q=\\textbf{0}}\\;\\!\\right)$, we use the scheme specified in \\cite{BGW2012}, wherein $q=0$ is replaced with a small but non-zero value. Since matrix element calculation involves the eigenvectors $\\ket{n{\\textbf k}{+}{\\textbf q}}$, having a non-$\\Gamma$-centered $\\textbf q\\to 0$ point requires mean-field eigenvectors over a shifted $k$-grid."
   ]
  },
  {
   "cell_type": "code",
   "execution_count": 20,
   "metadata": {},
   "outputs": [
    {
     "name": "stderr",
     "output_type": "stream",
     "text": [
      "Vcoul calculation for qpts: 100%|██████████| 64/64 [00:00<00:00, 12433.32it/s]\n",
      "Epsilon> q-pt index: 100%|██████████| 64/64 [00:27<00:00,  2.32it/s]\n"
     ]
    }
   ],
   "source": [
    "from tqdm import trange\n",
    "from qtm.gw.core import reorder_2d_matrix_sorted_gvecs, sort_cryst_like_BGW\n",
    "\n",
    "\n",
    "def calculate_epsilon(numq=None, writing=False):\n",
    "    epsmats = []\n",
    "    if numq is None:\n",
    "        numq = epsilon.qpts.numq\n",
    "\n",
    "    for i_q in trange(0, numq, desc=\"Epsilon> q-pt index\"):\n",
    "        # Create map between BGW's sorting order and QTm's sorting order\n",
    "        gkspc = epsilon.l_gq[i_q]\n",
    "        if i_q == epsilon.qpts.index_q0:\n",
    "            key = gkspc.g_norm2\n",
    "            indices_gspace_sorted = sort_cryst_like_BGW(\n",
    "                cryst=gkspc.g_cryst, key_array=key\n",
    "            )\n",
    "        else:\n",
    "            key = gkspc.gk_norm2\n",
    "            indices_gspace_sorted = sort_cryst_like_BGW(\n",
    "                cryst=gkspc.g_cryst, key_array=key\n",
    "            )\n",
    "\n",
    "        # Calculate polarizability matrix (Memory-inefficient, but faster)\n",
    "        chimat = epsilon.polarizability(next(epsilon.matrix_elements(i_q=i_q)))\n",
    "\n",
    "        # Calculate polarizability matrix (memory-efficient)\n",
    "        # chimat = epsilon.polarizability_active(i_q)\n",
    "\n",
    "        # Calculate epsilon inverse matrix\n",
    "        epsinv = epsilon.epsilon_inverse(i_q=i_q, polarizability_matrix=chimat, store=True)\n",
    "\n",
    "        # indices = epsilon.l_gq[i_q].gk_indices_tosorted\n",
    "        epsinv = reorder_2d_matrix_sorted_gvecs(epsinv, indices_gspace_sorted)\n",
    "        epsilon.l_epsinv[i_q] = epsinv\n",
    "        \n",
    "        # Compare the results with BGW's results\n",
    "        if i_q == epsilon.qpts.index_q0:\n",
    "            epsref = epsilon.read_epsmat(dirname + \"eps0mat.h5\")[0][0, 0]\n",
    "            # indices = epsilon.l_gq[i_q].gk_indices_tosorted\n",
    "            if writing:\n",
    "                epsilon.write_epsmat(\n",
    "                    filename=\"test/epsilon/eps0mat_qtm.h5\", epsinvmats=[epsinv]\n",
    "                )\n",
    "        else:\n",
    "            epsref = np.array(epsilon.read_epsmat(dirname + \"epsmat.h5\")[i_q - 1][0, 0])\n",
    "            epsmats.append(epsinv)\n",
    "\n",
    "        # Calculate stddev between reference and calculated epsinv matrices\n",
    "        # print(\"epsinv.shape\", epsinv.shape,\"epsref.shape\", epsref.shape)\n",
    "        mindim = min(*epsref.shape)#, *epsinv.shape)\n",
    "        epsref = epsref[:mindim, :mindim]\n",
    "        std_eps = np.std(epsref - epsinv) / np.sqrt(np.prod(list(epsinv.shape)))\n",
    "\n",
    "        epstol = 1e-15\n",
    "        if np.abs(std_eps) > epstol:\n",
    "            print(f\"Standard deviation exceeded {epstol} tolerance\", std_eps)\n",
    "            print(\"i_q\", i_q)\n",
    "            # print(epsinv[0])\n",
    "            # print(epsref[0])\n",
    "\n",
    "    if writing:\n",
    "        epsilon.write_epsmat(filename=\"test/epsilon/epsmat_qtm.h5\", epsinvmats=epsmats)\n",
    "\n",
    "\n",
    "epsinp.no_min_fftgrid = True\n",
    "epsilon = Epsilon.from_data(wfndata=wfndata, wfnqdata=wfnqdata, epsinp=epsinp)\n",
    "calculate_epsilon()#numq=1)\n",
    "\n",
    "# epsinp.no_min_fftgrid = False\n",
    "# epsilon = Epsilon.from_data(wfndata=wfndata, wfnqdata=wfnqdata, epsinp=epsinp)\n",
    "# calculate_epsilon()#numq=1)\n"
   ]
  },
  {
   "cell_type": "markdown",
   "metadata": {},
   "source": [
    "### Sigma Calculation"
   ]
  },
  {
   "cell_type": "code",
   "execution_count": 21,
   "metadata": {},
   "outputs": [
    {
     "name": "stderr",
     "output_type": "stream",
     "text": [
      "Vcoul calculation for qpts: 100%|██████████| 64/64 [00:00<00:00, 15729.25it/s]\n"
     ]
    },
    {
     "name": "stdout",
     "output_type": "stream",
     "text": [
      "vcoul: Vcoul:\n",
      "        * gspace = <qtm.gspace.gspc.GSpace object at 0x7f5e36313710>\n",
      "        * qpts = <qtm.gw.core.QPoints object at 0x7f5e34b59690>\n",
      "        * bare_coulomb_cutoff = 10.0\n",
      "        * avgcut = 1e-05\n",
      "        * l_gspace_q = <class 'list'> of length 64\n",
      "        * vcoul = <class 'list'> of length 64\n",
      "        * N_SAMPLES = 2500000.0\n",
      "        * N_SAMPLES_COARSE = 250000.0\n",
      "        * SEED = 5000\n",
      "        \n"
     ]
    },
    {
     "name": "stderr",
     "output_type": "stream",
     "text": [
      "Vcoul calculation for qpts: 100%|██████████| 64/64 [00:55<00:00,  1.16it/s]\n"
     ]
    }
   ],
   "source": [
    "from qtm.gw.sigma import Sigma\n",
    "\n",
    "\n",
    "# dirname = \"./scripts/results/si_6_nband272_pristine_cohsex/si_6_gw/\"\n",
    "# outdir = \"./test/tempdir_20230618_173806/\"\n",
    "outdir = dirname+\"test/\"\n",
    "\n",
    "sigma = Sigma.from_data(\n",
    "    wfndata=wfndata,\n",
    "    wfnqdata=wfnqdata,\n",
    "    sigmainp=sigmainp,\n",
    "    epsinp=epsinp,\n",
    "    l_epsmats=epsilon.l_epsinv,\n",
    "    rho=rho,\n",
    "    vxc=vxc,\n",
    "    outdir=dirname+\"temp/\",\n",
    ")"
   ]
  },
  {
   "cell_type": "code",
   "execution_count": 22,
   "metadata": {},
   "outputs": [
    {
     "name": "stdout",
     "output_type": "stream",
     "text": [
      "(4477, 3)\n"
     ]
    }
   ],
   "source": [
    "print(sigma.rho.gvecs.shape)"
   ]
  },
  {
   "cell_type": "code",
   "execution_count": 23,
   "metadata": {},
   "outputs": [
    {
     "name": "stderr",
     "output_type": "stream",
     "text": [
      "Sigma_X:   0%|          | 0/64 [00:00<?, ?it/s]"
     ]
    },
    {
     "name": "stderr",
     "output_type": "stream",
     "text": [
      "Sigma_X: 100%|██████████| 64/64 [00:02<00:00, 24.69it/s]"
     ]
    },
    {
     "name": "stdout",
     "output_type": "stream",
     "text": [
      "Sigma X GPP\n",
      "  -17.544906  -16.031120  -16.916213\n",
      "  -12.984799  -16.031115  -14.895720\n",
      "  -12.984990  -13.425014  -13.214186\n",
      "  -12.984879  -13.425073  -13.214228\n",
      "   -5.772040   -5.203257   -5.937991\n",
      "   -5.772092   -5.202819   -5.086562\n",
      "   -5.772459   -3.793211   -5.086561\n",
      "   -5.801537   -3.793222   -2.418507\n"
     ]
    },
    {
     "name": "stderr",
     "output_type": "stream",
     "text": [
      "\n"
     ]
    }
   ],
   "source": [
    "sigma.print_condition=False\n",
    "sigma_x_mat = sigma.sigma_x()    \n",
    "print(\"Sigma X GPP\")\n",
    "sigma.pprint_sigma_mat(np.real(sigma_x_mat.T))\n"
   ]
  },
  {
   "cell_type": "code",
   "execution_count": 24,
   "metadata": {},
   "outputs": [
    {
     "name": "stderr",
     "output_type": "stream",
     "text": [
      "Sigma_SX_Static:   0%|          | 0/64 [00:00<?, ?it/s]"
     ]
    },
    {
     "name": "stderr",
     "output_type": "stream",
     "text": [
      "Sigma_SX_Static: 100%|██████████| 64/64 [00:02<00:00, 25.70it/s]"
     ]
    },
    {
     "name": "stdout",
     "output_type": "stream",
     "text": [
      "Sigma SX COHSEX\n",
      "   11.897822   10.692213   11.350437\n",
      "    8.050415   10.691906   10.025763\n",
      "    8.052588    8.736187    8.384990\n",
      "    8.052483    8.736867    8.385902\n",
      "    2.917532    2.597576    2.882170\n",
      "    2.915433    2.597634    2.433213\n",
      "    2.919747    1.333271    2.431261\n",
      "    2.674705    1.334266    0.749947\n"
     ]
    },
    {
     "name": "stderr",
     "output_type": "stream",
     "text": [
      "\n"
     ]
    }
   ],
   "source": [
    "sigma.print_condition=False\n",
    "sigma_sx_cohsex_mat = sigma.sigma_sx_static()    \n",
    "print(\"Sigma SX COHSEX\")\n",
    "sigma.pprint_sigma_mat(np.real(sigma_sx_cohsex_mat.T))"
   ]
  },
  {
   "cell_type": "code",
   "execution_count": 25,
   "metadata": {},
   "outputs": [
    {
     "name": "stderr",
     "output_type": "stream",
     "text": [
      "Sigma_CH_Static_Partial:   0%|          | 0/64 [00:00<?, ?it/s]"
     ]
    },
    {
     "name": "stderr",
     "output_type": "stream",
     "text": [
      "Sigma_CH_Static_Partial: 100%|██████████| 64/64 [00:04<00:00, 14.09it/s]"
     ]
    },
    {
     "name": "stdout",
     "output_type": "stream",
     "text": [
      "Sigma CH COHSEX\n",
      "   -6.641277   -6.317907   -6.511362\n",
      "   -5.113976   -6.317977   -6.076655\n",
      "   -5.114200   -5.580271   -5.418842\n",
      "   -5.114077   -5.580427   -5.419831\n",
      "   -4.749343   -4.710424   -4.933476\n",
      "   -4.748586   -4.710832   -4.288478\n",
      "   -4.750098   -3.472540   -4.288100\n",
      "   -4.781285   -3.473914   -2.996284\n"
     ]
    },
    {
     "name": "stderr",
     "output_type": "stream",
     "text": [
      "\n"
     ]
    }
   ],
   "source": [
    "sigma.print_condition=False\n",
    "sigma_ch_cohsex_mat = sigma.sigma_ch_static()    \n",
    "print(\"Sigma CH COHSEX\")\n",
    "sigma.pprint_sigma_mat(np.real(sigma_ch_cohsex_mat.T))"
   ]
  },
  {
   "cell_type": "code",
   "execution_count": 26,
   "metadata": {},
   "outputs": [
    {
     "name": "stderr",
     "output_type": "stream",
     "text": [
      "Sigma_CH_Static_Exact:   0%|          | 0/64 [00:00<?, ?it/s]"
     ]
    },
    {
     "name": "stderr",
     "output_type": "stream",
     "text": [
      "Sigma_CH_Static_Exact: 100%|██████████| 64/64 [00:26<00:00,  2.39it/s]"
     ]
    },
    {
     "name": "stdout",
     "output_type": "stream",
     "text": [
      "Sigma CH COHSEX EXACT\n",
      "   -7.461535   -7.645228   -7.650968\n",
      "   -7.788499   -7.645261   -7.324929\n",
      "   -7.788918   -7.500747   -7.703410\n",
      "   -7.788862   -7.501264   -7.704059\n",
      "   -7.361444   -6.804707   -7.377943\n",
      "   -7.360928   -6.804653   -7.142290\n",
      "   -7.362404   -7.712695   -7.142081\n",
      "   -7.851026   -7.714351   -6.239520\n"
     ]
    },
    {
     "name": "stderr",
     "output_type": "stream",
     "text": [
      "\n"
     ]
    }
   ],
   "source": [
    "sigma.print_condition=False\n",
    "sigma_ch_exact_mat = sigma.sigma_ch_static_exact()    \n",
    "print(\"Sigma CH COHSEX EXACT\")\n",
    "sigma.pprint_sigma_mat(np.real(sigma_ch_exact_mat.T))"
   ]
  },
  {
   "cell_type": "code",
   "execution_count": 29,
   "metadata": {},
   "outputs": [
    {
     "name": "stderr",
     "output_type": "stream",
     "text": [
      "Sigma_X:   0%|          | 0/64 [00:00<?, ?it/s]"
     ]
    },
    {
     "name": "stderr",
     "output_type": "stream",
     "text": [
      "Sigma_X: 100%|██████████| 64/64 [00:03<00:00, 17.20it/s]\n"
     ]
    },
    {
     "name": "stdout",
     "output_type": "stream",
     "text": [
      "Sigma X\n",
      "[[-17.544906+0.j -12.984799+0.j -12.98499 +0.j -12.984879+0.j\n",
      "   -5.77204 +0.j  -5.772092+0.j  -5.772459+0.j  -5.801537+0.j]\n",
      " [-16.03112 +0.j -16.031115+0.j -13.425014+0.j -13.425073+0.j\n",
      "   -5.203257+0.j  -5.202819+0.j  -3.793211+0.j  -3.793222+0.j]\n",
      " [-16.916213+0.j -14.89572 +0.j -13.214186+0.j -13.214228+0.j\n",
      "   -5.937991+0.j  -5.086562+0.j  -5.086561+0.j  -2.418507+0.j]]\n"
     ]
    },
    {
     "name": "stderr",
     "output_type": "stream",
     "text": [
      "Sigma_SX_Static: 100%|██████████| 64/64 [00:03<00:00, 17.92it/s]\n"
     ]
    },
    {
     "name": "stdout",
     "output_type": "stream",
     "text": [
      "Sigma SX STATIC\n",
      "[[11.897822-0.j        8.050415-0.j        8.052588+0.j\n",
      "   8.052483+0.j        2.917532+0.j        2.915433+0.j\n",
      "   2.919747-0.j        2.674705-0.j      ]\n",
      " [10.692213-0.002825j 10.691906+0.002825j  8.736187+0.j\n",
      "   8.736867-0.j        2.597576-0.00052j   2.597634+0.00052j\n",
      "   1.333271+0.j        1.334266-0.j      ]\n",
      " [11.350437-0.j       10.025763+0.j        8.38499 -0.j\n",
      "   8.385902+0.j        2.88217 -0.j        2.433213+0.j\n",
      "   2.431261+0.j        0.749947+0.j      ]]\n"
     ]
    },
    {
     "name": "stderr",
     "output_type": "stream",
     "text": [
      "Sigma_CH_Static_Partial: 100%|██████████| 64/64 [00:04<00:00, 13.48it/s]\n"
     ]
    },
    {
     "name": "stdout",
     "output_type": "stream",
     "text": [
      "Sigma CH STATIC\n",
      "[[-6.641277+0.j       -5.113976+0.j       -5.1142  -0.j\n",
      "  -5.114077-0.j       -4.749343+0.j       -4.748586-0.j\n",
      "  -4.750098+0.j       -4.781285+0.j      ]\n",
      " [-6.317907+0.001465j -6.317977-0.001465j -5.580271-0.j\n",
      "  -5.580427+0.j       -4.710424+0.000515j -4.710832-0.000515j\n",
      "  -3.47254 -0.j       -3.473914+0.j      ]\n",
      " [-6.511362+0.j       -6.076655-0.j       -5.418842+0.j\n",
      "  -5.419831-0.j       -4.933476+0.j       -4.288478+0.j\n",
      "  -4.2881  -0.j       -2.996284-0.j      ]]\n"
     ]
    },
    {
     "name": "stderr",
     "output_type": "stream",
     "text": [
      "Sigma_CH_Static_Exact: 100%|██████████| 64/64 [00:27<00:00,  2.33it/s]"
     ]
    },
    {
     "name": "stdout",
     "output_type": "stream",
     "text": [
      "Sigma CH EXACT STATIC\n",
      "[[-7.461535+0.j       -7.788499+0.j       -7.788918-0.j\n",
      "  -7.788862-0.j       -7.361444+0.j       -7.360928-0.j\n",
      "  -7.362404+0.j       -7.851026-0.j      ]\n",
      " [-7.645228-0.001649j -7.645261+0.001649j -7.500747+0.j\n",
      "  -7.501264-0.j       -6.804707-0.000647j -6.804653+0.000647j\n",
      "  -7.712695+0.j       -7.714351+0.j      ]\n",
      " [-7.650968+0.j       -7.324929-0.j       -7.70341 +0.j\n",
      "  -7.704059-0.j       -7.377943+0.j       -7.14229 +0.j\n",
      "  -7.142081-0.j       -6.23952 -0.j      ]]\n",
      "Sig (Exact):\n",
      "[[-13.108618-0.j       -12.984135-0.004475j -13.216744-0.j      ]\n",
      " [-12.722883-0.j       -12.98447 +0.004475j -12.194886+0.j      ]\n",
      " [-12.721321-0.j       -12.189574+0.j       -12.532606-0.j      ]\n",
      " [-12.721258-0.j       -12.18947 -0.j       -12.532385+0.j      ]\n",
      " [-10.215951+0.j        -9.410387-0.001167j -10.433764+0.j      ]\n",
      " [-10.217588+0.j        -9.409837+0.001167j  -9.795639+0.j      ]\n",
      " [-10.215116+0.j       -10.172634+0.j        -9.797381+0.j      ]\n",
      " [-10.977857-0.j       -10.173308+0.j        -7.90808 -0.j      ]]\n",
      "Eqp0 (Exact):\n",
      "[[-8.4006448 +0.j       -3.70205257-0.004475j -5.74793044+0.j      ]\n",
      " [ 4.87347118+0.j       -3.70238739+0.004475j -2.75425443+0.j      ]\n",
      " [ 4.87503325+0.j        1.79427022+0.j        3.59135612+0.j      ]\n",
      " [ 4.87509641+0.j        1.79437424+0.j        3.5915773 +0.j      ]\n",
      " [ 8.70210511+0.j        6.61804839-0.001167j  7.56213753+0.j      ]\n",
      " [ 8.70046813+0.j        6.61859838+0.001167j  9.54224288+0.j      ]\n",
      " [ 8.70294016+0.j       16.82154259+0.j        9.54050049+0.j      ]\n",
      " [ 9.64375828+0.j       16.82086854+0.j       13.97002644+0.j      ]]\n",
      "Sig (Partial):\n",
      "[[-12.288361-0.000e+00j -11.656815-1.361e-03j -12.077138-0.000e+00j]\n",
      " [-10.04836 -0.000e+00j -11.657186+1.361e-03j -10.946612+0.000e+00j]\n",
      " [-10.046602-0.000e+00j -10.269098+0.000e+00j -10.248038-0.000e+00j]\n",
      " [-10.046473-0.000e+00j -10.268634-0.000e+00j -10.248157+0.000e+00j]\n",
      " [ -7.60385 +0.000e+00j  -7.316105-5.000e-06j  -7.989297+0.000e+00j]\n",
      " [ -7.605245+0.000e+00j  -7.316016+5.000e-06j  -6.941826+0.000e+00j]\n",
      " [ -7.60281 +0.000e+00j  -5.932479+0.000e+00j  -6.943399+0.000e+00j]\n",
      " [ -7.908117+0.000e+00j  -5.93287 -0.000e+00j  -4.664844-0.000e+00j]]\n",
      "Eqp0 (Partial):\n",
      "[[-7.5803878 +0.000e+00j -2.37473257-1.361e-03j -4.60832444+0.000e+00j]\n",
      " [ 7.54799418+0.000e+00j -2.37510339+1.361e-03j -1.50598043+0.000e+00j]\n",
      " [ 7.54975225+0.000e+00j  3.71474622+0.000e+00j  5.87592412+0.000e+00j]\n",
      " [ 7.54988141+0.000e+00j  3.71521024+0.000e+00j  5.8758053 +0.000e+00j]\n",
      " [11.31420611+0.000e+00j  8.71233039-5.000e-06j 10.00660453+0.000e+00j]\n",
      " [11.31281113+0.000e+00j  8.71241938+5.000e-06j 12.39605588+0.000e+00j]\n",
      " [11.31524616+0.000e+00j 21.06169759+0.000e+00j 12.39448249+0.000e+00j]\n",
      " [12.71349828+0.000e+00j 21.06130654+0.000e+00j 17.21326244+0.000e+00j]]\n",
      "   n         Emf          Eo           X        SX-X          CH         Sig         Vxc        Eqp0        Eqp1         CH`        Sig`       Eqp0`       Eqp1`         Znk\n",
      "   0-5.790269+0.000000j-5.790269+0.000000j  -17.544906   11.897822   -7.461535  -13.108618  -10.498242   -8.400645   -8.400645   -6.641277  -12.288361   -7.580388   -7.580388    1.000000\n",
      "   16.277664+0.000000j6.277664+0.000000j  -12.984799    8.050415   -7.788499  -12.722883  -11.318690    4.873471    4.873471   -5.113976  -10.048360    7.547994    7.547994    1.000000\n",
      "   26.277664+0.000000j6.277664+0.000000j  -12.984990    8.052588   -7.788918  -12.721321  -11.318690    4.875033    4.875033   -5.114200  -10.046602    7.549752    7.549752    1.000000\n",
      "   36.277664+0.000000j6.277664+0.000000j  -12.984879    8.052483   -7.788862  -12.721258  -11.318690    4.875096    4.875096   -5.114077  -10.046473    7.549881    7.549881    1.000000\n",
      "   48.829793+0.000000j8.829793+0.000000j   -5.772040    2.917532   -7.361444  -10.215951  -10.088263    8.702105    8.702105   -4.749343   -7.603850   11.314206   11.314206    1.000000\n",
      "   58.829793+0.000000j8.829793+0.000000j   -5.772092    2.915433   -7.360928  -10.217588  -10.088263    8.700468    8.700468   -4.748586   -7.605245   11.312811   11.312811    1.000000\n",
      "   68.829793+0.000000j8.829793+0.000000j   -5.772459    2.919747   -7.362404  -10.215116  -10.088263    8.702940    8.702940   -4.750098   -7.602810   11.315246   11.315246    1.000000\n",
      "   79.764447+0.000000j9.764447+0.000000j   -5.801537    2.674705   -7.851026  -10.977857  -10.857169    9.643758    9.643758   -4.781285   -7.908117   12.713498   12.713498    1.000000\n",
      "   n         Emf          Eo           X        SX-X          CH         Sig         Vxc        Eqp0        Eqp1         CH`        Sig`       Eqp0`       Eqp1`         Znk\n",
      "   0-1.571921+0.000000j-1.571921+0.000000j  -16.031120   10.692213   -7.645228  -12.984135  -10.854004   -3.702053   -3.702053   -6.317907  -11.656815   -2.374733   -2.374733    1.000000\n",
      "   1-1.571921+0.000000j-1.571921+0.000000j  -16.031115   10.691906   -7.645261  -12.984470  -10.854004   -3.702387   -3.702387   -6.317977  -11.657186   -2.375103   -2.375103    1.000000\n",
      "   23.359705+0.000000j3.359705+0.000000j  -13.425014    8.736187   -7.500747  -12.189574  -10.624139    1.794270    1.794270   -5.580271  -10.269098    3.714746    3.714746    1.000000\n",
      "   33.359705+0.000000j3.359705+0.000000j  -13.425073    8.736867   -7.501264  -12.189470  -10.624139    1.794374    1.794374   -5.580427  -10.268634    3.715210    3.715210    1.000000\n",
      "   46.881284+0.000000j6.881284+0.000000j   -5.203257    2.597576   -6.804707   -9.410387   -9.147152    6.618048    6.618048   -4.710424   -7.316105    8.712330    8.712330    1.000000\n",
      "   56.881284+0.000000j6.881284+0.000000j   -5.202819    2.597634   -6.804653   -9.409837   -9.147152    6.618598    6.618598   -4.710832   -7.316016    8.712419    8.712419    1.000000\n",
      "   616.424702+0.000000j16.424702+0.000000j   -3.793211    1.333271   -7.712695  -10.172634  -10.569474   16.821543   16.821543   -3.472540   -5.932479   21.061698   21.061698    1.000000\n",
      "   716.424703+0.000000j16.424703+0.000000j   -3.793222    1.334266   -7.714351  -10.173308  -10.569474   16.820869   16.820869   -3.473914   -5.932870   21.061307   21.061307    1.000000\n",
      "   n         Emf          Eo           X        SX-X          CH         Sig         Vxc        Eqp0        Eqp1         CH`        Sig`       Eqp0`       Eqp1`         Znk\n",
      "   0-3.393789+0.000000j-3.393789+0.000000j  -16.916213   11.350437   -7.650968  -13.216744  -10.862603   -5.747930   -5.747930   -6.511362  -12.077138   -4.608324   -4.608324    1.000000\n",
      "   1-0.800364+0.000000j-0.800364+0.000000j  -14.895720   10.025763   -7.324929  -12.194886  -10.240996   -2.754254   -2.754254   -6.076655  -10.946612   -1.505980   -1.505980    1.000000\n",
      "   25.056764+0.000000j5.056764+0.000000j  -13.214186    8.384990   -7.703410  -12.532606  -11.067198    3.591356    3.591356   -5.418842  -10.248038    5.875924    5.875924    1.000000\n",
      "   35.056765+0.000000j5.056765+0.000000j  -13.214228    8.385902   -7.704059  -12.532385  -11.067198    3.591577    3.591577   -5.419831  -10.248157    5.875805    5.875805    1.000000\n",
      "   47.830308+0.000000j7.830308+0.000000j   -5.937991    2.882170   -7.377943  -10.433764  -10.165594    7.562138    7.562138   -4.933476   -7.989297   10.006605   10.006605    1.000000\n",
      "   59.588314+0.000000j9.588314+0.000000j   -5.086562    2.433213   -7.142290   -9.795639   -9.749568    9.542243    9.542243   -4.288478   -6.941826   12.396056   12.396056    1.000000\n",
      "   69.588314+0.000000j9.588314+0.000000j   -5.086561    2.431261   -7.142081   -9.797381   -9.749567    9.540500    9.540500   -4.288100   -6.943399   12.394482   12.394482    1.000000\n",
      "   713.832238+0.000000j13.832238+0.000000j   -2.418507    0.749947   -6.239520   -7.908080   -8.045868   13.970026   13.970026   -2.996284   -4.664844   17.213262   17.213262    1.000000\n"
     ]
    },
    {
     "name": "stderr",
     "output_type": "stream",
     "text": [
      "\n"
     ]
    }
   ],
   "source": [
    "sigma.calculate_static_cohsex()"
   ]
  },
  {
   "cell_type": "code",
   "execution_count": 28,
   "metadata": {},
   "outputs": [
    {
     "name": "stderr",
     "output_type": "stream",
     "text": [
      "Sigma_X:   0%|          | 0/64 [00:00<?, ?it/s]"
     ]
    },
    {
     "name": "stderr",
     "output_type": "stream",
     "text": [
      "Sigma_X: 100%|██████████| 64/64 [00:02<00:00, 26.27it/s]\n"
     ]
    },
    {
     "name": "stdout",
     "output_type": "stream",
     "text": [
      "Sigma X GPP\n",
      "[[-17.544906+0.j -12.984799+0.j -12.98499 +0.j -12.984879+0.j\n",
      "   -5.77204 +0.j  -5.772092+0.j  -5.772459+0.j  -5.801537+0.j]\n",
      " [-16.03112 +0.j -16.031115+0.j -13.425014+0.j -13.425073+0.j\n",
      "   -5.203257+0.j  -5.202819+0.j  -3.793211+0.j  -3.793222+0.j]\n",
      " [-16.916213+0.j -14.89572 +0.j -13.214186+0.j -13.214228+0.j\n",
      "   -5.937991+0.j  -5.086562+0.j  -5.086561+0.j  -2.418507+0.j]]\n"
     ]
    },
    {
     "name": "stderr",
     "output_type": "stream",
     "text": [
      "Sigma_CH_Static_Partial: 100%|██████████| 64/64 [00:04<00:00, 13.91it/s]\n"
     ]
    },
    {
     "name": "stdout",
     "output_type": "stream",
     "text": [
      "Sigma CH STATIC COHSEX\n",
      "[[-6.641277+0.j       -5.113976+0.j       -5.1142  -0.j\n",
      "  -5.114077-0.j       -4.749343+0.j       -4.748586-0.j\n",
      "  -4.750098+0.j       -4.781285+0.j      ]\n",
      " [-6.317907+0.001465j -6.317977-0.001465j -5.580271-0.j\n",
      "  -5.580427+0.j       -4.710424+0.000515j -4.710832-0.000515j\n",
      "  -3.47254 -0.j       -3.473914+0.j      ]\n",
      " [-6.511362+0.j       -6.076655-0.j       -5.418842+0.j\n",
      "  -5.419831-0.j       -4.933476+0.j       -4.288478+0.j\n",
      "  -4.2881  -0.j       -2.996284-0.j      ]]\n"
     ]
    },
    {
     "name": "stderr",
     "output_type": "stream",
     "text": [
      "Sigma_CH_Static_Exact: 100%|██████████| 64/64 [00:26<00:00,  2.44it/s]\n"
     ]
    },
    {
     "name": "stdout",
     "output_type": "stream",
     "text": [
      "Sigma CH STATIC EXACT\n",
      "[[-7.461535+0.j       -7.788499+0.j       -7.788918-0.j\n",
      "  -7.788862-0.j       -7.361444+0.j       -7.360928-0.j\n",
      "  -7.362404+0.j       -7.851026-0.j      ]\n",
      " [-7.645228-0.001649j -7.645261+0.001649j -7.500747+0.j\n",
      "  -7.501264-0.j       -6.804707-0.000647j -6.804653+0.000647j\n",
      "  -7.712695+0.j       -7.714351+0.j      ]\n",
      " [-7.650968+0.j       -7.324929-0.j       -7.70341 +0.j\n",
      "  -7.704059-0.j       -7.377943+0.j       -7.14229 +0.j\n",
      "  -7.142081-0.j       -6.23952 -0.j      ]]\n",
      "Started sigma_sx_gpp 2023-08-04 13:25:01\n"
     ]
    },
    {
     "name": "stderr",
     "output_type": "stream",
     "text": [
      "Sigma_SX_GPP: 100%|██████████| 64/64 [01:05<00:00,  1.02s/it]\n"
     ]
    },
    {
     "name": "stdout",
     "output_type": "stream",
     "text": [
      "Sigma SX GPP\n",
      "[[12.264463-0.000e+00j  8.203939-0.000e+00j  8.207702+0.000e+00j\n",
      "   8.196115-0.000e+00j  3.356442+0.000e+00j  3.353732+0.000e+00j\n",
      "   3.35863 -0.000e+00j  3.373766-0.000e+00j]\n",
      " [10.86282 -2.257e-03j 10.86242 +2.257e-03j  8.852984+1.000e-06j\n",
      "   8.854197-1.000e-06j  2.869535-1.025e-03j  2.869395+1.025e-03j\n",
      "   1.77997 -0.000e+00j  1.787217+0.000e+00j]\n",
      " [11.567866-0.000e+00j 10.184037+0.000e+00j  8.518146-0.000e+00j\n",
      "   8.520741-0.000e+00j  3.293694-0.000e+00j  2.792918+0.000e+00j\n",
      "   2.786417+0.000e+00j  1.095793-0.000e+00j]]\n"
     ]
    },
    {
     "name": "stderr",
     "output_type": "stream",
     "text": [
      "Sigma_CH_GPP: 100%|██████████| 64/64 [01:10<00:00,  1.10s/it]\n"
     ]
    },
    {
     "name": "stdout",
     "output_type": "stream",
     "text": [
      "Sigma CH GPP\n",
      "<class 'numpy.ndarray'>\n",
      "[[-5.809203+0.000e+00j -5.426201+0.000e+00j -5.427718-0.000e+00j\n",
      "  -5.416109-0.000e+00j -5.398088-0.000e+00j -5.397232-0.000e+00j\n",
      "  -5.400241+0.000e+00j -5.754373+0.000e+00j]\n",
      " [-5.862668+1.486e-03j -5.862915-1.486e-03j -5.567567-1.000e-06j\n",
      "  -5.568202+1.000e-06j -4.984852+9.330e-04j -4.984614-9.330e-04j\n",
      "  -4.661941+0.000e+00j -4.67023 -0.000e+00j]\n",
      " [-5.896258+0.000e+00j -5.647912-0.000e+00j -5.584283+0.000e+00j\n",
      "  -5.58636 -0.000e+00j -5.448451+0.000e+00j -4.889763-0.000e+00j\n",
      "  -4.885163-0.000e+00j -3.779749+0.000e+00j]]\n",
      "Sig GPP:\n",
      "[[-11.089642-0.00e+00j -11.031114-7.69e-04j -11.244657-0.00e+00j]\n",
      " [-10.207861-0.00e+00j -11.031756+7.69e-04j -10.359839+0.00e+00j]\n",
      " [-10.205808-0.00e+00j -10.140086+0.00e+00j -10.280927-0.00e+00j]\n",
      " [-10.205675-0.00e+00j -10.139568-0.00e+00j -10.280453-0.00e+00j]\n",
      " [ -7.81452 +0.00e+00j  -7.319359-9.10e-05j  -8.093495+0.00e+00j]\n",
      " [ -7.816428+0.00e+00j  -7.318821+9.10e-05j  -7.184402+0.00e+00j]\n",
      " [ -7.814906+0.00e+00j  -6.676562+0.00e+00j  -7.186302+0.00e+00j]\n",
      " [ -8.182946+0.00e+00j  -6.677617-0.00e+00j  -5.103702-0.00e+00j]]\n",
      "Eqp0\n",
      "[[-6.3816688 +0.00e+00j -1.74903157-7.69e-04j -3.77584344+0.00e+00j]\n",
      " [ 7.38849318+0.00e+00j -1.74967339+7.69e-04j -0.91920743+0.00e+00j]\n",
      " [ 7.39054625+0.00e+00j  3.84375822+0.00e+00j  5.84303512+0.00e+00j]\n",
      " [ 7.39067941+0.00e+00j  3.84427624+0.00e+00j  5.8435093 +0.00e+00j]\n",
      " [11.10353611+0.00e+00j  8.70907639-9.10e-05j  9.90240653+0.00e+00j]\n",
      " [11.10162813+0.00e+00j  8.70961438+9.10e-05j 12.15347988+0.00e+00j]\n",
      " [11.10315016+0.00e+00j 20.31761459+0.00e+00j 12.15157949+0.00e+00j]\n",
      " [12.43866928+0.00e+00j 20.31655954+0.00e+00j 16.77440444+0.00e+00j]]\n"
     ]
    },
    {
     "name": "stderr",
     "output_type": "stream",
     "text": [
      "Sigma_CH_GPP: 100%|██████████| 64/64 [01:11<00:00,  1.11s/it]\n",
      "Sigma_SX_GPP: 100%|██████████| 64/64 [01:07<00:00,  1.05s/it]"
     ]
    },
    {
     "name": "stdout",
     "output_type": "stream",
     "text": [
      "Sigma CH GPP dE\n",
      "[[-6.069133+0.000e+00j -5.674153+0.000e+00j -5.675515-0.000e+00j\n",
      "  -5.67074 -0.000e+00j -5.638703-0.000e+00j -5.637616-0.000e+00j\n",
      "  -5.641277+0.000e+00j -5.906215+0.000e+00j]\n",
      " [-6.140514+1.592e-03j -6.140759-1.592e-03j -5.852472-1.000e-06j\n",
      "  -5.853379+1.000e-06j -5.283794+1.031e-03j -5.283891-1.031e-03j\n",
      "  -4.911355+0.000e+00j -4.918082-0.000e+00j]\n",
      " [-6.167574+0.000e+00j -5.920682-0.000e+00j -5.876948+0.000e+00j\n",
      "  -5.879183-0.000e+00j -5.771614+0.000e+00j -5.105332-0.000e+00j\n",
      "  -5.105442-0.000e+00j -4.068753-0.000e+00j]]\n",
      "Sigma SX GPP dE\n",
      "[[12.125756-0.000e+00j  8.26073 -0.000e+00j  8.264336+0.000e+00j\n",
      "   8.259618-0.000e+00j  3.393069+0.000e+00j  3.390101+0.000e+00j\n",
      "   3.39565 -0.000e+00j  3.326756-0.000e+00j]\n",
      " [10.845385-2.309e-03j 10.845035+2.309e-03j  8.913773+1.000e-06j\n",
      "   8.915292-1.000e-06j  2.971232-1.098e-03j  2.971444+1.098e-03j\n",
      "   1.797535-0.000e+00j  1.802831+0.000e+00j]\n",
      " [11.517813-0.000e+00j 10.175576+0.000e+00j  8.604115-0.000e+00j\n",
      "   8.606857+0.000e+00j  3.415843+0.000e+00j  2.81711 +0.000e+00j\n",
      "   2.815283+0.000e+00j  1.189892+0.000e+00j]]\n",
      "Z:\n",
      "[[0.7149821 -6.41051951e-09j 0.77203292+3.27684101e-05j\n",
      "  0.75679113+9.06080619e-12j]\n",
      " [0.83951687+4.77927632e-11j 0.77206403-3.27710543e-05j\n",
      "  0.78049886+1.58026325e-12j]\n",
      " [0.83951556+2.27400914e-13j 0.81691552-3.92360427e-08j\n",
      "  0.82870835+2.92032875e-11j]\n",
      " [0.83954042+1.46537290e-13j 0.81693873+3.92624942e-08j\n",
      "  0.82870162+4.90870793e-12j]\n",
      " [0.83057225+2.82715580e-12j 0.83525063+1.82646164e-05j\n",
      "  0.83262993+1.88864298e-12j]\n",
      " [0.83055467-5.93028487e-12j 0.83526224-1.82651244e-05j\n",
      "  0.83936542-2.13548155e-12j]\n",
      " [0.83055389+1.34929015e-11j 0.81178776-2.71949282e-08j\n",
      "  0.83934041-3.66059494e-12j]\n",
      " [0.83413173+2.02435385e-11j 0.81153125+2.71997709e-08j\n",
      "  0.83688649-4.14519583e-11j]]\n",
      "Sig_2:\n",
      "[[-11.488282-0.00e+00j -11.32625 -7.17e-04j -11.565973-0.00e+00j]\n",
      " [-10.398221-0.00e+00j -11.32684 +7.17e-04j -10.640827+0.00e+00j]\n",
      " [-10.39617 -0.00e+00j -10.363713+0.00e+00j -10.487019-0.00e+00j]\n",
      " [-10.396001-0.00e+00j -10.36316 -0.00e+00j -10.486554-0.00e+00j]\n",
      " [ -8.017675+0.00e+00j  -7.51582 -6.60e-05j  -8.293762+0.00e+00j]\n",
      " [ -8.019607+0.00e+00j  -7.515266+6.60e-05j  -7.374784+0.00e+00j]\n",
      " [ -8.018086+0.00e+00j  -6.90703 -0.00e+00j  -7.376719+0.00e+00j]\n",
      " [ -8.380995+0.00e+00j  -6.908474+0.00e+00j  -5.297368-0.00e+00j]]\n",
      "Eqp1\n",
      "[[-6.21310918 -1.70865625 -3.68292446]\n",
      " [ 7.21022381 -1.70915719 -0.89312122]\n",
      " [ 7.21194594  3.75513564  5.70835351]\n",
      " [ 7.21208544  3.75557006  5.70874121]\n",
      " [10.71830089  8.4079487   9.55559924]\n",
      " [10.71667626  8.40841928 11.74142553]\n",
      " [10.71793864 19.58492089 11.73976634]\n",
      " [11.99510059 19.58306614 16.29449737]]\n",
      "   n         Emf          Eo           X        SX-X          CH         Sig         Vxc        Eqp0        Eqp1         CH`        Sig`       Eqp0`       Eqp1`         Znk\n",
      "   0-5.790269+0.000000j-5.790269+0.000000j  -17.544906   12.264463   -5.809199  -11.089642  -10.498242   -6.377629   -6.210221   -5.809203  -11.089645   -6.381669   -6.213109    0.714982\n",
      "   16.277664+0.000000j6.277664+0.000000j  -12.984799    8.203939   -5.427001  -10.207861  -11.318690    6.389180    6.371284   -5.426201  -10.207060    7.388493    7.210224    0.839517\n",
      "   26.277664+0.000000j6.277664+0.000000j  -12.984990    8.207702   -5.428520  -10.205808  -11.318690    6.390126    6.372078   -5.427718  -10.205007    7.390546    7.211946    0.839516\n",
      "   36.277664+0.000000j6.277664+0.000000j  -12.984879    8.196115   -5.416911  -10.205675  -11.318690    6.390362    6.372279   -5.416109  -10.204873    7.390679    7.212085    0.839540\n",
      "   48.829793+0.000000j8.829793+0.000000j   -5.772040    3.356442   -5.398922   -7.814520  -10.088263   10.061577    9.852879   -5.398088   -7.813685   11.103536   10.718301    0.830572\n",
      "   58.829793+0.000000j8.829793+0.000000j   -5.772092    3.353732   -5.398067   -7.816428  -10.088263   10.059650    9.851256   -5.397232   -7.815593   11.101628   10.716676    0.830555\n",
      "   68.829793+0.000000j8.829793+0.000000j   -5.772459    3.358630   -5.401077   -7.814906  -10.088263   10.061043    9.852412   -5.400241   -7.814070   11.103150   10.717939    0.830554\n",
      "   79.764447+0.000000j9.764447+0.000000j   -5.801537    3.373766   -5.755175   -8.182946  -10.857169   11.437882   11.160312   -5.754373   -8.182144   12.438669   11.995101    0.834132\n",
      "   n         Emf          Eo           X        SX-X          CH         Sig         Vxc        Eqp0        Eqp1         CH`        Sig`       Eqp0`       Eqp1`         Znk\n",
      "   0-1.571921+0.000000j-1.571921+0.000000j  -16.031120   10.862820   -5.862814  -11.031114  -10.854004   -1.931015   -1.849154   -5.862668  -11.030968   -1.749032   -1.708656    0.772033\n",
      "   1-1.571921+0.000000j-1.571921+0.000000j  -16.031115   10.862420   -5.863061  -11.031756  -10.854004   -1.931434   -1.849488   -5.862915  -11.031611   -1.749673   -1.709157    0.772064\n",
      "   23.359705+0.000000j3.359705+0.000000j  -13.425014    8.852984   -5.568057  -10.140086  -10.624139    3.232610    3.255879   -5.567567  -10.139597    3.843758    3.755136    0.816916\n",
      "   33.359705+0.000000j3.359705+0.000000j  -13.425073    8.854197   -5.568692  -10.139568  -10.624139    3.232826    3.256053   -5.568202  -10.139078    3.844276    3.755570    0.816939\n",
      "   46.881284+0.000000j6.881284+0.000000j   -5.203257    2.869535   -4.985636   -7.319359   -9.147152    7.729717    7.589938   -4.984852   -7.318574    8.709076    8.407949    0.835251\n",
      "   56.881284+0.000000j6.881284+0.000000j   -5.202819    2.869395   -4.985398   -7.318821   -9.147152    7.730768    7.590825   -4.984614   -7.318037    8.709614    8.408419    0.835262\n",
      "   616.424702+0.000000j16.424702+0.000000j   -3.793211    1.779970   -4.663321   -6.676562  -10.569474   18.594307   18.185961   -4.661941   -6.675181   20.317615   19.584921    0.811788\n",
      "   716.424703+0.000000j16.424703+0.000000j   -3.793222    1.787217   -4.671612   -6.677617  -10.569474   18.592718   18.184115   -4.670230   -6.676236   20.316560   19.583066    0.811531\n",
      "   n         Emf          Eo           X        SX-X          CH         Sig         Vxc        Eqp0        Eqp1         CH`        Sig`       Eqp0`       Eqp1`         Znk\n",
      "   0-3.393789+0.000000j-3.393789+0.000000j  -16.916213   11.567866   -5.896310  -11.244657  -10.862603   -3.840865   -3.732132   -5.896258  -11.244605   -3.775843   -3.682924    0.756791\n",
      "   1-0.800364+0.000000j-0.800364+0.000000j  -14.895720   10.184037   -5.648156  -10.359839  -10.240996   -1.224518   -1.131416   -5.647912  -10.359595   -0.919207   -0.893121    0.780499\n",
      "   25.056764+0.000000j5.056764+0.000000j  -13.214186    8.518146   -5.584888  -10.280927  -11.067198    5.087677    5.082382   -5.584283  -10.280322    5.843035    5.708354    0.828708\n",
      "   35.056765+0.000000j5.056765+0.000000j  -13.214228    8.520741   -5.586966  -10.280453  -11.067198    5.087533    5.082262   -5.586360  -10.279847    5.843509    5.708741    0.828702\n",
      "   47.830308+0.000000j7.830308+0.000000j   -5.937991    3.293694   -5.449198   -8.093495  -10.165594    8.970788    8.779906   -5.448451   -8.092748    9.902407    9.555599    0.832630\n",
      "   59.588314+0.000000j9.588314+0.000000j   -5.086562    2.792918   -4.890758   -7.184402   -9.749568   10.912840   10.700075   -4.889763   -7.183408   12.153480   11.741426    0.839365\n",
      "   69.588314+0.000000j9.588314+0.000000j   -5.086561    2.786417   -4.886158   -7.186302   -9.749567   10.910645   10.698200   -4.885163   -7.185308   12.151579   11.739766    0.839340\n",
      "   713.832238+0.000000j13.832238+0.000000j   -2.418507    1.095793   -3.780989   -5.103702   -8.045868   15.227851   15.000208   -3.779749   -5.102463   16.774404   16.294497    0.836886\n"
     ]
    },
    {
     "name": "stderr",
     "output_type": "stream",
     "text": [
      "\n"
     ]
    }
   ],
   "source": [
    "sigma.calculate_gpp()"
   ]
  }
 ],
 "metadata": {
  "kernelspec": {
   "display_name": "qtmgw",
   "language": "python",
   "name": "python3"
  },
  "language_info": {
   "codemirror_mode": {
    "name": "ipython",
    "version": 3
   },
   "file_extension": ".py",
   "mimetype": "text/x-python",
   "name": "python",
   "nbconvert_exporter": "python",
   "pygments_lexer": "ipython3",
   "version": "3.11.4"
  },
  "orig_nbformat": 4,
  "vscode": {
   "interpreter": {
    "hash": "e999361976a928b84e12c419d14d94f70e0843150ccb2ec1be172a20bbe93fd8"
   }
  }
 },
 "nbformat": 4,
 "nbformat_minor": 2
}
