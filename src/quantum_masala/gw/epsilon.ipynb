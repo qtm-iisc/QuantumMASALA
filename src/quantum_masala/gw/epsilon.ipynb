{
 "cells": [
  {
   "attachments": {},
   "cell_type": "markdown",
   "metadata": {},
   "source": [
    "# Epsilon Notebook"
   ]
  },
  {
   "cell_type": "code",
   "execution_count": 1,
   "metadata": {},
   "outputs": [],
   "source": [
    "%load_ext autoreload\n",
    "%autoreload 2"
   ]
  },
  {
   "cell_type": "code",
   "execution_count": 2,
   "metadata": {},
   "outputs": [],
   "source": [
    "# Imports\n",
    "\n",
    "# from functools import lru_cache\n",
    "import numpy as np\n",
    "from quantum_masala.gw.h5_io.h5_utils import *\n",
    "import sys\n",
    "\n",
    "\n",
    "sys.path.append(\"..\")\n",
    "sys.path.append(\".\")\n",
    "\n",
    "# dirname = \"./test/bgw/\"\n",
    "dirname = \"./scripts/results/si_4_gw/\""
   ]
  },
  {
   "attachments": {},
   "cell_type": "markdown",
   "metadata": {},
   "source": [
    "## Load WFN data"
   ]
  },
  {
   "cell_type": "code",
   "execution_count": 3,
   "metadata": {},
   "outputs": [
    {
     "name": "stdout",
     "output_type": "stream",
     "text": [
      "EpsilonInp(epsilon_cutoff, number_bands, qpts, is_q0, options)\n",
      "['use_wfn_hdf5', 'write_vcoul']\n",
      "\n",
      "SigmaInp(band_index_min, band_index_max, number_bands, frequency_dependence, exact_static_ch, bare_coulomb_cutoff, screened_coulomb_cutoff, tol_degeneracy, kpts, options)\n",
      "['use_wfn_hdf5', 'write_vcoul']\n",
      "\n",
      "WfnData(crystal, grho, kpts, l_gk, l_wfn, symmetry)\n",
      "WfnData(crystal, grho, kpts, l_gk, l_wfn, symmetry)\n"
     ]
    }
   ],
   "source": [
    "from quantum_masala.gw.io_bgw import inp\n",
    "\n",
    "epsinp = inp.read_epsilon_inp(filename=dirname+'epsilon.inp')\n",
    "sigmainp = inp.read_sigma_inp(filename=dirname+'sigma.inp')\n",
    "\n",
    "# Epsilon.inp data\n",
    "# Use __doc__ to print elements\n",
    "print(epsinp.__doc__)\n",
    "print(epsinp.options)\n",
    "print()\n",
    "\n",
    "# Sigma.inp data\n",
    "# Use __doc__ to print elements\n",
    "print(sigmainp.__doc__)\n",
    "print(sigmainp.options)\n",
    "print()\n",
    "\n",
    "# wfn2py\n",
    "from quantum_masala.gw.io_bgw.wfn2py import wfn2py\n",
    "\n",
    "wfndata = wfn2py(dirname+'WFN.h5')\n",
    "print(wfndata.__doc__)\n",
    "\n",
    "wfnqdata = wfn2py(dirname+'WFNq.h5')\n",
    "print(wfnqdata.__doc__)\n",
    "\n",
    "# RHO data\n",
    "# rho_data = inp.read_rho(\"./test/bgw/RHO\")\n",
    "# print(rho_data.__doc__)\n",
    "# print(rho_data.rho)\n",
    "\n",
    "# Vxc data\n",
    "# vxc_data = inp.read_vxc('./test/bgw/vxc.dat')\n",
    "# print(vxc_data.__doc__)\n",
    "# print(\"Vxc: vxc values and kpts\")\n",
    "# print(*zip(vxc_data.kpts, vxc_data.vxc), sep=\"\\n\\n\")\n",
    "\n"
   ]
  },
  {
   "cell_type": "code",
   "execution_count": 4,
   "metadata": {},
   "outputs": [
    {
     "name": "stdout",
     "output_type": "stream",
     "text": [
      "(1, 30, 537)\n"
     ]
    },
    {
     "data": {
      "text/plain": [
       "(24, 24, 24)"
      ]
     },
     "execution_count": 4,
     "metadata": {},
     "output_type": "execute_result"
    }
   ],
   "source": [
    "# Testing FFT\n",
    "wfn = wfndata.l_wfn[0]\n",
    "print(wfn.evc_gk.shape)\n",
    "wfn.gkspc.fft_mod.g2r(wfn.evc_gk[0,1,:]).shape\n"
   ]
  },
  {
   "attachments": {},
   "cell_type": "markdown",
   "metadata": {},
   "source": [
    "## Epsilon Class"
   ]
  },
  {
   "cell_type": "code",
   "execution_count": 5,
   "metadata": {},
   "outputs": [
    {
     "name": "stdout",
     "output_type": "stream",
     "text": [
      "Warning! Sigma.SEED = 5000\n",
      "q0vec init: [0.   0.   0.   0.   0.   0.   0.   0.   0.   0.   0.   0.   0.   0.\n",
      " 0.   0.   0.25 0.25 0.25 0.25 0.25 0.25 0.25 0.25 0.25 0.25 0.25 0.25\n",
      " 0.25 0.25 0.25 0.25 0.5  0.5  0.5  0.5  0.5  0.5  0.5  0.5  0.5  0.5\n",
      " 0.5  0.5  0.5  0.5  0.5  0.5  0.75 0.75 0.75 0.75 0.75 0.75 0.75 0.75\n",
      " 0.75 0.75 0.75 0.75 0.75 0.75 0.75 0.75]\n",
      "q0vec init: [0.   0.   0.   0.   0.   0.   0.   0.   0.   0.   0.   0.   0.   0.\n",
      " 0.   0.   0.25 0.25 0.25 0.25 0.25 0.25 0.25 0.25 0.25 0.25 0.25 0.25\n",
      " 0.25 0.25 0.25 0.25 0.5  0.5  0.5  0.5  0.5  0.5  0.5  0.5  0.5  0.5\n",
      " 0.5  0.5  0.5  0.5  0.5  0.5  0.75 0.75 0.75 0.75 0.75 0.75 0.75 0.75\n",
      " 0.75 0.75 0.75 0.75 0.75 0.75 0.75 0.75]\n"
     ]
    },
    {
     "name": "stderr",
     "output_type": "stream",
     "text": [
      "Vcoul calculation for qpts:   0%|          | 0/64 [00:00<?, ?it/s]/home/agrim/Documents/QuantumMASALA/src/quantum_masala/gw/vcoul.py:838: RuntimeWarning: divide by zero encountered in scalar divide\n",
      "  oneoverq = 8 * np.pi / qlength\n",
      "Vcoul calculation for qpts: 100%|██████████| 64/64 [00:00<00:00, 12868.43it/s]\n"
     ]
    }
   ],
   "source": [
    "from quantum_masala.gw.core import QPoints\n",
    "from quantum_masala.gw.epsilon import Epsilon\n",
    "\n",
    "qpts = QPoints.from_cryst(wfndata.kpts.recilat, epsinp.is_q0, *epsinp.qpts)\n",
    "\n",
    "# epsilon = Epsilon(\n",
    "#     wfndata.crystal,\n",
    "#     wfndata.grho,\n",
    "#     wfndata.kpts,\n",
    "#     wfnqdata.kpts,\n",
    "#     wfndata.l_wfn,\n",
    "#     wfnqdata.l_wfn,\n",
    "#     wfndata.l_gk,\n",
    "#     wfnqdata.l_gk,\n",
    "#     qpts,\n",
    "#     epsinp,\n",
    "# )\n",
    "\n",
    "epsilon = Epsilon.from_data(wfndata=wfndata, wfnqdata=wfnqdata, epsinp=epsinp)\n",
    "# M = epsilon.Matrix_elements(0)\n",
    "# # print(M)\n",
    "# chimat = 4 * epsilon.chi(M)\n",
    "# epsinv = epsilon.eps_inv(i_q=0, chimat=chimat)\n",
    "\n",
    "# print(epsinv.shape)\n",
    "# print(epsinv[0])\n"
   ]
  },
  {
   "cell_type": "code",
   "execution_count": 6,
   "metadata": {},
   "outputs": [
    {
     "name": "stderr",
     "output_type": "stream",
     "text": [
      "Epsilon> q-pt index: 100%|██████████| 64/64 [00:25<00:00,  2.50it/s]\n"
     ]
    }
   ],
   "source": [
    "from tqdm import trange\n",
    "from quantum_masala.gw.core import sort_cryst_like_BGW\n",
    "\n",
    "\n",
    "def reorder_2d_matrix_sorted_gvecs(a, indices):\n",
    "    \"\"\"Given a 2-D matrix and listof indices, reorder rows and columns in order of indices\n",
    "\n",
    "    Parameters\n",
    "    ----------\n",
    "    a\n",
    "        The 2-D matrix\n",
    "    indices\n",
    "        List of indices\n",
    "\n",
    "    Returns\n",
    "    -------\n",
    "        ``a`` with appropriately ordered rows and coumns.\n",
    "    \"\"\"\n",
    "    tiled_indices = np.tile(indices,(len(indices),1))\n",
    "    return np.take_along_axis(np.take_along_axis(a, tiled_indices, 1), tiled_indices.T, 0)\n",
    "\n",
    "epsmats = []\n",
    "\n",
    "for i_q in trange(0, epsilon.qpts.numq, desc=\"Epsilon> q-pt index\"):\n",
    "    \n",
    "    # Create map between BGW's sorting order and QTm's sorting order\n",
    "    gkspc  = epsilon.l_gq[i_q]\n",
    "    if i_q == epsilon.qpts.index_q0:\n",
    "        # gk_cryst = gkspc.gspc.cryst[:,gkspc.idxg]\n",
    "        key = gkspc.g_norm2[gkspc.idxg]\n",
    "        indices_gspace_sorted = sort_cryst_like_BGW(cryst=gkspc.g_cryst, key_array=key)\n",
    "    else:\n",
    "        # gk_cryst = gkspc.cryst\n",
    "        key = gkspc.norm2\n",
    "        indices_gspace_sorted = sort_cryst_like_BGW(cryst=gkspc.cryst, key_array=key)\n",
    "    \n",
    "    # indices_gspace_sorted = sort_cryst_like_BGW(cryst=gk_cryst, key_array=key)\n",
    "        \n",
    "\n",
    "    # Calculate matrix elements\n",
    "    M = epsilon.matrix_elements(i_q=i_q)\n",
    "    # Calculate polarizability matrix\n",
    "    chimat = 4 * epsilon.polarizability(M)\n",
    "    # Calculate epsilon inverse matrix\n",
    "    epsinv = epsilon.epsilon_inverse(i_q=i_q, polarizability_matrix=chimat)\n",
    "    \n",
    "    # indices = epsilon.l_gq[i_q].gk_indices_tosorted\n",
    "    epsinv = reorder_2d_matrix_sorted_gvecs(epsinv, indices_gspace_sorted)\n",
    "    \n",
    "    # Compare the results with BGW's results\n",
    "    if i_q == epsilon.qpts.index_q0:\n",
    "        epsref = epsilon.read_epsmat(dirname + \"eps0mat.h5\")[0][0, 0]\n",
    "        indices = epsilon.l_gq[i_q].gk_indices_tosorted\n",
    "        epsilon.write_epsmat(filename=\"test/epsilon/eps0mat_qtm.h5\", epsinvmats=[epsinv])\n",
    "    else:\n",
    "        epsref = np.array(epsilon.read_epsmat(dirname + \"epsmat.h5\")[i_q - 1][0, 0])\n",
    "        epsmats.append(epsinv)\n",
    "\n",
    "    # DEBUGGING snippet:\n",
    "    # print(np.stack([np.diag(epsref),np.diag(epsinv)[indices_gspace_sorted]]).T.real)\n",
    "    std_eps = np.std(np.diag(epsref)-np.diag(epsinv))#[indices_gspace_sorted])\n",
    "    epstol = 1e-15\n",
    "    if np.abs(std_eps) > epstol:\n",
    "        print(f\"Standard deviation exceeded {epstol} tolerance\",std_eps)\n",
    "        print(\"i_q\",i_q)\n",
    "        print(\"indices\",indices)\n",
    "        print(\"indices_gspace_sorted\", indices_gspace_sorted)\n",
    "        print(\"fromsorted\", epsilon.l_gq[i_q].gk_indices_fromsorted)\n",
    "        print(\"gk_cryst\\n\", gkspc.g_cryst.T)\n",
    "        break\n",
    "\n",
    "    # print(\"indices_gspace_sorted\", indices_gspace_sorted)\n",
    "\n",
    "    # The following will not be valid until we put in correct ordering\n",
    "    if False:\n",
    "        print(epsref.shape)\n",
    "        print(epsinv.shape)\n",
    "        assert epsinv.shape == epsref.shape\n",
    "        min_dim = min(epsinv.shape[0], epsref.shape[0])\n",
    "\n",
    "        # print(\"Real part stddev:\", np.std(np.real(epsref[:min_dim, :min_dim] - epsinv[:min_dim, :min_dim])))\n",
    "        print(\n",
    "            \"Imag part stddev:\",\n",
    "            np.std(np.imag(epsref[:min_dim, :min_dim] - epsinv[:min_dim, :min_dim])),\n",
    "        )\n",
    "    # print(\"Diag:\", np.stack([np.diag(epsinv)[:], np.diag(epsref)[:]], axis=1))\n",
    "\n",
    "epsilon.write_epsmat(filename=\"test/epsilon/epsmat_qtm.h5\", epsinvmats=epsmats)\n"
   ]
  },
  {
   "cell_type": "code",
   "execution_count": 8,
   "metadata": {},
   "outputs": [],
   "source": [
    "# %load_ext line_profiler\n",
    "# %lprun -f epsilon.matrix_elements epsilon.matrix_elements(i_q=0)\n",
    "\n",
    "# %prun epsilon.matrix_elements(i_q=0)"
   ]
  },
  {
   "attachments": {},
   "cell_type": "markdown",
   "metadata": {},
   "source": [
    "<!-- ## Issues:\n",
    "- Still inaccurate epsilon: Complex part of epsilon? Visual inspection tells that complex part matches exactly to all decimals available (10 digits) -->\n",
    "<!-- ##### Fixed, but for later reference:\n",
    "- fixed now: Vcoul ordering: Previous code was ordered by decreasing kinetic energy, this one uses Vcoul where ordering has been figured out. -->"
   ]
  }
 ],
 "metadata": {
  "kernelspec": {
   "display_name": "qtmgw",
   "language": "python",
   "name": "python3"
  },
  "language_info": {
   "codemirror_mode": {
    "name": "ipython",
    "version": 3
   },
   "file_extension": ".py",
   "mimetype": "text/x-python",
   "name": "python",
   "nbconvert_exporter": "python",
   "pygments_lexer": "ipython3",
   "version": "3.9.16"
  },
  "orig_nbformat": 4,
  "vscode": {
   "interpreter": {
    "hash": "e999361976a928b84e12c419d14d94f70e0843150ccb2ec1be172a20bbe93fd8"
   }
  }
 },
 "nbformat": 4,
 "nbformat_minor": 2
}
