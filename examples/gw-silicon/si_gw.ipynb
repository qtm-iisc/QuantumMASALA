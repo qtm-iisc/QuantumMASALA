{
 "cells": [
  {
   "cell_type": "markdown",
   "metadata": {},
   "source": [
    "### Tutorial Notebook: G<sub>0</sub>W<sub>0</sub> Approximation \n",
    "\n",
    "In this notebook, we present an example calculation of quasiparticle energies using QuatumMASALA's `gw` module."
   ]
  },
  {
   "cell_type": "code",
   "execution_count": 5,
   "metadata": {},
   "outputs": [
    {
     "name": "stdout",
     "output_type": "stream",
     "text": [
      "The autoreload extension is already loaded. To reload it, use:\n",
      "  %reload_ext autoreload\n"
     ]
    }
   ],
   "source": [
    "%load_ext autoreload\n",
    "%autoreload 2"
   ]
  },
  {
   "cell_type": "code",
   "execution_count": 6,
   "metadata": {},
   "outputs": [],
   "source": [
    "# Imports\n",
    "import numpy as np\n",
    "import sys\n",
    "\n",
    "sys.path.append(\".\")\n",
    "\n",
    "dirname = \"./\""
   ]
  },
  {
   "cell_type": "markdown",
   "metadata": {},
   "source": [
    "### DFT Calculation\n",
    "\n",
    "We will start with a DFT calculation to get the energy eigenfunctions and eigenvalues."
   ]
  },
  {
   "cell_type": "code",
   "execution_count": 7,
   "metadata": {},
   "outputs": [],
   "source": [
    "import numpy as np\n",
    "\n",
    "from qtm.constants import RYDBERG, ELECTRONVOLT\n",
    "from qtm.kpts import KList\n",
    "from qtm.lattice import RealLattice\n",
    "from qtm.crystal import BasisAtoms, Crystal\n",
    "from qtm.pseudo import UPFv2Data\n",
    "from qtm.gspace import GSpace\n",
    "from qtm.mpi import QTMComm\n",
    "from qtm.dft import DFTCommMod, scf\n",
    "\n",
    "from qtm.io_utils.dft_printers import print_scf_status\n",
    "\n",
    "from qtm import qtmconfig\n",
    "from qtm.logger import qtmlogger\n",
    "# qtmconfig.fft_backend = 'mkl_fft'\n",
    "\n",
    "from mpi4py.MPI import COMM_WORLD\n",
    "comm_world = QTMComm(COMM_WORLD)\n",
    "dftcomm = DFTCommMod(comm_world,1)\n",
    "\n",
    "# Lattice\n",
    "reallat = RealLattice.from_alat(alat=10.2,  # Bohr\n",
    "                                a1=[-0.5,  0. ,  0.5],\n",
    "                                a2=[ 0. ,  0.5,  0.5],\n",
    "                                a3=[-0.5,  0.5,  0. ])\n",
    "\n",
    "# Atom Basis\n",
    "si_oncv = UPFv2Data.from_file('Si_ONCV_PBE-1.2.upf')\n",
    "si_atoms = BasisAtoms.from_alat('Si', si_oncv, 28.086, reallat,\n",
    "                               np.array([[0.875, 0.875, 0.875], [0.125, 0.125, 0.125]]))\n",
    "\n",
    "crystal = Crystal(reallat, [si_atoms, ])  # Represents the crystal\n",
    "\n",
    "\n",
    "# Generating k-points from a Monkhorst Pack grid (reduced to the crystal's IBZ)\n",
    "mpgrid_shape = (4, 4, 4)\n",
    "x = np.linspace(0,1,mpgrid_shape[0], endpoint=False)\n",
    "y = np.linspace(0,1,mpgrid_shape[1], endpoint=False)\n",
    "z = np.linspace(0,1,mpgrid_shape[2], endpoint=False)\n",
    "xx,yy,zz = np.meshgrid(x,y,z, indexing=\"ij\")\n",
    "kcryst = np.vstack([xx.flatten(),yy.flatten(),zz.flatten()])\n",
    "kpts = KList(recilat=crystal.recilat, k_coords=kcryst, k_weights=np.ones(kcryst.shape[1])/kcryst.shape[1])\n",
    "\n",
    "\n",
    "# -----Setting up G-Space of calculation-----\n",
    "ecut_wfn = 25 * RYDBERG\n",
    "ecut_rho = 4 * ecut_wfn\n",
    "grho = GSpace(crystal.recilat, ecut_rho)\n",
    "gwfn = grho\n",
    "\n",
    "# -----Spin-polarized (collinear) calculation-----\n",
    "is_spin, is_noncolin = False, False\n",
    "mag_start = None#[0.0]\n",
    "numbnd_occ = 4\n",
    "numbnd_nscf = 30\n",
    "\n",
    "occ = 'fixed'\n",
    "\n",
    "conv_thr = 1E-8 * RYDBERG\n",
    "diago_thr_init = 1E-2 * RYDBERG"
   ]
  },
  {
   "cell_type": "markdown",
   "metadata": {},
   "source": [
    "### DFT: SCF calculation for occupied bands"
   ]
  },
  {
   "cell_type": "code",
   "execution_count": 8,
   "metadata": {},
   "outputs": [
    {
     "name": "stdout",
     "output_type": "stream",
     "text": [
      "Quantum MASALA\n",
      " - Project Git Info:\n",
      "    - Commit hash:          2f462d3a6c98be4d844a5d27f723e05ac1aff676\n",
      "    - Commit date and time: Wednesday, 16 October, 2024 16:38:50\n",
      "=========================================\n",
      "SCF Parameters:\n",
      "\n",
      "dftcomm         = DFTCommMod(image_comm.size=1, n_kgrp=1, n_bgrp=1, pwgrp_size=None)\n",
      "crystal         = Crystal(\n",
      "    reallat=Lattice parameter 'alat' :   10.20000  a.u.\n",
      "Unit cell volume         :  265.30200  (a.u.)^3\n",
      "Number of atoms/cell     : 1\n",
      "Number of atomic types   : 1\n",
      "Number of electrons      : 16\n",
      "\n",
      "Crystal Axes: coordinates in units of 'alat' (10.20000 a.u.)\n",
      "    a(1) = (-0.50000,  0.00000,  0.50000)\n",
      "    a(2) = ( 0.00000,  0.50000,  0.50000)\n",
      "    a(3) = (-0.50000,  0.50000,  0.00000)\n",
      "\n",
      "Reciprocal Axes: coordinates in units of 'tpiba' (0.61600 (a.u.)^-1)\n",
      "    b(1) = (-1.00000, -1.00000,  1.00000)\n",
      "    b(2) = ( 1.00000,  1.00000,  1.00000)\n",
      "    b(3) = (-1.00000,  1.00000, -1.00000), \n",
      "    l_atoms=[\n",
      "    \tBasisAtoms(\n",
      "    \t  label='Si', \n",
      "    \t  ppdata.filename=Si_ONCV_PBE-1.2.upf, \n",
      "    \t  ppdata.md5_checksum=7f029a58b69e3aa87b46a36c608bf45e, \n",
      "    \t  mass=28.086, \n",
      "    \t  r_cryst=\n",
      "    \t    [-0.875,  2.625, -0.875],\n",
      "    \t    [-0.125,  0.375, -0.125],\n",
      "    \t  )\n",
      "    \t])\n",
      "grho            = GSpace(crystal.recilat, ecut_rho=50.0, grid_shape=(24, 24, 24))\n",
      "grho.num_g      = 4477\n",
      "gwfn            = GSpace(crystal.recilat, ecut_wfn=50.0, grid_shape=(24, 24, 24))\n",
      "gwfn.num_g      = 4477\n",
      "numbnd          = 4\n",
      "is_spin         = False\n",
      "is_noncolin     = False\n",
      "symm_rho        = True\n",
      "rho_start       = <qtm.containers.field.get_FieldG.<locals>.FieldG object at 0x7ee37475bb90>\n",
      "wfn_init        = None\n",
      "libxc_func      = None\n",
      "occ_typ         = fixed\n",
      "smear_typ       = gauss\n",
      "e_temp          = 0.001 # Ha\n",
      "conv_thr        = 5e-09 # Ha\n",
      "maxiter         = 100\n",
      "diago_thr_init  = 0.005\n",
      "mix_beta        = 0.7\n",
      "mix_dim         = 8\n",
      "ret_vxc         = True\n",
      "dftconfig       = DFTConfig(\n",
      "                      symm_check_supercell = True,\n",
      "                      symm_use_all_frac = False,\n",
      "                      spglib_symprec = 1e-05,\n",
      "                      eigsolve_method = 'davidson',\n",
      "                      davidson_maxiter = 20,\n",
      "                      davidson_numwork = 2,\n",
      "                      mixing_method = 'modbroyden')\n",
      "iter_printer    = print_scf_status\n",
      "kpts            =\n",
      "    kpt[0]  kpt[1]  kpt[2];  weight\n",
      "     0.0000  0.0000  0.0000; 0.015625\n",
      "     0.0000  0.0000  0.2500; 0.015625\n",
      "     0.0000  0.0000  0.5000; 0.015625\n",
      "     0.0000  0.0000  0.7500; 0.015625\n",
      "     0.0000  0.2500  0.0000; 0.015625\n",
      "     0.0000  0.2500  0.2500; 0.015625\n",
      "     0.0000  0.2500  0.5000; 0.015625\n",
      "     0.0000  0.2500  0.7500; 0.015625\n",
      "     0.0000  0.5000  0.0000; 0.015625\n",
      "     0.0000  0.5000  0.2500; 0.015625\n",
      "     0.0000  0.5000  0.5000; 0.015625\n",
      "     0.0000  0.5000  0.7500; 0.015625\n",
      "     0.0000  0.7500  0.0000; 0.015625\n",
      "     0.0000  0.7500  0.2500; 0.015625\n",
      "     0.0000  0.7500  0.5000; 0.015625\n",
      "     0.0000  0.7500  0.7500; 0.015625\n",
      "     0.2500  0.0000  0.0000; 0.015625\n",
      "     0.2500  0.0000  0.2500; 0.015625\n",
      "     0.2500  0.0000  0.5000; 0.015625\n",
      "     0.2500  0.0000  0.7500; 0.015625\n",
      "     0.2500  0.2500  0.0000; 0.015625\n",
      "     0.2500  0.2500  0.2500; 0.015625\n",
      "     0.2500  0.2500  0.5000; 0.015625\n",
      "     0.2500  0.2500  0.7500; 0.015625\n",
      "     0.2500  0.5000  0.0000; 0.015625\n",
      "     0.2500  0.5000  0.2500; 0.015625\n",
      "     0.2500  0.5000  0.5000; 0.015625\n",
      "     0.2500  0.5000  0.7500; 0.015625\n",
      "     0.2500  0.7500  0.0000; 0.015625\n",
      "     0.2500  0.7500  0.2500; 0.015625\n",
      "     0.2500  0.7500  0.5000; 0.015625\n",
      "     0.2500  0.7500  0.7500; 0.015625\n",
      "     0.5000  0.0000  0.0000; 0.015625\n",
      "     0.5000  0.0000  0.2500; 0.015625\n",
      "     0.5000  0.0000  0.5000; 0.015625\n",
      "     0.5000  0.0000  0.7500; 0.015625\n",
      "     0.5000  0.2500  0.0000; 0.015625\n",
      "     0.5000  0.2500  0.2500; 0.015625\n",
      "     0.5000  0.2500  0.5000; 0.015625\n",
      "     0.5000  0.2500  0.7500; 0.015625\n",
      "     0.5000  0.5000  0.0000; 0.015625\n",
      "     0.5000  0.5000  0.2500; 0.015625\n",
      "     0.5000  0.5000  0.5000; 0.015625\n",
      "     0.5000  0.5000  0.7500; 0.015625\n",
      "     0.5000  0.7500  0.0000; 0.015625\n",
      "     0.5000  0.7500  0.2500; 0.015625\n",
      "     0.5000  0.7500  0.5000; 0.015625\n",
      "     0.5000  0.7500  0.7500; 0.015625\n",
      "     0.7500  0.0000  0.0000; 0.015625\n",
      "     0.7500  0.0000  0.2500; 0.015625\n",
      "     0.7500  0.0000  0.5000; 0.015625\n",
      "     0.7500  0.0000  0.7500; 0.015625\n",
      "     0.7500  0.2500  0.0000; 0.015625\n",
      "     0.7500  0.2500  0.2500; 0.015625\n",
      "     0.7500  0.2500  0.5000; 0.015625\n",
      "     0.7500  0.2500  0.7500; 0.015625\n",
      "     0.7500  0.5000  0.0000; 0.015625\n",
      "     0.7500  0.5000  0.2500; 0.015625\n",
      "     0.7500  0.5000  0.5000; 0.015625\n",
      "     0.7500  0.5000  0.7500; 0.015625\n",
      "     0.7500  0.7500  0.0000; 0.015625\n",
      "     0.7500  0.7500  0.2500; 0.015625\n",
      "     0.7500  0.7500  0.5000; 0.015625\n",
      "     0.7500  0.7500  0.7500; 0.015625\n",
      "\n",
      "=========================================\n",
      "Iteration # 1, Run Time:   2.8 sec\n",
      "Convergence Status   : NOT Converged\n",
      "SCF Error           : 5.4440e-02 Ry\n",
      "Avg Diago Iterations: 8.2\n",
      "Diago Threshold     : 6.81e-04 Ry\n",
      "\n",
      "Total Energy:          -15.93326073 Ry\n",
      "\n",
      "      one-el:            4.87213955 Ry\n",
      "     Hartree:            0.80672099 Ry\n",
      "          XC:           -4.71236258 Ry\n",
      "       Ewald:          -16.89975869 Ry\n",
      "\n",
      "    HO Level:            8.64448410 eV\n",
      "----------------------------------------\n",
      "\n",
      "Iteration # 2, Run Time:   3.7 sec\n",
      "Convergence Status   : NOT Converged\n",
      "SCF Error           : 6.0246e-02 Ry\n",
      "Avg Diago Iterations: 2.8\n",
      "Diago Threshold     : 6.81e-04 Ry\n",
      "\n",
      "Total Energy:          -15.96500856 Ry\n",
      "\n",
      "      one-el:            4.84039172 Ry\n",
      "     Hartree:            0.80672099 Ry\n",
      "          XC:           -4.71236258 Ry\n",
      "       Ewald:          -16.89975869 Ry\n",
      "\n",
      "    HO Level:            5.90455070 eV\n",
      "----------------------------------------\n",
      "\n",
      "Iteration # 3, Run Time:   4.5 sec\n",
      "Convergence Status   : NOT Converged\n",
      "SCF Error           : 2.6113e-03 Ry\n",
      "Avg Diago Iterations: 1.1\n",
      "Diago Threshold     : 3.26e-05 Ry\n",
      "\n",
      "Total Energy:          -15.77463824 Ry\n",
      "\n",
      "      one-el:            4.87902159 Ry\n",
      "     Hartree:            1.06665705 Ry\n",
      "          XC:           -4.82055819 Ry\n",
      "       Ewald:          -16.89975869 Ry\n",
      "\n",
      "    HO Level:            6.41047703 eV\n",
      "----------------------------------------\n",
      "\n",
      "Iteration # 4, Run Time:   5.4 sec\n",
      "Convergence Status   : NOT Converged\n",
      "SCF Error           : 5.0592e-05 Ry\n",
      "Avg Diago Iterations: 3.2\n",
      "Diago Threshold     : 6.32e-07 Ry\n",
      "\n",
      "Total Energy:          -15.74261764 Ry\n",
      "\n",
      "      one-el:            4.88819031 Ry\n",
      "     Hartree:            1.11624272 Ry\n",
      "          XC:           -4.84729198 Ry\n",
      "       Ewald:          -16.89975869 Ry\n",
      "\n",
      "    HO Level:            6.48973416 eV\n",
      "----------------------------------------\n",
      "\n",
      "Iteration # 5, Run Time:   6.6 sec\n",
      "Convergence Status   : NOT Converged\n",
      "SCF Error           : 4.7962e-07 Ry\n",
      "Avg Diago Iterations: 4.5\n",
      "Diago Threshold     : 6.00e-09 Ry\n",
      "\n",
      "Total Energy:          -15.74908298 Ry\n",
      "\n",
      "      one-el:            4.88759880 Ry\n",
      "     Hartree:            1.10800127 Ry\n",
      "          XC:           -4.84492435 Ry\n",
      "       Ewald:          -16.89975869 Ry\n",
      "\n",
      "    HO Level:            6.47252561 eV\n",
      "----------------------------------------\n",
      "\n",
      "Iteration # 6, Run Time:   8.1 sec\n",
      "Convergence Status   : NOT Converged\n",
      "SCF Error           : 1.5441e-08 Ry\n",
      "Avg Diago Iterations: 5.2\n",
      "Diago Threshold     : 1.93e-10 Ry\n",
      "\n",
      "Total Energy:          -15.74871215 Ry\n",
      "\n",
      "      one-el:            4.88766952 Ry\n",
      "     Hartree:            1.10872594 Ry\n",
      "          XC:           -4.84534891 Ry\n",
      "       Ewald:          -16.89975869 Ry\n",
      "\n",
      "    HO Level:            6.47364100 eV\n",
      "----------------------------------------\n",
      "\n",
      "Iteration # 7, Run Time:   9.0 sec\n",
      "Convergence Status   :  Converged\n",
      "SCF Error           : 9.5140e-10 Ry\n",
      "Avg Diago Iterations: 3.5\n",
      "Diago Threshold     : 1.93e-10 Ry\n",
      "\n",
      "Total Energy:          -15.74870223 Ry\n",
      "\n",
      "      one-el:            4.88763523 Ry\n",
      "     Hartree:            1.10876278 Ry\n",
      "          XC:           -4.84534154 Ry\n",
      "       Ewald:          -16.89975869 Ry\n",
      "\n",
      "    HO Level:            6.47372850 eV\n",
      "----------------------------------------\n",
      "\n",
      "SCF Converged.\n",
      "SCF Routine has exited\n"
     ]
    }
   ],
   "source": [
    "from qtm.kpts import KList\n",
    "\n",
    "\n",
    "kpts = KList(recilat=crystal.recilat, k_coords=kpts.k_cryst, k_weights=np.ones(kpts.k_cryst.shape[1])/kpts.k_cryst.shape[1])\n",
    "\n",
    "scf_out = scf(dftcomm, crystal, kpts, grho, gwfn,\n",
    "          numbnd_occ, is_spin, is_noncolin,\n",
    "          rho_start=mag_start, occ_typ=occ,\n",
    "          conv_thr=conv_thr, diago_thr_init=diago_thr_init,\n",
    "          iter_printer=print_scf_status,\n",
    "          ret_vxc=True)\n",
    "\n",
    "\n",
    "print(\"SCF Routine has exited\")\n",
    "# print(qtmlogger)"
   ]
  },
  {
   "cell_type": "markdown",
   "metadata": {},
   "source": [
    "#### DFT: NSCF calculation for unshifted grid\n",
    "Observe that `maxiter` has been set to `1` and `diago_thr_init` has been set to a high value."
   ]
  },
  {
   "cell_type": "code",
   "execution_count": 9,
   "metadata": {},
   "outputs": [
    {
     "name": "stdout",
     "output_type": "stream",
     "text": [
      "Quantum MASALA\n",
      " - Project Git Info:\n",
      "    - Commit hash:          2f462d3a6c98be4d844a5d27f723e05ac1aff676\n",
      "    - Commit date and time: Wednesday, 16 October, 2024 16:38:50\n",
      "=========================================\n",
      "SCF Parameters:\n",
      "\n",
      "dftcomm         = DFTCommMod(image_comm.size=1, n_kgrp=1, n_bgrp=1, pwgrp_size=None)\n",
      "crystal         = Crystal(\n",
      "    reallat=Lattice parameter 'alat' :   10.20000  a.u.\n",
      "Unit cell volume         :  265.30200  (a.u.)^3\n",
      "Number of atoms/cell     : 1\n",
      "Number of atomic types   : 1\n",
      "Number of electrons      : 16\n",
      "\n",
      "Crystal Axes: coordinates in units of 'alat' (10.20000 a.u.)\n",
      "    a(1) = (-0.50000,  0.00000,  0.50000)\n",
      "    a(2) = ( 0.00000,  0.50000,  0.50000)\n",
      "    a(3) = (-0.50000,  0.50000,  0.00000)\n",
      "\n",
      "Reciprocal Axes: coordinates in units of 'tpiba' (0.61600 (a.u.)^-1)\n",
      "    b(1) = (-1.00000, -1.00000,  1.00000)\n",
      "    b(2) = ( 1.00000,  1.00000,  1.00000)\n",
      "    b(3) = (-1.00000,  1.00000, -1.00000), \n",
      "    l_atoms=[\n",
      "    \tBasisAtoms(\n",
      "    \t  label='Si', \n",
      "    \t  ppdata.filename=Si_ONCV_PBE-1.2.upf, \n",
      "    \t  ppdata.md5_checksum=7f029a58b69e3aa87b46a36c608bf45e, \n",
      "    \t  mass=28.086, \n",
      "    \t  r_cryst=\n",
      "    \t    [-0.875,  2.625, -0.875],\n",
      "    \t    [-0.125,  0.375, -0.125],\n",
      "    \t  )\n",
      "    \t])\n",
      "grho            = GSpace(crystal.recilat, ecut_rho=50.0, grid_shape=(24, 24, 24))\n",
      "grho.num_g      = 4477\n",
      "gwfn            = GSpace(crystal.recilat, ecut_wfn=50.0, grid_shape=(24, 24, 24))\n",
      "gwfn.num_g      = 4477\n",
      "numbnd          = 30\n",
      "is_spin         = False\n",
      "is_noncolin     = False\n",
      "symm_rho        = True\n",
      "rho_start       = <qtm.containers.field.get_FieldG.<locals>.FieldG object at 0x7ee3757b4110>\n",
      "wfn_init        = None\n",
      "libxc_func      = None\n",
      "occ_typ         = fixed\n",
      "smear_typ       = gauss\n",
      "e_temp          = 0.001 # Ha\n",
      "conv_thr        = 5e-09 # Ha\n",
      "maxiter         = 1\n",
      "diago_thr_init  = 6.25e-11\n",
      "mix_beta        = 0.7\n",
      "mix_dim         = 8\n",
      "ret_vxc         = True\n",
      "dftconfig       = DFTConfig(\n",
      "                      symm_check_supercell = True,\n",
      "                      symm_use_all_frac = False,\n",
      "                      spglib_symprec = 1e-05,\n",
      "                      eigsolve_method = 'davidson',\n",
      "                      davidson_maxiter = 20,\n",
      "                      davidson_numwork = 2,\n",
      "                      mixing_method = 'modbroyden')\n",
      "iter_printer    = print_scf_status\n",
      "kpts            =\n",
      "    kpt[0]  kpt[1]  kpt[2];  weight\n",
      "     0.0000  0.0000  0.0000; 0.015625\n",
      "     0.0000  0.0000  0.2500; 0.015625\n",
      "     0.0000  0.0000  0.5000; 0.015625\n",
      "     0.0000  0.0000  0.7500; 0.015625\n",
      "     0.0000  0.2500  0.0000; 0.015625\n",
      "     0.0000  0.2500  0.2500; 0.015625\n",
      "     0.0000  0.2500  0.5000; 0.015625\n",
      "     0.0000  0.2500  0.7500; 0.015625\n",
      "     0.0000  0.5000  0.0000; 0.015625\n",
      "     0.0000  0.5000  0.2500; 0.015625\n",
      "     0.0000  0.5000  0.5000; 0.015625\n",
      "     0.0000  0.5000  0.7500; 0.015625\n",
      "     0.0000  0.7500  0.0000; 0.015625\n",
      "     0.0000  0.7500  0.2500; 0.015625\n",
      "     0.0000  0.7500  0.5000; 0.015625\n",
      "     0.0000  0.7500  0.7500; 0.015625\n",
      "     0.2500  0.0000  0.0000; 0.015625\n",
      "     0.2500  0.0000  0.2500; 0.015625\n",
      "     0.2500  0.0000  0.5000; 0.015625\n",
      "     0.2500  0.0000  0.7500; 0.015625\n",
      "     0.2500  0.2500  0.0000; 0.015625\n",
      "     0.2500  0.2500  0.2500; 0.015625\n",
      "     0.2500  0.2500  0.5000; 0.015625\n",
      "     0.2500  0.2500  0.7500; 0.015625\n",
      "     0.2500  0.5000  0.0000; 0.015625\n",
      "     0.2500  0.5000  0.2500; 0.015625\n",
      "     0.2500  0.5000  0.5000; 0.015625\n",
      "     0.2500  0.5000  0.7500; 0.015625\n",
      "     0.2500  0.7500  0.0000; 0.015625\n",
      "     0.2500  0.7500  0.2500; 0.015625\n",
      "     0.2500  0.7500  0.5000; 0.015625\n",
      "     0.2500  0.7500  0.7500; 0.015625\n",
      "     0.5000  0.0000  0.0000; 0.015625\n",
      "     0.5000  0.0000  0.2500; 0.015625\n",
      "     0.5000  0.0000  0.5000; 0.015625\n",
      "     0.5000  0.0000  0.7500; 0.015625\n",
      "     0.5000  0.2500  0.0000; 0.015625\n",
      "     0.5000  0.2500  0.2500; 0.015625\n",
      "     0.5000  0.2500  0.5000; 0.015625\n",
      "     0.5000  0.2500  0.7500; 0.015625\n",
      "     0.5000  0.5000  0.0000; 0.015625\n",
      "     0.5000  0.5000  0.2500; 0.015625\n",
      "     0.5000  0.5000  0.5000; 0.015625\n",
      "     0.5000  0.5000  0.7500; 0.015625\n",
      "     0.5000  0.7500  0.0000; 0.015625\n",
      "     0.5000  0.7500  0.2500; 0.015625\n",
      "     0.5000  0.7500  0.5000; 0.015625\n",
      "     0.5000  0.7500  0.7500; 0.015625\n",
      "     0.7500  0.0000  0.0000; 0.015625\n",
      "     0.7500  0.0000  0.2500; 0.015625\n",
      "     0.7500  0.0000  0.5000; 0.015625\n",
      "     0.7500  0.0000  0.7500; 0.015625\n",
      "     0.7500  0.2500  0.0000; 0.015625\n",
      "     0.7500  0.2500  0.2500; 0.015625\n",
      "     0.7500  0.2500  0.5000; 0.015625\n",
      "     0.7500  0.2500  0.7500; 0.015625\n",
      "     0.7500  0.5000  0.0000; 0.015625\n",
      "     0.7500  0.5000  0.2500; 0.015625\n",
      "     0.7500  0.5000  0.5000; 0.015625\n",
      "     0.7500  0.5000  0.7500; 0.015625\n",
      "     0.7500  0.7500  0.0000; 0.015625\n",
      "     0.7500  0.7500  0.2500; 0.015625\n",
      "     0.7500  0.7500  0.5000; 0.015625\n",
      "     0.7500  0.7500  0.7500; 0.015625\n",
      "\n",
      "=========================================\n",
      "Iteration # 1, Run Time:  26.5 sec\n",
      "Convergence Status   :  Converged\n",
      "SCF Error           : 1.0358e-09 Ry\n",
      "Avg Diago Iterations: 20.0\n",
      "Diago Threshold     : 1.25e-10 Ry\n",
      "\n",
      "Total Energy:          -15.74870223 Ry\n",
      "\n",
      "      one-el:            4.88763523 Ry\n",
      "     Hartree:            1.10876278 Ry\n",
      "          XC:           -4.84534154 Ry\n",
      "       Ewald:          -16.89975869 Ry\n",
      "\n",
      "    HO Level:            6.47372849 eV\n",
      "    LU Level:            7.11966152 eV\n",
      "----------------------------------------\n",
      "\n",
      "SCF Converged.\n"
     ]
    }
   ],
   "source": [
    "rho = scf_out[1].copy()\n",
    "nscf_out = scf(dftcomm, crystal, kpts, grho, gwfn,\n",
    "          numbnd_nscf, is_spin, is_noncolin,\n",
    "          rho_start=rho, \n",
    "          occ_typ=occ,\n",
    "          conv_thr=conv_thr, \n",
    "          diago_thr_init=(conv_thr/crystal.numel)/10,\n",
    "          iter_printer=print_scf_status,\n",
    "          maxiter=1,\n",
    "          ret_vxc=True)\n",
    "\n",
    "scf_converged_nscf, rho_nscf, l_wfn_kgrp, en_nscf, vxc = nscf_out"
   ]
  },
  {
   "cell_type": "markdown",
   "metadata": {},
   "source": [
    "#### DFT: NSCF calculation for shifted grid\n",
    "\n",
    "Dielectric matrix calculation for the $q\\to 0$ point will require energy eigenfunctions for a slightly shifted $k$-grid."
   ]
  },
  {
   "cell_type": "code",
   "execution_count": 10,
   "metadata": {},
   "outputs": [
    {
     "name": "stdout",
     "output_type": "stream",
     "text": [
      "Quantum MASALA\n",
      " - Project Git Info:\n",
      "    - Commit hash:          2f462d3a6c98be4d844a5d27f723e05ac1aff676\n",
      "    - Commit date and time: Wednesday, 16 October, 2024 16:38:50\n",
      "=========================================\n",
      "SCF Parameters:\n",
      "\n",
      "dftcomm         = DFTCommMod(image_comm.size=1, n_kgrp=1, n_bgrp=1, pwgrp_size=None)\n",
      "crystal         = Crystal(\n",
      "    reallat=Lattice parameter 'alat' :   10.20000  a.u.\n",
      "Unit cell volume         :  265.30200  (a.u.)^3\n",
      "Number of atoms/cell     : 1\n",
      "Number of atomic types   : 1\n",
      "Number of electrons      : 16\n",
      "\n",
      "Crystal Axes: coordinates in units of 'alat' (10.20000 a.u.)\n",
      "    a(1) = (-0.50000,  0.00000,  0.50000)\n",
      "    a(2) = ( 0.00000,  0.50000,  0.50000)\n",
      "    a(3) = (-0.50000,  0.50000,  0.00000)\n",
      "\n",
      "Reciprocal Axes: coordinates in units of 'tpiba' (0.61600 (a.u.)^-1)\n",
      "    b(1) = (-1.00000, -1.00000,  1.00000)\n",
      "    b(2) = ( 1.00000,  1.00000,  1.00000)\n",
      "    b(3) = (-1.00000,  1.00000, -1.00000), \n",
      "    l_atoms=[\n",
      "    \tBasisAtoms(\n",
      "    \t  label='Si', \n",
      "    \t  ppdata.filename=Si_ONCV_PBE-1.2.upf, \n",
      "    \t  ppdata.md5_checksum=7f029a58b69e3aa87b46a36c608bf45e, \n",
      "    \t  mass=28.086, \n",
      "    \t  r_cryst=\n",
      "    \t    [-0.875,  2.625, -0.875],\n",
      "    \t    [-0.125,  0.375, -0.125],\n",
      "    \t  )\n",
      "    \t])\n",
      "grho            = GSpace(crystal.recilat, ecut_rho=50.0, grid_shape=(24, 24, 24))\n",
      "grho.num_g      = 4477\n",
      "gwfn            = GSpace(crystal.recilat, ecut_wfn=50.0, grid_shape=(24, 24, 24))\n",
      "gwfn.num_g      = 4477\n",
      "numbnd          = 30\n",
      "is_spin         = False\n",
      "is_noncolin     = False\n",
      "symm_rho        = True\n",
      "rho_start       = <qtm.containers.field.get_FieldG.<locals>.FieldG object at 0x7ee37d33b450>\n",
      "wfn_init        = None\n",
      "libxc_func      = None\n",
      "occ_typ         = fixed\n",
      "smear_typ       = gauss\n",
      "e_temp          = 0.001 # Ha\n",
      "conv_thr        = 5e-09 # Ha\n",
      "maxiter         = 1\n",
      "diago_thr_init  = 6.25e-11\n",
      "mix_beta        = 0.7\n",
      "mix_dim         = 8\n",
      "ret_vxc         = False\n",
      "dftconfig       = DFTConfig(\n",
      "                      symm_check_supercell = True,\n",
      "                      symm_use_all_frac = False,\n",
      "                      spglib_symprec = 1e-05,\n",
      "                      eigsolve_method = 'davidson',\n",
      "                      davidson_maxiter = 20,\n",
      "                      davidson_numwork = 2,\n",
      "                      mixing_method = 'modbroyden')\n",
      "iter_printer    = print_scf_status\n",
      "kpts            =\n",
      "    kpt[0]  kpt[1]  kpt[2];  weight\n",
      "     0.0000  0.0000  0.0010; 0.015625\n",
      "     0.0000  0.0000  0.2510; 0.015625\n",
      "     0.0000  0.0000  0.5010; 0.015625\n",
      "     0.0000  0.0000  0.7510; 0.015625\n",
      "     0.0000  0.2500  0.0010; 0.015625\n",
      "     0.0000  0.2500  0.2510; 0.015625\n",
      "     0.0000  0.2500  0.5010; 0.015625\n",
      "     0.0000  0.2500  0.7510; 0.015625\n",
      "     0.0000  0.5000  0.0010; 0.015625\n",
      "     0.0000  0.5000  0.2510; 0.015625\n",
      "     0.0000  0.5000  0.5010; 0.015625\n",
      "     0.0000  0.5000  0.7510; 0.015625\n",
      "     0.0000  0.7500  0.0010; 0.015625\n",
      "     0.0000  0.7500  0.2510; 0.015625\n",
      "     0.0000  0.7500  0.5010; 0.015625\n",
      "     0.0000  0.7500  0.7510; 0.015625\n",
      "     0.2500  0.0000  0.0010; 0.015625\n",
      "     0.2500  0.0000  0.2510; 0.015625\n",
      "     0.2500  0.0000  0.5010; 0.015625\n",
      "     0.2500  0.0000  0.7510; 0.015625\n",
      "     0.2500  0.2500  0.0010; 0.015625\n",
      "     0.2500  0.2500  0.2510; 0.015625\n",
      "     0.2500  0.2500  0.5010; 0.015625\n",
      "     0.2500  0.2500  0.7510; 0.015625\n",
      "     0.2500  0.5000  0.0010; 0.015625\n",
      "     0.2500  0.5000  0.2510; 0.015625\n",
      "     0.2500  0.5000  0.5010; 0.015625\n",
      "     0.2500  0.5000  0.7510; 0.015625\n",
      "     0.2500  0.7500  0.0010; 0.015625\n",
      "     0.2500  0.7500  0.2510; 0.015625\n",
      "     0.2500  0.7500  0.5010; 0.015625\n",
      "     0.2500  0.7500  0.7510; 0.015625\n",
      "     0.5000  0.0000  0.0010; 0.015625\n",
      "     0.5000  0.0000  0.2510; 0.015625\n",
      "     0.5000  0.0000  0.5010; 0.015625\n",
      "     0.5000  0.0000  0.7510; 0.015625\n",
      "     0.5000  0.2500  0.0010; 0.015625\n",
      "     0.5000  0.2500  0.2510; 0.015625\n",
      "     0.5000  0.2500  0.5010; 0.015625\n",
      "     0.5000  0.2500  0.7510; 0.015625\n",
      "     0.5000  0.5000  0.0010; 0.015625\n",
      "     0.5000  0.5000  0.2510; 0.015625\n",
      "     0.5000  0.5000  0.5010; 0.015625\n",
      "     0.5000  0.5000  0.7510; 0.015625\n",
      "     0.5000  0.7500  0.0010; 0.015625\n",
      "     0.5000  0.7500  0.2510; 0.015625\n",
      "     0.5000  0.7500  0.5010; 0.015625\n",
      "     0.5000  0.7500  0.7510; 0.015625\n",
      "     0.7500  0.0000  0.0010; 0.015625\n",
      "     0.7500  0.0000  0.2510; 0.015625\n",
      "     0.7500  0.0000  0.5010; 0.015625\n",
      "     0.7500  0.0000  0.7510; 0.015625\n",
      "     0.7500  0.2500  0.0010; 0.015625\n",
      "     0.7500  0.2500  0.2510; 0.015625\n",
      "     0.7500  0.2500  0.5010; 0.015625\n",
      "     0.7500  0.2500  0.7510; 0.015625\n",
      "     0.7500  0.5000  0.0010; 0.015625\n",
      "     0.7500  0.5000  0.2510; 0.015625\n",
      "     0.7500  0.5000  0.5010; 0.015625\n",
      "     0.7500  0.5000  0.7510; 0.015625\n",
      "     0.7500  0.7500  0.0010; 0.015625\n",
      "     0.7500  0.7500  0.2510; 0.015625\n",
      "     0.7500  0.7500  0.5010; 0.015625\n",
      "     0.7500  0.7500  0.7510; 0.015625\n",
      "\n",
      "=========================================\n",
      "Iteration # 1, Run Time:  26.4 sec\n",
      "Convergence Status   :  Converged\n",
      "SCF Error           : 1.2298e-09 Ry\n",
      "Avg Diago Iterations: 20.0\n",
      "Diago Threshold     : 1.25e-10 Ry\n",
      "\n",
      "Total Energy:          -15.74870474 Ry\n",
      "\n",
      "      one-el:            4.88763272 Ry\n",
      "     Hartree:            1.10876278 Ry\n",
      "          XC:           -4.84534154 Ry\n",
      "       Ewald:          -16.89975869 Ry\n",
      "\n",
      "    HO Level:            6.47370481 eV\n",
      "    LU Level:            7.11794413 eV\n",
      "----------------------------------------\n",
      "\n",
      "SCF Converged.\n",
      "Shifted SCF Routine has exited\n"
     ]
    }
   ],
   "source": [
    "k_coords_q = kpts.k_cryst+np.array([[0,0,0.001]]).T\n",
    "k_weights_q = np.ones(k_coords_q.shape[1])/k_coords_q.shape[1]\n",
    "kpts_q = KList(recilat=crystal.recilat, k_coords=k_coords_q, k_weights=k_weights_q)\n",
    "\n",
    "rho = scf_out[1].copy()\n",
    "out_q = scf(dftcomm, crystal, kpts_q, grho, gwfn,\n",
    "          numbnd_nscf, is_spin, is_noncolin,\n",
    "          rho_start=rho, \n",
    "          occ_typ=occ,\n",
    "          conv_thr=conv_thr, \n",
    "          diago_thr_init=(conv_thr/crystal.numel)/10,\n",
    "          iter_printer=print_scf_status,\n",
    "          maxiter=1)\n",
    "\n",
    "scf_converged_nscf_q, rho_nscf_q, l_wfn_kgrp_q, en_nscf_q = out_q\n",
    "\n",
    "\n",
    "print(\"Shifted SCF Routine has exited\")\n",
    "# print(qtmlogger)"
   ]
  },
  {
   "cell_type": "markdown",
   "metadata": {},
   "source": [
    "### Load Input Files\n",
    "Input data is handled by the ``EpsInp`` class.\\\n",
    "The data can be provided either by constructing the ``EpsInp`` object or by reading BGW-compatible input file ``epsilon.inp``.\\\n",
    "The attributes have been supplied with docstrings from BerkeleyGW's input specification, so they will be accessible directly in most IDEs."
   ]
  },
  {
   "cell_type": "code",
   "execution_count": 11,
   "metadata": {},
   "outputs": [],
   "source": [
    "from qtm.interfaces.bgw.epsinp import Epsinp\n",
    "\n",
    "# Constructing input manually\n",
    "# epsinp = Epsinp(epsilon_cutoff=1.2,\n",
    "#                 use_wfn_hdf5=True,\n",
    "#                 number_bands=8,\n",
    "#                 write_vcoul=True,\n",
    "#                 qpts=[[0.0,0.0,0.0]],\n",
    "#                 is_q0=[True])\n",
    "\n",
    "# Reading from epsilon.inp file\n",
    "epsinp = Epsinp.from_epsilon_inp(filename=dirname+'epsilon.inp')\n",
    "# print(epsinp)\n",
    "\n",
    "# There is an analogous system to read SigmaInp\n",
    "from qtm.interfaces.bgw.sigmainp import Sigmainp\n",
    "sigmainp = Sigmainp.from_sigma_inp(filename=dirname+'sigma.inp')\n",
    "# print(sigmainp)"
   ]
  },
  {
   "cell_type": "markdown",
   "metadata": {},
   "source": [
    "### Initialize Epsilon Class\n",
    "\n",
    "``Epsilon`` class can be initialized by either directly passing the required `quantummasala.core` objects or by passing the input objects discussed earlier."
   ]
  },
  {
   "cell_type": "code",
   "execution_count": 12,
   "metadata": {},
   "outputs": [
    {
     "name": "stderr",
     "output_type": "stream",
     "text": [
      "Vcoul calculation for qpts: 100%|██████████| 64/64 [00:00<00:00, 9426.40it/s]\n"
     ]
    }
   ],
   "source": [
    "from qtm.gw.core import QPoints\n",
    "from qtm.gw.epsilon import Epsilon\n",
    "from qtm.klist import KList\n",
    "\n",
    "kpts_gw =   KList(recilat=kpts.recilat,   cryst=kpts.k_cryst.T,   weights=kpts.k_weights)\n",
    "kpts_gw_q = KList(recilat=kpts_q.recilat, cryst=kpts_q.k_cryst.T, weights=kpts_q.k_weights)\n",
    "\n",
    "# Manual initialization\n",
    "epsilon = Epsilon(\n",
    "    crystal = crystal,\n",
    "    gspace = grho,\n",
    "    kpts = kpts_gw,\n",
    "    kptsq = kpts_gw_q,        \n",
    "    l_wfn = l_wfn_kgrp,\n",
    "    l_wfnq = l_wfn_kgrp_q,\n",
    "    qpts = QPoints.from_cryst(kpts.recilat, epsinp.is_q0, *epsinp.qpts),\n",
    "    epsinp = epsinp,\n",
    ")\n",
    "\n",
    "# epsilon = Epsilon.from_data(wfndata=wfndata, wfnqdata=wfnqdata, epsinp=epsinp)"
   ]
  },
  {
   "cell_type": "markdown",
   "metadata": {},
   "source": [
    "The three main steps involved in the calculation have been mapped to the corresponding functions:\n",
    "1.  ``matrix_elements``: Calculation of Planewave Matrix elements\n",
    "2.  ``polarizability``: Calculation of RPA polarizability matrix $P$\n",
    "3.  ``epsilon_inverse``: Calculation of (static) epsilon-inverse matrix\n",
    "\n",
    "<!-- 1.  ``matrix_elements``: Calculation of Planewave Matrix elements\n",
    "    $$M_{nn'}({\\textbf k},{\\textbf q},{\\textbf G}) = \\bra{n\\,{\\textbf k}{+}{\\textbf q}}e^{i({\\textbf q}+{\\textbf G})\\cdot{\\textbf r}}\\ket{n'\\,\\textbf k}$$\n",
    "    where the $\\textbf G$-vectors included in the calculation satisfy $|\\textbf q + \\textbf G|^2 < E_{\\text{cut}}$.\n",
    "    Since this is a convolution in k-space, the time complexity can be reduced from $\\mathcal{O}\\left(N^2_G\\right)$ to $\\mathcal{O}\\left(N_G\\ln N_G\\right)$ by using Fast Fourier Transform, where $N_G$  the number of reciprocal lattice vectors in the wavefunction.\n",
    "    $$\n",
    "    M_{nn'}({\\bf k},{\\bf q},\\{{\\bf G}\\}) = {\\rm FFT}^{-1}\\left( \\phi^{*}_{n,{\\bf k}+{\\bf q} }({\\bf r}) \\phi_{n',{\\bf k} }({\\bf r}) \\right).\n",
    "    $$\n",
    "    where $\\phi_{n',{\\bf k}}({\\bf r}) = {\\rm FFT}\\left( \\psi_{n\\bf k}(\\bf G)\\right)$. \n",
    "    \n",
    "2.  ``polarizability``: Calculation of RPA polarizability matrix $P$\n",
    "    $$\n",
    "        P_{\\textbf{GG'}}{\\left({\\textbf q}\\;\\!;0\\right)}=\n",
    "        \\,\\,{}\\sum_{n}^{\\textrm occ}\\sum_{n'}^{\\textrm emp}\\sum_{{\\textbf k}}\n",
    "        \\frac{\n",
    "        \\bra{n'\\textbf k}e^{-i({\\textbf q}+{\\textbf G})\\cdot{\\textbf r}}\\ket{n{\\textbf k}{+}{\\textbf q}}\n",
    "        \\bra{n{\\textbf k}{+}{\\textbf q}}e^{i({\\textbf q}+{\\textbf G'})\\cdot{\\textbf r}}\\ket{n'\\textbf k}\n",
    "        }{E_{n{\\textbf k}{+}{\\textbf q}}\\,{-}\\,E_{n'{\\textbf k}}}.\n",
    "    $$\n",
    "3.  ``epsilon_inverse``: Calculation of (static) epsilon-inverse matrix\n",
    "    $$\n",
    "        \\epsilon_{\\textbf{GG'}}{\\left({\\textbf q}\\;\\!\\right)}=\n",
    "        \\delta_{\\textbf{GG'}}\\,{-}\\,v{\\left({\\textbf q}{+}{\\textbf G}\\right)} \\,\n",
    "        P_{\\textbf{GG'}}{\\left({\\textbf q}\\;\\!\\right)}\n",
    "    $$\n",
    "    where $ v(\\textbf{q} + \\textbf{G}) = \\frac{8\\pi}{\\left|\\textbf q + \\textbf G\\right|^2} $ is bare Coulomb potential, written in Rydberg units. If this formula is used as-is for the case where $|\\textbf q| = |\\textbf G| = 0$, the resulting $v\\left({\\textbf{q=0}, \\textbf{G=0}}\\;\\!\\right)$ blows up as $1/q^2$. However, for 3D gapped systems, the matrix elements $\\big| M_{nn'}\\left({\\bf k},{\\textbf{q}\\to\\textbf{0}},{\\textbf{G=0}}\\right)\\big| \\sim q$ cancel the Coulomb divergence and $\\epsilon_{\\textbf{00}}\\left({\\textbf q\\to\\textbf{0}}\\;\\!\\right) \\sim q^2/q^2$ which is a finite number. In order to calculate $\\epsilon_{\\textbf{00}}\\left({\\textbf q=\\textbf{0}}\\;\\!\\right)$, we use the scheme specified in BGW2012, wherein $q=0$ is replaced with a small but non-zero value. Since matrix element calculation involves the eigenvectors $\\ket{n{\\textbf k}{+}{\\textbf q}}$, having a non-$\\Gamma$-centered $\\textbf q\\to 0$ point requires mean-field eigenvectors over a shifted $k$-grid. -->"
   ]
  },
  {
   "cell_type": "code",
   "execution_count": 13,
   "metadata": {},
   "outputs": [
    {
     "name": "stderr",
     "output_type": "stream",
     "text": [
      "Epsilon> q-pt index:   0%|          | 0/64 [00:00<?, ?it/s]"
     ]
    },
    {
     "name": "stderr",
     "output_type": "stream",
     "text": [
      "Epsilon> q-pt index: 100%|██████████| 64/64 [00:36<00:00,  1.77it/s]\n"
     ]
    }
   ],
   "source": [
    "from tqdm import trange\n",
    "from qtm.gw.core import reorder_2d_matrix_sorted_gvecs, sort_cryst_like_BGW\n",
    "\n",
    "\n",
    "def calculate_epsilon(numq=None, writing=False):\n",
    "    epsmats = []\n",
    "    if numq is None:\n",
    "        numq = epsilon.qpts.numq\n",
    "\n",
    "    for i_q in trange(0, numq, desc=\"Epsilon> q-pt index\"):\n",
    "        # Create map between BGW's sorting order and QTm's sorting order\n",
    "        gkspc = epsilon.l_gq[i_q]\n",
    "        \n",
    "        if i_q == epsilon.qpts.index_q0:\n",
    "            key = gkspc.g_norm2\n",
    "        else:\n",
    "            key = gkspc.gk_norm2\n",
    "\n",
    "        indices_gspace_sorted = sort_cryst_like_BGW(\n",
    "            cryst=gkspc.g_cryst, key_array=key\n",
    "        )\n",
    "\n",
    "        # Calculate matrix elements\n",
    "        M = next(epsilon.matrix_elements(i_q=i_q))\n",
    "\n",
    "        # Calculate polarizability matrix (faster, but not memory-efficient)\n",
    "        chimat = epsilon.polarizability(M)\n",
    "\n",
    "        # Calculate polarizability matrix (memory-efficient)\n",
    "        # chimat = epsilon.polarizability_active(i_q)\n",
    "        \n",
    "        # Calculate epsilon inverse matrix\n",
    "        epsinv = epsilon.epsilon_inverse(i_q=i_q, polarizability_matrix=chimat, store=True)\n",
    "\n",
    "\n",
    "        epsinv = reorder_2d_matrix_sorted_gvecs(epsinv, indices_gspace_sorted)\n",
    "        epsilon.l_epsinv[i_q] = epsinv\n",
    "\n",
    "        if i_q == epsilon.qpts.index_q0:\n",
    "            if writing:\n",
    "                epsilon.write_epsmat(\n",
    "                    filename=\"test/epsilon/eps0mat_qtm.h5\", epsinvmats=[epsinv]\n",
    "                )\n",
    "        else:\n",
    "            epsmats.append(epsinv)\n",
    "            \n",
    "        if False:        \n",
    "            # Compare the results with BGW's results\n",
    "            if i_q == epsilon.qpts.index_q0:\n",
    "                epsref = epsilon.read_epsmat(dirname + \"eps0mat.h5\")[0][0, 0]\n",
    "            else:\n",
    "                epsref = np.array(epsilon.read_epsmat(dirname + \"epsmat.h5\")[i_q - 1][0, 0])    \n",
    "\n",
    "            # Calculate stddev between reference and calculated epsinv matrices\n",
    "            std_eps = np.std(np.abs(epsref) - np.abs(epsinv)) / np.sqrt(np.prod(list(epsinv.shape)))\n",
    "        \n",
    "            epstol = 1e-16\n",
    "            if np.abs(std_eps) > epstol:\n",
    "                print(f\"Standard deviation exceeded {epstol} tolerance: {std_eps}, for i_q:{i_q}\")\n",
    "                print(np.max(np.abs(epsinv-epsref)))\n",
    "                indices = np.where(np.abs(epsinv)-np.abs(epsref)>1e-5)\n",
    "                \n",
    "\n",
    "    if writing:\n",
    "        epsilon.write_epsmat(filename=\"test/epsilon/epsmat_qtm.h5\", epsinvmats=epsmats)\n",
    "\n",
    "calculate_epsilon()\n"
   ]
  },
  {
   "cell_type": "markdown",
   "metadata": {},
   "source": [
    "### Sigma Calculation\n",
    "\n",
    "Here we demonstate the calculation of diagonal matrix elements of $\\Sigma_{\\text{QP}}$. The input parameters for sigma calculation are being read from `sigma.inp` file, but the same parameters can also be provided by manually constructing a `SigmaInp` object. \n",
    "\n",
    "Here we will calculate $\\bra{nk}\\Sigma_{\\text{QP}}\\ket{nk}$ for the following k-points:\n",
    "- $\\Gamma$: `k=(0,0,0)`\n",
    "- $L$: `k=(0.5,0.5,0)`\n",
    "- $X$: `k=(0,0.5,0)`"
   ]
  },
  {
   "cell_type": "code",
   "execution_count": 14,
   "metadata": {},
   "outputs": [
    {
     "name": "stderr",
     "output_type": "stream",
     "text": [
      "Vcoul calculation for qpts: 100%|██████████| 64/64 [00:00<00:00, 6518.90it/s]\n"
     ]
    },
    {
     "name": "stdout",
     "output_type": "stream",
     "text": [
      "vcoul: Vcoul:\n",
      "        * gspace = <qtm.gspace.gspc.GSpace object at 0x7ee37578e850>\n",
      "        * qpts = <qtm.gw.core.QPoints object at 0x7ee35cb55950>\n",
      "        * bare_coulomb_cutoff = 10.0\n",
      "        * avgcut = 1e-05\n",
      "        * l_gspace_q = <class 'list'> of length 64\n",
      "        * vcoul = <class 'list'> of length 64\n",
      "        * N_SAMPLES = 2500000.0\n",
      "        * N_SAMPLES_COARSE = 250000.0\n",
      "        * SEED = 5000\n",
      "        \n"
     ]
    },
    {
     "name": "stderr",
     "output_type": "stream",
     "text": [
      "Vcoul calculation for qpts:   0%|          | 0/64 [00:00<?, ?it/s]"
     ]
    },
    {
     "name": "stderr",
     "output_type": "stream",
     "text": [
      "Vcoul calculation for qpts: 100%|██████████| 64/64 [01:50<00:00,  1.72s/it]\n"
     ]
    }
   ],
   "source": [
    "from qtm.gw.sigma import Sigma\n",
    "\n",
    "outdir = dirname+\"temp/\"\n",
    "\n",
    "\n",
    "sigma = Sigma.from_qtm_scf(\n",
    "    crystal = crystal,\n",
    "    gspace = grho,\n",
    "    kpts = kpts_gw,\n",
    "    kptsq=kpts_gw_q,\n",
    "    l_wfn_kgrp=l_wfn_kgrp,\n",
    "    l_wfn_kgrp_q=l_wfn_kgrp_q,\n",
    "    sigmainp=sigmainp,\n",
    "    epsinp = epsinp,\n",
    "    epsilon=epsilon,\n",
    "    rho=rho,\n",
    "    vxc=vxc\n",
    ")\n",
    "\n",
    "# Alternatively, the Sigma object can also be intitialized from pw2bgw.x output data (after being procesed by wfn2hdf5.x).\n",
    "# sigma = Sigma.from_data(\n",
    "#     wfndata=wfndata,\n",
    "#     wfnqdata=wfnqdata,\n",
    "#     sigmainp=sigmainp,\n",
    "#     epsinp=epsinp,\n",
    "#     l_epsmats=epsilon.l_epsinv,\n",
    "#     rho=rho,\n",
    "#     vxc=vxc,\n",
    "#     outdir=outdir,\n",
    "# )"
   ]
  },
  {
   "cell_type": "code",
   "execution_count": 15,
   "metadata": {},
   "outputs": [
    {
     "name": "stderr",
     "output_type": "stream",
     "text": [
      "Sigma_SX_Static:   0%|          | 0/64 [00:00<?, ?it/s]"
     ]
    },
    {
     "name": "stderr",
     "output_type": "stream",
     "text": [
      "Sigma_SX_Static: 100%|██████████| 64/64 [00:03<00:00, 16.01it/s]"
     ]
    },
    {
     "name": "stdout",
     "output_type": "stream",
     "text": [
      "Sigma SX COHSEX\n",
      "k-point index: 0\n",
      "k-point (crystal coords.): [0. 0. 0.]\n",
      "Sigma matrix elements: [11.87583302  8.03194112  8.03129505  8.03095253  2.91053118  2.90992687\n",
      "  2.91060227  2.6816718 ]\n",
      "k-point index: 40\n",
      "k-point (crystal coords.): [0.5 0.5 0. ]\n",
      "Sigma matrix elements: [10.67812605 10.67242121  8.71926959  8.72006364  2.5865263   2.58821484\n",
      "  1.32923724  1.32856885]\n",
      "k-point index: 8\n",
      "k-point (crystal coords.): [0.  0.5 0. ]\n",
      "Sigma matrix elements: [11.32875627 10.01467613  8.36589599  8.36601296  2.87263008  2.42700492\n",
      "  2.42685149  0.73961568]\n"
     ]
    },
    {
     "name": "stderr",
     "output_type": "stream",
     "text": [
      "\n"
     ]
    }
   ],
   "source": [
    "sigma_sx_cohsex_mat = sigma.sigma_sx_static(yielding=True)    \n",
    "print(\"Sigma SX COHSEX\")\n",
    "sigma.pprint_sigma_mat(sigma_sx_cohsex_mat)"
   ]
  },
  {
   "cell_type": "code",
   "execution_count": 16,
   "metadata": {},
   "outputs": [
    {
     "name": "stderr",
     "output_type": "stream",
     "text": [
      "Sigma_CH_Static_Partial:   3%|▎         | 2/64 [00:00<00:10,  5.69it/s]"
     ]
    },
    {
     "name": "stderr",
     "output_type": "stream",
     "text": [
      "Sigma_CH_Static_Partial: 100%|██████████| 64/64 [00:07<00:00,  8.61it/s]"
     ]
    },
    {
     "name": "stdout",
     "output_type": "stream",
     "text": [
      "Sigma CH COHSEX\n",
      "k-point index: 0\n",
      "k-point (crystal coords.): [0. 0. 0.]\n",
      "Sigma matrix elements: [-6.62725022 -5.09953171 -5.09924171 -5.09930959 -4.74617832 -4.74607052\n",
      " -4.74637745 -4.75744451]\n",
      "k-point index: 40\n",
      "k-point (crystal coords.): [0.5 0.5 0. ]\n",
      "Sigma matrix elements: [-6.30319765 -6.30303262 -5.57121884 -5.57119163 -4.70070956 -4.70165552\n",
      " -3.46081745 -3.45985755]\n",
      "k-point index: 8\n",
      "k-point (crystal coords.): [0.  0.5 0. ]\n",
      "Sigma matrix elements: [-6.4944507  -6.06863009 -5.40733488 -5.40721077 -4.91736495 -4.28714366\n",
      " -4.28728219 -2.97508235]\n"
     ]
    },
    {
     "name": "stderr",
     "output_type": "stream",
     "text": [
      "\n"
     ]
    }
   ],
   "source": [
    "sigma_ch_cohsex_mat = sigma.sigma_ch_static()    \n",
    "print(\"Sigma CH COHSEX\")\n",
    "sigma.pprint_sigma_mat(sigma_ch_cohsex_mat)"
   ]
  },
  {
   "cell_type": "code",
   "execution_count": 17,
   "metadata": {},
   "outputs": [
    {
     "name": "stderr",
     "output_type": "stream",
     "text": [
      "Sigma_X:   0%|          | 0/64 [00:00<?, ?it/s]"
     ]
    },
    {
     "name": "stderr",
     "output_type": "stream",
     "text": [
      "Sigma_X: 100%|██████████| 64/64 [00:04<00:00, 15.93it/s]\n"
     ]
    },
    {
     "name": "stdout",
     "output_type": "stream",
     "text": [
      "Sigma X\n",
      "k-point index: 0\n",
      "k-point (crystal coords.): [0. 0. 0.]\n",
      "Sigma matrix elements: [-17.54988375 -12.97490286 -12.97481777 -12.97493988  -5.765608\n",
      "  -5.76541077  -5.76552678  -5.83117964]\n",
      "k-point index: 40\n",
      "k-point (crystal coords.): [0.5 0.5 0. ]\n",
      "Sigma matrix elements: [-16.03876829 -16.03883145 -13.41747907 -13.41760893  -5.19650558\n",
      "  -5.19621858  -3.78962545  -3.78959918]\n",
      "k-point index: 8\n",
      "k-point (crystal coords.): [0.  0.5 0. ]\n",
      "Sigma matrix elements: [-16.91891104 -14.9087152  -13.20433546 -13.20452217  -5.93448816\n",
      "  -5.08167337  -5.0817482   -2.40636418]\n"
     ]
    },
    {
     "name": "stderr",
     "output_type": "stream",
     "text": [
      "Sigma_SX_Static: 100%|██████████| 64/64 [00:04<00:00, 15.25it/s]\n"
     ]
    },
    {
     "name": "stdout",
     "output_type": "stream",
     "text": [
      "Sigma SX STATIC\n",
      "k-point index: 0\n",
      "k-point (crystal coords.): [0. 0. 0.]\n",
      "Sigma matrix elements: [11.87583302  8.03194112  8.03129505  8.03095253  2.91053118  2.90992687\n",
      "  2.91060227  2.6816718 ]\n",
      "k-point index: 40\n",
      "k-point (crystal coords.): [0.5 0.5 0. ]\n",
      "Sigma matrix elements: [10.67812605 10.67242121  8.71926959  8.72006364  2.5865263   2.58821484\n",
      "  1.32923724  1.32856885]\n",
      "k-point index: 8\n",
      "k-point (crystal coords.): [0.  0.5 0. ]\n",
      "Sigma matrix elements: [11.32875627 10.01467613  8.36589599  8.36601296  2.87263008  2.42700492\n",
      "  2.42685149  0.73961568]\n"
     ]
    },
    {
     "name": "stderr",
     "output_type": "stream",
     "text": [
      "Sigma_CH_Static_Partial: 100%|██████████| 64/64 [00:07<00:00,  8.67it/s]\n"
     ]
    },
    {
     "name": "stdout",
     "output_type": "stream",
     "text": [
      "Sigma CH STATIC\n",
      "k-point index: 0\n",
      "k-point (crystal coords.): [0. 0. 0.]\n",
      "Sigma matrix elements: [-6.62725022 -5.09953171 -5.09924171 -5.09930959 -4.74617832 -4.74607052\n",
      " -4.74637745 -4.75744451]\n",
      "k-point index: 40\n",
      "k-point (crystal coords.): [0.5 0.5 0. ]\n",
      "Sigma matrix elements: [-6.30319765 -6.30303262 -5.57121884 -5.57119163 -4.70070956 -4.70165552\n",
      " -3.46081745 -3.45985755]\n",
      "k-point index: 8\n",
      "k-point (crystal coords.): [0.  0.5 0. ]\n",
      "Sigma matrix elements: [-6.4944507  -6.06863009 -5.40733488 -5.40721077 -4.91736495 -4.28714366\n",
      " -4.28728219 -2.97508235]\n"
     ]
    },
    {
     "name": "stderr",
     "output_type": "stream",
     "text": [
      "Sigma_CH_Static_Exact: 100%|██████████| 64/64 [00:38<00:00,  1.65it/s]"
     ]
    },
    {
     "name": "stdout",
     "output_type": "stream",
     "text": [
      "Sigma CH EXACT STATIC\n",
      "k-point index: 0\n",
      "k-point (crystal coords.): [0. 0. 0.]\n",
      "Sigma matrix elements: [-7.44455522 -7.7573253  -7.75706173 -7.75670905 -7.33525801 -7.33493344\n",
      " -7.33536179 -7.82975671]\n",
      "k-point index: 40\n",
      "k-point (crystal coords.): [0.5 0.5 0. ]\n",
      "Sigma matrix elements: [-7.62310862 -7.62322872 -7.47671419 -7.47752455 -6.79521291 -6.7950062\n",
      " -7.67469504 -7.67329788]\n",
      "k-point index: 8\n",
      "k-point (crystal coords.): [0.  0.5 0. ]\n",
      "Sigma matrix elements: [-7.62665751 -7.3142917  -7.67421153 -7.67400175 -7.35446667 -7.12047482\n",
      " -7.12047282 -6.23216553]\n",
      "Sig (Exact):\n",
      "k-point index: 0\n",
      "k-point (crystal coords.): [0. 0. 0.]\n",
      "Sigma matrix elements: [-13.11860596 -12.70028704 -12.70058445 -12.7006964  -10.19033483\n",
      " -10.19041734 -10.19028631 -10.97926454]\n",
      "k-point index: 40\n",
      "k-point (crystal coords.): [0.5 0.5 0. ]\n",
      "Sigma matrix elements: [-12.98375086 -12.98963896 -12.17492366 -12.17506984  -9.40519219\n",
      "  -9.40300994 -10.13508325 -10.1343282 ]\n",
      "k-point index: 8\n",
      "k-point (crystal coords.): [0.  0.5 0. ]\n",
      "Sigma matrix elements: [-13.21681228 -12.20833077 -12.512651   -12.51251096 -10.41632475\n",
      "  -9.77514327  -9.77536953  -7.89891403]\n",
      "Eqp0 (Exact):\n",
      "k-point index: 0\n",
      "k-point (crystal coords.): [0. 0. 0.]\n",
      "Sigma matrix elements: [-8.25170993  5.14287777  5.14258045  5.14246856  8.89730608  8.89722371\n",
      "  8.89735483  9.96665113]\n",
      "k-point index: 40\n",
      "k-point (crystal coords.): [0.5 0.5 0. ]\n",
      "Sigma matrix elements: [-3.51370469 -3.51959268  2.01508793  2.01494189  6.72207491  6.72425725\n",
      " 17.1639012  17.16465647]\n",
      "k-point index: 8\n",
      "k-point (crystal coords.): [0.  0.5 0. ]\n",
      "Sigma matrix elements: [-5.57505215 -2.58625442  3.84595836  3.84609857  7.76138037  9.69379419\n",
      "  9.69356815 14.03446046]\n",
      "Sig (Partial):\n",
      "k-point index: 0\n",
      "k-point (crystal coords.): [0. 0. 0.]\n",
      "Sigma matrix elements: [-12.30130096 -10.04249345 -10.04276443 -10.04329694  -7.60125514\n",
      "  -7.60155442  -7.60130196  -7.90695234]\n",
      "k-point index: 40\n",
      "k-point (crystal coords.): [0.5 0.5 0. ]\n",
      "Sigma matrix elements: [-11.66383989 -11.66944286 -10.26942831 -10.26873692  -7.31068885\n",
      "  -7.30965926  -5.92120566  -5.92088787]\n",
      "k-point index: 8\n",
      "k-point (crystal coords.): [0.  0.5 0. ]\n",
      "Sigma matrix elements: [-12.08460547 -10.96266916 -10.24577435 -10.24571998  -7.97922304\n",
      "  -6.94181211  -6.9421789   -4.64183085]\n",
      "Eqp0 (Partial):\n",
      "k-point index: 0\n",
      "k-point (crystal coords.): [0. 0. 0.]\n",
      "Sigma matrix elements: [-7.43440493  7.80067135  7.80040047  7.79986802 11.48638577 11.48608663\n",
      " 11.48633917 13.03896333]\n",
      "k-point index: 40\n",
      "k-point (crystal coords.): [0.5 0.5 0. ]\n",
      "Sigma matrix elements: [-2.19379372 -2.19939658  3.92058328  3.92127481  8.81657825  8.81760793\n",
      " 21.37777878 21.3780968 ]\n",
      "k-point index: 8\n",
      "k-point (crystal coords.): [0.  0.5 0. ]\n",
      "Sigma matrix elements: [-4.44284533 -1.34059282  6.11283501  6.11288955 10.19848208 12.52712535\n",
      " 12.52675878 17.29154364]\n",
      "\n",
      "\n",
      "       k =  0.000000  0.000000  0.000000 ik =  0 spin = 1\n",
      "   n         Emf          Eo           X        SX-X          CH         Sig         Vxc        Eqp0        Eqp1         CH`        Sig`       Eqp0`       Eqp1`         Znk\n",
      "   0   -5.636252   -5.636252  -17.549884   11.875833   -7.444555  -13.118606  -10.503148   -8.251710   -8.251710   -6.627250  -12.301301   -7.434405   -7.434405    1.000000\n",
      "   1    6.473728    6.473728  -12.974903    8.031941   -7.757325  -12.700287  -11.369436    5.142878    5.142878   -5.099532  -10.042493    7.800671    7.800671    1.000000\n",
      "   2    6.473728    6.473728  -12.974818    8.031295   -7.757062  -12.700584  -11.369436    5.142580    5.142580   -5.099242  -10.042764    7.800400    7.800400    1.000000\n",
      "   3    6.473728    6.473728  -12.974940    8.030953   -7.756709  -12.700696  -11.369436    5.142469    5.142469   -5.099310  -10.043297    7.799868    7.799868    1.000000\n",
      "   4    9.026401    9.026401   -5.765608    2.910531   -7.335258  -10.190335  -10.061240    8.897306    8.897306   -4.746178   -7.601255   11.486386   11.486386    1.000000\n",
      "   5    9.026401    9.026401   -5.765411    2.909927   -7.334933  -10.190417  -10.061240    8.897224    8.897224   -4.746071   -7.601554   11.486087   11.486087    1.000000\n",
      "   6    9.026401    9.026401   -5.765527    2.910602   -7.335362  -10.190286  -10.061240    8.897355    8.897355   -4.746377   -7.601302   11.486339   11.486339    1.000000\n",
      "   7   10.004559   10.004559   -5.831180    2.681672   -7.829757  -10.979265  -10.941357    9.966651    9.966651   -4.757445   -7.906952   13.038963   13.038963    1.000000\n",
      "\n",
      "       k =  0.000000  0.000000  0.250000 ik =  1 spin = 1\n",
      "   n         Emf          Eo           X        SX-X          CH         Sig         Vxc        Eqp0        Eqp1         CH`        Sig`       Eqp0`       Eqp1`         Znk\n",
      "   0   -1.422122   -1.422122  -16.038768   10.678126   -7.623109  -12.983751  -10.892168   -3.513705   -3.513705   -6.303198  -11.663840   -2.193794   -2.193794    1.000000\n",
      "   1   -1.422122   -1.422122  -16.038831   10.672421   -7.623229  -12.989639  -10.892168   -3.519593   -3.519593   -6.303033  -11.669443   -2.199397   -2.199397    1.000000\n",
      "   2    3.560636    3.560636  -13.417479    8.719270   -7.476714  -12.174924  -10.629376    2.015088    2.015088   -5.571219  -10.269428    3.920583    3.920583    1.000000\n",
      "   3    3.560636    3.560636  -13.417609    8.720064   -7.477525  -12.175070  -10.629376    2.014942    2.014942   -5.571192  -10.268737    3.921275    3.921275    1.000000\n",
      "   4    7.119662    7.119662   -5.196506    2.586526   -6.795213   -9.405192   -9.007606    6.722075    6.722075   -4.700710   -7.310689    8.816578    8.816578    1.000000\n",
      "   5    7.119662    7.119662   -5.196219    2.588215   -6.795006   -9.403010   -9.007606    6.724257    6.724257   -4.701656   -7.309659    8.817608    8.817608    1.000000\n",
      "   6   16.729137   16.729137   -3.789625    1.329237   -7.674695  -10.135083  -10.569847   17.163901   17.163901   -3.460817   -5.921206   21.377779   21.377779    1.000000\n",
      "   7   16.729137   16.729137   -3.789599    1.328569   -7.673298  -10.134328  -10.569847   17.164656   17.164656   -3.459858   -5.920888   21.378097   21.378097    1.000000\n",
      "\n",
      "       k =  0.000000  0.000000  0.500000 ik =  2 spin = 1\n",
      "   n         Emf          Eo           X        SX-X          CH         Sig         Vxc        Eqp0        Eqp1         CH`        Sig`       Eqp0`       Eqp1`         Znk\n",
      "   0   -3.256065   -3.256065  -16.918911   11.328756   -7.626658  -13.216812  -10.897825   -5.575052   -5.575052   -6.494451  -12.084605   -4.442845   -4.442845    1.000000\n",
      "   1   -0.604712   -0.604712  -14.908715   10.014676   -7.314292  -12.208331  -10.226789   -2.586254   -2.586254   -6.068630  -10.962669   -1.340593   -1.340593    1.000000\n",
      "   2    5.252897    5.252897  -13.204335    8.365896   -7.674212  -12.512651  -11.105713    3.845958    3.845958   -5.407335  -10.245774    6.112835    6.112835    1.000000\n",
      "   3    5.252897    5.252897  -13.204522    8.366013   -7.674002  -12.512511  -11.105713    3.846099    3.846099   -5.407211  -10.245720    6.112890    6.112890    1.000000\n",
      "   4    8.045859    8.045859   -5.934488    2.872630   -7.354467  -10.416325  -10.131846    7.761380    7.761380   -4.917365   -7.979223   10.198482   10.198482    1.000000\n",
      "   5    9.785203    9.785203   -5.081673    2.427005   -7.120475   -9.775143   -9.683735    9.693794    9.693794   -4.287144   -6.941812   12.527125   12.527125    1.000000\n",
      "   6    9.785203    9.785203   -5.081748    2.426851   -7.120473   -9.775370   -9.683735    9.693568    9.693568   -4.287282   -6.942179   12.526759   12.526759    1.000000\n",
      "   7   14.194394   14.194394   -2.406364    0.739616   -6.232166   -7.898914   -7.738980   14.034460   14.034460   -2.975082   -4.641831   17.291544   17.291544    1.000000\n"
     ]
    },
    {
     "name": "stderr",
     "output_type": "stream",
     "text": [
      "\n"
     ]
    }
   ],
   "source": [
    "sigma.autosave=False\n",
    "sigma.print_condition=True\n",
    "cohsex_result = sigma.calculate_static_cohsex()"
   ]
  },
  {
   "cell_type": "code",
   "execution_count": 18,
   "metadata": {},
   "outputs": [
    {
     "name": "stdout",
     "output_type": "stream",
     "text": [
      "Sigma CH COHSEX EXACT\n"
     ]
    },
    {
     "name": "stderr",
     "output_type": "stream",
     "text": [
      "Sigma_CH_Static_Exact:   0%|          | 0/64 [00:00<?, ?it/s]"
     ]
    },
    {
     "name": "stderr",
     "output_type": "stream",
     "text": [
      "Sigma_CH_Static_Exact: 100%|██████████| 64/64 [00:38<00:00,  1.64it/s]"
     ]
    },
    {
     "name": "stdout",
     "output_type": "stream",
     "text": [
      "k-point index: 0\n",
      "k-point (crystal coords.): [0. 0. 0.]\n",
      "Sigma matrix elements: [-7.44455522 -7.7573253  -7.75706173 -7.75670905 -7.33525801 -7.33493344\n",
      " -7.33536179 -7.82975671]\n",
      "k-point index: 40\n",
      "k-point (crystal coords.): [0.5 0.5 0. ]\n",
      "Sigma matrix elements: [-7.62310862 -7.62322872 -7.47671419 -7.47752455 -6.79521291 -6.7950062\n",
      " -7.67469504 -7.67329788]\n",
      "k-point index: 8\n",
      "k-point (crystal coords.): [0.  0.5 0. ]\n",
      "Sigma matrix elements: [-7.62665751 -7.3142917  -7.67421153 -7.67400175 -7.35446667 -7.12047482\n",
      " -7.12047282 -6.23216553]\n"
     ]
    },
    {
     "name": "stderr",
     "output_type": "stream",
     "text": [
      "\n"
     ]
    }
   ],
   "source": [
    "sigma.print_condition=True\n",
    "print(\"Sigma CH COHSEX EXACT\")\n",
    "sigma_ch_exact_mat = sigma.sigma_ch_static_exact()    \n",
    "sigma.pprint_sigma_mat(sigma_ch_exact_mat)"
   ]
  },
  {
   "cell_type": "code",
   "execution_count": null,
   "metadata": {},
   "outputs": [
    {
     "name": "stderr",
     "output_type": "stream",
     "text": [
      "Sigma_SX_GPP:   0%|          | 0/64 [00:00<?, ?it/s]"
     ]
    },
    {
     "name": "stderr",
     "output_type": "stream",
     "text": [
      "Sigma_SX_GPP:  17%|█▋        | 11/64 [00:15<01:15,  1.43s/it]"
     ]
    }
   ],
   "source": [
    "sigma.print_condition=False\n",
    "sigma_sx_gpp = sigma.sigma_sx_gpp()    \n",
    "print(\"Sigma SX GPP\")\n",
    "sigma.pprint_sigma_mat(sigma_sx_gpp)"
   ]
  },
  {
   "cell_type": "code",
   "execution_count": 17,
   "metadata": {},
   "outputs": [
    {
     "name": "stderr",
     "output_type": "stream",
     "text": [
      "Sigma_CH_GPP:   0%|          | 0/64 [00:00<?, ?it/s]"
     ]
    },
    {
     "name": "stderr",
     "output_type": "stream",
     "text": [
      "Sigma_CH_GPP: 100%|██████████| 64/64 [00:59<00:00,  1.08it/s]"
     ]
    },
    {
     "name": "stdout",
     "output_type": "stream",
     "text": [
      "Sigma CH GPP\n",
      "  n      ik=0        ik=40       ik=8    \n",
      "  1    -5.796970   -5.846687   -5.879218\n",
      "  2    -5.402481   -5.849324   -5.642409\n",
      "  3    -5.402850   -5.559384   -5.572965\n",
      "  4    -5.404011   -5.559113   -5.573327\n",
      "  5    -5.343540   -4.982179   -5.446976\n",
      "  6    -5.336222   -4.983590   -4.890853\n",
      "  7    -5.341045   -4.621046   -4.890394\n",
      "  8    -5.721550   -4.622911   -3.771960\n"
     ]
    },
    {
     "name": "stderr",
     "output_type": "stream",
     "text": [
      "\n"
     ]
    }
   ],
   "source": [
    "sigma.print_condition=False\n",
    "sigma_ch_gpp,_ = sigma.sigma_ch_gpp()    \n",
    "print(\"Sigma CH GPP\")\n",
    "sigma.pprint_sigma_mat(sigma_ch_gpp)"
   ]
  },
  {
   "cell_type": "code",
   "execution_count": 18,
   "metadata": {},
   "outputs": [
    {
     "name": "stderr",
     "output_type": "stream",
     "text": [
      "Sigma_X: 100%|██████████| 64/64 [00:02<00:00, 21.82it/s]"
     ]
    },
    {
     "name": "stdout",
     "output_type": "stream",
     "text": [
      "Sigma X GPP\n"
     ]
    },
    {
     "name": "stderr",
     "output_type": "stream",
     "text": [
      "\n"
     ]
    },
    {
     "name": "stdout",
     "output_type": "stream",
     "text": [
      "  n      ik=0        ik=40       ik=8    \n",
      "  1   -17.549885  -16.038835  -16.918913\n",
      "  2   -12.974838  -16.038768  -14.908717\n",
      "  3   -12.974887  -13.417569  -13.204348\n",
      "  4   -12.974943  -13.417522  -13.204514\n",
      "  5    -5.765704   -5.196499   -5.934488\n",
      "  6    -5.765349   -5.196223   -5.081719\n",
      "  7    -5.765490   -3.789616   -5.081701\n",
      "  8    -5.831181   -3.789609   -2.406364\n"
     ]
    },
    {
     "name": "stderr",
     "output_type": "stream",
     "text": [
      "Sigma_CH_Static_Partial: 100%|██████████| 64/64 [00:05<00:00, 12.49it/s]"
     ]
    },
    {
     "name": "stdout",
     "output_type": "stream",
     "text": [
      "Sigma CH STATIC COHSEX\n"
     ]
    },
    {
     "name": "stderr",
     "output_type": "stream",
     "text": [
      "\n"
     ]
    },
    {
     "name": "stdout",
     "output_type": "stream",
     "text": [
      "  n      ik=0        ik=40       ik=8    \n",
      "  1    -6.627249   -6.303086   -6.494450\n",
      "  2    -5.099274   -6.303143   -6.068630\n",
      "  3    -5.099179   -5.571198   -5.407134\n",
      "  4    -5.099629   -5.571212   -5.407410\n",
      "  5    -4.746872   -4.700738   -4.917365\n",
      "  6    -4.745410   -4.701625   -4.287437\n",
      "  7    -4.746343   -3.459957   -4.286988\n",
      "  8    -4.757445   -3.460717   -2.975082\n"
     ]
    },
    {
     "name": "stderr",
     "output_type": "stream",
     "text": [
      "Sigma_CH_Static_Exact: 100%|██████████| 64/64 [00:22<00:00,  2.90it/s]"
     ]
    },
    {
     "name": "stdout",
     "output_type": "stream",
     "text": [
      "Sigma CH STATIC EXACT\n"
     ]
    },
    {
     "name": "stderr",
     "output_type": "stream",
     "text": [
      "\n"
     ]
    },
    {
     "name": "stdout",
     "output_type": "stream",
     "text": [
      "  n      ik=0        ik=40       ik=8    \n",
      "  1    -7.444554   -7.623059   -7.626657\n",
      "  2    -7.756865   -7.623276   -7.314291\n",
      "  3    -7.756538   -7.477288   -7.674019\n",
      "  4    -7.757690   -7.476949   -7.674193\n",
      "  5    -7.335784   -6.795210   -7.354466\n",
      "  6    -7.334351   -6.795007   -7.120593\n",
      "  7    -7.335415   -7.673444   -7.120353\n",
      "  8    -7.829756   -7.674547   -6.232165\n",
      "Started sigma_sx_gpp 2023-10-11 21:42:30\n"
     ]
    },
    {
     "name": "stderr",
     "output_type": "stream",
     "text": [
      "Sigma_SX_GPP: 100%|██████████| 64/64 [00:51<00:00,  1.24it/s]"
     ]
    },
    {
     "name": "stdout",
     "output_type": "stream",
     "text": [
      "Sigma SX GPP\n"
     ]
    },
    {
     "name": "stderr",
     "output_type": "stream",
     "text": [
      "\n"
     ]
    },
    {
     "name": "stdout",
     "output_type": "stream",
     "text": [
      "  n      ik=0        ik=40       ik=8    \n",
      "  1    12.243998   10.836142   11.549630\n",
      "  2     8.177246   10.848005   10.174679\n",
      "  3     8.176874    8.838429    8.500881\n",
      "  4     8.179714    8.837812    8.501443\n",
      "  5     3.300257    2.864940    3.299234\n",
      "  6     3.291178    2.867032    2.791634\n",
      "  7     3.296973    1.736864    2.790402\n",
      "  8     3.369051    1.738987    1.089915\n"
     ]
    },
    {
     "name": "stderr",
     "output_type": "stream",
     "text": [
      "Sigma_CH_GPP: 100%|██████████| 64/64 [01:02<00:00,  1.02it/s]"
     ]
    },
    {
     "name": "stdout",
     "output_type": "stream",
     "text": [
      "Sigma CH GPP\n",
      "  n      ik=0        ik=40       ik=8    \n",
      "  1    -5.796970   -5.846687   -5.879218\n",
      "  2    -5.402481   -5.849324   -5.642409\n",
      "  3    -5.402850   -5.559384   -5.572965\n",
      "  4    -5.404011   -5.559113   -5.573327\n",
      "  5    -5.343540   -4.982179   -5.446976\n",
      "  6    -5.336222   -4.983590   -4.890853\n",
      "  7    -5.341045   -4.621046   -4.890394\n",
      "  8    -5.721550   -4.622911   -3.771960\n",
      "Sig GPP:\n",
      "  n      ik=0        ik=40       ik=8    \n",
      "  1   -11.511509  -11.709366  -11.814604\n",
      "  2   -11.528869  -11.700154  -10.999277\n",
      "  3   -11.529542  -11.091570  -11.409874\n",
      "  4   -11.528270  -11.091692  -11.409789\n",
      "  5    -9.103443   -8.360974   -9.300780\n",
      "  6    -9.104864   -8.359472   -8.597516\n",
      "  7    -9.104099   -8.780541   -8.598375\n",
      "  8    -9.719836   -8.780448   -6.716951\n",
      "Eqp0\n"
     ]
    },
    {
     "name": "stderr",
     "output_type": "stream",
     "text": [
      "\n"
     ]
    },
    {
     "name": "stdout",
     "output_type": "stream",
     "text": [
      "  n      ik=0        ik=40       ik=8    \n",
      "  1    -6.644618   -2.239326   -4.172851\n",
      "  2     6.314287   -2.230114   -1.377204\n",
      "  3     6.313614    3.098436    4.948728\n",
      "  4     6.314886    3.098314    4.948813\n",
      "  5     9.984195    7.766294    8.876921\n",
      "  6     9.982774    7.767796   10.871420\n",
      "  7     9.983540   18.518438   10.870562\n",
      "  8    11.226073   18.518532   15.216428\n"
     ]
    },
    {
     "name": "stderr",
     "output_type": "stream",
     "text": [
      "Sigma_CH_GPP: 100%|██████████| 64/64 [01:02<00:00,  1.02it/s]\n",
      "Sigma_SX_GPP: 100%|██████████| 64/64 [00:52<00:00,  1.22it/s]"
     ]
    },
    {
     "name": "stdout",
     "output_type": "stream",
     "text": [
      "Sigma CH GPP dE\n",
      "  n      ik=0        ik=40       ik=8    \n",
      "  1    -6.056253   -6.123548   -6.149623\n",
      "  2    -5.641589   -6.126418   -5.916338\n",
      "  3    -5.637486   -5.843677   -5.860942\n",
      "  4    -5.638679   -5.843399   -5.861216\n",
      "  5    -5.570835   -5.285448   -5.772163\n",
      "  6    -5.562631   -5.288282   -5.100439\n",
      "  7    -5.567930   -4.907922   -5.099101\n",
      "  8    -5.941014   -4.910020   -4.063206\n",
      "Sigma SX GPP dE\n",
      "  n      ik=0        ik=40       ik=8    \n",
      "  1    -6.056253   -6.123548   -6.149623\n",
      "  2    -5.641589   -6.126418   -5.916338\n",
      "  3    -5.637486   -5.843677   -5.860942\n",
      "  4    -5.638679   -5.843399   -5.861216\n",
      "  5    -5.570835   -5.285448   -5.772163\n",
      "  6    -5.562631   -5.288282   -5.100439\n",
      "  7    -5.567930   -4.907922   -5.099101\n",
      "  8    -5.941014   -4.910020   -4.063206\n",
      "Z:\n",
      "  n      ik=0        ik=40       ik=8    \n",
      "  1     0.714882    0.775219    0.755521\n",
      "  2     0.839971    0.775067    0.778936\n",
      "  3     0.839967    0.817147    0.829068\n",
      "  4     0.839961    0.817134    0.829062\n",
      "  5     0.830705    0.835600    0.833228\n",
      "  6     0.830709    0.835585    0.839645\n",
      "  7     0.830706    0.812019    0.839631\n",
      "  8     0.834789    0.812324    0.837520\n",
      "Sig_2:\n",
      "[[-11.50169 -0.0e+00j -11.339338-4.2e-05j -11.57209 +0.0e+00j]\n",
      " [-10.390591-0.0e+00j -11.330298+4.2e-05j -10.66025 +0.0e+00j]\n",
      " [-10.391386-0.0e+00j -10.362294+0.0e+00j -10.482606+0.0e+00j]\n",
      " [-10.389771+0.0e+00j -10.362613-0.0e+00j -10.48258 -0.0e+00j]\n",
      " [ -8.012783-0.0e+00j  -7.510482+4.0e-05j  -8.282382+0.0e+00j]\n",
      " [ -8.014184+0.0e+00j  -7.509547-4.0e-05j  -7.371918+0.0e+00j]\n",
      " [ -8.013357-0.0e+00j  -6.905297-7.0e-06j  -7.372692-0.0e+00j]\n",
      " [ -8.381587-0.0e+00j  -6.904568+7.0e-06j  -5.28241 +0.0e+00j]]\n",
      "Eqp1\n",
      "  n      ik=0        ik=40       ik=8    \n",
      "  1    -6.357116   -2.055636   -3.948717\n",
      "  2     6.339801   -2.048372   -1.206435\n",
      "  3     6.339236    3.182950    5.000719\n",
      "  4     6.340306    3.182856    5.000791\n",
      "  5     9.822045    7.659987    8.738322\n",
      "  6     9.820868    7.661232   10.697239\n",
      "  7     9.821501   18.182082   10.696503\n",
      "  8    11.024264   18.182705   15.050368\n",
      "\n",
      "       k =  0.000000  0.000000  0.000000 ik =  0 spin = 1\n",
      "   n         Emf          Eo           X        SX-X          CH         Sig         Vxc        Eqp0        Eqp1         CH`        Sig`       Eqp0`       Eqp1`         Znk\n",
      "   0   -5.636258   -5.636258  -17.549885   12.243998   -6.205623  -11.511509  -10.503149   -6.644618   -6.357116   -5.796970  -11.102857   -6.235965   -6.064978    0.714882\n",
      "   1    6.473721    6.473721  -12.974838    8.177246   -6.731277  -11.528869  -11.369434    6.314287    6.339801   -5.402481  -10.200073    7.643082    7.455950    0.839971\n",
      "   2    6.473721    6.473721  -12.974887    8.176874   -6.731529  -11.529542  -11.369434    6.313614    6.339236   -5.402850  -10.200863    7.642293    7.455283    0.839967\n",
      "   3    6.473721    6.473721  -12.974943    8.179714   -6.733041  -11.528270  -11.369434    6.314886    6.340306   -5.404011  -10.199240    7.643916    7.456640    0.839961\n",
      "   4    9.026397    9.026397   -5.765704    3.300257   -6.637995   -9.103443  -10.061242    9.984195    9.822045   -5.343540   -7.808987   11.278651   10.897357    0.830705\n",
      "   5    9.026397    9.026397   -5.765349    3.291178   -6.630693   -9.104864  -10.061242    9.982774    9.820868   -5.336222   -7.810393   11.277245   10.896196    0.830709\n",
      "   6    9.026397    9.026397   -5.765490    3.296973   -6.635581   -9.104099  -10.061242    9.983540    9.821501   -5.341045   -7.809562   11.278076   10.896880    0.830706\n",
      "   7   10.004552   10.004552   -5.831181    3.369051   -7.257706   -9.719836  -10.941357   11.226073   11.024264   -5.721550   -8.183680   12.762228   12.306630    0.834789\n",
      "\n",
      "       k =  0.000000  0.000000  0.250000 ik =  1 spin = 1\n",
      "   n         Emf          Eo           X        SX-X          CH         Sig         Vxc        Eqp0        Eqp1         CH`        Sig`       Eqp0`       Eqp1`         Znk\n",
      "   0   -1.422128   -1.422128  -16.038835   10.836142   -6.506673  -11.709366  -10.892168   -2.239326   -2.055636   -5.846687  -11.049380   -1.579340   -1.544001    0.775219\n",
      "   1   -1.422128   -1.422128  -16.038768   10.848005   -6.509391  -11.700154  -10.892168   -2.230114   -2.048372   -5.849324  -11.040087   -1.570048   -1.536776    0.775067\n",
      "   2    3.560630    3.560630  -13.417569    8.838429   -6.512429  -11.091570  -10.629376    3.098436    3.182950   -5.559384  -10.138525    4.051481    3.961728    0.817147\n",
      "   3    3.560630    3.560630  -13.417522    8.837812   -6.511982  -11.091692  -10.629376    3.098314    3.182856   -5.559113  -10.138823    4.051183    3.961478    0.817134\n",
      "   4    7.119659    7.119659   -5.196499    2.864940   -6.029414   -8.360974   -9.007609    7.766294    7.659987   -4.982179   -7.313738    8.813530    8.535058    0.835600\n",
      "   5    7.119659    7.119659   -5.196223    2.867032   -6.030281   -8.359472   -9.007609    7.767796    7.661232   -4.983590   -7.312781    8.814487    8.535832    0.835585\n",
      "   6   16.729131   16.729131   -3.789616    1.736864   -6.727789   -8.780541  -10.569848   18.518438   18.182082   -4.621046   -6.673798   20.625182   19.892797    0.812019\n",
      "   7   16.729131   16.729131   -3.789609    1.738987   -6.729825   -8.780448  -10.569848   18.518532   18.182705   -4.622911   -6.673533   20.625446   19.894203    0.812324\n",
      "\n",
      "       k =  0.000000  0.000000  0.500000 ik =  2 spin = 1\n",
      "   n         Emf          Eo           X        SX-X          CH         Sig         Vxc        Eqp0        Eqp1         CH`        Sig`       Eqp0`       Eqp1`         Znk\n",
      "   0   -3.256071   -3.256071  -16.918913   11.549630   -6.445321  -11.814604  -10.897824   -4.172851   -3.948717   -5.879218  -11.248500   -3.606747   -3.521014    0.755521\n",
      "   1   -0.604717   -0.604717  -14.908717   10.174679   -6.265240  -10.999277  -10.226790   -1.377204   -1.206435   -5.642409  -10.376447   -0.754373   -0.721290    0.778936\n",
      "   2    5.252890    5.252890  -13.204348    8.500881   -6.706408  -11.409874  -11.105711    4.948728    5.000719   -5.572965  -10.276432    6.082170    5.940419    0.829068\n",
      "   3    5.252890    5.252890  -13.204514    8.501443   -6.706718  -11.409789  -11.105711    4.948813    5.000791   -5.573327  -10.276398    6.082204    5.940443    0.829062\n",
      "   4    8.045854    8.045854   -5.934488    3.299234   -6.665526   -9.300780  -10.131847    8.876921    8.738322   -5.446976   -8.082230   10.095471    9.753652    0.833228\n",
      "   5    9.785199    9.785199   -5.081719    2.791634   -6.307431   -8.597516   -9.683737   10.871420   10.697239   -4.890853   -7.180938   12.287998   11.886661    0.839645\n",
      "   6    9.785199    9.785199   -5.081701    2.790402   -6.307076   -8.598375   -9.683737   10.870562   10.696503   -4.890394   -7.181693   12.287244   11.885994    0.839631\n",
      "   7   14.194393   14.194393   -2.406364    1.089915   -5.400502   -6.716951   -7.738986   15.216428   15.050368   -3.771960   -5.088409   16.844970   16.414304    0.837520\n"
     ]
    },
    {
     "name": "stderr",
     "output_type": "stream",
     "text": [
      "\n"
     ]
    }
   ],
   "source": [
    "gpp_result = sigma.calculate_gpp()"
   ]
  }
 ],
 "metadata": {
  "kernelspec": {
   "display_name": "qtm_tddft_aug",
   "language": "python",
   "name": "python3"
  },
  "language_info": {
   "codemirror_mode": {
    "name": "ipython",
    "version": 3
   },
   "file_extension": ".py",
   "mimetype": "text/x-python",
   "name": "python",
   "nbconvert_exporter": "python",
   "pygments_lexer": "ipython3",
   "version": "3.11.9"
  },
  "orig_nbformat": 4
 },
 "nbformat": 4,
 "nbformat_minor": 2
}
