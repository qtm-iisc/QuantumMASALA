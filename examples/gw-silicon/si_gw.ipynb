{
 "cells": [
  {
   "cell_type": "markdown",
   "metadata": {},
   "source": [
    "### Tutorial Notebook: G<sub>0</sub>W<sub>0</sub> Approximation \n",
    "\n",
    "In this notebook, we present an example calculation of quasiparticle energies using QuatumMASALA's `gw` module."
   ]
  },
  {
   "cell_type": "code",
   "execution_count": 29,
   "metadata": {},
   "outputs": [
    {
     "name": "stdout",
     "output_type": "stream",
     "text": [
      "The autoreload extension is already loaded. To reload it, use:\n",
      "  %reload_ext autoreload\n"
     ]
    }
   ],
   "source": [
    "%load_ext autoreload\n",
    "%autoreload 2"
   ]
  },
  {
   "cell_type": "code",
   "execution_count": 30,
   "metadata": {},
   "outputs": [],
   "source": [
    "# Imports\n",
    "import numpy as np\n",
    "import sys\n",
    "\n",
    "sys.path.append(\".\")\n",
    "\n",
    "dirname = \"./\""
   ]
  },
  {
   "cell_type": "markdown",
   "metadata": {},
   "source": [
    "### DFT Calculation\n",
    "\n",
    "We will start with a DFT calculation to get the energy eigenfunctions and eigenvalues."
   ]
  },
  {
   "cell_type": "code",
   "execution_count": 31,
   "metadata": {},
   "outputs": [],
   "source": [
    "import numpy as np\n",
    "\n",
    "from qtm.constants import RYDBERG, ELECTRONVOLT\n",
    "from qtm.kpts import KList\n",
    "from qtm.lattice import RealLattice\n",
    "from qtm.crystal import BasisAtoms, Crystal\n",
    "from qtm.pseudo import UPFv2Data\n",
    "from qtm.gspace import GSpace\n",
    "from qtm.mpi import QTMComm\n",
    "from qtm.dft import DFTCommMod, scf\n",
    "\n",
    "from qtm.io_utils.dft_printers import print_scf_status\n",
    "\n",
    "from qtm import qtmconfig\n",
    "from qtm.logger import qtmlogger\n",
    "# qtmconfig.fft_backend = 'mkl_fft'\n",
    "\n",
    "from mpi4py.MPI import COMM_WORLD\n",
    "comm_world = QTMComm(COMM_WORLD)\n",
    "dftcomm = DFTCommMod(comm_world)\n",
    "\n",
    "# Lattice\n",
    "reallat = RealLattice.from_alat(alat=10.2,  # Bohr\n",
    "                                a1=[-0.5,  0.0,  0.5],\n",
    "                                a2=[ 0.0,  0.5,  0.5],\n",
    "                                a3=[-0.5,  0.5,  0.0])\n",
    "\n",
    "# Atom Basis\n",
    "si_oncv = UPFv2Data.from_file('Si_ONCV_PBE-1.2.upf')\n",
    "si_atoms = BasisAtoms.from_alat('Si', si_oncv, 28.086, reallat,\n",
    "                               [[0.875, 0.875, 0.875], [0.125, 0.125, 0.125]])\n",
    "\n",
    "crystal = Crystal(reallat, [si_atoms, ])  # Represents the crystal\n",
    "\n",
    "\n",
    "# Generating k-points from a Monkhorst Pack grid (reduced to the crystal's IBZ)\n",
    "mpgrid_shape = (4, 4, 4)\n",
    "x = np.linspace(0,1,mpgrid_shape[0], endpoint=False)\n",
    "y = np.linspace(0,1,mpgrid_shape[1], endpoint=False)\n",
    "z = np.linspace(0,1,mpgrid_shape[2], endpoint=False)\n",
    "xx,yy,zz = np.meshgrid(x,y,z, indexing=\"ij\")\n",
    "kcryst = np.vstack([xx.flatten(),yy.flatten(),zz.flatten()])\n",
    "\n",
    "kpts = KList(recilat=crystal.recilat, k_coords=kcryst, k_weights=np.ones(kcryst.shape[1])/kcryst.shape[1])\n",
    "\n",
    "\n",
    "# -----Setting up G-Space of calculation-----\n",
    "ecut_wfn = 25 * RYDBERG\n",
    "ecut_rho = 4 * ecut_wfn\n",
    "grho = GSpace(crystal.recilat, ecut_rho)\n",
    "gwfn = grho\n",
    "\n",
    "# -----Spin-polarized (collinear) calculation-----\n",
    "is_spin, is_noncolin = False, False\n",
    "mag_start = [0.0]\n",
    "numbnd_occ = 4\n",
    "numbnd_nscf = 30\n",
    "\n",
    "occ = 'fixed'\n",
    "\n",
    "conv_thr = 1E-8 * RYDBERG\n",
    "diago_thr_init = 1E-2 * RYDBERG"
   ]
  },
  {
   "cell_type": "markdown",
   "metadata": {},
   "source": [
    "### DFT: SCF calculation for occupied bands"
   ]
  },
  {
   "cell_type": "code",
   "execution_count": 32,
   "metadata": {},
   "outputs": [
    {
     "name": "stdout",
     "output_type": "stream",
     "text": [
      "Iteration # 1, Run Time:   3.3 sec\n",
      "Convergence Status   : NOT Converged\n",
      "SCF Error           : 5.5925e-02 Ry\n",
      "Avg Diago Iterations: 8.0\n",
      "Diago Threshold     : 1.00e-02 Ry\n",
      "\n",
      "Total Energy:          -15.94105986 Ry\n",
      "\n",
      "      one-el:            4.86451170 Ry\n",
      "     Hartree:            0.80642513 Ry\n",
      "          XC:           -4.71223800 Ry\n",
      "       Ewald:          -16.89975869 Ry\n",
      "\n",
      "    HO Level:            5.96856844 eV\n",
      "----------------------------------------\n",
      "\n",
      "Iteration # 1, Run Time:   4.4 sec\n",
      "Convergence Status   : NOT Converged\n",
      "SCF Error           : 6.0082e-02 Ry\n",
      "Avg Diago Iterations: 2.8\n",
      "Diago Threshold     : 6.99e-04 Ry\n",
      "\n",
      "Total Energy:          -15.96485154 Ry\n",
      "\n",
      "      one-el:            4.84072003 Ry\n",
      "     Hartree:            0.80642513 Ry\n",
      "          XC:           -4.71223800 Ry\n",
      "       Ewald:          -16.89975869 Ry\n",
      "\n",
      "    HO Level:            5.91288694 eV\n",
      "----------------------------------------\n",
      "\n",
      "Iteration # 2, Run Time:   5.3 sec\n",
      "Convergence Status   : NOT Converged\n",
      "SCF Error           : 2.6353e-03 Ry\n",
      "Avg Diago Iterations: 1.0\n",
      "Diago Threshold     : 3.29e-05 Ry\n",
      "\n",
      "Total Energy:          -15.77494746 Ry\n",
      "\n",
      "      one-el:            4.87902170 Ry\n",
      "     Hartree:            1.06608035 Ry\n",
      "          XC:           -4.82029082 Ry\n",
      "       Ewald:          -16.89975869 Ry\n",
      "\n",
      "    HO Level:            6.41511617 eV\n",
      "----------------------------------------\n",
      "\n",
      "Iteration # 3, Run Time:   6.6 sec\n",
      "Convergence Status   : NOT Converged\n",
      "SCF Error           : 5.1905e-05 Ry\n",
      "Avg Diago Iterations: 3.2\n",
      "Diago Threshold     : 6.49e-07 Ry\n",
      "\n",
      "Total Energy:          -15.74249843 Ry\n",
      "\n",
      "      one-el:            4.88829535 Ry\n",
      "     Hartree:            1.11628284 Ry\n",
      "          XC:           -4.84731792 Ry\n",
      "       Ewald:          -16.89975869 Ry\n",
      "\n",
      "    HO Level:            6.48985039 eV\n",
      "----------------------------------------\n",
      "\n",
      "Iteration # 4, Run Time:   8.2 sec\n",
      "Convergence Status   : NOT Converged\n",
      "SCF Error           : 6.1398e-07 Ry\n",
      "Avg Diago Iterations: 4.3\n",
      "Diago Threshold     : 7.67e-09 Ry\n",
      "\n",
      "Total Energy:          -15.74926821 Ry\n",
      "\n",
      "      one-el:            4.88755080 Ry\n",
      "     Hartree:            1.10776080 Ry\n",
      "          XC:           -4.84482112 Ry\n",
      "       Ewald:          -16.89975869 Ry\n",
      "\n",
      "    HO Level:            6.47207212 eV\n",
      "----------------------------------------\n",
      "\n",
      "Iteration # 5, Run Time:   9.5 sec\n",
      "Convergence Status   : NOT Converged\n",
      "SCF Error           : 2.4397e-08 Ry\n",
      "Avg Diago Iterations: 4.8\n",
      "Diago Threshold     : 3.05e-10 Ry\n",
      "\n",
      "Total Energy:          -15.74864176 Ry\n",
      "\n",
      "      one-el:            4.88768398 Ry\n",
      "     Hartree:            1.10882176 Ry\n",
      "          XC:           -4.84538881 Ry\n",
      "       Ewald:          -16.89975869 Ry\n",
      "\n",
      "    HO Level:            6.47381836 eV\n",
      "----------------------------------------\n",
      "\n",
      "Iteration # 6, Run Time:  10.4 sec\n",
      "Convergence Status   :  Converged\n",
      "SCF Error           : 2.2706e-10 Ry\n",
      "Avg Diago Iterations: 4.0\n",
      "Diago Threshold     : 3.05e-10 Ry\n",
      "\n",
      "Total Energy:          -15.74868366 Ry\n",
      "\n",
      "      one-el:            4.88766947 Ry\n",
      "     Hartree:            1.10873528 Ry\n",
      "          XC:           -4.84532973 Ry\n",
      "       Ewald:          -16.89975869 Ry\n",
      "\n",
      "    HO Level:            6.47367690 eV\n",
      "----------------------------------------\n",
      "\n",
      "SCF Routine has exited\n"
     ]
    },
    {
     "name": "stderr",
     "output_type": "stream",
     "text": [
      "/home/agrim/codes/QuantumMASALA_presentation_25Sept2023/QuantumMASALA/src/qtm/dft/scf.py:420: ComplexWarning: Casting complex values to real discards the imaginary part\n",
      "  hpsi_r = sum((v_xc * psi_r.get_density())).integrate_unitcell()\n"
     ]
    }
   ],
   "source": [
    "from qtm.constants import ELECTRONVOLT_HART\n",
    "from qtm.kpts import KList\n",
    "\n",
    "\n",
    "kpts = KList(recilat=crystal.recilat, k_coords=kpts.k_cryst, k_weights=np.ones(kpts.k_cryst.shape[1])/kpts.k_cryst.shape[1])\n",
    "\n",
    "scf_out = scf(dftcomm, crystal, kpts, grho, gwfn,\n",
    "          numbnd_occ, is_spin, is_noncolin,\n",
    "          rho_start=mag_start, occ_typ=occ,\n",
    "          conv_thr=conv_thr, diago_thr_init=diago_thr_init,\n",
    "          iter_printer=print_scf_status,\n",
    "          ret_vxc=True)\n",
    "\n",
    "\n",
    "print(\"SCF Routine has exited\")\n",
    "# print(qtmlogger)"
   ]
  },
  {
   "cell_type": "markdown",
   "metadata": {},
   "source": [
    "#### DFT: NSCF calculation for unshifted grid\n",
    "Observe that `maxiter` has been set to `1` and `diago_thr_init` has been set to a high value."
   ]
  },
  {
   "cell_type": "code",
   "execution_count": 33,
   "metadata": {},
   "outputs": [
    {
     "name": "stdout",
     "output_type": "stream",
     "text": [
      "Iteration # 1, Run Time:  21.1 sec\n",
      "Convergence Status   :  Converged\n",
      "SCF Error           : 2.2628e-10 Ry\n",
      "Avg Diago Iterations: 20.0\n",
      "Diago Threshold     : 1.25e-10 Ry\n",
      "\n",
      "Total Energy:          -15.74868364 Ry\n",
      "\n",
      "      one-el:            4.88766950 Ry\n",
      "     Hartree:            1.10873528 Ry\n",
      "          XC:           -4.84532973 Ry\n",
      "       Ewald:          -16.89975869 Ry\n",
      "\n",
      "    HO Level:            6.47367697 eV\n",
      "    LU Level:            7.11964564 eV\n",
      "----------------------------------------\n",
      "\n"
     ]
    }
   ],
   "source": [
    "rho = scf_out[1].copy()\n",
    "nscf_out = scf(dftcomm, crystal, kpts, grho, gwfn,\n",
    "          numbnd_nscf, is_spin, is_noncolin,\n",
    "          rho_start=rho, \n",
    "          occ_typ=occ,\n",
    "          conv_thr=conv_thr, \n",
    "          diago_thr_init=(conv_thr/crystal.numel)/10,\n",
    "          iter_printer=print_scf_status,\n",
    "          maxiter=1,\n",
    "          ret_vxc=True)\n",
    "\n",
    "scf_converged_nscf, rho_nscf, l_wfn_kgrp, en_nscf, vxc = nscf_out"
   ]
  },
  {
   "cell_type": "markdown",
   "metadata": {},
   "source": [
    "#### DFT: NSCF calculation for shifted grid\n",
    "\n",
    "Dielectric matrix calculation for the $q\\to 0$ point will require energy eigenfunctions for a slightly shifted $k$-grid."
   ]
  },
  {
   "cell_type": "code",
   "execution_count": 35,
   "metadata": {},
   "outputs": [
    {
     "name": "stdout",
     "output_type": "stream",
     "text": [
      "Iteration # 1, Run Time:  21.9 sec\n",
      "Convergence Status   :  Converged\n",
      "SCF Error           : 3.1062e-10 Ry\n",
      "Avg Diago Iterations: 20.0\n",
      "Diago Threshold     : 1.25e-10 Ry\n",
      "\n",
      "Total Energy:          -15.74868281 Ry\n",
      "\n",
      "      one-el:            4.88767032 Ry\n",
      "     Hartree:            1.10873528 Ry\n",
      "          XC:           -4.84532973 Ry\n",
      "       Ewald:          -16.89975869 Ry\n",
      "\n",
      "    HO Level:            6.47365312 eV\n",
      "    LU Level:            7.11792828 eV\n",
      "----------------------------------------\n",
      "\n",
      "Shifted SCF Routine has exited\n"
     ]
    }
   ],
   "source": [
    "k_coords_q = kpts.k_cryst+np.array([[0,0,0.001]]).T\n",
    "k_weights_q = np.ones(k_coords_q.shape[1])/k_coords_q.shape[1]\n",
    "kpts_q = KList(recilat=crystal.recilat, k_coords=k_coords_q, k_weights=k_weights_q)\n",
    "\n",
    "rho = scf_out[1].copy()\n",
    "out_q = scf(dftcomm, crystal, kpts_q, grho, gwfn,\n",
    "          numbnd_nscf, is_spin, is_noncolin,\n",
    "          rho_start=rho, \n",
    "          occ_typ=occ,\n",
    "          conv_thr=conv_thr, \n",
    "          diago_thr_init=(conv_thr/crystal.numel)/10,\n",
    "          iter_printer=print_scf_status,\n",
    "          maxiter=1)\n",
    "\n",
    "scf_converged_nscf_q, rho_nscf_q, l_wfn_kgrp_q, en_nscf_q = out_q\n",
    "\n",
    "\n",
    "print(\"Shifted SCF Routine has exited\")\n",
    "# print(qtmlogger)"
   ]
  },
  {
   "cell_type": "markdown",
   "metadata": {},
   "source": [
    "### Load Input Files\n",
    "Input data is handled by the ``EpsInp`` class.\\\n",
    "The data can be provided either by constructing the ``EpsInp`` object or by reading BGW-compatible input file ``epsilon.inp``.\\\n",
    "The attributes have been supplied with docstrings from BerkeleyGW's input specification, so they will be accessible directly in most IDEs."
   ]
  },
  {
   "cell_type": "code",
   "execution_count": 7,
   "metadata": {},
   "outputs": [],
   "source": [
    "from qtm.gw.io_bgw.epsinp import Epsinp\n",
    "\n",
    "# Constructing input manually\n",
    "# epsinp = Epsinp(epsilon_cutoff=1.2,\n",
    "#                 use_wfn_hdf5=True,\n",
    "#                 number_bands=8,\n",
    "#                 write_vcoul=True,\n",
    "#                 qpts=[[0.0,0.0,0.0]],\n",
    "#                 is_q0=[True])\n",
    "\n",
    "# Reading from epsilon.inp file\n",
    "epsinp = Epsinp.from_epsilon_inp(filename=dirname+'epsilon.inp')\n",
    "# print(epsinp)\n",
    "\n",
    "# There is an analogous system to read SigmaInp\n",
    "from qtm.gw.io_bgw.sigmainp import Sigmainp\n",
    "sigmainp = Sigmainp.from_sigma_inp(filename=dirname+'sigma.inp')\n",
    "# print(sigmainp)"
   ]
  },
  {
   "cell_type": "markdown",
   "metadata": {},
   "source": [
    "### Initialize Epsilon Class\n",
    "\n",
    "``Epsilon`` class can be initialized by either directly passing the required `quantummasala.core` objects or by passing the input objects discussed earlier."
   ]
  },
  {
   "cell_type": "code",
   "execution_count": 8,
   "metadata": {},
   "outputs": [
    {
     "name": "stderr",
     "output_type": "stream",
     "text": [
      "Vcoul calculation for qpts: 100%|██████████| 64/64 [00:00<00:00, 11800.40it/s]\n"
     ]
    }
   ],
   "source": [
    "from qtm.gw.core import QPoints\n",
    "from qtm.gw.epsilon import Epsilon\n",
    "from qtm.klist import KList\n",
    "\n",
    "kpts_gw =   KList(recilat=kpts.recilat,   cryst=kpts.k_cryst.T,   weights=kpts.k_weights)\n",
    "kpts_gw_q = KList(recilat=kpts_q.recilat, cryst=kpts_q.k_cryst.T, weights=kpts_q.k_weights)\n",
    "\n",
    "# Manual initialization\n",
    "epsilon = Epsilon(\n",
    "    crystal = crystal,\n",
    "    gspace = grho,\n",
    "    kpts = kpts_gw,\n",
    "    kptsq = kpts_gw_q,        \n",
    "    l_wfn = l_wfn_kgrp,\n",
    "    l_wfnq = l_wfn_kgrp_q,\n",
    "    qpts = QPoints.from_cryst(kpts.recilat, epsinp.is_q0, *epsinp.qpts),\n",
    "    epsinp = epsinp,\n",
    ")\n",
    "\n",
    "# epsilon = Epsilon.from_data(wfndata=wfndata, wfnqdata=wfnqdata, epsinp=epsinp)"
   ]
  },
  {
   "cell_type": "markdown",
   "metadata": {},
   "source": [
    "The three main steps involved in the calculation have been mapped to the corresponding functions:\n",
    "1.  ``matrix_elements``: Calculation of Planewave Matrix elements\n",
    "2.  ``polarizability``: Calculation of RPA polarizability matrix $P$\n",
    "3.  ``epsilon_inverse``: Calculation of (static) epsilon-inverse matrix\n",
    "\n",
    "<!-- 1.  ``matrix_elements``: Calculation of Planewave Matrix elements\n",
    "    $$M_{nn'}({\\textbf k},{\\textbf q},{\\textbf G}) = \\bra{n\\,{\\textbf k}{+}{\\textbf q}}e^{i({\\textbf q}+{\\textbf G})\\cdot{\\textbf r}}\\ket{n'\\,\\textbf k}$$\n",
    "    where the $\\textbf G$-vectors included in the calculation satisfy $|\\textbf q + \\textbf G|^2 < E_{\\text{cut}}$.\n",
    "    Since this is a convolution in k-space, the time complexity can be reduced from $\\mathcal{O}\\left(N^2_G\\right)$ to $\\mathcal{O}\\left(N_G\\ln N_G\\right)$ by using Fast Fourier Transform, where $N_G$  the number of reciprocal lattice vectors in the wavefunction.\n",
    "    $$\n",
    "    M_{nn'}({\\bf k},{\\bf q},\\{{\\bf G}\\}) = {\\rm FFT}^{-1}\\left( \\phi^{*}_{n,{\\bf k}+{\\bf q} }({\\bf r}) \\phi_{n',{\\bf k} }({\\bf r}) \\right).\n",
    "    $$\n",
    "    where $\\phi_{n',{\\bf k}}({\\bf r}) = {\\rm FFT}\\left( \\psi_{n\\bf k}(\\bf G)\\right)$. \n",
    "    \n",
    "2.  ``polarizability``: Calculation of RPA polarizability matrix $P$\n",
    "    $$\n",
    "        P_{\\textbf{GG'}}{\\left({\\textbf q}\\;\\!;0\\right)}=\n",
    "        \\,\\,{}\\sum_{n}^{\\textrm occ}\\sum_{n'}^{\\textrm emp}\\sum_{{\\textbf k}}\n",
    "        \\frac{\n",
    "        \\bra{n'\\textbf k}e^{-i({\\textbf q}+{\\textbf G})\\cdot{\\textbf r}}\\ket{n{\\textbf k}{+}{\\textbf q}}\n",
    "        \\bra{n{\\textbf k}{+}{\\textbf q}}e^{i({\\textbf q}+{\\textbf G'})\\cdot{\\textbf r}}\\ket{n'\\textbf k}\n",
    "        }{E_{n{\\textbf k}{+}{\\textbf q}}\\,{-}\\,E_{n'{\\textbf k}}}.\n",
    "    $$\n",
    "3.  ``epsilon_inverse``: Calculation of (static) epsilon-inverse matrix\n",
    "    $$\n",
    "        \\epsilon_{\\textbf{GG'}}{\\left({\\textbf q}\\;\\!\\right)}=\n",
    "        \\delta_{\\textbf{GG'}}\\,{-}\\,v{\\left({\\textbf q}{+}{\\textbf G}\\right)} \\,\n",
    "        P_{\\textbf{GG'}}{\\left({\\textbf q}\\;\\!\\right)}\n",
    "    $$\n",
    "    where $ v(\\textbf{q} + \\textbf{G}) = \\frac{8\\pi}{\\left|\\textbf q + \\textbf G\\right|^2} $ is bare Coulomb potential, written in Rydberg units. If this formula is used as-is for the case where $|\\textbf q| = |\\textbf G| = 0$, the resulting $v\\left({\\textbf{q=0}, \\textbf{G=0}}\\;\\!\\right)$ blows up as $1/q^2$. However, for 3D gapped systems, the matrix elements $\\big| M_{nn'}\\left({\\bf k},{\\textbf{q}\\to\\textbf{0}},{\\textbf{G=0}}\\right)\\big| \\sim q$ cancel the Coulomb divergence and $\\epsilon_{\\textbf{00}}\\left({\\textbf q\\to\\textbf{0}}\\;\\!\\right) \\sim q^2/q^2$ which is a finite number. In order to calculate $\\epsilon_{\\textbf{00}}\\left({\\textbf q=\\textbf{0}}\\;\\!\\right)$, we use the scheme specified in BGW2012, wherein $q=0$ is replaced with a small but non-zero value. Since matrix element calculation involves the eigenvectors $\\ket{n{\\textbf k}{+}{\\textbf q}}$, having a non-$\\Gamma$-centered $\\textbf q\\to 0$ point requires mean-field eigenvectors over a shifted $k$-grid. -->"
   ]
  },
  {
   "cell_type": "code",
   "execution_count": 9,
   "metadata": {},
   "outputs": [
    {
     "name": "stderr",
     "output_type": "stream",
     "text": [
      "Epsilon> q-pt index: 100%|██████████| 64/64 [00:35<00:00,  1.79it/s]\n"
     ]
    }
   ],
   "source": [
    "from tqdm import trange\n",
    "from qtm.gw.core import reorder_2d_matrix_sorted_gvecs, sort_cryst_like_BGW\n",
    "\n",
    "\n",
    "def calculate_epsilon(numq=None, writing=False):\n",
    "    epsmats = []\n",
    "    if numq is None:\n",
    "        numq = epsilon.qpts.numq\n",
    "\n",
    "    for i_q in trange(0, numq, desc=\"Epsilon> q-pt index\"):\n",
    "        # Create map between BGW's sorting order and QTm's sorting order\n",
    "        gkspc = epsilon.l_gq[i_q]\n",
    "        \n",
    "        if i_q == epsilon.qpts.index_q0:\n",
    "            key = gkspc.g_norm2\n",
    "        else:\n",
    "            key = gkspc.gk_norm2\n",
    "\n",
    "        indices_gspace_sorted = sort_cryst_like_BGW(\n",
    "            cryst=gkspc.g_cryst, key_array=key\n",
    "        )\n",
    "\n",
    "        # Calculate matrix elements\n",
    "        M = next(epsilon.matrix_elements(i_q=i_q))\n",
    "\n",
    "        # Calculate polarizability matrix (faster, but not memory-efficient)\n",
    "        chimat = epsilon.polarizability(M)\n",
    "\n",
    "        # Calculate polarizability matrix (memory-efficient)\n",
    "        # chimat = epsilon.polarizability_active(i_q)\n",
    "        \n",
    "        # Calculate epsilon inverse matrix\n",
    "        epsinv = epsilon.epsilon_inverse(i_q=i_q, polarizability_matrix=chimat, store=True)\n",
    "\n",
    "\n",
    "        epsinv = reorder_2d_matrix_sorted_gvecs(epsinv, indices_gspace_sorted)\n",
    "        epsilon.l_epsinv[i_q] = epsinv\n",
    "\n",
    "        if i_q == epsilon.qpts.index_q0:\n",
    "            if writing:\n",
    "                epsilon.write_epsmat(\n",
    "                    filename=\"test/epsilon/eps0mat_qtm.h5\", epsinvmats=[epsinv]\n",
    "                )\n",
    "        else:\n",
    "            epsmats.append(epsinv)\n",
    "            \n",
    "        if False:        \n",
    "            # Compare the results with BGW's results\n",
    "            if i_q == epsilon.qpts.index_q0:\n",
    "                epsref = epsilon.read_epsmat(dirname + \"eps0mat.h5\")[0][0, 0]\n",
    "            else:\n",
    "                epsref = np.array(epsilon.read_epsmat(dirname + \"epsmat.h5\")[i_q - 1][0, 0])    \n",
    "\n",
    "            # Calculate stddev between reference and calculated epsinv matrices\n",
    "            std_eps = np.std(np.abs(epsref) - np.abs(epsinv)) / np.sqrt(np.prod(list(epsinv.shape)))\n",
    "        \n",
    "            epstol = 1e-16\n",
    "            if np.abs(std_eps) > epstol:\n",
    "                print(f\"Standard deviation exceeded {epstol} tolerance: {std_eps}, for i_q:{i_q}\")\n",
    "                print(np.max(np.abs(epsinv-epsref)))\n",
    "                indices = np.where(np.abs(epsinv)-np.abs(epsref)>1e-5)\n",
    "                \n",
    "\n",
    "    if writing:\n",
    "        epsilon.write_epsmat(filename=\"test/epsilon/epsmat_qtm.h5\", epsinvmats=epsmats)\n",
    "\n",
    "calculate_epsilon()\n"
   ]
  },
  {
   "cell_type": "markdown",
   "metadata": {},
   "source": [
    "### Sigma Calculation\n",
    "\n",
    "Here we demonstate the calculation of diagonal matrix elements of $\\Sigma_{\\text{QP}}$. The input parameters for sigma calculation are being read from `sigma.inp` file, but the same parameters can also be provided by manually constructing a `SigmaInp` object. \n",
    "\n",
    "Here we will calculate $\\bra{nk}\\Sigma_{\\text{QP}}\\ket{nk}$ for the following k-points:\n",
    "- $\\Gamma$: `k=(0,0,0)`\n",
    "- $L$: `k=(0.5,0.5,0)`\n",
    "- $X$: `k=(0,0.5,0)`"
   ]
  },
  {
   "cell_type": "code",
   "execution_count": 10,
   "metadata": {},
   "outputs": [
    {
     "name": "stderr",
     "output_type": "stream",
     "text": [
      "Vcoul calculation for qpts: 100%|██████████| 64/64 [00:00<00:00, 13803.44it/s]\n"
     ]
    },
    {
     "name": "stdout",
     "output_type": "stream",
     "text": [
      "vcoul: Vcoul:\n",
      "        * gspace = <qtm.gspace.gspc.GSpace object at 0x7f5d011bf190>\n",
      "        * qpts = <qtm.gw.core.QPoints object at 0x7f5cf622b6d0>\n",
      "        * bare_coulomb_cutoff = 10.0\n",
      "        * avgcut = 1e-05\n",
      "        * l_gspace_q = <class 'list'> of length 64\n",
      "        * vcoul = <class 'list'> of length 64\n",
      "        * N_SAMPLES = 2500000.0\n",
      "        * N_SAMPLES_COARSE = 250000.0\n",
      "        * SEED = 5000\n",
      "        \n"
     ]
    },
    {
     "name": "stderr",
     "output_type": "stream",
     "text": [
      "Vcoul calculation for qpts: 100%|██████████| 64/64 [01:02<00:00,  1.03it/s]\n"
     ]
    }
   ],
   "source": [
    "from qtm.gw.sigma import Sigma\n",
    "\n",
    "outdir = dirname+\"temp/\"\n",
    "\n",
    "\n",
    "sigma = Sigma.from_qtm_scf(\n",
    "    crystal = crystal,\n",
    "    gspace = grho,\n",
    "    kpts = kpts_gw,\n",
    "    kptsq=kpts_gw_q,\n",
    "    l_wfn_kgrp=l_wfn_kgrp,\n",
    "    l_wfn_kgrp_q=l_wfn_kgrp_q,\n",
    "    sigmainp=sigmainp,\n",
    "    epsinp = epsinp,\n",
    "    epsilon=epsilon,\n",
    "    rho=rho,\n",
    "    vxc=vxc\n",
    ")\n",
    "\n",
    "# Alternatively, the Sigma object can also be intitialized from pw2bgw.x output data (after being procesed by wfn2hdf5.x).\n",
    "# sigma = Sigma.from_data(\n",
    "#     wfndata=wfndata,\n",
    "#     wfnqdata=wfnqdata,\n",
    "#     sigmainp=sigmainp,\n",
    "#     epsinp=epsinp,\n",
    "#     l_epsmats=epsilon.l_epsinv,\n",
    "#     rho=rho,\n",
    "#     vxc=vxc,\n",
    "#     outdir=outdir,\n",
    "# )"
   ]
  },
  {
   "cell_type": "code",
   "execution_count": 20,
   "metadata": {},
   "outputs": [
    {
     "name": "stderr",
     "output_type": "stream",
     "text": [
      "Sigma_SX_Static:   0%|          | 0/64 [00:00<?, ?it/s]"
     ]
    },
    {
     "name": "stderr",
     "output_type": "stream",
     "text": [
      "Sigma_SX_Static: 100%|██████████| 64/64 [00:02<00:00, 25.60it/s]"
     ]
    },
    {
     "name": "stdout",
     "output_type": "stream",
     "text": [
      "Sigma SX COHSEX\n",
      "  n      ik=1        ik=41       ik=9    \n",
      "  1    11.875823   10.671036   11.328749\n",
      "  2     8.032456   10.679500   10.014670\n",
      "  3     8.030223    8.719398    8.365710\n",
      "  4     8.031513    8.719927    8.366196\n",
      "  5     2.906871    2.587371    2.872627\n",
      "  6     2.912285    2.587355    2.426072\n",
      "  7     2.911883    1.328943    2.427773\n",
      "  8     2.681679    1.328864    0.739613\n"
     ]
    },
    {
     "name": "stderr",
     "output_type": "stream",
     "text": [
      "\n"
     ]
    }
   ],
   "source": [
    "sigma_sx_cohsex_mat = sigma.sigma_sx_static(yielding=True)    \n",
    "print(\"Sigma SX COHSEX\")\n",
    "sigma.pprint_sigma_mat(sigma_sx_cohsex_mat)"
   ]
  },
  {
   "cell_type": "code",
   "execution_count": 12,
   "metadata": {},
   "outputs": [
    {
     "name": "stderr",
     "output_type": "stream",
     "text": [
      "Sigma_CH_Static_Partial: 100%|██████████| 64/64 [00:05<00:00, 12.69it/s]"
     ]
    },
    {
     "name": "stdout",
     "output_type": "stream",
     "text": [
      "Sigma CH COHSEX\n",
      "  n      ik=1        ik=41       ik=9    \n",
      "  1    -6.627245   -6.302982   -6.494446\n",
      "  2    -5.099631   -6.303241   -6.068626\n",
      "  3    -5.099172   -5.571211   -5.407032\n",
      "  4    -5.099275   -5.571192   -5.407508\n",
      "  5    -4.744831   -4.701345   -4.917363\n",
      "  6    -4.746989   -4.701008   -4.286926\n",
      "  7    -4.746800   -3.460411   -4.287495\n",
      "  8    -4.757448   -3.460265   -2.975076\n"
     ]
    },
    {
     "name": "stderr",
     "output_type": "stream",
     "text": [
      "\n"
     ]
    }
   ],
   "source": [
    "sigma_ch_cohsex_mat = sigma.sigma_ch_static()    \n",
    "print(\"Sigma CH COHSEX\")\n",
    "sigma.pprint_sigma_mat(sigma_ch_cohsex_mat)"
   ]
  },
  {
   "cell_type": "code",
   "execution_count": 24,
   "metadata": {},
   "outputs": [
    {
     "name": "stderr",
     "output_type": "stream",
     "text": [
      "Sigma_X: 100%|██████████| 64/64 [00:02<00:00, 25.12it/s]\n"
     ]
    },
    {
     "name": "stdout",
     "output_type": "stream",
     "text": [
      "Sigma X\n",
      "  n      ik=0        ik=40       ik=8    \n",
      "  1   -17.549893  -16.038862  -16.918923\n",
      "  2   -12.974998  -16.038766  -14.908727\n",
      "  3   -12.974855  -13.417514  -13.204429\n",
      "  4   -12.974868  -13.417599  -13.204461\n",
      "  5    -5.765277   -5.196146   -5.934487\n",
      "  6    -5.765520   -5.196565   -5.081701\n",
      "  7    -5.765733   -3.789600   -5.081712\n",
      "  8    -5.831193   -3.789630   -2.406361\n"
     ]
    },
    {
     "name": "stderr",
     "output_type": "stream",
     "text": [
      "Sigma_SX_Static: 100%|██████████| 64/64 [00:02<00:00, 27.58it/s]\n"
     ]
    },
    {
     "name": "stdout",
     "output_type": "stream",
     "text": [
      "Sigma SX STATIC\n",
      "  n      ik=0        ik=40       ik=8    \n",
      "  1    11.875823   10.671036   11.328749\n",
      "  2     8.032456   10.679500   10.014670\n",
      "  3     8.030223    8.719398    8.365710\n",
      "  4     8.031513    8.719927    8.366196\n",
      "  5     2.906871    2.587371    2.872627\n",
      "  6     2.912285    2.587355    2.426072\n",
      "  7     2.911883    1.328943    2.427773\n",
      "  8     2.681679    1.328864    0.739613\n"
     ]
    },
    {
     "name": "stderr",
     "output_type": "stream",
     "text": [
      "Sigma_CH_Static_Partial: 100%|██████████| 64/64 [00:04<00:00, 15.39it/s]\n"
     ]
    },
    {
     "name": "stdout",
     "output_type": "stream",
     "text": [
      "Sigma CH STATIC\n",
      "  n      ik=0        ik=40       ik=8    \n",
      "  1    -6.627245   -6.302982   -6.494446\n",
      "  2    -5.099631   -6.303241   -6.068626\n",
      "  3    -5.099172   -5.571211   -5.407032\n",
      "  4    -5.099275   -5.571192   -5.407508\n",
      "  5    -4.744831   -4.701345   -4.917363\n",
      "  6    -4.746989   -4.701008   -4.286926\n",
      "  7    -4.746800   -3.460411   -4.287495\n",
      "  8    -4.757448   -3.460265   -2.975076\n"
     ]
    },
    {
     "name": "stderr",
     "output_type": "stream",
     "text": [
      "Sigma_CH_Static_Exact: 100%|██████████| 64/64 [00:19<00:00,  3.22it/s]"
     ]
    },
    {
     "name": "stdout",
     "output_type": "stream",
     "text": [
      "Sigma CH EXACT STATIC\n",
      "  n      ik=0        ik=40       ik=8    \n",
      "  1    -7.444549   -7.623265   -7.626651\n",
      "  2    -7.757747   -7.623061   -7.314287\n",
      "  3    -7.756375   -7.476842   -7.673885\n",
      "  4    -7.756953   -7.477383   -7.674314\n",
      "  5    -7.333986   -6.794872   -7.354459\n",
      "  6    -7.335867   -6.795333   -7.120309\n",
      "  7    -7.335678   -7.674095   -7.120625\n",
      "  8    -7.829754   -7.673887   -6.232160\n",
      "Sig (Exact):\n",
      "  n      ik=0        ik=40       ik=8    \n",
      "  1   -13.118620  -12.991090  -13.216825\n",
      "  2   -12.700290  -12.982327  -12.208345\n",
      "  3   -12.701007  -12.174958  -12.512605\n",
      "  4   -12.700308  -12.175056  -12.512579\n",
      "  5   -10.192392   -9.403647  -10.416319\n",
      "  6   -10.189102   -9.404542   -9.775938\n",
      "  7   -10.189528  -10.134752   -9.774565\n",
      "  8   -10.979268  -10.134653   -7.898908\n",
      "Eqp0 (Exact):\n",
      "  n      ik=0        ik=40       ik=8    \n",
      "  1    -8.251757   -3.521091   -5.575113\n",
      "  2     5.142806   -3.512327   -2.586290\n",
      "  3     5.142088    2.015015    3.845947\n",
      "  4     5.142788    2.014918    3.845973\n",
      "  5     8.895235    6.723631    7.761357\n",
      "  6     8.898525    6.722736    9.692997\n",
      "  7     8.898099   17.164201    9.694371\n",
      "  8     9.966600   17.164300   14.034511\n",
      "Sig (Partial):\n",
      "  n      ik=0        ik=40       ik=8    \n",
      "  1   -12.301315  -11.670807  -12.084620\n",
      "  2   -10.042174  -11.662507  -10.962684\n",
      "  3   -10.043804  -10.269327  -10.245751\n",
      "  4   -10.042630  -10.268865  -10.245773\n",
      "  5    -7.603237   -7.310120   -7.979222\n",
      "  6    -7.600224   -7.310218   -6.942555\n",
      "  7    -7.600650   -5.921069   -6.941434\n",
      "  8    -7.906962   -5.921031   -4.641824\n",
      "Eqp0 (Partial):\n",
      "  n      ik=0        ik=40       ik=8    \n",
      "  1    -7.434453   -2.200808   -4.442908\n",
      "  2     7.800922   -2.192507   -1.340629\n",
      "  3     7.799292    3.920647    6.112801\n",
      "  4     7.800466    3.921109    6.112780\n",
      "  5    11.484390    8.817158   10.198454\n",
      "  6    11.487403    8.817061   12.526380\n",
      "  7    11.486977   21.377884   12.527501\n",
      "  8    13.038906   21.377922   17.291595\n",
      "\n",
      "\n",
      "       k =  0.000000  0.000000  0.000000 ik =  0 spin = 1\n",
      "   n         Emf          Eo           X        SX-X          CH         Sig         Vxc        Eqp0        Eqp1         CH`        Sig`       Eqp0`       Eqp1`         Znk\n",
      "   0   -5.636291   -5.636291  -17.549893   11.875823   -7.444549  -13.118620  -10.503154   -8.251757   -8.251757   -6.627245  -12.301315   -7.434453   -7.434453    1.000000\n",
      "   1    6.473677    6.473677  -12.974998    8.032456   -7.757747  -12.700290  -11.369419    5.142806    5.142806   -5.099631  -10.042174    7.800922    7.800922    1.000000\n",
      "   2    6.473677    6.473677  -12.974855    8.030223   -7.756375  -12.701007  -11.369419    5.142088    5.142088   -5.099172  -10.043804    7.799292    7.799292    1.000000\n",
      "   3    6.473677    6.473677  -12.974868    8.031513   -7.756953  -12.700308  -11.369419    5.142788    5.142788   -5.099275  -10.042630    7.800466    7.800466    1.000000\n",
      "   4    9.026369    9.026369   -5.765277    2.906871   -7.333986  -10.192392  -10.061258    8.895235    8.895235   -4.744831   -7.603237   11.484390   11.484390    1.000000\n",
      "   5    9.026369    9.026369   -5.765520    2.912285   -7.335867  -10.189102  -10.061258    8.898525    8.898525   -4.746989   -7.600224   11.487403   11.487403    1.000000\n",
      "   6    9.026369    9.026369   -5.765733    2.911883   -7.335678  -10.189528  -10.061258    8.898099    8.898099   -4.746800   -7.600650   11.486977   11.486977    1.000000\n",
      "   7   10.004507   10.004507   -5.831193    2.681679   -7.829754  -10.979268  -10.941361    9.966600    9.966600   -4.757448   -7.906962   13.038906   13.038906    1.000000\n",
      "\n",
      "       k =  0.000000  0.000000  0.250000 ik =  1 spin = 1\n",
      "   n         Emf          Eo           X        SX-X          CH         Sig         Vxc        Eqp0        Eqp1         CH`        Sig`       Eqp0`       Eqp1`         Znk\n",
      "   0   -1.422167   -1.422167  -16.038862   10.671036   -7.623265  -12.991090  -10.892166   -3.521091   -3.521091   -6.302982  -11.670807   -2.200808   -2.200808    1.000000\n",
      "   1   -1.422167   -1.422167  -16.038766   10.679500   -7.623061  -12.982327  -10.892166   -3.512327   -3.512327   -6.303241  -11.662507   -2.192507   -2.192507    1.000000\n",
      "   2    3.560595    3.560595  -13.417514    8.719398   -7.476842  -12.174958  -10.629378    2.015015    2.015015   -5.571211  -10.269327    3.920647    3.920647    1.000000\n",
      "   3    3.560596    3.560596  -13.417599    8.719927   -7.477383  -12.175056  -10.629378    2.014918    2.014918   -5.571192  -10.268865    3.921109    3.921109    1.000000\n",
      "   4    7.119646    7.119646   -5.196146    2.587371   -6.794872   -9.403647   -9.007633    6.723631    6.723631   -4.701345   -7.310120    8.817158    8.817158    1.000000\n",
      "   5    7.119646    7.119646   -5.196565    2.587355   -6.795333   -9.404542   -9.007633    6.722736    6.722736   -4.701008   -7.310218    8.817061    8.817061    1.000000\n",
      "   6   16.729093   16.729093   -3.789600    1.328943   -7.674095  -10.134752  -10.569860   17.164201   17.164201   -3.460411   -5.921069   21.377884   21.377884    1.000000\n",
      "   7   16.729093   16.729093   -3.789630    1.328864   -7.673887  -10.134653  -10.569860   17.164300   17.164300   -3.460265   -5.921031   21.377922   21.377922    1.000000\n",
      "\n",
      "       k =  0.000000  0.000000  0.500000 ik =  2 spin = 1\n",
      "   n         Emf          Eo           X        SX-X          CH         Sig         Vxc        Eqp0        Eqp1         CH`        Sig`       Eqp0`       Eqp1`         Znk\n",
      "   0   -3.256110   -3.256110  -16.918923   11.328749   -7.626651  -13.216825  -10.897822   -5.575113   -5.575113   -6.494446  -12.084620   -4.442908   -4.442908    1.000000\n",
      "   1   -0.604747   -0.604747  -14.908727   10.014670   -7.314287  -12.208345  -10.226801   -2.586290   -2.586290   -6.068626  -10.962684   -1.340629   -1.340629    1.000000\n",
      "   2    5.252849    5.252849  -13.204429    8.365710   -7.673885  -12.512605  -11.105703    3.845947    3.845947   -5.407032  -10.245751    6.112801    6.112801    1.000000\n",
      "   3    5.252849    5.252849  -13.204461    8.366196   -7.674314  -12.512579  -11.105703    3.845973    3.845973   -5.407508  -10.245773    6.112780    6.112780    1.000000\n",
      "   4    8.045824    8.045824   -5.934487    2.872627   -7.354459  -10.416319  -10.131852    7.761357    7.761357   -4.917363   -7.979222   10.198454   10.198454    1.000000\n",
      "   5    9.785177    9.785177   -5.081701    2.426072   -7.120309   -9.775938   -9.683759    9.692997    9.692997   -4.286926   -6.942555   12.526380   12.526380    1.000000\n",
      "   6    9.785177    9.785177   -5.081712    2.427773   -7.120625   -9.774565   -9.683759    9.694371    9.694371   -4.287495   -6.941434   12.527501   12.527501    1.000000\n",
      "   7   14.194398   14.194398   -2.406361    0.739613   -6.232160   -7.898908   -7.739020   14.034511   14.034511   -2.975076   -4.641824   17.291595   17.291595    1.000000\n"
     ]
    },
    {
     "name": "stderr",
     "output_type": "stream",
     "text": [
      "\n"
     ]
    }
   ],
   "source": [
    "sigma.autosave=False\n",
    "sigma.print_condition=True\n",
    "cohsex_result = sigma.calculate_static_cohsex()"
   ]
  },
  {
   "cell_type": "code",
   "execution_count": 25,
   "metadata": {},
   "outputs": [
    {
     "name": "stdout",
     "output_type": "stream",
     "text": [
      "Sigma CH COHSEX EXACT\n"
     ]
    },
    {
     "name": "stderr",
     "output_type": "stream",
     "text": [
      "Sigma_CH_Static_Exact:   0%|          | 0/64 [00:00<?, ?it/s]"
     ]
    },
    {
     "name": "stderr",
     "output_type": "stream",
     "text": [
      "Sigma_CH_Static_Exact: 100%|██████████| 64/64 [00:20<00:00,  3.16it/s]"
     ]
    },
    {
     "name": "stdout",
     "output_type": "stream",
     "text": [
      "  n      ik=0        ik=40       ik=8    \n",
      "  1    -7.444549   -7.623265   -7.626651\n",
      "  2    -7.757747   -7.623061   -7.314287\n",
      "  3    -7.756375   -7.476842   -7.673885\n",
      "  4    -7.756953   -7.477383   -7.674314\n",
      "  5    -7.333986   -6.794872   -7.354459\n",
      "  6    -7.335867   -6.795333   -7.120309\n",
      "  7    -7.335678   -7.674095   -7.120625\n",
      "  8    -7.829754   -7.673887   -6.232160\n"
     ]
    },
    {
     "name": "stderr",
     "output_type": "stream",
     "text": [
      "\n"
     ]
    }
   ],
   "source": [
    "sigma.print_condition=True\n",
    "print(\"Sigma CH COHSEX EXACT\")\n",
    "sigma_ch_exact_mat = sigma.sigma_ch_static_exact()    \n",
    "sigma.pprint_sigma_mat(sigma_ch_exact_mat)"
   ]
  },
  {
   "cell_type": "code",
   "execution_count": 26,
   "metadata": {},
   "outputs": [
    {
     "name": "stderr",
     "output_type": "stream",
     "text": [
      "Sigma_SX_GPP:   0%|          | 0/64 [00:00<?, ?it/s]"
     ]
    },
    {
     "name": "stderr",
     "output_type": "stream",
     "text": [
      "Sigma_SX_GPP: 100%|██████████| 64/64 [00:50<00:00,  1.28it/s]"
     ]
    },
    {
     "name": "stdout",
     "output_type": "stream",
     "text": [
      "Sigma SX GPP\n",
      "  n      ik=0        ik=40       ik=8    \n",
      "  1    12.243984   10.838378   11.549620\n",
      "  2     8.179767   10.845757   10.174672\n",
      "  3     8.176508    8.837621    8.500791\n",
      "  4     8.177501    8.838613    8.501592\n",
      "  5     3.289017    2.865594    3.299221\n",
      "  6     3.299458    2.866378    2.790230\n",
      "  7     3.300086    1.738249    2.792023\n",
      "  8     3.367547    1.737804    1.089953\n"
     ]
    },
    {
     "name": "stderr",
     "output_type": "stream",
     "text": [
      "\n"
     ]
    }
   ],
   "source": [
    "sigma.print_condition=False\n",
    "sigma_sx_gpp = sigma.sigma_sx_gpp()    \n",
    "print(\"Sigma SX GPP\")\n",
    "sigma.pprint_sigma_mat(sigma_sx_gpp)"
   ]
  },
  {
   "cell_type": "code",
   "execution_count": 27,
   "metadata": {},
   "outputs": [
    {
     "name": "stderr",
     "output_type": "stream",
     "text": [
      "Sigma_CH_GPP:   0%|          | 0/64 [00:00<?, ?it/s]"
     ]
    },
    {
     "name": "stderr",
     "output_type": "stream",
     "text": [
      "Sigma_CH_GPP: 100%|██████████| 64/64 [00:54<00:00,  1.17it/s]"
     ]
    },
    {
     "name": "stdout",
     "output_type": "stream",
     "text": [
      "Sigma CH GPP\n",
      "  n      ik=0        ik=40       ik=8    \n",
      "  1    -5.796967   -5.846745   -5.879214\n",
      "  2    -5.404032   -5.849259   -5.642407\n",
      "  3    -5.402759   -5.559027   -5.572849\n",
      "  4    -5.402481   -5.559464   -5.573498\n",
      "  5    -5.334594   -4.982419   -5.446964\n",
      "  6    -5.342859   -4.983354   -4.890361\n",
      "  7    -5.343519   -4.622291   -4.891108\n",
      "  8    -5.720043   -4.621877   -3.772002\n"
     ]
    },
    {
     "name": "stderr",
     "output_type": "stream",
     "text": [
      "\n"
     ]
    }
   ],
   "source": [
    "sigma.print_condition=False\n",
    "sigma_ch_gpp,_ = sigma.sigma_ch_gpp()    \n",
    "print(\"Sigma CH GPP\")\n",
    "sigma.pprint_sigma_mat(sigma_ch_gpp)"
   ]
  },
  {
   "cell_type": "code",
   "execution_count": 28,
   "metadata": {},
   "outputs": [
    {
     "name": "stderr",
     "output_type": "stream",
     "text": [
      "Sigma_X:   0%|          | 0/64 [00:00<?, ?it/s]"
     ]
    },
    {
     "name": "stderr",
     "output_type": "stream",
     "text": [
      "Sigma_X: 100%|██████████| 64/64 [00:02<00:00, 24.92it/s]"
     ]
    },
    {
     "name": "stdout",
     "output_type": "stream",
     "text": [
      "Sigma X GPP\n"
     ]
    },
    {
     "name": "stderr",
     "output_type": "stream",
     "text": [
      "\n"
     ]
    },
    {
     "name": "stdout",
     "output_type": "stream",
     "text": [
      "  n      ik=0        ik=40       ik=8    \n",
      "  1   -17.549893  -16.038862  -16.918923\n",
      "  2   -12.974998  -16.038766  -14.908727\n",
      "  3   -12.974855  -13.417514  -13.204429\n",
      "  4   -12.974868  -13.417599  -13.204461\n",
      "  5    -5.765277   -5.196146   -5.934487\n",
      "  6    -5.765520   -5.196565   -5.081701\n",
      "  7    -5.765733   -3.789600   -5.081712\n",
      "  8    -5.831193   -3.789630   -2.406361\n"
     ]
    },
    {
     "name": "stderr",
     "output_type": "stream",
     "text": [
      "Sigma_CH_Static_Partial: 100%|██████████| 64/64 [00:05<00:00, 11.81it/s]"
     ]
    },
    {
     "name": "stdout",
     "output_type": "stream",
     "text": [
      "Sigma CH STATIC COHSEX\n"
     ]
    },
    {
     "name": "stderr",
     "output_type": "stream",
     "text": [
      "\n"
     ]
    },
    {
     "name": "stdout",
     "output_type": "stream",
     "text": [
      "  n      ik=0        ik=40       ik=8    \n",
      "  1    -6.627245   -6.302982   -6.494446\n",
      "  2    -5.099631   -6.303241   -6.068626\n",
      "  3    -5.099172   -5.571211   -5.407032\n",
      "  4    -5.099275   -5.571192   -5.407508\n",
      "  5    -4.744831   -4.701345   -4.917363\n",
      "  6    -4.746989   -4.701008   -4.286926\n",
      "  7    -4.746800   -3.460411   -4.287495\n",
      "  8    -4.757448   -3.460265   -2.975076\n"
     ]
    },
    {
     "name": "stderr",
     "output_type": "stream",
     "text": [
      "Sigma_CH_Static_Exact: 100%|██████████| 64/64 [00:19<00:00,  3.22it/s]"
     ]
    },
    {
     "name": "stdout",
     "output_type": "stream",
     "text": [
      "Sigma CH STATIC EXACT\n"
     ]
    },
    {
     "name": "stderr",
     "output_type": "stream",
     "text": [
      "\n"
     ]
    },
    {
     "name": "stdout",
     "output_type": "stream",
     "text": [
      "  n      ik=0        ik=40       ik=8    \n",
      "  1    -7.444549   -7.623265   -7.626651\n",
      "  2    -7.757747   -7.623061   -7.314287\n",
      "  3    -7.756375   -7.476842   -7.673885\n",
      "  4    -7.756953   -7.477383   -7.674314\n",
      "  5    -7.333986   -6.794872   -7.354459\n",
      "  6    -7.335867   -6.795333   -7.120309\n",
      "  7    -7.335678   -7.674095   -7.120625\n",
      "  8    -7.829754   -7.673887   -6.232160\n",
      "Started sigma_sx_gpp 2023-09-28 09:55:29\n"
     ]
    },
    {
     "name": "stderr",
     "output_type": "stream",
     "text": [
      "Sigma_SX_GPP: 100%|██████████| 64/64 [00:48<00:00,  1.31it/s]"
     ]
    },
    {
     "name": "stdout",
     "output_type": "stream",
     "text": [
      "Sigma SX GPP\n"
     ]
    },
    {
     "name": "stderr",
     "output_type": "stream",
     "text": [
      "\n"
     ]
    },
    {
     "name": "stdout",
     "output_type": "stream",
     "text": [
      "  n      ik=0        ik=40       ik=8    \n",
      "  1    12.243984   10.838378   11.549620\n",
      "  2     8.179767   10.845757   10.174672\n",
      "  3     8.176508    8.837621    8.500791\n",
      "  4     8.177501    8.838613    8.501592\n",
      "  5     3.289017    2.865594    3.299221\n",
      "  6     3.299458    2.866378    2.790230\n",
      "  7     3.300086    1.738249    2.792023\n",
      "  8     3.367547    1.737804    1.089953\n"
     ]
    },
    {
     "name": "stderr",
     "output_type": "stream",
     "text": [
      "Sigma_CH_GPP: 100%|██████████| 64/64 [00:57<00:00,  1.12it/s]"
     ]
    },
    {
     "name": "stdout",
     "output_type": "stream",
     "text": [
      "Sigma CH GPP\n",
      "  n      ik=0        ik=40       ik=8    \n",
      "  1    -5.796967   -5.846745   -5.879214\n",
      "  2    -5.404032   -5.849259   -5.642407\n",
      "  3    -5.402759   -5.559027   -5.572849\n",
      "  4    -5.402481   -5.559464   -5.573498\n",
      "  5    -5.334594   -4.982419   -5.446964\n",
      "  6    -5.342859   -4.983354   -4.890361\n",
      "  7    -5.343519   -4.622291   -4.891108\n",
      "  8    -5.720043   -4.621877   -3.772002\n",
      "Sig GPP:\n",
      "  n      ik=0        ik=40       ik=8    \n",
      "  1   -11.511529  -11.707371  -11.814619\n",
      "  2   -11.528322  -11.702178  -10.999293\n",
      "  3   -11.529708  -11.091736  -11.409914\n",
      "  4   -11.528687  -11.091546  -11.409770\n",
      "  5    -9.105431   -8.359735   -9.300777\n",
      "  6    -9.103361   -8.360703   -8.598523\n",
      "  7    -9.103605   -8.780485   -8.597363\n",
      "  8    -9.719842   -8.780515   -6.716952\n",
      "Eqp0\n"
     ]
    },
    {
     "name": "stderr",
     "output_type": "stream",
     "text": [
      "\n"
     ]
    },
    {
     "name": "stdout",
     "output_type": "stream",
     "text": [
      "  n      ik=0        ik=40       ik=8    \n",
      "  1    -6.644666   -2.237372   -4.172907\n",
      "  2     6.314774   -2.232179   -1.377238\n",
      "  3     6.313388    3.098238    4.948638\n",
      "  4     6.314409    3.098428    4.948782\n",
      "  5     9.982196    7.767543    8.876899\n",
      "  6     9.984266    7.766576   10.870412\n",
      "  7     9.984022   18.518468   10.871572\n",
      "  8    11.226026   18.518438   15.216467\n"
     ]
    },
    {
     "name": "stderr",
     "output_type": "stream",
     "text": [
      "Sigma_CH_GPP: 100%|██████████| 64/64 [00:55<00:00,  1.14it/s]\n",
      "Sigma_SX_GPP: 100%|██████████| 64/64 [00:47<00:00,  1.35it/s]"
     ]
    },
    {
     "name": "stdout",
     "output_type": "stream",
     "text": [
      "Sigma CH GPP dE\n",
      "  n      ik=0        ik=40       ik=8    \n",
      "  1    -6.056249   -6.123600   -6.149619\n",
      "  2    -5.638186   -6.126359   -5.916335\n",
      "  3    -5.637478   -5.843310   -5.860758\n",
      "  4    -5.641839   -5.843758   -5.861447\n",
      "  5    -5.560907   -5.286730   -5.772165\n",
      "  6    -5.570104   -5.287019   -5.099012\n",
      "  7    -5.570705   -4.909229   -5.100760\n",
      "  8    -5.941092   -4.908886   -4.063214\n",
      "Sigma SX GPP dE\n",
      "  n      ik=0        ik=40       ik=8    \n",
      "  1    -6.056249   -6.123600   -6.149619\n",
      "  2    -5.638186   -6.126359   -5.916335\n",
      "  3    -5.637478   -5.843310   -5.860758\n",
      "  4    -5.641839   -5.843758   -5.861447\n",
      "  5    -5.560907   -5.286730   -5.772165\n",
      "  6    -5.570104   -5.287019   -5.099012\n",
      "  7    -5.570705   -4.909229   -5.100760\n",
      "  8    -5.941092   -4.908886   -4.063214\n",
      "Z:\n",
      "  n      ik=0        ik=40       ik=8    \n",
      "  1     0.714882    0.775109    0.755522\n",
      "  2     0.839959    0.775179    0.778936\n",
      "  3     0.839968    0.817130    0.829067\n",
      "  4     0.839972    0.817152    0.829063\n",
      "  5     0.830712    0.835602    0.833228\n",
      "  6     0.830703    0.835584    0.839629\n",
      "  7     0.830706    0.812199    0.839647\n",
      "  8     0.834789    0.812141    0.837523\n",
      "Sig_2:\n",
      "[[-11.501708-0.00e+00j -11.337371+1.06e-04j -11.572104+0.00e+00j]\n",
      " [-10.389798-0.00e+00j -11.332293-1.06e-04j -10.660265-0.00e+00j]\n",
      " [-10.391628+0.00e+00j -10.362716-0.00e+00j -10.482662+0.00e+00j]\n",
      " [-10.390364+0.00e+00j -10.362213+0.00e+00j -10.482547-0.00e+00j]\n",
      " [ -8.014641+0.00e+00j  -7.509713+3.90e-05j  -8.282381+0.00e+00j]\n",
      " [ -8.012721-0.00e+00j  -7.510308-3.90e-05j  -7.372834-0.00e+00j]\n",
      " [ -8.012962+0.00e+00j  -6.904867+7.00e-06j  -7.371774+0.00e+00j]\n",
      " [ -8.381596+0.00e+00j  -6.905017-7.00e-06j  -5.282407+0.00e+00j]]\n",
      "Eqp1\n",
      "  n      ik=0        ik=40       ik=8    \n",
      "  1    -6.357160   -2.054039   -3.948770\n",
      "  2     6.340205   -2.050071   -1.206468\n",
      "  3     6.339039    3.182789    5.000638\n",
      "  4     6.339896    3.182934    5.000759\n",
      "  5     9.820386    7.661030    8.738299\n",
      "  6     9.822097    7.660210   10.696372\n",
      "  7     9.821897   18.182422   10.697366\n",
      "  8    11.024218   18.182294   15.050404\n",
      "\n",
      "       k =  0.000000  0.000000  0.000000 ik =  0 spin = 1\n",
      "   n         Emf          Eo           X        SX-X          CH         Sig         Vxc        Eqp0        Eqp1         CH`        Sig`       Eqp0`       Eqp1`         Znk\n",
      "   0   -5.636291   -5.636291  -17.549893   12.243984   -6.205619  -11.511529  -10.503154   -6.644666   -6.357160   -5.796967  -11.102877   -6.236014   -6.065022    0.714882\n",
      "   1    6.473677    6.473677  -12.974998    8.179767   -6.733091  -11.528322  -11.369419    6.314774    6.340205   -5.404032  -10.199263    7.643832    7.456559    0.839959\n",
      "   2    6.473677    6.473677  -12.974855    8.176508   -6.731361  -11.529708  -11.369419    6.313388    6.339039   -5.402759  -10.201106    7.641989    7.455022    0.839968\n",
      "   3    6.473677    6.473677  -12.974868    8.177501   -6.731320  -11.528687  -11.369419    6.314409    6.339896   -5.402481  -10.199848    7.643247    7.456084    0.839972\n",
      "   4    9.026369    9.026369   -5.765277    3.289017   -6.629172   -9.105431  -10.061258    9.982196    9.820386   -5.334594   -7.810854   11.276773   10.895807    0.830712\n",
      "   5    9.026369    9.026369   -5.765520    3.299458   -6.637298   -9.103361  -10.061258    9.984266    9.822097   -5.342859   -7.808922   11.278705   10.897391    0.830703\n",
      "   6    9.026369    9.026369   -5.765733    3.300086   -6.637958   -9.103605  -10.061258    9.984022    9.821897   -5.343519   -7.809166   11.278461   10.897195    0.830706\n",
      "   7   10.004507   10.004507   -5.831193    3.367547   -7.256196   -9.719842  -10.941361   11.226026   11.024218   -5.720043   -8.183689   12.762179   12.306582    0.834789\n",
      "\n",
      "       k =  0.000000  0.000000  0.250000 ik =  1 spin = 1\n",
      "   n         Emf          Eo           X        SX-X          CH         Sig         Vxc        Eqp0        Eqp1         CH`        Sig`       Eqp0`       Eqp1`         Znk\n",
      "   0   -1.422167   -1.422167  -16.038862   10.838378   -6.506887  -11.707371  -10.892166   -2.237372   -2.054039   -5.846745  -11.047229   -1.577230   -1.542358    0.775109\n",
      "   1   -1.422167   -1.422167  -16.038766   10.845757   -6.509169  -11.702178  -10.892166   -2.232179   -2.050071   -5.849259  -11.042268   -1.572269   -1.538522    0.775179\n",
      "   2    3.560595    3.560595  -13.417514    8.837621   -6.511843  -11.091736  -10.629378    3.098238    3.182789   -5.559027  -10.138920    4.051054    3.961364    0.817130\n",
      "   3    3.560596    3.560596  -13.417599    8.838613   -6.512559  -11.091546  -10.629378    3.098428    3.182934   -5.559464  -10.138450    4.051523    3.961758    0.817152\n",
      "   4    7.119646    7.119646   -5.196146    2.865594   -6.029183   -8.359735   -9.007633    7.767543    7.661030   -4.982419   -7.312971    8.814307    8.535708    0.835602\n",
      "   5    7.119646    7.119646   -5.196565    2.866378   -6.030517   -8.360703   -9.007633    7.766576    7.660210   -4.983354   -7.313540    8.813738    8.535202    0.835584\n",
      "   6   16.729093   16.729093   -3.789600    1.738249   -6.729133   -8.780485  -10.569860   18.518468   18.182422   -4.622291   -6.673643   20.625310   19.893598    0.812199\n",
      "   7   16.729093   16.729093   -3.789630    1.737804   -6.728688   -8.780515  -10.569860   18.518438   18.182294   -4.621877   -6.673704   20.625249   19.893323    0.812141\n",
      "\n",
      "       k =  0.000000  0.000000  0.500000 ik =  2 spin = 1\n",
      "   n         Emf          Eo           X        SX-X          CH         Sig         Vxc        Eqp0        Eqp1         CH`        Sig`       Eqp0`       Eqp1`         Znk\n",
      "   0   -3.256110   -3.256110  -16.918923   11.549620   -6.445317  -11.814619  -10.897822   -4.172907   -3.948770   -5.879214  -11.248517   -3.606804   -3.521067    0.755522\n",
      "   1   -0.604747   -0.604747  -14.908727   10.174672   -6.265237  -10.999293  -10.226801   -1.377238   -1.206468   -5.642407  -10.376462   -0.754408   -0.721323    0.778936\n",
      "   2    5.252849    5.252849  -13.204429    8.500791   -6.706275  -11.409914  -11.105703    4.948638    5.000638   -5.572849  -10.276487    6.082065    5.940325    0.829067\n",
      "   3    5.252849    5.252849  -13.204461    8.501592   -6.706901  -11.409770  -11.105703    4.948782    5.000759   -5.573498  -10.276367    6.082186    5.940422    0.829063\n",
      "   4    8.045824    8.045824   -5.934487    3.299221   -6.665512   -9.300777  -10.131852    8.876899    8.738299   -5.446964   -8.082229   10.095447    9.753628    0.833228\n",
      "   5    9.785177    9.785177   -5.081701    2.790230   -6.307053   -8.598523   -9.683759   10.870412   10.696372   -4.890361   -7.181831   12.287104   11.885867    0.839629\n",
      "   6    9.785177    9.785177   -5.081712    2.792023   -6.307673   -8.597363   -9.683759   10.871572   10.697366   -4.891108   -7.180798   12.288137   11.886780    0.839647\n",
      "   7   14.194398   14.194398   -2.406361    1.089953   -5.400544   -6.716952   -7.739020   15.216467   15.050404   -3.772002   -5.088410   16.845009   16.414345    0.837523\n"
     ]
    },
    {
     "name": "stderr",
     "output_type": "stream",
     "text": [
      "\n"
     ]
    }
   ],
   "source": [
    "gpp_result = sigma.calculate_gpp()"
   ]
  }
 ],
 "metadata": {
  "kernelspec": {
   "display_name": "qtm",
   "language": "python",
   "name": "python3"
  },
  "language_info": {
   "codemirror_mode": {
    "name": "ipython",
    "version": 3
   },
   "file_extension": ".py",
   "mimetype": "text/x-python",
   "name": "python",
   "nbconvert_exporter": "python",
   "pygments_lexer": "ipython3",
   "version": "3.11.5"
  },
  "orig_nbformat": 4
 },
 "nbformat": 4,
 "nbformat_minor": 2
}
