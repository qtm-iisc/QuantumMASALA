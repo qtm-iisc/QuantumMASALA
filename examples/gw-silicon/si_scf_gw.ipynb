{
 "cells": [
  {
   "cell_type": "markdown",
   "metadata": {},
   "source": [
    "### Tutorial Notebook: G<sub>0</sub>W<sub>0</sub> Approximation \n",
    "\n",
    "In this notebook, we present an example calculation of quasiparticle energies using QuatumMASALA's `gw` module."
   ]
  },
  {
   "cell_type": "code",
   "execution_count": 1,
   "metadata": {},
   "outputs": [
    {
     "name": "stdout",
     "output_type": "stream",
     "text": [
      "The autoreload extension is already loaded. To reload it, use:\n",
      "  %reload_ext autoreload\n"
     ]
    }
   ],
   "source": [
    "%load_ext autoreload\n",
    "%autoreload 2"
   ]
  },
  {
   "cell_type": "code",
   "execution_count": 2,
   "metadata": {},
   "outputs": [],
   "source": [
    "# Imports\n",
    "import numpy as np\n",
    "import sys\n",
    "\n",
    "sys.path.append(\".\")\n",
    "\n",
    "dirname = \"./\""
   ]
  },
  {
   "cell_type": "code",
   "execution_count": 3,
   "metadata": {},
   "outputs": [],
   "source": [
    "import numpy as np\n",
    "\n",
    "from qtm.constants import RYDBERG, ELECTRONVOLT\n",
    "from qtm.kpts import KList\n",
    "from qtm.lattice import RealLattice\n",
    "from qtm.crystal import BasisAtoms, Crystal\n",
    "from qtm.pseudo import UPFv2Data\n",
    "# from qtm.klist import gen_monkhorst_pack_grid\n",
    "from qtm.gspace import GSpace\n",
    "from qtm.mpi import QTMComm\n",
    "from qtm.dft import DFTCommMod, scf\n",
    "\n",
    "from qtm.io_utils.dft_printers import print_scf_status\n",
    "\n",
    "from qtm import qtmconfig\n",
    "from qtm.logger import qtmlogger\n",
    "# qtmconfig.fft_backend = 'mkl_fft'\n",
    "\n",
    "from mpi4py.MPI import COMM_WORLD\n",
    "comm_world = QTMComm(COMM_WORLD)\n",
    "dftcomm = DFTCommMod(comm_world)\n",
    "\n",
    "# Lattice\n",
    "reallat = RealLattice.from_alat(alat=10.2,  # Bohr\n",
    "                                a1=[-0.5,  0.0,  0.5],\n",
    "                                a2=[ 0.0,  0.5,  0.5],\n",
    "                                a3=[-0.5,  0.5,  0.0])\n",
    "\n",
    "# Atom Basis\n",
    "si_oncv = UPFv2Data.from_file('Si_ONCV_PBE-1.2.upf')\n",
    "si_atoms = BasisAtoms.from_alat('Si', si_oncv, 28.086, reallat,\n",
    "                               [[0.875, 0.875, 0.875], [0.125, 0.125, 0.125]])\n",
    "\n",
    "crystal = Crystal(reallat, [si_atoms, ])  # Represents the crystal\n",
    "\n",
    "\n",
    "# Generating k-points from a Monkhorst Pack grid (reduced to the crystal's IBZ)\n",
    "mpgrid_shape = (4, 4, 4)\n",
    "x = np.linspace(0,1,mpgrid_shape[0], endpoint=False)\n",
    "y = np.linspace(0,1,mpgrid_shape[1], endpoint=False)\n",
    "z = np.linspace(0,1,mpgrid_shape[2], endpoint=False)\n",
    "xx,yy,zz = np.meshgrid(x,y,z, indexing=\"ij\")\n",
    "kcryst = np.vstack([xx.flatten(),yy.flatten(),zz.flatten()])\n",
    "\n",
    "kpts = KList(recilat=crystal.recilat, k_coords=kcryst, k_weights=np.ones(kcryst.shape[1])/kcryst.shape[1])\n",
    "\n",
    "# mpgrid_shift = (True,True,True)\n",
    "# kpts = gen_monkhorst_pack_grid(crystal, mpgrid_shape, mpgrid_shift)\n",
    "# print(kpts.numkpts)\n",
    "# -----Setting up G-Space of calculation-----\n",
    "ecut_wfn = 25 * RYDBERG\n",
    "# NOTE: In future version, hard grid (charge/pot) and smooth-grid (wavefun)\n",
    "# can be set independently\n",
    "ecut_rho = 4 * ecut_wfn\n",
    "grho = GSpace(crystal.recilat, ecut_rho)\n",
    "gwfn = grho\n",
    "\n",
    "# -----Spin-polarized (collinear) calculation-----\n",
    "is_spin, is_noncolin = False, False\n",
    "# Starting with asymmetric spin distribution else convergence may yield only\n",
    "# non-magnetized states\n",
    "mag_start = [0.0]\n",
    "numbnd = 30  # Ensure adequate # of bands if system is not an insulator\n",
    "\n",
    "occ = 'fixed'\n",
    "smear_typ = 'gauss'\n",
    "e_temp = 0.0001 * RYDBERG\n",
    "\n",
    "conv_thr = 1E-8 * RYDBERG\n",
    "diago_thr_init = 1E-2 * RYDBERG"
   ]
  },
  {
   "cell_type": "code",
   "execution_count": 4,
   "metadata": {},
   "outputs": [
    {
     "name": "stdout",
     "output_type": "stream",
     "text": [
      "Iteration # 1, Run Time:   8.5 sec\n",
      "Convergence Status   : NOT Converged\n",
      "SCF Error           : 6.1171e-02 Ry\n",
      "Avg Diago Iterations: 7.7\n",
      "Diago Threshold     : 1.00e-02 Ry\n",
      "\n",
      "Total Energy:          -15.96754455 Ry\n",
      "\n",
      "      one-el:            4.83802701 Ry\n",
      "     Hartree:            0.80642513 Ry\n",
      "          XC:           -4.71223800 Ry\n",
      "       Ewald:          -16.89975869 Ry\n",
      "\n",
      "    HO Level:            5.89767081 eV\n",
      "    LU Level:            6.86611554 eV\n",
      "----------------------------------------\n",
      "\n",
      "Iteration # 1, Run Time:  11.7 sec\n",
      "Convergence Status   : NOT Converged\n",
      "SCF Error           : 6.1010e-02 Ry\n",
      "Avg Diago Iterations: 2.6\n",
      "Diago Threshold     : 7.63e-04 Ry\n",
      "\n",
      "Total Energy:          -15.96792935 Ry\n",
      "\n",
      "      one-el:            4.83764221 Ry\n",
      "     Hartree:            0.80642513 Ry\n",
      "          XC:           -4.71223800 Ry\n",
      "       Ewald:          -16.89975869 Ry\n",
      "\n",
      "    HO Level:            5.89675663 eV\n",
      "    LU Level:            6.86552231 eV\n",
      "----------------------------------------\n",
      "\n",
      "Iteration # 2, Run Time:  14.3 sec\n",
      "Convergence Status   : NOT Converged\n",
      "SCF Error           : 2.1363e-03 Ry\n",
      "Avg Diago Iterations: 1.0\n",
      "Diago Threshold     : 2.67e-05 Ry\n",
      "\n",
      "Total Energy:          -15.76806485 Ry\n",
      "\n",
      "      one-el:            4.88446745 Ry\n",
      "     Hartree:            1.06857676 Ry\n",
      "          XC:           -4.82135037 Ry\n",
      "       Ewald:          -16.89975869 Ry\n",
      "\n",
      "    HO Level:            6.40928190 eV\n",
      "    LU Level:            7.05940280 eV\n",
      "----------------------------------------\n",
      "\n",
      "Iteration # 3, Run Time:  18.2 sec\n",
      "Convergence Status   : NOT Converged\n",
      "SCF Error           : 5.6441e-05 Ry\n",
      "Avg Diago Iterations: 4.7\n",
      "Diago Threshold     : 7.06e-07 Ry\n",
      "\n",
      "Total Energy:          -15.74841804 Ry\n",
      "\n",
      "      one-el:            4.88812953 Ry\n",
      "     Hartree:            1.10557861 Ry\n",
      "          XC:           -4.84236750 Ry\n",
      "       Ewald:          -16.89975869 Ry\n",
      "\n",
      "    HO Level:            6.47035110 eV\n",
      "    LU Level:            7.10827531 eV\n",
      "----------------------------------------\n",
      "\n",
      "Iteration # 4, Run Time:  22.3 sec\n",
      "Convergence Status   : NOT Converged\n",
      "SCF Error           : 1.3258e-07 Ry\n",
      "Avg Diago Iterations: 4.3\n",
      "Diago Threshold     : 1.66e-09 Ry\n",
      "\n",
      "Total Energy:          -15.74880872 Ry\n",
      "\n",
      "      one-el:            4.88769137 Ry\n",
      "     Hartree:            1.10840927 Ry\n",
      "          XC:           -4.84515067 Ry\n",
      "       Ewald:          -16.89975869 Ry\n",
      "\n",
      "    HO Level:            6.47321156 eV\n",
      "    LU Level:            7.11819808 eV\n",
      "----------------------------------------\n",
      "\n",
      "Iteration # 5, Run Time:  28.8 sec\n",
      "Convergence Status   :  Converged\n",
      "SCF Error           : 9.4876e-10 Ry\n",
      "Avg Diago Iterations: 6.6\n",
      "Diago Threshold     : 1.66e-09 Ry\n",
      "\n",
      "Total Energy:          -15.74871825 Ry\n",
      "\n",
      "      one-el:            4.88766727 Ry\n",
      "     Hartree:            1.10867371 Ry\n",
      "          XC:           -4.84530054 Ry\n",
      "       Ewald:          -16.89975869 Ry\n",
      "\n",
      "    HO Level:            6.47357246 eV\n",
      "    LU Level:            7.11948006 eV\n",
      "----------------------------------------\n",
      "\n"
     ]
    },
    {
     "name": "stderr",
     "output_type": "stream",
     "text": [
      "/home/agrimsharma/codes/QuantumMASALA_demo/QuantumMASALA/src/qtm/dft/scf.py:438: ComplexWarning: Casting complex values to real discards the imaginary part\n",
      "  vxc_arr[ik,iband] = hpsi_r\n"
     ]
    },
    {
     "name": "stdout",
     "output_type": "stream",
     "text": [
      "SCF Routine has exited\n",
      "                          TIMERS                           \n",
      "-----------------------------------------------------------\n",
      "|            LABEL             |  CALL  |  TIME  | STATUS  |\n",
      "-----------------------------------------------------------\n",
      "-----------------------------------------------------------\n",
      "\n",
      "                COUNTERS                 \n",
      "-----------------------------------------\n",
      "|            LABEL             | COUNT  |\n",
      "-----------------------------------------\n",
      "-----------------------------------------\n",
      "\n"
     ]
    }
   ],
   "source": [
    "from qtm.constants import ELECTRONVOLT_HART\n",
    "from qtm.kpts import KList\n",
    "\n",
    "\n",
    "kpts = KList(recilat=crystal.recilat, k_coords=kpts.k_cryst, k_weights=np.ones(kpts.k_cryst.shape[1])/kpts.k_cryst.shape[1])\n",
    "\n",
    "out = scf(dftcomm, crystal, kpts, grho, gwfn,\n",
    "          numbnd, is_spin, is_noncolin,\n",
    "          rho_start=mag_start, occ_typ=occ,\n",
    "          conv_thr=conv_thr, diago_thr_init=diago_thr_init,\n",
    "          iter_printer=print_scf_status,\n",
    "          ret_vxc=True)\n",
    "\n",
    "scf_converged, rho, l_wfn_kgrp, en, vxc = out\n",
    "\n",
    "\n",
    "print(\"SCF Routine has exited\")\n",
    "print(qtmlogger)\n",
    "\n",
    "# print(vxc/ELECTRONVOLT_HART)\n",
    "\n",
    "# for wfn in l_wfn_kgrp:\n",
    "#     wfn.evc_gk/=(np.linalg.norm(wfn.evc_gk, axis=-1, keepdims=True))\n",
    "    # wfn.evl*=2\n",
    "    # wfn.normalize()"
   ]
  },
  {
   "cell_type": "code",
   "execution_count": 5,
   "metadata": {},
   "outputs": [
    {
     "name": "stdout",
     "output_type": "stream",
     "text": [
      "Iteration # 1, Run Time:  10.1 sec\n",
      "Convergence Status   : NOT Converged\n",
      "SCF Error           : 6.1181e-02 Ry\n",
      "Avg Diago Iterations: 7.7\n",
      "Diago Threshold     : 1.00e-02 Ry\n",
      "\n",
      "Total Energy:           -5.33847822 Ry\n",
      "\n",
      "      one-el:           15.46709334 Ry\n",
      "     Hartree:            0.80642513 Ry\n",
      "          XC:           -4.71223800 Ry\n",
      "       Ewald:          -16.89975869 Ry\n",
      "\n",
      "    HO Level:            5.89781265 eV\n",
      "    LU Level:            6.86455466 eV\n",
      "----------------------------------------\n",
      "\n",
      "Iteration # 1, Run Time:  13.7 sec\n",
      "Convergence Status   : NOT Converged\n",
      "SCF Error           : 6.1007e-02 Ry\n",
      "Avg Diago Iterations: 2.5\n",
      "Diago Threshold     : 7.63e-04 Ry\n",
      "\n",
      "Total Energy:           -5.34521954 Ry\n",
      "\n",
      "      one-el:           15.46035202 Ry\n",
      "     Hartree:            0.80642513 Ry\n",
      "          XC:           -4.71223800 Ry\n",
      "       Ewald:          -16.89975869 Ry\n",
      "\n",
      "    HO Level:            5.89673909 eV\n",
      "    LU Level:            6.86372562 eV\n",
      "----------------------------------------\n",
      "\n",
      "Iteration # 2, Run Time:  17.1 sec\n",
      "Convergence Status   : NOT Converged\n",
      "SCF Error           : 2.1366e-03 Ry\n",
      "Avg Diago Iterations: 1.1\n",
      "Diago Threshold     : 2.67e-05 Ry\n",
      "\n",
      "Total Energy:           -0.14951714 Ry\n",
      "\n",
      "      one-el:           20.50301756 Ry\n",
      "     Hartree:            1.06856834 Ry\n",
      "          XC:           -4.82134435 Ry\n",
      "       Ewald:          -16.89975869 Ry\n",
      "\n",
      "    HO Level:            6.40924415 eV\n",
      "    LU Level:            7.05767322 eV\n",
      "----------------------------------------\n",
      "\n",
      "Iteration # 3, Run Time:  20.9 sec\n",
      "Convergence Status   : NOT Converged\n",
      "SCF Error           : 5.6399e-05 Ry\n",
      "Avg Diago Iterations: 4.4\n",
      "Diago Threshold     : 7.05e-07 Ry\n",
      "\n",
      "Total Energy:            0.51277712 Ry\n",
      "\n",
      "      one-el:           21.14932583 Ry\n",
      "     Hartree:            1.10557490 Ry\n",
      "          XC:           -4.84236492 Ry\n",
      "       Ewald:          -16.89975869 Ry\n",
      "\n",
      "    HO Level:            6.47032072 eV\n",
      "    LU Level:            7.10655519 eV\n",
      "----------------------------------------\n",
      "\n",
      "Iteration # 4, Run Time:  25.3 sec\n",
      "Convergence Status   : NOT Converged\n",
      "SCF Error           : 1.3251e-07 Ry\n",
      "Avg Diago Iterations: 4.8\n",
      "Diago Threshold     : 1.66e-09 Ry\n",
      "\n",
      "Total Energy:            0.55672061 Ry\n",
      "\n",
      "      one-el:           21.19322299 Ry\n",
      "     Hartree:            1.10840406 Ry\n",
      "          XC:           -4.84514774 Ry\n",
      "       Ewald:          -16.89975869 Ry\n",
      "\n",
      "    HO Level:            6.47317871 eV\n",
      "    LU Level:            7.11647383 eV\n",
      "----------------------------------------\n",
      "\n",
      "Iteration # 5, Run Time:  32.0 sec\n",
      "Convergence Status   :  Converged\n",
      "SCF Error           : 9.4760e-10 Ry\n",
      "Avg Diago Iterations: 7.8\n",
      "Diago Threshold     : 1.66e-09 Ry\n",
      "\n",
      "Total Energy:            0.56169468 Ry\n",
      "\n",
      "      one-el:           21.19808291 Ry\n",
      "     Hartree:            1.10866894 Ry\n",
      "          XC:           -4.84529848 Ry\n",
      "       Ewald:          -16.89975869 Ry\n",
      "\n",
      "    HO Level:            6.47354003 eV\n",
      "    LU Level:            7.11775672 eV\n",
      "----------------------------------------\n",
      "\n",
      "Shifted SCF Routine has exited\n",
      "                          TIMERS                           \n",
      "-----------------------------------------------------------\n",
      "|            LABEL             |  CALL  |  TIME  | STATUS  |\n",
      "-----------------------------------------------------------\n",
      "-----------------------------------------------------------\n",
      "\n",
      "                COUNTERS                 \n",
      "-----------------------------------------\n",
      "|            LABEL             | COUNT  |\n",
      "-----------------------------------------\n",
      "-----------------------------------------\n",
      "\n"
     ]
    }
   ],
   "source": [
    "kpts_q = KList(recilat=crystal.recilat, k_coords=kpts.k_cryst+np.array([[0,0,0.001]]).T, k_weights=np.ones(kpts.k_cryst.shape[1])/kpts.k_cryst.shape[0])\n",
    "\n",
    "out_q = scf(dftcomm, crystal, kpts_q, grho, gwfn,\n",
    "          numbnd, is_spin, is_noncolin,\n",
    "          rho_start=mag_start, occ_typ=occ, smear_typ='gauss', e_temp=e_temp,\n",
    "          conv_thr=conv_thr, diago_thr_init=diago_thr_init,\n",
    "          iter_printer=print_scf_status)\n",
    "\n",
    "scf_converged_q, rho_q, l_wfn_kgrp_q, en_q = out_q\n",
    "\n",
    "\n",
    "print(\"Shifted SCF Routine has exited\")\n",
    "print(qtmlogger)"
   ]
  },
  {
   "cell_type": "markdown",
   "metadata": {},
   "source": [
    "### Load Input Files\n",
    "Input data is handled by the ``EpsInp`` class.\\\n",
    "The data can be provided either by constructing the ``EpsInp`` object or by reading BGW-compatible input file ``epsilon.inp``.\\\n",
    "The attributes have been supplied with docstrings from BerkeleyGW's input specification, so they will be accessible directly in most IDEs."
   ]
  },
  {
   "cell_type": "markdown",
   "metadata": {},
   "source": [
    "### Load Input Files\n",
    "Input data is handled by the ``EpsInp`` class.\\\n",
    "The data can be provided either by constructing the ``EpsInp`` object or by reading BGW-compatible input file ``epsilon.inp``.\\\n",
    "The attributes have been supplied with docstrings from BerkeleyGW's input specification, so they will be accessible directly in most IDEs."
   ]
  },
  {
   "cell_type": "code",
   "execution_count": 6,
   "metadata": {},
   "outputs": [],
   "source": [
    "from qtm.gw.io_bgw.epsinp import Epsinp\n",
    "\n",
    "# Constructing input manually\n",
    "# epsinp = Epsinp(epsilon_cutoff=1.2,\n",
    "#                 use_wfn_hdf5=True,\n",
    "#                 number_bands=8,\n",
    "#                 write_vcoul=True,\n",
    "#                 qpts=[[0.0,0.0,0.0]],\n",
    "#                 is_q0=[True])\n",
    "\n",
    "# Reading from epsilon.inp file\n",
    "epsinp = Epsinp.from_epsilon_inp(filename=dirname+'epsilon.inp')\n",
    "# print(epsinp)\n",
    "\n",
    "# There is an analogous system to read SigmaInp\n",
    "from qtm.gw.io_bgw.sigmainp import Sigmainp\n",
    "sigmainp = Sigmainp.from_sigma_inp(filename=dirname+'sigma.inp')\n",
    "# print(sigmainp)"
   ]
  },
  {
   "cell_type": "markdown",
   "metadata": {},
   "source": [
    "### Initialize Epsilon Class\n",
    "\n",
    "``Epsilon`` class can be initialized by either directly passing the required `quantummasala.core` objects or by passing the input objects discussed earlier."
   ]
  },
  {
   "cell_type": "code",
   "execution_count": 7,
   "metadata": {},
   "outputs": [
    {
     "name": "stderr",
     "output_type": "stream",
     "text": [
      "Vcoul calculation for qpts: 100%|██████████| 64/64 [00:00<00:00, 11015.45it/s]\n"
     ]
    }
   ],
   "source": [
    "from qtm.gw.core import QPoints\n",
    "from qtm.gw.epsilon import Epsilon\n",
    "from qtm.klist import KList\n",
    "\n",
    "kpts_gw =   KList(recilat=kpts.recilat,   cryst=kpts.k_cryst.T,   weights=kpts.k_weights)\n",
    "kpts_gw_q = KList(recilat=kpts_q.recilat, cryst=kpts_q.k_cryst.T, weights=kpts_q.k_weights)\n",
    "\n",
    "# Manual initialization\n",
    "epsilon = Epsilon(\n",
    "    crystal = crystal,\n",
    "    gspace = grho,\n",
    "    kpts = kpts_gw,\n",
    "    kptsq = kpts_gw_q,        \n",
    "    l_wfn = l_wfn_kgrp,\n",
    "    l_wfnq = l_wfn_kgrp_q,\n",
    "    qpts = QPoints.from_cryst(kpts.recilat, epsinp.is_q0, *epsinp.qpts),\n",
    "    epsinp = epsinp,\n",
    ")\n",
    "\n",
    "# epsilon = Epsilon.from_data(wfndata=wfndata, wfnqdata=wfnqdata, epsinp=epsinp)"
   ]
  },
  {
   "cell_type": "markdown",
   "metadata": {},
   "source": [
    "The three main steps involved in the calculation have been mapped to the corresponding functions:\n",
    "1.  ``matrix_elements``: Calculation of Planewave Matrix elements\n",
    "2.  ``polarizability``: Calculation of RPA polarizability matrix $P$\n",
    "3.  ``epsilon_inverse``: Calculation of (static) epsilon-inverse matrix\n",
    "\n",
    "<!-- 1.  ``matrix_elements``: Calculation of Planewave Matrix elements\n",
    "    $$M_{nn'}({\\textbf k},{\\textbf q},{\\textbf G}) = \\bra{n\\,{\\textbf k}{+}{\\textbf q}}e^{i({\\textbf q}+{\\textbf G})\\cdot{\\textbf r}}\\ket{n'\\,\\textbf k}$$\n",
    "    where the $\\textbf G$-vectors included in the calculation satisfy $|\\textbf q + \\textbf G|^2 < E_{\\text{cut}}$.\n",
    "    Since this is a convolution in k-space, the time complexity can be reduced from $\\mathcal{O}\\left(N^2_G\\right)$ to $\\mathcal{O}\\left(N_G\\ln N_G\\right)$ by using Fast Fourier Transform, where $N_G$  the number of reciprocal lattice vectors in the wavefunction.\n",
    "    $$\n",
    "    M_{nn'}({\\bf k},{\\bf q},\\{{\\bf G}\\}) = {\\rm FFT}^{-1}\\left( \\phi^{*}_{n,{\\bf k}+{\\bf q} }({\\bf r}) \\phi_{n',{\\bf k} }({\\bf r}) \\right).\n",
    "    $$\n",
    "    where $\\phi_{n',{\\bf k}}({\\bf r}) = {\\rm FFT}\\left( \\psi_{n\\bf k}(\\bf G)\\right)$. \n",
    "    \n",
    "2.  ``polarizability``: Calculation of RPA polarizability matrix $P$\n",
    "    $$\n",
    "        P_{\\textbf{GG'}}{\\left({\\textbf q}\\;\\!;0\\right)}=\n",
    "        \\,\\,{}\\sum_{n}^{\\textrm occ}\\sum_{n'}^{\\textrm emp}\\sum_{{\\textbf k}}\n",
    "        \\frac{\n",
    "        \\bra{n'\\textbf k}e^{-i({\\textbf q}+{\\textbf G})\\cdot{\\textbf r}}\\ket{n{\\textbf k}{+}{\\textbf q}}\n",
    "        \\bra{n{\\textbf k}{+}{\\textbf q}}e^{i({\\textbf q}+{\\textbf G'})\\cdot{\\textbf r}}\\ket{n'\\textbf k}\n",
    "        }{E_{n{\\textbf k}{+}{\\textbf q}}\\,{-}\\,E_{n'{\\textbf k}}}.\n",
    "    $$\n",
    "3.  ``epsilon_inverse``: Calculation of (static) epsilon-inverse matrix\n",
    "    $$\n",
    "        \\epsilon_{\\textbf{GG'}}{\\left({\\textbf q}\\;\\!\\right)}=\n",
    "        \\delta_{\\textbf{GG'}}\\,{-}\\,v{\\left({\\textbf q}{+}{\\textbf G}\\right)} \\,\n",
    "        P_{\\textbf{GG'}}{\\left({\\textbf q}\\;\\!\\right)}\n",
    "    $$\n",
    "    where $ v(\\textbf{q} + \\textbf{G}) = \\frac{8\\pi}{\\left|\\textbf q + \\textbf G\\right|^2} $ is bare Coulomb potential, written in Rydberg units. If this formula is used as-is for the case where $|\\textbf q| = |\\textbf G| = 0$, the resulting $v\\left({\\textbf{q=0}, \\textbf{G=0}}\\;\\!\\right)$ blows up as $1/q^2$. However, for 3D gapped systems, the matrix elements $\\big| M_{nn'}\\left({\\bf k},{\\textbf{q}\\to\\textbf{0}},{\\textbf{G=0}}\\right)\\big| \\sim q$ cancel the Coulomb divergence and $\\epsilon_{\\textbf{00}}\\left({\\textbf q\\to\\textbf{0}}\\;\\!\\right) \\sim q^2/q^2$ which is a finite number. In order to calculate $\\epsilon_{\\textbf{00}}\\left({\\textbf q=\\textbf{0}}\\;\\!\\right)$, we use the scheme specified in BGW2012, wherein $q=0$ is replaced with a small but non-zero value. Since matrix element calculation involves the eigenvectors $\\ket{n{\\textbf k}{+}{\\textbf q}}$, having a non-$\\Gamma$-centered $\\textbf q\\to 0$ point requires mean-field eigenvectors over a shifted $k$-grid. -->"
   ]
  },
  {
   "cell_type": "code",
   "execution_count": 8,
   "metadata": {},
   "outputs": [
    {
     "name": "stderr",
     "output_type": "stream",
     "text": [
      "Epsilon> q-pt index:   0%|          | 0/64 [00:00<?, ?it/s]"
     ]
    },
    {
     "name": "stderr",
     "output_type": "stream",
     "text": [
      "Epsilon> q-pt index: 100%|██████████| 64/64 [00:30<00:00,  2.10it/s]\n"
     ]
    }
   ],
   "source": [
    "from tqdm import trange\n",
    "from qtm.gw.core import reorder_2d_matrix_sorted_gvecs, sort_cryst_like_BGW\n",
    "\n",
    "\n",
    "def calculate_epsilon(numq=None, writing=False):\n",
    "    epsmats = []\n",
    "    if numq is None:\n",
    "        numq = epsilon.qpts.numq\n",
    "\n",
    "    for i_q in trange(0, numq, desc=\"Epsilon> q-pt index\"):\n",
    "        # Create map between BGW's sorting order and QTm's sorting order\n",
    "        gkspc = epsilon.l_gq[i_q]\n",
    "        \n",
    "        if i_q == epsilon.qpts.index_q0:\n",
    "            key = gkspc.g_norm2\n",
    "        else:\n",
    "            key = gkspc.gk_norm2\n",
    "\n",
    "        indices_gspace_sorted = sort_cryst_like_BGW(\n",
    "            cryst=gkspc.g_cryst, key_array=key\n",
    "        )\n",
    "\n",
    "        # Calculate matrix elements\n",
    "        M = next(epsilon.matrix_elements(i_q=i_q))\n",
    "        # if i_q==0:\n",
    "        #     N=10\n",
    "        #     print(M.shape)\n",
    "        #     print(M[0,0,0,:N].real)\n",
    "        #     break\n",
    "\n",
    "        # Calculate polarizability matrix (faster, but not memory-efficient)\n",
    "        chimat = epsilon.polarizability(M)\n",
    "\n",
    "        # Calculate polarizability matrix (memory-efficient)\n",
    "        # chimat = epsilon.polarizability_active(i_q)\n",
    "\n",
    "        # chimat/=2\n",
    "        \n",
    "        # Calculate epsilon inverse matrix\n",
    "        epsinv = epsilon.epsilon_inverse(i_q=i_q, polarizability_matrix=chimat, store=True)\n",
    "\n",
    "\n",
    "        epsinv = reorder_2d_matrix_sorted_gvecs(epsinv, indices_gspace_sorted)\n",
    "        epsilon.l_epsinv[i_q] = epsinv\n",
    "\n",
    "        if i_q == epsilon.qpts.index_q0:\n",
    "            if writing:\n",
    "                epsilon.write_epsmat(\n",
    "                    filename=\"test/epsilon/eps0mat_qtm.h5\", epsinvmats=[epsinv]\n",
    "                )\n",
    "        else:\n",
    "            epsmats.append(epsinv)\n",
    "            \n",
    "        if False:        \n",
    "            # Compare the results with BGW's results\n",
    "            if i_q == epsilon.qpts.index_q0:\n",
    "                epsref = epsilon.read_epsmat(dirname + \"eps0mat.h5\")[0][0, 0]\n",
    "            else:\n",
    "                epsref = np.array(epsilon.read_epsmat(dirname + \"epsmat.h5\")[i_q - 1][0, 0])    \n",
    "\n",
    "            # Calculate stddev between reference and calculated epsinv matrices\n",
    "            std_eps = np.std(np.abs(epsref) - np.abs(epsinv)) / np.sqrt(np.prod(list(epsinv.shape)))\n",
    "        \n",
    "            epstol = 1e-16\n",
    "            if np.abs(std_eps) > epstol:\n",
    "                print(f\"Standard deviation exceeded {epstol} tolerance: {std_eps}, for i_q:{i_q}\")\n",
    "                print(np.max(np.abs(epsinv-epsref)))\n",
    "                indices = np.where(np.abs(epsinv)-np.abs(epsref)>1e-5)\n",
    "                \n",
    "\n",
    "    if writing:\n",
    "        epsilon.write_epsmat(filename=\"test/epsilon/epsmat_qtm.h5\", epsinvmats=epsmats)\n",
    "\n",
    "calculate_epsilon()\n"
   ]
  },
  {
   "cell_type": "markdown",
   "metadata": {},
   "source": [
    "### Sigma Calculation"
   ]
  },
  {
   "cell_type": "code",
   "execution_count": 9,
   "metadata": {},
   "outputs": [
    {
     "name": "stderr",
     "output_type": "stream",
     "text": [
      "Vcoul calculation for qpts: 100%|██████████| 64/64 [00:00<00:00, 9831.72it/s]\n"
     ]
    },
    {
     "name": "stdout",
     "output_type": "stream",
     "text": [
      "vcoul: Vcoul:\n",
      "        * gspace = <qtm.gspace.gspc.GSpace object at 0x7fcea21de210>\n",
      "        * qpts = <qtm.gw.core.QPoints object at 0x7fce7f185a10>\n",
      "        * bare_coulomb_cutoff = 10.0\n",
      "        * avgcut = 1e-05\n",
      "        * l_gspace_q = <class 'list'> of length 64\n",
      "        * vcoul = <class 'list'> of length 64\n",
      "        * N_SAMPLES = 2500000.0\n",
      "        * N_SAMPLES_COARSE = 250000.0\n",
      "        * SEED = 5000\n",
      "        \n"
     ]
    },
    {
     "name": "stderr",
     "output_type": "stream",
     "text": [
      "Vcoul calculation for qpts: 100%|██████████| 64/64 [01:45<00:00,  1.65s/it]\n"
     ]
    }
   ],
   "source": [
    "from qtm.gw.sigma import Sigma\n",
    "\n",
    "outdir = dirname+\"temp/\"\n",
    "\n",
    "\n",
    "sigma = Sigma.from_qtm_scf(\n",
    "    crystal = crystal,\n",
    "    gspace = grho,\n",
    "    kpts = kpts_gw,\n",
    "    kptsq=kpts_gw_q,\n",
    "    l_wfn_kgrp=l_wfn_kgrp,\n",
    "    l_wfn_kgrp_q=l_wfn_kgrp_q,\n",
    "    sigmainp=sigmainp,\n",
    "    epsinp = epsinp,\n",
    "    epsilon=epsilon,\n",
    "    rho=rho,\n",
    "    vxc=vxc\n",
    ")\n",
    "\n",
    "# sigma = Sigma.from_data(\n",
    "#     wfndata=wfndata,\n",
    "#     wfnqdata=wfnqdata,\n",
    "#     sigmainp=sigmainp,\n",
    "#     epsinp=epsinp,\n",
    "#     l_epsmats=epsilon.l_epsinv,\n",
    "#     rho=rho,\n",
    "#     vxc=vxc,\n",
    "#     outdir=outdir,\n",
    "# )"
   ]
  },
  {
   "cell_type": "code",
   "execution_count": 10,
   "metadata": {},
   "outputs": [
    {
     "name": "stdout",
     "output_type": "stream",
     "text": [
      "(137,)\n"
     ]
    },
    {
     "name": "stderr",
     "output_type": "stream",
     "text": [
      "Sigma_SX_Static:   3%|▎         | 2/64 [00:00<00:03, 17.73it/s]"
     ]
    },
    {
     "name": "stderr",
     "output_type": "stream",
     "text": [
      "Sigma_SX_Static: 100%|██████████| 64/64 [00:03<00:00, 18.54it/s]"
     ]
    },
    {
     "name": "stdout",
     "output_type": "stream",
     "text": [
      "Sigma SX COHSEX\n",
      "   11.875836   10.668109   11.328765\n",
      "    8.031077   10.682459   10.014678\n",
      "    8.031134    8.719223    8.366075\n",
      "    8.032073    8.720117    8.365870\n",
      "    2.911686    2.587455    2.872630\n",
      "    2.912302    2.587258    2.425368\n",
      "    2.906995    1.329107    2.428446\n",
      "    2.681682    1.328693    0.739609\n"
     ]
    },
    {
     "name": "stderr",
     "output_type": "stream",
     "text": [
      "\n"
     ]
    }
   ],
   "source": [
    "sigma_sx_cohsex_mat = sigma.sigma_sx_static(yielding=True)    \n",
    "print(\"Sigma SX COHSEX\")\n",
    "sigma.pprint_sigma_mat(sigma_sx_cohsex_mat)"
   ]
  },
  {
   "cell_type": "code",
   "execution_count": 11,
   "metadata": {},
   "outputs": [
    {
     "name": "stderr",
     "output_type": "stream",
     "text": [
      "Sigma_CH_Static_Partial:   2%|▏         | 1/64 [00:00<00:06,  9.24it/s]"
     ]
    },
    {
     "name": "stderr",
     "output_type": "stream",
     "text": [
      "Sigma_CH_Static_Partial: 100%|██████████| 64/64 [00:06<00:00, 10.61it/s]"
     ]
    },
    {
     "name": "stdout",
     "output_type": "stream",
     "text": [
      "Sigma CH COHSEX\n",
      "   -6.627248   -6.303004   -6.494451\n",
      "   -5.099187   -6.303227   -6.068627\n",
      "   -5.099443   -5.571220   -5.407186\n",
      "   -5.099480   -5.571186   -5.407365\n",
      "   -4.746638   -4.701166   -4.917357\n",
      "   -4.747086   -4.701184   -4.286824\n",
      "   -4.744842   -3.460646   -4.287561\n",
      "   -4.757445   -3.460008   -2.975094\n"
     ]
    },
    {
     "name": "stderr",
     "output_type": "stream",
     "text": [
      "\n"
     ]
    }
   ],
   "source": [
    "sigma_ch_cohsex_mat = sigma.sigma_ch_static()    \n",
    "print(\"Sigma CH COHSEX\")\n",
    "sigma.pprint_sigma_mat(sigma_ch_cohsex_mat)"
   ]
  },
  {
   "cell_type": "code",
   "execution_count": 12,
   "metadata": {},
   "outputs": [
    {
     "name": "stderr",
     "output_type": "stream",
     "text": [
      "Sigma_X:   3%|▎         | 2/64 [00:00<00:03, 18.62it/s]"
     ]
    },
    {
     "name": "stderr",
     "output_type": "stream",
     "text": [
      "Sigma_X: 100%|██████████| 64/64 [00:03<00:00, 19.65it/s]\n"
     ]
    },
    {
     "name": "stdout",
     "output_type": "stream",
     "text": [
      "Sigma X\n",
      "  -17.549889  -16.038878  -16.918927\n",
      "  -12.974870  -16.038756  -14.908715\n",
      "  -12.974884  -13.417485  -13.204607\n",
      "  -12.975035  -13.417626  -13.204309\n",
      "   -5.765691   -5.196397   -5.934483\n",
      "   -5.765496   -5.196268   -5.081733\n",
      "   -5.765279   -3.789599   -5.081638\n",
      "   -5.831193   -3.789627   -2.406334\n",
      "(137,)\n"
     ]
    },
    {
     "name": "stderr",
     "output_type": "stream",
     "text": [
      "Sigma_SX_Static: 100%|██████████| 64/64 [00:03<00:00, 18.26it/s]\n"
     ]
    },
    {
     "name": "stdout",
     "output_type": "stream",
     "text": [
      "Sigma SX STATIC\n",
      "   11.875836   10.668109   11.328765\n",
      "    8.031077   10.682459   10.014678\n",
      "    8.031134    8.719223    8.366075\n",
      "    8.032073    8.720117    8.365870\n",
      "    2.911686    2.587455    2.872630\n",
      "    2.912302    2.587258    2.425368\n",
      "    2.906995    1.329107    2.428446\n",
      "    2.681682    1.328693    0.739609\n"
     ]
    },
    {
     "name": "stderr",
     "output_type": "stream",
     "text": [
      "Sigma_CH_Static_Partial: 100%|██████████| 64/64 [00:06<00:00, 10.21it/s]\n"
     ]
    },
    {
     "name": "stdout",
     "output_type": "stream",
     "text": [
      "Sigma CH STATIC\n",
      "   -6.627248   -6.303004   -6.494451\n",
      "   -5.099187   -6.303227   -6.068627\n",
      "   -5.099443   -5.571220   -5.407186\n",
      "   -5.099480   -5.571186   -5.407365\n",
      "   -4.746638   -4.701166   -4.917357\n",
      "   -4.747086   -4.701184   -4.286824\n",
      "   -4.744842   -3.460646   -4.287561\n",
      "   -4.757445   -3.460008   -2.975094\n"
     ]
    },
    {
     "name": "stderr",
     "output_type": "stream",
     "text": [
      "Sigma_CH_Static_Exact: 100%|██████████| 64/64 [00:39<00:00,  1.63it/s]"
     ]
    },
    {
     "name": "stdout",
     "output_type": "stream",
     "text": [
      "Sigma CH EXACT STATIC\n",
      "   -7.444555   -7.623150   -7.626662\n",
      "   -7.756878   -7.623196   -7.314288\n",
      "   -7.756964   -7.476666   -7.673956\n",
      "   -7.757280   -7.477583   -7.674273\n",
      "   -7.335558   -6.795163   -7.354452\n",
      "   -7.335933   -6.795007   -7.120203\n",
      "   -7.334057   -7.674458   -7.120734\n",
      "   -7.829751   -7.673536   -6.232123\n",
      "Sig (Exact):\n",
      "  -13.118609  -12.993919  -13.216824\n",
      "  -12.700671  -12.979493  -12.208325\n",
      "  -12.700714  -12.174928  -12.512488\n",
      "  -12.700242  -12.175091  -12.512712\n",
      "  -10.189563   -9.404105  -10.416305\n",
      "  -10.189127   -9.404017   -9.776569\n",
      "  -10.192341  -10.134951   -9.773926\n",
      "  -10.979262  -10.134471   -7.898848\n",
      "Eqp0 (Exact):\n",
      "   -8.251844   -3.524031   -5.575222\n",
      "    5.142299   -3.509604   -2.586362\n",
      "    5.142256    2.014950    3.845950\n",
      "    5.142728    2.014787    3.845726\n",
      "    8.897982    6.723119    7.761276\n",
      "    8.898417    6.723208    9.692298\n",
      "    8.895204   17.163899    9.694941\n",
      "    9.966476   17.164380   14.034580\n",
      "Sig (Partial):\n",
      "  -12.301302  -11.673773  -12.084614\n",
      "  -10.042980  -11.659525  -10.962664\n",
      "  -10.043193  -10.269481  -10.245718\n",
      "  -10.042442  -10.268695  -10.245804\n",
      "   -7.600642   -7.310107   -7.979211\n",
      "   -7.600280   -7.310193   -6.943189\n",
      "   -7.603125   -5.921138   -6.940753\n",
      "   -7.906956   -5.920943   -4.641819\n",
      "Eqp0 (Partial):\n",
      "   -7.434538   -2.203885   -4.443011\n",
      "    7.799990   -2.189636   -1.340701\n",
      "    7.799777    3.920397    6.112720\n",
      "    7.800528    3.921183    6.112634\n",
      "   11.486902    8.817116   10.198370\n",
      "   11.487264    8.817031   12.525677\n",
      "   11.484419   21.377711   12.528114\n",
      "   13.038781   21.377908   17.291609\n",
      "\n",
      "   n         Emf          Eo           X        SX-X          CH         Sig         Vxc        Eqp0        Eqp1         CH`        Sig`       Eqp0`       Eqp1`         Znk\n",
      "   0   -5.636393   -5.636393  -17.549889   11.875836   -7.444555  -13.118609  -10.503157   -8.251844   -8.251844   -6.627248  -12.301302   -7.434538   -7.434538    1.000000\n",
      "   1    6.473572    6.473572  -12.974870    8.031077   -7.756878  -12.700671  -11.369397    5.142299    5.142299   -5.099187  -10.042980    7.799990    7.799990    1.000000\n",
      "   2    6.473572    6.473572  -12.974884    8.031134   -7.756964  -12.700714  -11.369397    5.142256    5.142256   -5.099443  -10.043193    7.799777    7.799777    1.000000\n",
      "   3    6.473572    6.473572  -12.975035    8.032073   -7.757280  -12.700242  -11.369397    5.142728    5.142728   -5.099480  -10.042442    7.800528    7.800528    1.000000\n",
      "   4    9.026324    9.026324   -5.765691    2.911686   -7.335558  -10.189563  -10.061220    8.897982    8.897982   -4.746638   -7.600642   11.486902   11.486902    1.000000\n",
      "   5    9.026324    9.026324   -5.765496    2.912302   -7.335933  -10.189127  -10.061220    8.898417    8.898417   -4.747086   -7.600280   11.487264   11.487264    1.000000\n",
      "   6    9.026324    9.026324   -5.765279    2.906995   -7.334057  -10.192341  -10.061220    8.895204    8.895204   -4.744842   -7.603125   11.484419   11.484419    1.000000\n",
      "   7   10.004367   10.004367   -5.831193    2.681682   -7.829751  -10.979262  -10.941371    9.966476    9.966476   -4.757445   -7.906956   13.038781   13.038781    1.000000\n",
      "   n         Emf          Eo           X        SX-X          CH         Sig         Vxc        Eqp0        Eqp1         CH`        Sig`       Eqp0`       Eqp1`         Znk\n",
      "   0   -1.422262   -1.422262  -16.038878   10.668109   -7.623150  -12.993919  -10.892150   -3.524031   -3.524031   -6.303004  -11.673773   -2.203885   -2.203885    1.000000\n",
      "   1   -1.422262   -1.422262  -16.038756   10.682459   -7.623196  -12.979493  -10.892150   -3.509604   -3.509604   -6.303227  -11.659525   -2.189636   -2.189636    1.000000\n",
      "   2    3.560518    3.560518  -13.417485    8.719223   -7.476666  -12.174928  -10.629360    2.014950    2.014950   -5.571220  -10.269481    3.920397    3.920397    1.000000\n",
      "   3    3.560518    3.560518  -13.417626    8.720117   -7.477583  -12.175091  -10.629360    2.014787    2.014787   -5.571186  -10.268695    3.921183    3.921183    1.000000\n",
      "   4    7.119480    7.119480   -5.196397    2.587455   -6.795163   -9.404105   -9.007744    6.723119    6.723119   -4.701166   -7.310107    8.817116    8.817116    1.000000\n",
      "   5    7.119480    7.119480   -5.196268    2.587258   -6.795007   -9.404017   -9.007744    6.723208    6.723208   -4.701184   -7.310193    8.817031    8.817031    1.000000\n",
      "   6   16.729018   16.729018   -3.789599    1.329107   -7.674458  -10.134951  -10.569832   17.163899   17.163899   -3.460646   -5.921138   21.377711   21.377711    1.000000\n",
      "   7   16.729018   16.729018   -3.789627    1.328693   -7.673536  -10.134471  -10.569833   17.164380   17.164380   -3.460008   -5.920943   21.377908   21.377908    1.000000\n",
      "   n         Emf          Eo           X        SX-X          CH         Sig         Vxc        Eqp0        Eqp1         CH`        Sig`       Eqp0`       Eqp1`         Znk\n",
      "   0   -3.256202   -3.256202  -16.918927   11.328765   -7.626662  -13.216824  -10.897804   -5.575222   -5.575222   -6.494451  -12.084614   -4.443011   -4.443011    1.000000\n",
      "   1   -0.604856   -0.604856  -14.908715   10.014678   -7.314288  -12.208325  -10.226820   -2.586362   -2.586362   -6.068627  -10.962664   -1.340701   -1.340701    1.000000\n",
      "   2    5.252762    5.252762  -13.204607    8.366075   -7.673956  -12.512488  -11.105676    3.845950    3.845950   -5.407186  -10.245718    6.112720    6.112720    1.000000\n",
      "   3    5.252762    5.252762  -13.204309    8.365870   -7.674273  -12.512712  -11.105676    3.845726    3.845726   -5.407365  -10.245804    6.112634    6.112634    1.000000\n",
      "   4    8.045678    8.045678   -5.934483    2.872630   -7.354452  -10.416305  -10.131903    7.761276    7.761276   -4.917357   -7.979211   10.198370   10.198370    1.000000\n",
      "   5    9.785121    9.785121   -5.081733    2.425368   -7.120203   -9.776569   -9.683745    9.692298    9.692298   -4.286824   -6.943189   12.525677   12.525677    1.000000\n",
      "   6    9.785122    9.785122   -5.081638    2.428446   -7.120734   -9.773926   -9.683745    9.694941    9.694941   -4.287561   -6.940753   12.528114   12.528114    1.000000\n",
      "   7   14.194052   14.194052   -2.406334    0.739609   -6.232123   -7.898848   -7.739375   14.034580   14.034580   -2.975094   -4.641819   17.291609   17.291609    1.000000\n"
     ]
    },
    {
     "name": "stderr",
     "output_type": "stream",
     "text": [
      "\n"
     ]
    }
   ],
   "source": [
    "sigma.autosave=False\n",
    "sigma.print_condition=True\n",
    "cohsex_result = sigma.calculate_static_cohsex()"
   ]
  },
  {
   "cell_type": "code",
   "execution_count": 13,
   "metadata": {},
   "outputs": [
    {
     "name": "stderr",
     "output_type": "stream",
     "text": [
      "Sigma_CH_Static_Exact:   0%|          | 0/64 [00:00<?, ?it/s]"
     ]
    },
    {
     "name": "stderr",
     "output_type": "stream",
     "text": [
      "Sigma_CH_Static_Exact: 100%|██████████| 64/64 [00:35<00:00,  1.80it/s]"
     ]
    },
    {
     "name": "stdout",
     "output_type": "stream",
     "text": [
      "Sigma CH COHSEX EXACT\n",
      "   -7.444555   -7.623150   -7.626662\n",
      "   -7.756878   -7.623196   -7.314288\n",
      "   -7.756964   -7.476666   -7.673956\n",
      "   -7.757280   -7.477583   -7.674273\n",
      "   -7.335558   -6.795163   -7.354452\n",
      "   -7.335933   -6.795007   -7.120203\n",
      "   -7.334057   -7.674458   -7.120734\n",
      "   -7.829751   -7.673536   -6.232123\n"
     ]
    },
    {
     "name": "stderr",
     "output_type": "stream",
     "text": [
      "\n"
     ]
    }
   ],
   "source": [
    "sigma.print_condition=True\n",
    "sigma_ch_exact_mat = sigma.sigma_ch_static_exact()    \n",
    "print(\"Sigma CH COHSEX EXACT\")\n",
    "sigma.pprint_sigma_mat(sigma_ch_exact_mat)"
   ]
  },
  {
   "cell_type": "code",
   "execution_count": 20,
   "metadata": {},
   "outputs": [
    {
     "name": "stderr",
     "output_type": "stream",
     "text": [
      "Sigma_SX_GPP:   0%|          | 0/64 [00:00<?, ?it/s]"
     ]
    },
    {
     "name": "stderr",
     "output_type": "stream",
     "text": [
      "Sigma_SX_GPP: 100%|██████████| 64/64 [01:19<00:00,  1.24s/it]"
     ]
    },
    {
     "name": "stdout",
     "output_type": "stream",
     "text": [
      "Sigma SX GPP\n",
      "  n     ik=0          ik=40         ik=8      \n",
      "  1    12.244002   10.834603   11.549690\n",
      "  2     8.177192   10.849576   10.174693\n",
      "  3     8.178080    8.837332    8.501004\n",
      "  4     8.178604    8.839068    8.501182\n",
      "  5     3.298948    2.866268    3.299154\n",
      "  6     3.299935    2.865697    2.788043\n",
      "  7     3.289248    1.738717    2.793553\n",
      "  8     3.371348    1.736905    1.089234\n"
     ]
    },
    {
     "name": "stderr",
     "output_type": "stream",
     "text": [
      "\n"
     ]
    }
   ],
   "source": [
    "sigma.print_condition=False\n",
    "sigma_sx_gpp = sigma.sigma_sx_gpp()    \n",
    "print(\"Sigma SX GPP\")\n",
    "sigma.pprint_sigma_mat(sigma_sx_gpp)"
   ]
  },
  {
   "cell_type": "code",
   "execution_count": 21,
   "metadata": {},
   "outputs": [
    {
     "name": "stderr",
     "output_type": "stream",
     "text": [
      "Sigma_CH_GPP: 100%|██████████| 64/64 [01:31<00:00,  1.42s/it]"
     ]
    },
    {
     "name": "stdout",
     "output_type": "stream",
     "text": [
      "Sigma CH GPP\n",
      "  n     ik=0          ik=40         ik=8      \n",
      "  1    -5.796970   -5.846048   -5.879221\n",
      "  2    -5.402500   -5.849967   -5.642406\n",
      "  3    -5.403558   -5.558926   -5.572885\n",
      "  4    -5.403264   -5.559721   -5.573241\n",
      "  5    -5.342389   -4.983154   -5.446887\n",
      "  6    -5.343420   -4.982612   -4.888681\n",
      "  7    -5.334747   -4.622626   -4.892131\n",
      "  8    -5.723835   -4.621018   -3.771267\n"
     ]
    },
    {
     "name": "stderr",
     "output_type": "stream",
     "text": [
      "\n"
     ]
    }
   ],
   "source": [
    "sigma.print_condition=False\n",
    "sigma_ch_gpp,_ = sigma.sigma_ch_gpp()    \n",
    "print(\"Sigma CH GPP\")\n",
    "sigma.pprint_sigma_mat(sigma_ch_gpp)"
   ]
  },
  {
   "cell_type": "code",
   "execution_count": 26,
   "metadata": {},
   "outputs": [
    {
     "name": "stdout",
     "output_type": "stream",
     "text": [
      "Started calculate_gpp Rank: 0 2023-09-23 18:00:39\n"
     ]
    },
    {
     "name": "stderr",
     "output_type": "stream",
     "text": [
      "Sigma_X: 100%|██████████| 64/64 [00:03<00:00, 20.03it/s]"
     ]
    },
    {
     "name": "stdout",
     "output_type": "stream",
     "text": [
      "Sigma X GPP\n"
     ]
    },
    {
     "name": "stderr",
     "output_type": "stream",
     "text": [
      "\n"
     ]
    },
    {
     "name": "stdout",
     "output_type": "stream",
     "text": [
      "  n      ik=1        ik=41       ik=9    \n",
      "  1   -17.549889  -16.038878  -16.918927\n",
      "  2   -12.974870  -16.038756  -14.908715\n",
      "  3   -12.974884  -13.417485  -13.204607\n",
      "  4   -12.975035  -13.417626  -13.204309\n",
      "  5    -5.765691   -5.196397   -5.934483\n",
      "  6    -5.765496   -5.196268   -5.081733\n",
      "  7    -5.765279   -3.789599   -5.081638\n",
      "  8    -5.831193   -3.789627   -2.406334\n"
     ]
    },
    {
     "name": "stderr",
     "output_type": "stream",
     "text": [
      "Sigma_CH_Static_Partial: 100%|██████████| 64/64 [00:05<00:00, 11.20it/s]"
     ]
    },
    {
     "name": "stdout",
     "output_type": "stream",
     "text": [
      "Sigma CH STATIC COHSEX\n"
     ]
    },
    {
     "name": "stderr",
     "output_type": "stream",
     "text": [
      "\n"
     ]
    },
    {
     "name": "stdout",
     "output_type": "stream",
     "text": [
      "  n      ik=1        ik=41       ik=9    \n",
      "  1    -6.627248   -6.303004   -6.494451\n",
      "  2    -5.099187   -6.303227   -6.068627\n",
      "  3    -5.099443   -5.571220   -5.407186\n",
      "  4    -5.099480   -5.571186   -5.407365\n",
      "  5    -4.746638   -4.701166   -4.917357\n",
      "  6    -4.747086   -4.701184   -4.286824\n",
      "  7    -4.744842   -3.460646   -4.287561\n",
      "  8    -4.757445   -3.460008   -2.975094\n"
     ]
    },
    {
     "name": "stderr",
     "output_type": "stream",
     "text": [
      "Sigma_CH_Static_Exact: 100%|██████████| 64/64 [00:34<00:00,  1.84it/s]"
     ]
    },
    {
     "name": "stdout",
     "output_type": "stream",
     "text": [
      "Sigma CH STATIC EXACT\n"
     ]
    },
    {
     "name": "stderr",
     "output_type": "stream",
     "text": [
      "\n"
     ]
    },
    {
     "name": "stdout",
     "output_type": "stream",
     "text": [
      "  n      ik=1        ik=41       ik=9    \n",
      "  1    -7.444555   -7.623150   -7.626662\n",
      "  2    -7.756878   -7.623196   -7.314288\n",
      "  3    -7.756964   -7.476666   -7.673956\n",
      "  4    -7.757280   -7.477583   -7.674273\n",
      "  5    -7.335558   -6.795163   -7.354452\n",
      "  6    -7.335933   -6.795007   -7.120203\n",
      "  7    -7.334057   -7.674458   -7.120734\n",
      "  8    -7.829751   -7.673536   -6.232123\n",
      "Started sigma_sx_gpp 2023-09-23 18:01:23\n"
     ]
    },
    {
     "name": "stderr",
     "output_type": "stream",
     "text": [
      "Sigma_SX_GPP: 100%|██████████| 64/64 [01:20<00:00,  1.27s/it]"
     ]
    },
    {
     "name": "stdout",
     "output_type": "stream",
     "text": [
      "Sigma SX GPP\n"
     ]
    },
    {
     "name": "stderr",
     "output_type": "stream",
     "text": [
      "\n"
     ]
    },
    {
     "name": "stdout",
     "output_type": "stream",
     "text": [
      "  n      ik=1        ik=41       ik=9    \n",
      "  1    12.244002   10.834603   11.549690\n",
      "  2     8.177192   10.849576   10.174693\n",
      "  3     8.178080    8.837332    8.501004\n",
      "  4     8.178604    8.839068    8.501182\n",
      "  5     3.298948    2.866268    3.299154\n",
      "  6     3.299935    2.865697    2.788043\n",
      "  7     3.289248    1.738717    2.793553\n",
      "  8     3.371348    1.736905    1.089234\n"
     ]
    },
    {
     "name": "stderr",
     "output_type": "stream",
     "text": [
      "Sigma_CH_GPP: 100%|██████████| 64/64 [01:28<00:00,  1.38s/it]"
     ]
    },
    {
     "name": "stdout",
     "output_type": "stream",
     "text": [
      "Sigma CH GPP\n",
      "  n      ik=1        ik=41       ik=9    \n",
      "  1    -5.796970   -5.846048   -5.879221\n",
      "  2    -5.402500   -5.849967   -5.642406\n",
      "  3    -5.403558   -5.558926   -5.572885\n",
      "  4    -5.403264   -5.559721   -5.573241\n",
      "  5    -5.342389   -4.983154   -5.446887\n",
      "  6    -5.343420   -4.982612   -4.888681\n",
      "  7    -5.334747   -4.622626   -4.892131\n",
      "  8    -5.723835   -4.621018   -3.771267\n",
      "Sig GPP:\n",
      "  n      ik=1        ik=41       ik=9    \n",
      "  1   -11.511511  -11.710397  -11.814563\n",
      "  2   -11.529023  -11.699132  -10.999258\n",
      "  3   -11.529123  -11.091802  -11.409874\n",
      "  4   -11.528595  -11.091477  -11.409823\n",
      "  5    -9.103591   -8.360282   -9.300763\n",
      "  6    -9.103403   -8.360095   -8.599062\n",
      "  7    -9.105386   -8.780414   -8.596802\n",
      "  8    -9.719833   -8.780504   -6.716880\n",
      "Eqp0\n"
     ]
    },
    {
     "name": "stderr",
     "output_type": "stream",
     "text": [
      "\n"
     ]
    },
    {
     "name": "stdout",
     "output_type": "stream",
     "text": [
      "  n      ik=1        ik=41       ik=9    \n",
      "  1    -6.644746   -2.240509   -4.172961\n",
      "  2     6.313947   -2.229243   -1.377295\n",
      "  3     6.313847    3.098076    4.948564\n",
      "  4     6.314374    3.098401    4.948615\n",
      "  5     9.983953    7.766942    8.876818\n",
      "  6     9.984141    7.767129   10.869804\n",
      "  7     9.982158   18.518436   10.872065\n",
      "  8    11.225904   18.518347   15.216548\n",
      "dE [[0.07349864 0.07349864 0.07349864 0.07349864 0.07349864 0.07349864\n",
      "  0.07349864 0.07349864]\n",
      " [0.07349864 0.07349864 0.07349864 0.07349864 0.07349864 0.07349864\n",
      "  0.07349864 0.07349864]\n",
      " [0.07349864 0.07349864 0.07349864 0.07349864 0.07349864 0.07349864\n",
      "  0.07349864 0.07349864]]\n"
     ]
    },
    {
     "name": "stderr",
     "output_type": "stream",
     "text": [
      "Sigma_CH_GPP: 100%|██████████| 64/64 [01:31<00:00,  1.43s/it]\n",
      "Sigma_SX_GPP: 100%|██████████| 64/64 [01:23<00:00,  1.30s/it]"
     ]
    },
    {
     "name": "stdout",
     "output_type": "stream",
     "text": [
      "Sigma CH GPP dE\n",
      "  n      ik=1        ik=41       ik=9    \n",
      "  1    -6.056252   -6.122846   -6.149626\n",
      "  2    -5.640594   -6.127126   -5.916333\n",
      "  3    -5.637499   -5.843145   -5.860695\n",
      "  4    -5.639991   -5.843902   -5.861296\n",
      "  5    -5.569557   -5.287112   -5.772181\n",
      "  6    -5.570467   -5.286651   -5.097664\n",
      "  7    -5.560974   -4.909714   -5.101438\n",
      "  8    -5.940856   -4.907959   -4.062506\n",
      "Sigma SX GPP dE\n",
      "  n      ik=1        ik=41       ik=9    \n",
      "  1    -6.056252   -6.122846   -6.149626\n",
      "  2    -5.640594   -6.127126   -5.916333\n",
      "  3    -5.637499   -5.843145   -5.860695\n",
      "  4    -5.639991   -5.843902   -5.861296\n",
      "  5    -5.569557   -5.287112   -5.772181\n",
      "  6    -5.570467   -5.286651   -5.097664\n",
      "  7    -5.560974   -4.909714   -5.101438\n",
      "  8    -5.940856   -4.907959   -4.062506\n",
      "Z:\n",
      "  n      ik=1        ik=41       ik=9    \n",
      "  1     0.714876    0.775182    0.755487\n",
      "  2     0.839969    0.775101    0.778938\n",
      "  3     0.839963    0.817122    0.829062\n",
      "  4     0.839965    0.817159    0.829068\n",
      "  5     0.830708    0.835588    0.833228\n",
      "  6     0.830701    0.835597    0.839622\n",
      "  7     0.830713    0.812302    0.839657\n",
      "  8     0.834789    0.812053    0.837510\n",
      "Sig_2:\n",
      "[[-11.501702-0.0e+00j -11.340344-4.1e-05j -11.572108+0.0e+00j]\n",
      " [-10.390698-0.0e+00j -11.329302+4.1e-05j -10.660226+0.0e+00j]\n",
      " [-10.390891+0.0e+00j -10.362886-0.0e+00j -10.482672+0.0e+00j]\n",
      " [-10.390221-0.0e+00j -10.362031+0.0e+00j -10.482543-0.0e+00j]\n",
      " [ -8.012923-0.0e+00j  -7.510045-8.9e-05j  -8.282367-0.0e+00j]\n",
      " [ -8.012783-0.0e+00j  -7.509932+8.9e-05j  -7.373384+0.0e+00j]\n",
      " [ -8.014564+0.0e+00j  -6.904578+2.0e-06j  -7.371178-0.0e+00j]\n",
      " [ -8.381588-0.0e+00j  -6.905187-2.0e-06j  -5.282381+0.0e+00j]]\n",
      "Eqp1\n",
      "  n      ik=1        ik=41       ik=9    \n",
      "  1    -6.357240   -2.056552   -3.948801\n",
      "  2     6.339492   -2.047754   -1.206538\n",
      "  3     6.339409    3.182647    5.000563\n",
      "  4     6.339852    3.182895    5.000604\n",
      "  5     9.821834    7.660491    8.738207\n",
      "  6     9.821984    7.660654   10.695846\n",
      "  7     9.820348   18.182565   10.697780\n",
      "  8    11.024093   18.182047   15.050403\n",
      "   n         Emf          Eo           X        SX-X          CH         Sig         Vxc        Eqp0        Eqp1         CH`        Sig`       Eqp0`       Eqp1`         Znk\n",
      "   0   -5.636393   -5.636393  -17.549889   12.244002   -6.205623  -11.511511  -10.503157   -6.644746   -6.357240   -5.796970  -11.102858   -6.236093   -6.065104    0.714876\n",
      "   1    6.473572    6.473572  -12.974870    8.177192   -6.731345  -11.529023  -11.369397    6.313947    6.339492   -5.402500  -10.200178    7.642792    7.455680    0.839969\n",
      "   2    6.473572    6.473572  -12.974884    8.178080   -6.732319  -11.529123  -11.369397    6.313847    6.339409   -5.403558  -10.200362    7.642607    7.455518    0.839963\n",
      "   3    6.473572    6.473572  -12.975035    8.178604   -6.732164  -11.528595  -11.369397    6.314374    6.339852   -5.403264  -10.199695    7.643274    7.456081    0.839965\n",
      "   4    9.026324    9.026324   -5.765691    3.298948   -6.636849   -9.103591  -10.061220    9.983953    9.821834   -5.342389   -7.809131   11.278414   10.897153    0.830708\n",
      "   5    9.026324    9.026324   -5.765496    3.299935   -6.637843   -9.103403  -10.061220    9.984141    9.821984   -5.343420   -7.808980   11.278565   10.897262    0.830701\n",
      "   6    9.026324    9.026324   -5.765279    3.289248   -6.629355   -9.105386  -10.061220    9.982158    9.820348   -5.334747   -7.810778   11.276766   10.895795    0.830713\n",
      "   7   10.004367   10.004367   -5.831193    3.371348   -7.259988   -9.719833  -10.941371   11.225904   11.024093   -5.723835   -8.183681   12.762057   12.306457    0.834789\n",
      "   n         Emf          Eo           X        SX-X          CH         Sig         Vxc        Eqp0        Eqp1         CH`        Sig`       Eqp0`       Eqp1`         Znk\n",
      "   0   -1.422262   -1.422262  -16.038878   10.834603   -6.506121  -11.710397  -10.892150   -2.240509   -2.056552   -5.846048  -11.050324   -1.580436   -1.544875    0.775182\n",
      "   1   -1.422262   -1.422262  -16.038756   10.849576   -6.509951  -11.699132  -10.892150   -2.229243   -2.047754   -5.849967  -11.039148   -1.569259   -1.536200    0.775101\n",
      "   2    3.560518    3.560518  -13.417485    8.837332   -6.511649  -11.091802  -10.629360    3.098076    3.182647   -5.558926  -10.139079    4.050800    3.961138    0.817122\n",
      "   3    3.560518    3.560518  -13.417626    8.839068   -6.512919  -11.091477  -10.629360    3.098401    3.182895   -5.559721  -10.138279    4.051599    3.961809    0.817159\n",
      "   4    7.119480    7.119480   -5.196397    2.866268   -6.030153   -8.360282   -9.007744    7.766942    7.660491   -4.983154   -7.313284    8.813940    8.535351    0.835588\n",
      "   5    7.119480    7.119480   -5.196268    2.865697   -6.029524   -8.360095   -9.007744    7.767129    7.660654   -4.982612   -7.313183    8.814041    8.535451    0.835597\n",
      "   6   16.729018   16.729018   -3.789599    1.738717   -6.729532   -8.780414  -10.569832   18.518436   18.182565   -4.622626   -6.673508   20.625342   19.894008    0.812302\n",
      "   7   16.729018   16.729018   -3.789627    1.736905   -6.727782   -8.780504  -10.569833   18.518347   18.182047   -4.621018   -6.673740   20.625111   19.892851    0.812053\n",
      "   n         Emf          Eo           X        SX-X          CH         Sig         Vxc        Eqp0        Eqp1         CH`        Sig`       Eqp0`       Eqp1`         Znk\n",
      "   0   -3.256202   -3.256202  -16.918927   11.549690   -6.445326  -11.814563  -10.897804   -4.172961   -3.948801   -5.879221  -11.248458   -3.606855   -3.521116    0.755487\n",
      "   1   -0.604856   -0.604856  -14.908715   10.174693   -6.265237  -10.999258  -10.226820   -1.377295   -1.206538   -5.642406  -10.376427   -0.754464   -0.721392    0.778938\n",
      "   2    5.252762    5.252762  -13.204607    8.501004   -6.706270  -11.409874  -11.105676    4.948564    5.000563   -5.572885  -10.276489    6.081949    5.940209    0.829062\n",
      "   3    5.252762    5.252762  -13.204309    8.501182   -6.706696  -11.409823  -11.105676    4.948615    5.000604   -5.573241  -10.276369    6.082069    5.940314    0.829068\n",
      "   4    8.045678    8.045678   -5.934483    3.299154   -6.665434   -9.300763  -10.131903    8.876818    8.738207   -5.446887   -8.082216   10.095365    9.753535    0.833228\n",
      "   5    9.785121    9.785121   -5.081733    2.788043   -6.305371   -8.599062   -9.683745   10.869804   10.695846   -4.888681   -7.182372   12.286494   11.885330    0.839622\n",
      "   6    9.785122    9.785122   -5.081638    2.793553   -6.308717   -8.596802   -9.683745   10.872065   10.697780   -4.892131   -7.180215   12.288651   11.887227    0.839657\n",
      "   7   14.194052   14.194052   -2.406334    1.089234   -5.399781   -6.716880   -7.739375   15.216548   15.050403   -3.771267   -5.088366   16.845062   16.414301    0.837510\n"
     ]
    },
    {
     "name": "stderr",
     "output_type": "stream",
     "text": [
      "\n"
     ]
    }
   ],
   "source": [
    "gpp_result = sigma.calculate_gpp()"
   ]
  }
 ],
 "metadata": {
  "kernelspec": {
   "display_name": "qtm",
   "language": "python",
   "name": "python3"
  },
  "language_info": {
   "codemirror_mode": {
    "name": "ipython",
    "version": 3
   },
   "file_extension": ".py",
   "mimetype": "text/x-python",
   "name": "python",
   "nbconvert_exporter": "python",
   "pygments_lexer": "ipython3",
   "version": "3.11.5"
  },
  "orig_nbformat": 4
 },
 "nbformat": 4,
 "nbformat_minor": 2
}
