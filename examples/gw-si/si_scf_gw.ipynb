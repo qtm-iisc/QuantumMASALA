{
 "cells": [
  {
   "cell_type": "code",
   "execution_count": 1,
   "metadata": {},
   "outputs": [],
   "source": [
    "%load_ext autoreload\n",
    "%autoreload 2"
   ]
  },
  {
   "cell_type": "code",
   "execution_count": 2,
   "metadata": {},
   "outputs": [],
   "source": [
    "import numpy as np\n",
    "\n",
    "from qtm.constants import RYDBERG, ELECTRONVOLT\n",
    "from qtm.kpts import KList\n",
    "from qtm.lattice import RealLattice\n",
    "from qtm.crystal import BasisAtoms, Crystal\n",
    "from qtm.pseudo import UPFv2Data\n",
    "# from qtm.klist import gen_monkhorst_pack_grid\n",
    "from qtm.gspace import GSpace\n",
    "from qtm.mpi import QTMComm\n",
    "from qtm.dft import DFTCommMod, scf\n",
    "\n",
    "from qtm.io_utils.dft_printers import print_scf_status\n",
    "\n",
    "from qtm import qtmconfig\n",
    "from qtm.logger import qtmlogger\n",
    "# qtmconfig.fft_backend = 'mkl_fft'\n",
    "\n",
    "from mpi4py.MPI import COMM_WORLD\n",
    "comm_world = QTMComm(COMM_WORLD)\n",
    "dftcomm = DFTCommMod(comm_world)\n",
    "\n",
    "# Lattice\n",
    "reallat = RealLattice.from_alat(alat=10.2,  # Bohr\n",
    "                                a1=[-0.5,  0.0,  0.5],\n",
    "                                a2=[ 0.0,  0.5,  0.5],\n",
    "                                a3=[-0.5,  0.5,  0.0])\n",
    "\n",
    "# Atom Basis\n",
    "si_oncv = UPFv2Data.from_file('Si_ONCV_PBE-1.2.upf')\n",
    "si_atoms = BasisAtoms.from_alat('Si', si_oncv, 28.086, reallat,\n",
    "                               [[0.875, 0.875, 0.875], [0.125, 0.125, 0.125]])\n",
    "\n",
    "crystal = Crystal(reallat, [si_atoms, ])  # Represents the crystal\n",
    "\n",
    "\n",
    "# Generating k-points from a Monkhorst Pack grid (reduced to the crystal's IBZ)\n",
    "mpgrid_shape = (4, 4, 4)\n",
    "x = np.linspace(0,1,mpgrid_shape[0], endpoint=False)\n",
    "y = np.linspace(0,1,mpgrid_shape[1], endpoint=False)\n",
    "z = np.linspace(0,1,mpgrid_shape[2], endpoint=False)\n",
    "xx,yy,zz = np.meshgrid(x,y,z, indexing=\"ij\")\n",
    "kcryst = np.vstack([xx.flatten(),yy.flatten(),zz.flatten()])\n",
    "\n",
    "kpts = KList(recilat=crystal.recilat, k_coords=kcryst, k_weights=np.ones(kcryst.shape[1])/kcryst.shape[1])\n",
    "\n",
    "# mpgrid_shift = (True,True,True)\n",
    "# kpts = gen_monkhorst_pack_grid(crystal, mpgrid_shape, mpgrid_shift)\n",
    "# print(kpts.numkpts)\n",
    "# -----Setting up G-Space of calculation-----\n",
    "ecut_wfn = 5 * RYDBERG\n",
    "# NOTE: In future version, hard grid (charge/pot) and smooth-grid (wavefun)\n",
    "# can be set independently\n",
    "ecut_rho = 4 * ecut_wfn\n",
    "grho = GSpace(crystal.recilat, ecut_rho)\n",
    "gwfn = grho\n",
    "\n",
    "# -----Spin-polarized (collinear) calculation-----\n",
    "is_spin, is_noncolin = False, False\n",
    "# Starting with asymmetric spin distribution else convergence may yield only\n",
    "# non-magnetized states\n",
    "mag_start = [0.0]\n",
    "numbnd = 30  # Ensure adequate # of bands if system is not an insulator\n",
    "\n",
    "occ = 'fixed'\n",
    "smear_typ = 'gauss'\n",
    "e_temp = 0.0001 * RYDBERG\n",
    "\n",
    "conv_thr = 1E-8 * RYDBERG\n",
    "diago_thr_init = 1E-2 * RYDBERG"
   ]
  },
  {
   "cell_type": "code",
   "execution_count": 3,
   "metadata": {},
   "outputs": [
    {
     "name": "stdout",
     "output_type": "stream",
     "text": [
      "Iteration # 1, Run Time:   5.9 sec\n",
      "Convergence Status   : NOT Converged\n",
      "SCF Error           : 6.1171e-02 Ry\n",
      "Avg Diago Iterations: 7.7\n",
      "Diago Threshold     : 1.00e-02 Ry\n",
      "\n",
      "Total Energy:          -15.96754455 Ry\n",
      "\n",
      "      one-el:            4.83802701 Ry\n",
      "     Hartree:            0.80642513 Ry\n",
      "          XC:           -4.71223800 Ry\n",
      "       Ewald:          -16.89975869 Ry\n",
      "\n",
      "    HO Level:            5.89767082 eV\n",
      "    LU Level:            6.86611554 eV\n",
      "----------------------------------------\n",
      "\n",
      "Iteration # 1, Run Time:   8.2 sec\n",
      "Convergence Status   : NOT Converged\n",
      "SCF Error           : 6.1010e-02 Ry\n",
      "Avg Diago Iterations: 2.6\n",
      "Diago Threshold     : 7.63e-04 Ry\n",
      "\n",
      "Total Energy:          -15.96792936 Ry\n",
      "\n",
      "      one-el:            4.83764220 Ry\n",
      "     Hartree:            0.80642513 Ry\n",
      "          XC:           -4.71223800 Ry\n",
      "       Ewald:          -16.89975869 Ry\n",
      "\n",
      "    HO Level:            5.89675665 eV\n",
      "    LU Level:            6.86552231 eV\n",
      "----------------------------------------\n",
      "\n",
      "Iteration # 2, Run Time:  10.3 sec\n",
      "Convergence Status   : NOT Converged\n",
      "SCF Error           : 2.1363e-03 Ry\n",
      "Avg Diago Iterations: 1.0\n",
      "Diago Threshold     : 2.67e-05 Ry\n",
      "\n",
      "Total Energy:          -15.76806485 Ry\n",
      "\n",
      "      one-el:            4.88446745 Ry\n",
      "     Hartree:            1.06857676 Ry\n",
      "          XC:           -4.82135037 Ry\n",
      "       Ewald:          -16.89975869 Ry\n",
      "\n",
      "    HO Level:            6.40928193 eV\n",
      "    LU Level:            7.05940275 eV\n",
      "----------------------------------------\n",
      "\n",
      "Iteration # 3, Run Time:  12.9 sec\n",
      "Convergence Status   : NOT Converged\n",
      "SCF Error           : 5.6441e-05 Ry\n",
      "Avg Diago Iterations: 4.7\n",
      "Diago Threshold     : 7.06e-07 Ry\n",
      "\n",
      "Total Energy:          -15.74841805 Ry\n",
      "\n",
      "      one-el:            4.88812953 Ry\n",
      "     Hartree:            1.10557861 Ry\n",
      "          XC:           -4.84236750 Ry\n",
      "       Ewald:          -16.89975869 Ry\n",
      "\n",
      "    HO Level:            6.47035110 eV\n",
      "    LU Level:            7.10827526 eV\n",
      "----------------------------------------\n",
      "\n",
      "Iteration # 4, Run Time:  15.8 sec\n",
      "Convergence Status   : NOT Converged\n",
      "SCF Error           : 1.3257e-07 Ry\n",
      "Avg Diago Iterations: 4.3\n",
      "Diago Threshold     : 1.66e-09 Ry\n",
      "\n",
      "Total Energy:          -15.74880872 Ry\n",
      "\n",
      "      one-el:            4.88769137 Ry\n",
      "     Hartree:            1.10840927 Ry\n",
      "          XC:           -4.84515067 Ry\n",
      "       Ewald:          -16.89975869 Ry\n",
      "\n",
      "    HO Level:            6.47321155 eV\n",
      "    LU Level:            7.11819808 eV\n",
      "----------------------------------------\n",
      "\n",
      "Iteration # 5, Run Time:  20.1 sec\n",
      "Convergence Status   :  Converged\n",
      "SCF Error           : 9.4918e-10 Ry\n",
      "Avg Diago Iterations: 6.7\n",
      "Diago Threshold     : 1.66e-09 Ry\n",
      "\n",
      "Total Energy:          -15.74871826 Ry\n",
      "\n",
      "      one-el:            4.88766727 Ry\n",
      "     Hartree:            1.10867368 Ry\n",
      "          XC:           -4.84530052 Ry\n",
      "       Ewald:          -16.89975869 Ry\n",
      "\n",
      "    HO Level:            6.47357242 eV\n",
      "    LU Level:            7.11948002 eV\n",
      "----------------------------------------\n",
      "\n"
     ]
    },
    {
     "name": "stderr",
     "output_type": "stream",
     "text": [
      "/home1/agrimsharma/codes/PhD_QuantumMASALA/QuantumMASALA/src/qtm/dft/scf.py:418: ComplexWarning: Casting complex values to real discards the imaginary part\n",
      "  vxc_arr[ik,iband] = hpsi_r#/ gwfn.reallat_dv\n"
     ]
    },
    {
     "name": "stdout",
     "output_type": "stream",
     "text": [
      "SCF Routine has exited\n",
      "                          TIMERS                           \n",
      "-----------------------------------------------------------\n",
      "|            LABEL             |  CALL  |  TIME  | STATUS  |\n",
      "-----------------------------------------------------------\n",
      "-----------------------------------------------------------\n",
      "\n",
      "                COUNTERS                 \n",
      "-----------------------------------------\n",
      "|            LABEL             | COUNT  |\n",
      "-----------------------------------------\n",
      "-----------------------------------------\n",
      "\n",
      "[[-10.50315708 -11.36939725 -11.36939701 ...  -9.63525668  -9.63525635\n",
      "   -7.7355693 ]\n",
      " [-10.57973657 -10.69759118 -11.13077338 ...  -9.19250514  -9.19251182\n",
      "   -9.59911023]\n",
      " [-10.89780415 -10.22681951 -11.10567573 ...  -8.65528191  -8.6552829\n",
      "   -9.1415997 ]\n",
      " ...\n",
      " [-10.83081092 -10.79460051 -10.25485879 ...  -9.01784025  -8.67086204\n",
      "   -8.95993853]\n",
      " [-10.73213112 -10.93560893 -10.08289306 ...  -8.85761017  -9.90399847\n",
      "   -9.07785932]\n",
      " [-10.57973645 -10.69759109 -11.13077351 ...  -9.19252105  -9.19252136\n",
      "   -9.59910578]]\n"
     ]
    }
   ],
   "source": [
    "from qtm.constants import ELECTRONVOLT_HART\n",
    "from qtm.kpts import KList\n",
    "\n",
    "\n",
    "kpts = KList(recilat=crystal.recilat, k_coords=kpts.k_cryst, k_weights=np.ones(kpts.k_cryst.shape[1])/kpts.k_cryst.shape[1])\n",
    "\n",
    "out = scf(dftcomm, crystal, kpts, grho, gwfn,\n",
    "          numbnd, is_spin, is_noncolin,\n",
    "          rho_start=mag_start, occ_typ=occ, smear_typ='gauss', e_temp=e_temp,\n",
    "          conv_thr=conv_thr, diago_thr_init=diago_thr_init,\n",
    "          iter_printer=print_scf_status,\n",
    "          ret_vxc=True)\n",
    "\n",
    "scf_converged, rho, l_wfn_kgrp, en, vxc = out\n",
    "\n",
    "\n",
    "print(\"SCF Routine has exited\")\n",
    "print(qtmlogger)\n",
    "\n",
    "print(vxc/ELECTRONVOLT_HART)\n",
    "\n",
    "# for wfn in l_wfn_kgrp:\n",
    "#     wfn.evc_gk/=(np.linalg.norm(wfn.evc_gk, axis=-1, keepdims=True))\n",
    "    # wfn.evl*=2\n",
    "    # wfn.normalize()"
   ]
  },
  {
   "cell_type": "code",
   "execution_count": 4,
   "metadata": {},
   "outputs": [
    {
     "data": {
      "text/plain": [
       "array([-5.63639296,  6.47357234,  6.47357238,  6.47357242,  9.02632434,\n",
       "        9.02632451,  9.02632453, 10.00436678, 14.22708703, 14.2270872 ,\n",
       "       14.47107114, 17.75478405, 17.75478416, 17.75478422, 21.96831451,\n",
       "       29.85344213, 29.85344227, 29.85344233, 30.98269702, 30.98269719,\n",
       "       32.67081682, 32.67081697, 32.67081709, 35.95130562, 35.95130589,\n",
       "       35.95130598, 41.86282945, 41.86282973, 41.86283009, 45.2875407 ])"
      ]
     },
     "execution_count": 4,
     "metadata": {},
     "output_type": "execute_result"
    }
   ],
   "source": [
    "l_wfn_kgrp[0][0].evl/ELECTRONVOLT_HART"
   ]
  },
  {
   "cell_type": "code",
   "execution_count": 5,
   "metadata": {},
   "outputs": [
    {
     "name": "stdout",
     "output_type": "stream",
     "text": [
      "Iteration # 1, Run Time:   5.9 sec\n",
      "Convergence Status   : NOT Converged\n",
      "SCF Error           : 6.1181e-02 Ry\n",
      "Avg Diago Iterations: 7.7\n",
      "Diago Threshold     : 1.00e-02 Ry\n",
      "\n",
      "Total Energy:           -5.33847822 Ry\n",
      "\n",
      "      one-el:           15.46709334 Ry\n",
      "     Hartree:            0.80642513 Ry\n",
      "          XC:           -4.71223800 Ry\n",
      "       Ewald:          -16.89975869 Ry\n",
      "\n",
      "    HO Level:            5.89781265 eV\n",
      "    LU Level:            6.86455467 eV\n",
      "----------------------------------------\n",
      "\n",
      "Iteration # 1, Run Time:   8.1 sec\n",
      "Convergence Status   : NOT Converged\n",
      "SCF Error           : 6.1007e-02 Ry\n",
      "Avg Diago Iterations: 2.5\n",
      "Diago Threshold     : 7.63e-04 Ry\n",
      "\n",
      "Total Energy:           -5.34521949 Ry\n",
      "\n",
      "      one-el:           15.46035207 Ry\n",
      "     Hartree:            0.80642513 Ry\n",
      "          XC:           -4.71223800 Ry\n",
      "       Ewald:          -16.89975869 Ry\n",
      "\n",
      "    HO Level:            5.89673910 eV\n",
      "    LU Level:            6.86372559 eV\n",
      "----------------------------------------\n",
      "\n",
      "Iteration # 2, Run Time:  10.2 sec\n",
      "Convergence Status   : NOT Converged\n",
      "SCF Error           : 2.1366e-03 Ry\n",
      "Avg Diago Iterations: 1.1\n",
      "Diago Threshold     : 2.67e-05 Ry\n",
      "\n",
      "Total Energy:           -0.14951711 Ry\n",
      "\n",
      "      one-el:           20.50301759 Ry\n",
      "     Hartree:            1.06856834 Ry\n",
      "          XC:           -4.82134435 Ry\n",
      "       Ewald:          -16.89975869 Ry\n",
      "\n",
      "    HO Level:            6.40924412 eV\n",
      "    LU Level:            7.05767315 eV\n",
      "----------------------------------------\n",
      "\n",
      "Iteration # 3, Run Time:  12.8 sec\n",
      "Convergence Status   : NOT Converged\n",
      "SCF Error           : 5.6399e-05 Ry\n",
      "Avg Diago Iterations: 4.4\n",
      "Diago Threshold     : 7.05e-07 Ry\n",
      "\n",
      "Total Energy:            0.51277716 Ry\n",
      "\n",
      "      one-el:           21.14932587 Ry\n",
      "     Hartree:            1.10557490 Ry\n",
      "          XC:           -4.84236492 Ry\n",
      "       Ewald:          -16.89975869 Ry\n",
      "\n",
      "    HO Level:            6.47032069 eV\n",
      "    LU Level:            7.10655521 eV\n",
      "----------------------------------------\n",
      "\n",
      "Iteration # 4, Run Time:  15.7 sec\n",
      "Convergence Status   : NOT Converged\n",
      "SCF Error           : 1.3251e-07 Ry\n",
      "Avg Diago Iterations: 4.8\n",
      "Diago Threshold     : 1.66e-09 Ry\n",
      "\n",
      "Total Energy:            0.55672056 Ry\n",
      "\n",
      "      one-el:           21.19322294 Ry\n",
      "     Hartree:            1.10840406 Ry\n",
      "          XC:           -4.84514774 Ry\n",
      "       Ewald:          -16.89975869 Ry\n",
      "\n",
      "    HO Level:            6.47317871 eV\n",
      "    LU Level:            7.11647389 eV\n",
      "----------------------------------------\n",
      "\n",
      "Iteration # 5, Run Time:  20.0 sec\n",
      "Convergence Status   :  Converged\n",
      "SCF Error           : 9.4741e-10 Ry\n",
      "Avg Diago Iterations: 7.8\n",
      "Diago Threshold     : 1.66e-09 Ry\n",
      "\n",
      "Total Energy:            0.56169460 Ry\n",
      "\n",
      "      one-el:           21.19808283 Ry\n",
      "     Hartree:            1.10866894 Ry\n",
      "          XC:           -4.84529848 Ry\n",
      "       Ewald:          -16.89975869 Ry\n",
      "\n",
      "    HO Level:            6.47354003 eV\n",
      "    LU Level:            7.11775676 eV\n",
      "----------------------------------------\n",
      "\n",
      "Shifted SCF Routine has exited\n",
      "                          TIMERS                           \n",
      "-----------------------------------------------------------\n",
      "|            LABEL             |  CALL  |  TIME  | STATUS  |\n",
      "-----------------------------------------------------------\n",
      "-----------------------------------------------------------\n",
      "\n",
      "                COUNTERS                 \n",
      "-----------------------------------------\n",
      "|            LABEL             | COUNT  |\n",
      "-----------------------------------------\n",
      "-----------------------------------------\n",
      "\n"
     ]
    }
   ],
   "source": [
    "kpts_q = KList(recilat=crystal.recilat, k_coords=kpts.k_cryst+np.array([[0,0,0.001]]).T, k_weights=np.ones(kpts.k_cryst.shape[1])/kpts.k_cryst.shape[0])\n",
    "\n",
    "out_q = scf(dftcomm, crystal, kpts_q, grho, gwfn,\n",
    "          numbnd, is_spin, is_noncolin,\n",
    "          rho_start=mag_start, occ_typ=occ, smear_typ='gauss', e_temp=e_temp,\n",
    "          conv_thr=conv_thr, diago_thr_init=diago_thr_init,\n",
    "          iter_printer=print_scf_status)\n",
    "\n",
    "scf_converged_q, rho_q, l_wfn_kgrp_q, en_q = out_q\n",
    "\n",
    "\n",
    "print(\"Shifted SCF Routine has exited\")\n",
    "print(qtmlogger)"
   ]
  },
  {
   "cell_type": "code",
   "execution_count": 6,
   "metadata": {},
   "outputs": [
    {
     "name": "stdout",
     "output_type": "stream",
     "text": [
      "[416.85324649-1.40840157e-50j]\n"
     ]
    }
   ],
   "source": [
    "print(rho.data_g0)"
   ]
  },
  {
   "cell_type": "code",
   "execution_count": 7,
   "metadata": {},
   "outputs": [
    {
     "data": {
      "text/plain": [
       "array([-5.6363866 ,  6.47340204,  6.47354002,  6.47354003,  9.02635416,\n",
       "        9.02635421,  9.02636947, 10.00444467, 14.22703302, 14.22703324,\n",
       "       14.47111965, 17.75472324, 17.75487357, 17.75487376, 21.96839671,\n",
       "       29.85326206, 29.85330953, 29.85330983, 30.9825386 , 30.98253886,\n",
       "       32.67091592, 32.67091621, 32.67095914, 35.9513144 , 35.95149641,\n",
       "       35.9514967 , 41.86260655, 41.86278312, 41.86278346, 45.28759844])"
      ]
     },
     "execution_count": 7,
     "metadata": {},
     "output_type": "execute_result"
    }
   ],
   "source": [
    "l_wfn_kgrp_q[0][0].evl/ELECTRONVOLT_HART"
   ]
  },
  {
   "cell_type": "markdown",
   "metadata": {},
   "source": [
    "### Load Input Files\n",
    "Input data is handled by the ``EpsInp`` class.\\\n",
    "The data can be provided either by constructing the ``EpsInp`` object or by reading BGW-compatible input file ``epsilon.inp``.\\\n",
    "The attributes have been supplied with docstrings from BerkeleyGW's input specification, so they will be accessible directly in most IDEs."
   ]
  },
  {
   "cell_type": "code",
   "execution_count": 8,
   "metadata": {},
   "outputs": [],
   "source": [
    "# Imports\n",
    "import numpy as np\n",
    "import sys\n",
    "\n",
    "sys.path.append(\".\")\n",
    "\n",
    "dirname = \"./si_4_gw/\""
   ]
  },
  {
   "cell_type": "markdown",
   "metadata": {},
   "source": [
    "### Load Input Files\n",
    "Input data is handled by the ``EpsInp`` class.\\\n",
    "The data can be provided either by constructing the ``EpsInp`` object or by reading BGW-compatible input file ``epsilon.inp``.\\\n",
    "The attributes have been supplied with docstrings from BerkeleyGW's input specification, so they will be accessible directly in most IDEs."
   ]
  },
  {
   "cell_type": "code",
   "execution_count": 9,
   "metadata": {},
   "outputs": [],
   "source": [
    "from qtm.gw.io_bgw.epsinp import Epsinp\n",
    "\n",
    "# Constructing input manually\n",
    "# epsinp = Epsinp(epsilon_cutoff=1.2,\n",
    "#                 use_wfn_hdf5=True,\n",
    "#                 number_bands=8,\n",
    "#                 write_vcoul=True,\n",
    "#                 qpts=[[0.0,0.0,0.0]],\n",
    "#                 is_q0=[True])\n",
    "\n",
    "# Reading from epsilon.inp file\n",
    "epsinp = Epsinp.from_epsilon_inp(filename=dirname+'epsilon.inp')\n",
    "# print(epsinp)\n",
    "\n",
    "# There is an analogous system to read SigmaInp\n",
    "from qtm.gw.io_bgw.sigmainp import Sigmainp\n",
    "sigmainp = Sigmainp.from_sigma_inp(filename=dirname+'sigma.inp')\n",
    "# print(sigmainp)"
   ]
  },
  {
   "cell_type": "markdown",
   "metadata": {},
   "source": [
    "### Load WfnData\n",
    "Calculation of dielectric matrix requires mean field eigenfunctions. \\\n",
    "Wavefunction data generated from mean-field codes can be read using the ``wfn2py`` utility, which assumes that the incoming data satisfies BerkeleyGW's [`wfn_h5`](http://manual.berkeleygw.org/3.0/wfn_h5_spec/) specification. The data is stored as a `NamedTuple` object.\n",
    "\n",
    "For reasons discussed later, we also require wavefunctions on a shifted grid to calculate dielectric matrix at $q\\to 0$. This shifted grid dataset will be referred to as `wfnqdata`.\n",
    "\n",
    "Similarly, the utilities `read_rho` and `read_vxc` can be used to read density and exchange-correlation respectively."
   ]
  },
  {
   "cell_type": "code",
   "execution_count": 10,
   "metadata": {},
   "outputs": [],
   "source": [
    "# # wfn2py\n",
    "from qtm.gw.io_bgw import inp\n",
    "# from qtm.gw.io_bgw.wfn2py import wfn2py\n",
    "\n",
    "# wfndata = wfn2py(dirname+'WFN.h5')#, wfn_ecutrho_minus_ecutwfn=epsinp.epsilon_cutoff)\n",
    "# # print(wfndata.__doc__)\n",
    "\n",
    "# wfnqdata = wfn2py(dirname+'WFNq.h5')#, wfn_ecutrho_minus_ecutwfn=epsinp.epsilon_cutoff)\n",
    "# # print(wfnqdata.__doc__)\n",
    "\n",
    "# # RHO data\n",
    "rho_read = inp.read_rho(dirname+\"RHO\")\n",
    "\n",
    "# # Vxc data\n",
    "# vxc = inp.read_vxc(dirname+\"vxc.dat\")"
   ]
  },
  {
   "cell_type": "code",
   "execution_count": 11,
   "metadata": {},
   "outputs": [
    {
     "name": "stdout",
     "output_type": "stream",
     "text": [
      "<qtm.containers.field.get_FieldG.<locals>.FieldG object at 0x7efdb42640d0>\n"
     ]
    }
   ],
   "source": [
    "print(rho)"
   ]
  },
  {
   "cell_type": "code",
   "execution_count": 12,
   "metadata": {},
   "outputs": [
    {
     "name": "stdout",
     "output_type": "stream",
     "text": [
      "29.999999999999982\n",
      "[ 7.52163396e-01+5.82657980e-01j  7.95827174e-02+6.16481686e-02j\n",
      "  2.43670726e-03+1.88755401e-03j  4.15943037e-03+3.22207440e-03j\n",
      "  7.59986939e-04+5.88722939e-04j  7.59976933e-04+5.88706517e-04j\n",
      "  4.15944809e-03+3.22208097e-03j  2.43666248e-03+1.88754439e-03j\n",
      "  7.95826984e-02+6.16481706e-02j  7.95827048e-02+6.16481780e-02j\n",
      "  4.46317036e-09-3.32229492e-09j  1.15147511e-02+8.91980670e-03j\n",
      "  7.12214775e-03+5.51712091e-03j  8.10274039e-04+6.27655155e-04j\n",
      "  1.88743480e-04+1.46201174e-04j  1.92356352e-04+1.48998972e-04j\n",
      " -7.05416504e-03-5.46447676e-03j -8.49503572e-03-6.58064875e-03j\n",
      "  2.43663686e-03+1.88750118e-03j  1.15146680e-02+8.91988262e-03j]\n"
     ]
    }
   ],
   "source": [
    "print(np.sum(np.linalg.norm(l_wfn_kgrp[0][0].evc_gk.data)**2))\n",
    "print(l_wfn_kgrp[0][0].evc_gk.data[0][:20])"
   ]
  },
  {
   "cell_type": "markdown",
   "metadata": {},
   "source": [
    "### Initialize Epsilon Class\n",
    "\n",
    "``Epsilon`` class can be initialized by either directly passing the required `quantummasala.core` objects or by passing the input objects discussed earlier."
   ]
  },
  {
   "cell_type": "code",
   "execution_count": 13,
   "metadata": {},
   "outputs": [
    {
     "name": "stderr",
     "output_type": "stream",
     "text": [
      "Vcoul calculation for qpts: 100%|██████████| 64/64 [00:00<00:00, 16354.05it/s]\n"
     ]
    }
   ],
   "source": [
    "from qtm.gw.core import QPoints\n",
    "from qtm.gw.epsilon import Epsilon\n",
    "from qtm.klist import KList\n",
    "\n",
    "kpts_gw =   KList(recilat=kpts.recilat,   cryst=kpts.k_cryst.T,   weights=kpts.k_weights)\n",
    "kpts_gw_q = KList(recilat=kpts_q.recilat, cryst=kpts_q.k_cryst.T, weights=kpts_q.k_weights)\n",
    "\n",
    "# Manual initialization\n",
    "epsilon = Epsilon(\n",
    "    crystal = crystal,\n",
    "    gspace = grho,\n",
    "    kpts = kpts_gw,\n",
    "    kptsq = kpts_gw_q,        \n",
    "    l_wfn = l_wfn_kgrp,\n",
    "    l_wfnq = l_wfn_kgrp_q,\n",
    "    # l_gsp_wfn = wfndata.l_gk,\n",
    "    # l_gsp_wfnq = wfnqdata.l_gk,\n",
    "    qpts = QPoints.from_cryst(kpts.recilat, epsinp.is_q0, *epsinp.qpts),\n",
    "    epsinp = epsinp,\n",
    ")\n",
    "\n",
    "# epsilon = Epsilon.from_data(wfndata=wfndata, wfnqdata=wfnqdata, epsinp=epsinp)"
   ]
  },
  {
   "cell_type": "markdown",
   "metadata": {},
   "source": [
    "The three main steps involved in the calculation have been mapped to the corresponding functions:\n",
    "1.  ``matrix_elements``: Calculation of Planewave Matrix elements\n",
    "2.  ``polarizability``: Calculation of RPA polarizability matrix $P$\n",
    "3.  ``epsilon_inverse``: Calculation of (static) epsilon-inverse matrix\n",
    "\n",
    "<!-- 1.  ``matrix_elements``: Calculation of Planewave Matrix elements\n",
    "    $$M_{nn'}({\\textbf k},{\\textbf q},{\\textbf G}) = \\bra{n\\,{\\textbf k}{+}{\\textbf q}}e^{i({\\textbf q}+{\\textbf G})\\cdot{\\textbf r}}\\ket{n'\\,\\textbf k}$$\n",
    "    where the $\\textbf G$-vectors included in the calculation satisfy $|\\textbf q + \\textbf G|^2 < E_{\\text{cut}}$.\n",
    "    Since this is a convolution in k-space, the time complexity can be reduced from $\\mathcal{O}\\left(N^2_G\\right)$ to $\\mathcal{O}\\left(N_G\\ln N_G\\right)$ by using Fast Fourier Transform, where $N_G$  the number of reciprocal lattice vectors in the wavefunction.\n",
    "    $$\n",
    "    M_{nn'}({\\bf k},{\\bf q},\\{{\\bf G}\\}) = {\\rm FFT}^{-1}\\left( \\phi^{*}_{n,{\\bf k}+{\\bf q} }({\\bf r}) \\phi_{n',{\\bf k} }({\\bf r}) \\right).\n",
    "    $$\n",
    "    where $\\phi_{n',{\\bf k}}({\\bf r}) = {\\rm FFT}\\left( \\psi_{n\\bf k}(\\bf G)\\right)$. \n",
    "    \n",
    "2.  ``polarizability``: Calculation of RPA polarizability matrix $P$\n",
    "    $$\n",
    "        P_{\\textbf{GG'}}{\\left({\\textbf q}\\;\\!;0\\right)}=\n",
    "        \\,\\,{}\\sum_{n}^{\\textrm occ}\\sum_{n'}^{\\textrm emp}\\sum_{{\\textbf k}}\n",
    "        \\frac{\n",
    "        \\bra{n'\\textbf k}e^{-i({\\textbf q}+{\\textbf G})\\cdot{\\textbf r}}\\ket{n{\\textbf k}{+}{\\textbf q}}\n",
    "        \\bra{n{\\textbf k}{+}{\\textbf q}}e^{i({\\textbf q}+{\\textbf G'})\\cdot{\\textbf r}}\\ket{n'\\textbf k}\n",
    "        }{E_{n{\\textbf k}{+}{\\textbf q}}\\,{-}\\,E_{n'{\\textbf k}}}.\n",
    "    $$\n",
    "3.  ``epsilon_inverse``: Calculation of (static) epsilon-inverse matrix\n",
    "    $$\n",
    "        \\epsilon_{\\textbf{GG'}}{\\left({\\textbf q}\\;\\!\\right)}=\n",
    "        \\delta_{\\textbf{GG'}}\\,{-}\\,v{\\left({\\textbf q}{+}{\\textbf G}\\right)} \\,\n",
    "        P_{\\textbf{GG'}}{\\left({\\textbf q}\\;\\!\\right)}\n",
    "    $$\n",
    "    where $ v(\\textbf{q} + \\textbf{G}) = \\frac{8\\pi}{\\left|\\textbf q + \\textbf G\\right|^2} $ is bare Coulomb potential, written in Rydberg units. If this formula is used as-is for the case where $|\\textbf q| = |\\textbf G| = 0$, the resulting $v\\left({\\textbf{q=0}, \\textbf{G=0}}\\;\\!\\right)$ blows up as $1/q^2$. However, for 3D gapped systems, the matrix elements $\\big| M_{nn'}\\left({\\bf k},{\\textbf{q}\\to\\textbf{0}},{\\textbf{G=0}}\\right)\\big| \\sim q$ cancel the Coulomb divergence and $\\epsilon_{\\textbf{00}}\\left({\\textbf q\\to\\textbf{0}}\\;\\!\\right) \\sim q^2/q^2$ which is a finite number. In order to calculate $\\epsilon_{\\textbf{00}}\\left({\\textbf q=\\textbf{0}}\\;\\!\\right)$, we use the scheme specified in BGW2012, wherein $q=0$ is replaced with a small but non-zero value. Since matrix element calculation involves the eigenvectors $\\ket{n{\\textbf k}{+}{\\textbf q}}$, having a non-$\\Gamma$-centered $\\textbf q\\to 0$ point requires mean-field eigenvectors over a shifted $k$-grid. -->"
   ]
  },
  {
   "cell_type": "code",
   "execution_count": 14,
   "metadata": {},
   "outputs": [
    {
     "name": "stderr",
     "output_type": "stream",
     "text": [
      "Epsilon> q-pt index:   0%|          | 0/64 [00:00<?, ?it/s]"
     ]
    },
    {
     "name": "stderr",
     "output_type": "stream",
     "text": [
      "Epsilon> q-pt index:   2%|▏         | 1/64 [00:00<00:19,  3.17it/s]"
     ]
    },
    {
     "name": "stdout",
     "output_type": "stream",
     "text": [
      "q0\n",
      "Standard deviation exceeded 1e-16 tolerance: 3.7093720825876787e-07, for i_q:0\n",
      "42.21657800193814\n",
      "67\n"
     ]
    },
    {
     "name": "stderr",
     "output_type": "stream",
     "text": [
      "Epsilon> q-pt index:   3%|▎         | 2/64 [00:00<00:20,  2.99it/s]"
     ]
    },
    {
     "name": "stdout",
     "output_type": "stream",
     "text": [
      "Standard deviation exceeded 1e-16 tolerance: 3.1277758703721435e-10, for i_q:1\n",
      "0.4207231962765918\n",
      "0\n"
     ]
    },
    {
     "name": "stderr",
     "output_type": "stream",
     "text": [
      "Epsilon> q-pt index:   5%|▍         | 3/64 [00:01<00:20,  2.91it/s]"
     ]
    },
    {
     "name": "stdout",
     "output_type": "stream",
     "text": [
      "Standard deviation exceeded 1e-16 tolerance: 3.2080723557334353e-10, for i_q:2\n",
      "0.259996206994754\n",
      "0\n"
     ]
    },
    {
     "name": "stderr",
     "output_type": "stream",
     "text": [
      "Epsilon> q-pt index:   6%|▋         | 4/64 [00:01<00:21,  2.83it/s]"
     ]
    },
    {
     "name": "stdout",
     "output_type": "stream",
     "text": [
      "Standard deviation exceeded 1e-16 tolerance: 3.089397313369496e-10, for i_q:3\n",
      "0.42072323235894277\n",
      "0\n"
     ]
    },
    {
     "name": "stderr",
     "output_type": "stream",
     "text": [
      "Epsilon> q-pt index:   8%|▊         | 5/64 [00:01<00:21,  2.79it/s]"
     ]
    },
    {
     "name": "stdout",
     "output_type": "stream",
     "text": [
      "Standard deviation exceeded 1e-16 tolerance: 3.104785758459457e-10, for i_q:4\n",
      "0.4207231702641214\n",
      "0\n"
     ]
    },
    {
     "name": "stderr",
     "output_type": "stream",
     "text": [
      "Epsilon> q-pt index:   9%|▉         | 6/64 [00:02<00:20,  2.77it/s]"
     ]
    },
    {
     "name": "stdout",
     "output_type": "stream",
     "text": [
      "Standard deviation exceeded 1e-16 tolerance: 3.12260327487473e-10, for i_q:5\n",
      "0.38424485426224647\n",
      "0\n"
     ]
    },
    {
     "name": "stderr",
     "output_type": "stream",
     "text": [
      "Epsilon> q-pt index:  11%|█         | 7/64 [00:02<00:20,  2.74it/s]"
     ]
    },
    {
     "name": "stdout",
     "output_type": "stream",
     "text": [
      "Standard deviation exceeded 1e-16 tolerance: 3.1047528004485104e-10, for i_q:6\n",
      "0.2899578035333763\n",
      "0\n"
     ]
    },
    {
     "name": "stderr",
     "output_type": "stream",
     "text": [
      "Epsilon> q-pt index:  12%|█▎        | 8/64 [00:02<00:20,  2.73it/s]"
     ]
    },
    {
     "name": "stdout",
     "output_type": "stream",
     "text": [
      "Standard deviation exceeded 1e-16 tolerance: 3.3053333565177486e-10, for i_q:7\n",
      "0.2804061282733944\n",
      "0\n"
     ]
    },
    {
     "name": "stderr",
     "output_type": "stream",
     "text": [
      "Epsilon> q-pt index:  14%|█▍        | 9/64 [00:03<00:20,  2.75it/s]"
     ]
    },
    {
     "name": "stdout",
     "output_type": "stream",
     "text": [
      "Standard deviation exceeded 1e-16 tolerance: 3.1913648370880793e-10, for i_q:8\n",
      "0.2599961543328979\n",
      "0\n"
     ]
    },
    {
     "name": "stderr",
     "output_type": "stream",
     "text": [
      "Epsilon> q-pt index:  16%|█▌        | 10/64 [00:03<00:19,  2.74it/s]"
     ]
    },
    {
     "name": "stdout",
     "output_type": "stream",
     "text": [
      "Standard deviation exceeded 1e-16 tolerance: 3.084387403292469e-10, for i_q:9\n",
      "0.2899578357082042\n",
      "0\n"
     ]
    },
    {
     "name": "stderr",
     "output_type": "stream",
     "text": [
      "Epsilon> q-pt index:  17%|█▋        | 11/64 [00:04<00:19,  2.73it/s]"
     ]
    },
    {
     "name": "stdout",
     "output_type": "stream",
     "text": [
      "Standard deviation exceeded 1e-16 tolerance: 3.023890780008214e-10, for i_q:10\n",
      "0.2329640242455085\n",
      "0\n"
     ]
    },
    {
     "name": "stderr",
     "output_type": "stream",
     "text": [
      "Epsilon> q-pt index:  19%|█▉        | 12/64 [00:04<00:19,  2.74it/s]"
     ]
    },
    {
     "name": "stdout",
     "output_type": "stream",
     "text": [
      "Standard deviation exceeded 1e-16 tolerance: 3.07200963295548e-10, for i_q:11\n",
      "0.28995782949692217\n",
      "0\n"
     ]
    },
    {
     "name": "stderr",
     "output_type": "stream",
     "text": [
      "Epsilon> q-pt index:  20%|██        | 13/64 [00:04<00:18,  2.73it/s]"
     ]
    },
    {
     "name": "stdout",
     "output_type": "stream",
     "text": [
      "Standard deviation exceeded 1e-16 tolerance: 3.0595810047815595e-10, for i_q:12\n",
      "0.4207232060836274\n",
      "0\n"
     ]
    },
    {
     "name": "stderr",
     "output_type": "stream",
     "text": [
      "Epsilon> q-pt index:  22%|██▏       | 14/64 [00:05<00:18,  2.74it/s]"
     ]
    },
    {
     "name": "stdout",
     "output_type": "stream",
     "text": [
      "Standard deviation exceeded 1e-16 tolerance: 3.2794758021732575e-10, for i_q:13\n",
      "0.2804061598100352\n",
      "0\n"
     ]
    },
    {
     "name": "stderr",
     "output_type": "stream",
     "text": [
      "Epsilon> q-pt index:  23%|██▎       | 15/64 [00:05<00:17,  2.74it/s]"
     ]
    },
    {
     "name": "stdout",
     "output_type": "stream",
     "text": [
      "Standard deviation exceeded 1e-16 tolerance: 3.092460667341656e-10, for i_q:14\n",
      "0.2899578394926235\n",
      "0\n"
     ]
    },
    {
     "name": "stderr",
     "output_type": "stream",
     "text": [
      "Epsilon> q-pt index:  25%|██▌       | 16/64 [00:05<00:17,  2.73it/s]"
     ]
    },
    {
     "name": "stdout",
     "output_type": "stream",
     "text": [
      "Standard deviation exceeded 1e-16 tolerance: 3.119568532034567e-10, for i_q:15\n",
      "0.3842448268451158\n",
      "0\n"
     ]
    },
    {
     "name": "stderr",
     "output_type": "stream",
     "text": [
      "Epsilon> q-pt index:  27%|██▋       | 17/64 [00:06<00:17,  2.72it/s]"
     ]
    },
    {
     "name": "stdout",
     "output_type": "stream",
     "text": [
      "Standard deviation exceeded 1e-16 tolerance: 3.070770738773968e-10, for i_q:16\n",
      "0.4207232558701607\n",
      "0\n"
     ]
    },
    {
     "name": "stderr",
     "output_type": "stream",
     "text": [
      "Epsilon> q-pt index:  28%|██▊       | 18/64 [00:06<00:16,  2.72it/s]"
     ]
    },
    {
     "name": "stdout",
     "output_type": "stream",
     "text": [
      "Standard deviation exceeded 1e-16 tolerance: 3.1262154616800385e-10, for i_q:17\n",
      "0.3842448287255191\n",
      "0\n"
     ]
    },
    {
     "name": "stderr",
     "output_type": "stream",
     "text": [
      "Epsilon> q-pt index:  30%|██▉       | 19/64 [00:06<00:16,  2.72it/s]"
     ]
    },
    {
     "name": "stdout",
     "output_type": "stream",
     "text": [
      "Standard deviation exceeded 1e-16 tolerance: 3.0939047768302933e-10, for i_q:18\n",
      "0.2899578195470889\n",
      "0\n"
     ]
    },
    {
     "name": "stderr",
     "output_type": "stream",
     "text": [
      "Epsilon> q-pt index:  31%|███▏      | 20/64 [00:07<00:16,  2.74it/s]"
     ]
    },
    {
     "name": "stdout",
     "output_type": "stream",
     "text": [
      "Standard deviation exceeded 1e-16 tolerance: 3.3118988207784813e-10, for i_q:19\n",
      "0.2804061888858378\n",
      "0\n"
     ]
    },
    {
     "name": "stderr",
     "output_type": "stream",
     "text": [
      "Epsilon> q-pt index:  33%|███▎      | 21/64 [00:07<00:15,  2.73it/s]"
     ]
    },
    {
     "name": "stdout",
     "output_type": "stream",
     "text": [
      "Standard deviation exceeded 1e-16 tolerance: 3.0695547529081e-10, for i_q:20\n",
      "0.38424488155229836\n",
      "0\n"
     ]
    },
    {
     "name": "stderr",
     "output_type": "stream",
     "text": [
      "Epsilon> q-pt index:  34%|███▍      | 22/64 [00:08<00:15,  2.72it/s]"
     ]
    },
    {
     "name": "stdout",
     "output_type": "stream",
     "text": [
      "Standard deviation exceeded 1e-16 tolerance: 3.085640858587455e-10, for i_q:21\n",
      "0.42072325815768447\n",
      "0\n"
     ]
    },
    {
     "name": "stderr",
     "output_type": "stream",
     "text": [
      "Epsilon> q-pt index:  36%|███▌      | 23/64 [00:08<00:14,  2.74it/s]"
     ]
    },
    {
     "name": "stdout",
     "output_type": "stream",
     "text": [
      "Standard deviation exceeded 1e-16 tolerance: 3.304643642817644e-10, for i_q:22\n",
      "0.28040617740229634\n",
      "0\n"
     ]
    },
    {
     "name": "stderr",
     "output_type": "stream",
     "text": [
      "Epsilon> q-pt index:  38%|███▊      | 24/64 [00:08<00:14,  2.73it/s]"
     ]
    },
    {
     "name": "stdout",
     "output_type": "stream",
     "text": [
      "Standard deviation exceeded 1e-16 tolerance: 3.073426533553591e-10, for i_q:23\n",
      "0.28995784379979433\n",
      "0\n"
     ]
    },
    {
     "name": "stderr",
     "output_type": "stream",
     "text": [
      "Epsilon> q-pt index:  39%|███▉      | 25/64 [00:09<00:14,  2.71it/s]"
     ]
    },
    {
     "name": "stdout",
     "output_type": "stream",
     "text": [
      "Standard deviation exceeded 1e-16 tolerance: 3.0547856616115937e-10, for i_q:24\n",
      "0.2899578423957112\n",
      "0\n"
     ]
    },
    {
     "name": "stderr",
     "output_type": "stream",
     "text": [
      "Epsilon> q-pt index:  41%|████      | 26/64 [00:09<00:13,  2.72it/s]"
     ]
    },
    {
     "name": "stdout",
     "output_type": "stream",
     "text": [
      "Standard deviation exceeded 1e-16 tolerance: 3.3082230760978925e-10, for i_q:25\n",
      "0.25064619019635676\n",
      "0\n"
     ]
    },
    {
     "name": "stderr",
     "output_type": "stream",
     "text": [
      "Epsilon> q-pt index:  42%|████▏     | 27/64 [00:09<00:13,  2.72it/s]"
     ]
    },
    {
     "name": "stdout",
     "output_type": "stream",
     "text": [
      "Standard deviation exceeded 1e-16 tolerance: 3.091292776534778e-10, for i_q:26\n",
      "0.2899578495824039\n",
      "0\n"
     ]
    },
    {
     "name": "stderr",
     "output_type": "stream",
     "text": [
      "Epsilon> q-pt index:  44%|████▍     | 28/64 [00:10<00:13,  2.72it/s]"
     ]
    },
    {
     "name": "stdout",
     "output_type": "stream",
     "text": [
      "Standard deviation exceeded 1e-16 tolerance: 3.007893695458139e-10, for i_q:27\n",
      "0.2114237622915395\n",
      "0\n"
     ]
    },
    {
     "name": "stderr",
     "output_type": "stream",
     "text": [
      "Epsilon> q-pt index:  45%|████▌     | 29/64 [00:10<00:12,  2.74it/s]"
     ]
    },
    {
     "name": "stdout",
     "output_type": "stream",
     "text": [
      "Standard deviation exceeded 1e-16 tolerance: 3.2599977317933405e-10, for i_q:28\n",
      "0.28040615666228236\n",
      "0\n"
     ]
    },
    {
     "name": "stderr",
     "output_type": "stream",
     "text": [
      "Epsilon> q-pt index:  47%|████▋     | 30/64 [00:10<00:12,  2.74it/s]"
     ]
    },
    {
     "name": "stdout",
     "output_type": "stream",
     "text": [
      "Standard deviation exceeded 1e-16 tolerance: 3.0793208302318343e-10, for i_q:29\n",
      "0.26320077957275767\n",
      "0\n"
     ]
    },
    {
     "name": "stderr",
     "output_type": "stream",
     "text": [
      "Epsilon> q-pt index:  48%|████▊     | 31/64 [00:11<00:12,  2.73it/s]"
     ]
    },
    {
     "name": "stdout",
     "output_type": "stream",
     "text": [
      "Standard deviation exceeded 1e-16 tolerance: 3.02611980966004e-10, for i_q:30\n",
      "0.2114237710259046\n",
      "0\n"
     ]
    },
    {
     "name": "stderr",
     "output_type": "stream",
     "text": [
      "Epsilon> q-pt index:  50%|█████     | 32/64 [00:11<00:11,  2.74it/s]"
     ]
    },
    {
     "name": "stdout",
     "output_type": "stream",
     "text": [
      "Standard deviation exceeded 1e-16 tolerance: 3.106246801257439e-10, for i_q:31\n",
      "0.28995781019124794\n",
      "0\n"
     ]
    },
    {
     "name": "stderr",
     "output_type": "stream",
     "text": [
      "Epsilon> q-pt index:  52%|█████▏    | 33/64 [00:12<00:11,  2.74it/s]"
     ]
    },
    {
     "name": "stdout",
     "output_type": "stream",
     "text": [
      "Standard deviation exceeded 1e-16 tolerance: 3.1959351826868486e-10, for i_q:32\n",
      "0.25999621847623566\n",
      "0\n"
     ]
    },
    {
     "name": "stderr",
     "output_type": "stream",
     "text": [
      "Epsilon> q-pt index:  53%|█████▎    | 34/64 [00:12<00:10,  2.75it/s]"
     ]
    },
    {
     "name": "stdout",
     "output_type": "stream",
     "text": [
      "Standard deviation exceeded 1e-16 tolerance: 3.0624275029024787e-10, for i_q:33\n",
      "0.2899578361216143\n",
      "0\n"
     ]
    },
    {
     "name": "stderr",
     "output_type": "stream",
     "text": [
      "Epsilon> q-pt index:  55%|█████▍    | 35/64 [00:12<00:10,  2.73it/s]"
     ]
    },
    {
     "name": "stdout",
     "output_type": "stream",
     "text": [
      "Standard deviation exceeded 1e-16 tolerance: 2.9896004098755624e-10, for i_q:34\n",
      "0.23296401700968275\n",
      "0\n"
     ]
    },
    {
     "name": "stderr",
     "output_type": "stream",
     "text": [
      "Epsilon> q-pt index:  56%|█████▋    | 36/64 [00:13<00:10,  2.73it/s]"
     ]
    },
    {
     "name": "stdout",
     "output_type": "stream",
     "text": [
      "Standard deviation exceeded 1e-16 tolerance: 3.089463563025542e-10, for i_q:35\n",
      "0.2899578184792959\n",
      "0\n"
     ]
    },
    {
     "name": "stderr",
     "output_type": "stream",
     "text": [
      "Epsilon> q-pt index:  58%|█████▊    | 37/64 [00:13<00:09,  2.74it/s]"
     ]
    },
    {
     "name": "stdout",
     "output_type": "stream",
     "text": [
      "Standard deviation exceeded 1e-16 tolerance: 3.061975327424798e-10, for i_q:36\n",
      "0.2899579067378121\n",
      "0\n"
     ]
    },
    {
     "name": "stderr",
     "output_type": "stream",
     "text": [
      "Epsilon> q-pt index:  59%|█████▉    | 38/64 [00:13<00:09,  2.74it/s]"
     ]
    },
    {
     "name": "stdout",
     "output_type": "stream",
     "text": [
      "Standard deviation exceeded 1e-16 tolerance: 3.2862879323954696e-10, for i_q:37\n",
      "0.28040616269409624\n",
      "0\n"
     ]
    },
    {
     "name": "stderr",
     "output_type": "stream",
     "text": [
      "Epsilon> q-pt index:  61%|██████    | 39/64 [00:14<00:09,  2.74it/s]"
     ]
    },
    {
     "name": "stdout",
     "output_type": "stream",
     "text": [
      "Standard deviation exceeded 1e-16 tolerance: 3.0891005181766874e-10, for i_q:38\n",
      "0.2632007688301464\n",
      "0\n"
     ]
    },
    {
     "name": "stderr",
     "output_type": "stream",
     "text": [
      "Epsilon> q-pt index:  62%|██████▎   | 40/64 [00:14<00:08,  2.74it/s]"
     ]
    },
    {
     "name": "stdout",
     "output_type": "stream",
     "text": [
      "Standard deviation exceeded 1e-16 tolerance: 3.0035576506255196e-10, for i_q:39\n",
      "0.21142380353589654\n",
      "0\n"
     ]
    },
    {
     "name": "stderr",
     "output_type": "stream",
     "text": [
      "Epsilon> q-pt index:  64%|██████▍   | 41/64 [00:14<00:08,  2.73it/s]"
     ]
    },
    {
     "name": "stdout",
     "output_type": "stream",
     "text": [
      "Standard deviation exceeded 1e-16 tolerance: 2.971467454349147e-10, for i_q:40\n",
      "0.23296406164557837\n",
      "0\n"
     ]
    },
    {
     "name": "stderr",
     "output_type": "stream",
     "text": [
      "Epsilon> q-pt index:  66%|██████▌   | 42/64 [00:15<00:08,  2.73it/s]"
     ]
    },
    {
     "name": "stdout",
     "output_type": "stream",
     "text": [
      "Standard deviation exceeded 1e-16 tolerance: 3.05486949590704e-10, for i_q:41\n",
      "0.2899578676069216\n",
      "0\n"
     ]
    },
    {
     "name": "stderr",
     "output_type": "stream",
     "text": [
      "Epsilon> q-pt index:  67%|██████▋   | 43/64 [00:15<00:07,  2.74it/s]"
     ]
    },
    {
     "name": "stdout",
     "output_type": "stream",
     "text": [
      "Standard deviation exceeded 1e-16 tolerance: 3.198030043843101e-10, for i_q:42\n",
      "0.2599962103392247\n",
      "0\n"
     ]
    },
    {
     "name": "stderr",
     "output_type": "stream",
     "text": [
      "Epsilon> q-pt index:  69%|██████▉   | 44/64 [00:16<00:07,  2.73it/s]"
     ]
    },
    {
     "name": "stdout",
     "output_type": "stream",
     "text": [
      "Standard deviation exceeded 1e-16 tolerance: 3.053947778378641e-10, for i_q:43\n",
      "0.2899578403212597\n",
      "0\n"
     ]
    },
    {
     "name": "stderr",
     "output_type": "stream",
     "text": [
      "Epsilon> q-pt index:  70%|███████   | 45/64 [00:16<00:07,  2.69it/s]"
     ]
    },
    {
     "name": "stdout",
     "output_type": "stream",
     "text": [
      "Standard deviation exceeded 1e-16 tolerance: 3.055155331897957e-10, for i_q:44\n",
      "0.28995789964915847\n",
      "0\n"
     ]
    },
    {
     "name": "stderr",
     "output_type": "stream",
     "text": [
      "Epsilon> q-pt index:  72%|███████▏  | 46/64 [00:16<00:06,  2.70it/s]"
     ]
    },
    {
     "name": "stdout",
     "output_type": "stream",
     "text": [
      "Standard deviation exceeded 1e-16 tolerance: 2.986486426483141e-10, for i_q:45\n",
      "0.21142379248863824\n",
      "0\n"
     ]
    },
    {
     "name": "stderr",
     "output_type": "stream",
     "text": [
      "Epsilon> q-pt index:  73%|███████▎  | 47/64 [00:17<00:06,  2.71it/s]"
     ]
    },
    {
     "name": "stdout",
     "output_type": "stream",
     "text": [
      "Standard deviation exceeded 1e-16 tolerance: 3.0898437862776446e-10, for i_q:46\n",
      "0.2632007504914311\n",
      "0\n"
     ]
    },
    {
     "name": "stderr",
     "output_type": "stream",
     "text": [
      "Epsilon> q-pt index:  75%|███████▌  | 48/64 [00:17<00:05,  2.73it/s]"
     ]
    },
    {
     "name": "stdout",
     "output_type": "stream",
     "text": [
      "Standard deviation exceeded 1e-16 tolerance: 3.2891147335453144e-10, for i_q:47\n",
      "0.2804061728495884\n",
      "0\n"
     ]
    },
    {
     "name": "stderr",
     "output_type": "stream",
     "text": [
      "Epsilon> q-pt index:  77%|███████▋  | 49/64 [00:17<00:05,  2.68it/s]"
     ]
    },
    {
     "name": "stdout",
     "output_type": "stream",
     "text": [
      "Standard deviation exceeded 1e-16 tolerance: 3.0839129088295245e-10, for i_q:48\n",
      "0.42072324220619955\n",
      "0\n"
     ]
    },
    {
     "name": "stderr",
     "output_type": "stream",
     "text": [
      "Epsilon> q-pt index:  78%|███████▊  | 50/64 [00:18<00:05,  2.70it/s]"
     ]
    },
    {
     "name": "stdout",
     "output_type": "stream",
     "text": [
      "Standard deviation exceeded 1e-16 tolerance: 3.314688088501872e-10, for i_q:49\n",
      "0.2804061831114865\n",
      "0\n"
     ]
    },
    {
     "name": "stderr",
     "output_type": "stream",
     "text": [
      "Epsilon> q-pt index:  80%|███████▉  | 51/64 [00:18<00:04,  2.71it/s]"
     ]
    },
    {
     "name": "stdout",
     "output_type": "stream",
     "text": [
      "Standard deviation exceeded 1e-16 tolerance: 3.0803125085749374e-10, for i_q:50\n",
      "0.28995783983505713\n",
      "0\n"
     ]
    },
    {
     "name": "stderr",
     "output_type": "stream",
     "text": [
      "Epsilon> q-pt index:  81%|████████▏ | 52/64 [00:19<00:04,  2.71it/s]"
     ]
    },
    {
     "name": "stdout",
     "output_type": "stream",
     "text": [
      "Standard deviation exceeded 1e-16 tolerance: 3.147339390963654e-10, for i_q:51\n",
      "0.38424484452991636\n",
      "0\n"
     ]
    },
    {
     "name": "stderr",
     "output_type": "stream",
     "text": [
      "Epsilon> q-pt index:  83%|████████▎ | 53/64 [00:19<00:04,  2.73it/s]"
     ]
    },
    {
     "name": "stdout",
     "output_type": "stream",
     "text": [
      "Standard deviation exceeded 1e-16 tolerance: 3.2833944989460045e-10, for i_q:52\n",
      "0.280406124459033\n",
      "0\n"
     ]
    },
    {
     "name": "stderr",
     "output_type": "stream",
     "text": [
      "Epsilon> q-pt index:  84%|████████▍ | 54/64 [00:19<00:03,  2.73it/s]"
     ]
    },
    {
     "name": "stdout",
     "output_type": "stream",
     "text": [
      "Standard deviation exceeded 1e-16 tolerance: 3.0916636006641335e-10, for i_q:53\n",
      "0.28995781183288105\n",
      "0\n"
     ]
    },
    {
     "name": "stderr",
     "output_type": "stream",
     "text": [
      "Epsilon> q-pt index:  86%|████████▌ | 55/64 [00:20<00:03,  2.69it/s]"
     ]
    },
    {
     "name": "stdout",
     "output_type": "stream",
     "text": [
      "Standard deviation exceeded 1e-16 tolerance: 3.007108187471401e-10, for i_q:54\n",
      "0.2114237677295655\n",
      "0\n"
     ]
    },
    {
     "name": "stderr",
     "output_type": "stream",
     "text": [
      "Epsilon> q-pt index:  88%|████████▊ | 56/64 [00:20<00:02,  2.71it/s]"
     ]
    },
    {
     "name": "stdout",
     "output_type": "stream",
     "text": [
      "Standard deviation exceeded 1e-16 tolerance: 3.088049611904726e-10, for i_q:55\n",
      "0.2632007708810524\n",
      "0\n"
     ]
    },
    {
     "name": "stderr",
     "output_type": "stream",
     "text": [
      "Epsilon> q-pt index:  89%|████████▉ | 57/64 [00:20<00:02,  2.72it/s]"
     ]
    },
    {
     "name": "stdout",
     "output_type": "stream",
     "text": [
      "Standard deviation exceeded 1e-16 tolerance: 3.0419609192863405e-10, for i_q:56\n",
      "0.2899578882531522\n",
      "0\n"
     ]
    },
    {
     "name": "stderr",
     "output_type": "stream",
     "text": [
      "Epsilon> q-pt index:  91%|█████████ | 58/64 [00:21<00:02,  2.71it/s]"
     ]
    },
    {
     "name": "stdout",
     "output_type": "stream",
     "text": [
      "Standard deviation exceeded 1e-16 tolerance: 2.9979904821747417e-10, for i_q:57\n",
      "0.21142377176309596\n",
      "0\n"
     ]
    },
    {
     "name": "stderr",
     "output_type": "stream",
     "text": [
      "Epsilon> q-pt index:  92%|█████████▏| 59/64 [00:21<00:01,  2.72it/s]"
     ]
    },
    {
     "name": "stdout",
     "output_type": "stream",
     "text": [
      "Standard deviation exceeded 1e-16 tolerance: 3.0709467382550766e-10, for i_q:58\n",
      "0.2899578693029539\n",
      "0\n"
     ]
    },
    {
     "name": "stderr",
     "output_type": "stream",
     "text": [
      "Epsilon> q-pt index:  94%|█████████▍| 60/64 [00:21<00:01,  2.73it/s]"
     ]
    },
    {
     "name": "stdout",
     "output_type": "stream",
     "text": [
      "Standard deviation exceeded 1e-16 tolerance: 3.26462825671463e-10, for i_q:59\n",
      "0.2506462155046458\n",
      "0\n"
     ]
    },
    {
     "name": "stderr",
     "output_type": "stream",
     "text": [
      "Epsilon> q-pt index:  95%|█████████▌| 61/64 [00:22<00:01,  2.72it/s]"
     ]
    },
    {
     "name": "stdout",
     "output_type": "stream",
     "text": [
      "Standard deviation exceeded 1e-16 tolerance: 3.0594885438355604e-10, for i_q:60\n",
      "0.3842449226042743\n",
      "0\n"
     ]
    },
    {
     "name": "stderr",
     "output_type": "stream",
     "text": [
      "Epsilon> q-pt index:  97%|█████████▋| 62/64 [00:22<00:00,  2.72it/s]"
     ]
    },
    {
     "name": "stdout",
     "output_type": "stream",
     "text": [
      "Standard deviation exceeded 1e-16 tolerance: 3.0704700235083336e-10, for i_q:61\n",
      "0.2899578341400892\n",
      "0\n"
     ]
    },
    {
     "name": "stderr",
     "output_type": "stream",
     "text": [
      "Epsilon> q-pt index:  98%|█████████▊| 63/64 [00:23<00:00,  2.73it/s]"
     ]
    },
    {
     "name": "stdout",
     "output_type": "stream",
     "text": [
      "Standard deviation exceeded 1e-16 tolerance: 3.2951484027281764e-10, for i_q:62\n",
      "0.2804061854431803\n",
      "0\n"
     ]
    },
    {
     "name": "stderr",
     "output_type": "stream",
     "text": [
      "Epsilon> q-pt index: 100%|██████████| 64/64 [00:23<00:00,  2.73it/s]"
     ]
    },
    {
     "name": "stdout",
     "output_type": "stream",
     "text": [
      "Standard deviation exceeded 1e-16 tolerance: 3.1055962035802695e-10, for i_q:63\n",
      "0.4207232423273962\n",
      "0\n"
     ]
    },
    {
     "name": "stderr",
     "output_type": "stream",
     "text": [
      "\n"
     ]
    }
   ],
   "source": [
    "from tqdm import trange\n",
    "from qtm.gw.core import reorder_2d_matrix_sorted_gvecs, sort_cryst_like_BGW\n",
    "\n",
    "\n",
    "def calculate_epsilon(numq=None, writing=False):\n",
    "    epsmats = []\n",
    "    if numq is None:\n",
    "        numq = epsilon.qpts.numq\n",
    "\n",
    "    for i_q in trange(0, numq, desc=\"Epsilon> q-pt index\"):\n",
    "        # Create map between BGW's sorting order and QTm's sorting order\n",
    "        gkspc = epsilon.l_gq[i_q]\n",
    "        \n",
    "        if i_q == epsilon.qpts.index_q0:\n",
    "            key = gkspc.g_norm2\n",
    "        else:\n",
    "            key = gkspc.gk_norm2\n",
    "\n",
    "        indices_gspace_sorted = sort_cryst_like_BGW(\n",
    "            cryst=gkspc.g_cryst, key_array=key\n",
    "        )\n",
    "\n",
    "        # Calculate matrix elements\n",
    "        M = next(epsilon.matrix_elements(i_q=i_q))\n",
    "        # if i_q==0:\n",
    "        #     N=10\n",
    "        #     print(M.shape)\n",
    "        #     print(M[0,0,0,:N].real)\n",
    "        #     break\n",
    "\n",
    "        # Calculate polarizability matrix (faster, but not memory-efficient)\n",
    "        chimat = epsilon.polarizability(M)\n",
    "\n",
    "        # Calculate polarizability matrix (memory-efficient)\n",
    "        # chimat = epsilon.polarizability_active(i_q)\n",
    "\n",
    "        # chimat/=2\n",
    "        \n",
    "        # Calculate epsilon inverse matrix\n",
    "        epsinv = epsilon.epsilon_inverse(i_q=i_q, polarizability_matrix=chimat, store=True)\n",
    "\n",
    "\n",
    "        epsinv = reorder_2d_matrix_sorted_gvecs(epsinv, indices_gspace_sorted)\n",
    "        epsilon.l_epsinv[i_q] = epsinv\n",
    "        \n",
    "        # Compare the results with BGW's results\n",
    "        if i_q == epsilon.qpts.index_q0:\n",
    "            print(\"q0\")\n",
    "            epsref = epsilon.read_epsmat(dirname + \"eps0mat.h5\")[0][0, 0]\n",
    "            if writing:\n",
    "                epsilon.write_epsmat(\n",
    "                    filename=\"test/epsilon/eps0mat_qtm.h5\", epsinvmats=[epsinv]\n",
    "                )\n",
    "        else:\n",
    "            epsref = np.array(epsilon.read_epsmat(dirname + \"epsmat.h5\")[i_q - 1][0, 0])\n",
    "            epsmats.append(epsinv)\n",
    "\n",
    "        # Calculate stddev between reference and calculated epsinv matrices\n",
    "        # std_eps = np.std(epsref - epsinv) / np.sqrt(np.prod(list(epsinv.shape)))\n",
    "        std_eps = np.std(np.abs(epsref) - np.abs(epsinv)) / np.sqrt(np.prod(list(epsinv.shape)))\n",
    "        \n",
    "\n",
    "        epstol = 1e-16\n",
    "        if np.abs(std_eps) > epstol:\n",
    "            print(f\"Standard deviation exceeded {epstol} tolerance: {std_eps}, for i_q:{i_q}\")\n",
    "            N_ELE_SHOW=10\n",
    "            # print(chimat.diagonal()[-N_ELE_SHOW:].real)\n",
    "            print(np.max(np.abs(epsinv-epsref)))\n",
    "            indices = np.where(np.abs(epsinv)-np.abs(epsref)>1e-5)\n",
    "            \n",
    "            print(len(indices[0]))\n",
    "            # print((epsinv+epsref)[indices])\n",
    "            # print(epsref[indices])\n",
    "            # print(epsinv[indices])\n",
    "            # print(epsref.diagonal()[-N_ELE_SHOW:].real)\n",
    "            # print(epsinv.diagonal()[-N_ELE_SHOW:].real)\n",
    "            # print((epsinv-epsref).diagonal()[-N_ELE_SHOW:].real)\n",
    "\n",
    "    if writing:\n",
    "        epsilon.write_epsmat(filename=\"test/epsilon/epsmat_qtm.h5\", epsinvmats=epsmats)\n",
    "\n",
    "\n",
    "epsinp.no_min_fftgrid = True\n",
    "# epsilon = Epsilon.from_data(wfndata=wfndata, wfnqdata=wfnqdata, epsinp=epsinp)\n",
    "calculate_epsilon()\n",
    "\n",
    "# epsinp.no_min_fftgrid = False\n",
    "# epsilon = Epsilon.from_data(wfndata=wfndata, wfnqdata=wfnqdata, epsinp=epsinp)\n",
    "# calculate_epsilon()\n"
   ]
  },
  {
   "cell_type": "markdown",
   "metadata": {},
   "source": [
    "### Sigma Calculation"
   ]
  },
  {
   "cell_type": "code",
   "execution_count": 15,
   "metadata": {},
   "outputs": [
    {
     "name": "stdout",
     "output_type": "stream",
     "text": [
      "[416.85324649-1.40840157e-50j]\n",
      "8\n",
      "[[ 8.        -1.23299441e-68j  1.77749909+9.69909921e-16j\n",
      "   0.36034418+3.77788549e-16j ... -0.08258707+1.30010401e-16j\n",
      "  -0.07425604+6.48443770e-17j  1.77749909-1.46955634e-16j]]\n"
     ]
    }
   ],
   "source": [
    "print(rho.data_g0)\n",
    "print(crystal.numel)\n",
    "rho._data *= crystal.numel / (sum(rho.data_g0))\n",
    "print(rho._data)"
   ]
  },
  {
   "cell_type": "code",
   "execution_count": 16,
   "metadata": {},
   "outputs": [
    {
     "name": "stderr",
     "output_type": "stream",
     "text": [
      "Vcoul calculation for qpts: 100%|██████████| 64/64 [00:00<00:00, 17402.62it/s]\n",
      "Vcoul calculation for qpts:   0%|          | 0/64 [00:00<?, ?it/s]"
     ]
    },
    {
     "name": "stdout",
     "output_type": "stream",
     "text": [
      "vcoul: Vcoul:\n",
      "        * gspace = <qtm.gspace.gspc.GSpace object at 0x7efdb455f450>\n",
      "        * qpts = <qtm.gw.core.QPoints object at 0x7efd7b478990>\n",
      "        * bare_coulomb_cutoff = 10.0\n",
      "        * avgcut = 1e-05\n",
      "        * l_gspace_q = <class 'list'> of length 64\n",
      "        * vcoul = <class 'list'> of length 64\n",
      "        * N_SAMPLES = 2500000.0\n",
      "        * N_SAMPLES_COARSE = 250000.0\n",
      "        * SEED = 5000\n",
      "        \n"
     ]
    },
    {
     "name": "stderr",
     "output_type": "stream",
     "text": [
      "Vcoul calculation for qpts: 100%|██████████| 64/64 [00:49<00:00,  1.30it/s]\n"
     ]
    }
   ],
   "source": [
    "from collections import namedtuple\n",
    "from qtm.gw.sigma import Sigma\n",
    "\n",
    "outdir = dirname+\"temp/\"\n",
    "\n",
    "rho._data *= crystal.numel / (sum(rho.data_g0))# * rho.gspc.reallat_dv)\n",
    "\n",
    "rho_nt = namedtuple(\"RHO\", [\"rho\", \"gvecs\"])(rho.data[0], rho.gspc.g_cryst.T)\n",
    "vxc_nt = namedtuple(\"VXC\", [\"vxc\"])(vxc/ELECTRONVOLT_HART)\n",
    "\n",
    "\n",
    "sigma = Sigma(\n",
    "    crystal = crystal,\n",
    "    gspace = grho,\n",
    "    kpts = kpts_gw,\n",
    "    kptsq=kpts_gw_q,\n",
    "    l_wfn = [wfn[0] for wfn in l_wfn_kgrp],\n",
    "    l_wfnq = [wfn[0] for wfn in l_wfn_kgrp_q],\n",
    "    l_gsp_wfn = [wfn[0].gkspc for wfn in l_wfn_kgrp],\n",
    "    l_gsp_wfnq = [wfn[0].gkspc for wfn in l_wfn_kgrp_q],\n",
    "    qpts = QPoints.from_cryst(kpts.recilat, epsinp.is_q0, *epsinp.qpts),\n",
    "    sigmainp=sigmainp,\n",
    "    epsinp = epsinp,\n",
    "    # l_epsmats=l_epsmats,\n",
    "    l_epsmats=epsilon.l_epsinv,\n",
    "    rho=rho_nt,\n",
    "    vxc=vxc_nt\n",
    ")\n",
    "\n",
    "# sigma = Sigma.from_data(\n",
    "#     wfndata=wfndata,\n",
    "#     wfnqdata=wfnqdata,\n",
    "#     sigmainp=sigmainp,\n",
    "#     epsinp=epsinp,\n",
    "#     l_epsmats=epsilon.l_epsinv,\n",
    "#     rho=rho,\n",
    "#     vxc=vxc,\n",
    "#     outdir=outdir,\n",
    "# )"
   ]
  },
  {
   "cell_type": "code",
   "execution_count": 17,
   "metadata": {},
   "outputs": [
    {
     "name": "stderr",
     "output_type": "stream",
     "text": [
      "Sigma_SX_Static:   0%|          | 0/64 [00:00<?, ?it/s]"
     ]
    },
    {
     "name": "stderr",
     "output_type": "stream",
     "text": [
      "Sigma_SX_Static:   6%|▋         | 4/64 [00:00<00:01, 31.95it/s]"
     ]
    },
    {
     "name": "stdout",
     "output_type": "stream",
     "text": [
      "(137,)\n"
     ]
    },
    {
     "name": "stderr",
     "output_type": "stream",
     "text": [
      "Sigma_SX_Static: 100%|██████████| 64/64 [00:01<00:00, 32.28it/s]"
     ]
    },
    {
     "name": "stdout",
     "output_type": "stream",
     "text": [
      "Sigma SX COHSEX\n",
      "   11.875835   10.672206   11.328765\n",
      "    8.030570   10.678362   10.014678\n",
      "    8.031743    8.719808    8.366404\n",
      "    8.031970    8.719533    8.365541\n",
      "    2.910472    2.586913    2.872630\n",
      "    2.908779    2.587801    2.426855\n",
      "    2.911732    1.328987    2.426960\n",
      "    2.681682    1.328812    0.739609\n"
     ]
    },
    {
     "name": "stderr",
     "output_type": "stream",
     "text": [
      "\n"
     ]
    }
   ],
   "source": [
    "sigma_sx_cohsex_mat = sigma.sigma_sx_static(yielding=True)    \n",
    "print(\"Sigma SX COHSEX\")\n",
    "sigma.pprint_sigma_mat(sigma_sx_cohsex_mat)"
   ]
  },
  {
   "cell_type": "markdown",
   "metadata": {},
   "source": [
    "from tqdm.auto import tqdm\n",
    "sigma_x_mat = sigma.sigma_x(yielding=True)    \n",
    "print(\"Sigma X\")\n",
    "sigma.pprint_sigma_mat(sigma_x_mat)"
   ]
  },
  {
   "cell_type": "code",
   "execution_count": 18,
   "metadata": {},
   "outputs": [
    {
     "name": "stderr",
     "output_type": "stream",
     "text": [
      "Sigma_CH_Static_Partial:   0%|          | 0/64 [00:00<?, ?it/s]"
     ]
    },
    {
     "name": "stderr",
     "output_type": "stream",
     "text": [
      "Sigma_CH_Static_Partial: 100%|██████████| 64/64 [00:03<00:00, 17.97it/s]"
     ]
    },
    {
     "name": "stdout",
     "output_type": "stream",
     "text": [
      "Sigma CH COHSEX\n",
      "   -6.627248   -6.303135   -6.494451\n",
      "   -5.099279   -6.303097   -6.068627\n",
      "   -5.099294   -5.571196   -5.407666\n",
      "   -5.099536   -5.571210   -5.406884\n",
      "   -4.746137   -4.701091   -4.917357\n",
      "   -4.745580   -4.701259   -4.287270\n",
      "   -4.746849   -3.460434   -4.287115\n",
      "   -4.757445   -3.460220   -2.975094\n"
     ]
    },
    {
     "name": "stderr",
     "output_type": "stream",
     "text": [
      "\n"
     ]
    }
   ],
   "source": [
    "sigma_ch_cohsex_mat = sigma.sigma_ch_static()    \n",
    "print(\"Sigma CH COHSEX\")\n",
    "sigma.pprint_sigma_mat(sigma_ch_cohsex_mat)"
   ]
  },
  {
   "cell_type": "code",
   "execution_count": 19,
   "metadata": {},
   "outputs": [
    {
     "name": "stderr",
     "output_type": "stream",
     "text": [
      "Sigma_X:   0%|          | 0/64 [00:00<?, ?it/s]"
     ]
    },
    {
     "name": "stderr",
     "output_type": "stream",
     "text": [
      "Sigma_X: 100%|██████████| 64/64 [00:01<00:00, 33.36it/s]\n",
      "Sigma_SX_Static:   6%|▋         | 4/64 [00:00<00:01, 31.85it/s]"
     ]
    },
    {
     "name": "stdout",
     "output_type": "stream",
     "text": [
      "Sigma X\n",
      "  -17.549889  -16.038831  -16.918927\n",
      "  -12.974926  -16.038804  -14.908715\n",
      "  -12.974823  -13.417574  -13.204511\n",
      "  -12.975040  -13.417537  -13.204406\n",
      "   -5.765599   -5.196199   -5.934483\n",
      "   -5.765459   -5.196466   -5.081723\n",
      "   -5.765406   -3.789636   -5.081648\n",
      "   -5.831193   -3.789591   -2.406333\n",
      "(137,)\n"
     ]
    },
    {
     "name": "stderr",
     "output_type": "stream",
     "text": [
      "Sigma_SX_Static: 100%|██████████| 64/64 [00:01<00:00, 32.34it/s]\n",
      "Sigma_CH_Static_Partial:   3%|▎         | 2/64 [00:00<00:03, 18.09it/s]"
     ]
    },
    {
     "name": "stdout",
     "output_type": "stream",
     "text": [
      "Sigma SX STATIC\n",
      "   11.875835   10.672206   11.328765\n",
      "    8.030570   10.678362   10.014678\n",
      "    8.031743    8.719808    8.366404\n",
      "    8.031970    8.719533    8.365541\n",
      "    2.910472    2.586913    2.872630\n",
      "    2.908779    2.587801    2.426855\n",
      "    2.911732    1.328987    2.426960\n",
      "    2.681682    1.328812    0.739609\n"
     ]
    },
    {
     "name": "stderr",
     "output_type": "stream",
     "text": [
      "Sigma_CH_Static_Partial: 100%|██████████| 64/64 [00:03<00:00, 17.99it/s]\n",
      "Sigma_CH_Static_Exact:   0%|          | 0/64 [00:00<?, ?it/s]"
     ]
    },
    {
     "name": "stdout",
     "output_type": "stream",
     "text": [
      "Sigma CH STATIC\n",
      "   -6.627248   -6.303135   -6.494451\n",
      "   -5.099279   -6.303097   -6.068627\n",
      "   -5.099294   -5.571196   -5.407666\n",
      "   -5.099536   -5.571210   -5.406884\n",
      "   -4.746137   -4.701091   -4.917357\n",
      "   -4.745580   -4.701259   -4.287270\n",
      "   -4.746849   -3.460434   -4.287115\n",
      "   -4.757445   -3.460220   -2.975094\n"
     ]
    },
    {
     "name": "stderr",
     "output_type": "stream",
     "text": [
      "Sigma_CH_Static_Exact: 100%|██████████| 64/64 [00:22<00:00,  2.82it/s]"
     ]
    },
    {
     "name": "stdout",
     "output_type": "stream",
     "text": [
      "Sigma CH EXACT STATIC\n",
      "   -7.444555   -7.623042   -7.626662\n",
      "   -7.756611   -7.623304   -7.314288\n",
      "   -7.757066   -7.477268   -7.674453\n",
      "   -7.757444   -7.476981   -7.673776\n",
      "   -7.335210   -6.794909   -7.354451\n",
      "   -7.334659   -6.795262   -7.120472\n",
      "   -7.335679   -7.674156   -7.120465\n",
      "   -7.829751   -7.673838   -6.232123\n",
      "Sig (Exact):\n",
      "  -13.118609  -12.989666  -13.216825\n",
      "  -12.700966  -12.983746  -12.208325\n",
      "  -12.700146  -12.175034  -12.512559\n",
      "  -12.700515  -12.174985  -12.512641\n",
      "  -10.190337   -9.404194  -10.416305\n",
      "  -10.191339   -9.403927   -9.775341\n",
      "  -10.189354  -10.134804   -9.775154\n",
      "  -10.979262  -10.134617   -7.898847\n",
      "Eqp0 (Exact):\n",
      "   -8.251845   -3.519778   -5.575222\n",
      "    5.142004   -3.513858   -2.586362\n",
      "    5.142824    2.014844    3.845879\n",
      "    5.142454    2.014893    3.845797\n",
      "    8.897207    6.723030    7.761276\n",
      "    8.896205    6.723297    9.693525\n",
      "    8.898191   17.164045    9.693713\n",
      "    9.966476   17.164233   14.034580\n",
      "Sig (Partial):\n",
      "  -12.301302  -11.669759  -12.084614\n",
      "  -10.043634  -11.663538  -10.962664\n",
      "  -10.042374  -10.268963  -10.245772\n",
      "  -10.042607  -10.269213  -10.245750\n",
      "   -7.601264   -7.310377   -7.979211\n",
      "   -7.602260   -7.309924   -6.942138\n",
      "   -7.600524   -5.921082   -6.941803\n",
      "   -7.906956   -5.920999   -4.641819\n",
      "Eqp0 (Partial):\n",
      "   -7.434538   -2.199871   -4.443012\n",
      "    7.799336   -2.193650   -1.340701\n",
      "    7.800596    3.920915    6.112666\n",
      "    7.800362    3.920665    6.112688\n",
      "   11.486280    8.816847   10.198370\n",
      "   11.485284    8.817300   12.526728\n",
      "   11.487021   21.377767   12.527063\n",
      "   13.038781   21.377852   17.291608\n",
      "\n",
      "   n         Emf          Eo           X        SX-X          CH         Sig         Vxc        Eqp0        Eqp1         CH`        Sig`       Eqp0`       Eqp1`         Znk\n",
      "   0   -5.636393   -5.636393  -17.549889   11.875835   -7.444555  -13.118609  -10.503157   -8.251845   -8.251845   -6.627248  -12.301302   -7.434538   -7.434538    1.000000\n",
      "   1    6.473572    6.473572  -12.974926    8.030570   -7.756611  -12.700966  -11.369397    5.142004    5.142004   -5.099279  -10.043634    7.799336    7.799336    1.000000\n",
      "   2    6.473572    6.473572  -12.974823    8.031743   -7.757066  -12.700146  -11.369397    5.142824    5.142824   -5.099294  -10.042374    7.800596    7.800596    1.000000\n",
      "   3    6.473572    6.473572  -12.975040    8.031970   -7.757444  -12.700515  -11.369397    5.142454    5.142454   -5.099536  -10.042607    7.800362    7.800362    1.000000\n",
      "   4    9.026324    9.026324   -5.765599    2.910472   -7.335210  -10.190337  -10.061220    8.897207    8.897207   -4.746137   -7.601264   11.486280   11.486280    1.000000\n",
      "   5    9.026325    9.026325   -5.765459    2.908779   -7.334659  -10.191339  -10.061220    8.896205    8.896205   -4.745580   -7.602260   11.485284   11.485284    1.000000\n",
      "   6    9.026325    9.026325   -5.765406    2.911732   -7.335679  -10.189354  -10.061220    8.898191    8.898191   -4.746849   -7.600524   11.487021   11.487021    1.000000\n",
      "   7   10.004367   10.004367   -5.831193    2.681682   -7.829751  -10.979262  -10.941371    9.966476    9.966476   -4.757445   -7.906956   13.038781   13.038781    1.000000\n",
      "   n         Emf          Eo           X        SX-X          CH         Sig         Vxc        Eqp0        Eqp1         CH`        Sig`       Eqp0`       Eqp1`         Znk\n",
      "   0   -1.422262   -1.422262  -16.038831   10.672206   -7.623042  -12.989666  -10.892150   -3.519778   -3.519778   -6.303135  -11.669759   -2.199871   -2.199871    1.000000\n",
      "   1   -1.422262   -1.422262  -16.038804   10.678362   -7.623304  -12.983746  -10.892150   -3.513858   -3.513858   -6.303097  -11.663538   -2.193650   -2.193650    1.000000\n",
      "   2    3.560518    3.560518  -13.417574    8.719808   -7.477268  -12.175034  -10.629360    2.014844    2.014844   -5.571196  -10.268963    3.920915    3.920915    1.000000\n",
      "   3    3.560518    3.560518  -13.417537    8.719533   -7.476981  -12.174985  -10.629360    2.014893    2.014893   -5.571210  -10.269213    3.920665    3.920665    1.000000\n",
      "   4    7.119480    7.119480   -5.196199    2.586913   -6.794909   -9.404194   -9.007744    6.723030    6.723030   -4.701091   -7.310377    8.816847    8.816847    1.000000\n",
      "   5    7.119480    7.119480   -5.196466    2.587801   -6.795262   -9.403927   -9.007744    6.723297    6.723297   -4.701259   -7.309924    8.817300    8.817300    1.000000\n",
      "   6   16.729018   16.729018   -3.789636    1.328987   -7.674156  -10.134804  -10.569832   17.164045   17.164045   -3.460434   -5.921082   21.377767   21.377767    1.000000\n",
      "   7   16.729018   16.729018   -3.789591    1.328812   -7.673838  -10.134617  -10.569833   17.164233   17.164233   -3.460220   -5.920999   21.377852   21.377852    1.000000\n",
      "   n         Emf          Eo           X        SX-X          CH         Sig         Vxc        Eqp0        Eqp1         CH`        Sig`       Eqp0`       Eqp1`         Znk\n",
      "   0   -3.256202   -3.256202  -16.918927   11.328765   -7.626662  -13.216825  -10.897804   -5.575222   -5.575222   -6.494451  -12.084614   -4.443012   -4.443012    1.000000\n",
      "   1   -0.604856   -0.604856  -14.908715   10.014678   -7.314288  -12.208325  -10.226820   -2.586362   -2.586362   -6.068627  -10.962664   -1.340701   -1.340701    1.000000\n",
      "   2    5.252762    5.252762  -13.204511    8.366404   -7.674453  -12.512559  -11.105676    3.845879    3.845879   -5.407666  -10.245772    6.112666    6.112666    1.000000\n",
      "   3    5.252762    5.252762  -13.204406    8.365541   -7.673776  -12.512641  -11.105676    3.845797    3.845797   -5.406884  -10.245750    6.112688    6.112688    1.000000\n",
      "   4    8.045678    8.045678   -5.934483    2.872630   -7.354451  -10.416305  -10.131903    7.761276    7.761276   -4.917357   -7.979211   10.198370   10.198370    1.000000\n",
      "   5    9.785121    9.785121   -5.081723    2.426855   -7.120472   -9.775341   -9.683745    9.693525    9.693525   -4.287270   -6.942138   12.526728   12.526728    1.000000\n",
      "   6    9.785121    9.785121   -5.081648    2.426960   -7.120465   -9.775154   -9.683745    9.693713    9.693713   -4.287115   -6.941803   12.527063   12.527063    1.000000\n",
      "   7   14.194052   14.194052   -2.406333    0.739609   -6.232123   -7.898847   -7.739375   14.034580   14.034580   -2.975094   -4.641819   17.291608   17.291608    1.000000\n"
     ]
    },
    {
     "name": "stderr",
     "output_type": "stream",
     "text": [
      "\n"
     ]
    }
   ],
   "source": [
    "sigma.autosave=False\n",
    "sigma.print_condition=True\n",
    "cohsex_result = sigma.calculate_static_cohsex()"
   ]
  },
  {
   "cell_type": "code",
   "execution_count": 20,
   "metadata": {},
   "outputs": [
    {
     "name": "stdout",
     "output_type": "stream",
     "text": [
      "k-point index: 0\n",
      "[0.001689 0.001437 0.003178 0.001968 0.000374 0.001056 0.000793 0.001819]\n",
      "k-point index: 40\n",
      "[2.330e-04 4.371e-03 1.704e-03 1.575e-03 9.070e-04 5.400e-05 6.870e-04\n",
      " 1.565e-03]\n",
      "k-point index: 8\n",
      "[0.002168 0.00098  0.002048 0.002027 0.001034 0.000637 0.000463 0.000987]\n"
     ]
    }
   ],
   "source": [
    "from qtm.gw.io_bgw.sigma_hp_reader import read_sigma_hp\n",
    "ref_dict = read_sigma_hp(dirname+\"sigma_hp_cohsex.log\")\n",
    "for ik in cohsex_result:\n",
    "    print(\"k-point index:\",ik)\n",
    "    qtty = 'Eqp1'\n",
    "    print(np.abs(ref_dict[ik+1][qtty]-np.around(cohsex_result[ik][qtty],6)))"
   ]
  },
  {
   "cell_type": "code",
   "execution_count": 21,
   "metadata": {},
   "outputs": [
    {
     "name": "stderr",
     "output_type": "stream",
     "text": [
      "Sigma_CH_Static_Exact:   0%|          | 0/64 [00:00<?, ?it/s]"
     ]
    },
    {
     "name": "stderr",
     "output_type": "stream",
     "text": [
      "Sigma_CH_Static_Exact: 100%|██████████| 64/64 [00:22<00:00,  2.82it/s]"
     ]
    },
    {
     "name": "stdout",
     "output_type": "stream",
     "text": [
      "Sigma CH COHSEX EXACT\n",
      "   -7.444555   -7.623042   -7.626662\n",
      "   -7.756611   -7.623304   -7.314288\n",
      "   -7.757066   -7.477268   -7.674453\n",
      "   -7.757444   -7.476981   -7.673776\n",
      "   -7.335210   -6.794909   -7.354451\n",
      "   -7.334659   -6.795262   -7.120472\n",
      "   -7.335679   -7.674156   -7.120465\n",
      "   -7.829751   -7.673838   -6.232123\n"
     ]
    },
    {
     "name": "stderr",
     "output_type": "stream",
     "text": [
      "\n"
     ]
    }
   ],
   "source": [
    "sigma.print_condition=True\n",
    "sigma_ch_exact_mat = sigma.sigma_ch_static_exact()    \n",
    "print(\"Sigma CH COHSEX EXACT\")\n",
    "sigma.pprint_sigma_mat(sigma_ch_exact_mat)"
   ]
  },
  {
   "cell_type": "code",
   "execution_count": 22,
   "metadata": {},
   "outputs": [
    {
     "data": {
      "text/plain": [
       "array([[ 8.        +6.90124257e-85j,  1.77749909+9.69909921e-16j,\n",
       "         0.36034418+3.77788549e-16j, ..., -0.08258707+1.30010401e-16j,\n",
       "        -0.07425604+6.48443770e-17j,  1.77749909-1.46955634e-16j]])"
      ]
     },
     "execution_count": 22,
     "metadata": {},
     "output_type": "execute_result"
    }
   ],
   "source": [
    "rho.data"
   ]
  },
  {
   "cell_type": "code",
   "execution_count": 23,
   "metadata": {},
   "outputs": [
    {
     "name": "stderr",
     "output_type": "stream",
     "text": [
      "Sigma_SX_GPP:   0%|          | 0/64 [00:00<?, ?it/s]"
     ]
    },
    {
     "name": "stderr",
     "output_type": "stream",
     "text": [
      "Sigma_SX_GPP: 100%|██████████| 64/64 [00:48<00:00,  1.32it/s]"
     ]
    },
    {
     "name": "stdout",
     "output_type": "stream",
     "text": [
      "Sigma SX GPP\n",
      "   12.244002   10.838113   11.549690\n",
      "    8.177149   10.846066   10.174693\n",
      "    8.177726    8.838469    8.501843\n",
      "    8.179000    8.837931    8.500342\n",
      "    3.296765    2.864992    3.299154\n",
      "    3.293126    2.866973    2.790099\n",
      "    3.298240    1.738082    2.791498\n",
      "    3.371348    1.737541    1.089234\n"
     ]
    },
    {
     "name": "stderr",
     "output_type": "stream",
     "text": [
      "\n"
     ]
    }
   ],
   "source": [
    "sigma.print_condition=False\n",
    "sigma_sx_gpp = sigma.sigma_sx_gpp()    \n",
    "print(\"Sigma SX GPP\")\n",
    "sigma.pprint_sigma_mat(sigma_sx_gpp)"
   ]
  },
  {
   "cell_type": "code",
   "execution_count": 24,
   "metadata": {},
   "outputs": [
    {
     "name": "stderr",
     "output_type": "stream",
     "text": [
      "Sigma_CH_GPP:   0%|          | 0/64 [00:00<?, ?it/s]"
     ]
    },
    {
     "name": "stderr",
     "output_type": "stream",
     "text": [
      "Sigma_CH_GPP: 100%|██████████| 64/64 [00:53<00:00,  1.21it/s]"
     ]
    },
    {
     "name": "stdout",
     "output_type": "stream",
     "text": [
      "Sigma CH GPP\n",
      "   -5.796970   -5.847274   -5.879221\n",
      "   -5.403142   -5.848742   -5.642406\n",
      "   -5.402436   -5.559447   -5.573669\n",
      "   -5.403744   -5.559200   -5.572457\n",
      "   -5.340712   -4.982012   -5.446887\n",
      "   -5.337889   -4.983754   -4.889794\n",
      "   -5.341954   -4.622041   -4.891018\n",
      "   -5.723835   -4.621603   -3.771267\n"
     ]
    },
    {
     "name": "stderr",
     "output_type": "stream",
     "text": [
      "\n"
     ]
    }
   ],
   "source": [
    "sigma.print_condition=False\n",
    "sigma_ch_gpp,_ = sigma.sigma_ch_gpp()    \n",
    "print(\"Sigma CH GPP\")\n",
    "sigma.pprint_sigma_mat(sigma_ch_gpp)"
   ]
  },
  {
   "cell_type": "code",
   "execution_count": 25,
   "metadata": {},
   "outputs": [
    {
     "name": "stderr",
     "output_type": "stream",
     "text": [
      "Sigma_X:   0%|          | 0/64 [00:00<?, ?it/s]"
     ]
    },
    {
     "name": "stderr",
     "output_type": "stream",
     "text": [
      "Sigma_X: 100%|██████████| 64/64 [00:01<00:00, 33.07it/s]"
     ]
    },
    {
     "name": "stdout",
     "output_type": "stream",
     "text": [
      "Sigma X GPP\n"
     ]
    },
    {
     "name": "stderr",
     "output_type": "stream",
     "text": [
      "\n",
      "Sigma_CH_Static_Partial:   3%|▎         | 2/64 [00:00<00:03, 17.29it/s]"
     ]
    },
    {
     "name": "stdout",
     "output_type": "stream",
     "text": [
      "  -17.549889  -16.038831  -16.918927\n",
      "  -12.974926  -16.038804  -14.908715\n",
      "  -12.974823  -13.417574  -13.204511\n",
      "  -12.975040  -13.417537  -13.204406\n",
      "   -5.765599   -5.196199   -5.934483\n",
      "   -5.765459   -5.196466   -5.081723\n",
      "   -5.765406   -3.789636   -5.081648\n",
      "   -5.831193   -3.789591   -2.406333\n"
     ]
    },
    {
     "name": "stderr",
     "output_type": "stream",
     "text": [
      "Sigma_CH_Static_Partial: 100%|██████████| 64/64 [00:03<00:00, 17.79it/s]"
     ]
    },
    {
     "name": "stdout",
     "output_type": "stream",
     "text": [
      "Sigma CH STATIC COHSEX\n"
     ]
    },
    {
     "name": "stderr",
     "output_type": "stream",
     "text": [
      "\n",
      "Sigma_CH_Static_Exact:   0%|          | 0/64 [00:00<?, ?it/s]"
     ]
    },
    {
     "name": "stdout",
     "output_type": "stream",
     "text": [
      "   -6.627248   -6.303135   -6.494451\n",
      "   -5.099279   -6.303097   -6.068627\n",
      "   -5.099294   -5.571196   -5.407666\n",
      "   -5.099536   -5.571210   -5.406884\n",
      "   -4.746137   -4.701091   -4.917357\n",
      "   -4.745580   -4.701259   -4.287270\n",
      "   -4.746849   -3.460434   -4.287115\n",
      "   -4.757445   -3.460220   -2.975094\n"
     ]
    },
    {
     "name": "stderr",
     "output_type": "stream",
     "text": [
      "Sigma_CH_Static_Exact: 100%|██████████| 64/64 [00:22<00:00,  2.82it/s]"
     ]
    },
    {
     "name": "stdout",
     "output_type": "stream",
     "text": [
      "Sigma CH STATIC EXACT\n"
     ]
    },
    {
     "name": "stderr",
     "output_type": "stream",
     "text": [
      "\n",
      "Sigma_SX_GPP:   0%|          | 0/64 [00:00<?, ?it/s]"
     ]
    },
    {
     "name": "stdout",
     "output_type": "stream",
     "text": [
      "   -7.444555   -7.623042   -7.626662\n",
      "   -7.756611   -7.623304   -7.314288\n",
      "   -7.757066   -7.477268   -7.674453\n",
      "   -7.757444   -7.476981   -7.673776\n",
      "   -7.335210   -6.794909   -7.354451\n",
      "   -7.334659   -6.795262   -7.120472\n",
      "   -7.335679   -7.674156   -7.120465\n",
      "   -7.829751   -7.673838   -6.232123\n",
      "Started sigma_sx_gpp 2023-09-18 08:32:46\n"
     ]
    },
    {
     "name": "stderr",
     "output_type": "stream",
     "text": [
      "Sigma_SX_GPP: 100%|██████████| 64/64 [00:49<00:00,  1.31it/s]"
     ]
    },
    {
     "name": "stdout",
     "output_type": "stream",
     "text": [
      "Sigma SX GPP\n"
     ]
    },
    {
     "name": "stderr",
     "output_type": "stream",
     "text": [
      "\n",
      "Sigma_CH_GPP:   0%|          | 0/64 [00:00<?, ?it/s]"
     ]
    },
    {
     "name": "stdout",
     "output_type": "stream",
     "text": [
      "   12.244002   10.838113   11.549690\n",
      "    8.177149   10.846066   10.174693\n",
      "    8.177726    8.838469    8.501843\n",
      "    8.179000    8.837931    8.500342\n",
      "    3.296765    2.864992    3.299154\n",
      "    3.293126    2.866973    2.790099\n",
      "    3.298240    1.738082    2.791498\n",
      "    3.371348    1.737541    1.089234\n"
     ]
    },
    {
     "name": "stderr",
     "output_type": "stream",
     "text": [
      "Sigma_CH_GPP: 100%|██████████| 64/64 [00:53<00:00,  1.20it/s]"
     ]
    },
    {
     "name": "stdout",
     "output_type": "stream",
     "text": [
      "Sigma CH GPP\n",
      "   -5.796970   -5.847274   -5.879221\n",
      "   -5.403142   -5.848742   -5.642406\n",
      "   -5.402436   -5.559447   -5.573669\n",
      "   -5.403744   -5.559200   -5.572457\n",
      "   -5.340712   -4.982012   -5.446887\n",
      "   -5.337889   -4.983754   -4.889794\n",
      "   -5.341954   -4.622041   -4.891018\n",
      "   -5.723835   -4.621603   -3.771267\n",
      "Sig GPP:\n",
      "  -11.511511  -11.707945  -11.814563\n",
      "  -11.529584  -11.701583  -10.999258\n",
      "  -11.528419  -11.091587  -11.409730\n",
      "  -11.528738  -11.091692  -11.409967\n",
      "   -9.104082   -8.360128   -9.300763\n",
      "   -9.104762   -8.360249   -8.598020\n",
      "   -9.103535   -8.780456   -8.597844\n",
      "   -9.719833   -8.780463   -6.716880\n",
      "Eqp0\n"
     ]
    },
    {
     "name": "stderr",
     "output_type": "stream",
     "text": [
      "\n",
      "Sigma_CH_GPP:   0%|          | 0/64 [00:00<?, ?it/s]"
     ]
    },
    {
     "name": "stdout",
     "output_type": "stream",
     "text": [
      "   -6.644747   -2.238057   -4.172961\n",
      "    6.313386   -2.231695   -1.377295\n",
      "    6.314550    3.098291    4.948708\n",
      "    6.314231    3.098186    4.948471\n",
      "    9.983462    7.767096    8.876818\n",
      "    9.982782    7.766975   10.870846\n",
      "    9.984009   18.518394   10.871022\n",
      "   11.225904   18.518387   15.216547\n",
      "dE [[0.07349864 0.07349864 0.07349864 0.07349864 0.07349864 0.07349864\n",
      "  0.07349864 0.07349864]\n",
      " [0.07349864 0.07349864 0.07349864 0.07349864 0.07349864 0.07349864\n",
      "  0.07349864 0.07349864]\n",
      " [0.07349864 0.07349864 0.07349864 0.07349864 0.07349864 0.07349864\n",
      "  0.07349864 0.07349864]]\n"
     ]
    },
    {
     "name": "stderr",
     "output_type": "stream",
     "text": [
      "Sigma_CH_GPP: 100%|██████████| 64/64 [00:53<00:00,  1.20it/s]\n",
      "Sigma_SX_GPP: 100%|██████████| 64/64 [00:49<00:00,  1.30it/s]"
     ]
    },
    {
     "name": "stdout",
     "output_type": "stream",
     "text": [
      "Sigma CH GPP dE\n",
      "   -6.056252   -6.124192   -6.149626\n",
      "   -5.636946   -6.125780   -5.916333\n",
      "   -5.643259   -5.843641   -5.861614\n",
      "   -5.637879   -5.843407   -5.860377\n",
      "   -5.567695   -5.285952   -5.772181\n",
      "   -5.564350   -5.287811   -5.099396\n",
      "   -5.568952   -4.909145   -5.099706\n",
      "   -5.940856   -4.908528   -4.062506\n",
      "Sigma SX GPP dE\n",
      "   -6.056252   -6.124192   -6.149626\n",
      "   -5.636946   -6.125780   -5.916333\n",
      "   -5.643259   -5.843641   -5.861614\n",
      "   -5.637879   -5.843407   -5.860377\n",
      "   -5.567695   -5.285952   -5.772181\n",
      "   -5.564350   -5.287811   -5.099396\n",
      "   -5.568952   -4.909145   -5.099706\n",
      "   -5.940856   -4.908528   -4.062506\n",
      "Z:\n",
      "    0.714876    0.775221    0.755487\n",
      "    0.839964    0.775062    0.778938\n",
      "    0.839974    0.817146    0.829061\n",
      "    0.839959    0.817134    0.829068\n",
      "    0.830710    0.835606    0.833228\n",
      "    0.830711    0.835579    0.839639\n",
      "    0.830701    0.812220    0.839640\n",
      "    0.834789    0.812135    0.837510\n",
      "Sig_2:\n",
      "[[-11.501702-0.00e+00j -11.337947+1.04e-04j -11.572108-0.00e+00j]\n",
      " [-10.391446+0.00e+00j -11.331699-1.04e-04j -10.660227+0.00e+00j]\n",
      " [-10.390045-0.00e+00j -10.362323+0.00e+00j -10.48252 -0.00e+00j]\n",
      " [-10.390319-0.00e+00j -10.362595-0.00e+00j -10.482695+0.00e+00j]\n",
      " [ -8.013335+0.00e+00j  -7.509955-2.00e-06j  -8.282367-0.00e+00j]\n",
      " [ -8.014011-0.00e+00j  -7.510022+2.00e-06j  -7.372407-0.00e+00j]\n",
      " [ -8.012923-0.00e+00j  -6.904789-1.00e-06j  -7.372154+0.00e+00j]\n",
      " [ -8.381588-0.00e+00j  -6.904976+1.00e-06j  -5.28238 +0.00e+00j]]\n",
      "Eqp1\n",
      "   -6.357241   -2.054683   -3.948801\n",
      "    6.339021   -2.049623   -1.206538\n",
      "    6.339998    3.182811    5.000683\n",
      "    6.339733    3.182731    5.000484\n",
      "    9.821428    7.660632    8.738207\n",
      "    9.820864    7.660514   10.696738\n",
      "    9.821874   18.182384   10.696888\n",
      "   11.024093   18.182227   15.050402\n",
      "   n         Emf          Eo           X        SX-X          CH         Sig         Vxc        Eqp0        Eqp1         CH`        Sig`       Eqp0`       Eqp1`         Znk\n",
      "   0   -5.636393   -5.636393  -17.549889   12.244002   -6.205623  -11.511511  -10.503157   -6.644747   -6.357241   -5.796970  -11.102857   -6.236093   -6.065104    0.714876\n",
      "   1    6.473572    6.473572  -12.974926    8.177149   -6.731808  -11.529584  -11.369397    6.313386    6.339021   -5.403142  -10.200918    7.642051    7.455052    0.839964\n",
      "   2    6.473572    6.473572  -12.974823    8.177726   -6.731322  -11.528419  -11.369397    6.314550    6.339998   -5.402436  -10.199533    7.643436    7.456228    0.839974\n",
      "   3    6.473572    6.473572  -12.975040    8.179000   -6.732698  -11.528738  -11.369397    6.314231    6.339733   -5.403744  -10.199784    7.643185    7.455999    0.839959\n",
      "   4    9.026324    9.026324   -5.765599    3.296765   -6.635249   -9.104082  -10.061220    9.983462    9.821428   -5.340712   -7.809545   11.277999   10.896812    0.830710\n",
      "   5    9.026325    9.026325   -5.765459    3.293126   -6.632429   -9.104762  -10.061220    9.982782    9.820864   -5.337889   -7.810223   11.277322   10.896252    0.830711\n",
      "   6    9.026325    9.026325   -5.765406    3.298240   -6.636369   -9.103535  -10.061220    9.984009    9.821874   -5.341954   -7.809120   11.278424   10.897146    0.830701\n",
      "   7   10.004367   10.004367   -5.831193    3.371348   -7.259988   -9.719833  -10.941371   11.225904   11.024093   -5.723835   -8.183681   12.762057   12.306457    0.834789\n",
      "   n         Emf          Eo           X        SX-X          CH         Sig         Vxc        Eqp0        Eqp1         CH`        Sig`       Eqp0`       Eqp1`         Znk\n",
      "   0   -1.422262   -1.422262  -16.038831   10.838113   -6.507227  -11.707945  -10.892150   -2.238057   -2.054683   -5.847274  -11.047992   -1.578103   -1.543074    0.775221\n",
      "   1   -1.422262   -1.422262  -16.038804   10.846066   -6.508845  -11.701583  -10.892150   -2.231695   -2.049623   -5.848742  -11.041480   -1.571591   -1.538001    0.775062\n",
      "   2    3.560518    3.560518  -13.417574    8.838469   -6.512482  -11.091587  -10.629360    3.098291    3.182811   -5.559447  -10.138552    4.051327    3.961580    0.817146\n",
      "   3    3.560518    3.560518  -13.417537    8.837931   -6.512086  -11.091692  -10.629360    3.098186    3.182731   -5.559200  -10.138806    4.051072    3.961366    0.817134\n",
      "   4    7.119480    7.119480   -5.196199    2.864992   -6.028921   -8.360128   -9.007744    7.767096    7.660632   -4.982012   -7.313219    8.814005    8.535436    0.835606\n",
      "   5    7.119480    7.119480   -5.196466    2.866973   -6.030756   -8.360249   -9.007744    7.766975    7.660514   -4.983754   -7.313248    8.813977    8.535366    0.835579\n",
      "   6   16.729018   16.729018   -3.789636    1.738082   -6.728902   -8.780456  -10.569832   18.518394   18.182384   -4.622041   -6.673595   20.625254   19.893619    0.812220\n",
      "   7   16.729018   16.729018   -3.789591    1.737541   -6.728413   -8.780463  -10.569833   18.518387   18.182227   -4.621603   -6.673653   20.625197   19.893240    0.812135\n",
      "   n         Emf          Eo           X        SX-X          CH         Sig         Vxc        Eqp0        Eqp1         CH`        Sig`       Eqp0`       Eqp1`         Znk\n",
      "   0   -3.256202   -3.256202  -16.918927   11.549690   -6.445326  -11.814563  -10.897804   -4.172961   -3.948801   -5.879221  -11.248458   -3.606855   -3.521116    0.755487\n",
      "   1   -0.604856   -0.604856  -14.908715   10.174693   -6.265237  -10.999258  -10.226820   -1.377295   -1.206538   -5.642406  -10.376427   -0.754464   -0.721392    0.778938\n",
      "   2    5.252762    5.252762  -13.204511    8.501843   -6.707063  -11.409730  -11.105676    4.948708    5.000683   -5.573669  -10.276336    6.082102    5.940335    0.829061\n",
      "   3    5.252762    5.252762  -13.204406    8.500342   -6.705903  -11.409967  -11.105676    4.948471    5.000484   -5.572457  -10.276521    6.081917    5.940188    0.829068\n",
      "   4    8.045678    8.045678   -5.934483    3.299154   -6.665434   -9.300763  -10.131903    8.876818    8.738207   -5.446887   -8.082216   10.095365    9.753535    0.833228\n",
      "   5    9.785121    9.785121   -5.081723    2.790099   -6.306395   -8.598020   -9.683745   10.870846   10.696738   -4.889794   -7.181419   12.287448   11.886171    0.839639\n",
      "   6    9.785121    9.785121   -5.081648    2.791498   -6.307693   -8.597844   -9.683745   10.871022   10.696888   -4.891018   -7.181168   12.287697   11.886386    0.839640\n",
      "   7   14.194052   14.194052   -2.406333    1.089234   -5.399781   -6.716880   -7.739375   15.216547   15.050402   -3.771267   -5.088366   16.845061   16.414300    0.837510\n"
     ]
    },
    {
     "name": "stderr",
     "output_type": "stream",
     "text": [
      "\n"
     ]
    }
   ],
   "source": [
    "gpp_result = sigma.calculate_gpp()"
   ]
  },
  {
   "cell_type": "code",
   "execution_count": 26,
   "metadata": {},
   "outputs": [
    {
     "ename": "FileNotFoundError",
     "evalue": "[Errno 2] No such file or directory: './si_4_gw/../gpp/sigma_hp.log'",
     "output_type": "error",
     "traceback": [
      "\u001b[0;31m---------------------------------------------------------------------------\u001b[0m",
      "\u001b[0;31mFileNotFoundError\u001b[0m                         Traceback (most recent call last)",
      "\u001b[1;32m/home1/agrimsharma/codes/PhD_QuantumMASALA/QuantumMASALA/examples/gw-si/si_scf_gw.ipynb Cell 33\u001b[0m line \u001b[0;36m3\n\u001b[1;32m      <a href='vscode-notebook-cell://ssh-remote%2Bagrimsharma_hrkmjain1/home1/agrimsharma/codes/PhD_QuantumMASALA/QuantumMASALA/examples/gw-si/si_scf_gw.ipynb#X44sdnNjb2RlLXJlbW90ZQ%3D%3D?line=0'>1</a>\u001b[0m \u001b[39mfrom\u001b[39;00m \u001b[39mqtm\u001b[39;00m\u001b[39m.\u001b[39;00m\u001b[39mgw\u001b[39;00m\u001b[39m.\u001b[39;00m\u001b[39mio_bgw\u001b[39;00m\u001b[39m.\u001b[39;00m\u001b[39msigma_hp_reader\u001b[39;00m \u001b[39mimport\u001b[39;00m read_sigma_hp\n\u001b[0;32m----> <a href='vscode-notebook-cell://ssh-remote%2Bagrimsharma_hrkmjain1/home1/agrimsharma/codes/PhD_QuantumMASALA/QuantumMASALA/examples/gw-si/si_scf_gw.ipynb#X44sdnNjb2RlLXJlbW90ZQ%3D%3D?line=2'>3</a>\u001b[0m ref_dict \u001b[39m=\u001b[39m read_sigma_hp(dirname\u001b[39m+\u001b[39;49m\u001b[39m\"\u001b[39;49m\u001b[39m../gpp/sigma_hp.log\u001b[39;49m\u001b[39m\"\u001b[39;49m)\n\u001b[1;32m      <a href='vscode-notebook-cell://ssh-remote%2Bagrimsharma_hrkmjain1/home1/agrimsharma/codes/PhD_QuantumMASALA/QuantumMASALA/examples/gw-si/si_scf_gw.ipynb#X44sdnNjb2RlLXJlbW90ZQ%3D%3D?line=3'>4</a>\u001b[0m \u001b[39mfor\u001b[39;00m ik \u001b[39min\u001b[39;00m gpp_result:\n\u001b[1;32m      <a href='vscode-notebook-cell://ssh-remote%2Bagrimsharma_hrkmjain1/home1/agrimsharma/codes/PhD_QuantumMASALA/QuantumMASALA/examples/gw-si/si_scf_gw.ipynb#X44sdnNjb2RlLXJlbW90ZQ%3D%3D?line=4'>5</a>\u001b[0m     \u001b[39mprint\u001b[39m(\u001b[39m\"\u001b[39m\u001b[39mk-point index:\u001b[39m\u001b[39m\"\u001b[39m,ik)\n",
      "File \u001b[0;32m~/codes/PhD_QuantumMASALA/QuantumMASALA/src/qtm/gw/io_bgw/sigma_hp_reader.py:13\u001b[0m, in \u001b[0;36mread_sigma_hp\u001b[0;34m(filename)\u001b[0m\n\u001b[1;32m      7\u001b[0m \u001b[39m\u001b[39m\u001b[39m\"\"\"Read `sigma_hp.log` file\u001b[39;00m\n\u001b[1;32m      8\u001b[0m \n\u001b[1;32m      9\u001b[0m \u001b[39m:param filename: `sigma_hp.log` filename\u001b[39;00m\n\u001b[1;32m     10\u001b[0m \u001b[39m:type filename: str\u001b[39;00m\n\u001b[1;32m     11\u001b[0m \u001b[39m\"\"\"\u001b[39;00m\n\u001b[1;32m     12\u001b[0m data_dict \u001b[39m=\u001b[39m {}\n\u001b[0;32m---> 13\u001b[0m \u001b[39mwith\u001b[39;00m \u001b[39mopen\u001b[39m(filename, \u001b[39m\"\u001b[39m\u001b[39mr\u001b[39m\u001b[39m\"\u001b[39m) \u001b[39mas\u001b[39;00m f:\n\u001b[1;32m     14\u001b[0m     \u001b[39mfor\u001b[39;00m line \u001b[39min\u001b[39;00m f:\n\u001b[1;32m     15\u001b[0m         \u001b[39m# For each k-point\u001b[39;00m\n\u001b[1;32m     16\u001b[0m         \u001b[39m# If header row is encountered, \u001b[39;00m\n\u001b[1;32m     17\u001b[0m         \u001b[39m# start reading data\u001b[39;00m\n\u001b[1;32m     18\u001b[0m         \u001b[39m# Stop when empty line is encountered.\u001b[39;00m\n\u001b[1;32m     19\u001b[0m         \u001b[39mif\u001b[39;00m line\u001b[39m.\u001b[39mstrip()\u001b[39m.\u001b[39mstartswith(\u001b[39m\"\u001b[39m\u001b[39mk =\u001b[39m\u001b[39m\"\u001b[39m):\n",
      "\u001b[0;31mFileNotFoundError\u001b[0m: [Errno 2] No such file or directory: './si_4_gw/../gpp/sigma_hp.log'"
     ]
    }
   ],
   "source": [
    "from qtm.gw.io_bgw.sigma_hp_reader import read_sigma_hp\n",
    "\n",
    "ref_dict = read_sigma_hp(dirname+\"../gpp/sigma_hp.log\")\n",
    "for ik in gpp_result:\n",
    "    print(\"k-point index:\",ik)\n",
    "    qtty = 'Eqp1'\n",
    "    print(np.abs(ref_dict[ik+1][qtty]-np.around(gpp_result[ik][qtty],6)))"
   ]
  },
  {
   "cell_type": "markdown",
   "metadata": {},
   "source": [
    "### Load WfnData\n",
    "Calculation of dielectric matrix requires mean field eigenfunctions. \\\n",
    "Wavefunction data generated from mean-field codes can be read using the ``wfn2py`` utility, which assumes that the incoming data satisfies BerkeleyGW's [`wfn_h5`](http://manual.berkeleygw.org/3.0/wfn_h5_spec/) specification. The data is stored as a `NamedTuple` object.\n",
    "\n",
    "For reasons discussed later, we also require wavefunctions on a shifted grid to calculate dielectric matrix at $q\\to 0$. This shifted grid dataset will be referred to as `wfnqdata`.\n",
    "\n",
    "Similarly, the utilities `read_rho` and `read_vxc` can be used to read density and exchange-correlation respectively."
   ]
  },
  {
   "cell_type": "markdown",
   "metadata": {},
   "source": [
    "### Initialize Epsilon Class\n",
    "\n",
    "``Epsilon`` class can be initialized by either directly passing the required `quantummasala.core` objects or by passing the input objects discussed earlier."
   ]
  },
  {
   "cell_type": "code",
   "execution_count": null,
   "metadata": {},
   "outputs": [],
   "source": [
    "from quantum_masala.gw.core import QPoints\n",
    "from quantum_masala.gw.epsilon import Epsilon\n",
    "\n",
    "epsilon = Epsilon(\n",
    "    crystal = crystal,\n",
    "    gspace = gspc_rho,\n",
    "    kpts = kpts,\n",
    "    kptsq = kpts_shifted,\n",
    "    l_wfn = l_wfn_kgrp,\n",
    "    l_wfnq = l_wfn_kgrp_q,\n",
    "    l_gsp_wfn = [wfn.gkspc for wfn in l_wfn_kgrp],\n",
    "    l_gsp_wfnq = [wfn.gkspc for wfn in l_wfn_kgrp_q],\n",
    "    qpts = QPoints.from_cryst(kpts.recilat, epsinp.is_q0, *epsinp.qpts),\n",
    "    epsinp = epsinp,\n",
    ")\n",
    "\n",
    "# epsilon = Epsilon.from_data(wfndata=wfndata, wfnqdata=wfnqdata, epsinp=epsinp)"
   ]
  },
  {
   "cell_type": "markdown",
   "metadata": {},
   "source": [
    "The three main steps involved in the calculation have been mapped to the corresponding functions:\n",
    "1.  ``matrix_elements``: Calculation of Planewave Matrix elements\n",
    "2.  ``polarizability``: Calculation of RPA polarizability matrix $P$\n",
    "3.  ``epsilon_inverse``: Calculation of (static) Epsilon Inverse matrix"
   ]
  },
  {
   "cell_type": "code",
   "execution_count": null,
   "metadata": {},
   "outputs": [],
   "source": [
    "from tqdm import trange\n",
    "from quantum_masala.gw.core import reorder_2d_matrix_sorted_gvecs, sort_cryst_like_BGW\n",
    "\n",
    "\n",
    "np.set_printoptions(formatter={'float': lambda x: \"{0:0.30f}\".format(x)})\n",
    "\n",
    "def calculate_epsilon(numq=None, writing=True):\n",
    "    epsmats = []\n",
    "    res = []\n",
    "    if numq is None:\n",
    "        numq = epsilon.qpts.numq\n",
    "\n",
    "    for i_q in trange(0, numq, desc=\"Epsilon> q-pt index\"):\n",
    "        # Create map between BGW's sorting order and QTm's sorting order\n",
    "        gkspc = epsilon.l_gq[i_q]\n",
    "        if i_q == epsilon.qpts.index_q0:\n",
    "            key = gkspc.g_norm2\n",
    "            indices_gspace_sorted = sort_cryst_like_BGW(\n",
    "                cryst=gkspc.g_cryst, key_array=key\n",
    "            )\n",
    "        else:\n",
    "            key = gkspc.norm2\n",
    "            indices_gspace_sorted = sort_cryst_like_BGW(\n",
    "                cryst=gkspc.g_cryst, key_array=key\n",
    "            )\n",
    "\n",
    "        # Calculate polarizability matrix (Memory-inefficient, but faster)\n",
    "        chimat = epsilon.polarizability(next(epsilon.matrix_elements(i_q=i_q)))\n",
    "\n",
    "        # chimat /= 1037729756552.8315\n",
    "        # chimat *= 9.63652239202381036380e-13\n",
    "        chimat/=2.0\n",
    "\n",
    "        # print(np.real(chimat[0,::20]))\n",
    "\n",
    "        # Calculate polarizability matrix (memory-efficient)\n",
    "        # chimat = epsilon.calculate_polarizability(i_q)\n",
    "\n",
    "        # Calculate epsilon inverse matrix\n",
    "        epsinv = epsilon.epsilon_inverse(i_q=i_q, polarizability_matrix=chimat, store=True)\n",
    "\n",
    "        # indices = epsilon.l_gq[i_q].gk_indices_tosorted\n",
    "        epsinv = reorder_2d_matrix_sorted_gvecs(epsinv, indices_gspace_sorted)\n",
    "        epsilon.l_epsinv[i_q] = epsinv\n",
    "\n",
    "        # print((epsinv[0,::20]))\n",
    "\n",
    "        res.append(epsinv)\n",
    "\n",
    "        # Compare the results with BGW's results\n",
    "        if i_q == epsilon.qpts.index_q0:\n",
    "            epsref = epsilon.read_epsmat(dirname + \"eps0mat.h5\")[0][0, 0]\n",
    "            # indices = epsilon.l_gq[i_q].gk_indices_tosorted\n",
    "            if writing:\n",
    "                epsilon.write_epsmat(\n",
    "                    filename=\"si_4_gw/eps0mat_qtm.h5\", epsinvmats=[epsinv]\n",
    "                )\n",
    "        else:\n",
    "            epsref = np.array(epsilon.read_epsmat(dirname + \"epsmat.h5\")[i_q - 1][0, 0])\n",
    "            epsmats.append(epsinv)\n",
    "\n",
    "        # Calculate stddev between reference and calculated epsinv matrices\n",
    "        # print(\"epsinv.shape\", epsinv.shape,\"epsref.shape\", epsref.shape)\n",
    "        mindim = min(*epsref.shape)#, *epsinv.shape)\n",
    "        epsref = epsref[:mindim, :mindim]\n",
    "        std_eps = np.std(np.abs(epsref) - np.abs(epsinv)) / np.sqrt(np.prod(list(epsinv.shape)))\n",
    "\n",
    "        epstol = 1e-15\n",
    "        if np.abs(std_eps) > epstol:\n",
    "            print(f\"Standard deviation exceeded {epstol} tolerance\", std_eps)\n",
    "            print(\"i_q\", i_q)\n",
    "\n",
    "    if writing:\n",
    "        epsilon.write_epsmat(filename=\"si_4_gw/epsmat_qtm.h5\", epsinvmats=epsmats)\n",
    "\n",
    "    return res\n",
    "\n",
    "epsinp.no_min_fftgrid = True\n",
    "epsilon = Epsilon(\n",
    "    crystal = crystal,\n",
    "    gspace = gspc_rho,\n",
    "    kpts = kpts,\n",
    "    kptsq = kpts_shifted,\n",
    "    l_wfn = l_wfn_kgrp,\n",
    "    l_wfnq = l_wfn_kgrp_q,\n",
    "    l_gsp_wfn = [wfn.gkspc for wfn in l_wfn_kgrp],\n",
    "    l_gsp_wfnq = [wfn.gkspc for wfn in l_wfn_kgrp_q],\n",
    "    qpts = QPoints.from_cryst(kpts.recilat, epsinp.is_q0, *epsinp.qpts),\n",
    "    epsinp = epsinp,\n",
    ")\n",
    "\n",
    "# print(epsilon.l_wfn[0].evc_gk[0,0,:10])\n",
    "\n",
    "# epsilon = Epsilon.from_data(wfndata=wfndata, wfnqdata=wfnqdata, epsinp=epsinp)\n",
    "l_epsmats = calculate_epsilon()\n",
    "#numq=1)\n",
    "\n",
    "# epsinp.no_min_fftgrid = False\n",
    "# epsilon = Epsilon.from_data(wfndata=wfndata, wfnqdata=wfnqdata, epsinp=epsinp)\n",
    "# calculate_epsilon()#numq=1)\n"
   ]
  },
  {
   "cell_type": "markdown",
   "metadata": {},
   "source": [
    "### Sigma Calculation"
   ]
  },
  {
   "cell_type": "code",
   "execution_count": null,
   "metadata": {},
   "outputs": [],
   "source": [
    "print(rho.data.shape)\n",
    "print(rho.gspc.grid_shape)\n",
    "print(rho.gspc.cryst.shape)"
   ]
  },
  {
   "cell_type": "code",
   "execution_count": null,
   "metadata": {},
   "outputs": [],
   "source": [
    "from quantum_masala.gw.io_bgw import inp\n",
    "\n",
    "\n",
    "vxc = inp.read_vxc(dirname+\"vxc.dat\")\n",
    "print(vxc.__doc__)\n",
    "print(np.array(vxc.vxc).shape)\n",
    "print(v_xc.data.shape)"
   ]
  },
  {
   "cell_type": "code",
   "execution_count": null,
   "metadata": {},
   "outputs": [],
   "source": [
    "from collections import namedtuple\n",
    "from quantum_masala.gw.io_bgw import inp\n",
    "from quantum_masala.gw.io_bgw.sigmainp import Sigmainp\n",
    "from quantum_masala.gw.sigma import Sigma\n",
    "\n",
    "\n",
    "# dirname = \"./scripts/results/si_6_nband272_pristine_cohsex/si_6_gw/\"\n",
    "# outdir = \"./test/tempdir_20230618_173806/\"\n",
    "\n",
    "rho_nt = namedtuple(\"RHO\", [\"rho\", \"gvecs\"])(rho.data[0], rho.gspc.cryst.T)\n",
    "\n",
    "# RHO data\n",
    "# rho = inp.read_rho(dirname+\"RHO\")\n",
    "\n",
    "# Vxc data\n",
    "# vxc = inp.read_vxc(dirname+\"vxc.dat\")\n",
    "\n",
    "\n",
    "# There is an analogous system to read SigmaInp\n",
    "# from quantum_masala.gw.io_bgw.sigmainp import Sigmainp\n",
    "sigmainp = Sigmainp.from_sigma_inp(filename=dirname+'sigma.inp')\n",
    "print(sigmainp)\n",
    "\n",
    "sigma = Sigma(\n",
    "    crystal = crystal,\n",
    "    gspace = gspc_rho,\n",
    "    kpts = kpts,\n",
    "    kptsq=kpts_shifted,\n",
    "    l_wfn = l_wfn_kgrp,\n",
    "    l_wfnq = l_wfn_kgrp_q,\n",
    "    l_gsp_wfn = [wfn.gkspc for wfn in l_wfn_kgrp],\n",
    "    l_gsp_wfnq = [wfn.gkspc for wfn in l_wfn_kgrp_q],\n",
    "    qpts = QPoints.from_cryst(kpts.recilat, epsinp.is_q0, *epsinp.qpts),\n",
    "    sigmainp=sigmainp,\n",
    "    epsinp = epsinp,\n",
    "    # l_epsmats=l_epsmats,\n",
    "    l_epsmats=epsilon.l_epsinv,\n",
    "    rho=rho_nt,\n",
    "    vxc=v_xc\n",
    ")\n",
    "\n",
    "# sigma = Sigma.from_data(\n",
    "#     wfndata=wfndata,\n",
    "#     wfnqdata=wfnqdata,\n",
    "#     sigmainp=sigmainp,\n",
    "#     epsinp=epsinp,\n",
    "#     l_epsmats=epsilon.l_epsinv,\n",
    "#     rho=rho_nt,\n",
    "#     vxc=vxc,\n",
    "#     outdir=dirname+\"temp/\",\n",
    "# )"
   ]
  },
  {
   "cell_type": "code",
   "execution_count": null,
   "metadata": {},
   "outputs": [],
   "source": [
    "sigma.qpts.cryst"
   ]
  },
  {
   "cell_type": "code",
   "execution_count": null,
   "metadata": {},
   "outputs": [],
   "source": [
    "np.set_printoptions(precision=4)\n",
    "sigma.print_condition=False\n",
    "sigma_x_mat = sigma.sigma_x()    \n",
    "print(\"Sigma X GPP\")\n",
    "sigma.pprint_sigma_mat(np.real(sigma_x_mat.T))"
   ]
  },
  {
   "cell_type": "code",
   "execution_count": null,
   "metadata": {},
   "outputs": [],
   "source": [
    "sigma.print_condition=False\n",
    "sigma_sx_cohsex_mat = sigma.sigma_sx_static()    \n",
    "print(\"Sigma SX COHSEX\")\n",
    "sigma.pprint_sigma_mat(np.real(sigma_sx_cohsex_mat.T))"
   ]
  },
  {
   "cell_type": "code",
   "execution_count": null,
   "metadata": {},
   "outputs": [],
   "source": [
    "sigma.print_condition=True\n",
    "sigma_sx_gpp_mat = sigma.sigma_sx_gpp()    \n",
    "print(\"Sigma SX GPP\")\n",
    "sigma.pprint_sigma_mat(np.real(sigma_sx_gpp_mat.T))"
   ]
  },
  {
   "cell_type": "code",
   "execution_count": null,
   "metadata": {},
   "outputs": [],
   "source": [
    "sigma.calculate_gpp()"
   ]
  },
  {
   "cell_type": "code",
   "execution_count": null,
   "metadata": {},
   "outputs": [],
   "source": [
    "sigma.calculate_static_cohsex()"
   ]
  },
  {
   "cell_type": "code",
   "execution_count": null,
   "metadata": {},
   "outputs": [],
   "source": [
    "print(sigma.rho.gvecs.shape)"
   ]
  },
  {
   "cell_type": "code",
   "execution_count": null,
   "metadata": {},
   "outputs": [],
   "source": [
    "v_xc.shape"
   ]
  },
  {
   "cell_type": "code",
   "execution_count": null,
   "metadata": {},
   "outputs": [],
   "source": [
    "sigma.print_condition=False\n",
    "dE = 1.0 / sigma.ryd\n",
    "sigma_ch_gpp_mat = sigma.sigma_ch_gpp(dE)    \n",
    "print(\"Sigma CH GPP\")\n",
    "sigma.pprint_sigma_mat(np.real(sigma_ch_gpp_mat[1].T))"
   ]
  }
 ],
 "metadata": {
  "kernelspec": {
   "display_name": "qtm",
   "language": "python",
   "name": "python3"
  },
  "language_info": {
   "codemirror_mode": {
    "name": "ipython",
    "version": 3
   },
   "file_extension": ".py",
   "mimetype": "text/x-python",
   "name": "python",
   "nbconvert_exporter": "python",
   "pygments_lexer": "ipython3",
   "version": "3.11.5"
  },
  "orig_nbformat": 4
 },
 "nbformat": 4,
 "nbformat_minor": 2
}
