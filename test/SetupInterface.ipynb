{
 "cells": [
  {
   "cell_type": "code",
   "execution_count": 1,
   "id": "f6a1c35a-c2bd-4bb8-83b2-29417928b60b",
   "metadata": {},
   "outputs": [],
   "source": [
    "%load_ext autoreload\n",
    "%autoreload 2"
   ]
  },
  {
   "cell_type": "code",
   "execution_count": 2,
   "id": "ac7858fb-012c-4dba-82b9-68c6e69472fb",
   "metadata": {},
   "outputs": [],
   "source": [
    "import numpy as np\n",
    "np.set_printoptions(precision=5, suppress=True)"
   ]
  },
  {
   "cell_type": "code",
   "execution_count": null,
   "id": "824995fd-17f7-46db-8bc2-3e619c43dc42",
   "metadata": {},
   "outputs": [],
   "source": [
    "from quantum_masala.core import RealLattice, UPFv2Data, AtomBasis, Crystal\n",
    "from quantum_masala.core.constants import angstrom, E_ryd, E_ryd_SI, eV\n",
    "\n",
    "reallat = RealLattice.from_alat(5.1070, [0.5, 0.5, 0.5], [-0.5, 0.5, 0.5], [-0.5, -0.5, 0.5])\n",
    "\n",
    "fe_oncv = UPFv2Data.from_file('fe', './fe/Fe_ONCV_PBE-1.2.upf')\n",
    "\n",
    "fe_atoms = AtomBasis.from_cart(reallat, fe_oncv, 55.847, [0., 0., 0.])\n",
    "\n",
    "crystal = Crystal(reallat, [fe_atoms])"
   ]
  },
  {
   "cell_type": "code",
   "execution_count": null,
   "id": "75e65384-6992-4a0c-a8b7-432c138dd695",
   "metadata": {},
   "outputs": [],
   "source": [
    "reallat = crystal.reallat\n",
    "recilat = crystal.recilat\n",
    "\n",
    "print(f\"alat = {reallat.alat}\")\n",
    "print(\"Axes of real space in cartesian\")\n",
    "for i, ai in enumerate(reallat.axes_cart):\n",
    "    print(f\"a({i+1}) = {ai}\")\n",
    "print()\n",
    "print(\"Axes of real space in alat\")\n",
    "for i, ai in enumerate(reallat.axes_alat):\n",
    "    print(f\"a({i+1}) = {ai}\")\n",
    "print('-'*40)\n",
    "print()\n",
    "\n",
    "\n",
    "print(f\"tpiba = {recilat.tpiba}\")\n",
    "print(\"Axes of reciprocal space in tpiba\")\n",
    "for i, bi in enumerate(recilat.axes_tpiba):\n",
    "    print(f\"b({i+1}) = {bi}\")\n",
    "print()\n",
    "print(\"Axes of reciprocal space in cart\")\n",
    "for i, bi in enumerate(recilat.axes_cart):\n",
    "    print(f\"b({i+1}) = {bi}\")\n",
    "print('-'*40)\n",
    "print()\n",
    "\n",
    "for sp in crystal.l_species:\n",
    "    print(f\"Label: {sp.label}\")\n",
    "    print(f\"PseudoPot File: {sp.ppdata.filename}\")\n",
    "    print(f\"numatoms:{sp.numatoms}\")\n",
    "    print(f\"coords: \\n{sp.cryst.T}\")\n",
    "    print()\n",
    "print(f\"numel: {crystal.numel}\")\n",
    "print('-'*40)\n",
    "print()\n"
   ]
  },
  {
   "cell_type": "code",
   "execution_count": null,
   "id": "f6f5931b-71e3-4959-b333-02ab0bc5830a",
   "metadata": {},
   "outputs": [],
   "source": [
    "from quantum_masala.core import KPoints, GSpace\n",
    "\n",
    "grho = GSpace(crystal.recilat, 80)\n",
    "print(grho.grid_shape)\n",
    "print(grho.numg)"
   ]
  },
  {
   "cell_type": "code",
   "execution_count": null,
   "id": "c93b1f8e-b796-4b73-8498-6c7ac16c5b70",
   "metadata": {},
   "outputs": [],
   "source": [
    "from quantum_masala.core import Rho\n",
    "\n",
    "numspin = 2\n",
    "rho = Rho(crystal, grho, numspin)"
   ]
  },
  {
   "cell_type": "code",
   "execution_count": null,
   "id": "1fe5c792-6de1-4260-b666-f491d168be39",
   "metadata": {
    "tags": []
   },
   "outputs": [],
   "source": [
    "from quantum_masala.core import KPoints\n",
    "\n",
    "kpts = KPoints.mpgrid(crystal, [8, 8, 8], [False, False, False])\n",
    "print(kpts.cryst.T, kpts.weights)"
   ]
  },
  {
   "cell_type": "code",
   "execution_count": null,
   "id": "0a9eff93-3aa1-4fe8-a893-84ac33dac1b1",
   "metadata": {
    "jupyter": {
     "source_hidden": true
    },
    "tags": []
   },
   "outputs": [],
   "source": [
    "kpts = KPoints.from_tpiba(recilat,\n",
    "                          ([   0.0000000,   0.0000000,   0.0000000],  0.0019531),\n",
    "                          ([   0.0000000,  -0.1250000,   0.1250000],  0.0234375),\n",
    "                          ([   0.0000000,  -0.2500000,   0.2500000],  0.0234375),\n",
    "                          ([   0.0000000,  -0.3750000,   0.3750000],  0.0234375),\n",
    "                          ([   0.0000000,   0.5000000,  -0.5000000],  0.0117188),\n",
    "                          ([  -0.1250000,  -0.1250000,   0.2500000],  0.0468750),\n",
    "                          ([  -0.1250000,  -0.2500000,   0.3750000],  0.0937500),\n",
    "                          ([  -0.1250000,   0.6250000,  -0.5000000],  0.0937500),\n",
    "                          ([  -0.2500000,   0.7500000,  -0.5000000],  0.0468750),\n",
    "                          ([  -0.2500000,   0.6250000,  -0.3750000],  0.0468750),\n",
    "                          ([   0.0000000,   0.0000000,   0.2500000],  0.0117188),\n",
    "                          ([   0.0000000,  -0.1250000,   0.3750000],  0.0468750),\n",
    "                          ([   0.0000000,  -0.2500000,   0.5000000],  0.0468750),\n",
    "                          ([   0.0000000,   0.6250000,  -0.3750000],  0.0234375),\n",
    "                          ([  -0.1250000,  -0.1250000,   0.5000000],  0.0468750),\n",
    "                          ([  -0.1250000,   0.7500000,  -0.3750000],  0.0937500),\n",
    "                          ([  -0.2500000,   0.2500000,   0.2500000],  0.0156250),\n",
    "                          ([  -0.2500000,   0.7500000,  -0.2500000],  0.0156250),\n",
    "                          ([   0.6250000,  -0.6250000,   0.2500000],  0.0468750),\n",
    "                          ([   0.5000000,  -0.5000000,   0.2500000],  0.0234375),\n",
    "                          ([   0.5000000,  -0.6250000,   0.3750000],  0.0468750),\n",
    "                          ([   0.0000000,   0.0000000,   0.5000000],  0.0117188),\n",
    "                          ([   0.0000000,  -0.1250000,   0.6250000],  0.0468750),\n",
    "                          ([   0.0000000,   0.7500000,  -0.2500000],  0.0234375),\n",
    "                          ([  -0.1250000,   0.8750000,  -0.2500000],  0.0468750),\n",
    "                          ([   0.5000000,  -0.5000000,   0.5000000],  0.0039062),\n",
    "                          ([   0.0000000,   0.0000000,   0.7500000],  0.0117188),\n",
    "                          ([   0.0000000,   0.8750000,  -0.1250000],  0.0234375),\n",
    "                          ([   0.0000000,   0.0000000,  -1.0000000],  0.0019531)\n",
    "                         )\n",
    "\n",
    "print(kpts.cryst.T, kpts.weights)"
   ]
  },
  {
   "cell_type": "code",
   "execution_count": null,
   "id": "473d0faa-659d-46bf-89c4-718857a3b072",
   "metadata": {
    "tags": []
   },
   "outputs": [],
   "source": [
    "from quantum_masala.core import KPointsKgrp, WavefunK, Wfn2Rho\n",
    "\n",
    "numbnd = 12\n",
    "\n",
    "WfnK = WavefunK(rho.grho, numspin, numbnd)\n",
    "\n",
    "kpts_kgrp = KPointsKgrp(kpts)\n",
    "#print(kpts_kgrp.cryst)\n",
    "l_wfnk = [WfnK(k_cryst, k_weight, ik) for ik, (k_cryst, k_weight) in enumerate(kpts_kgrp)]\n",
    "for wfnk in l_wfnk:\n",
    "    #print(wfnk.gwfc.numgk)\n",
    "    wfnk.init_random_wfc()\n",
    "\n",
    "rho_wfn = Wfn2Rho(crystal, WfnK)"
   ]
  },
  {
   "cell_type": "code",
   "execution_count": null,
   "id": "28c96b76-6328-4f52-8ac8-f20c29a864b4",
   "metadata": {},
   "outputs": [],
   "source": [
    "wfnk = l_wfnk[0]\n",
    "print(wfnk.evl.shape)\n",
    "print(wfnk.occ.shape)\n",
    "print(wfnk.evc_gk.shape)"
   ]
  },
  {
   "cell_type": "code",
   "execution_count": null,
   "id": "be04fbc7-945d-4627-8590-7d51603b71fa",
   "metadata": {},
   "outputs": [],
   "source": [
    "from quantum_masala.pw.pot import PPDataLocal, PPDataNonLocal\n",
    "\n",
    "l_pploc = [PPDataLocal(sp, rho.grho) for sp in crystal.l_species]\n",
    "l_ppnl = [PPDataNonLocal(sp, WfnK.gspc) for sp in crystal.l_species]"
   ]
  },
  {
   "cell_type": "code",
   "execution_count": null,
   "id": "c7e12558-5824-4a52-9a22-5785c0e44ef1",
   "metadata": {},
   "outputs": [],
   "source": [
    "mag_start = [0.1, ]\n",
    "\n",
    "if numspin == 2:\n",
    "    rho_g = np.zeros((2, grho.numg), dtype=\"c16\")\n",
    "    for isp, pploc in enumerate(l_pploc):\n",
    "        rho_g[0] += pploc.rhoatomic_g * (1 + mag_start[isp]) / 2\n",
    "        rho_g[1] += pploc.rhoatomic_g * (1 - mag_start[isp]) / 2\n",
    "else:\n",
    "    rho_g = sum(pploc.rhoatomic_g for pploc in l_pploc).reshape(1, grho.numg)\n",
    "\n",
    "rho.update(rho_g)"
   ]
  },
  {
   "cell_type": "code",
   "execution_count": null,
   "id": "0c419144-53e5-4be1-8d66-32cd31713228",
   "metadata": {},
   "outputs": [],
   "source": [
    "rho_test = np.load('rho_atom_g.npy')\n",
    "print(rho_test)\n",
    "print(rho.g)\n",
    "print(np.abs(rho.g - rho_test))"
   ]
  },
  {
   "cell_type": "code",
   "execution_count": null,
   "id": "c76e16df-c699-42fe-a564-ddde6920727c",
   "metadata": {},
   "outputs": [],
   "source": [
    "from quantum_masala.pw.pot import Hartree, ExchCorr, Ionic\n",
    "from quantum_masala.pw.pot import compute_ewald_en\n",
    "\n",
    "vhart = Hartree(rho)\n",
    "vxc = ExchCorr(rho, 'gga_x_pbe', 'gga_c_pbe')\n",
    "vion = Ionic(rho, l_pploc)\n",
    "e_ewald = compute_ewald_en(crystal, rho.grho)\n",
    "\n",
    "print(f\"Ewald Energy: {e_ewald*2} Ry\")"
   ]
  },
  {
   "cell_type": "code",
   "execution_count": null,
   "id": "4ab5beab-cf5e-46ed-8b37-24d05e67076f",
   "metadata": {},
   "outputs": [],
   "source": [
    "from quantum_masala.pw.occ import SmearMod\n",
    "from quantum_masala.core.constants import eV, E_ryd\n",
    "\n",
    "occ_mod = SmearMod(WfnK, crystal.numel, \"gauss\", 0.01*E_ryd) \n",
    "print(occ_mod.degauss)"
   ]
  },
  {
   "cell_type": "code",
   "execution_count": null,
   "id": "37bfdec2-4d36-4f50-9abf-3f89198babec",
   "metadata": {},
   "outputs": [],
   "source": [
    "from quantum_masala.pw.ham import HamK\n",
    "from quantum_masala.pw.eigsolve.david import david_solve\n",
    "\n",
    "vbare_g0 = vion.g[0] / np.prod(vion.grho.grid_shape)\n",
    "\n",
    "def compute_vloc_r():\n",
    "    vhart.compute()\n",
    "    vxc.compute()\n",
    "    return vion.r + vhart.r + vxc.r\n",
    "\n",
    "vloc_r = compute_vloc_r()\n",
    "for ik, wfnk in enumerate(l_wfnk):\n",
    "    #print(ik)\n",
    "    hamk = HamK(wfnk, vloc_r, l_ppnl)\n",
    "    for isp in range(wfnk.numspin):\n",
    "        david_solve(wfnk, hamk, isp, 1E-2, vbare_g0)\n",
    "    #print(wfnk.evl / eV)"
   ]
  },
  {
   "cell_type": "code",
   "execution_count": null,
   "id": "48c24fb5-e040-4631-a0f3-c0d5d1dc87bd",
   "metadata": {},
   "outputs": [],
   "source": [
    "l_wfnk = occ_mod.compute(l_wfnk)\n",
    "for ik, wfnk in enumerate(l_wfnk):\n",
    "    print(ik)\n",
    "    print(wfnk.occ)\n",
    "    print(wfnk.evl)\n",
    "rho_wfn.update(l_wfnk)"
   ]
  },
  {
   "cell_type": "code",
   "execution_count": null,
   "id": "78b2dc17-df15-44f2-aa9a-5881aecbfba9",
   "metadata": {},
   "outputs": [],
   "source": [
    "from quantum_masala.pw.mix import GenBroyden\n",
    "\n",
    "mix_mod = GenBroyden(rho, rho_wfn, 0.7, 8)"
   ]
  },
  {
   "cell_type": "code",
   "execution_count": null,
   "id": "042f3a1e-a05a-4728-b326-479c91a4bf92",
   "metadata": {},
   "outputs": [],
   "source": [
    "e_err = mix_mod.compute_error(rho, rho_wfn)\n",
    "print(e_err)"
   ]
  },
  {
   "cell_type": "code",
   "execution_count": null,
   "id": "783a81e4-fdbe-4713-8755-6a0ed50e3aa1",
   "metadata": {},
   "outputs": [],
   "source": [
    "from quantum_masala.core.constants import E_ryd\n",
    "\n",
    "diago_thr = 1E-2\n",
    "conv_thr = 1E-10\n",
    "scf_converged = False\n",
    "\n",
    "idxiter = 0\n",
    "while not scf_converged:\n",
    "    vloc_r = compute_vloc_r()\n",
    "    for ik, wfnk in enumerate(l_wfnk):\n",
    "        #print(ik)\n",
    "        hamk = HamK(wfnk, vloc_r, l_ppnl)\n",
    "        for isp in range(wfnk.numspin):\n",
    "            david_solve(wfnk, hamk, isp, diago_thr, vbare_g0)\n",
    "            \n",
    "    l_wfnk = occ_mod.compute(l_wfnk)\n",
    "    rho_wfn = rho_wfn.update(l_wfnk)\n",
    "    \n",
    "    idxiter += 1\n",
    "    print(f\"Iter #{idxiter}\")\n",
    "    e_err = mix_mod.compute_error(rho, rho_wfn)\n",
    "    print(f\"Diago Thr = {diago_thr}, Error = {e_err}\")\n",
    "    \n",
    "    if e_err < conv_thr * E_ryd:\n",
    "        scf_converged = True\n",
    "    if idxiter == 1 and e_err < diago_thr * max(1.0, rho.numel):\n",
    "        print(\"Large diago_thr\")\n",
    "        diago_thr = 0.1 * e_err / max(1.0, rho.numel)\n",
    "    else:\n",
    "        diago_thr = min(0.1 * e_err / max(1.0, rho.numel), diago_thr)\n",
    "        diago_thr = max(diago_thr, 1e-13)\n",
    "        rho = mix_mod.mix(rho, rho_wfn)\n",
    "    \n",
    "    print(f\"Hart: {vhart.en / E_ryd} Ry\")\n",
    "    print(f\"XC: {vxc.en / E_ryd} Ry\")"
   ]
  },
  {
   "cell_type": "code",
   "execution_count": null,
   "id": "8f91ee2a-734a-41c9-92af-f917a9725214",
   "metadata": {},
   "outputs": [],
   "source": []
  }
 ],
 "metadata": {
  "kernelspec": {
   "display_name": "Python 3 (ipykernel)",
   "language": "python",
   "name": "python3"
  },
  "language_info": {
   "codemirror_mode": {
    "name": "ipython",
    "version": 3
   },
   "file_extension": ".py",
   "mimetype": "text/x-python",
   "name": "python",
   "nbconvert_exporter": "python",
   "pygments_lexer": "ipython3",
   "version": "3.10.4"
  }
 },
 "nbformat": 4,
 "nbformat_minor": 5
}
