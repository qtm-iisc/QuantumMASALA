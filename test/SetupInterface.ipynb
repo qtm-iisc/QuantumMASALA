{
 "cells": [
  {
   "cell_type": "code",
   "execution_count": null,
   "id": "f6a1c35a-c2bd-4bb8-83b2-29417928b60b",
   "metadata": {},
   "outputs": [],
   "source": [
    "%load_ext autoreload\n",
    "%autoreload 2"
   ]
  },
  {
   "cell_type": "code",
   "execution_count": 2,
   "id": "ac7858fb-012c-4dba-82b9-68c6e69472fb",
   "metadata": {},
   "outputs": [],
   "source": [
    "import numpy as np\n",
    "np.set_printoptions(precision=5, suppress=True)"
   ]
  },
  {
   "cell_type": "code",
   "execution_count": 3,
   "id": "824995fd-17f7-46db-8bc2-3e619c43dc42",
   "metadata": {},
   "outputs": [],
   "source": [
    "from quantum_masala.core import RealLattice, UPFv2Data, AtomBasis, Crystal\n",
    "from quantum_masala.core.constants import angstrom, E_ryd, E_ryd_SI, eV\n",
    "\n",
    "reallat = RealLattice.from_alat(5.1070, [0.5, 0.5, 0.5], [-0.5, 0.5, 0.5], [-0.5, -0.5, 0.5])\n",
    "\n",
    "fe_oncv = UPFv2Data.from_file('fe', './fe/Fe_ONCV_PBE-1.2.upf')\n",
    "\n",
    "fe_atoms = AtomBasis.from_cart(reallat, 'fe', 55.487, fe_oncv, [0., 0., 0.])\n",
    "\n",
    "crystal = Crystal(reallat, [fe_atoms])"
   ]
  },
  {
   "cell_type": "code",
   "execution_count": 4,
   "id": "75e65384-6992-4a0c-a8b7-432c138dd695",
   "metadata": {},
   "outputs": [
    {
     "name": "stdout",
     "output_type": "stream",
     "text": [
      "alat = 5.107\n",
      "Axes of real space in cartesian\n",
      "a(1) = [2.5535 2.5535 2.5535]\n",
      "a(2) = [-2.5535  2.5535  2.5535]\n",
      "a(3) = [-2.5535 -2.5535  2.5535]\n",
      "\n",
      "Axes of real space in alat\n",
      "a(1) = [0.5 0.5 0.5]\n",
      "a(2) = [-0.5  0.5  0.5]\n",
      "a(3) = [-0.5 -0.5  0.5]\n",
      "----------------------------------------\n",
      "\n",
      "tpiba = 1.2303084603837058\n",
      "Axes of reciprocal space in tpiba\n",
      "b(1) = [1. 0. 1.]\n",
      "b(2) = [-1.  1.  0.]\n",
      "b(3) = [ 0. -1.  1.]\n",
      "\n",
      "Axes of reciprocal space in cart\n",
      "b(1) = [1.23031 0.      1.23031]\n",
      "b(2) = [-1.23031  1.23031  0.     ]\n",
      "b(3) = [ 0.      -1.23031  1.23031]\n",
      "----------------------------------------\n",
      "\n",
      "Label: fe\n",
      "PseudoPot File: Fe_ONCV_PBE-1.2.upf\n",
      "numatoms:1\n",
      "coords: \n",
      "[[0. 0. 0.]]\n",
      "\n",
      "numel: 16.0\n",
      "----------------------------------------\n",
      "\n"
     ]
    }
   ],
   "source": [
    "reallat = crystal.reallat\n",
    "recilat = crystal.recilat\n",
    "\n",
    "print(f\"alat = {reallat.alat}\")\n",
    "print(\"Axes of real space in cartesian\")\n",
    "for i, ai in enumerate(reallat.axes_cart):\n",
    "    print(f\"a({i+1}) = {ai}\")\n",
    "print()\n",
    "print(\"Axes of real space in alat\")\n",
    "for i, ai in enumerate(reallat.axes_alat):\n",
    "    print(f\"a({i+1}) = {ai}\")\n",
    "print('-'*40)\n",
    "print()\n",
    "\n",
    "\n",
    "print(f\"tpiba = {recilat.tpiba}\")\n",
    "print(\"Axes of reciprocal space in tpiba\")\n",
    "for i, bi in enumerate(recilat.axes_tpiba):\n",
    "    print(f\"b({i+1}) = {bi}\")\n",
    "print()\n",
    "print(\"Axes of reciprocal space in cart\")\n",
    "for i, bi in enumerate(recilat.axes_cart):\n",
    "    print(f\"b({i+1}) = {bi}\")\n",
    "print('-'*40)\n",
    "print()\n",
    "\n",
    "for sp in crystal.l_species:\n",
    "    print(f\"Label: {sp.label}\")\n",
    "    print(f\"PseudoPot File: {sp.ppdata.filename}\")\n",
    "    print(f\"numatoms:{sp.numatoms}\")\n",
    "    print(f\"coords: \\n{sp.cryst.T}\")\n",
    "    print()\n",
    "print(f\"numel: {crystal.numel}\")\n",
    "print('-'*40)\n",
    "print()\n"
   ]
  },
  {
   "cell_type": "code",
   "execution_count": 5,
   "id": "f6f5931b-71e3-4959-b333-02ab0bc5830a",
   "metadata": {},
   "outputs": [
    {
     "name": "stdout",
     "output_type": "stream",
     "text": [
      "(18, 18, 18)\n",
      "2243\n"
     ]
    }
   ],
   "source": [
    "from quantum_masala.core import KPoints, GSpace\n",
    "\n",
    "grho = GSpace(crystal.recilat, 80)\n",
    "print(grho.grid_shape)\n",
    "print(grho.numg)"
   ]
  },
  {
   "cell_type": "code",
   "execution_count": 6,
   "id": "c93b1f8e-b796-4b73-8498-6c7ac16c5b70",
   "metadata": {},
   "outputs": [],
   "source": [
    "from quantum_masala.core import Rho\n",
    "\n",
    "numspin = 2\n",
    "rho = Rho(crystal, grho, numspin)"
   ]
  },
  {
   "cell_type": "code",
   "execution_count": 7,
   "id": "1fe5c792-6de1-4260-b666-f491d168be39",
   "metadata": {
    "tags": []
   },
   "outputs": [
    {
     "name": "stdout",
     "output_type": "stream",
     "text": [
      "[[ 0.     0.     0.   ]\n",
      " [ 0.125  0.     0.   ]\n",
      " [ 0.25   0.     0.   ]\n",
      " [ 0.375  0.     0.   ]\n",
      " [ 0.5    0.     0.   ]\n",
      " [ 0.25   0.125  0.   ]\n",
      " [ 0.375  0.125  0.   ]\n",
      " [ 0.5    0.125  0.   ]\n",
      " [ 0.5    0.25   0.   ]\n",
      " [-0.375  0.25   0.   ]\n",
      " [ 0.125  0.125  0.125]\n",
      " [ 0.25   0.125  0.125]\n",
      " [ 0.375  0.125  0.125]\n",
      " [ 0.5    0.125  0.125]\n",
      " [ 0.375  0.25   0.125]\n",
      " [ 0.5    0.25   0.125]\n",
      " [ 0.125  0.375  0.125]\n",
      " [-0.375  0.375  0.125]\n",
      " [ 0.125  0.5    0.125]\n",
      " [ 0.125 -0.375  0.125]\n",
      " [ 0.25  -0.375  0.125]\n",
      " [ 0.25   0.25   0.25 ]\n",
      " [ 0.375  0.25   0.25 ]\n",
      " [ 0.5    0.25   0.25 ]\n",
      " [ 0.5    0.375  0.25 ]\n",
      " [ 0.25  -0.25   0.25 ]\n",
      " [ 0.375  0.375  0.375]\n",
      " [ 0.5    0.375  0.375]\n",
      " [ 0.5    0.5    0.5  ]] [0.00195 0.02344 0.02344 0.02344 0.01172 0.04688 0.09375 0.09375 0.04688\n",
      " 0.04688 0.01172 0.04688 0.04688 0.02344 0.04688 0.09375 0.01562 0.01562\n",
      " 0.04688 0.02344 0.04688 0.01172 0.04688 0.02344 0.04688 0.00391 0.01172\n",
      " 0.02344 0.00195]\n"
     ]
    }
   ],
   "source": [
    "from quantum_masala.core import KPoints\n",
    "\n",
    "kpts = KPoints.mpgrid(crystal, [8, 8, 8], [False, False, False])\n",
    "print(kpts.cryst.T, kpts.weights)"
   ]
  },
  {
   "cell_type": "code",
   "execution_count": 8,
   "id": "0a9eff93-3aa1-4fe8-a893-84ac33dac1b1",
   "metadata": {
    "jupyter": {
     "source_hidden": true
    },
    "tags": []
   },
   "outputs": [
    {
     "name": "stdout",
     "output_type": "stream",
     "text": [
      "[[ 0.     0.     0.   ]\n",
      " [ 0.     0.     0.125]\n",
      " [ 0.     0.     0.25 ]\n",
      " [ 0.     0.     0.375]\n",
      " [ 0.     0.    -0.5  ]\n",
      " [ 0.     0.125  0.25 ]\n",
      " [ 0.     0.125  0.375]\n",
      " [ 0.     0.125 -0.5  ]\n",
      " [ 0.     0.25  -0.5  ]\n",
      " [ 0.     0.25  -0.375]\n",
      " [ 0.125  0.125  0.125]\n",
      " [ 0.125  0.125  0.25 ]\n",
      " [ 0.125  0.125  0.375]\n",
      " [ 0.125  0.125 -0.5  ]\n",
      " [ 0.125  0.25   0.375]\n",
      " [ 0.125  0.25  -0.5  ]\n",
      " [ 0.125  0.375  0.125]\n",
      " [ 0.125  0.375 -0.375]\n",
      " [ 0.125 -0.5    0.125]\n",
      " [ 0.125 -0.375  0.125]\n",
      " [ 0.125 -0.375  0.25 ]\n",
      " [ 0.25   0.25   0.25 ]\n",
      " [ 0.25   0.25   0.375]\n",
      " [ 0.25   0.25  -0.5  ]\n",
      " [ 0.25   0.375 -0.5  ]\n",
      " [ 0.25  -0.25   0.25 ]\n",
      " [ 0.375  0.375  0.375]\n",
      " [ 0.375  0.375 -0.5  ]\n",
      " [-0.5   -0.5   -0.5  ]] [0.00195 0.02344 0.02344 0.02344 0.01172 0.04687 0.09375 0.09375 0.04687\n",
      " 0.04687 0.01172 0.04687 0.04687 0.02344 0.04687 0.09375 0.01562 0.01562\n",
      " 0.04687 0.02344 0.04687 0.01172 0.04687 0.02344 0.04687 0.00391 0.01172\n",
      " 0.02344 0.00195]\n"
     ]
    }
   ],
   "source": [
    "kpts = KPoints.from_tpiba(recilat,\n",
    "                          ([   0.0000000,   0.0000000,   0.0000000],  0.0019531),\n",
    "                          ([   0.0000000,  -0.1250000,   0.1250000],  0.0234375),\n",
    "                          ([   0.0000000,  -0.2500000,   0.2500000],  0.0234375),\n",
    "                          ([   0.0000000,  -0.3750000,   0.3750000],  0.0234375),\n",
    "                          ([   0.0000000,   0.5000000,  -0.5000000],  0.0117188),\n",
    "                          ([  -0.1250000,  -0.1250000,   0.2500000],  0.0468750),\n",
    "                          ([  -0.1250000,  -0.2500000,   0.3750000],  0.0937500),\n",
    "                          ([  -0.1250000,   0.6250000,  -0.5000000],  0.0937500),\n",
    "                          ([  -0.2500000,   0.7500000,  -0.5000000],  0.0468750),\n",
    "                          ([  -0.2500000,   0.6250000,  -0.3750000],  0.0468750),\n",
    "                          ([   0.0000000,   0.0000000,   0.2500000],  0.0117188),\n",
    "                          ([   0.0000000,  -0.1250000,   0.3750000],  0.0468750),\n",
    "                          ([   0.0000000,  -0.2500000,   0.5000000],  0.0468750),\n",
    "                          ([   0.0000000,   0.6250000,  -0.3750000],  0.0234375),\n",
    "                          ([  -0.1250000,  -0.1250000,   0.5000000],  0.0468750),\n",
    "                          ([  -0.1250000,   0.7500000,  -0.3750000],  0.0937500),\n",
    "                          ([  -0.2500000,   0.2500000,   0.2500000],  0.0156250),\n",
    "                          ([  -0.2500000,   0.7500000,  -0.2500000],  0.0156250),\n",
    "                          ([   0.6250000,  -0.6250000,   0.2500000],  0.0468750),\n",
    "                          ([   0.5000000,  -0.5000000,   0.2500000],  0.0234375),\n",
    "                          ([   0.5000000,  -0.6250000,   0.3750000],  0.0468750),\n",
    "                          ([   0.0000000,   0.0000000,   0.5000000],  0.0117188),\n",
    "                          ([   0.0000000,  -0.1250000,   0.6250000],  0.0468750),\n",
    "                          ([   0.0000000,   0.7500000,  -0.2500000],  0.0234375),\n",
    "                          ([  -0.1250000,   0.8750000,  -0.2500000],  0.0468750),\n",
    "                          ([   0.5000000,  -0.5000000,   0.5000000],  0.0039062),\n",
    "                          ([   0.0000000,   0.0000000,   0.7500000],  0.0117188),\n",
    "                          ([   0.0000000,   0.8750000,  -0.1250000],  0.0234375),\n",
    "                          ([   0.0000000,   0.0000000,  -1.0000000],  0.0019531)\n",
    "                         )\n",
    "\n",
    "print(kpts.cryst.T, kpts.weights)"
   ]
  },
  {
   "cell_type": "code",
   "execution_count": 9,
   "id": "473d0faa-659d-46bf-89c4-718857a3b072",
   "metadata": {
    "tags": []
   },
   "outputs": [],
   "source": [
    "from quantum_masala.core import KPointsKgrp, WavefunK, Wfn2Rho\n",
    "\n",
    "numbnd = 12\n",
    "\n",
    "WfnK = WavefunK(rho.grho, numspin, numbnd)\n",
    "\n",
    "kpts_kgrp = KPointsKgrp(kpts)\n",
    "#print(kpts_kgrp.cryst)\n",
    "l_wfnk = [WfnK(k_cryst, k_weight, ik) for ik, (k_cryst, k_weight) in enumerate(kpts_kgrp)]\n",
    "for wfnk in l_wfnk:\n",
    "    #print(wfnk.gwfc.numgk)\n",
    "    wfnk.init_random_wfc()\n",
    "\n",
    "rho_wfn = Wfn2Rho(crystal, WfnK)"
   ]
  },
  {
   "cell_type": "code",
   "execution_count": 10,
   "id": "28c96b76-6328-4f52-8ac8-f20c29a864b4",
   "metadata": {},
   "outputs": [
    {
     "name": "stdout",
     "output_type": "stream",
     "text": [
      "(2, 12)\n",
      "(2, 12)\n",
      "(2, 12, 321)\n"
     ]
    }
   ],
   "source": [
    "wfnk = l_wfnk[0]\n",
    "print(wfnk.evl.shape)\n",
    "print(wfnk.occ.shape)\n",
    "print(wfnk.evc_gk.shape)"
   ]
  },
  {
   "cell_type": "code",
   "execution_count": 11,
   "id": "be04fbc7-945d-4627-8590-7d51603b71fa",
   "metadata": {},
   "outputs": [
    {
     "name": "stdout",
     "output_type": "stream",
     "text": [
      "(3, 1) (3, 2243)\n"
     ]
    }
   ],
   "source": [
    "from quantum_masala.pw.pot import PPDataLocal, PPDataNonLocal\n",
    "\n",
    "l_pploc = [PPDataLocal(sp, rho.grho) for sp in crystal.l_species]\n",
    "l_ppnl = [PPDataNonLocal(sp, WfnK.gspc) for sp in crystal.l_species]"
   ]
  },
  {
   "cell_type": "code",
   "execution_count": 12,
   "id": "c7e12558-5824-4a52-9a22-5785c0e44ef1",
   "metadata": {},
   "outputs": [
    {
     "name": "stderr",
     "output_type": "stream",
     "text": [
      "/home/lightpeak008/QuantumMASALA/src/quantum_masala/core/rho.py:164: UserWarning: total charge renormalized from (15.954991497665835+0j) to 16.0\n",
      "  warn(f\"total charge renormalized from {rho_int} to {self.numel}\")\n"
     ]
    }
   ],
   "source": [
    "mag_start = [0.1, ]\n",
    "\n",
    "if numspin == 2:\n",
    "    rho_g = np.zeros((2, grho.numg), dtype=\"c16\")\n",
    "    for isp, pploc in enumerate(l_pploc):\n",
    "        rho_g[0] += pploc.rhoatomic_g * (1 + mag_start[isp]) / 2\n",
    "        rho_g[1] += pploc.rhoatomic_g * (1 - mag_start[isp]) / 2\n",
    "else:\n",
    "    rho_g = sum(pploc.rhoatomic_g for pploc in l_pploc).reshape(1, grho.numg)\n",
    "\n",
    "rho.update(rho_g)"
   ]
  },
  {
   "cell_type": "code",
   "execution_count": 13,
   "id": "c76e16df-c699-42fe-a564-ddde6920727c",
   "metadata": {},
   "outputs": [
    {
     "name": "stdout",
     "output_type": "stream",
     "text": [
      "Ewald Energy: -182.4248606387626 Ry\n"
     ]
    }
   ],
   "source": [
    "from quantum_masala.pw.pot import Hartree, ExchCorr, Ionic\n",
    "from quantum_masala.pw.pot import compute_ewald_en\n",
    "\n",
    "vhart = Hartree(rho)\n",
    "vxc = ExchCorr(rho, 'gga_x_pbe', 'gga_c_pbe')\n",
    "vion = Ionic(rho, l_pploc)\n",
    "e_ewald = compute_ewald_en(crystal, rho.grho)\n",
    "\n",
    "print(f\"Ewald Energy: {e_ewald*2} Ry\")"
   ]
  },
  {
   "cell_type": "code",
   "execution_count": 14,
   "id": "4ab5beab-cf5e-46ed-8b37-24d05e67076f",
   "metadata": {},
   "outputs": [
    {
     "name": "stdout",
     "output_type": "stream",
     "text": [
      "0.005\n"
     ]
    }
   ],
   "source": [
    "from quantum_masala.pw.occ import SmearMod\n",
    "from quantum_masala.core.constants import eV, E_ryd\n",
    "\n",
    "occ_mod = SmearMod(WfnK, crystal.numel, \"gauss\", 0.01*E_ryd) \n",
    "print(occ_mod.degauss)"
   ]
  },
  {
   "cell_type": "code",
   "execution_count": 15,
   "id": "37bfdec2-4d36-4f50-9abf-3f89198babec",
   "metadata": {},
   "outputs": [],
   "source": [
    "from quantum_masala.pw.ham import HamK\n",
    "from quantum_masala.pw.eigsolve.david import david_solve\n",
    "\n",
    "vbare_g0 = vion.g[0] / np.prod(vion.grho.grid_shape)\n",
    "\n",
    "def compute_vloc_r():\n",
    "    vhart.compute()\n",
    "    vxc.compute()\n",
    "    return vion.r + vhart.r + vxc.r\n",
    "\n",
    "vloc_r = compute_vloc_r()\n",
    "for ik, wfnk in enumerate(l_wfnk):\n",
    "    #print(ik)\n",
    "    hamk = HamK(wfnk, vloc_r, l_ppnl)\n",
    "    for isp in range(wfnk.numspin):\n",
    "        david_solve(wfnk, hamk, isp, 1E-2, vbare_g0)\n",
    "    #print(wfnk.evl / eV)"
   ]
  },
  {
   "cell_type": "code",
   "execution_count": 16,
   "id": "78b2dc17-df15-44f2-aa9a-5881aecbfba9",
   "metadata": {},
   "outputs": [],
   "source": [
    "from quantum_masala.pw.mix import GenBroyden\n",
    "\n",
    "mix_mod = GenBroyden(rho, rho_wfn, 0.7, 8)"
   ]
  },
  {
   "cell_type": "code",
   "execution_count": 17,
   "id": "042f3a1e-a05a-4728-b326-479c91a4bf92",
   "metadata": {},
   "outputs": [
    {
     "name": "stdout",
     "output_type": "stream",
     "text": [
      "46.6689628667685\n"
     ]
    }
   ],
   "source": [
    "e_err = mix_mod.compute_error(rho, rho_wfn)\n",
    "print(e_err)"
   ]
  },
  {
   "cell_type": "code",
   "execution_count": 18,
   "id": "783a81e4-fdbe-4713-8755-6a0ed50e3aa1",
   "metadata": {},
   "outputs": [
    {
     "name": "stdout",
     "output_type": "stream",
     "text": [
      "Iter #1\n",
      "Diago Thr = 0.01, Error = 0.3142553187413723\n",
      "Hart: (51.91689658472798+3.7265230980548576e-16j) Ry\n",
      "XC: (-25.312333820651002-1.466693004227097e-17j) Ry\n",
      "Iter #2\n",
      "Diago Thr = 0.001964095742133577, Error = 0.12998478554876652\n",
      "Hart: (46.888074664646595+6.651160776643427e-16j) Ry\n",
      "XC: (-24.56161956040305-6.955367049811682e-17j) Ry\n",
      "Iter #3\n",
      "Diago Thr = 0.0008124049096797908, Error = 0.01702749349178481\n",
      "Hart: (49.63510281806816+5.309613362370739e-16j) Ry\n",
      "XC: (-25.011129901137192-2.167657729387797e-17j) Ry\n",
      "Iter #4\n",
      "Diago Thr = 0.00010642183432365506, Error = 0.000371379873741049\n",
      "Hart: (49.01197243814577+4.331423508207104e-16j) Ry\n",
      "XC: (-24.935019704722922-6.503383597249336e-17j) Ry\n",
      "Iter #5\n",
      "Diago Thr = 2.3211242108815564e-06, Error = 4.107253594686747e-05\n",
      "Hart: (49.08011350847995+2.1429297511763278e-16j) Ry\n",
      "XC: (-24.947304122973286-1.3677402786478499e-17j) Ry\n",
      "Iter #6\n",
      "Diago Thr = 2.567033496679217e-07, Error = 2.2334494239749505e-06\n",
      "Hart: (49.09859019927653+4.984196022776245e-16j) Ry\n",
      "XC: (-24.950848941039627-4.465608837041156e-17j) Ry\n",
      "Iter #7\n",
      "Diago Thr = 1.3959058899843441e-08, Error = 8.34612761960991e-07\n",
      "Hart: (49.095611157415625+1.1771971857573262e-15j) Ry\n",
      "XC: (-24.950500599086308-1.0584644797802198e-16j) Ry\n",
      "Iter #8\n",
      "Diago Thr = 5.216329762256194e-09, Error = 8.824990998982331e-09\n",
      "Hart: (49.09544447634631+1.1044934623219755e-15j) Ry\n",
      "XC: (-24.950643144327717-8.111569224934274e-17j) Ry\n",
      "Iter #9\n",
      "Diago Thr = 5.515619374363957e-11, Error = 2.037849454648422e-09\n",
      "Hart: (49.09584367331539+1.1564545236798674e-16j) Ry\n",
      "XC: (-24.950712033863773+1.5477577013822645e-17j) Ry\n",
      "Iter #10\n",
      "Diago Thr = 1.2736559091552638e-11, Error = 1.4490937874583396e-11\n",
      "Hart: (49.095799586999306+7.186953767522262e-16j) Ry\n",
      "XC: (-24.950713926122653-4.7495469714276876e-17j) Ry\n"
     ]
    }
   ],
   "source": [
    "from quantum_masala.core.constants import E_ryd\n",
    "\n",
    "diago_thr = 1E-2\n",
    "conv_thr = 1E-10\n",
    "scf_converged = False\n",
    "\n",
    "idxiter = 0\n",
    "while not scf_converged:\n",
    "    vloc_r = compute_vloc_r()\n",
    "    for ik, wfnk in enumerate(l_wfnk):\n",
    "        #print(ik)\n",
    "        hamk = HamK(wfnk, vloc_r, l_ppnl)\n",
    "        for isp in range(wfnk.numspin):\n",
    "            david_solve(wfnk, hamk, isp, diago_thr, vbare_g0)\n",
    "            \n",
    "    l_wfnk = occ_mod.compute(l_wfnk)\n",
    "    rho_wfn = rho_wfn.update(l_wfnk)\n",
    "    \n",
    "    idxiter += 1\n",
    "    print(f\"Iter #{idxiter}\")\n",
    "    e_err = mix_mod.compute_error(rho, rho_wfn)\n",
    "    print(f\"Diago Thr = {diago_thr}, Error = {e_err}\")\n",
    "    \n",
    "    if e_err < conv_thr * E_ryd:\n",
    "        scf_converged = True\n",
    "    if idxiter == 1 and e_err < diago_thr * max(1.0, rho.numel):\n",
    "        print(\"Large diago_thr\")\n",
    "        diago_thr = 0.1 * e_err / max(1.0, rho.numel)\n",
    "    else:\n",
    "        diago_thr = min(0.1 * e_err / max(1.0, rho.numel), diago_thr)\n",
    "        diago_thr = max(diago_thr, 1e-13)\n",
    "        rho = mix_mod.mix(rho, rho_wfn)\n",
    "    \n",
    "    print(f\"Hart: {vhart.en / E_ryd} Ry\")\n",
    "    print(f\"XC: {vxc.en / E_ryd} Ry\")"
   ]
  },
  {
   "cell_type": "code",
   "execution_count": null,
   "id": "8f91ee2a-734a-41c9-92af-f917a9725214",
   "metadata": {},
   "outputs": [],
   "source": []
  }
 ],
 "metadata": {
  "kernelspec": {
   "display_name": "Python 3 (ipykernel)",
   "language": "python",
   "name": "python3"
  },
  "language_info": {
   "codemirror_mode": {
    "name": "ipython",
    "version": 3
   },
   "file_extension": ".py",
   "mimetype": "text/x-python",
   "name": "python",
   "nbconvert_exporter": "python",
   "pygments_lexer": "ipython3",
   "version": "3.10.4"
  }
 },
 "nbformat": 4,
 "nbformat_minor": 5
}
