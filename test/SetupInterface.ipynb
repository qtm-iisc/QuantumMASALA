{
 "cells": [
  {
   "cell_type": "code",
   "execution_count": 1,
   "id": "f6a1c35a-c2bd-4bb8-83b2-29417928b60b",
   "metadata": {},
   "outputs": [],
   "source": [
    "%load_ext autoreload\n",
    "%autoreload 2"
   ]
  },
  {
   "cell_type": "code",
   "execution_count": 15,
   "id": "ac7858fb-012c-4dba-82b9-68c6e69472fb",
   "metadata": {},
   "outputs": [],
   "source": [
    "import numpy as np\n",
    "np.set_printoptions(precision=3, suppress=True)"
   ]
  },
  {
   "cell_type": "code",
   "execution_count": 16,
   "id": "824995fd-17f7-46db-8bc2-3e619c43dc42",
   "metadata": {},
   "outputs": [],
   "source": [
    "from quantum_masala.core import RealLattice, UPFv2Data, AtomBasis, Crystal\n",
    "\n",
    "reallat = RealLattice.from_axes_alat(5.1070, [0.5, 0.5, 0.5], [-0.5, 0.5, 0.5], [-0.5, -0.5, 0.5])\n",
    "\n",
    "fe_oncv = UPFv2Data.read('fe', './fe/Fe_ONCV_PBE-1.2.upf')\n",
    "fe_atoms = AtomBasis(reallat, fe_oncv, 55.847, [[0., 0., 0.]])\n",
    "crystal = Crystal(reallat, [fe_atoms])"
   ]
  },
  {
   "cell_type": "code",
   "execution_count": 17,
   "id": "75e65384-6992-4a0c-a8b7-432c138dd695",
   "metadata": {},
   "outputs": [
    {
     "name": "stdout",
     "output_type": "stream",
     "text": [
      "alat = 5.107\n",
      "Axes of real space in cartesian\n",
      "a(1) = [2.554 2.554 2.554]\n",
      "a(2) = [-2.554  2.554  2.554]\n",
      "a(3) = [-2.554 -2.554  2.554]\n",
      "\n",
      "Axes of real space in alat\n",
      "a(1) = [0.5 0.5 0.5]\n",
      "a(2) = [-0.5  0.5  0.5]\n",
      "a(3) = [-0.5 -0.5  0.5]\n",
      "\n",
      "----------------------------------------\n",
      "tpiba = 1.2303084603837058\n",
      "Axes of real space in tpiba\n",
      "b(1) = [1. 0. 1.]\n",
      "b(2) = [-1.  1.  0.]\n",
      "b(3) = [ 0. -1.  1.]\n",
      "\n",
      "Axes of real space in cart\n",
      "b(1) = [1.23 0.   1.23]\n",
      "b(2) = [-1.23  1.23  0.  ]\n",
      "b(3) = [ 0.   -1.23  1.23]\n",
      "\n"
     ]
    }
   ],
   "source": [
    "recilat = crystal.recilat\n",
    "\n",
    "print(f\"alat = {reallat.alat}\")\n",
    "print(\"Axes of real space in cartesian\")\n",
    "for i, ai in enumerate(reallat.axes_cart):\n",
    "    print(f\"a({i+1}) = {ai}\")\n",
    "print()\n",
    "print(\"Axes of real space in alat\")\n",
    "for i, ai in enumerate(reallat.axes_alat):\n",
    "    print(f\"a({i+1}) = {ai}\")\n",
    "\n",
    "print()\n",
    "print('-'*40)\n",
    "\n",
    "print(f\"tpiba = {recilat.tpiba}\")\n",
    "print(\"Axes of real space in tpiba\")\n",
    "for i, bi in enumerate(recilat.axes_tpiba):\n",
    "    print(f\"b({i+1}) = {bi}\")\n",
    "print()\n",
    "print(\"Axes of real space in cart\")\n",
    "for i, bi in enumerate(recilat.axes_cart):\n",
    "    print(f\"b({i+1}) = {bi}\")\n",
    "print()"
   ]
  },
  {
   "cell_type": "code",
   "execution_count": 19,
   "id": "53189f47-fda1-49bd-8966-a783b74b2695",
   "metadata": {},
   "outputs": [
    {
     "name": "stdout",
     "output_type": "stream",
     "text": [
      "[[ 1.23 -1.23  0.  ]\n",
      " [ 0.    1.23 -1.23]\n",
      " [ 1.23  0.    1.23]]\n"
     ]
    }
   ],
   "source": [
    "print(recilat.recvec)"
   ]
  },
  {
   "cell_type": "code",
   "execution_count": 32,
   "id": "f6f5931b-71e3-4959-b333-02ab0bc5830a",
   "metadata": {},
   "outputs": [
    {
     "name": "stdout",
     "output_type": "stream",
     "text": [
      "(18, 18, 18)\n"
     ]
    }
   ],
   "source": [
    "from quantum_masala.core import KPoints, GSpace\n",
    "\n",
    "grho = GSpace(crystal.recilat, 80 * np.sqrt(2))\n",
    "print(grho.grid_shape)"
   ]
  },
  {
   "cell_type": "code",
   "execution_count": 33,
   "id": "ab6a1b08-98ec-4855-85a2-37093e803448",
   "metadata": {},
   "outputs": [
    {
     "name": "stdout",
     "output_type": "stream",
     "text": [
      "[18, 18, 18]\n"
     ]
    }
   ],
   "source": [
    "PI = 3.141592\n",
    "latvec = crystal.reallat.latvec\n",
    "ecutwfc = 20\n",
    "n1 = int(np.ceil(2 * np.sqrt(2 * ecutwfc) / PI * np.linalg.norm(latvec[:, 0])))\n",
    "n2 = int(np.ceil(2 * np.sqrt(2 * ecutwfc) / PI * np.linalg.norm(latvec[:, 1])))\n",
    "n3 = int(np.ceil(2 * np.sqrt(2 * ecutwfc) / PI * np.linalg.norm(latvec[:, 2])))\n",
    "\n",
    "good_primes = [2, 3, 5]\n",
    "\n",
    "n_new = []\n",
    "for ni in [n1, n2, n3]:\n",
    "    is_good = False\n",
    "    while not is_good:\n",
    "        n = ni\n",
    "        for prime in good_primes:\n",
    "            while n % prime == 0:\n",
    "                n = n / prime\n",
    "        if n == 1:\n",
    "            is_good = True\n",
    "        else:\n",
    "            ni += 1\n",
    "    n_new.append(ni)\n",
    "\n",
    "print(n_new)"
   ]
  },
  {
   "cell_type": "code",
   "execution_count": null,
   "id": "c93b1f8e-b796-4b73-8498-6c7ac16c5b70",
   "metadata": {},
   "outputs": [],
   "source": []
  }
 ],
 "metadata": {
  "kernelspec": {
   "display_name": "Python 3 (ipykernel)",
   "language": "python",
   "name": "python3"
  },
  "language_info": {
   "codemirror_mode": {
    "name": "ipython",
    "version": 3
   },
   "file_extension": ".py",
   "mimetype": "text/x-python",
   "name": "python",
   "nbconvert_exporter": "python",
   "pygments_lexer": "ipython3",
   "version": "3.10.4"
  }
 },
 "nbformat": 4,
 "nbformat_minor": 5
}
