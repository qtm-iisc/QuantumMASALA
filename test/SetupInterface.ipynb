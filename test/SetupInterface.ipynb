{
 "cells": [
  {
   "cell_type": "code",
   "execution_count": 1,
   "id": "f6a1c35a-c2bd-4bb8-83b2-29417928b60b",
   "metadata": {},
   "outputs": [],
   "source": [
    "%load_ext autoreload\n",
    "%autoreload 2"
   ]
  },
  {
   "cell_type": "code",
   "execution_count": 2,
   "id": "ac7858fb-012c-4dba-82b9-68c6e69472fb",
   "metadata": {},
   "outputs": [],
   "source": [
    "import numpy as np\n",
    "np.set_printoptions(precision=5, suppress=True)"
   ]
  },
  {
   "cell_type": "code",
   "execution_count": 3,
   "id": "824995fd-17f7-46db-8bc2-3e619c43dc42",
   "metadata": {},
   "outputs": [],
   "source": [
    "from quantum_masala.core import RealLattice, UPFv2Data, AtomBasis, Crystal\n",
    "\n",
    "reallat = RealLattice.from_alat(5.1070, [0.5, 0.5, 0.5], [-0.5, 0.5, 0.5], [-0.5, -0.5, 0.5])\n",
    "\n",
    "fe_oncv = UPFv2Data.from_file('fe', './fe/Fe_ONCV_PBE-1.2.upf')\n",
    "fe_atoms = AtomBasis.from_cart(reallat, fe_oncv, 55.847, [0., 0., 0.])\n",
    "crystal = Crystal(reallat, [fe_atoms])"
   ]
  },
  {
   "cell_type": "code",
   "execution_count": 4,
   "id": "75e65384-6992-4a0c-a8b7-432c138dd695",
   "metadata": {},
   "outputs": [
    {
     "name": "stdout",
     "output_type": "stream",
     "text": [
      "alat = 5.107\n",
      "Axes of real space in cartesian\n",
      "a(1) = [2.5535 2.5535 2.5535]\n",
      "a(2) = [-2.5535  2.5535  2.5535]\n",
      "a(3) = [-2.5535 -2.5535  2.5535]\n",
      "\n",
      "Axes of real space in alat\n",
      "a(1) = [0.5 0.5 0.5]\n",
      "a(2) = [-0.5  0.5  0.5]\n",
      "a(3) = [-0.5 -0.5  0.5]\n",
      "----------------------------------------\n",
      "\n",
      "tpiba = 1.2303084603837058\n",
      "Axes of reciprocal space in tpiba\n",
      "b(1) = [1. 0. 1.]\n",
      "b(2) = [-1.  1.  0.]\n",
      "b(3) = [ 0. -1.  1.]\n",
      "\n",
      "Axes of reciprocal space in cart\n",
      "b(1) = [1.23031 0.      1.23031]\n",
      "b(2) = [-1.23031  1.23031  0.     ]\n",
      "b(3) = [ 0.      -1.23031  1.23031]\n",
      "----------------------------------------\n",
      "\n",
      "Label: fe\n",
      "PseudoPot File: Fe_ONCV_PBE-1.2.upf\n",
      "numatoms:1\n",
      "coords: \n",
      "[[0. 0. 0.]]\n",
      "\n",
      "numel: 16.0\n",
      "----------------------------------------\n",
      "\n"
     ]
    }
   ],
   "source": [
    "recilat = crystal.recilat\n",
    "\n",
    "print(f\"alat = {reallat.alat}\")\n",
    "print(\"Axes of real space in cartesian\")\n",
    "for i, ai in enumerate(reallat.axes_cart):\n",
    "    print(f\"a({i+1}) = {ai}\")\n",
    "print()\n",
    "print(\"Axes of real space in alat\")\n",
    "for i, ai in enumerate(reallat.axes_alat):\n",
    "    print(f\"a({i+1}) = {ai}\")\n",
    "print('-'*40)\n",
    "print()\n",
    "\n",
    "\n",
    "print(f\"tpiba = {recilat.tpiba}\")\n",
    "print(\"Axes of reciprocal space in tpiba\")\n",
    "for i, bi in enumerate(recilat.axes_tpiba):\n",
    "    print(f\"b({i+1}) = {bi}\")\n",
    "print()\n",
    "print(\"Axes of reciprocal space in cart\")\n",
    "for i, bi in enumerate(recilat.axes_cart):\n",
    "    print(f\"b({i+1}) = {bi}\")\n",
    "print('-'*40)\n",
    "print()\n",
    "\n",
    "for sp in crystal.l_species:\n",
    "    print(f\"Label: {sp.label}\")\n",
    "    print(f\"PseudoPot File: {sp.ppdata.filename}\")\n",
    "    print(f\"numatoms:{sp.numatoms}\")\n",
    "    print(f\"coords: \\n{sp.cryst.T}\")\n",
    "    print()\n",
    "print(f\"numel: {crystal.numel}\")\n",
    "print('-'*40)\n",
    "print()\n"
   ]
  },
  {
   "cell_type": "code",
   "execution_count": 5,
   "id": "f6f5931b-71e3-4959-b333-02ab0bc5830a",
   "metadata": {},
   "outputs": [
    {
     "name": "stdout",
     "output_type": "stream",
     "text": [
      "(18, 18, 18)\n",
      "2243\n"
     ]
    }
   ],
   "source": [
    "from quantum_masala.core import KPoints, GSpace\n",
    "\n",
    "grho = GSpace(crystal.recilat, 80)\n",
    "print(grho.grid_shape)\n",
    "print(grho.numg)"
   ]
  },
  {
   "cell_type": "code",
   "execution_count": 6,
   "id": "c93b1f8e-b796-4b73-8498-6c7ac16c5b70",
   "metadata": {},
   "outputs": [],
   "source": [
    "from quantum_masala.core import Rho\n",
    "\n",
    "numspin = 2\n",
    "rho = Rho(crystal, grho, numspin)"
   ]
  },
  {
   "cell_type": "code",
   "execution_count": 7,
   "id": "1fe5c792-6de1-4260-b666-f491d168be39",
   "metadata": {
    "tags": []
   },
   "outputs": [
    {
     "name": "stdout",
     "output_type": "stream",
     "text": [
      "[[ 0.     0.     0.   ]\n",
      " [ 0.125  0.     0.   ]\n",
      " [ 0.25   0.     0.   ]\n",
      " [ 0.375  0.     0.   ]\n",
      " [ 0.5    0.     0.   ]\n",
      " [ 0.25   0.125  0.   ]\n",
      " [ 0.375  0.125  0.   ]\n",
      " [ 0.5    0.125  0.   ]\n",
      " [ 0.5    0.25   0.   ]\n",
      " [-0.375  0.25   0.   ]\n",
      " [ 0.125  0.125  0.125]\n",
      " [ 0.25   0.125  0.125]\n",
      " [ 0.375  0.125  0.125]\n",
      " [ 0.5    0.125  0.125]\n",
      " [ 0.375  0.25   0.125]\n",
      " [ 0.5    0.25   0.125]\n",
      " [ 0.125  0.375  0.125]\n",
      " [-0.375  0.375  0.125]\n",
      " [ 0.125  0.5    0.125]\n",
      " [ 0.125 -0.375  0.125]\n",
      " [ 0.25  -0.375  0.125]\n",
      " [ 0.25   0.25   0.25 ]\n",
      " [ 0.375  0.25   0.25 ]\n",
      " [ 0.5    0.25   0.25 ]\n",
      " [ 0.5    0.375  0.25 ]\n",
      " [ 0.25  -0.25   0.25 ]\n",
      " [ 0.375  0.375  0.375]\n",
      " [ 0.5    0.375  0.375]\n",
      " [ 0.5    0.5    0.5  ]] [0.00195 0.02344 0.02344 0.02344 0.01172 0.04688 0.09375 0.09375 0.04688\n",
      " 0.04688 0.01172 0.04688 0.04688 0.02344 0.04688 0.09375 0.01562 0.01562\n",
      " 0.04688 0.02344 0.04688 0.01172 0.04688 0.02344 0.04688 0.00391 0.01172\n",
      " 0.02344 0.00195]\n"
     ]
    }
   ],
   "source": [
    "from quantum_masala.core import KPoints\n",
    "\n",
    "kpts = KPoints.mpgrid(crystal, [8, 8, 8], [False, False, False])\n",
    "print(kpts.cryst.T, kpts.weights)"
   ]
  },
  {
   "cell_type": "code",
   "execution_count": 8,
   "id": "0a9eff93-3aa1-4fe8-a893-84ac33dac1b1",
   "metadata": {
    "jupyter": {
     "source_hidden": true
    },
    "tags": []
   },
   "outputs": [
    {
     "name": "stdout",
     "output_type": "stream",
     "text": [
      "[[ 0.     0.     0.   ]\n",
      " [ 0.     0.     0.125]\n",
      " [ 0.     0.     0.25 ]\n",
      " [ 0.     0.     0.375]\n",
      " [ 0.     0.    -0.5  ]\n",
      " [ 0.     0.125  0.25 ]\n",
      " [ 0.     0.125  0.375]\n",
      " [ 0.     0.125 -0.5  ]\n",
      " [ 0.     0.25  -0.5  ]\n",
      " [ 0.     0.25  -0.375]\n",
      " [ 0.125  0.125  0.125]\n",
      " [ 0.125  0.125  0.25 ]\n",
      " [ 0.125  0.125  0.375]\n",
      " [ 0.125  0.125 -0.5  ]\n",
      " [ 0.125  0.25   0.375]\n",
      " [ 0.125  0.25  -0.5  ]\n",
      " [ 0.125  0.375  0.125]\n",
      " [ 0.125  0.375 -0.375]\n",
      " [ 0.125 -0.5    0.125]\n",
      " [ 0.125 -0.375  0.125]\n",
      " [ 0.125 -0.375  0.25 ]\n",
      " [ 0.25   0.25   0.25 ]\n",
      " [ 0.25   0.25   0.375]\n",
      " [ 0.25   0.25  -0.5  ]\n",
      " [ 0.25   0.375 -0.5  ]\n",
      " [ 0.25  -0.25   0.25 ]\n",
      " [ 0.375  0.375  0.375]\n",
      " [ 0.375  0.375 -0.5  ]\n",
      " [-0.5   -0.5   -0.5  ]] [0.00195 0.02344 0.02344 0.02344 0.01172 0.04687 0.09375 0.09375 0.04687\n",
      " 0.04687 0.01172 0.04687 0.04687 0.02344 0.04687 0.09375 0.01562 0.01562\n",
      " 0.04687 0.02344 0.04687 0.01172 0.04687 0.02344 0.04687 0.00391 0.01172\n",
      " 0.02344 0.00195]\n"
     ]
    }
   ],
   "source": [
    "kpts = KPoints.from_tpiba(recilat,\n",
    "                          ([   0.0000000,   0.0000000,   0.0000000],  0.0019531),\n",
    "                          ([   0.0000000,  -0.1250000,   0.1250000],  0.0234375),\n",
    "                          ([   0.0000000,  -0.2500000,   0.2500000],  0.0234375),\n",
    "                          ([   0.0000000,  -0.3750000,   0.3750000],  0.0234375),\n",
    "                          ([   0.0000000,   0.5000000,  -0.5000000],  0.0117188),\n",
    "                          ([  -0.1250000,  -0.1250000,   0.2500000],  0.0468750),\n",
    "                          ([  -0.1250000,  -0.2500000,   0.3750000],  0.0937500),\n",
    "                          ([  -0.1250000,   0.6250000,  -0.5000000],  0.0937500),\n",
    "                          ([  -0.2500000,   0.7500000,  -0.5000000],  0.0468750),\n",
    "                          ([  -0.2500000,   0.6250000,  -0.3750000],  0.0468750),\n",
    "                          ([   0.0000000,   0.0000000,   0.2500000],  0.0117188),\n",
    "                          ([   0.0000000,  -0.1250000,   0.3750000],  0.0468750),\n",
    "                          ([   0.0000000,  -0.2500000,   0.5000000],  0.0468750),\n",
    "                          ([   0.0000000,   0.6250000,  -0.3750000],  0.0234375),\n",
    "                          ([  -0.1250000,  -0.1250000,   0.5000000],  0.0468750),\n",
    "                          ([  -0.1250000,   0.7500000,  -0.3750000],  0.0937500),\n",
    "                          ([  -0.2500000,   0.2500000,   0.2500000],  0.0156250),\n",
    "                          ([  -0.2500000,   0.7500000,  -0.2500000],  0.0156250),\n",
    "                          ([   0.6250000,  -0.6250000,   0.2500000],  0.0468750),\n",
    "                          ([   0.5000000,  -0.5000000,   0.2500000],  0.0234375),\n",
    "                          ([   0.5000000,  -0.6250000,   0.3750000],  0.0468750),\n",
    "                          ([   0.0000000,   0.0000000,   0.5000000],  0.0117188),\n",
    "                          ([   0.0000000,  -0.1250000,   0.6250000],  0.0468750),\n",
    "                          ([   0.0000000,   0.7500000,  -0.2500000],  0.0234375),\n",
    "                          ([  -0.1250000,   0.8750000,  -0.2500000],  0.0468750),\n",
    "                          ([   0.5000000,  -0.5000000,   0.5000000],  0.0039062),\n",
    "                          ([   0.0000000,   0.0000000,   0.7500000],  0.0117188),\n",
    "                          ([   0.0000000,   0.8750000,  -0.1250000],  0.0234375),\n",
    "                          ([   0.0000000,   0.0000000,  -1.0000000],  0.0019531)\n",
    "                         )\n",
    "\n",
    "print(kpts.cryst.T, kpts.weights)"
   ]
  },
  {
   "cell_type": "code",
   "execution_count": 9,
   "id": "473d0faa-659d-46bf-89c4-718857a3b072",
   "metadata": {
    "tags": []
   },
   "outputs": [
    {
     "name": "stdout",
     "output_type": "stream",
     "text": [
      "[[ 0.     0.     0.     0.     0.     0.     0.     0.     0.     0.\n",
      "   0.125  0.125  0.125  0.125  0.125  0.125  0.125  0.125  0.125  0.125\n",
      "   0.125  0.25   0.25   0.25   0.25   0.25   0.375  0.375 -0.5  ]\n",
      " [ 0.     0.     0.     0.     0.     0.125  0.125  0.125  0.25   0.25\n",
      "   0.125  0.125  0.125  0.125  0.25   0.25   0.375  0.375 -0.5   -0.375\n",
      "  -0.375  0.25   0.25   0.25   0.375 -0.25   0.375  0.375 -0.5  ]\n",
      " [ 0.     0.125  0.25   0.375 -0.5    0.25   0.375 -0.5   -0.5   -0.375\n",
      "   0.125  0.25   0.375 -0.5    0.375 -0.5    0.125 -0.375  0.125  0.125\n",
      "   0.25   0.25   0.375 -0.5   -0.5    0.25   0.375 -0.5   -0.5  ]]\n"
     ]
    }
   ],
   "source": [
    "from quantum_masala.core import KPointsKgrp, WavefunK, Wfn2Rho\n",
    "\n",
    "numbnd = 12\n",
    "gspc_wfc = GSpace(crystal.recilat, 80)\n",
    "WfnK = WavefunK(gspc_wfc, numspin, numbnd)\n",
    "\n",
    "kpts_kgrp = KPointsKgrp(kpts)\n",
    "print(kpts_kgrp.cryst)\n",
    "l_wfnk = [WfnK(k_cryst, k_weight, ik) for ik, (k_cryst, k_weight) in enumerate(kpts_kgrp)]\n",
    "for wfnk in l_wfnk:\n",
    "    wfnk.init_random_wfc()\n",
    "\n",
    "rho_wfn = Wfn2Rho(crystal, WfnK)"
   ]
  },
  {
   "cell_type": "code",
   "execution_count": 10,
   "id": "be04fbc7-945d-4627-8590-7d51603b71fa",
   "metadata": {},
   "outputs": [
    {
     "name": "stdout",
     "output_type": "stream",
     "text": [
      "(3, 1) (3, 2243)\n"
     ]
    }
   ],
   "source": [
    "from quantum_masala.pw.pot import PPDataLocal, PPDataNonLocal\n",
    "\n",
    "l_pploc = [PPDataLocal(sp, rho.grho) for sp in crystal.l_species]\n",
    "l_ppnl = [PPDataNonLocal(sp, WfnK.gspc) for sp in crystal.l_species]"
   ]
  },
  {
   "cell_type": "code",
   "execution_count": 11,
   "id": "c7e12558-5824-4a52-9a22-5785c0e44ef1",
   "metadata": {},
   "outputs": [
    {
     "name": "stderr",
     "output_type": "stream",
     "text": [
      "/home/lightpeak008/QuantumMASALA/src/quantum_masala/core/rho.py:164: UserWarning: total charge renormalized from (15.954991497665835+0j) to 16.0\n",
      "  warn(f\"total charge renormalized from {rho_int} to {self.numel}\")\n"
     ]
    }
   ],
   "source": [
    "mag_start = [0.1, ]\n",
    "\n",
    "if numspin == 2:\n",
    "    rho_g = np.zeros((2, grho.numg), dtype=\"c16\")\n",
    "    for isp, pploc in enumerate(l_pploc):\n",
    "        rho_g[0] += pploc.rhoatomic_g * (1 + mag_start[isp]) / 2\n",
    "        rho_g[1] += pploc.rhoatomic_g * (1 - mag_start[isp]) / 2\n",
    "else:\n",
    "    rho_g = sum(pploc.rhoatomic_g for pploc in l_pploc).reshape(1, grho.numg)\n",
    "rho.update(rho_g)"
   ]
  },
  {
   "cell_type": "code",
   "execution_count": 12,
   "id": "c76e16df-c699-42fe-a564-ddde6920727c",
   "metadata": {},
   "outputs": [
    {
     "name": "stdout",
     "output_type": "stream",
     "text": [
      "Ewald Energy: -182.4248606387626 Ry\n"
     ]
    }
   ],
   "source": [
    "from quantum_masala.pw.pot import Hartree, ExchCorr, Ionic\n",
    "from quantum_masala.pw.pot import compute_ewald_en\n",
    "\n",
    "vhart = Hartree(rho)\n",
    "vxc = ExchCorr(rho, 'gga_x_pbe', 'gga_c_pbe')\n",
    "vion = Ionic(rho, l_pploc)\n",
    "e_ewald = compute_ewald_en(crystal, rho.grho)\n",
    "\n",
    "print(f\"Ewald Energy: {e_ewald*2} Ry\")"
   ]
  },
  {
   "cell_type": "code",
   "execution_count": 13,
   "id": "4ab5beab-cf5e-46ed-8b37-24d05e67076f",
   "metadata": {},
   "outputs": [],
   "source": [
    "from quantum_masala.pw.occ import SmearMod\n",
    "from quantum_masala.core.constants import eV\n",
    "\n",
    "occ_mod = SmearMod(WfnK, crystal.numel, \"gauss\", 0.01*eV) "
   ]
  },
  {
   "cell_type": "code",
   "execution_count": 14,
   "id": "37bfdec2-4d36-4f50-9abf-3f89198babec",
   "metadata": {},
   "outputs": [],
   "source": [
    "from quantum_masala.pw.ham import HamK\n",
    "from quantum_masala.pw.eigsolve.david import david_solve\n",
    "\n",
    "vbare_g0 = vion.g[0] / np.prod(vion.grho.grid_shape)\n",
    "\n",
    "def compute_vloc_r():\n",
    "    vhart.compute()\n",
    "    vxc.compute()\n",
    "    return vion.r + vhart.r + vxc.r\n",
    "\n",
    "vloc_r = compute_vloc_r()\n",
    "for ik, wfnk in enumerate(l_wfnk):\n",
    "    #print(ik)\n",
    "    hamk = HamK(wfnk, vloc_r, l_ppnl)\n",
    "    for isp in range(wfnk.numspin):\n",
    "        david_solve(wfnk, hamk, isp, 1E-2, vbare_g0)\n",
    "    #print(wfnk.evl / eV)"
   ]
  },
  {
   "cell_type": "code",
   "execution_count": 15,
   "id": "48c24fb5-e040-4631-a0f3-c0d5d1dc87bd",
   "metadata": {},
   "outputs": [
    {
     "data": {
      "text/plain": [
       "<quantum_masala.core.wfn2rho.Wfn2Rho at 0x7f3133edcb20>"
      ]
     },
     "execution_count": 15,
     "metadata": {},
     "output_type": "execute_result"
    }
   ],
   "source": [
    "l_wfnk = occ_mod.compute(l_wfnk)\n",
    "# for ik, wfnk in enumerate(l_wfnk):\n",
    "#     print(ik)\n",
    "#     print(wfnk.occ)\n",
    "\n",
    "rho_wfn.update(l_wfnk)"
   ]
  },
  {
   "cell_type": "code",
   "execution_count": 16,
   "id": "78b2dc17-df15-44f2-aa9a-5881aecbfba9",
   "metadata": {},
   "outputs": [],
   "source": [
    "from quantum_masala.pw.mix import GenBroyden\n",
    "\n",
    "rho_in = rho\n",
    "rho_out = rho_wfn\n",
    "mix_mod = GenBroyden(rho_in, rho_out, 0.7, 8)"
   ]
  },
  {
   "cell_type": "code",
   "execution_count": 17,
   "id": "042f3a1e-a05a-4728-b326-479c91a4bf92",
   "metadata": {},
   "outputs": [
    {
     "name": "stdout",
     "output_type": "stream",
     "text": [
      "0.4148482747096574\n"
     ]
    }
   ],
   "source": [
    "e_err = mix_mod.compute_error(rho_in, rho_out)\n",
    "print(e_err)"
   ]
  },
  {
   "cell_type": "code",
   "execution_count": 18,
   "id": "783a81e4-fdbe-4713-8755-6a0ed50e3aa1",
   "metadata": {},
   "outputs": [
    {
     "name": "stdout",
     "output_type": "stream",
     "text": [
      "Iter #1\n",
      "Diago Thr = 0.01, Error = 0.41367254764361383\n",
      "Iter #2\n",
      "Diago Thr = 0.0025854534227725866, Error = 0.228630643116171\n",
      "Iter #3\n",
      "Diago Thr = 0.001428941519476069, Error = 0.11292444945756924\n",
      "Iter #4\n",
      "Diago Thr = 0.0007057778091098078, Error = 0.0944172832424135\n",
      "Iter #5\n",
      "Diago Thr = 0.0005901080202650844, Error = 0.09348034177409575\n",
      "Iter #6\n",
      "Diago Thr = 0.0005842521360880985, Error = 0.09311910210477214\n",
      "Iter #7\n",
      "Diago Thr = 0.000581994388154826, Error = 0.09327181864139747\n",
      "Iter #8\n",
      "Diago Thr = 0.000581994388154826, Error = 0.09543621557197551\n",
      "Iter #9\n",
      "Diago Thr = 0.000581994388154826, Error = 0.09684275067640458\n",
      "Iter #10\n",
      "Diago Thr = 0.000581994388154826, Error = 0.09667484079806761\n",
      "Iter #11\n",
      "Diago Thr = 0.000581994388154826, Error = 0.09525871952514924\n",
      "Iter #12\n",
      "Diago Thr = 0.000581994388154826, Error = 0.09417663585602395\n",
      "Iter #13\n",
      "Diago Thr = 0.000581994388154826, Error = 0.09331628632651266\n",
      "Iter #14\n",
      "Diago Thr = 0.000581994388154826, Error = 0.09447603101020854\n",
      "Iter #15\n",
      "Diago Thr = 0.000581994388154826, Error = 0.09416722981046773\n",
      "Iter #16\n",
      "Diago Thr = 0.000581994388154826, Error = 0.0939890419962425\n",
      "Iter #17\n",
      "Diago Thr = 0.000581994388154826, Error = 0.09564986709847106\n",
      "Iter #18\n",
      "Diago Thr = 0.000581994388154826, Error = 0.09575672663171239\n",
      "Iter #19\n",
      "Diago Thr = 0.000581994388154826, Error = 0.09335382433378975\n",
      "Iter #20\n",
      "Diago Thr = 0.000581994388154826, Error = 0.09413255250895175\n",
      "Iter #21\n",
      "Diago Thr = 0.000581994388154826, Error = 0.09423797193442374\n",
      "Iter #22\n",
      "Diago Thr = 0.000581994388154826, Error = 0.09307046875369263\n",
      "Iter #23\n",
      "Diago Thr = 0.0005816904297105789, Error = 0.09371830592600802\n",
      "Iter #24\n",
      "Diago Thr = 0.0005816904297105789, Error = 0.09365527552110872\n",
      "Iter #25\n",
      "Diago Thr = 0.0005816904297105789, Error = 0.09353978038266285\n",
      "Iter #26\n",
      "Diago Thr = 0.0005816904297105789, Error = 0.09350655159779592\n",
      "Iter #27\n",
      "Diago Thr = 0.0005816904297105789, Error = 0.09312810376688249\n",
      "Iter #28\n",
      "Diago Thr = 0.0005816904297105789, Error = 0.09351226804873072\n",
      "Iter #29\n",
      "Diago Thr = 0.0005816904297105789, Error = 0.09319753645523046\n",
      "Iter #30\n",
      "Diago Thr = 0.0005816904297105789, Error = 0.09301907729217768\n",
      "Iter #31\n",
      "Diago Thr = 0.0005813692330761105, Error = 0.09306075059913758\n",
      "Iter #32\n",
      "Diago Thr = 0.0005813692330761105, Error = 0.09303663787737083\n",
      "Iter #33\n",
      "Diago Thr = 0.0005813692330761105, Error = 0.0936099849092236\n",
      "Iter #34\n",
      "Diago Thr = 0.0005813692330761105, Error = 0.09362619562662088\n",
      "Iter #35\n",
      "Diago Thr = 0.0005813692330761105, Error = 0.0936387214991763\n",
      "Iter #36\n",
      "Diago Thr = 0.0005813692330761105, Error = 0.09349519855755213\n",
      "Iter #37\n",
      "Diago Thr = 0.0005813692330761105, Error = 0.09953812883854628\n",
      "Iter #38\n",
      "Diago Thr = 0.0005813692330761105, Error = 0.09599411782165898\n",
      "Iter #39\n",
      "Diago Thr = 0.0005813692330761105, Error = 0.09742446745481295\n"
     ]
    },
    {
     "ename": "KeyboardInterrupt",
     "evalue": "",
     "output_type": "error",
     "traceback": [
      "\u001b[0;31m---------------------------------------------------------------------------\u001b[0m",
      "\u001b[0;31mKeyboardInterrupt\u001b[0m                         Traceback (most recent call last)",
      "Cell \u001b[0;32mIn [18], line 14\u001b[0m\n\u001b[1;32m     12\u001b[0m     hamk \u001b[38;5;241m=\u001b[39m HamK(wfnk, vloc_r, l_ppnl)\n\u001b[1;32m     13\u001b[0m     \u001b[38;5;28;01mfor\u001b[39;00m isp \u001b[38;5;129;01min\u001b[39;00m \u001b[38;5;28mrange\u001b[39m(wfnk\u001b[38;5;241m.\u001b[39mnumspin):\n\u001b[0;32m---> 14\u001b[0m         \u001b[43mdavid_solve\u001b[49m\u001b[43m(\u001b[49m\u001b[43mwfnk\u001b[49m\u001b[43m,\u001b[49m\u001b[43m \u001b[49m\u001b[43mhamk\u001b[49m\u001b[43m,\u001b[49m\u001b[43m \u001b[49m\u001b[43misp\u001b[49m\u001b[43m,\u001b[49m\u001b[43m \u001b[49m\u001b[43mdiago_thr\u001b[49m\u001b[43m,\u001b[49m\u001b[43m \u001b[49m\u001b[43mvbare_g0\u001b[49m\u001b[43m)\u001b[49m\n\u001b[1;32m     16\u001b[0m l_wfnk \u001b[38;5;241m=\u001b[39m occ_mod\u001b[38;5;241m.\u001b[39mcompute(l_wfnk)\n\u001b[1;32m     17\u001b[0m rho_wfn \u001b[38;5;241m=\u001b[39m rho_wfn\u001b[38;5;241m.\u001b[39mupdate(l_wfnk)\n",
      "File \u001b[0;32m~/QuantumMASALA/src/quantum_masala/pw/eigsolve/david.py:154\u001b[0m, in \u001b[0;36mdavid_solve\u001b[0;34m(wfn, ham, idxspin, diago_thr, vbare_g0, numwork)\u001b[0m\n\u001b[1;32m    151\u001b[0m     \u001b[38;5;28;01mreturn\u001b[39;00m evl_red, evc_red\n\u001b[1;32m    153\u001b[0m hpsi \u001b[38;5;241m=\u001b[39m compute_hpsi(\u001b[38;5;241m0\u001b[39m, numpsi)\n\u001b[0;32m--> 154\u001b[0m ham_red, ovl_red \u001b[38;5;241m=\u001b[39m \u001b[43mupdate_red\u001b[49m\u001b[43m(\u001b[49m\u001b[38;5;241;43m0\u001b[39;49m\u001b[43m,\u001b[49m\u001b[43m \u001b[49m\u001b[43mnumpsi\u001b[49m\u001b[43m)\u001b[49m\n\u001b[1;32m    155\u001b[0m ham_red, ovl_red \u001b[38;5;241m=\u001b[39m hermitianize()\n\u001b[1;32m    156\u001b[0m evl_red, evc_red \u001b[38;5;241m=\u001b[39m compute_eig_red()\n",
      "File \u001b[0;32m~/QuantumMASALA/src/quantum_masala/pw/eigsolve/david.py:122\u001b[0m, in \u001b[0;36mdavid_solve.<locals>.update_red\u001b[0;34m(istart, istop)\u001b[0m\n\u001b[1;32m    114\u001b[0m \u001b[38;5;28;01mdef\u001b[39;00m \u001b[38;5;21mupdate_red\u001b[39m(istart: \u001b[38;5;28mint\u001b[39m, istop: \u001b[38;5;28mint\u001b[39m):\n\u001b[1;32m    115\u001b[0m     \u001b[38;5;66;03m# FIXME:\u001b[39;00m\n\u001b[1;32m    116\u001b[0m     \u001b[38;5;66;03m# sl = kgrp_intracomm.scatter_psi_idx(istart, istop)\u001b[39;00m\n\u001b[0;32m   (...)\u001b[0m\n\u001b[1;32m    119\u001b[0m     \u001b[38;5;66;03m# kgrp_intracomm.allgather_psi_inplace(ham_red)\u001b[39;00m\n\u001b[1;32m    120\u001b[0m     \u001b[38;5;66;03m# kgrp_intracomm.allgather_psi_inplace(ovl_red)\u001b[39;00m\n\u001b[1;32m    121\u001b[0m     ham_red[:] \u001b[38;5;241m=\u001b[39m psi\u001b[38;5;241m.\u001b[39mconj() \u001b[38;5;241m@\u001b[39m hpsi\u001b[38;5;241m.\u001b[39mT\n\u001b[0;32m--> 122\u001b[0m     ovl_red[:] \u001b[38;5;241m=\u001b[39m \u001b[43mpsi\u001b[49m\u001b[38;5;241;43m.\u001b[39;49m\u001b[43mconj\u001b[49m\u001b[43m(\u001b[49m\u001b[43m)\u001b[49m \u001b[38;5;241m@\u001b[39m psi\u001b[38;5;241m.\u001b[39mT\n\u001b[1;32m    123\u001b[0m     \u001b[38;5;28;01mreturn\u001b[39;00m ham_red, ovl_red\n",
      "\u001b[0;31mKeyboardInterrupt\u001b[0m: "
     ]
    }
   ],
   "source": [
    "from quantum_masala.core.constants import E_ryd\n",
    "\n",
    "diago_thr = 1E-2\n",
    "conv_thr = 1E-10\n",
    "scf_converged = False\n",
    "\n",
    "idxiter = 0\n",
    "while not scf_converged:\n",
    "    vloc_r = compute_vloc_r()\n",
    "    for ik, wfnk in enumerate(l_wfnk):\n",
    "        #print(ik)\n",
    "        hamk = HamK(wfnk, vloc_r, l_ppnl)\n",
    "        for isp in range(wfnk.numspin):\n",
    "            david_solve(wfnk, hamk, isp, diago_thr, vbare_g0)\n",
    "            \n",
    "    l_wfnk = occ_mod.compute(l_wfnk)\n",
    "    rho_wfn = rho_wfn.update(l_wfnk)\n",
    "    \n",
    "    idxiter += 1\n",
    "    print(f\"Iter #{idxiter}\")\n",
    "    e_err = mix_mod.compute_error(rho_in, rho_out)\n",
    "    print(f\"Diago Thr = {diago_thr}, Error = {e_err}\")\n",
    "    \n",
    "    if e_err < conv_thr * E_ryd:\n",
    "        scf_converged = True\n",
    "    if idxiter == 1 and e_err < diago_thr * max(1.0, rho.numel):\n",
    "        print(\"Large diago_thr\")\n",
    "        diago_thr = 0.1 * e_err / max(1.0, rho.numel)\n",
    "    else:\n",
    "        diago_thr = min(0.1 * e_err / max(1.0, rho.numel), diago_thr)\n",
    "        diago_thr = max(diago_thr, 1e-13)\n",
    "        rho = mix_mod.mix(rho, rho_wfn)\n",
    "    \n",
    "print(f\"Hart: {vhart.en / E_ryd} Ry\")\n",
    "print(f\"XC: {vxc.en / E_ryd} Ry\")"
   ]
  },
  {
   "cell_type": "code",
   "execution_count": null,
   "id": "ff8b091f-1713-46fe-bc03-40489c50d6bc",
   "metadata": {},
   "outputs": [],
   "source": []
  }
 ],
 "metadata": {
  "kernelspec": {
   "display_name": "Python 3 (ipykernel)",
   "language": "python",
   "name": "python3"
  },
  "language_info": {
   "codemirror_mode": {
    "name": "ipython",
    "version": 3
   },
   "file_extension": ".py",
   "mimetype": "text/x-python",
   "name": "python",
   "nbconvert_exporter": "python",
   "pygments_lexer": "ipython3",
   "version": "3.10.4"
  }
 },
 "nbformat": 4,
 "nbformat_minor": 5
}
