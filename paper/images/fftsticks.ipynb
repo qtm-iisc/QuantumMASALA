{
 "cells": [
  {
   "cell_type": "code",
   "execution_count": 1,
   "id": "f69a8cb2-f34e-4478-9cef-d5a75ad0176a",
   "metadata": {},
   "outputs": [],
   "source": [
    "import numpy as np\n",
    "\n",
    "from qtm.lattice import RealLattice, ReciLattice\n",
    "from qtm.gspace import GSpace, GkSpace\n",
    "\n",
    "from qtm.constants import RYDBERG\n",
    "\n",
    "alat = 5.107\n",
    "latvec_alat = 0.5 * np.array([\n",
    "    [ 1,  1,  1],\n",
    "    [-1,  1,  1],\n",
    "    [-1, -1,  1]\n",
    "])\n",
    "ecutwfn = 40 * RYDBERG\n",
    "\n",
    "reallat = RealLattice.from_alat(alat, *latvec_alat)\n",
    "recilat = ReciLattice.from_reallat(reallat)\n",
    "\n",
    "grho = GSpace(recilat, 4 * ecutwfn)\n",
    "gwfn = GkSpace(grho, [0., 0., 0.])"
   ]
  },
  {
   "cell_type": "code",
   "execution_count": 2,
   "id": "eca6818a-2efc-46d9-86e1-8c65af636b7d",
   "metadata": {},
   "outputs": [],
   "source": [
    "from qtm.gspace.fft.utils import idxgrid2cryst\n",
    "\n",
    "nx, ny, nz = grho.grid_shape\n",
    "ix, iy, iz = grho.g_cryst\n",
    "numg = grho.size_g"
   ]
  },
  {
   "cell_type": "code",
   "execution_count": 3,
   "id": "ef0a6dd5-b681-4295-adad-3f7cd5977026",
   "metadata": {},
   "outputs": [],
   "source": [
    "c = (ix * ny + iy) % 3\n",
    "dat = np.array([ix, iy, iz, c])"
   ]
  },
  {
   "cell_type": "code",
   "execution_count": 7,
   "id": "b462d8ea-558b-4943-9499-92d996ab6571",
   "metadata": {},
   "outputs": [],
   "source": [
    "fname = 'g_cryst.txt'\n",
    "\n",
    "with open(fname, 'w+') as f:\n",
    "    f.write(f\"{numg}\\n\")\n",
    "    np.savetxt(f, dat.T, fmt=\"%d\")"
   ]
  },
  {
   "cell_type": "code",
   "execution_count": null,
   "id": "0eb2cd16-b214-448a-bdc9-2f0fde03f6c4",
   "metadata": {},
   "outputs": [],
   "source": []
  }
 ],
 "metadata": {
  "kernelspec": {
   "display_name": "Python 3 (ipykernel)",
   "language": "python",
   "name": "python3"
  },
  "language_info": {
   "codemirror_mode": {
    "name": "ipython",
    "version": 3
   },
   "file_extension": ".py",
   "mimetype": "text/x-python",
   "name": "python",
   "nbconvert_exporter": "python",
   "pygments_lexer": "ipython3",
   "version": "3.11.4"
  }
 },
 "nbformat": 4,
 "nbformat_minor": 5
}
