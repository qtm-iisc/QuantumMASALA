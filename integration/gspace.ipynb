{
 "cells": [
  {
   "cell_type": "code",
   "execution_count": 1,
   "id": "f1b48802-6e30-4538-93b3-91805c91a9e1",
   "metadata": {},
   "outputs": [],
   "source": [
    "%load_ext autoreload\n",
    "%autoreload 2\n",
    "\n",
    "%load_ext line_profiler"
   ]
  },
  {
   "cell_type": "code",
   "execution_count": 2,
   "id": "05d9de61-95c3-4c4e-ad95-0e738747b501",
   "metadata": {},
   "outputs": [],
   "source": [
    "import sys\n",
    "\n",
    "linewidth = 100\n",
    "formatter = {\n",
    "    'float': lambda num: f'{num:5.1f}',\n",
    "    'int': lambda num: f'{float(num):5.1f}',\n",
    "}\n",
    "print_args = {\n",
    "#     'threshold': sys.maxsize,\n",
    "    'threshold': 100,\n",
    "    'linewidth': 100,\n",
    "    'formatter': formatter,\n",
    "    'edgeitems': 6,\n",
    "}\n"
   ]
  },
  {
   "cell_type": "code",
   "execution_count": 3,
   "id": "17f4158d-d8e2-4882-8fe9-ae205d90a24d",
   "metadata": {},
   "outputs": [],
   "source": [
    "import numpy as np\n",
    "from qtmpy.constants import RYDBERG\n",
    "\n",
    "alat = 5.107 * 12\n",
    "latvec_alat = 0.5 * np.array([\n",
    "    [ 1,  1,  1],\n",
    "    [-1,  1,  1],\n",
    "    [-1, -1,  1]\n",
    "])\n",
    "\n",
    "ecutwfn = 40 * RYDBERG"
   ]
  },
  {
   "cell_type": "code",
   "execution_count": 4,
   "id": "2441d0ad-c34c-4b91-bae0-a6a14c372776",
   "metadata": {},
   "outputs": [
    {
     "name": "stdout",
     "output_type": "stream",
     "text": [
      "([0.5, 0.5, 0.5], [-0.5, 0.5, 0.5], [-0.5, -0.5, 0.5])\n",
      "0.10252570503197549\n",
      "([1.0, 0.0, 1.0], [-1.0, 1.0, 0.0], [0.0, -1.0, 1.0])\n"
     ]
    }
   ],
   "source": [
    "from qtmpy.lattice import RealLattice, ReciLattice\n",
    "\n",
    "reallat = RealLattice.from_alat(alat, *latvec_alat)\n",
    "recilat = ReciLattice.from_reallat(reallat)\n",
    "\n",
    "print(reallat.axes_alat)\n",
    "print(recilat.tpiba)\n",
    "print(recilat.axes_tpiba)"
   ]
  },
  {
   "cell_type": "code",
   "execution_count": 5,
   "id": "41c8fb40-c159-4026-8682-56b69c9fd832",
   "metadata": {},
   "outputs": [
    {
     "name": "stdout",
     "output_type": "stream",
     "text": [
      "(216, 216, 216)\n",
      "3932843\n",
      "G_1:  [  0.0   0.0   0.0   0.0   0.0   0.0 ...  -1.0  -1.0  -1.0  -1.0  -1.0  -1.0]\n",
      "G_2:  [  0.0   0.0   0.0   0.0   0.0   0.0 ...  -1.0  -1.0  -1.0  -1.0  -1.0  -1.0]\n",
      "G_3:  [  0.0   1.0   2.0   3.0   4.0   5.0 ...  -6.0  -5.0  -4.0  -3.0  -2.0  -1.0]\n",
      "G^2:  [  0.0   0.0   0.1   0.2   0.3   0.5 ...   0.8   0.5   0.4   0.2   0.1   0.0]\n"
     ]
    }
   ],
   "source": [
    "from qtmpy.gspace.gspc import GSpace\n",
    "\n",
    "gspc_rho = GSpace(recilat, 4 * ecutwfn)\n",
    "print(gspc_rho.grid_shape)\n",
    "print(gspc_rho.size_g)\n",
    "with np.printoptions(**print_args):\n",
    "    for i in range(3):\n",
    "        print(f'G_{i+1}: ', gspc_rho.g_cryst[i])\n",
    "    print(f'G^2: ', gspc_rho.g_norm2)"
   ]
  },
  {
   "cell_type": "code",
   "execution_count": 6,
   "id": "b6feafab-44f6-43ba-a066-76bf959c1057",
   "metadata": {},
   "outputs": [
    {
     "name": "stdout",
     "output_type": "stream",
     "text": [
      "491177\n",
      "G_1:  [  0.0   0.0   0.0   0.0   0.0   0.0 ...  -1.0  -1.0  -1.0  -1.0  -1.0  -1.0]\n",
      "G_2:  [  0.0   0.0   0.0   0.0   0.0   0.0 ...  -1.0  -1.0  -1.0  -1.0  -1.0  -1.0]\n",
      "G_3:  [  0.0   1.0   2.0   3.0   4.0   5.0 ...  -6.0  -5.0  -4.0  -3.0  -2.0  -1.0]\n",
      "G^2:  [  0.0   0.0   0.1   0.2   0.3   0.5 ...   0.8   0.5   0.4   0.2   0.1   0.0]\n"
     ]
    }
   ],
   "source": [
    "gspc_wfn = GSpace(recilat, ecutwfn)\n",
    "print(gspc_wfn.size_g)\n",
    "with np.printoptions(**print_args):\n",
    "    for i in range(3):\n",
    "        print(f'G_{i+1}: ', gspc_wfn.g_cryst[i])\n",
    "    print(f'G^2: ', gspc_wfn.g_norm2)"
   ]
  },
  {
   "cell_type": "code",
   "execution_count": 7,
   "id": "681fd27c-7e6f-4d3b-aaf7-41f4435f54e5",
   "metadata": {},
   "outputs": [
    {
     "name": "stdout",
     "output_type": "stream",
     "text": [
      "(1, 3932843) (1, 10077696)\n",
      "False\n",
      "True\n"
     ]
    }
   ],
   "source": [
    "gspc = gspc_rho\n",
    "\n",
    "arr_g = gspc.create_buffer_g(1)\n",
    "arr_r = gspc.create_buffer_r(1)\n",
    "print(arr_g.shape, arr_r.shape)\n",
    "\n",
    "arr_g[:] = np.random.rand(gspc.size_g) \\\n",
    "    + 1j * np.random.rand(gspc.size_g)\n",
    "\n",
    "arr_r[:] = 0\n",
    "arr_r.put(gspc.idxgrid, arr_g)\n",
    "\n",
    "arr_r = np.fft.ifftn(arr_r.reshape(gspc.grid_shape))\n",
    "arr_r = arr_r.reshape((1, -1))\n",
    "\n",
    "out = gspc.create_buffer_r(1)\n",
    "gspc.g2r(arr_g, out)\n",
    "print(np.allclose(out, arr_r))\n",
    "\n",
    "out = gspc.create_buffer_g(1)\n",
    "gspc.r2g(arr_r, out)\n",
    "print(np.allclose(out, arr_g))"
   ]
  },
  {
   "cell_type": "code",
   "execution_count": 8,
   "id": "75e07f77-9b2e-4936-9c26-d59cd65f7deb",
   "metadata": {},
   "outputs": [
    {
     "name": "stdout",
     "output_type": "stream",
     "text": [
      "<class 'qtmpy.gspace.fft.full.FFT3DFull'> <class 'qtmpy.gspace.fft.backend.pyfftw_.PyFFTWFFTWrapper'>\n",
      "None\n",
      "False\n",
      "True\n",
      "32.5 ms ± 786 µs per loop (mean ± std. dev. of 7 runs, 10 loops each)\n",
      "35 ms ± 3.99 ms per loop (mean ± std. dev. of 7 runs, 10 loops each)\n",
      "\n",
      "<class 'qtmpy.gspace.fft.sticks.FFT3DSticks'> <class 'qtmpy.gspace.fft.backend.pyfftw_.PyFFTWFFTWrapper'>\n",
      "None\n",
      "False\n",
      "True\n",
      "45.3 ms ± 3.25 ms per loop (mean ± std. dev. of 7 runs, 10 loops each)\n",
      "33.5 ms ± 2.98 ms per loop (mean ± std. dev. of 7 runs, 10 loops each)\n",
      "\n",
      "<class 'qtmpy.gspace.fft.sticks_test.FFT3DSticksv1'> <class 'qtmpy.gspace.fft.backend.pyfftw_.PyFFTWFFTWrapper'>\n",
      "0\n",
      "False\n",
      "True\n",
      "35.6 ms ± 1.04 ms per loop (mean ± std. dev. of 7 runs, 10 loops each)\n",
      "35.3 ms ± 1.68 ms per loop (mean ± std. dev. of 7 runs, 10 loops each)\n",
      "\n",
      "<class 'qtmpy.gspace.fft.sticks_test.FFT3DSticksv2'> <class 'qtmpy.gspace.fft.backend.pyfftw_.PyFFTWFFTWrapper'>\n",
      "0\n",
      "False\n",
      "True\n",
      "35 ms ± 872 µs per loop (mean ± std. dev. of 7 runs, 10 loops each)\n",
      "34 ms ± 1.19 ms per loop (mean ± std. dev. of 7 runs, 10 loops each)\n",
      "\n",
      "<class 'qtmpy.gspace.fft.full.FFT3DFull'> <class 'qtmpy.gspace.fft.backend.pyfftw_.PyFFTWFFTWrapper'>\n",
      "None\n",
      "False\n",
      "True\n",
      "32.9 ms ± 1.34 ms per loop (mean ± std. dev. of 7 runs, 10 loops each)\n",
      "31.5 ms ± 1.78 ms per loop (mean ± std. dev. of 7 runs, 10 loops each)\n",
      "\n"
     ]
    }
   ],
   "source": [
    "from qtmpy.gspace.fft.full import FFT3DFull\n",
    "from qtmpy.gspace.fft.sticks import FFT3DSticks\n",
    "from qtmpy.gspace.fft.sticks_test import FFT3DSticksv1, FFT3DSticksv2\n",
    "from qtmpy import qtmconfig\n",
    "qtmconfig.fft_backend = 'pyfftw'\n",
    "\n",
    "\n",
    "timeit = True\n",
    "for FFT3D_ in [FFT3DFull, FFT3DSticks, FFT3DSticksv1, FFT3DSticksv2, FFT3DFull]:\n",
    "    class GSpaceTest(GSpace):\n",
    "        FFT3D = FFT3D_\n",
    "        stick_idim = 1\n",
    "    \n",
    "    gspc = GSpaceTest(recilat, ecutwfn)\n",
    "    arr_g = gspc.create_buffer_g(1)\n",
    "    arr_r = gspc.create_buffer_r(1)\n",
    "\n",
    "    arr_g[:] = np.random.rand(gspc.size_g) \\\n",
    "        + 1j * np.random.rand(gspc.size_g)\n",
    "\n",
    "    arr_r[:] = 0\n",
    "    arr_r.put(gspc.idxgrid, arr_g)\n",
    "    arr_r = arr_r.reshape((-1, *gspc.grid_shape))\n",
    "    arr_r[:] = np.fft.ifftn(arr_r, axes=(-1, -2, -3))\n",
    "    arr_r = arr_r.reshape(-1, gspc.size_r)\n",
    "    \n",
    "    print(type(gspc._fft), gspc._fft.FFTBackend)\n",
    "    print(getattr(gspc._fft, 'sticks_idim', None))\n",
    "    out = gspc.create_buffer_r(1)\n",
    "    gspc.g2r(arr_g, out)\n",
    "    print(np.allclose(out, arr_r))\n",
    "    \n",
    "    out = gspc.create_buffer_g(1)\n",
    "    gspc.r2g(arr_r, out)\n",
    "    print(np.allclose(out, arr_g))\n",
    "    \n",
    "    if timeit:\n",
    "        out = gspc.create_buffer_r(1)\n",
    "        %timeit gspc.g2r(arr_g, out)\n",
    "        out = gspc.create_buffer_g(1)\n",
    "        %timeit gspc.r2g(arr_r, out)\n",
    "    print()"
   ]
  },
  {
   "cell_type": "code",
   "execution_count": 9,
   "id": "f59b0e44-95ad-44da-a03a-5a91e1567911",
   "metadata": {},
   "outputs": [
    {
     "name": "stdout",
     "output_type": "stream",
     "text": [
      "491177 <class 'qtmpy.gspace.fft.full.FFT3DFull'> <class 'qtmpy.gspace.fft.backend.pyfftw_.PyFFTWFFTWrapper'>\n"
     ]
    }
   ],
   "source": [
    "from qtmpy import qtmconfig\n",
    "\n",
    "qtmconfig.fft_backend = 'pyfftw'\n",
    "\n",
    "gspc = GSpace(recilat, ecutwfn)\n",
    "print(gspc.size_g, type(gspc._fft), gspc._fft.FFTBackend)\n",
    "\n",
    "arr_g = gspc.create_buffer_g(1)\n",
    "arr_r = gspc.create_buffer_r(1)\n",
    "\n",
    "arr_g[:] = np.random.rand(gspc.size_g) \\\n",
    "    + 1j * np.random.rand(gspc.size_g)\n",
    "\n",
    "arr_r[:] = 0\n",
    "arr_r.put(gspc.idxgrid, arr_g)\n",
    "arr_r = arr_r.reshape((-1, *gspc.grid_shape))\n",
    "arr_r[:] = np.fft.ifftn(arr_r, axes=(-1, -2, -3))\n",
    "arr_r = arr_r.reshape(-1, gspc.size_r)\n"
   ]
  },
  {
   "cell_type": "code",
   "execution_count": 10,
   "id": "94d6cfef-8398-467a-95de-020f532e8d7d",
   "metadata": {},
   "outputs": [],
   "source": [
    "profile = 'g2r'"
   ]
  },
  {
   "cell_type": "code",
   "execution_count": 11,
   "id": "741dc9a2-968d-4bf7-b6bc-919572ab6873",
   "metadata": {},
   "outputs": [
    {
     "name": "stdout",
     "output_type": "stream",
     "text": [
      "<class 'qtmpy.gspace.fft.full.FFT3DFull'> <class 'qtmpy.gspace.fft.backend.pyfftw_.PyFFTWFFTWrapper'>\n",
      "False\n"
     ]
    },
    {
     "data": {
      "text/plain": [
       "Timer unit: 1e-09 s\n",
       "\n",
       "Total time: 0.0333332 s\n",
       "File: /home/lightpeak008/qtmpy/src/qtmpy/gspace/fft/full.py\n",
       "Function: g2r at line 24\n",
       "\n",
       "Line #      Hits         Time  Per Hit   % Time  Line Contents\n",
       "==============================================================\n",
       "    24                                               def g2r(self, arr_inp: NDArray, arr_out: NDArray) -> None:\n",
       "    25         1    1736174.0 1736174.0      5.2          self._work[:] = 0\n",
       "    26         1    4155791.0 4155791.0     12.5          self._work.reshape(-1)[self.idxgrid] = arr_inp\n",
       "    27         1   25410205.0 25410205.0     76.2          self.worker.ifft(self.normalise_idft)\n",
       "    28         1    2031022.0 2031022.0      6.1          arr_out[:] = self._work"
      ]
     },
     "metadata": {},
     "output_type": "display_data"
    }
   ],
   "source": [
    "from qtmpy.gspace.fft.full import FFT3DFull\n",
    "\n",
    "class GSpaceTest(GSpace):\n",
    "    FFT3D = FFT3DFull\n",
    "gspc = GSpaceTest(recilat, ecutwfn)\n",
    "print(type(gspc._fft), gspc._fft.FFTBackend)\n",
    "\n",
    "if profile == 'g2r':\n",
    "    out = gspc.create_buffer_r(1)\n",
    "    gspc.g2r(arr_g, out)\n",
    "    print(np.allclose(out, arr_r))\n",
    "    %lprun -f gspc._fft.g2r gspc.g2r(arr_g, out)\n",
    "else:    \n",
    "    out = gspc.create_buffer_g(1)\n",
    "    gspc.r2g(arr_r, out)\n",
    "    print(np.allclose(out, arr_g))\n",
    "    %lprun -f gspc._fft.r2g gspc.r2g(arr_r, out)"
   ]
  },
  {
   "cell_type": "code",
   "execution_count": 12,
   "id": "5c86d666-9ed0-4fba-969e-ff2cc198f5d8",
   "metadata": {},
   "outputs": [
    {
     "name": "stdout",
     "output_type": "stream",
     "text": [
      "<class 'qtmpy.gspace.fft.sticks.FFT3DSticks'> <class 'qtmpy.gspace.fft.backend.pyfftw_.PyFFTWFFTWrapper'>\n",
      "False\n"
     ]
    },
    {
     "data": {
      "text/plain": [
       "Timer unit: 1e-09 s\n",
       "\n",
       "Total time: 0.0386248 s\n",
       "File: /home/lightpeak008/qtmpy/src/qtmpy/gspace/fft/sticks.py\n",
       "Function: g2r at line 48\n",
       "\n",
       "Line #      Hits         Time  Per Hit   % Time  Line Contents\n",
       "==============================================================\n",
       "    48                                               def g2r(self, arr_inp: NDArray, arr_out: NDArray) -> None:\n",
       "    49         1    1248395.0 1248395.0      3.2          self._work_sticks.fill(0)\n",
       "    50         1    4157000.0 4157000.0     10.8          self._work_sticks.reshape(-1)[self.g2sticks] = arr_inp\n",
       "    51         1    7592700.0 7592700.0     19.7          self.fft3.ifft(self.normalise_idft)\n",
       "    52                                           \n",
       "    53         1    1762026.0 1762026.0      4.6          self._work_full.fill(0)\n",
       "    54         1    6907604.0 6907604.0     17.9          self._work_full.reshape((self.shape[0], -1))[\n",
       "    55         1       3522.0   3522.0      0.0              (slice(None), self.sticks2full)\n",
       "    56         1       1231.0   1231.0      0.0          ] = self._work_sticks\n",
       "    57         1   15081846.0 15081846.0     39.0          self.fft12.ifft(self.normalise_idft)\n",
       "    58                                           \n",
       "    59         1    1870490.0 1870490.0      4.8          arr_out[:] = self._work_full"
      ]
     },
     "metadata": {},
     "output_type": "display_data"
    }
   ],
   "source": [
    "from qtmpy.gspace.fft.sticks import FFT3DSticks\n",
    "\n",
    "class GSpaceTest(GSpace):\n",
    "    FFT3D = FFT3DSticks\n",
    "gspc = GSpaceTest(recilat, ecutwfn)\n",
    "print(type(gspc._fft), gspc._fft.FFTBackend)\n",
    "\n",
    "if profile == 'g2r':\n",
    "    out = gspc.create_buffer_r(1)\n",
    "    gspc.g2r(arr_g, out)\n",
    "    print(np.allclose(out, arr_r))\n",
    "    %lprun -f gspc._fft.g2r gspc.g2r(arr_g, out)\n",
    "else:    \n",
    "    out = gspc.create_buffer_g(1)\n",
    "    gspc.r2g(arr_r, out)\n",
    "    print(np.allclose(out, arr_g))\n",
    "    %lprun -f gspc._fft.r2g gspc.r2g(arr_r, out)"
   ]
  },
  {
   "cell_type": "code",
   "execution_count": 13,
   "id": "9a65d7e8-313d-4541-85fd-ef6981583e54",
   "metadata": {},
   "outputs": [
    {
     "name": "stdout",
     "output_type": "stream",
     "text": [
      "<class 'qtmpy.gspace.fft.sticks.FFT3DSticks'> <class 'qtmpy.gspace.fft.backend.pyfftw_.PyFFTWFFTWrapper'>\n",
      "True\n"
     ]
    },
    {
     "data": {
      "text/plain": [
       "Timer unit: 1e-09 s\n",
       "\n",
       "Total time: 0.0302251 s\n",
       "File: /home/lightpeak008/qtmpy/src/qtmpy/gspace/fft/sticks.py\n",
       "Function: r2g at line 38\n",
       "\n",
       "Line #      Hits         Time  Per Hit   % Time  Line Contents\n",
       "==============================================================\n",
       "    38                                               def r2g(self, arr_inp: NDArray, arr_out: NDArray) -> None:\n",
       "    39         1    2059316.0 2059316.0      6.8          self._work_full[:] = arr_inp\n",
       "    40         1   15190340.0 15190340.0     50.3          self.fft12.fft()\n",
       "    41                                           \n",
       "    42         1      11115.0  11115.0      0.0          work_full = self._work_full.reshape((self.shape[0], -1))\n",
       "    43         1    3011220.0 3011220.0     10.0          work_full.take(self.sticks2full, axis=1, out=self._work_sticks, mode='clip')\n",
       "    44         1    6792292.0 6792292.0     22.5          self.fft3.fft()\n",
       "    45                                           \n",
       "    46         1    3160863.0 3160863.0     10.5          self._work_sticks.take(self.g2sticks, out=arr_out, mode='clip')"
      ]
     },
     "metadata": {},
     "output_type": "display_data"
    }
   ],
   "source": [
    "class GSpaceTest(GSpace):\n",
    "    FFT3D = FFT3DSticks\n",
    "gspc = GSpaceTest(recilat, ecutwfn)\n",
    "print(type(gspc._fft), gspc._fft.FFTBackend)\n",
    "\n",
    "out = gspc.create_buffer_g(1)\n",
    "gspc.r2g(arr_r, out)\n",
    "print(np.allclose(out, arr_g))\n",
    "%lprun -f gspc._fft.r2g gspc.r2g(arr_r, out)"
   ]
  },
  {
   "cell_type": "code",
   "execution_count": null,
   "id": "fab9ae16-9290-49c0-a70c-3826b9c99bcf",
   "metadata": {},
   "outputs": [],
   "source": []
  },
  {
   "cell_type": "code",
   "execution_count": 14,
   "id": "7e8f0989-0546-465b-9317-f1e66d0725fe",
   "metadata": {},
   "outputs": [
    {
     "ename": "ImportError",
     "evalue": "cannot import name 'FFT3DSticksv2' from 'qtmpy.gspace.fft.sticks' (/home/lightpeak008/qtmpy/src/qtmpy/gspace/fft/sticks.py)",
     "output_type": "error",
     "traceback": [
      "\u001B[0;31m---------------------------------------------------------------------------\u001B[0m",
      "\u001B[0;31mImportError\u001B[0m                               Traceback (most recent call last)",
      "Cell \u001B[0;32mIn[14], line 1\u001B[0m\n\u001B[0;32m----> 1\u001B[0m \u001B[38;5;28;01mfrom\u001B[39;00m \u001B[38;5;21;01mqtmpy\u001B[39;00m\u001B[38;5;21;01m.\u001B[39;00m\u001B[38;5;21;01mgspace\u001B[39;00m\u001B[38;5;21;01m.\u001B[39;00m\u001B[38;5;21;01mfft\u001B[39;00m\u001B[38;5;21;01m.\u001B[39;00m\u001B[38;5;21;01msticks\u001B[39;00m \u001B[38;5;28;01mimport\u001B[39;00m FFT3DSticksv2\n\u001B[1;32m      3\u001B[0m \u001B[38;5;28;01mclass\u001B[39;00m \u001B[38;5;21;01mGSpaceTest\u001B[39;00m(GSpace):\n\u001B[1;32m      4\u001B[0m     FFT3D \u001B[38;5;241m=\u001B[39m FFT3DSticksv2\n",
      "\u001B[0;31mImportError\u001B[0m: cannot import name 'FFT3DSticksv2' from 'qtmpy.gspace.fft.sticks' (/home/lightpeak008/qtmpy/src/qtmpy/gspace/fft/sticks.py)"
     ]
    }
   ],
   "source": [
    "from qtmpy.gspace.fft.sticks import FFT3DSticksv2\n",
    "\n",
    "class GSpaceTest(GSpace):\n",
    "    FFT3D = FFT3DSticksv2\n",
    "gspc = GSpaceTest(recilat, ecutwfn)\n",
    "print(type(gspc._fft), gspc._fft.FFTBackend)\n",
    "\n",
    "if profile == 'g2r':\n",
    "    out = gspc.create_buffer_r(1)\n",
    "    gspc.g2r(arr_g, out)\n",
    "    print(np.allclose(out, arr_r))\n",
    "    %lprun -f gspc._fft.g2r gspc.g2r(arr_g, out)\n",
    "else:    \n",
    "    out = gspc.create_buffer_g(1)\n",
    "    gspc.r2g(arr_r, out)\n",
    "    print(np.allclose(out, arr_g))\n",
    "    %lprun -f gspc._fft.r2g gspc.r2g(arr_r, out)"
   ]
  },
  {
   "cell_type": "code",
   "execution_count": null,
   "id": "b827e200-a32d-40d1-9d01-90222beef545",
   "metadata": {},
   "outputs": [],
   "source": [
    "from qtmpy.gspace.fft.sticks import FFT3DSticksv1, FFT3DSticksv1\n",
    "\n",
    "class GSpaceTest(GSpace):\n",
    "    FFT3D = FFT3DSticksv1\n",
    "    \n",
    "gspc = GSpaceTest(recilat, ecutwfn)\n",
    "print(gspc.size, type(gspc._fft), gspc._fft.FFTBackend)\n",
    "\n",
    "out = gspc.create_buffer_r(1)\n",
    "%lprun -f gspc._fft.g2r gspc.g2r(arr_g, out)\n",
    "print(np.allclose(out, arr_r))\n",
    "\n",
    "# out = gspc.create_buffer_g(1)\n",
    "# %lprun -f gspc._fft.r2g gspc.r2g(arr_r, out)\n",
    "# print(np.allclose(out, arr_g))"
   ]
  },
  {
   "cell_type": "code",
   "execution_count": null,
   "id": "6a321467-7453-4df2-98b1-6c7aaf4c40bb",
   "metadata": {},
   "outputs": [],
   "source": [
    "a = np.arange(24).reshape(2,3,4)\n",
    "\n",
    "b = np.transpose(a, (0, 2, 1))\n",
    "print(a.shape, b.shape)\n",
    "print(a.data, b.data)\n",
    "print(a.strides, b.strides)\n",
    "print(b.base)\n",
    "print(a.base)\n",
    "print(np.shares_memory(a, b))"
   ]
  },
  {
   "cell_type": "code",
   "execution_count": null,
   "id": "4dee2e22-3e56-4e27-afb9-85a8ef7cdb38",
   "metadata": {},
   "outputs": [],
   "source": []
  }
 ],
 "metadata": {
  "kernelspec": {
   "display_name": "Python 3 (ipykernel)",
   "language": "python",
   "name": "python3"
  },
  "language_info": {
   "codemirror_mode": {
    "name": "ipython",
    "version": 3
   },
   "file_extension": ".py",
   "mimetype": "text/x-python",
   "name": "python",
   "nbconvert_exporter": "python",
   "pygments_lexer": "ipython3",
   "version": "3.11.0"
  }
 },
 "nbformat": 4,
 "nbformat_minor": 5
}
