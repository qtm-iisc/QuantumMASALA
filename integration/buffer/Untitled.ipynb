{
 "cells": [
  {
   "cell_type": "code",
   "execution_count": 1,
   "id": "884b8c18-3b0a-43ad-bd03-ae2429adaef7",
   "metadata": {},
   "outputs": [],
   "source": [
    "%load_ext autoreload\n",
    "%autoreload 2"
   ]
  },
  {
   "cell_type": "code",
   "execution_count": 2,
   "id": "ac9a86aa-f732-4f48-b7cd-f34f708f1ec1",
   "metadata": {},
   "outputs": [],
   "source": [
    "import sys\n",
    "\n",
    "linewidth = 100\n",
    "formatter = {\n",
    "    'float': lambda num: f'{num:5.1f}',\n",
    "    'int': lambda num: f'{float(num):5.1f}',\n",
    "}\n",
    "print_args = {\n",
    "#     'threshold': sys.maxsize,\n",
    "    'threshold': 100,\n",
    "    'linewidth': 100,\n",
    "    'formatter': formatter,\n",
    "    'edgeitems': 6,\n",
    "}"
   ]
  },
  {
   "cell_type": "code",
   "execution_count": 3,
   "id": "8698fc6d-81d9-4d62-87ab-6a110351f693",
   "metadata": {},
   "outputs": [],
   "source": [
    "import numpy as np\n",
    "from qtm.constants import RYDBERG\n",
    "from qtm.lattice import RealLattice, ReciLattice\n",
    "\n",
    "alat = 5.107\n",
    "latvec_alat = 0.5 * np.array([\n",
    "    [ 1,  1,  1],\n",
    "    [-1,  1,  1],\n",
    "    [-1, -1,  1]\n",
    "])\n",
    "\n",
    "ecutwfn = 40 * RYDBERG\n",
    "\n",
    "reallat = RealLattice.from_alat(alat, *latvec_alat)\n",
    "recilat = ReciLattice.from_reallat(reallat)"
   ]
  },
  {
   "cell_type": "code",
   "execution_count": 4,
   "id": "feafc483-f925-4dab-8cc2-6a981afe1871",
   "metadata": {},
   "outputs": [
    {
     "name": "stdout",
     "output_type": "stream",
     "text": [
      "(18, 18, 18)\n",
      "2243\n",
      "G_1:  [  0.0   0.0   0.0   0.0   0.0   0.0 ...  -1.0  -1.0  -1.0  -1.0  -1.0  -1.0]\n",
      "G_2:  [  0.0   0.0   0.0   0.0   0.0   0.0 ...  -1.0  -1.0  -1.0  -1.0  -1.0  -1.0]\n",
      "G_3:  [  0.0   1.0   2.0   3.0   4.0   5.0 ...  -6.0  -5.0  -4.0  -3.0  -2.0  -1.0]\n",
      "G^2:  [  0.0   3.0  12.1  27.2  48.4  75.7 ... 112.0  78.7  51.5  30.3  15.1   6.1]\n"
     ]
    }
   ],
   "source": [
    "from qtm.gspace import GSpace\n",
    "\n",
    "grho = GSpace(recilat, 4 * ecutwfn)\n",
    "print(grho.grid_shape)\n",
    "print(grho.size_g)\n",
    "with np.printoptions(**print_args):\n",
    "    for i in range(3):\n",
    "        print(f'G_{i+1}: ', grho.g_cryst[i])\n",
    "    print(f'G^2: ', grho.g_norm2)"
   ]
  },
  {
   "cell_type": "code",
   "execution_count": 5,
   "id": "69ee3868-9392-4296-bd1e-4e322478d2f0",
   "metadata": {},
   "outputs": [
    {
     "name": "stdout",
     "output_type": "stream",
     "text": [
      "(18, 18, 18)\n",
      "276\n",
      "G_1:  [  0.0   0.0   0.0   0.0   0.0   0.0 ...  -1.0  -1.0  -1.0  -1.0  -1.0  -1.0]\n",
      "G_2:  [  0.0   0.0   0.0   0.0   0.0   0.0 ...  -1.0  -1.0  -1.0  -1.0  -1.0  -1.0]\n",
      "G_3:  [  0.5   1.5   2.5   3.5  -3.5  -2.5 ...   0.5   1.5   2.5  -2.5  -1.5  -0.5]\n",
      "G^2:  [  0.8   6.8  18.9  37.1  37.1  18.9 ...   3.8   9.8  21.9  21.9   9.8   3.8]\n"
     ]
    }
   ],
   "source": [
    "from qtm.gspace import GkSpace\n",
    "\n",
    "gkwfn = GkSpace(grho, [0., 0., 0.5])\n",
    "print(gkwfn.grid_shape)\n",
    "print(gkwfn.size_g)\n",
    "with np.printoptions(**print_args):\n",
    "    for i in range(3):\n",
    "        print(f'G_{i+1}: ', gkwfn.gk_cryst[i])\n",
    "    print(f'G^2: ', gkwfn.gk_norm2)"
   ]
  },
  {
   "cell_type": "code",
   "execution_count": 7,
   "id": "99749f87-203a-4d82-af1a-2330478cacea",
   "metadata": {},
   "outputs": [
    {
     "name": "stdout",
     "output_type": "stream",
     "text": [
      "empty\n",
      "type: <class 'qtm.containers.field.FieldG'>\n",
      "basis: 'g', shape: (4, 10)\n",
      "\n",
      "rfield\n",
      "type: <class 'qtm.containers.field.FieldR'>\n",
      "basis: 'r', shape: (4, 10)\n",
      "\n"
     ]
    }
   ],
   "source": [
    "from qtm.containers import FieldG, FieldR\n",
    "\n",
    "def print_info(f):\n",
    "    typ = type(f)\n",
    "    basis = getattr(f, 'basis_type', 'N\\A')\n",
    "    shape = getattr(f, 'shape', 'N\\A')\n",
    "    print(f\"type: {str(type(f)):35}\\nbasis: '{basis}', shape: {shape}\\n\")\n",
    "\n",
    "# Creating a empty GField instance\n",
    "print('empty')\n",
    "a_g = FieldG.empty(grho, (4, 10))\n",
    "print_info(a_g)\n",
    "\n",
    "# Converting to RField instance\n",
    "print('rfield')\n",
    "a_r = a_g.to_r()\n",
    "print_info(a_r)\n"
   ]
  },
  {
   "cell_type": "code",
   "execution_count": 8,
   "id": "63371bf8-96aa-4aa2-99bf-6c29f581a9ad",
   "metadata": {},
   "outputs": [
    {
     "name": "stdout",
     "output_type": "stream",
     "text": [
      "indexing\n",
      "type: <class 'qtm.containers.field.FieldR'>\n",
      "basis: 'r', shape: (10,)\n",
      "\n",
      "slicing\n",
      "type: <class 'qtm.containers.field.FieldR'>\n",
      "basis: 'r', shape: (4, 5)\n",
      "\n"
     ]
    }
   ],
   "source": [
    "# Indexing\n",
    "print('indexing')\n",
    "arr_idx = a_r[2]\n",
    "print_info(arr_idx)\n",
    "\n",
    "# Slicing\n",
    "print('slicing')\n",
    "arr_sl = a_r[:, :5]\n",
    "print_info(arr_sl)"
   ]
  },
  {
   "cell_type": "code",
   "execution_count": 9,
   "id": "bba7cc62-42c9-4b8a-8938-559293a2db23",
   "metadata": {},
   "outputs": [
    {
     "name": "stdout",
     "output_type": "stream",
     "text": [
      "unpacking\n",
      "type: <class 'qtm.containers.field.FieldR'>\n",
      "basis: 'r', shape: ()\n",
      "\n",
      "type: <class 'qtm.containers.field.FieldR'>\n",
      "basis: 'r', shape: ()\n",
      "\n",
      "add\n",
      "type: <class 'qtm.containers.field.FieldR'>\n",
      "basis: 'r', shape: ()\n",
      "\n",
      "add bcast\n",
      "type: <class 'qtm.containers.field.FieldR'>\n",
      "basis: 'r', shape: (2, 3)\n",
      "\n"
     ]
    }
   ],
   "source": [
    "# Unpacking\n",
    "print('unpacking')\n",
    "x, y = a_r[0, :2]\n",
    "print_info(x)\n",
    "print_info(y)\n",
    "\n",
    "# Binary operations\n",
    "print('add')\n",
    "z = x + y\n",
    "print_info(z)\n",
    "\n",
    "# Binary operations with broadcasting\n",
    "print('add bcast')\n",
    "z = x + a_r[:2,:3]\n",
    "print_info(z)"
   ]
  },
  {
   "cell_type": "code",
   "execution_count": 11,
   "id": "10871f63-7ce6-4f60-b0d0-2ab61b904295",
   "metadata": {},
   "outputs": [
    {
     "name": "stdout",
     "output_type": "stream",
     "text": [
      "mismatch\n",
      "mismatch in 'basis_type' between two 'Buffer' instances.\n"
     ]
    }
   ],
   "source": [
    "# Operations between mismatched basis; raises exception\n",
    "print('mismatch')\n",
    "try:\n",
    "    z = x + x.to_g()\n",
    "except TypeError as e:\n",
    "    print(e)\n",
    "## TypeError: mismatch in 'basis_type' between two Field instances"
   ]
  },
  {
   "cell_type": "code",
   "execution_count": 12,
   "id": "ae65f8b9-8297-4a07-a916-19db8147da08",
   "metadata": {},
   "outputs": [
    {
     "name": "stdout",
     "output_type": "stream",
     "text": [
      "type: <class 'qtm.containers.field.FieldG'>\n",
      "basis: 'g', shape: (4, 10)\n",
      "\n",
      "type: <class 'qtm.containers.field.FieldG'>\n",
      "basis: 'g', shape: (10,)\n",
      "\n",
      "True\n",
      "type: <class 'qtm.containers.field.FieldG'>\n",
      "basis: 'g', shape: ()\n",
      "\n",
      "True\n"
     ]
    }
   ],
   "source": [
    "a_g = FieldG.empty(grho, (4, 10))\n",
    "print_info(a_g)\n",
    "a_g.g[:] = np.random.rand(*a_g.data.shape)\n",
    "\n",
    "s = sum(a_g)\n",
    "print_info(s)\n",
    "print(np.allclose(s.data, np.sum(a_g.data, axis=0)))\n",
    "\n",
    "s = sum(sum(a_g))\n",
    "print_info(s)\n",
    "print(np.allclose(s.data, np.sum(a_g.data, axis=(0, 1))))"
   ]
  },
  {
   "cell_type": "code",
   "execution_count": 13,
   "id": "f6c5f91d-f091-44ee-a857-2ca1cc855ee7",
   "metadata": {},
   "outputs": [
    {
     "name": "stdout",
     "output_type": "stream",
     "text": [
      "empty\n",
      "type: <class 'qtm.containers.wavefun.WavefunSpinG'>\n",
      "basis: 'g', shape: (4, 10)\n",
      "\n"
     ]
    }
   ],
   "source": [
    "from qtm.containers import WavefunSpinG\n",
    "\n",
    "print('empty')\n",
    "a_g = WavefunSpinG.empty(gkwfn, (4, 10))\n",
    "print_info(a_g)"
   ]
  },
  {
   "cell_type": "code",
   "execution_count": 14,
   "id": "3617f035-834a-4bb1-a86c-435649b6ea33",
   "metadata": {},
   "outputs": [
    {
     "name": "stdout",
     "output_type": "stream",
     "text": [
      "552\n",
      "(4, 10) 11664\n",
      "(1,) 5832\n"
     ]
    }
   ],
   "source": [
    "print(a_g.basis_size)\n",
    "a_r = a_g.to_r()\n",
    "print(a_r.shape, a_r.basis_size)\n",
    "\n",
    "pot_r = FieldR.empty(a_g.gspc, 1)\n",
    "print(pot_r.shape, pot_r.basis_size)"
   ]
  },
  {
   "cell_type": "code",
   "execution_count": null,
   "id": "f19cacf7-4760-4f66-9791-7c482219fd23",
   "metadata": {},
   "outputs": [],
   "source": []
  }
 ],
 "metadata": {
  "kernelspec": {
   "display_name": "Python 3 (ipykernel)",
   "language": "python",
   "name": "python3"
  },
  "language_info": {
   "codemirror_mode": {
    "name": "ipython",
    "version": 3
   },
   "file_extension": ".py",
   "mimetype": "text/x-python",
   "name": "python",
   "nbconvert_exporter": "python",
   "pygments_lexer": "ipython3",
   "version": "3.11.4"
  }
 },
 "nbformat": 4,
 "nbformat_minor": 5
}
