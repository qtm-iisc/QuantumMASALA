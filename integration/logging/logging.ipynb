{
 "cells": [
  {
   "cell_type": "code",
   "execution_count": 1,
   "id": "7f1a9fca-d5e1-46dc-aa00-a63f83297bf3",
   "metadata": {},
   "outputs": [],
   "source": [
    "%load_ext autoreload\n",
    "%autoreload 2"
   ]
  },
  {
   "cell_type": "code",
   "execution_count": 2,
   "id": "2296fb71-672e-46fa-adbc-d25590fe469f",
   "metadata": {},
   "outputs": [
    {
     "name": "stderr",
     "output_type": "stream",
     "text": [
      "/home/lightpeak008/qtmpy/src/qtmpy/logger.py:474: UserWarning: log file 'test.log' already exists. Renaming it to 'test.pre20230708-124202.log'\n",
      "  warnings.warn(f\"log file '{file_dir}' already exists. \"\n"
     ]
    }
   ],
   "source": [
    "import logging\n",
    "from qtmpy.logger import qtmlogger, qtmlogger_set_filehandle\n",
    "\n",
    "# By default, the file handler level is set to `logging.INFO`\n",
    "qtmlogger_set_filehandle('test.log')"
   ]
  },
  {
   "cell_type": "code",
   "execution_count": 3,
   "id": "9f25eb08-56ed-4a50-912a-ee3f3bcc1130",
   "metadata": {},
   "outputs": [],
   "source": [
    "from qtmpy import config"
   ]
  },
  {
   "cell_type": "code",
   "execution_count": 4,
   "id": "8ae9834d-8a31-4138-81a1-40326801e3b1",
   "metadata": {},
   "outputs": [
    {
     "name": "stdout",
     "output_type": "stream",
     "text": [
      "['__name__', '__doc__', '__package__', '__loader__', '__spec__', '__file__', '__cached__', '__builtins__', 'Union', 'Any', 'Type', '__all__', 'np', 'find_spec', 'dataclass', 'QTMConfig']\n"
     ]
    }
   ],
   "source": [
    "print(config.__dir__())"
   ]
  },
  {
   "cell_type": "code",
   "execution_count": null,
   "id": "0d1554e7-557d-44f2-a684-cb5ba9f6fa54",
   "metadata": {},
   "outputs": [],
   "source": []
  },
  {
   "cell_type": "code",
   "execution_count": null,
   "id": "c1931193-2b1b-4b9b-bbf7-80d7c86e1e1c",
   "metadata": {},
   "outputs": [],
   "source": []
  },
  {
   "cell_type": "code",
   "execution_count": 3,
   "id": "30f05981-aabf-4f94-8f0b-88c8e3ffaeaa",
   "metadata": {},
   "outputs": [],
   "source": [
    "! rm *.log"
   ]
  },
  {
   "cell_type": "markdown",
   "id": "ed6b68b0-a32f-4ad1-8d5a-8322fd846d1c",
   "metadata": {},
   "source": [
    "Open a terminal and use `tail -F test.log` to see the log messages in real-time"
   ]
  },
  {
   "cell_type": "code",
   "execution_count": 4,
   "id": "694b7405-079f-4bd4-83ed-2fc0241ce3db",
   "metadata": {},
   "outputs": [
    {
     "name": "stdout",
     "output_type": "stream",
     "text": [
      "Logger Level:  0\n"
     ]
    }
   ],
   "source": [
    "# By default, the logger level is not set, \n",
    "# which defaults to `logging.WARNING`.\n",
    "# Even if level of file handler is lower, the logger\n",
    "# discards info and debug messages before send it to the handler\n",
    "print(\"Logger Level: \", qtmlogger.logger.level)\n",
    "qtmlogger.debug(\"This is a debug log\")\n",
    "qtmlogger.info(\"This is an info log\")\n",
    "qtmlogger.warning(\"This is a warning log\")\n",
    "qtmlogger.error(\"This is an error log\")\n",
    "qtmlogger.critical(\"This is a critical log\")"
   ]
  },
  {
   "cell_type": "code",
   "execution_count": 5,
   "id": "3583c070-4813-4998-b6bf-9c588d86db76",
   "metadata": {},
   "outputs": [
    {
     "name": "stdout",
     "output_type": "stream",
     "text": [
      "Logger Level:  10\n"
     ]
    }
   ],
   "source": [
    "# After the logger level is set to `logging.INFO`,\n",
    "# info messages are now visible in log file, but debug\n",
    "# messages are not visible as the handler discards them\n",
    "qtmlogger.setLevel(logging.DEBUG)\n",
    "print(\"Logger Level: \", qtmlogger.logger.level)\n",
    "qtmlogger.debug(\"This is a debug log\")\n",
    "qtmlogger.info(\"This is an info log\")\n",
    "qtmlogger.warning(\"This is a warning log\")\n",
    "qtmlogger.error(\"This is an error log\")\n",
    "qtmlogger.critical(\"This is a critical log\")"
   ]
  },
  {
   "cell_type": "code",
   "execution_count": 6,
   "id": "db07232e-5b50-4944-8409-d90db614598a",
   "metadata": {},
   "outputs": [],
   "source": [
    "# Calling `qtmlogger_set_filehandle` again to the same file\n",
    "# results in the old file truncated and renamed\n",
    "# and a new file created\n",
    "qtmlogger_set_filehandle('test.log', logging_level=logging.DEBUG)"
   ]
  },
  {
   "cell_type": "code",
   "execution_count": 7,
   "id": "6548d539-16f5-4555-8374-96ca8e47a969",
   "metadata": {},
   "outputs": [
    {
     "name": "stdout",
     "output_type": "stream",
     "text": [
      "Logger Level:  10\n"
     ]
    }
   ],
   "source": [
    "# Now all messages are visible in the logfile\n",
    "qtmlogger.setLevel(logging.DEBUG)\n",
    "print(\"Logger Level: \", qtmlogger.logger.level)\n",
    "qtmlogger.debug(\"This is a debug log\")\n",
    "qtmlogger.info(\"This is an info log\")\n",
    "qtmlogger.warning(\"This is a warning log\")\n",
    "qtmlogger.error(\"This is an error log\")\n",
    "qtmlogger.critical(\"This is a critical log\")"
   ]
  },
  {
   "cell_type": "code",
   "execution_count": 8,
   "id": "e4b84079-0539-4cac-a32b-d440a84e033a",
   "metadata": {},
   "outputs": [],
   "source": [
    "# Callling the method to a different file will truncate logs to the old file\n",
    "# And now redirect them to the new file\n",
    "qtmlogger_set_filehandle('test2.log', logging_level=logging.DEBUG)"
   ]
  },
  {
   "cell_type": "code",
   "execution_count": 9,
   "id": "304a9c6b-8a19-427d-8fb8-9720893b40c2",
   "metadata": {},
   "outputs": [
    {
     "name": "stdout",
     "output_type": "stream",
     "text": [
      "Logger Level:  10\n"
     ]
    }
   ],
   "source": [
    "# Now all messages are visible in the logfile\n",
    "qtmlogger.setLevel(logging.DEBUG)\n",
    "print(\"Logger Level: \", qtmlogger.logger.level)\n",
    "qtmlogger.debug(\"This is a debug log\")\n",
    "qtmlogger.info(\"This is an info log\")\n",
    "qtmlogger.warning(\"This is a warning log\")\n",
    "qtmlogger.error(\"This is an error log\")\n",
    "qtmlogger.critical(\"This is a critical log\")"
   ]
  },
  {
   "cell_type": "code",
   "execution_count": 10,
   "id": "ebf241b3-19c7-4b13-9b61-c389a7277a36",
   "metadata": {},
   "outputs": [],
   "source": [
    "import time\n",
    "\n",
    "@qtmlogger.time('sleepy_func')\n",
    "def sleepy_func():\n",
    "    time.sleep(1)\n",
    "    \n",
    "    \n",
    "sleepy_func()"
   ]
  },
  {
   "cell_type": "code",
   "execution_count": 11,
   "id": "fa065674-6933-4b5e-95d1-b06ff1575f91",
   "metadata": {},
   "outputs": [
    {
     "name": "stdout",
     "output_type": "stream",
     "text": [
      "                          TIMERS                           \n",
      "-----------------------------------------------------------\n",
      "|            LABEL             |  CALL  |  TIME  | STATUS  |\n",
      "-----------------------------------------------------------\n",
      "-----------------------------------------------------------\n",
      "\n",
      "                COUNTERS                 \n",
      "-----------------------------------------\n",
      "|            LABEL             | COUNT  |\n",
      "-----------------------------------------\n",
      "-----------------------------------------\n",
      "\n"
     ]
    }
   ],
   "source": [
    "# Note that since we are in interactive mode, all timers are disabled\n",
    "print(qtmlogger)"
   ]
  },
  {
   "cell_type": "code",
   "execution_count": 12,
   "id": "eab99bbb-d6c6-4737-9ea0-b3cede42bf35",
   "metadata": {},
   "outputs": [
    {
     "name": "stdout",
     "output_type": "stream",
     "text": [
      "                          TIMERS                           \n",
      "-----------------------------------------------------------\n",
      "|            LABEL             |  CALL  |  TIME  | STATUS  |\n",
      "-----------------------------------------------------------\n",
      "|         sleepy_func          |       1|    1.00| STOPPED |\n",
      "-----------------------------------------------------------\n",
      "\n",
      "                COUNTERS                 \n",
      "-----------------------------------------\n",
      "|            LABEL             | COUNT  |\n",
      "-----------------------------------------\n",
      "-----------------------------------------\n",
      "\n"
     ]
    }
   ],
   "source": [
    "# Enabling them\n",
    "qtmlogger.enable_timer = True\n",
    "    \n",
    "sleepy_func()\n",
    "print(qtmlogger)"
   ]
  },
  {
   "cell_type": "code",
   "execution_count": 13,
   "id": "3e3259f2-9da6-4b52-b14e-19c0e10579f5",
   "metadata": {},
   "outputs": [
    {
     "name": "stdout",
     "output_type": "stream",
     "text": [
      "<function sleepy_func at 0x7f7aeece2e80>\n"
     ]
    }
   ],
   "source": [
    "print(sleepy_func)"
   ]
  },
  {
   "cell_type": "code",
   "execution_count": 14,
   "id": "c5674726-54a1-4750-bffc-8386c14db509",
   "metadata": {},
   "outputs": [
    {
     "ename": "ValueError",
     "evalue": "Buggy",
     "output_type": "error",
     "traceback": [
      "\u001B[0;31m---------------------------------------------------------------------------\u001B[0m",
      "\u001B[0;31mValueError\u001B[0m                                Traceback (most recent call last)",
      "Cell \u001B[0;32mIn[14], line 6\u001B[0m\n\u001B[1;32m      1\u001B[0m \u001B[38;5;129m@qtmlogger\u001B[39m\u001B[38;5;241m.\u001B[39mtime\n\u001B[1;32m      2\u001B[0m \u001B[38;5;28;01mdef\u001B[39;00m \u001B[38;5;21mbuggy_func\u001B[39m():\n\u001B[1;32m      3\u001B[0m     \u001B[38;5;28;01mraise\u001B[39;00m \u001B[38;5;167;01mValueError\u001B[39;00m(\u001B[38;5;124m\"\u001B[39m\u001B[38;5;124mBuggy\u001B[39m\u001B[38;5;124m\"\u001B[39m)\n\u001B[0;32m----> 6\u001B[0m \u001B[43mbuggy_func\u001B[49m\u001B[43m(\u001B[49m\u001B[43m)\u001B[49m\n",
      "File \u001B[0;32m~/qtmpy/src/qtmpy/logger.py:199\u001B[0m, in \u001B[0;36mQTMTimer.time.<locals>.call_func\u001B[0;34m(*args, **kwargs)\u001B[0m\n\u001B[1;32m    197\u001B[0m     \u001B[38;5;28mself\u001B[39m\u001B[38;5;241m.\u001B[39m_start_timer(func\u001B[38;5;241m.\u001B[39m\u001B[38;5;18m__name__\u001B[39m)\n\u001B[1;32m    198\u001B[0m \u001B[38;5;28;01mtry\u001B[39;00m:\n\u001B[0;32m--> 199\u001B[0m     out \u001B[38;5;241m=\u001B[39m \u001B[43mfunc\u001B[49m\u001B[43m(\u001B[49m\u001B[38;5;241;43m*\u001B[39;49m\u001B[43margs\u001B[49m\u001B[43m,\u001B[49m\u001B[43m \u001B[49m\u001B[38;5;241;43m*\u001B[39;49m\u001B[38;5;241;43m*\u001B[39;49m\u001B[43mkwargs\u001B[49m\u001B[43m)\u001B[49m\n\u001B[1;32m    200\u001B[0m \u001B[38;5;28;01mexcept\u001B[39;00m:\n\u001B[1;32m    201\u001B[0m     tp, exc, tb \u001B[38;5;241m=\u001B[39m exc_info()\n",
      "Cell \u001B[0;32mIn[14], line 3\u001B[0m, in \u001B[0;36mbuggy_func\u001B[0;34m()\u001B[0m\n\u001B[1;32m      1\u001B[0m \u001B[38;5;129m@qtmlogger\u001B[39m\u001B[38;5;241m.\u001B[39mtime\n\u001B[1;32m      2\u001B[0m \u001B[38;5;28;01mdef\u001B[39;00m \u001B[38;5;21mbuggy_func\u001B[39m():\n\u001B[0;32m----> 3\u001B[0m     \u001B[38;5;28;01mraise\u001B[39;00m \u001B[38;5;167;01mValueError\u001B[39;00m(\u001B[38;5;124m\"\u001B[39m\u001B[38;5;124mBuggy\u001B[39m\u001B[38;5;124m\"\u001B[39m)\n",
      "\u001B[0;31mValueError\u001B[0m: Buggy"
     ]
    }
   ],
   "source": [
    "@qtmlogger.time('buggy_func')\n",
    "def buggy_func():\n",
    "    raise ValueError(\"Buggy\")\n",
    "\n",
    "    \n",
    "buggy_func()"
   ]
  },
  {
   "cell_type": "code",
   "execution_count": null,
   "id": "25386159-8114-4b7e-a8bd-27beb3924ebb",
   "metadata": {},
   "outputs": [],
   "source": []
  }
 ],
 "metadata": {
  "kernelspec": {
   "display_name": "Python 3 (ipykernel)",
   "language": "python",
   "name": "python3"
  },
  "language_info": {
   "codemirror_mode": {
    "name": "ipython",
    "version": 3
   },
   "file_extension": ".py",
   "mimetype": "text/x-python",
   "name": "python",
   "nbconvert_exporter": "python",
   "pygments_lexer": "ipython3",
   "version": "3.11.0"
  }
 },
 "nbformat": 4,
 "nbformat_minor": 5
}
