{
 "cells": [
  {
   "cell_type": "code",
   "execution_count": 4,
   "id": "65d24b9b-3ba3-4a56-bf67-bf117d14fe29",
   "metadata": {},
   "outputs": [],
   "source": [
    "import numpy as np\n",
    "from qtmpy.constants import ANGSTROM\n",
    "\n",
    "# Defining a BCC Lattice\n",
    "alat = 5.1 * ANGSTROM  # Lattice parameter 'a'\n",
    "# Lattice vectors\n",
    "latvec_alat = 0.5 * np.array([\n",
    "    [ 1,  1,  1],\n",
    "    [-1,  1,  1],\n",
    "    [-1, -1,  1]\n",
    "])"
   ]
  },
  {
   "cell_type": "code",
   "execution_count": 17,
   "id": "d957615b-9c6f-493b-9bc1-e76d32b804e3",
   "metadata": {},
   "outputs": [
    {
     "name": "stdout",
     "output_type": "stream",
     "text": [
      "9.637603235591428 ([0.5, 0.5, 0.5], [-0.5, 0.5, 0.5], [-0.5, -0.5, 0.5])\n",
      "0.6519447993019614 ([0.9999999999999998, 0.0, 0.9999999999999998], [-0.9999999999999998, 0.9999999999999998, 0.0], [0.0, -0.9999999999999998, 0.9999999999999998])\n"
     ]
    }
   ],
   "source": [
    "from qtmpy.lattice import RealLattice, ReciLattice\n",
    "\n",
    "# Creating RealLattice instance representing FCC lattice\n",
    "reallat = RealLattice.from_alat(alat, *latvec_alat)\n",
    "# Creating ReciLattice insance from reallat\n",
    "recilat = ReciLattice.from_reallat(reallat)\n",
    "\n",
    "# Printing axes\n",
    "print(reallat.alat, reallat.axes_alat)\n",
    "print(recilat.tpiba, recilat.axes_tpiba)"
   ]
  },
  {
   "cell_type": "code",
   "execution_count": 16,
   "id": "e3086264-3d31-4941-8cfb-5e91e9b44808",
   "metadata": {},
   "outputs": [
    {
     "name": "stdout",
     "output_type": "stream",
     "text": [
      "(4, 3)\n",
      "[[ 4.81880162  4.81880162  4.81880162]\n",
      " [-4.81880162  4.81880162  4.81880162]\n",
      " [ 0.          9.63760324  9.63760324]\n",
      " [-9.63760324  0.          9.63760324]]\n",
      "[[ 0.5  0.5  0.5]\n",
      " [-0.5  0.5  0.5]\n",
      " [ 0.   1.   1. ]\n",
      " [-1.   0.   1. ]]\n",
      "[0.8660254  0.8660254  1.41421356 1.41421356]\n"
     ]
    }
   ],
   "source": [
    "vec_cryst = np.array([\n",
    "    [1, 0, 0],\n",
    "    [0, 1, 0],\n",
    "    [1, 1, 0],\n",
    "    [0, 1, 1]\n",
    "])\n",
    "print(vec_cryst.shape)\n",
    "vec_cart = reallat.cryst2cart(vec_cryst, axis=1)\n",
    "print(vec_cart)\n",
    "vec_alat = reallat.cryst2alat(vec_cryst, axis=1)\n",
    "print(vec_alat)\n",
    "len_alat = reallat.norm(vec_cryst.T, coords='cryst')\n",
    "print(len_alat / reallat.alat)"
   ]
  },
  {
   "cell_type": "code",
   "execution_count": 18,
   "id": "6f59e6aa-e5d5-467b-8355-51ca4bc1629a",
   "metadata": {},
   "outputs": [
    {
     "name": "stdout",
     "output_type": "stream",
     "text": [
      "9.637603235591428 ([0.5, 0.5, 0.5], [-0.5, 0.5, 0.5], [-0.5, -0.5, 0.5])\n",
      "0.6519447993019614 ([0.9999999999999998, 0.0, 0.9999999999999998], [-0.9999999999999998, 0.9999999999999998, 0.0], [0.0, -0.9999999999999998, 0.9999999999999998])\n",
      "[[ 4.81880162  4.81880162  4.81880162]\n",
      " [-4.81880162  4.81880162  4.81880162]\n",
      " [ 0.          9.63760324  9.63760324]\n",
      " [-9.63760324  0.          9.63760324]]\n",
      "[[ 0.5  0.5  0.5]\n",
      " [-0.5  0.5  0.5]\n",
      " [ 0.   1.   1. ]\n",
      " [-1.   0.   1. ]]\n",
      "[0.8660254  0.8660254  1.41421356 1.41421356]\n"
     ]
    }
   ],
   "source": [
    "import numpy as np\n",
    "\n",
    "from qtmpy.lattice import RealLattice, ReciLattice\n",
    "from qtmpy.constants import ANGSTROM\n",
    "\n",
    "# Defining a BCC Lattice\n",
    "alat = 5.1 * ANGSTROM  # Lattice parameter 'a'\n",
    "# Lattice vectors\n",
    "latvec_alat = 0.5 * np.array([\n",
    "    [ 1,  1,  1],\n",
    "    [-1,  1,  1],\n",
    "    [-1, -1,  1]\n",
    "])\n",
    "\n",
    "# Creating RealLattice instance representing FCC lattice\n",
    "reallat = RealLattice.from_alat(alat, *latvec_alat)\n",
    "# Creating ReciLattice insance from reallat\n",
    "recilat = ReciLattice.from_reallat(reallat)\n",
    "\n",
    "# Printing axes\n",
    "print(reallat.alat, reallat.axes_alat)\n",
    "## 9.637603235591428 ([0.5, 0.5, 0.5], [-0.5, 0.5, 0.5], [-0.5, -0.5, 0.5])\n",
    "\n",
    "print(recilat.tpiba, recilat.axes_tpiba)\n",
    "## 0.6519447993019614 ([1.0, 0.0, 1.0], [-1.0, 1.0, 0.0], [0.0, -1.0, 1.0])\n",
    "\n",
    "# Input array of vectors in crystal coordinates\n",
    "vec_cryst = np.array([\n",
    "    [1, 0, 0],\n",
    "    [0, 1, 0],\n",
    "    [1, 1, 0],\n",
    "    [0, 1, 1]\n",
    "])\n",
    "\n",
    "# Coordinate Transforms\n",
    "vec_cart = reallat.cryst2cart(vec_cryst, axis=1)\n",
    "print(vec_cart)\n",
    "## [[ 4.81880162  4.81880162  4.81880162]\n",
    "##  [-4.81880162  4.81880162  4.81880162]\n",
    "##  [ 0.          9.63760324  9.63760324]\n",
    "##  [-9.63760324  0.          9.63760324]]\n",
    "\n",
    "vec_alat = reallat.cryst2alat(vec_cryst, axis=1)\n",
    "print(vec_alat)\n",
    "## [[ 0.5  0.5  0.5]\n",
    "##  [-0.5  0.5  0.5]\n",
    "##  [ 0.   1.   1. ]\n",
    "##  [-1.   0.   1. ]]\n",
    "\n",
    "# NOTE: As per convention, the first dimension of vector lists\n",
    "# must correspond to the components, resulting in a shape of\n",
    "# form (3, ...)\n",
    "len_alat = reallat.norm(vec_cryst.T, coords='cryst')\n",
    "print(len_alat / reallat.alat)\n",
    "## [0.8660254  0.8660254  1.41421356 1.41421356]"
   ]
  },
  {
   "cell_type": "code",
   "execution_count": 24,
   "id": "066ddcbd-cb4b-4e0c-b81e-62c5b57b0abd",
   "metadata": {},
   "outputs": [
    {
     "name": "stdout",
     "output_type": "stream",
     "text": [
      "(18, 18, 18) 1961\n",
      "G_1:  [  0.0   0.0   0.0   0.0   0.0 ...  -1.0  -1.0  -1.0  -1.0  -1.0]\n",
      "G_2:  [  0.0   0.0   0.0   0.0   0.0 ...  -1.0  -1.0  -1.0  -1.0  -1.0]\n",
      "G_3:  [  0.0   1.0   2.0   3.0   4.0 ...  -5.0  -4.0  -3.0  -2.0  -1.0]\n",
      "G^2:  [  0.0   0.9   3.4   7.7  13.6 ...  22.1  14.5   8.5   4.3   1.7]\n"
     ]
    }
   ],
   "source": [
    "from qtmpy.gspace.gspc import GSpace\n",
    "from qtmpy.constants import RYDBERG\n",
    "\n",
    "# Creating a GSpace instance with KE cutoff 40 Ry\n",
    "gspc = GSpace(recilat, 40 * RYDBERG)\n",
    "print(gspc.grid_shape, gspc.size)\n",
    "## (18, 18, 18) 1961\n",
    "\n",
    "# Printing the G-vectors of gspc\n",
    "with np.printoptions(edgeitems=5, formatter={\n",
    "    'float': lambda num: f'{num:5.1f}',\n",
    "    'int': lambda num: f'{float(num):5.1f}',\n",
    "}):\n",
    "    for i in range(3):\n",
    "        print(f'G_{i+1}: ', gspc.g_cryst[i])\n",
    "    print(f'G^2: ', gspc.g_norm2)\n",
    "## G_1:  [  0.0   0.0   0.0   0.0   0.0 ...  -1.0  -1.0  -1.0  -1.0  -1.0]\n",
    "## G_2:  [  0.0   0.0   0.0   0.0   0.0 ...  -1.0  -1.0  -1.0  -1.0  -1.0]\n",
    "## G_3:  [  0.0   1.0   2.0   3.0   4.0 ...  -5.0  -4.0  -3.0  -2.0  -1.0]\n",
    "## G^2:  [  0.0   0.9   3.4   7.7  13.6 ...  22.1  14.5   8.5   4.3   1.7]\n",
    "\n",
    "# Creating a array representing a scalar field\n",
    "sfield_r = gspc.create_buffer_r(1)\n",
    "sfield_r[:] = np.random.rand(*gspc.grid_shape) \\\n",
    "    + np.random.rand(*gspc.grid_shape)\n",
    "\n",
    "# Transforming to G-Space\n",
    "sfield_g = gspc.r2g(sfield_r)\n",
    "\n",
    "# The above is equivalent to 3D FFT followed by taking elements in field\n",
    "print(np.allclose(sfield_g, np.fft.fftn(sfield_r).take(gspc.idxgrid)))\n",
    "## True"
   ]
  }
 ],
 "metadata": {
  "kernelspec": {
   "display_name": "Python 3 (ipykernel)",
   "language": "python",
   "name": "python3"
  },
  "language_info": {
   "codemirror_mode": {
    "name": "ipython",
    "version": 3
   },
   "file_extension": ".py",
   "mimetype": "text/x-python",
   "name": "python",
   "nbconvert_exporter": "python",
   "pygments_lexer": "ipython3",
   "version": "3.11.0"
  }
 },
 "nbformat": 4,
 "nbformat_minor": 5
}
