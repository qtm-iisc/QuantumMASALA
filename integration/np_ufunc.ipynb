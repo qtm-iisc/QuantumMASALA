{
 "cells": [
  {
   "cell_type": "code",
   "execution_count": 1,
   "id": "7d327738-0754-49b1-a7b8-7378686efc95",
   "metadata": {},
   "outputs": [],
   "source": [
    "import numpy as np"
   ]
  },
  {
   "cell_type": "code",
   "execution_count": 2,
   "id": "d5fb8bd4-e1af-4a8e-a0bf-369b106bfded",
   "metadata": {},
   "outputs": [],
   "source": [
    "l_math = [\n",
    "    np.add, np.subtract, np.multiply, np.matmul, np.divide,\n",
    "    np.logaddexp, np.logaddexp2, np.true_divide, np.floor_divide,\n",
    "    np.negative, np.positive, np.power, np.float_power,\n",
    "    np.remainder, np.mod, np.fmod, np.divmod, np.absolute,\n",
    "    np.fabs, np.rint, np.sign, np.heaviside, np.conj, np.conjugate,\n",
    "    np.exp, np.exp2, np.log, np.log2, np.expm1, np.log1p,\n",
    "    np.sqrt, np.square, np.cbrt, np.reciprocal, np.gcd, np.lcm,\n",
    "]\n",
    "\n",
    "l_trig = [\n",
    "    np.sin, np.cos, np.tan, np.arcsin, np.arccos, np.arctan,\n",
    "    np.arctan2, np.hypot, np.sinh, np.cosh, np.tanh,\n",
    "    np.arcsinh, np.arccosh, np.arctanh,\n",
    "    np.degrees, np.radians, np.deg2rad, np.rad2deg,\n",
    "]\n",
    "\n",
    "l_bit = [\n",
    "    np.bitwise_and, np.bitwise_or, np.bitwise_or,\n",
    "    np.invert, np.left_shift, np.right_shift,\n",
    "]\n",
    "\n",
    "l_compare = [\n",
    "    np.greater, np.greater_equal, np.less, np.less_equal,\n",
    "    np.not_equal, np.equal, np.logical_and, np.logical_or,\n",
    "    np.logical_xor, np.logical_not,\n",
    "    np.maximum, np.minimum, np.fmax, np.fmin,\n",
    "]\n",
    "\n",
    "l_float = [\n",
    "    np.isfinite, np.isinf, np.isnan, np.isnat,\n",
    "    np.fabs, np.signbit, np.copysign, np.nextafter, \n",
    "    np.spacing, np.modf, np.ldexp, np.frexp, np.fmod,\n",
    "    np.floor, np.ceil, np.trunc\n",
    "]"
   ]
  },
  {
   "cell_type": "code",
   "execution_count": 3,
   "id": "174d84a8-a0a6-44f9-b4df-0f1f66700383",
   "metadata": {},
   "outputs": [
    {
     "name": "stdout",
     "output_type": "stream",
     "text": [
      "[<ufunc 'slogdet'>, <ufunc 'det'>, <ufunc 'eigh_lo'>, <ufunc 'eigh_up'>, <ufunc 'eigvalsh_lo'>, <ufunc 'eigvalsh_up'>, <ufunc 'solve'>, <ufunc 'solve1'>, <ufunc 'inv'>, <ufunc 'cholesky_lo'>, <ufunc 'svd_m'>, <ufunc 'svd_n'>, <ufunc 'svd_m_s'>, <ufunc 'svd_n_s'>, <ufunc 'svd_m_f'>, <ufunc 'svd_n_f'>, <ufunc 'eig'>, <ufunc 'eigvals'>, <ufunc 'qr_r_raw_m'>, <ufunc 'qr_r_raw_n'>, <ufunc 'qr_reduced'>, <ufunc 'qr_complete'>, <ufunc 'lstsq_m'>, <ufunc 'lstsq_n'>]\n"
     ]
    }
   ],
   "source": [
    "from pprint import pprint\n",
    "\n",
    "mod = np.linalg._umath_linalg.__dict__\n",
    "l_linalg = list(mod[key] for key in mod if key[:2] != '__')\n",
    "print(l_linalg)"
   ]
  },
  {
   "cell_type": "code",
   "execution_count": 4,
   "id": "b1df9d21-c044-4a31-8958-bf83712a3717",
   "metadata": {},
   "outputs": [
    {
     "name": "stdout",
     "output_type": "stream",
     "text": [
      "<ufunc 'add'>                  -  3,  2,  1 - None                           - 0         \n",
      "<ufunc 'subtract'>             -  3,  2,  1 - None                           - None      \n",
      "<ufunc 'multiply'>             -  3,  2,  1 - None                           - 1         \n",
      "<ufunc 'matmul'>               -  3,  2,  1 - (n?,k),(k,m?)->(n?,m?)         - None      \n",
      "<ufunc 'divide'>               -  3,  2,  1 - None                           - None      \n",
      "<ufunc 'logaddexp'>            -  3,  2,  1 - None                           - -inf      \n",
      "<ufunc 'logaddexp2'>           -  3,  2,  1 - None                           - -inf      \n",
      "<ufunc 'divide'>               -  3,  2,  1 - None                           - None      \n",
      "<ufunc 'floor_divide'>         -  3,  2,  1 - None                           - None      \n",
      "<ufunc 'negative'>             -  2,  1,  1 - None                           - None      \n",
      "<ufunc 'positive'>             -  2,  1,  1 - None                           - None      \n",
      "<ufunc 'power'>                -  3,  2,  1 - None                           - None      \n",
      "<ufunc 'float_power'>          -  3,  2,  1 - None                           - None      \n",
      "<ufunc 'remainder'>            -  3,  2,  1 - None                           - None      \n",
      "<ufunc 'remainder'>            -  3,  2,  1 - None                           - None      \n",
      "<ufunc 'fmod'>                 -  3,  2,  1 - None                           - None      \n",
      "<ufunc 'divmod'>               -  4,  2,  2 - None                           - None      \n",
      "<ufunc 'absolute'>             -  2,  1,  1 - None                           - None      \n",
      "<ufunc 'fabs'>                 -  2,  1,  1 - None                           - None      \n",
      "<ufunc 'rint'>                 -  2,  1,  1 - None                           - None      \n",
      "<ufunc 'sign'>                 -  2,  1,  1 - None                           - None      \n",
      "<ufunc 'heaviside'>            -  3,  2,  1 - None                           - None      \n",
      "<ufunc 'conjugate'>            -  2,  1,  1 - None                           - None      \n",
      "<ufunc 'conjugate'>            -  2,  1,  1 - None                           - None      \n",
      "<ufunc 'exp'>                  -  2,  1,  1 - None                           - None      \n",
      "<ufunc 'exp2'>                 -  2,  1,  1 - None                           - None      \n",
      "<ufunc 'log'>                  -  2,  1,  1 - None                           - None      \n",
      "<ufunc 'log2'>                 -  2,  1,  1 - None                           - None      \n",
      "<ufunc 'expm1'>                -  2,  1,  1 - None                           - None      \n",
      "<ufunc 'log1p'>                -  2,  1,  1 - None                           - None      \n",
      "<ufunc 'sqrt'>                 -  2,  1,  1 - None                           - None      \n",
      "<ufunc 'square'>               -  2,  1,  1 - None                           - None      \n",
      "<ufunc 'cbrt'>                 -  2,  1,  1 - None                           - None      \n",
      "<ufunc 'reciprocal'>           -  2,  1,  1 - None                           - None      \n",
      "<ufunc 'gcd'>                  -  3,  2,  1 - None                           - 0         \n",
      "<ufunc 'lcm'>                  -  3,  2,  1 - None                           - None      \n"
     ]
    }
   ],
   "source": [
    "def print_ufunc(ufunc):\n",
    "    print(f\"{str(ufunc):30} - \"\n",
    "          f\"{ufunc.nargs:2}, \"\n",
    "          f\"{ufunc.nin:2}, \"\n",
    "          f\"{ufunc.nout:2} - \"\n",
    "          f\"{str(ufunc.signature):30} - \"\n",
    "          f\"{str(ufunc.identity):10}\"\n",
    "    )\n",
    "\n",
    "for ufunc in l_math:\n",
    "    print_ufunc(ufunc)"
   ]
  },
  {
   "cell_type": "code",
   "execution_count": 5,
   "id": "f58009b8-d8af-4f26-9a8d-621ea578ef8c",
   "metadata": {},
   "outputs": [
    {
     "name": "stdout",
     "output_type": "stream",
     "text": [
      "<ufunc 'sin'>                  -  2,  1,  1 - None                           - None      \n",
      "<ufunc 'cos'>                  -  2,  1,  1 - None                           - None      \n",
      "<ufunc 'tan'>                  -  2,  1,  1 - None                           - None      \n",
      "<ufunc 'arcsin'>               -  2,  1,  1 - None                           - None      \n",
      "<ufunc 'arccos'>               -  2,  1,  1 - None                           - None      \n",
      "<ufunc 'arctan'>               -  2,  1,  1 - None                           - None      \n",
      "<ufunc 'arctan2'>              -  3,  2,  1 - None                           - None      \n",
      "<ufunc 'hypot'>                -  3,  2,  1 - None                           - 0         \n",
      "<ufunc 'sinh'>                 -  2,  1,  1 - None                           - None      \n",
      "<ufunc 'cosh'>                 -  2,  1,  1 - None                           - None      \n",
      "<ufunc 'tanh'>                 -  2,  1,  1 - None                           - None      \n",
      "<ufunc 'arcsinh'>              -  2,  1,  1 - None                           - None      \n",
      "<ufunc 'arccosh'>              -  2,  1,  1 - None                           - None      \n",
      "<ufunc 'arctanh'>              -  2,  1,  1 - None                           - None      \n",
      "<ufunc 'degrees'>              -  2,  1,  1 - None                           - None      \n",
      "<ufunc 'radians'>              -  2,  1,  1 - None                           - None      \n",
      "<ufunc 'deg2rad'>              -  2,  1,  1 - None                           - None      \n",
      "<ufunc 'rad2deg'>              -  2,  1,  1 - None                           - None      \n"
     ]
    }
   ],
   "source": [
    "for ufunc in l_trig:\n",
    "    print_ufunc(ufunc)"
   ]
  },
  {
   "cell_type": "code",
   "execution_count": 6,
   "id": "f48bae9e-6bfc-4dac-a77a-dcd3be774ca6",
   "metadata": {},
   "outputs": [
    {
     "name": "stdout",
     "output_type": "stream",
     "text": [
      "<ufunc 'bitwise_and'>          -  3,  2,  1 - None                           - -1        \n",
      "<ufunc 'bitwise_or'>           -  3,  2,  1 - None                           - 0         \n",
      "<ufunc 'bitwise_or'>           -  3,  2,  1 - None                           - 0         \n",
      "<ufunc 'invert'>               -  2,  1,  1 - None                           - None      \n",
      "<ufunc 'left_shift'>           -  3,  2,  1 - None                           - None      \n",
      "<ufunc 'right_shift'>          -  3,  2,  1 - None                           - None      \n"
     ]
    }
   ],
   "source": [
    "for ufunc in l_bit:\n",
    "    print_ufunc(ufunc)"
   ]
  },
  {
   "cell_type": "code",
   "execution_count": 7,
   "id": "886e329f-ee83-448d-8956-0e9215879d17",
   "metadata": {},
   "outputs": [
    {
     "name": "stdout",
     "output_type": "stream",
     "text": [
      "<ufunc 'greater'>              -  3,  2,  1 - None                           - None      \n",
      "<ufunc 'greater_equal'>        -  3,  2,  1 - None                           - None      \n",
      "<ufunc 'less'>                 -  3,  2,  1 - None                           - None      \n",
      "<ufunc 'less_equal'>           -  3,  2,  1 - None                           - None      \n",
      "<ufunc 'not_equal'>            -  3,  2,  1 - None                           - None      \n",
      "<ufunc 'equal'>                -  3,  2,  1 - None                           - None      \n",
      "<ufunc 'logical_and'>          -  3,  2,  1 - None                           - True      \n",
      "<ufunc 'logical_or'>           -  3,  2,  1 - None                           - False     \n",
      "<ufunc 'logical_xor'>          -  3,  2,  1 - None                           - False     \n",
      "<ufunc 'logical_not'>          -  2,  1,  1 - None                           - None      \n",
      "<ufunc 'maximum'>              -  3,  2,  1 - None                           - None      \n",
      "<ufunc 'minimum'>              -  3,  2,  1 - None                           - None      \n",
      "<ufunc 'fmax'>                 -  3,  2,  1 - None                           - None      \n",
      "<ufunc 'fmin'>                 -  3,  2,  1 - None                           - None      \n"
     ]
    }
   ],
   "source": [
    "for ufunc in l_compare:\n",
    "    print_ufunc(ufunc)"
   ]
  },
  {
   "cell_type": "code",
   "execution_count": 8,
   "id": "5e415567-8b38-4a88-b7d3-5f67a8613b2b",
   "metadata": {},
   "outputs": [
    {
     "name": "stdout",
     "output_type": "stream",
     "text": [
      "<ufunc 'isfinite'>             -  2,  1,  1 - None                           - None      \n",
      "<ufunc 'isinf'>                -  2,  1,  1 - None                           - None      \n",
      "<ufunc 'isnan'>                -  2,  1,  1 - None                           - None      \n",
      "<ufunc 'isnat'>                -  2,  1,  1 - None                           - None      \n",
      "<ufunc 'fabs'>                 -  2,  1,  1 - None                           - None      \n",
      "<ufunc 'signbit'>              -  2,  1,  1 - None                           - None      \n",
      "<ufunc 'copysign'>             -  3,  2,  1 - None                           - None      \n",
      "<ufunc 'nextafter'>            -  3,  2,  1 - None                           - None      \n",
      "<ufunc 'spacing'>              -  2,  1,  1 - None                           - None      \n",
      "<ufunc 'modf'>                 -  3,  1,  2 - None                           - None      \n",
      "<ufunc 'ldexp'>                -  3,  2,  1 - None                           - None      \n",
      "<ufunc 'frexp'>                -  3,  1,  2 - None                           - None      \n",
      "<ufunc 'fmod'>                 -  3,  2,  1 - None                           - None      \n",
      "<ufunc 'floor'>                -  2,  1,  1 - None                           - None      \n",
      "<ufunc 'ceil'>                 -  2,  1,  1 - None                           - None      \n",
      "<ufunc 'trunc'>                -  2,  1,  1 - None                           - None      \n"
     ]
    }
   ],
   "source": [
    "for ufunc in l_float:\n",
    "    print_ufunc(ufunc)"
   ]
  },
  {
   "cell_type": "code",
   "execution_count": 9,
   "id": "307d8ddd-8bd1-47df-b0e4-463e123a5ed5",
   "metadata": {},
   "outputs": [
    {
     "name": "stdout",
     "output_type": "stream",
     "text": [
      "<ufunc 'slogdet'>              -  3,  1,  2 - (m,m)->(),()                   - None      \n",
      "<ufunc 'det'>                  -  2,  1,  1 - (m,m)->()                      - None      \n",
      "<ufunc 'eigh_lo'>              -  3,  1,  2 - (m,m)->(m),(m,m)               - None      \n",
      "<ufunc 'eigh_up'>              -  3,  1,  2 - (m,m)->(m),(m,m)               - None      \n",
      "<ufunc 'eigvalsh_lo'>          -  2,  1,  1 - (m,m)->(m)                     - None      \n",
      "<ufunc 'eigvalsh_up'>          -  2,  1,  1 - (m,m)->(m)                     - None      \n",
      "<ufunc 'solve'>                -  3,  2,  1 - (m,m),(m,n)->(m,n)             - None      \n",
      "<ufunc 'solve1'>               -  3,  2,  1 - (m,m),(m)->(m)                 - None      \n",
      "<ufunc 'inv'>                  -  2,  1,  1 - (m, m)->(m, m)                 - None      \n",
      "<ufunc 'cholesky_lo'>          -  2,  1,  1 - (m,m)->(m,m)                   - None      \n",
      "<ufunc 'svd_m'>                -  2,  1,  1 - (m,n)->(m)                     - None      \n",
      "<ufunc 'svd_n'>                -  2,  1,  1 - (m,n)->(n)                     - None      \n",
      "<ufunc 'svd_m_s'>              -  4,  1,  3 - (m,n)->(m,m),(m),(m,n)         - None      \n",
      "<ufunc 'svd_n_s'>              -  4,  1,  3 - (m,n)->(m,n),(n),(n,n)         - None      \n",
      "<ufunc 'svd_m_f'>              -  4,  1,  3 - (m,n)->(m,m),(m),(n,n)         - None      \n",
      "<ufunc 'svd_n_f'>              -  4,  1,  3 - (m,n)->(m,m),(n),(n,n)         - None      \n",
      "<ufunc 'eig'>                  -  3,  1,  2 - (m,m)->(m),(m,m)               - None      \n",
      "<ufunc 'eigvals'>              -  2,  1,  1 - (m,m)->(m)                     - None      \n",
      "<ufunc 'qr_r_raw_m'>           -  2,  1,  1 - (m,n)->(m)                     - None      \n",
      "<ufunc 'qr_r_raw_n'>           -  2,  1,  1 - (m,n)->(n)                     - None      \n",
      "<ufunc 'qr_reduced'>           -  3,  2,  1 - (m,n),(k)->(m,k)               - None      \n",
      "<ufunc 'qr_complete'>          -  3,  2,  1 - (m,n),(n)->(m,m)               - None      \n",
      "<ufunc 'lstsq_m'>              -  7,  3,  4 - (m,n),(m,nrhs),()->(n,nrhs),(nrhs),(),(m) - None      \n",
      "<ufunc 'lstsq_n'>              -  7,  3,  4 - (m,n),(m,nrhs),()->(n,nrhs),(nrhs),(),(n) - None      \n"
     ]
    }
   ],
   "source": [
    "for ufunc in l_linalg:\n",
    "    print_ufunc(ufunc)"
   ]
  },
  {
   "cell_type": "code",
   "execution_count": null,
   "id": "edd7f8bc-51e4-4455-9b3d-31fbfe35bce5",
   "metadata": {},
   "outputs": [],
   "source": []
  },
  {
   "cell_type": "code",
   "execution_count": null,
   "id": "a8b57185-7cdf-4050-ba42-4db2c7368ca1",
   "metadata": {},
   "outputs": [],
   "source": []
  },
  {
   "cell_type": "code",
   "execution_count": null,
   "id": "0c51d98a-e79c-49a4-93c7-98200670fd2e",
   "metadata": {},
   "outputs": [],
   "source": []
  },
  {
   "cell_type": "code",
   "execution_count": 32,
   "id": "64fab2b4-0dd6-4514-91b6-d8a8850ee334",
   "metadata": {},
   "outputs": [
    {
     "name": "stdout",
     "output_type": "stream",
     "text": [
      "(8, 6, 1)\n",
      "<Cluster(cluster_id='1690186732-k9iy', profile='default')>\n",
      "Starting 4 engines with <class 'ipyparallel.cluster.launcher.MPIEngineSetLauncher'>\n",
      "100%|███████████████████████████████████████████████████████████████████████████████████████████████████████████████████████████████████████████████████████████████████████████████████████████████████████████████████████████████████| 4/4 [00:05<00:00,  1.46s/engine]\n"
     ]
    },
    {
     "data": {
      "text/plain": [
       "[0, 1, 2, 3]"
      ]
     },
     "execution_count": 32,
     "metadata": {},
     "output_type": "execute_result"
    }
   ],
   "source": [
    "import ipyparallel as ipp\n",
    "print(ipp.version_info)\n",
    "\n",
    "nproc = 4\n",
    "cluster = ipp.Cluster(engines='mpi', n=nproc, shutdown_atexit=False)\n",
    "print(cluster)\n",
    "client = cluster.start_and_connect_sync(activate=True)\n",
    "view = client[:]\n",
    "client.ids"
   ]
  },
  {
   "cell_type": "code",
   "execution_count": 33,
   "id": "d9e0a96e-3772-442d-b336-ad97c998b66f",
   "metadata": {},
   "outputs": [
    {
     "name": "stdout",
     "output_type": "stream",
     "text": [
      "PROFILE          CLUSTER ID                       RUNNING ENGINES LAUNCHER\n",
      "default          1690139458-wbvi                  True          4 MPI\n",
      "default          1690186732-k9iy                  True          4 MPI\n"
     ]
    }
   ],
   "source": [
    "!ipcluster list"
   ]
  },
  {
   "cell_type": "code",
   "execution_count": 34,
   "id": "3f470314-bfa4-42d4-b8ba-9a226a168996",
   "metadata": {},
   "outputs": [
    {
     "name": "stdout",
     "output_type": "stream",
     "text": [
      "%autopx enabled\n"
     ]
    }
   ],
   "source": [
    "%autopx --block --group-outputs=engines"
   ]
  },
  {
   "cell_type": "code",
   "execution_count": 35,
   "id": "9cc378ad-e554-4f80-9a27-d2e20cb199b2",
   "metadata": {},
   "outputs": [
    {
     "data": {
      "text/plain": [
       "[stdout:1] <mpi4py.MPI.Datatype object at 0x7fe9980cc4e0>\n",
       "Rank 1 reducing [ 8  9 10 11 12 13 14 15] (<class 'numpy.ndarray'>) and [24 25 26 27 28 29 30 31] (<class 'numpy.ndarray'>), yielding [32 34 36 38 40 42 44 46]\n"
      ]
     },
     "metadata": {},
     "output_type": "display_data"
    },
    {
     "data": {
      "text/plain": [
       "[stdout:0] <mpi4py.MPI.Datatype object at 0x7fc970d82ee0>\n",
       "Rank 0 reducing [0 1 2 3 4 5 6 7] (<class 'numpy.ndarray'>) and [32 34 36 38 40 42 44 46] (<class 'numpy.ndarray'>), yielding [32 35 38 41 44 47 50 53]\n",
       "<mpi4py.MPI.Datatype object at 0x7fc954e6bdb0>\n",
       "Rank 0 reducing [16 17 18 19 20 21 22 23] (<class 'numpy.ndarray'>) and [32 35 38 41 44 47 50 53] (<class 'numpy.ndarray'>), yielding [48 52 56 60 64 68 72 76]\n",
       "ANSWER: [[48 52]\n",
       " [56 60]\n",
       " [64 68]\n",
       " [72 76]]\n"
      ]
     },
     "metadata": {},
     "output_type": "display_data"
    }
   ],
   "source": [
    "import numpy as np\n",
    "from mpi4py import MPI\n",
    "\n",
    "rank = MPI.COMM_WORLD.rank\n",
    "\n",
    "# create numpy arrays to reduce\n",
    "src = (np.arange(8) + rank*8).reshape(4,2)\n",
    "dst = np.zeros_like(src)\n",
    "\n",
    "def myadd(xmem, ymem, dt):\n",
    "    print(dt)\n",
    "    x = np.frombuffer(xmem, dtype=src.dtype)\n",
    "    y = np.frombuffer(ymem, dtype=src.dtype)\n",
    "\n",
    "    z = x + y\n",
    "\n",
    "    print(\"Rank %d reducing %s (%s) and %s (%s), yielding %s\" % (rank, x, type(x), y, type(y), z))\n",
    "\n",
    "    y[:] = z\n",
    "\n",
    "op = MPI.Op.Create(myadd, commute=True)\n",
    "\n",
    "MPI.COMM_WORLD.Reduce(src, dst, op)\n",
    "\n",
    "if MPI.COMM_WORLD.rank == 0:\n",
    "    print(\"ANSWER: %s\" % dst)"
   ]
  },
  {
   "cell_type": "code",
   "execution_count": 37,
   "id": "304b7b7d-1475-41d0-93d2-57dca7e5b268",
   "metadata": {},
   "outputs": [
    {
     "name": "stdout",
     "output_type": "stream",
     "text": [
      "%autopx disabled\n"
     ]
    }
   ],
   "source": [
    "%autopx --block --group-outputs=engines"
   ]
  },
  {
   "cell_type": "code",
   "execution_count": 38,
   "id": "9ddc4eae-8bba-4fd2-b4e4-dbf3ecda47ee",
   "metadata": {},
   "outputs": [
    {
     "name": "stdout",
     "output_type": "stream",
     "text": [
      "Stopping controller\n",
      "Controller stopped: {'exit_code': 0, 'pid': 26119, 'identifier': 'ipcontroller-1690186732-k9iy-24446'}\n",
      "Stopping engine(s): 1690186733\n",
      "engine set stopped 1690186733: {'exit_code': 1, 'pid': 26149, 'identifier': 'ipengine-1690186732-k9iy-1690186733-24446'}\n"
     ]
    }
   ],
   "source": [
    "cluster.stop_cluster_sync()"
   ]
  },
  {
   "cell_type": "code",
   "execution_count": 39,
   "id": "7a718f28-e91e-40a6-91da-9b050ad18662",
   "metadata": {},
   "outputs": [
    {
     "name": "stdout",
     "output_type": "stream",
     "text": [
      "PROFILE          CLUSTER ID                       RUNNING ENGINES LAUNCHER\n",
      "default          1690139458-wbvi                  True          4 MPI\n"
     ]
    }
   ],
   "source": [
    "!ipcluster list"
   ]
  },
  {
   "cell_type": "code",
   "execution_count": null,
   "id": "379e59eb-eef8-4450-a69e-81f0ee3cc1e7",
   "metadata": {},
   "outputs": [],
   "source": []
  }
 ],
 "metadata": {
  "kernelspec": {
   "display_name": "Python 3 (ipykernel)",
   "language": "python",
   "name": "python3"
  },
  "language_info": {
   "codemirror_mode": {
    "name": "ipython",
    "version": 3
   },
   "file_extension": ".py",
   "mimetype": "text/x-python",
   "name": "python",
   "nbconvert_exporter": "python",
   "pygments_lexer": "ipython3",
   "version": "3.11.4"
  }
 },
 "nbformat": 4,
 "nbformat_minor": 5
}
