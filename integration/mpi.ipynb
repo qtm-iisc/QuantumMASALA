{
 "cells": [
  {
   "cell_type": "code",
   "execution_count": 1,
   "id": "64da65c2-8ebf-439a-8fb5-f8fc171fdac5",
   "metadata": {},
   "outputs": [],
   "source": [
    "%load_ext autoreload\n",
    "%autoreload 2"
   ]
  },
  {
   "cell_type": "code",
   "execution_count": 2,
   "id": "1aeff6d5-a61e-420f-b35c-211724d8cff4",
   "metadata": {},
   "outputs": [
    {
     "name": "stdout",
     "output_type": "stream",
     "text": [
      "(8, 6, 1)\n"
     ]
    }
   ],
   "source": [
    "import ipyparallel as ipp\n",
    "print(ipp.version_info)"
   ]
  },
  {
   "cell_type": "code",
   "execution_count": 3,
   "id": "77ca8566-86da-402a-8284-2382f8b1de80",
   "metadata": {},
   "outputs": [
    {
     "name": "stdout",
     "output_type": "stream",
     "text": [
      "<Cluster(cluster_id='1690102733-v0s9', profile='default')>\n",
      "Starting 4 engines with <class 'ipyparallel.cluster.launcher.MPIEngineSetLauncher'>\n",
      "100%|███████████████████████████████████████████████████████████████████████████████████████████████████████████████████████████████████████████████████████████████████████████████████████████████████████████████████████████████████| 4/4 [00:05<00:00,  1.49s/engine]\n"
     ]
    },
    {
     "data": {
      "text/plain": [
       "[0, 1, 2, 3]"
      ]
     },
     "execution_count": 3,
     "metadata": {},
     "output_type": "execute_result"
    }
   ],
   "source": [
    "nproc = 4\n",
    "cluster = ipp.Cluster(engines='mpi', n=nproc, shutdown_atexit=False)\n",
    "print(cluster)\n",
    "client = cluster.start_and_connect_sync(activate=True)\n",
    "view = client[:]\n",
    "client.ids"
   ]
  },
  {
   "cell_type": "code",
   "execution_count": 4,
   "id": "350a5d1f-939a-4345-a408-a1974f3ecb77",
   "metadata": {},
   "outputs": [
    {
     "name": "stdout",
     "output_type": "stream",
     "text": [
      "PROFILE          CLUSTER ID                       RUNNING ENGINES LAUNCHER\n",
      "default          1690102733-v0s9                  True          4 MPI\n"
     ]
    }
   ],
   "source": [
    "!ipcluster list"
   ]
  },
  {
   "cell_type": "code",
   "execution_count": 5,
   "id": "9c1a37db-2532-4edc-9e5f-01159063f2a6",
   "metadata": {},
   "outputs": [
    {
     "name": "stdout",
     "output_type": "stream",
     "text": [
      "%autopx enabled\n"
     ]
    }
   ],
   "source": [
    "%autopx --block --group-outputs=engines"
   ]
  },
  {
   "cell_type": "code",
   "execution_count": 6,
   "id": "079d456f-cdd0-40b5-871e-615e951fbd01",
   "metadata": {},
   "outputs": [
    {
     "data": {
      "text/plain": [
       "[stdout:0] \n",
       "[[ 0.  1.  2.]\n",
       " [ 9. 10. 11.]\n",
       " [18. 19. 20.]\n",
       " [27. 28. 29.]\n",
       " [36. 37. 38.]]\n"
      ]
     },
     "metadata": {},
     "output_type": "display_data"
    },
    {
     "data": {
      "text/plain": [
       "[stdout:1] \n",
       "[[ 3.  4.]\n",
       " [12. 13.]\n",
       " [21. 22.]\n",
       " [30. 31.]\n",
       " [39. 40.]]\n"
      ]
     },
     "metadata": {},
     "output_type": "display_data"
    },
    {
     "data": {
      "text/plain": [
       "[stdout:2] \n",
       "[[ 5.  6.]\n",
       " [14. 15.]\n",
       " [23. 24.]\n",
       " [32. 33.]\n",
       " [41. 42.]]\n"
      ]
     },
     "metadata": {},
     "output_type": "display_data"
    },
    {
     "data": {
      "text/plain": [
       "[stdout:3] \n",
       "[[ 7.  8.]\n",
       " [16. 17.]\n",
       " [25. 26.]\n",
       " [34. 35.]\n",
       " [43. 44.]]\n"
      ]
     },
     "metadata": {},
     "output_type": "display_data"
    }
   ],
   "source": [
    "import numpy as np\n",
    "from mpi4py import MPI\n",
    "from time import sleep\n",
    "\n",
    "from qtmpy.mpi.utils import scatter_range, scatter_len\n",
    "\n",
    "comm = MPI.COMM_WORLD\n",
    "size, rank = comm.Get_size(), comm.Get_rank()\n",
    "\n",
    "def print_msg(msg: str):\n",
    "    print(f\"{rank}/{size}: {msg}\")\n",
    "\n",
    "def print_seq(msg):\n",
    "    fac = 0.1\n",
    "    sleep(rank * fac)\n",
    "    print()\n",
    "    print(msg)\n",
    "    sleep((size - rank) * fac)\n",
    "\n",
    "# Setting the length along x-axis and num of sticks\n",
    "nx, ns = (5, 9)\n",
    "\n",
    "# Creating global data and slicing it for local data\n",
    "glob_shape = (nx, ns)\n",
    "glob_array = np.arange(np.prod(glob_shape)).reshape(glob_shape)\n",
    "\n",
    "loc_range = scatter_range(range(glob_shape[1]), size, rank)\n",
    "loc_start, loc_stop = loc_range.start, loc_range.stop\n",
    "loc_shape = (glob_shape[0], loc_stop - loc_start)\n",
    "\n",
    "loc_array = np.empty(loc_shape)\n",
    "loc_array[:] = glob_array[:, loc_start:loc_stop]\n",
    "print_seq(loc_array)"
   ]
  },
  {
   "cell_type": "code",
   "execution_count": 16,
   "id": "2912ad79-4284-496e-882a-1e99c643d51b",
   "metadata": {},
   "outputs": [
    {
     "data": {
      "text/plain": [
       "[stdout:0] \n",
       "[[ 0.  9.]\n",
       " [ 1. 10.]\n",
       " [ 2. 11.]\n",
       " [ 3. 12.]\n",
       " [ 4. 13.]\n",
       " [ 5. 14.]\n",
       " [ 6. 15.]\n",
       " [ 7. 16.]\n",
       " [ 8. 17.]]\n"
      ]
     },
     "metadata": {},
     "output_type": "display_data"
    },
    {
     "data": {
      "text/plain": [
       "[stdout:1] \n",
       "[[18.]\n",
       " [19.]\n",
       " [20.]\n",
       " [21.]\n",
       " [22.]\n",
       " [23.]\n",
       " [24.]\n",
       " [25.]\n",
       " [26.]]\n"
      ]
     },
     "metadata": {},
     "output_type": "display_data"
    },
    {
     "data": {
      "text/plain": [
       "[stdout:3] \n",
       "[[36.]\n",
       " [37.]\n",
       " [38.]\n",
       " [39.]\n",
       " [40.]\n",
       " [41.]\n",
       " [42.]\n",
       " [43.]\n",
       " [44.]]\n"
      ]
     },
     "metadata": {},
     "output_type": "display_data"
    },
    {
     "data": {
      "text/plain": [
       "[stdout:2] \n",
       "[[27.]\n",
       " [28.]\n",
       " [29.]\n",
       " [30.]\n",
       " [31.]\n",
       " [32.]\n",
       " [33.]\n",
       " [34.]\n",
       " [35.]]\n"
      ]
     },
     "metadata": {},
     "output_type": "display_data"
    }
   ],
   "source": [
    "def mpi_transpose(comm, inp, out):    \n",
    "    glob_shape = (inp.shape[0], out.shape[0])\n",
    "    size, rank = comm.Get_size(), comm.Get_rank()\n",
    "    sendcount = scatter_len(glob_shape[0], size) \\\n",
    "        * scatter_len(glob_shape[1], size, rank)\n",
    "    recvcount = scatter_len(glob_shape[1], size) \\\n",
    "        * scatter_len(glob_shape[0], size, rank)\n",
    "\n",
    "    comm.Alltoallv((inp, sendcount), (out.ravel(), recvcount))\n",
    "    chunks = tuple(\n",
    "        chunk.reshape((scatter_len(glob_shape[0], size, rank), -1)).T\n",
    "        for chunk in np.split(out.ravel(), np.cumsum(recvcount[:-1]))\n",
    "    )\n",
    "    np.concatenate(chunks, axis=0, out=out)\n",
    "\n",
    "inp = loc_array\n",
    "out = np.empty((glob_shape[1], scatter_len(glob_shape[0], size, rank)))\n",
    "\n",
    "mpi_transpose(comm, inp, out)\n",
    "print_seq(out)"
   ]
  },
  {
   "cell_type": "code",
   "execution_count": 47,
   "id": "2219bc7f-9e71-41ce-b2aa-e4d4a4c6644e",
   "metadata": {},
   "outputs": [
    {
     "data": {
      "text/plain": [
       "[stdout:0] \n",
       "[[ 0.  9.]\n",
       " [ 1. 10.]\n",
       " [ 2. 11.]\n",
       " [ 3. 12.]\n",
       " [ 4. 13.]\n",
       " [ 5. 14.]\n",
       " [ 6. 15.]\n",
       " [ 7. 16.]\n",
       " [ 8. 17.]]\n"
      ]
     },
     "metadata": {},
     "output_type": "display_data"
    },
    {
     "data": {
      "text/plain": [
       "[stdout:1] \n",
       "[[18.]\n",
       " [19.]\n",
       " [20.]\n",
       " [21.]\n",
       " [22.]\n",
       " [23.]\n",
       " [24.]\n",
       " [25.]\n",
       " [26.]]\n"
      ]
     },
     "metadata": {},
     "output_type": "display_data"
    },
    {
     "data": {
      "text/plain": [
       "[stdout:3] \n",
       "[[36.]\n",
       " [37.]\n",
       " [38.]\n",
       " [39.]\n",
       " [40.]\n",
       " [41.]\n",
       " [42.]\n",
       " [43.]\n",
       " [44.]]\n"
      ]
     },
     "metadata": {},
     "output_type": "display_data"
    },
    {
     "data": {
      "text/plain": [
       "[stdout:2] \n",
       "[[27.]\n",
       " [28.]\n",
       " [29.]\n",
       " [30.]\n",
       " [31.]\n",
       " [32.]\n",
       " [33.]\n",
       " [34.]\n",
       " [35.]]\n"
      ]
     },
     "metadata": {},
     "output_type": "display_data"
    }
   ],
   "source": [
    "sendbuf = loc_array\n",
    "sendcount = scatter_len(nx, size) * scatter_len(ns, size, rank)\n",
    "recvcount = scatter_len(ns, size) * scatter_len(nx, size, rank)\n",
    "recvbuf = np.empty(np.sum(recvcount))\n",
    "\n",
    "comm.Alltoallv((sendbuf, sendcount), (recvbuf, recvcount))\n",
    "\n",
    "chunks = tuple(chunk.reshape((scatter_len(nx, size, rank), -1)).T\n",
    "    for chunk in np.split(recvbuf, np.cumsum(recvcount))[:-1]\n",
    ")\n",
    "recvbuf = recvbuf.reshape((-1, scatter_len(nx, size, rank)))\n",
    "np.concatenate(chunks, axis=0, out=recvbuf)\n",
    "print_seq(recvbuf)"
   ]
  },
  {
   "cell_type": "code",
   "execution_count": 48,
   "id": "f0ea6e98-d2bd-41df-a4a6-4c927a5621c9",
   "metadata": {},
   "outputs": [
    {
     "data": {
      "text/plain": [
       "[stdout:0] \n",
       "[[ 0.  1.  2.]\n",
       " [ 9. 10. 11.]\n",
       " [18. 19. 20.]\n",
       " [27. 28. 29.]\n",
       " [36. 37. 38.]]\n"
      ]
     },
     "metadata": {},
     "output_type": "display_data"
    },
    {
     "data": {
      "text/plain": [
       "[stdout:1] \n",
       "[[ 3.  4.]\n",
       " [12. 13.]\n",
       " [21. 22.]\n",
       " [30. 31.]\n",
       " [39. 40.]]\n"
      ]
     },
     "metadata": {},
     "output_type": "display_data"
    },
    {
     "data": {
      "text/plain": [
       "[stdout:2] \n",
       "[[ 5.  6.]\n",
       " [14. 15.]\n",
       " [23. 24.]\n",
       " [32. 33.]\n",
       " [41. 42.]]\n"
      ]
     },
     "metadata": {},
     "output_type": "display_data"
    },
    {
     "data": {
      "text/plain": [
       "[stdout:3] \n",
       "[[ 7.  8.]\n",
       " [16. 17.]\n",
       " [25. 26.]\n",
       " [34. 35.]\n",
       " [43. 44.]]\n"
      ]
     },
     "metadata": {},
     "output_type": "display_data"
    }
   ],
   "source": [
    "recvbuf = recvbuf.ravel()\n",
    "sendbuf = np.empty_like(loc_array.ravel())\n",
    "comm.Alltoallv((recvbuf, recvcount), (sendbuf, sendcount))\n",
    "\n",
    "chunks = tuple(chunk.reshape((scatter_len(ns, size, rank), -1)).T\n",
    "    for chunk in np.split(sendbuf, np.cumsum(sendcount))[:-1]\n",
    ")\n",
    "\n",
    "sendbuf = sendbuf.reshape((-1, scatter_len(ns, size, rank)))\n",
    "np.concatenate(chunks, axis=0, out=sendbuf)\n",
    "print_seq(sendbuf)"
   ]
  },
  {
   "cell_type": "code",
   "execution_count": null,
   "id": "4b13e7b3-0a37-4d7e-8c02-07641f15d01c",
   "metadata": {},
   "outputs": [],
   "source": [
    "# sendbuf = loc_array\n",
    "\n",
    "# # recvbuf = np.empty(\n",
    "# #     (distribute_len(glob_shape[0], size, rank), glob_shape[1])\n",
    "# # )\n",
    "\n",
    "# recvbuf = np.empty(\n",
    "#     (glob_shape[1], distribute_len(glob_shape[0], size, rank))\n",
    "# )\n",
    "\n",
    "# send_counts = distribute_len(glob_shape[0], size) * distribute_len(glob_shape[1], size, rank)\n",
    "# recv_counts = distribute_len(glob_shape[0], size, rank) * distribute_len(glob_shape[1], size)\n",
    "\n",
    "# recvbuf = np.empty(np.sum(recv_counts))\n",
    "\n",
    "# comm.Alltoallv((sendbuf, send_counts), (recvbuf, recv_counts))\n",
    "# recvbuf = recvbuf.reshape(-1, distribute_len(glob_shape[0], size, rank))\n",
    "# # print(recvbuf)\n",
    "# chunksizes = distribute_len(recvbuf.shape[0], size)\n",
    "# # print(chunksizes, np.cumsum(chunksizes))\n",
    "# chunks = tuple(chunk.ravel().reshape(-1, chunksizes[ichunk]) for ichunk, chunk in\n",
    "#           enumerate(np.split(recvbuf, np.cumsum(chunksizes), axis=0)[:-1])\n",
    "# )\n",
    "# # print(chunks)\n",
    "# out_arr = np.concatenate(chunks, axis=1)\n",
    "# print_seq(out_arr)"
   ]
  },
  {
   "cell_type": "code",
   "execution_count": null,
   "id": "7a4f554d-03ff-4973-ab6f-d99d2f915ad9",
   "metadata": {},
   "outputs": [],
   "source": []
  },
  {
   "cell_type": "code",
   "execution_count": null,
   "id": "a48a30f3-4432-4c0a-8866-acae6ca97cf9",
   "metadata": {},
   "outputs": [],
   "source": []
  },
  {
   "cell_type": "code",
   "execution_count": 17,
   "id": "8768c4f0-d569-4a9d-9447-1c4fe14d3cb3",
   "metadata": {
    "tags": []
   },
   "outputs": [
    {
     "name": "stdout",
     "output_type": "stream",
     "text": [
      "%autopx disabled\n"
     ]
    }
   ],
   "source": [
    "%autopx --block --group-outputs=engine"
   ]
  },
  {
   "cell_type": "code",
   "execution_count": 18,
   "id": "09381a60-497d-4d32-b9d9-6f4b046b7d24",
   "metadata": {},
   "outputs": [
    {
     "name": "stdout",
     "output_type": "stream",
     "text": [
      "Stopping controller\n",
      "Controller stopped: {'exit_code': 0, 'pid': 17861, 'identifier': 'ipcontroller-1690102733-v0s9-17846'}\n"
     ]
    }
   ],
   "source": [
    "cluster.stop_controller_sync()"
   ]
  },
  {
   "cell_type": "code",
   "execution_count": 20,
   "id": "c771d4a5-c2fd-4bd9-8541-6a6ce634987a",
   "metadata": {},
   "outputs": [
    {
     "name": "stdout",
     "output_type": "stream",
     "text": [
      "PROFILE          CLUSTER ID                       RUNNING ENGINES LAUNCHER\n",
      "default          1690102733-v0s9                  False         4 MPI\n",
      "default          1690104384-b2sd                  False         4 MPI\n",
      "engine set stopped 1690102734: {'exit_code': 0, 'pid': 17890, 'identifier': 'ipengine-1690102733-v0s9-1690102734-17846'}\n"
     ]
    }
   ],
   "source": [
    "!ipcluster list"
   ]
  },
  {
   "cell_type": "code",
   "execution_count": null,
   "id": "1677b3d8-c373-410c-a9f8-1d8e51972373",
   "metadata": {},
   "outputs": [],
   "source": []
  }
 ],
 "metadata": {
  "kernelspec": {
   "display_name": "Python 3 (ipykernel)",
   "language": "python",
   "name": "python3"
  },
  "language_info": {
   "codemirror_mode": {
    "name": "ipython",
    "version": 3
   },
   "file_extension": ".py",
   "mimetype": "text/x-python",
   "name": "python",
   "nbconvert_exporter": "python",
   "pygments_lexer": "ipython3",
   "version": "3.11.0"
  }
 },
 "nbformat": 4,
 "nbformat_minor": 5
}
