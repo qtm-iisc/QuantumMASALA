{
 "cells": [
  {
   "cell_type": "code",
   "execution_count": 1,
   "id": "cc542d28-a770-4150-8161-aefda464ff82",
   "metadata": {},
   "outputs": [],
   "source": [
    "import numpy as np"
   ]
  },
  {
   "cell_type": "code",
   "execution_count": 2,
   "id": "544855ee-a62d-453c-bfef-7eeac034dbe9",
   "metadata": {},
   "outputs": [],
   "source": [
    "from abc import ABC, abstractmethod\n",
    "\n",
    "class A:\n",
    "    \n",
    "    _attr = 10\n",
    "    \n",
    "    def __init__(self):\n",
    "        self.val = self._attr * 10"
   ]
  },
  {
   "cell_type": "code",
   "execution_count": 3,
   "id": "28a1d377-3a2f-4cc3-963a-1681e0572d2a",
   "metadata": {},
   "outputs": [],
   "source": [
    "class B(A):\n",
    "    \n",
    "    def __init__(self, newattr):\n",
    "        self._attr = newattr\n",
    "        super().__init__()"
   ]
  },
  {
   "cell_type": "code",
   "execution_count": 5,
   "id": "9d1627ba-0a88-49dc-8a23-b0b78f157c05",
   "metadata": {},
   "outputs": [
    {
     "name": "stdout",
     "output_type": "stream",
     "text": [
      "10 10 100\n",
      "10 -20 -200\n"
     ]
    }
   ],
   "source": [
    "a = A()\n",
    "print(A._attr, a._attr, a.val)\n",
    "b = B(-20)\n",
    "print(B._attr, b._attr, b.val)"
   ]
  },
  {
   "cell_type": "code",
   "execution_count": 54,
   "id": "c37c5857-1ac7-4f6e-b291-8161d2ef1990",
   "metadata": {},
   "outputs": [],
   "source": [
    "class Test:\n",
    "    \n",
    "    size = 10\n",
    "    \n",
    "    def __init__(self, shape):\n",
    "        if isinstance(shape, int):\n",
    "            shape = (shape, )\n",
    "        self.shape = (*shape, self.size)\n",
    "        self.arr = np.arange(\n",
    "            np.prod(self.shape)\n",
    "        ).reshape(self.shape)\n",
    "    \n",
    "    @property\n",
    "    def ndim(self):\n",
    "        return self.arr.ndim\n",
    "    \n",
    "    @property\n",
    "    def rank(self):\n",
    "        return self.ndim - 1\n",
    "    \n",
    "    def __getitem__(self, key):\n",
    "        print('key is', key)\n",
    "        view = self.arr.reshape((-1, self.size))\n",
    "        view = view[:, key]\n",
    "        return view.reshape((*self.shape[:-1], -1))\n",
    "    \n",
    "    def __setitem__(self, key, val):\n",
    "        print('key is', key)\n",
    "        view = self.arr.reshape((-1, self.size))\n",
    "        view[:, key] = val"
   ]
  },
  {
   "cell_type": "code",
   "execution_count": 55,
   "id": "c3c9408f-0acc-4fad-99a9-fc7c120de945",
   "metadata": {},
   "outputs": [
    {
     "name": "stdout",
     "output_type": "stream",
     "text": [
      "(2, 5, 10)\n",
      "[[[ 0  1  2  3  4  5  6  7  8  9]\n",
      "  [10 11 12 13 14 15 16 17 18 19]\n",
      "  [20 21 22 23 24 25 26 27 28 29]\n",
      "  [30 31 32 33 34 35 36 37 38 39]\n",
      "  [40 41 42 43 44 45 46 47 48 49]]\n",
      "\n",
      " [[50 51 52 53 54 55 56 57 58 59]\n",
      "  [60 61 62 63 64 65 66 67 68 69]\n",
      "  [70 71 72 73 74 75 76 77 78 79]\n",
      "  [80 81 82 83 84 85 86 87 88 89]\n",
      "  [90 91 92 93 94 95 96 97 98 99]]]\n",
      "key is ([0, 2, 3, 4], [1, 2, 3, 3])\n",
      "(2, 5, 8)\n",
      "[[[ 0  2  3  4  1  2  3  3]\n",
      "  [10 12 13 14 11 12 13 13]\n",
      "  [20 22 23 24 21 22 23 23]\n",
      "  [30 32 33 34 31 32 33 33]\n",
      "  [40 42 43 44 41 42 43 43]]\n",
      "\n",
      " [[50 52 53 54 51 52 53 53]\n",
      "  [60 62 63 64 61 62 63 63]\n",
      "  [70 72 73 74 71 72 73 73]\n",
      "  [80 82 83 84 81 82 83 83]\n",
      "  [90 92 93 94 91 92 93 93]]]\n",
      "key is [ True False False  True False  True False False False False]\n",
      "[[[-1  1  2 -1  4 -1  6  7  8  9]\n",
      "  [-1 11 12 -1 14 -1 16 17 18 19]\n",
      "  [-1 21 22 -1 24 -1 26 27 28 29]\n",
      "  [-1 31 32 -1 34 -1 36 37 38 39]\n",
      "  [-1 41 42 -1 44 -1 46 47 48 49]]\n",
      "\n",
      " [[-1 51 52 -1 54 -1 56 57 58 59]\n",
      "  [-1 61 62 -1 64 -1 66 67 68 69]\n",
      "  [-1 71 72 -1 74 -1 76 77 78 79]\n",
      "  [-1 81 82 -1 84 -1 86 87 88 89]\n",
      "  [-1 91 92 -1 94 -1 96 97 98 99]]]\n"
     ]
    }
   ],
   "source": [
    "t = Test((2, 5))\n",
    "print(t.arr.shape)\n",
    "print(t.arr)\n",
    "\n",
    "a = t[([0,2,3,4],[1,2,3,3])]\n",
    "print(a.shape)\n",
    "print(a)\n",
    "t[mask] = -1\n",
    "print(t.arr)"
   ]
  },
  {
   "cell_type": "code",
   "execution_count": 43,
   "id": "91af4833-500d-4f0f-8f36-e58076eb6dd8",
   "metadata": {},
   "outputs": [
    {
     "name": "stdout",
     "output_type": "stream",
     "text": [
      "(2, 5, 10)\n",
      "[[[ 0  1  2  3  4  5  6  7  8  9]\n",
      "  [10 11 12 13 14 15 16 17 18 19]\n",
      "  [20 21 22 23 24 25 26 27 28 29]\n",
      "  [30 31 32 33 34 35 36 37 38 39]\n",
      "  [40 41 42 43 44 45 46 47 48 49]]\n",
      "\n",
      " [[50 51 52 53 54 55 56 57 58 59]\n",
      "  [60 61 62 63 64 65 66 67 68 69]\n",
      "  [70 71 72 73 74 75 76 77 78 79]\n",
      "  [80 81 82 83 84 85 86 87 88 89]\n",
      "  [90 91 92 93 94 95 96 97 98 99]]]\n",
      "key is [ True False False  True False  True False False False False]\n",
      "(2, 5, 3)\n",
      "[[[ 0  3  5]\n",
      "  [10 13 15]\n",
      "  [20 23 25]\n",
      "  [30 33 35]\n",
      "  [40 43 45]]\n",
      "\n",
      " [[50 53 55]\n",
      "  [60 63 65]\n",
      "  [70 73 75]\n",
      "  [80 83 85]\n",
      "  [90 93 95]]]\n",
      "key is [ True False False  True False  True False False False False]\n",
      "[[[-1  1  2 -1  4 -1  6  7  8  9]\n",
      "  [-1 11 12 -1 14 -1 16 17 18 19]\n",
      "  [-1 21 22 -1 24 -1 26 27 28 29]\n",
      "  [-1 31 32 -1 34 -1 36 37 38 39]\n",
      "  [-1 41 42 -1 44 -1 46 47 48 49]]\n",
      "\n",
      " [[-1 51 52 -1 54 -1 56 57 58 59]\n",
      "  [-1 61 62 -1 64 -1 66 67 68 69]\n",
      "  [-1 71 72 -1 74 -1 76 77 78 79]\n",
      "  [-1 81 82 -1 84 -1 86 87 88 89]\n",
      "  [-1 91 92 -1 94 -1 96 97 98 99]]]\n"
     ]
    }
   ],
   "source": [
    "t = Test((2, 5))\n",
    "print(t.arr.shape)\n",
    "print(t.arr)\n",
    "\n",
    "mask = np.zeros(t.size, dtype='bool')\n",
    "mask[[0,3,5]] = True\n",
    "\n",
    "a = t[mask]\n",
    "print(a.shape)\n",
    "print(a)\n",
    "t[mask] = -1\n",
    "print(t.arr)"
   ]
  },
  {
   "cell_type": "code",
   "execution_count": 2,
   "id": "f231588f-6dde-47cf-93d1-2769bdc5eb63",
   "metadata": {},
   "outputs": [
    {
     "name": "stdout",
     "output_type": "stream",
     "text": [
      "(2, 5) (2, 5, 1)\n",
      "True\n",
      "10 (1,)\n"
     ]
    }
   ],
   "source": [
    "import numpy as np\n",
    "\n",
    "a = np.arange(10).reshape(2,5)\n",
    "b = a[..., np.newaxis]\n",
    "print(a.shape, b.shape)\n",
    "print(a.base is b.base)\n",
    "\n",
    "c = np.asarray(10)\n",
    "d = c[..., np.newaxis]\n",
    "print(c, d.shape)"
   ]
  },
  {
   "cell_type": "code",
   "execution_count": null,
   "id": "73e52aae-1dc3-4bbb-8ab6-2c7663fbd66f",
   "metadata": {},
   "outputs": [],
   "source": []
  }
 ],
 "metadata": {
  "kernelspec": {
   "display_name": "Python 3 (ipykernel)",
   "language": "python",
   "name": "python3"
  },
  "language_info": {
   "codemirror_mode": {
    "name": "ipython",
    "version": 3
   },
   "file_extension": ".py",
   "mimetype": "text/x-python",
   "name": "python",
   "nbconvert_exporter": "python",
   "pygments_lexer": "ipython3",
   "version": "3.11.4"
  }
 },
 "nbformat": 4,
 "nbformat_minor": 5
}
