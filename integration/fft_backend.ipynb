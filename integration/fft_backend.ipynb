{
 "cells": [
  {
   "cell_type": "code",
   "execution_count": 1,
   "id": "e6e99043-96bb-4c70-a400-893f93f42544",
   "metadata": {},
   "outputs": [
    {
     "data": {
      "text/plain": [
       "'/home/lightpeak008/qtmpy/integration'"
      ]
     },
     "execution_count": 1,
     "metadata": {},
     "output_type": "execute_result"
    }
   ],
   "source": [
    "%load_ext autoreload\n",
    "%autoreload 2\n",
    "%pwd"
   ]
  },
  {
   "cell_type": "code",
   "execution_count": 2,
   "id": "8e5c4fd1-cb1d-485f-a3d0-c365d73a3790",
   "metadata": {},
   "outputs": [],
   "source": [
    "from qtmpy import qtmconfig\n",
    "from qtmpy.gspace.fft.backend import get_FFTBackend"
   ]
  },
  {
   "cell_type": "code",
   "execution_count": 3,
   "id": "844d32e9-0d82-4ad5-b8c3-dfda7e8d02b2",
   "metadata": {},
   "outputs": [
    {
     "name": "stdout",
     "output_type": "stream",
     "text": [
      "['mkl_fft', 'pyfftw', 'scipy', 'numpy']\n",
      "mkl_fft\n",
      "1\n",
      "FFTW_MEASURE ('FFTW_DESTROY_INPUT',)\n"
     ]
    }
   ],
   "source": [
    "print(qtmconfig.fft_available_backends)\n",
    "print(qtmconfig.fft_backend)\n",
    "print(qtmconfig.fft_threads)\n",
    "print(qtmconfig.pyfftw_planner, qtmconfig.pyfftw_flags)\n",
    "qtmconfig.use_gpu = True"
   ]
  },
  {
   "cell_type": "code",
   "execution_count": null,
   "id": "5c5768ed-f172-459a-9821-5b160cc8f69e",
   "metadata": {},
   "outputs": [],
   "source": []
  },
  {
   "cell_type": "code",
   "execution_count": 4,
   "id": "7e24c42a-c1cc-4a21-88c7-ec4226e0bbd5",
   "metadata": {},
   "outputs": [
    {
     "name": "stdout",
     "output_type": "stream",
     "text": [
      "<class 'qtmpy.gspace.fft.backend.mklfft_.MKLFFTWrapper'>\n",
      "Going to 2D now\n",
      "Pass\n",
      "<class 'qtmpy.gspace.fft.backend.pyfftw_.PyFFTWFFTWrapper'>\n",
      "Going to 2D now\n",
      "Pass\n",
      "<class 'qtmpy.gspace.fft.backend.scipy_.SciPyFFTWrapper'>\n",
      "Going to 2D now\n",
      "Pass\n",
      "<class 'qtmpy.gspace.fft.backend.numpy_.NumPyFFTWrapper'>\n",
      "Going to 2D now\n",
      "Pass\n"
     ]
    }
   ],
   "source": [
    "import numpy as np\n",
    "\n",
    "shape = (18, 18, 18)\n",
    "arr_r = np.random.rand(2, *shape)\n",
    "arr_r = arr_r[0] + 1j * arr_r[1]\n",
    "\n",
    "arr_g = np.fft.fftn(arr_r)\n",
    "\n",
    "\n",
    "for backend in qtmconfig.fft_available_backends:\n",
    "    FFTBackend = get_FFTBackend(backend)\n",
    "    print(FFTBackend)\n",
    "    \n",
    "    flag = True\n",
    "    # 3D FFT Test\n",
    "    out = FFTBackend.create_buffer(shape)\n",
    "    fft = FFTBackend(out, (0, 1, 2))\n",
    "    out[:] = arr_r\n",
    "    fft.fft()\n",
    "    if not np.allclose(out, arr_g):\n",
    "        flag = False\n",
    "        print('forward fail')\n",
    "    out[:] = arr_g\n",
    "    fft.ifft(True)\n",
    "    if not np.allclose(out, arr_r):\n",
    "        flag = False\n",
    "        print('backward with norm failed')\n",
    "    out[:] = arr_g\n",
    "    fft.ifft(False)\n",
    "    normfac = np.prod(shape)\n",
    "    if not np.allclose(out, normfac*arr_r):\n",
    "        flag = False\n",
    "        print('backward unnormed failed')\n",
    "    \n",
    "    print('Going to 2D now')\n",
    "    out = FFTBackend.create_buffer(shape)\n",
    "    axes = (1, 2)\n",
    "    fft = FFTBackend(out, axes)\n",
    "    out[:] = arr_r\n",
    "    fft.fft()\n",
    "    if not np.allclose(out, np.fft.fftn(arr_r, axes=axes)):\n",
    "        flag = False\n",
    "        print('forward fail')\n",
    "    out[:] = arr_g\n",
    "    fft.ifft(True)\n",
    "    if not np.allclose(out, np.fft.ifftn(arr_g, axes=axes)):\n",
    "        flag = False\n",
    "        print('backward with norm failed')\n",
    "    out[:] = arr_g\n",
    "    fft.ifft(False)\n",
    "    normfac = shape[0] * shape[2]\n",
    "    if not np.allclose(\n",
    "        out, normfac * np.fft.ifftn(arr_g, axes=axes)):\n",
    "        flag = False\n",
    "        print('backward unnormed failed')\n",
    "    \n",
    "    print(\"Pass\" if flag else \"Fail\")"
   ]
  },
  {
   "cell_type": "code",
   "execution_count": 5,
   "id": "88e2b7bf-65c8-430a-a04d-ba511783828c",
   "metadata": {},
   "outputs": [
    {
     "name": "stdout",
     "output_type": "stream",
     "text": [
      "<class 'qtmpy.gspace.fft.backend.cupy_.CuPyFFTWrapper'>\n",
      "Going to 2D now:  True\n",
      "Pass\n"
     ]
    }
   ],
   "source": [
    "if qtmconfig.use_gpu:\n",
    "    import cupy as cp\n",
    "    arr_r = cp.asarray(arr_r)\n",
    "    arr_g = cp.fft.fftn(arr_r)\n",
    "    \n",
    "    FFTBackend = get_FFTBackend('cupy')\n",
    "    print(FFTBackend)\n",
    "    \n",
    "    flag = True\n",
    "    # 3D FFT Test\n",
    "    out = FFTBackend.create_buffer(shape)\n",
    "    fft = FFTBackend(out, (0, 1, 2))\n",
    "    out[:] = arr_r\n",
    "    fft.fft()\n",
    "    if not np.allclose(out, arr_g):\n",
    "        flag = False\n",
    "        print('forward fail')\n",
    "    out[:] = arr_g\n",
    "    fft.ifft(True)\n",
    "    if not np.allclose(out, arr_r):\n",
    "        flag = False\n",
    "        print('backward with norm failed')\n",
    "    out[:] = arr_g\n",
    "    fft.ifft(False)\n",
    "    normfac = np.prod(shape)\n",
    "    if not np.allclose(out, normfac*arr_r):\n",
    "        flag = False\n",
    "        print('backward unnormed failed')\n",
    "    \n",
    "    print('Going to 2D now: ', flag)\n",
    "    out = FFTBackend.create_buffer(shape)\n",
    "    axes = (1, 2)\n",
    "    fft = FFTBackend(out, axes)\n",
    "    out[:] = arr_r\n",
    "    fft.fft()\n",
    "    if not np.allclose(out, np.fft.fftn(arr_r, axes=axes)):\n",
    "        flag = False\n",
    "        print('forward fail')\n",
    "    out[:] = arr_g\n",
    "    fft.ifft(True)\n",
    "    if not np.allclose(out, np.fft.ifftn(arr_g, axes=axes)):\n",
    "        flag = False\n",
    "        print('backward with norm failed')\n",
    "    out[:] = arr_g\n",
    "    fft.ifft(False)\n",
    "    normfac = shape[0] * shape[2]\n",
    "    if not np.allclose(\n",
    "        out, normfac * np.fft.ifftn(arr_g, axes=axes)):\n",
    "        flag = False\n",
    "        print('backward unnormed failed')\n",
    "    \n",
    "    print(\"Pass\" if flag else \"Fail\")"
   ]
  },
  {
   "cell_type": "code",
   "execution_count": 6,
   "id": "362493c7-e884-4d17-a0ce-5590507c04e6",
   "metadata": {},
   "outputs": [],
   "source": [
    "shape = (45, 45, 45)\n",
    "numg = 5000\n",
    "normalise_idft = False\n",
    "\n",
    "arr_g = np.random.rand(2, numg)\n",
    "arr_g = arr_g[0] + 1j * arr_g[1]\n",
    "\n",
    "idxg = np.random.choice(np.prod(shape) - 1, numg, replace=False) + 1\n",
    "idxg[0] = 0\n",
    "\n",
    "inp = np.zeros(shape, dtype='c16')\n",
    "inp.put(idxg, arr_g)\n",
    "arr_r = np.fft.ifftn(inp)\n",
    "\n",
    "normfac = np.prod(shape)\n",
    "if normalise_idft:\n",
    "    arr_r_norm = arr_r\n",
    "else:\n",
    "    arr_r_norm = arr_r * normfac"
   ]
  },
  {
   "cell_type": "code",
   "execution_count": 7,
   "id": "f3ac7c26-d0ec-46f4-a8c2-1a296ee5742d",
   "metadata": {},
   "outputs": [
    {
     "name": "stdout",
     "output_type": "stream",
     "text": [
      "True\n",
      "True\n",
      "True\n",
      "True\n"
     ]
    }
   ],
   "source": [
    "from qtmpy.gspace.fft import FFT3DFull\n",
    "from qtmpy.gspace.fft import FFT3DSticks\n",
    "\n",
    "\n",
    "fft = FFT3DFull(shape, idxg, normalise_idft)\n",
    "out = fft.create_buffer(shape)\n",
    "fft.g2r(arr_g, out)\n",
    "print(np.allclose(out, arr_r_norm))\n",
    "out = fft.create_buffer(numg)\n",
    "fft.r2g(arr_r, out)\n",
    "print(np.allclose(out, arr_g))\n",
    "\n",
    "fft = FFT3DSticks(shape, idxg, normalise_idft)\n",
    "out = fft.create_buffer(shape)\n",
    "fft.g2r(arr_g, out)\n",
    "print(np.allclose(out, arr_r_norm))\n",
    "out = fft.create_buffer(numg)\n",
    "fft.r2g(arr_r, out)\n",
    "print(np.allclose(out, arr_g))"
   ]
  },
  {
   "cell_type": "code",
   "execution_count": 8,
   "id": "9936ba37-fb7d-454a-b4e3-251d610daf5d",
   "metadata": {},
   "outputs": [],
   "source": [
    "%load_ext line_profiler"
   ]
  },
  {
   "cell_type": "code",
   "execution_count": 10,
   "id": "0bdf7e8d-2477-4d34-bcd8-8b82ddd0e7d3",
   "metadata": {},
   "outputs": [
    {
     "name": "stdout",
     "output_type": "stream",
     "text": [
      "pyfftw\n",
      "<class 'qtmpy.gspace.fft.backend.pyfftw_.PyFFTWFFTWrapper'>\n",
      "2.04 ms ± 65.6 µs per loop (mean ± std. dev. of 7 runs, 100 loops each)\n",
      "True\n",
      "2.2 ms ± 172 µs per loop (mean ± std. dev. of 7 runs, 100 loops each)\n",
      "True\n"
     ]
    }
   ],
   "source": [
    "from qtmpy.gspace.fft.full import FFT3DFull\n",
    "# from qtmpy.gspace.fft.sticks import FFT3DSticksv1, FFT3DSticksv2\n",
    "\n",
    "qtmconfig.fft_backend = 'pyfftw'\n",
    "print(qtmconfig.fft_backend)\n",
    "\n",
    "\n",
    "fft = FFT3DFull(shape, idxg, normalise_idft)\n",
    "print(fft.FFTBackend)\n",
    "out = fft.create_buffer(shape)\n",
    "%timeit fft.g2r(arr_g, out)\n",
    "print(np.allclose(out, arr_r_norm))\n",
    "\n",
    "# fft = FFT3DSticksv1(shape, idxg, normalise_idft)\n",
    "# out = fft.create_buffer(shape)\n",
    "# %timeit fft.g2r(arr_g, out)\n",
    "# print(np.allclose(out, arr_r_norm))\n",
    "\n",
    "# fft = FFT3DSticksv2(shape, idxg, normalise_idft)\n",
    "# out = fft.create_buffer(shape)\n",
    "# %timeit fft.g2r(arr_g, out)\n",
    "# print(np.allclose(out, arr_r_norm))\n",
    "\n",
    "fft = FFT3DFull(shape, idxg, normalise_idft)\n",
    "out = fft.create_buffer(shape)\n",
    "%timeit fft.g2r(arr_g, out)\n",
    "print(np.allclose(out, arr_r_norm))"
   ]
  },
  {
   "cell_type": "code",
   "execution_count": null,
   "id": "c9f69c4f-604c-43a4-8c35-ab562351b9be",
   "metadata": {},
   "outputs": [],
   "source": [
    "print(qtmconfig.fft_backend)"
   ]
  },
  {
   "cell_type": "code",
   "execution_count": null,
   "id": "3f99ee56-fbba-40f1-978c-115bac484f1b",
   "metadata": {},
   "outputs": [],
   "source": [
    "from qtmpy.gspace.fft.sticks import FFT3DSticksv1\n",
    "\n",
    "fft = FFT3DSticksv1(shape, idxg, True)\n",
    "print(len(fft.fftz_map[0]), len(fft.ffty_map))\n",
    "\n",
    "out = fft.create_buffer(shape)\n",
    "%timeit fft.g2r(arr_g, out)\n",
    "print(np.allclose(out, arr_r))\n",
    "out = fft.create_buffer(numg)\n",
    "# %lprun -f fft.r2g fft.r2g(arr_r, out)\n",
    "print(np.allclose(out, arr_g))"
   ]
  },
  {
   "cell_type": "code",
   "execution_count": 24,
   "id": "27d21c5a-5759-41a7-836a-a1bfb443f1ca",
   "metadata": {},
   "outputs": [
    {
     "name": "stdout",
     "output_type": "stream",
     "text": [
      "1857 45\n",
      "78.9 ms ± 675 µs per loop (mean ± std. dev. of 7 runs, 10 loops each)\n",
      "True\n",
      "False\n"
     ]
    }
   ],
   "source": [
    "from qtmpy.gspace.fft.sticks import FFT3DSticksv2\n",
    "\n",
    "fft = FFT3DSticksv2(shape, idxg, True)\n",
    "print(fft.numsticks, fft.numplanes)\n",
    "\n",
    "\n",
    "out = fft.create_buffer(shape)\n",
    "%timeit fft.g2r(arr_g, out)\n",
    "print(np.allclose(out, arr_r))\n",
    "out = fft.create_buffer(numg)\n",
    "# %lprun -f fft.r2g fft.r2g(arr_r, out)\n",
    "print(np.allclose(out, arr_g))"
   ]
  },
  {
   "cell_type": "code",
   "execution_count": 9,
   "id": "c1b7c100-b1a3-4bef-a42e-12b679a0d05e",
   "metadata": {},
   "outputs": [
    {
     "name": "stdout",
     "output_type": "stream",
     "text": [
      "True\n",
      "True\n",
      "False\n",
      "[[[  0.64444466+2.48430408e-01j  -3.22284852-3.88378457e+01j\n",
      "    -0.        +0.00000000e+00j ...  -0.        +0.00000000e+00j\n",
      "   -12.9061091 +1.20842692e+00j   0.        +0.00000000e+00j]\n",
      "  [  0.        +0.00000000e+00j  -0.        +0.00000000e+00j\n",
      "     0.        -0.00000000e+00j ... -25.51570315+1.98074408e+01j\n",
      "    -9.92266186-3.39324147e+01j -23.97441252+1.79034460e+02j]\n",
      "  [  8.974545  -4.38646289e+01j   0.        +0.00000000e+00j\n",
      "   -26.7031118 +4.47513628e+00j ...   0.        -0.00000000e+00j\n",
      "    -7.3948697 +1.22879036e+01j   0.        -0.00000000e+00j]\n",
      "  ...\n",
      "  [-54.00920434+3.96967191e+01j   0.        -0.00000000e+00j\n",
      "   -52.104017  +4.96639233e+01j ...   0.        +0.00000000e+00j\n",
      "    10.50941092-2.60032751e+01j   0.        +0.00000000e+00j]\n",
      "  [ 42.04897988-8.31289234e+00j   0.        +0.00000000e+00j\n",
      "     0.        -0.00000000e+00j ...  -0.6899274 +8.93310768e+01j\n",
      "   -37.52330286+8.06723630e+00j   0.        +0.00000000e+00j]\n",
      "  [ 28.62567061-1.36082782e+01j   0.        -0.00000000e+00j\n",
      "    30.26464253+6.00125686e+01j ...   0.        -0.00000000e+00j\n",
      "    -7.18014143+1.21772242e+01j  -0.        +0.00000000e+00j]]\n",
      "\n",
      " [[ 21.53601996-1.29397071e+01j -89.33110026+7.04236492e+01j\n",
      "    -0.        +0.00000000e+00j ...   0.        +0.00000000e+00j\n",
      "     4.39557013+4.82895991e+00j  -0.        +0.00000000e+00j]\n",
      "  [ -0.        +0.00000000e+00j   0.        +0.00000000e+00j\n",
      "    -0.        +0.00000000e+00j ... -10.14628687-1.99215800e+01j\n",
      "   -27.9306657 -3.41475408e+01j  17.44528318+1.74441019e+01j]\n",
      "  [ 14.84516783-3.84169787e+01j   0.        +0.00000000e+00j\n",
      "    -1.46423305+2.35850317e+01j ...   0.        -0.00000000e+00j\n",
      "    12.43283736-1.12587862e+01j  -0.        +0.00000000e+00j]\n",
      "  ...\n",
      "  [-46.75634563+1.66397246e+01j   0.        -0.00000000e+00j\n",
      "   -16.3072428 -1.67224502e+01j ...   0.        +0.00000000e+00j\n",
      "   -21.61876832-1.07938540e+01j   0.        +0.00000000e+00j]\n",
      "  [ -6.76732447+3.85208439e+01j  -0.        +0.00000000e+00j\n",
      "     0.        -0.00000000e+00j ...   9.13588766+1.66768711e+00j\n",
      "   -28.74172926+2.27578544e+01j   0.        +0.00000000e+00j]\n",
      "  [-38.16972483+2.89832991e+01j   0.        +0.00000000e+00j\n",
      "    74.2002767 -1.53645506e+02j ...   0.        +0.00000000e+00j\n",
      "   -41.45139734+1.50959542e+01j   0.        +0.00000000e+00j]]\n",
      "\n",
      " [[-15.71403333-6.03806076e+00j  27.44718052+2.56122957e+01j\n",
      "     0.        -0.00000000e+00j ...   0.        +0.00000000e+00j\n",
      "     6.98211953+4.01024613e+00j   0.        -0.00000000e+00j]\n",
      "  [ -0.        +0.00000000e+00j   0.        +0.00000000e+00j\n",
      "     0.        -0.00000000e+00j ... -85.84825103+2.78465972e+02j\n",
      "     8.77353759+5.07258513e+01j   0.45714064+1.21528663e+01j]\n",
      "  [-24.66239905-1.56905263e+01j   0.        +0.00000000e+00j\n",
      "    -2.63455213+1.94287092e+01j ...  -0.        +0.00000000e+00j\n",
      "    11.68379892-8.13768919e+00j   0.        -0.00000000e+00j]\n",
      "  ...\n",
      "  [ 17.06505425-1.04203617e+01j  -0.        +0.00000000e+00j\n",
      "    33.94635292+1.72704129e+01j ...   0.        +0.00000000e+00j\n",
      "   -13.60823889-3.41119228e+01j   0.        +0.00000000e+00j]\n",
      "  [ -7.39260379+8.80656016e+00j   0.        -0.00000000e+00j\n",
      "     0.        +0.00000000e+00j ... -10.61314688-9.62654650e+00j\n",
      "   -22.20381287-7.51527772e-01j   0.        +0.00000000e+00j]\n",
      "  [-23.50398649+1.24422827e+01j   0.        +0.00000000e+00j\n",
      "   -13.61042279+9.88997463e+00j ...   0.        +0.00000000e+00j\n",
      "    16.1343556 -2.54572584e+01j  -0.        +0.00000000e+00j]]\n",
      "\n",
      " ...\n",
      "\n",
      " [[  6.53071779-6.27515709e+00j   2.96334071-2.02723409e+01j\n",
      "     0.        -0.00000000e+00j ...  -0.        +0.00000000e+00j\n",
      "     7.5704089 -7.60315022e+00j   0.        +0.00000000e+00j]\n",
      "  [ -0.        +0.00000000e+00j   0.        -0.00000000e+00j\n",
      "    -0.        +0.00000000e+00j ...  -4.1811096 -1.55655639e+01j\n",
      "    47.52713302-3.16071006e+01j  35.16814534-5.18425907e+00j]\n",
      "  [ 18.68652685+4.66778355e+01j   0.        +0.00000000e+00j\n",
      "   -43.20754605+1.18531657e+01j ...   0.        -0.00000000e+00j\n",
      "     1.95552762+9.16725780e+00j  -0.        +0.00000000e+00j]\n",
      "  ...\n",
      "  [-10.69804297-3.23820406e-01j  -0.        +0.00000000e+00j\n",
      "    16.089198  +8.26493291e+00j ...   0.        +0.00000000e+00j\n",
      "    52.95933134+2.55697502e+01j   0.        +0.00000000e+00j]\n",
      "  [-75.52808294+1.16305689e+02j   0.        +0.00000000e+00j\n",
      "    -0.        +0.00000000e+00j ...  17.76894642+1.00708861e+01j\n",
      "    15.14836668+2.27108023e+01j   0.        +0.00000000e+00j]\n",
      "  [-19.22154181-1.32414430e+00j   0.        +0.00000000e+00j\n",
      "   -47.90687913+2.70097538e+01j ...   0.        +0.00000000e+00j\n",
      "    -7.41861358-7.05837589e+00j   0.        +0.00000000e+00j]]\n",
      "\n",
      " [[ -5.68789371-4.54170263e+00j -19.50195466-1.66767034e+00j\n",
      "     0.        -0.00000000e+00j ...   0.        +0.00000000e+00j\n",
      "   -10.39186122-3.23523259e+00j  -0.        +0.00000000e+00j]\n",
      "  [  0.        +0.00000000e+00j  -0.        +0.00000000e+00j\n",
      "    -0.        +0.00000000e+00j ... -26.22863234+2.60584600e+01j\n",
      "   -25.65947055-1.43079208e+01j  81.61688723+6.15484502e+01j]\n",
      "  [-10.30191841-1.60270726e+01j   0.        +0.00000000e+00j\n",
      "    11.47775814-3.81898374e+01j ...   0.        +0.00000000e+00j\n",
      "    12.27336651+1.35987389e+01j   0.        +0.00000000e+00j]\n",
      "  ...\n",
      "  [  6.85805387-9.42993604e+00j   0.        -0.00000000e+00j\n",
      "   -34.32024883+1.37335489e+01j ...   0.        -0.00000000e+00j\n",
      "    21.93389116+2.13355810e+01j   0.        +0.00000000e+00j]\n",
      "  [  1.66160153-1.22057070e+01j   0.        +0.00000000e+00j\n",
      "     0.        +0.00000000e+00j ...   4.00282922+1.02066448e+01j\n",
      "    -5.04045977-2.85353942e+01j   0.        +0.00000000e+00j]\n",
      "  [-31.24269309+3.73090491e+00j  -0.        +0.00000000e+00j\n",
      "   -58.67100725+1.84553826e+01j ...   0.        +0.00000000e+00j\n",
      "     0.85094038-8.83614125e+00j   0.        -0.00000000e+00j]]\n",
      "\n",
      " [[ 13.29882115-1.46195949e+01j -28.71469663+4.18942662e+00j\n",
      "     0.        +0.00000000e+00j ...   0.        +0.00000000e+00j\n",
      "     4.67061862+6.10983658e+00j   0.        +0.00000000e+00j]\n",
      "  [  0.        +0.00000000e+00j   0.        +0.00000000e+00j\n",
      "     0.        +0.00000000e+00j ... -33.6607445 +1.67581790e+01j\n",
      "    10.4646899 -5.47514129e+01j  -5.14426043+1.22851782e+01j]\n",
      "  [ 57.1964364 +9.29734017e+01j   0.        +0.00000000e+00j\n",
      "   -11.65481514+2.98864412e+01j ...   0.        +0.00000000e+00j\n",
      "   -32.33506032-4.03777147e+00j   0.        +0.00000000e+00j]\n",
      "  ...\n",
      "  [-12.84860842-8.42734560e+00j   0.        +0.00000000e+00j\n",
      "    17.52540594-2.97805442e+01j ...  -0.        +0.00000000e+00j\n",
      "    16.14935219+2.27988895e+01j   0.        +0.00000000e+00j]\n",
      "  [-12.61673007+9.69022775e+01j  -0.        +0.00000000e+00j\n",
      "    -0.        +0.00000000e+00j ...  -0.81040056-9.87659363e+00j\n",
      "   -12.91135362+1.95363387e+01j   0.        +0.00000000e+00j]\n",
      "  [  3.38849961+1.50206666e+01j   0.        -0.00000000e+00j\n",
      "     6.28486531-1.23665276e+01j ...   0.        +0.00000000e+00j\n",
      "   -13.65523524-2.03800575e+01j   0.        -0.00000000e+00j]]]\n",
      "False\n"
     ]
    }
   ],
   "source": [
    "if qtmconfig.use_gpu:\n",
    "    idxg = cp.asarray(idxg)\n",
    "    arr_g = cp.asarray(arr_g)\n",
    "    arr_r = cp.asarray(arr_r)\n",
    "    \n",
    "    fft = FFT3DFull(shape, idxg, True, 'cupy')\n",
    "    out = fft.create_buffer(shape)\n",
    "    fft.g2r(arr_g, out)\n",
    "    print(np.allclose(out, arr_r))\n",
    "    out = fft.create_buffer(numg)\n",
    "    fft.r2g(arr_r, out)\n",
    "    print(np.allclose(out, arr_g))\n",
    "\n",
    "    fft = FFT3DSticks(shape, idxg, True, 'cupy')\n",
    "    out = fft.create_buffer(shape)\n",
    "    fft.g2r(arr_g, out)\n",
    "    print(np.allclose(out, arr_r))\n",
    "    print(out / arr_r)\n",
    "    out = fft.create_buffer(numg)\n",
    "    fft.r2g(arr_r, out)\n",
    "    print(np.allclose(out, arr_g))"
   ]
  },
  {
   "cell_type": "code",
   "execution_count": 40,
   "id": "681ad5fa-7d1a-49b7-8b80-55c5c72f55c3",
   "metadata": {},
   "outputs": [
    {
     "name": "stdout",
     "output_type": "stream",
     "text": [
      "(100, 100) complex128   C_CONTIGUOUS : True\n",
      "  F_CONTIGUOUS : False\n",
      "  OWNDATA : True\n"
     ]
    }
   ],
   "source": [
    "import cupy as cp\n",
    "from cupyx.scipy.fft import get_fft_plan, fftn, ifftn\n",
    "\n",
    "a = cp.random.rand(2, 100, 100)\n",
    "a = a[0] + 1j * a[1]\n",
    "print(a.shape, a.dtype, a.flags)\n",
    "\n",
    "fft_plan = get_fft_plan(\n",
    "    cp.empty((a.shape[0], ), dtype='c16'),\n",
    "    axes=(0, ), value_type='C2C'\n",
    ")"
   ]
  },
  {
   "cell_type": "code",
   "execution_count": 42,
   "id": "f8779554-2014-4dbb-92bf-e83adf241af1",
   "metadata": {},
   "outputs": [
    {
     "data": {
      "text/plain": [
       "array(False)"
      ]
     },
     "execution_count": 42,
     "metadata": {},
     "output_type": "execute_result"
    }
   ],
   "source": [
    "b = a.copy()\n",
    "for i in range(100):\n",
    "    fftn(b[i], axes=(0, ), plan=fft_plan, overwrite_x=True)\n",
    "c = cp.fft.fftn(a.copy(), axes=(1, ))\n",
    "cp.allclose(b, c)"
   ]
  },
  {
   "cell_type": "code",
   "execution_count": 30,
   "id": "6fc27392-2ad3-4ab1-920a-292e90383872",
   "metadata": {},
   "outputs": [
    {
     "name": "stdout",
     "output_type": "stream",
     "text": [
      "[[ 0.01151109-0.00442619j -0.25290139-0.04505716j  0.0062705 -0.04562721j\n",
      "  ... -0.11520014-0.10994552j -0.01421395+0.12010252j\n",
      "  -0.05416686+0.05385627j]\n",
      " [ 0.00334864-0.00259917j -0.03544413+0.13930451j  1.88561429-0.62434709j\n",
      "  ...  0.09142189-0.27307002j -0.06467797+0.29195827j\n",
      "   0.14922066+0.22925666j]\n",
      " [ 0.00763572+0.002415j    0.11760314-0.06326843j -0.19983771+0.28597952j\n",
      "  ...  0.17403785+0.17290627j  0.26428007-0.15900969j\n",
      "   0.04590734-0.1934446j ]\n",
      " ...\n",
      " [ 0.00962284+0.00850002j  0.5336527 -0.0310926j   0.1822149 +0.22511929j\n",
      "  ... -0.25483874-0.058187j   -0.00651628-1.33787736j\n",
      "  -0.7103268 +0.94186887j]\n",
      " [ 0.00698721+0.0028195j  -0.31296099+0.39665832j  0.18564964+0.14748146j\n",
      "  ...  0.00357752-0.13085192j -0.14140393+0.09803637j\n",
      "  -0.10200116+0.01657402j]\n",
      " [ 0.00410998+0.00263672j  0.19523014-0.05560594j  0.17796905-0.3080466j\n",
      "  ...  0.05857186+0.23944494j -0.17306527-0.00386679j\n",
      "  -0.01804388+0.40914555j]]\n"
     ]
    }
   ],
   "source": [
    "print(b/c)"
   ]
  },
  {
   "cell_type": "code",
   "execution_count": null,
   "id": "5cffaa1b-2ff7-4c7f-b41f-e901ce18dbe4",
   "metadata": {},
   "outputs": [],
   "source": [
    "cp.cuda.cufft."
   ]
  }
 ],
 "metadata": {
  "kernelspec": {
   "display_name": "Python 3 (ipykernel)",
   "language": "python",
   "name": "python3"
  },
  "language_info": {
   "codemirror_mode": {
    "name": "ipython",
    "version": 3
   },
   "file_extension": ".py",
   "mimetype": "text/x-python",
   "name": "python",
   "nbconvert_exporter": "python",
   "pygments_lexer": "ipython3",
   "version": "3.11.0"
  }
 },
 "nbformat": 4,
 "nbformat_minor": 5
}
