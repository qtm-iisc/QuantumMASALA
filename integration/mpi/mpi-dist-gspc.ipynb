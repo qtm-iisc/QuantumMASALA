{
 "cells": [
  {
   "cell_type": "code",
   "execution_count": 1,
   "id": "0eda35c9-a676-44c3-8d6a-3b64f1344a62",
   "metadata": {},
   "outputs": [],
   "source": [
    "%load_ext autoreload\n",
    "%load_ext line_profiler\n",
    "%autoreload 2"
   ]
  },
  {
   "cell_type": "code",
   "execution_count": 2,
   "id": "117ea233-0804-4c84-9b13-d423184f7a40",
   "metadata": {},
   "outputs": [
    {
     "name": "stdout",
     "output_type": "stream",
     "text": [
      "(8, 6, 1)\n",
      "<Cluster(cluster_id='1690369408-my6r', profile='default')>\n",
      "Starting 4 engines with <class 'ipyparallel.cluster.launcher.MPIEngineSetLauncher'>\n",
      "100%|███████████████████████████████████████████████████████████████████████████████████████████████████████████████████████████████████████████████████████████████████████████████████████████████████████████████████████████████████| 4/4 [00:06<00:00,  1.50s/engine]\n"
     ]
    },
    {
     "data": {
      "text/plain": [
       "[0, 1, 2, 3]"
      ]
     },
     "execution_count": 2,
     "metadata": {},
     "output_type": "execute_result"
    }
   ],
   "source": [
    "import ipyparallel as ipp\n",
    "print(ipp.version_info)\n",
    "\n",
    "nproc = 4\n",
    "cluster = ipp.Cluster(engines='mpi', n=nproc, shutdown_atexit=False)\n",
    "print(cluster)\n",
    "client = cluster.start_and_connect_sync(activate=True)\n",
    "view = client[:]\n",
    "client.ids"
   ]
  },
  {
   "cell_type": "code",
   "execution_count": 3,
   "id": "03d0489a-aa4b-40a6-b05a-c9877b032af7",
   "metadata": {},
   "outputs": [
    {
     "name": "stdout",
     "output_type": "stream",
     "text": [
      "PROFILE          CLUSTER ID                       RUNNING ENGINES LAUNCHER\n",
      "default          1690369408-my6r                  True          4 MPI\n"
     ]
    }
   ],
   "source": [
    "!ipcluster list"
   ]
  },
  {
   "cell_type": "code",
   "execution_count": 4,
   "id": "aec12e1d-659b-4669-9f65-dbafa3be6b3f",
   "metadata": {},
   "outputs": [
    {
     "name": "stdout",
     "output_type": "stream",
     "text": [
      "%autopx enabled\n"
     ]
    }
   ],
   "source": [
    "%autopx --block --group-outputs=engines"
   ]
  },
  {
   "cell_type": "code",
   "execution_count": 5,
   "id": "3d8d8676-dff8-4fe1-b3f0-20219072a925",
   "metadata": {},
   "outputs": [],
   "source": [
    "import numpy as np\n",
    "from qtm.constants import RYDBERG\n",
    "\n",
    "from qtm.lattice import RealLattice, ReciLattice\n",
    "from qtm.gspace import GSpace, GkSpace\n",
    "\n",
    "alat = 5.107\n",
    "latvec_alat = 0.5 * np.array([\n",
    "    [ 1,  1,  1],\n",
    "    [-1,  1,  1],\n",
    "    [-1, -1,  1]\n",
    "])\n",
    "\n",
    "reallat = RealLattice.from_alat(alat, *latvec_alat)\n",
    "recilat = ReciLattice.from_reallat(reallat)\n",
    "\n",
    "ecutwfn = 40 * RYDBERG\n",
    "grho = GSpace(recilat, 4 * ecutwfn)\n",
    "gwfn = GkSpace(grho, [0., 0., 0.])"
   ]
  },
  {
   "cell_type": "code",
   "execution_count": 6,
   "id": "040cb0c9-5401-4d44-8224-f7a1a7d03b1f",
   "metadata": {},
   "outputs": [
    {
     "data": {
      "text/plain": [
       "[stdout:2] True\n",
       "True\n"
      ]
     },
     "metadata": {},
     "output_type": "display_data"
    },
    {
     "data": {
      "text/plain": [
       "[stdout:1] True\n",
       "True\n"
      ]
     },
     "metadata": {},
     "output_type": "display_data"
    },
    {
     "data": {
      "text/plain": [
       "[stdout:3] True\n",
       "True\n"
      ]
     },
     "metadata": {},
     "output_type": "display_data"
    },
    {
     "data": {
      "text/plain": [
       "[stdout:0] True\n",
       "True\n"
      ]
     },
     "metadata": {},
     "output_type": "display_data"
    }
   ],
   "source": [
    "arr_g = grho.create_buffer_g(1)\n",
    "arr_r = grho.create_buffer_r(1)\n",
    "\n",
    "rng = np.random.default_rng(12345)\n",
    "arr_g[:] = rng.random(grho.size_g) \\\n",
    "    + 1j * rng.random(grho.size_g)\n",
    "\n",
    "arr_r[:] = 0\n",
    "arr_r.put(grho.idxgrid, arr_g)\n",
    "\n",
    "arr_r = np.fft.ifftn(arr_r.reshape(grho.grid_shape))\n",
    "arr_r = arr_r.reshape((1, -1))\n",
    "\n",
    "out = grho.create_buffer_r(1)\n",
    "grho.g2r(arr_g, out)\n",
    "print(np.allclose(out, arr_r))\n",
    "\n",
    "out = grho.create_buffer_g(1)\n",
    "grho.r2g(arr_r, out)\n",
    "print(np.allclose(out, arr_g))"
   ]
  },
  {
   "cell_type": "code",
   "execution_count": 7,
   "id": "f298c3a0-793b-4b0f-b9f4-5f856b6719dc",
   "metadata": {},
   "outputs": [
    {
     "data": {
      "text/plain": [
       "[stdout:3] 3/4: PWGRP #0/1 pwgrpcomm rank 3/4 - intercomm rank 0/1\n"
      ]
     },
     "metadata": {},
     "output_type": "display_data"
    },
    {
     "data": {
      "text/plain": [
       "[stdout:0] 0/4: PWGRP #0/1 pwgrpcomm rank 0/4 - intercomm rank 0/1\n"
      ]
     },
     "metadata": {},
     "output_type": "display_data"
    },
    {
     "data": {
      "text/plain": [
       "[stdout:1] 1/4: PWGRP #0/1 pwgrpcomm rank 1/4 - intercomm rank 0/1\n"
      ]
     },
     "metadata": {},
     "output_type": "display_data"
    },
    {
     "data": {
      "text/plain": [
       "[stdout:2] 2/4: PWGRP #0/1 pwgrpcomm rank 2/4 - intercomm rank 0/1\n"
      ]
     },
     "metadata": {},
     "output_type": "display_data"
    }
   ],
   "source": [
    "from mpi4py.MPI import COMM_WORLD\n",
    "from qtm.mpi.comm import QTMComm, split_comm_pwgrp\n",
    "\n",
    "pwgrp_size = 4\n",
    "\n",
    "world_comm = QTMComm(COMM_WORLD)\n",
    "pwgrp_comm, intercomm = split_comm_pwgrp(world_comm, pwgrp_size)\n",
    "n_pwgrp = intercomm.size\n",
    "\n",
    "print(f\"{world_comm.rank}/{world_comm.size}: \"\n",
    "      f\"PWGRP #{pwgrp_comm.subgrp_idx}/{n_pwgrp} \"\n",
    "      f\"pwgrpcomm rank {pwgrp_comm.rank}/{pwgrp_size} - \"\n",
    "      f\"intercomm rank {intercomm.rank}/{intercomm.size}\")"
   ]
  },
  {
   "cell_type": "code",
   "execution_count": 8,
   "id": "168e156b-896e-4c7e-a927-3a9ab3fc649a",
   "metadata": {},
   "outputs": [
    {
     "data": {
      "text/plain": [
       "[stdout:2] 80.0\n"
      ]
     },
     "metadata": {},
     "output_type": "display_data"
    },
    {
     "data": {
      "text/plain": [
       "[stdout:1] 80.0\n"
      ]
     },
     "metadata": {},
     "output_type": "display_data"
    },
    {
     "data": {
      "text/plain": [
       "[stdout:0] 80.0\n"
      ]
     },
     "metadata": {},
     "output_type": "display_data"
    },
    {
     "data": {
      "text/plain": [
       "[stdout:3] 80.0\n"
      ]
     },
     "metadata": {},
     "output_type": "display_data"
    }
   ],
   "source": [
    "from qtm.mpi.gspace import DistGSpace\n",
    "\n",
    "dist_grho = DistGSpace(pwgrp_comm, grho)\n",
    "print(dist_grho.ecut)"
   ]
  },
  {
   "cell_type": "code",
   "execution_count": 11,
   "id": "ba147c30-fcfa-4b9f-b5c7-ea7527b27c42",
   "metadata": {},
   "outputs": [
    {
     "data": {
      "text/plain": [
       "[stdout:1] True\n"
      ]
     },
     "metadata": {},
     "output_type": "display_data"
    },
    {
     "data": {
      "text/plain": [
       "[stdout:0] True\n"
      ]
     },
     "metadata": {},
     "output_type": "display_data"
    },
    {
     "data": {
      "text/plain": [
       "[stdout:3] True\n"
      ]
     },
     "metadata": {},
     "output_type": "display_data"
    },
    {
     "data": {
      "text/plain": [
       "[stdout:2] True\n"
      ]
     },
     "metadata": {},
     "output_type": "display_data"
    }
   ],
   "source": [
    "from qtm.mpi.utils import scatter_slice\n",
    "out = dist_grho.scatter_data_r(arr_r)\n",
    "\n",
    "sl = scatter_slice(dist_grho.nz, pwgrp_comm.size, pwgrp_comm.rank)\n",
    "arr_r_dist = arr_r.reshape(grho.grid_shape)[..., sl].ravel()\n",
    "print(np.allclose(arr_r_dist, out))"
   ]
  },
  {
   "cell_type": "code",
   "execution_count": 10,
   "id": "d6f98875-9d5a-4a81-b97e-da2471d62adf",
   "metadata": {},
   "outputs": [],
   "source": [
    "# print(dist_grho._scatter_r_sendcounts)"
   ]
  },
  {
   "cell_type": "code",
   "execution_count": 12,
   "id": "0cbd9218-ee5d-4406-a471-69765ea2d136",
   "metadata": {},
   "outputs": [
    {
     "name": "stdout",
     "output_type": "stream",
     "text": [
      "%autopx disabled\n"
     ]
    }
   ],
   "source": [
    "%autopx --block --group-outputs=engines"
   ]
  },
  {
   "cell_type": "code",
   "execution_count": 13,
   "id": "5b35afae-fe4d-4e20-9371-5efd774ac0a4",
   "metadata": {},
   "outputs": [
    {
     "name": "stdout",
     "output_type": "stream",
     "text": [
      "Stopping controller\n",
      "Controller stopped: {'exit_code': 0, 'pid': 26557, 'identifier': 'ipcontroller-1690369408-my6r-26542'}\n",
      "Stopping engine(s): 1690369409\n",
      "engine set stopped 1690369409: {'exit_code': 1, 'pid': 26586, 'identifier': 'ipengine-1690369408-my6r-1690369409-26542'}\n"
     ]
    }
   ],
   "source": [
    "cluster.stop_cluster_sync()"
   ]
  },
  {
   "cell_type": "code",
   "execution_count": 15,
   "id": "b9598d0b-24e6-4b11-8203-ec080464f9bf",
   "metadata": {},
   "outputs": [
    {
     "name": "stdout",
     "output_type": "stream",
     "text": [
      "PROFILE          CLUSTER ID                       RUNNING ENGINES LAUNCHER\n",
      "default          1690370528-elmy                  True          0 MPI\n"
     ]
    }
   ],
   "source": [
    "!ipcluster list"
   ]
  },
  {
   "cell_type": "code",
   "execution_count": null,
   "id": "4385f015-ad44-4723-9411-bc98b44b1a4d",
   "metadata": {},
   "outputs": [],
   "source": []
  }
 ],
 "metadata": {
  "kernelspec": {
   "display_name": "Python 3 (ipykernel)",
   "language": "python",
   "name": "python3"
  },
  "language_info": {
   "codemirror_mode": {
    "name": "ipython",
    "version": 3
   },
   "file_extension": ".py",
   "mimetype": "text/x-python",
   "name": "python",
   "nbconvert_exporter": "python",
   "pygments_lexer": "ipython3",
   "version": "3.11.4"
  }
 },
 "nbformat": 4,
 "nbformat_minor": 5
}
