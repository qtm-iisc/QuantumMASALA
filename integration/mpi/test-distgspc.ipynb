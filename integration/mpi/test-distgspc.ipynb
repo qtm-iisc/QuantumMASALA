{
 "cells": [
  {
   "cell_type": "code",
   "execution_count": 1,
   "id": "b119d59f-caea-48f7-a3bd-9e49ff75cc02",
   "metadata": {},
   "outputs": [],
   "source": [
    "%load_ext autoreload\n",
    "%load_ext line_profiler\n",
    "%autoreload 2"
   ]
  },
  {
   "cell_type": "code",
   "execution_count": 2,
   "id": "93521303-9391-4353-9798-ed4824142a9b",
   "metadata": {},
   "outputs": [],
   "source": [
    "import sys\n",
    "\n",
    "linewidth = 100\n",
    "formatter = {\n",
    "    'float': lambda num: f'{num:5.1f}',\n",
    "    'int': lambda num: f'{float(num):5.1f}',\n",
    "}\n",
    "print_args = {\n",
    "    'threshold': sys.maxsize,\n",
    "#     'threshold': 100,\n",
    "    'linewidth': 100,\n",
    "    'formatter': formatter,\n",
    "    'edgeitems': 6,\n",
    "}"
   ]
  },
  {
   "cell_type": "code",
   "execution_count": 3,
   "id": "37b47264-d898-47fb-9dc6-62706afee9da",
   "metadata": {},
   "outputs": [],
   "source": [
    "import numpy as np\n",
    "from qtm.constants import RYDBERG\n",
    "\n",
    "from qtm.lattice import RealLattice, ReciLattice\n",
    "from qtm.gspace import GSpace, GkSpace\n",
    "\n",
    "# Iron Lattice\n",
    "alat = 5.107\n",
    "latvec_alat = 0.5 * np.array([\n",
    "    [ 1,  1,  1],\n",
    "    [-1,  1,  1],\n",
    "    [-1, -1,  1]\n",
    "])\n",
    "\n",
    "reallat = RealLattice.from_alat(alat, *latvec_alat)\n",
    "recilat = ReciLattice.from_reallat(reallat)\n",
    "\n",
    "\n",
    "# Creating the Serial GSpace instances\n",
    "ecutwfn = 40 * RYDBERG\n",
    "grho = GSpace(recilat, 4 * ecutwfn)\n",
    "gkwfn = GkSpace(grho, [0., 0., 0.])"
   ]
  },
  {
   "cell_type": "code",
   "execution_count": 4,
   "id": "31094069-8a4b-41a1-aa34-8e55d9949f64",
   "metadata": {},
   "outputs": [
    {
     "name": "stdout",
     "output_type": "stream",
     "text": [
      "True\n",
      "True\n"
     ]
    }
   ],
   "source": [
    "# Creating test data for FFT operations\n",
    "gspc = grho\n",
    "\n",
    "arr_g = gspc.create_buffer_g(1)\n",
    "arr_r = gspc.create_buffer_r(1)\n",
    "\n",
    "# Random Field is constructed in G-Space\n",
    "rng = np.random.default_rng(12345)\n",
    "arr_g[:] = rng.random(gspc.size_g) \\\n",
    "    + 1j * rng.random(gspc.size_g)\n",
    "\n",
    "# Conversion to real-space grid done with NumPy\n",
    "arr_r[:] = 0\n",
    "arr_r.put(gspc.idxgrid, arr_g)\n",
    "arr_r = np.fft.ifftn(arr_r.reshape(gspc.grid_shape))\n",
    "arr_r = arr_r.reshape((1, -1))\n",
    "\n",
    "# Running the gspc's FFT operations and comparing\n",
    "# with generated field pair\n",
    "out = gspc.create_buffer_r(1)\n",
    "gspc.g2r(arr_g, out)\n",
    "print(np.allclose(out, arr_r))\n",
    "\n",
    "out = gspc.create_buffer_g(1)\n",
    "gspc.r2g(arr_r, out)\n",
    "print(np.allclose(out, arr_g))"
   ]
  },
  {
   "cell_type": "code",
   "execution_count": 6,
   "id": "44819130-ec08-46a1-8ac1-17c9c1562dc6",
   "metadata": {},
   "outputs": [
    {
     "name": "stdout",
     "output_type": "stream",
     "text": [
      "True\n",
      "True\n",
      "True\n",
      "True\n",
      "True\n",
      "True\n",
      "[slice(0, 466, None), slice(466, 855, None), slice(855, 1178, None), slice(1178, 1435, None), slice(1435, 1804, None), slice(1804, 2243, None)]\n"
     ]
    }
   ],
   "source": [
    "from qtm.mpi.comm import QTMComm\n",
    "from qtm.mpi.gspace import DistGSpace\n",
    "from qtm.gspace.fft.utils import cryst2idxgrid\n",
    "\n",
    "# Creating a dummy comm to test\n",
    "# how the G-vectors are distributed\n",
    "# Actually testing FFT operations requires mpi4py\n",
    "class DummyComm(QTMComm):\n",
    "    \n",
    "    def __init__(self, size, rank):\n",
    "        self.size, self.rank = size, rank\n",
    "    \n",
    "    def Get_size(self):\n",
    "        return self.size\n",
    "    \n",
    "    def Get_rank(self):\n",
    "        return self.rank\n",
    "\n",
    "# Generating DistGSpaceBase instances for different ranks\n",
    "# and collecting its list of gspc G-vectors it owns.\n",
    "size = 6\n",
    "\n",
    "nx, ny, nz = gspc.grid_shape\n",
    "idxgrid = gspc.idxgrid\n",
    "ix, iy, iz = np.unravel_index(idxgrid, gspc.grid_shape, order='C')\n",
    "\n",
    "l_iglocal = []\n",
    "for rank in range(size):\n",
    "    comm = DummyComm(size, rank)\n",
    "    dist_gspc = DistGSpace(comm, gspc)\n",
    "    # print(dist_gspc.size_g)\n",
    "    l_iglocal.append(dist_gspc.ig_loc)\n",
    "    # print(dist_gspc._glob2dist_counts)\n",
    "print(l_iglocal)\n",
    "# igall = np.concatenate(l_iglocal)\n",
    "# print(np.all(igall[dist_gspc._gather2glob] \n",
    "#              == np.arange(gspc.size_g, dtype='i8')))"
   ]
  },
  {
   "cell_type": "code",
   "execution_count": null,
   "id": "0269c377-7022-4bf5-b445-3cb4f4b29a7f",
   "metadata": {},
   "outputs": [],
   "source": [
    "a = np.arange(24).reshape((2,3,4))\n",
    "print(a.transpose((1,2,0)).shape)"
   ]
  },
  {
   "cell_type": "code",
   "execution_count": 9,
   "id": "5a7234b8-5a0a-4836-ae0c-53eee906c2d1",
   "metadata": {},
   "outputs": [
    {
     "ename": "TypeError",
     "evalue": "'gkspc' must be a '<class 'qtm.gspace.gkspc.GkSpace'>' instance. got '<class 'qtm.gspace.gspc.GSpace'>'.",
     "output_type": "error",
     "traceback": [
      "\u001B[0;31m---------------------------------------------------------------------------\u001B[0m",
      "\u001B[0;31mTypeError\u001B[0m                                 Traceback (most recent call last)",
      "Cell \u001B[0;32mIn[9], line 6\u001B[0m\n\u001B[1;32m      4\u001B[0m \u001B[38;5;28;01mfor\u001B[39;00m rank \u001B[38;5;129;01min\u001B[39;00m \u001B[38;5;28mrange\u001B[39m(size):\n\u001B[1;32m      5\u001B[0m     comm \u001B[38;5;241m=\u001B[39m DummyComm(size, rank)\n\u001B[0;32m----> 6\u001B[0m     dist_gspc \u001B[38;5;241m=\u001B[39m \u001B[43mDistGkSpace\u001B[49m\u001B[43m(\u001B[49m\u001B[43mcomm\u001B[49m\u001B[43m,\u001B[49m\u001B[43m \u001B[49m\u001B[43mgspc\u001B[49m\u001B[43m)\u001B[49m\n\u001B[1;32m      7\u001B[0m     \u001B[38;5;66;03m# print(dist_gspc.size_g)\u001B[39;00m\n\u001B[1;32m      8\u001B[0m     l_iglocal\u001B[38;5;241m.\u001B[39mappend(dist_gspc\u001B[38;5;241m.\u001B[39mig_loc)\n",
      "File \u001B[0;32m~/QuantumMASALA/src/qtm/mpi/gspace.py:254\u001B[0m, in \u001B[0;36mDistGkSpace.__init__\u001B[0;34m(self, comm, gkspc)\u001B[0m\n\u001B[1;32m    252\u001B[0m \u001B[38;5;28;01mdef\u001B[39;00m \u001B[38;5;21m__init__\u001B[39m(\u001B[38;5;28mself\u001B[39m, comm: QTMComm, gkspc: GkSpace):\n\u001B[1;32m    253\u001B[0m     \u001B[38;5;28;01mif\u001B[39;00m \u001B[38;5;129;01mnot\u001B[39;00m \u001B[38;5;28misinstance\u001B[39m(gkspc, GkSpace):\n\u001B[0;32m--> 254\u001B[0m         \u001B[38;5;28;01mraise\u001B[39;00m \u001B[38;5;167;01mTypeError\u001B[39;00m(\u001B[38;5;124mf\u001B[39m\u001B[38;5;124m\"\u001B[39m\u001B[38;5;124m'\u001B[39m\u001B[38;5;124mgkspc\u001B[39m\u001B[38;5;124m'\u001B[39m\u001B[38;5;124m must be a \u001B[39m\u001B[38;5;124m'\u001B[39m\u001B[38;5;132;01m{\u001B[39;00mGkSpace\u001B[38;5;132;01m}\u001B[39;00m\u001B[38;5;124m'\u001B[39m\u001B[38;5;124m instance. \u001B[39m\u001B[38;5;124m\"\u001B[39m\n\u001B[1;32m    255\u001B[0m                         \u001B[38;5;124mf\u001B[39m\u001B[38;5;124m\"\u001B[39m\u001B[38;5;124mgot \u001B[39m\u001B[38;5;124m'\u001B[39m\u001B[38;5;132;01m{\u001B[39;00m\u001B[38;5;28mtype\u001B[39m(gkspc)\u001B[38;5;132;01m}\u001B[39;00m\u001B[38;5;124m'\u001B[39m\u001B[38;5;124m.\u001B[39m\u001B[38;5;124m\"\u001B[39m)\n\u001B[1;32m    256\u001B[0m     \u001B[38;5;28mself\u001B[39m\u001B[38;5;241m.\u001B[39mgkspc_glob \u001B[38;5;241m=\u001B[39m gkspc\n\u001B[1;32m    258\u001B[0m     DistGSpaceBase\u001B[38;5;241m.\u001B[39m\u001B[38;5;21m__init__\u001B[39m(\u001B[38;5;28mself\u001B[39m, comm, \u001B[38;5;28mself\u001B[39m\u001B[38;5;241m.\u001B[39mgkspc_glob)\n",
      "\u001B[0;31mTypeError\u001B[0m: 'gkspc' must be a '<class 'qtm.gspace.gkspc.GkSpace'>' instance. got '<class 'qtm.gspace.gspc.GSpace'>'."
     ]
    }
   ],
   "source": [
    "from qtm.mpi.gspace import DistGkSpace\n",
    "\n",
    "l_iglocal = []\n",
    "for rank in range(size):\n",
    "    comm = DummyComm(size, rank)\n",
    "    dist_gspc = DistGkSpace(comm, gspc)\n",
    "    # print(dist_gspc.size_g)\n",
    "    l_iglocal.append(dist_gspc.ig_loc)\n",
    "    \n",
    "igall = np.concatenate(l_iglocal)\n",
    "print(np.all(igall[dist_gspc._gather2glob] \n",
    "             == np.arange(gspc.size_g, dtype='i8')))"
   ]
  },
  {
   "cell_type": "code",
   "execution_count": null,
   "id": "f2fca2b1-faa8-4674-85e7-8971831488f2",
   "metadata": {},
   "outputs": [],
   "source": [
    "import ipyparallel as ipp\n",
    "print(ipp.version_info)\n",
    "\n",
    "nproc = 4\n",
    "cluster = ipp.Cluster(engines='mpi', n=nproc, shutdown_atexit=False)\n",
    "print(cluster)\n",
    "client = cluster.start_and_connect_sync(activate=True)\n",
    "view = client[:]\n",
    "client.ids"
   ]
  },
  {
   "cell_type": "code",
   "execution_count": null,
   "id": "d83cd3cd-b322-45a3-a169-cba61ad46c3c",
   "metadata": {},
   "outputs": [],
   "source": [
    "!ipcluster list"
   ]
  },
  {
   "cell_type": "code",
   "execution_count": null,
   "id": "3c69088a-a245-443b-aebd-71f3970d95cc",
   "metadata": {},
   "outputs": [],
   "source": [
    "%autopx --block --group-outputs=engines"
   ]
  },
  {
   "cell_type": "code",
   "execution_count": null,
   "id": "a83f65c0-a4eb-4ad5-9087-222cb6d00fbd",
   "metadata": {},
   "outputs": [],
   "source": []
  },
  {
   "cell_type": "code",
   "execution_count": 6,
   "id": "910324b8-56a6-4c7c-8fd6-a0fe25989549",
   "metadata": {},
   "outputs": [
    {
     "name": "stdout",
     "output_type": "stream",
     "text": [
      "[0 1 2] [0 0 0 0 0 1 1 1 1 2 2 2 2]\n",
      "[3 4 5] [3 3 4 4 5 5]\n",
      "[6 7] [6 6 6 6 7]\n"
     ]
    }
   ],
   "source": [
    "import numpy as np\n",
    "from qtm.mpi.utils import scatter_range\n",
    "\n",
    "nsplit = 3\n",
    "a = np.array([0,0,0,0,0,1,1,1,1,2,2,2,2,3,3,4,4,5,5,6,6,6,6,7])\n",
    "idx = np.unique(a)\n",
    "\n",
    "for isplit in range(nsplit):\n",
    "    iloc = scatter_range(len(idx), nsplit, isplit)\n",
    "    # print(idx[iloc])\n",
    "    istart = np.searchsorted(a, idx[iloc.start])\n",
    "    istop = np.searchsorted(a, idx[iloc.stop-1], 'right')\n",
    "    print(idx[iloc], a[istart:istop])"
   ]
  },
  {
   "cell_type": "code",
   "execution_count": null,
   "id": "bde2e712-f59c-4ccf-8c7d-0c36fb728593",
   "metadata": {},
   "outputs": [],
   "source": []
  }
 ],
 "metadata": {
  "kernelspec": {
   "display_name": "Python 3 (ipykernel)",
   "language": "python",
   "name": "python3"
  },
  "language_info": {
   "codemirror_mode": {
    "name": "ipython",
    "version": 3
   },
   "file_extension": ".py",
   "mimetype": "text/x-python",
   "name": "python",
   "nbconvert_exporter": "python",
   "pygments_lexer": "ipython3",
   "version": "3.11.4"
  }
 },
 "nbformat": 4,
 "nbformat_minor": 5
}
