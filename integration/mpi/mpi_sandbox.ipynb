{
 "cells": [
  {
   "cell_type": "code",
   "execution_count": 1,
   "id": "384d8172-56b8-4a59-be17-63364e604872",
   "metadata": {},
   "outputs": [],
   "source": [
    "%load_ext autoreload\n",
    "%load_ext line_profiler\n",
    "%autoreload 2"
   ]
  },
  {
   "cell_type": "code",
   "execution_count": 2,
   "id": "d777f04d-50cc-49b1-8cbd-188a7da6741a",
   "metadata": {},
   "outputs": [
    {
     "name": "stdout",
     "output_type": "stream",
     "text": [
      "(3, 4) (2, 4)\n",
      "[[0. 1. 2. 3.]\n",
      " [4. 5. 6. 7.]]\n",
      "(2, 3)\n"
     ]
    }
   ],
   "source": [
    "import numpy as np\n",
    "from mpi4py import MPI\n",
    "from mpi4py.MPI import COMM_WORLD, IN_PLACE\n",
    "\n",
    "from qtm.mpi.utils import scatter_len, scatter_range\n",
    "\n",
    "# size, rank = COMM_WORLD.Get_size(), COMM_WORLD.Get_rank()\n",
    "size, rank = 2, 0\n",
    "\n",
    "glob_shape = (3, 4)\n",
    "glob_arr = np.arange(np.prod(glob_shape), dtype='f8').reshape(glob_shape)\n",
    "dtype_np = glob_arr.dtype\n",
    "\n",
    "send_shape = list(glob_shape)\n",
    "send_shape[0] = scatter_len(send_shape[0], size, rank)\n",
    "send_shape = tuple(send_shape)\n",
    "print(glob_shape, send_shape)\n",
    "\n",
    "send_arr = np.empty(send_shape, dtype='f8')\n",
    "r = scatter_range(glob_shape[0], size, rank)\n",
    "glob_arr.take(r, axis=0, out=send_arr)\n",
    "print(send_arr)\n",
    "\n",
    "recv_shape = list(reversed(glob_shape))\n",
    "recv_shape[0] = scatter_len(recv_shape[0], size, rank)\n",
    "recv_arr = np.empty(recv_shape, dtype='f8')\n",
    "print(recv_arr.shape)\n",
    "\n",
    "\n",
    "subshape = list(send_shape)\n",
    "substarts = [0] * len(send_shape)\n",
    "dtype_mpi = MPI._typedict[dtype_np.char]\n",
    "send_dtypes = []\n",
    "for iproc in range(size):\n",
    "    sendlen = scatter_len(subshape[1], size, iproc)\n",
    "    subshape[1] = sendlen\n",
    "    send_dtypes.append(\n",
    "        dtype_mpi.Create_subarray(send_shape, subshape, substarts)\n",
    "    )\n",
    "    substarts[1] += sendlen\n",
    "    \n",
    "subshape = list(recv_shape)\n",
    "substarts = [0] * len(recv_shape)\n",
    "dtype_mpi = MPI._typedict[dtype_np.char]\n",
    "recv_dtypes = []\n",
    "for iproc in range(size):\n",
    "    recvlen = scatter_len(subshape[1], size, iproc)\n",
    "    subshape[1] = sendlen\n",
    "    recv_dtypes.append(\n",
    "        dtype_mpi.Create_subarray(recv_shape, subshape, substarts)\n",
    "    )\n",
    "    substarts[1] += recvlen\n",
    "\n",
    "\n",
    "# COMM_WORLD.Scatterv((sendbuf, sendcounts), recvbuf)\n",
    "# print(rank, recvbuf)\n",
    "\n",
    "# recvbuf[:] = -1\n",
    "\n",
    "# COMM_WORLD.Scatterv([sendbuf if rank == 0 else recvbuf, sendcounts], \n",
    "#                     IN_PLACE if rank == 0 else recvbuf\n",
    "#                    )\n",
    "# print(rank, recvbuf, sendbuf)"
   ]
  },
  {
   "cell_type": "code",
   "execution_count": 3,
   "id": "3dc152d9-f7cc-4370-8b07-4b40f4a6754c",
   "metadata": {},
   "outputs": [
    {
     "name": "stdout",
     "output_type": "stream",
     "text": [
      "(8, 6, 1)\n",
      "<Cluster(cluster_id='1690371257-gdg8', profile='default')>\n",
      "100%|███████████████████████████████████████████████████████████████████████████████████████████████████████████████████████████████████████████████████████████████████████████████████████████████████████████████████████████████████| 4/4 [00:05<00:00,  1.49s/engine]\n"
     ]
    },
    {
     "data": {
      "text/plain": [
       "[0, 1, 2, 3]"
      ]
     },
     "execution_count": 3,
     "metadata": {},
     "output_type": "execute_result"
    }
   ],
   "source": [
    "import ipyparallel as ipp\n",
    "print(ipp.version_info)\n",
    "\n",
    "nproc = 4\n",
    "cluster = ipp.Cluster(engines='mpi', n=nproc, shutdown_atexit=False)\n",
    "print(cluster)\n",
    "client = cluster.start_and_connect_sync(activate=True)\n",
    "view = client[:]\n",
    "client.ids"
   ]
  },
  {
   "cell_type": "code",
   "execution_count": 4,
   "id": "a8964058-f1a0-4d50-b2de-645a21fb7f0f",
   "metadata": {},
   "outputs": [
    {
     "name": "stdout",
     "output_type": "stream",
     "text": [
      "PROFILE          CLUSTER ID                       RUNNING ENGINES LAUNCHER\n",
      "default          1690370528-elmy                  True          0 MPI\n",
      "default          1690371257-gdg8                  True          4 MPI\n"
     ]
    }
   ],
   "source": [
    "!ipcluster list"
   ]
  },
  {
   "cell_type": "code",
   "execution_count": 5,
   "id": "9dc144f9-e1b3-4dd9-843f-4865890f5184",
   "metadata": {},
   "outputs": [
    {
     "name": "stdout",
     "output_type": "stream",
     "text": [
      "%autopx enabled\n"
     ]
    }
   ],
   "source": [
    "%autopx --block --group-outputs=engines"
   ]
  },
  {
   "cell_type": "code",
   "execution_count": 6,
   "id": "cc28886a-c9d0-46ee-af4a-e229b700fc71",
   "metadata": {},
   "outputs": [
    {
     "data": {
      "text/plain": [
       "[stdout:0] glob (7, 9)\n",
       "send (2, 9)\n",
       "recv [7, 3]\n",
       "[[ 0.  1.  2.]\n",
       " [ 9. 10. 11.]\n",
       " [18. 19. 20.]\n",
       " [27. 28. 29.]\n",
       " [36. 37. 38.]\n",
       " [45. 46. 47.]\n",
       " [54. 55. 56.]]\n",
       "--------------------\n"
      ]
     },
     "metadata": {},
     "output_type": "display_data"
    },
    {
     "data": {
      "text/plain": [
       "[stdout:2] glob (7, 9)\n",
       "send (2, 9)\n",
       "recv [7, 2]\n",
       "[[ 5.  6.]\n",
       " [14. 15.]\n",
       " [23. 24.]\n",
       " [32. 33.]\n",
       " [41. 42.]\n",
       " [50. 51.]\n",
       " [59. 60.]]\n",
       "--------------------\n"
      ]
     },
     "metadata": {},
     "output_type": "display_data"
    },
    {
     "data": {
      "text/plain": [
       "[stdout:3] glob (7, 9)\n",
       "send (1, 9)\n",
       "recv [7, 2]\n",
       "[[ 7.  8.]\n",
       " [16. 17.]\n",
       " [25. 26.]\n",
       " [34. 35.]\n",
       " [43. 44.]\n",
       " [52. 53.]\n",
       " [61. 62.]]\n",
       "--------------------\n"
      ]
     },
     "metadata": {},
     "output_type": "display_data"
    },
    {
     "data": {
      "text/plain": [
       "[stdout:1] glob (7, 9)\n",
       "send (2, 9)\n",
       "recv [7, 2]\n",
       "[[ 3.  4.]\n",
       " [12. 13.]\n",
       " [21. 22.]\n",
       " [30. 31.]\n",
       " [39. 40.]\n",
       " [48. 49.]\n",
       " [57. 58.]]\n",
       "--------------------\n"
      ]
     },
     "metadata": {},
     "output_type": "display_data"
    }
   ],
   "source": [
    "import numpy as np\n",
    "from mpi4py import MPI\n",
    "from mpi4py.MPI import COMM_WORLD, IN_PLACE\n",
    "\n",
    "from qtm.mpi.utils import scatter_len, scatter_range, gen_subarray_dtypes\n",
    "\n",
    "size, rank = COMM_WORLD.Get_size(), COMM_WORLD.Get_rank()\n",
    "\n",
    "glob_shape = (7, 9)\n",
    "glob_arr = np.arange(np.prod(glob_shape), dtype='c16').reshape(glob_shape)\n",
    "dtype_np = glob_arr.dtype\n",
    "\n",
    "send_shape = list(glob_shape)\n",
    "send_shape[0] = scatter_len(send_shape[0], size, rank)\n",
    "send_shape = tuple(send_shape)\n",
    "print('glob', glob_shape)\n",
    "print('send', send_shape)\n",
    "\n",
    "send_arr = np.empty(send_shape, dtype='c16')\n",
    "r = scatter_range(glob_shape[0], size, rank)\n",
    "glob_arr.take(r, axis=0, out=send_arr)\n",
    "#print(send_arr)\n",
    "\n",
    "recv_shape = list(glob_shape)\n",
    "recv_shape[1] = scatter_len(recv_shape[1], size, rank)\n",
    "recv_arr = np.empty(recv_shape, dtype='c16')\n",
    "print('recv', recv_shape)\n",
    "\n",
    "\n",
    "# subshape = list(send_shape)\n",
    "# substarts = [0] * len(send_shape)\n",
    "# dtype_mpi = MPI._typedict[dtype_np.char]\n",
    "# send_dtypes = []\n",
    "# for iproc in range(size):\n",
    "#     sendlen = scatter_len(send_shape[1], size, iproc)\n",
    "#     subshape[1] = sendlen\n",
    "#     # print('args', iproc, send_shape, subshape, substarts)\n",
    "#     send_dtypes.append(\n",
    "#         dtype_mpi.Create_subarray(send_shape, tuple(subshape), tuple(substarts)).Commit()\n",
    "#     )\n",
    "#     substarts[1] += sendlen\n",
    "send_dtypes = gen_subarray_dtypes(send_shape, 1, send_arr.dtype, size)\n",
    "# print(send_dtypes)\n",
    "\n",
    "# subshape = list(recv_shape)\n",
    "# substarts = [0] * len(recv_shape)\n",
    "# dtype_mpi = MPI._typedict[dtype_np.char]\n",
    "# recv_dtypes = []\n",
    "# for iproc in range(size):\n",
    "#     recvlen = scatter_len(recv_shape[1], size, iproc)\n",
    "#     subshape[1] = recvlen\n",
    "#     # print('args', iproc, recv_shape, subshape, substarts, recvlen)\n",
    "#     recv_dtypes.append(\n",
    "#         dtype_mpi.Create_subarray(recv_shape, tuple(subshape), tuple(substarts)).Commit()\n",
    "#     )\n",
    "#     substarts[1] += recvlen\n",
    "recv_dtypes = gen_subarray_dtypes(recv_shape, 0, recv_arr.dtype, size)\n",
    "# print(recv_dtypes)\n",
    "    \n",
    "COMM_WORLD.Alltoallw((send_arr, send_dtypes), (recv_arr, recv_dtypes))\n",
    "print(recv_arr.real)\n",
    "print('-'*20)"
   ]
  },
  {
   "cell_type": "code",
   "execution_count": 7,
   "id": "fafaf41e-a3cc-40ef-9b7d-23adfeb0175f",
   "metadata": {},
   "outputs": [
    {
     "data": {
      "text/plain": [
       "[stdout:3] [[54. 55. 56. 57. 58. 59. 60. 61. 62.]]\n",
       "--------------------\n"
      ]
     },
     "metadata": {},
     "output_type": "display_data"
    },
    {
     "data": {
      "text/plain": [
       "[stdout:1] [[18. 19. 20. 21. 22. 23. 24. 25. 26.]\n",
       " [27. 28. 29. 30. 31. 32. 33. 34. 35.]]\n",
       "--------------------\n"
      ]
     },
     "metadata": {},
     "output_type": "display_data"
    },
    {
     "data": {
      "text/plain": [
       "[stdout:0] [[ 0.  1.  2.  3.  4.  5.  6.  7.  8.]\n",
       " [ 9. 10. 11. 12. 13. 14. 15. 16. 17.]]\n",
       "--------------------\n"
      ]
     },
     "metadata": {},
     "output_type": "display_data"
    },
    {
     "data": {
      "text/plain": [
       "[stdout:2] [[36. 37. 38. 39. 40. 41. 42. 43. 44.]\n",
       " [45. 46. 47. 48. 49. 50. 51. 52. 53.]]\n",
       "--------------------\n"
      ]
     },
     "metadata": {},
     "output_type": "display_data"
    }
   ],
   "source": [
    "send_arr[:] = -1\n",
    "COMM_WORLD.Alltoallw((recv_arr, recv_dtypes), (send_arr, send_dtypes))\n",
    "print(send_arr.real)\n",
    "print('-'*20)"
   ]
  },
  {
   "cell_type": "code",
   "execution_count": 8,
   "id": "2c87366a-2219-48d6-a90c-0d47721a57c4",
   "metadata": {},
   "outputs": [
    {
     "data": {
      "text/plain": [
       "[stdout:1] 1 (7, 9) [7, 2]\n",
       "vec 7 2 1\n",
       "[[ 3.  4.]\n",
       " [12. 13.]\n",
       " [21. 22.]\n",
       " [30. 31.]\n",
       " [39. 40.]\n",
       " [48. 49.]\n",
       " [57. 58.]]\n"
      ]
     },
     "metadata": {},
     "output_type": "display_data"
    },
    {
     "data": {
      "text/plain": [
       "[stdout:3] 3 (7, 9) [7, 2]\n",
       "vec 7 2 1\n",
       "[[ 7.  8.]\n",
       " [16. 17.]\n",
       " [25. 26.]\n",
       " [34. 35.]\n",
       " [43. 44.]\n",
       " [52. 53.]\n",
       " [61. 62.]]\n"
      ]
     },
     "metadata": {},
     "output_type": "display_data"
    },
    {
     "data": {
      "text/plain": [
       "[stdout:0] 0 (7, 9) [7, 3]\n",
       "vec 7 9 1\n",
       "sendcounts [3 2 2 2]\n",
       "vec 7 3 1\n",
       "[[ 0.  1.  2.]\n",
       " [ 9. 10. 11.]\n",
       " [18. 19. 20.]\n",
       " [27. 28. 29.]\n",
       " [36. 37. 38.]\n",
       " [45. 46. 47.]\n",
       " [54. 55. 56.]]\n"
      ]
     },
     "metadata": {},
     "output_type": "display_data"
    },
    {
     "data": {
      "text/plain": [
       "[stdout:2] 2 (7, 9) [7, 2]\n",
       "vec 7 2 1\n",
       "[[ 5.  6.]\n",
       " [14. 15.]\n",
       " [23. 24.]\n",
       " [32. 33.]\n",
       " [41. 42.]\n",
       " [50. 51.]\n",
       " [59. 60.]]\n"
      ]
     },
     "metadata": {},
     "output_type": "display_data"
    }
   ],
   "source": [
    "from typing import Sequence\n",
    "\n",
    "def gen_vector_dtype(shape: Sequence[int], axis: int, dtype_np: np.dtype):\n",
    "    from mpi4py.MPI import _typedict\n",
    "    dtype_mpi = _typedict[dtype_np.char]\n",
    "\n",
    "    nblocks = np.prod(shape[:axis], dtype='i8')\n",
    "    stridelen = np.prod(shape[axis:], dtype='i8')\n",
    "    blocklen = stridelen // shape[axis]\n",
    "    print('vec', nblocks, stridelen, blocklen)\n",
    "    vectype = dtype_mpi.Create_vector(\n",
    "        nblocks, blocklen, stridelen\n",
    "    ).Commit()\n",
    "    vectype = vectype.Create_resized(0, dtype_mpi.size).Commit()\n",
    "    return vectype\n",
    "\n",
    "glob_shape, axis = (7, 9), 1\n",
    "\n",
    "glob_arr = np.arange(np.prod(glob_shape), dtype='c16').reshape(glob_shape)\n",
    "dtype_np = glob_arr.dtype\n",
    "\n",
    "loc_shape = list(glob_shape)\n",
    "loc_shape[axis] = scatter_len(glob_shape[axis], size, rank)\n",
    "loc_arr = np.ones(loc_shape, dtype='c16') * -1\n",
    "\n",
    "print(rank, glob_shape, loc_shape)\n",
    "sendbuf = None\n",
    "if rank == 0:\n",
    "    send_dtype = gen_vector_dtype(glob_shape, axis, dtype_np)\n",
    "    print('sendcounts', scatter_len(glob_shape[axis], size))\n",
    "    sendbuf = (glob_arr, scatter_len(glob_shape[axis], size), send_dtype)\n",
    "\n",
    "recv_dtype = gen_vector_dtype(loc_shape, axis, dtype_np)\n",
    "recvbuf = (loc_arr, recv_dtype)\n",
    "\n",
    "    \n",
    "COMM_WORLD.Scatterv(sendbuf, recvbuf)\n",
    "print(loc_arr.real)"
   ]
  },
  {
   "cell_type": "code",
   "execution_count": 13,
   "id": "6e470823-3661-4186-b0fb-25cd96ca7148",
   "metadata": {},
   "outputs": [
    {
     "data": {
      "text/plain": [
       "[stdout:0] (2, 2)\n",
       "True\n"
      ]
     },
     "metadata": {},
     "output_type": "display_data"
    },
    {
     "data": {
      "text/plain": [
       "[stdout:3] (2, 2)\n",
       "True\n"
      ]
     },
     "metadata": {},
     "output_type": "display_data"
    },
    {
     "data": {
      "text/plain": [
       "[stdout:1] (2, 2)\n",
       "True\n"
      ]
     },
     "metadata": {},
     "output_type": "display_data"
    },
    {
     "data": {
      "text/plain": [
       "[stdout:2] (2, 2)\n",
       "True\n"
      ]
     },
     "metadata": {},
     "output_type": "display_data"
    }
   ],
   "source": [
    "import numpy as np\n",
    "from mpi4py.MPI import Op\n",
    "\n",
    "a = np.arange(16, dtype='f8').reshape(4,2,2)\n",
    "\n",
    "out = np.multiply.reduce(a, axis=0)\n",
    "print(out.shape)\n",
    "\n",
    "a_loc = a[rank].copy()\n",
    "\n",
    "def sum_op(inp, out, dtype):\n",
    "    inp = np.frombuffer(inp, dtype='f8')\n",
    "    out = np.frombuffer(out, dtype='f8')\n",
    "    #print('inp', inp, 'out', out)\n",
    "    ufunc = np.multiply\n",
    "    ufunc(inp, out, out=out)\n",
    "    #print('red', out)\n",
    "    \n",
    "op = Op.Create(sum_op, True)\n",
    "\n",
    "COMM_WORLD.Allreduce(MPI.IN_PLACE, a_loc, op)\n",
    "print(np.allclose(a_loc, out))\n",
    "#print(out)\n",
    "#print(a_loc)"
   ]
  },
  {
   "cell_type": "code",
   "execution_count": null,
   "id": "342a3474-d900-4950-af11-7056b16139d2",
   "metadata": {},
   "outputs": [],
   "source": []
  },
  {
   "cell_type": "code",
   "execution_count": 14,
   "id": "d70302d7-bc69-47c0-8d80-d1b3b28aa720",
   "metadata": {},
   "outputs": [
    {
     "name": "stdout",
     "output_type": "stream",
     "text": [
      "%autopx disabled\n"
     ]
    }
   ],
   "source": [
    "%autopx --block --group-outputs=engines"
   ]
  },
  {
   "cell_type": "code",
   "execution_count": 15,
   "id": "a41061d3-4209-4318-a8c4-80efd6931513",
   "metadata": {},
   "outputs": [],
   "source": [
    "cluster.stop_cluster_sync()"
   ]
  },
  {
   "cell_type": "code",
   "execution_count": 16,
   "id": "441bf9a4-c2a7-47b9-8883-43ad37a29f16",
   "metadata": {},
   "outputs": [
    {
     "name": "stdout",
     "output_type": "stream",
     "text": [
      "PROFILE          CLUSTER ID                       RUNNING ENGINES LAUNCHER\n",
      "default          1690370528-elmy                  True          0 MPI\n"
     ]
    }
   ],
   "source": [
    "!ipcluster list"
   ]
  },
  {
   "cell_type": "code",
   "execution_count": 20,
   "id": "0e2b8020-1138-478f-96e9-5e82e91984d6",
   "metadata": {},
   "outputs": [
    {
     "name": "stdout",
     "output_type": "stream",
     "text": [
      "[[-24 -26]\n",
      " [-28 -30]]\n"
     ]
    }
   ],
   "source": [
    "import numpy as np\n",
    "\n",
    "a = np.arange(16).reshape(4,2,2)\n",
    "out = np.subtract.reduce(a, axis=0)\n",
    "print(out)"
   ]
  },
  {
   "cell_type": "code",
   "execution_count": 3,
   "id": "5d570fe9-723b-4b08-af6e-ceec7608b7af",
   "metadata": {},
   "outputs": [
    {
     "name": "stdout",
     "output_type": "stream",
     "text": [
      "? <mpi4py.MPI.Datatype object at 0x7fc4a873eac0>\n",
      "c <mpi4py.MPI.Datatype object at 0x7fc4a873e7f0>\n",
      "S <mpi4py.MPI.Datatype object at 0x7fc4a873e7f0>\n",
      "S1 <mpi4py.MPI.Datatype object at 0x7fc4a873e7f0>\n",
      "s <mpi4py.MPI.Datatype object at 0x7fc4a873e7f0>\n",
      "1s <mpi4py.MPI.Datatype object at 0x7fc4a873e7f0>\n",
      "b <mpi4py.MPI.Datatype object at 0x7fc4a873e850>\n",
      "h <mpi4py.MPI.Datatype object at 0x7fc4a873e880>\n",
      "i <mpi4py.MPI.Datatype object at 0x7fc4a873e8b0>\n",
      "l <mpi4py.MPI.Datatype object at 0x7fc4a873e8e0>\n",
      "q <mpi4py.MPI.Datatype object at 0x7fc4a873e910>\n",
      "B <mpi4py.MPI.Datatype object at 0x7fc4a873e940>\n",
      "H <mpi4py.MPI.Datatype object at 0x7fc4a873e970>\n",
      "I <mpi4py.MPI.Datatype object at 0x7fc4a873e9a0>\n",
      "L <mpi4py.MPI.Datatype object at 0x7fc4a873e9d0>\n",
      "Q <mpi4py.MPI.Datatype object at 0x7fc4a873ea00>\n",
      "f <mpi4py.MPI.Datatype object at 0x7fc4a873ea30>\n",
      "d <mpi4py.MPI.Datatype object at 0x7fc4a873ea60>\n",
      "g <mpi4py.MPI.Datatype object at 0x7fc4a873ea90>\n",
      "Zf <mpi4py.MPI.Datatype object at 0x7fc4a873eca0>\n",
      "Zd <mpi4py.MPI.Datatype object at 0x7fc4a873ecd0>\n",
      "F <mpi4py.MPI.Datatype object at 0x7fc4a873eca0>\n",
      "D <mpi4py.MPI.Datatype object at 0x7fc4a873ecd0>\n",
      "Zg <mpi4py.MPI.Datatype object at 0x7fc4a873ed00>\n",
      "G <mpi4py.MPI.Datatype object at 0x7fc4a873ed00>\n",
      "b1 <mpi4py.MPI.Datatype object at 0x7fc4a873eac0>\n",
      "i1 <mpi4py.MPI.Datatype object at 0x7fc4a873eaf0>\n",
      "u1 <mpi4py.MPI.Datatype object at 0x7fc4a873ebb0>\n",
      "i2 <mpi4py.MPI.Datatype object at 0x7fc4a873eb20>\n",
      "u2 <mpi4py.MPI.Datatype object at 0x7fc4a873ebe0>\n",
      "i4 <mpi4py.MPI.Datatype object at 0x7fc4a873eb50>\n",
      "u4 <mpi4py.MPI.Datatype object at 0x7fc4a873ec10>\n",
      "i8 <mpi4py.MPI.Datatype object at 0x7fc4a873eb80>\n",
      "u8 <mpi4py.MPI.Datatype object at 0x7fc4a873ec40>\n",
      "f4 <mpi4py.MPI.Datatype object at 0x7fc4a873ea30>\n",
      "c8 <mpi4py.MPI.Datatype object at 0x7fc4a873eca0>\n",
      "f8 <mpi4py.MPI.Datatype object at 0x7fc4a873ea60>\n",
      "c16 <mpi4py.MPI.Datatype object at 0x7fc4a873ecd0>\n",
      "f16 <mpi4py.MPI.Datatype object at 0x7fc4a873ea90>\n",
      "c32 <mpi4py.MPI.Datatype object at 0x7fc4a873ed00>\n",
      "n <mpi4py.MPI.Datatype object at 0x7fc4a873e7c0>\n",
      "N <mpi4py.MPI.Datatype object at 0x7fc4a873e9d0>\n",
      "p <mpi4py.MPI.Datatype object at 0x7fc4a873e760>\n",
      "P <mpi4py.MPI.Datatype object at 0x7fc4a873e9d0>\n",
      "U <mpi4py.MPI.Datatype object at 0x7fc4a873e820>\n",
      "U1 <mpi4py.MPI.Datatype object at 0x7fc4a873e820>\n",
      "u <mpi4py.MPI.Datatype object at 0x7fc4a873ebe0>\n",
      "1u <mpi4py.MPI.Datatype object at 0x7fc4a873ebe0>\n",
      "w <mpi4py.MPI.Datatype object at 0x7fc4a873e820>\n",
      "1w <mpi4py.MPI.Datatype object at 0x7fc4a873e820>\n"
     ]
    }
   ],
   "source": [
    "from mpi4py import MPI\n",
    "\n",
    "for key in MPI._typedict:\n",
    "    print(key, MPI._typedict[key])"
   ]
  },
  {
   "cell_type": "code",
   "execution_count": null,
   "id": "54294f62-5471-4e71-ba72-900d4eae8186",
   "metadata": {},
   "outputs": [],
   "source": []
  }
 ],
 "metadata": {
  "kernelspec": {
   "display_name": "Python 3 (ipykernel)",
   "language": "python",
   "name": "python3"
  },
  "language_info": {
   "codemirror_mode": {
    "name": "ipython",
    "version": 3
   },
   "file_extension": ".py",
   "mimetype": "text/x-python",
   "name": "python",
   "nbconvert_exporter": "python",
   "pygments_lexer": "ipython3",
   "version": "3.11.4"
  }
 },
 "nbformat": 4,
 "nbformat_minor": 5
}
