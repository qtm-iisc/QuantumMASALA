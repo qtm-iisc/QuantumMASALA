{
 "cells": [
  {
   "cell_type": "code",
   "execution_count": 1,
   "id": "1c0c812f-2c86-46f8-9a80-8e3495fe3c66",
   "metadata": {},
   "outputs": [],
   "source": [
    "%load_ext autoreload\n",
    "%autoreload 2\n",
    "\n",
    "import sys\n",
    "\n",
    "linewidth = 100\n",
    "formatter = {\n",
    "    'float': lambda num: f'{num:5.1f}',\n",
    "    'int': lambda num: f'{float(num):5.1f}',\n",
    "}\n",
    "print_args = {\n",
    "#     'threshold': sys.maxsize,\n",
    "    'threshold': 100,\n",
    "    'linewidth': 200,\n",
    "    'formatter': formatter,\n",
    "    'edgeitems': 10,\n",
    "}\n"
   ]
  },
  {
   "cell_type": "code",
   "execution_count": 2,
   "id": "67b9805e-2ca6-47e7-8b6a-849f96443b2a",
   "metadata": {},
   "outputs": [
    {
     "name": "stdout",
     "output_type": "stream",
     "text": [
      "20.0\n"
     ]
    }
   ],
   "source": [
    "import numpy as np\n",
    "from qtmpy.constants import RYDBERG\n",
    "\n",
    "alat = 5.107\n",
    "latvec_alat = 0.5 * np.array([\n",
    "    [ 1,  1,  1],\n",
    "    [-1,  1,  1],\n",
    "    [-1, -1,  1]\n",
    "])\n",
    "\n",
    "ecutwfn = 40 * RYDBERG\n",
    "print(ecutwfn)"
   ]
  },
  {
   "cell_type": "code",
   "execution_count": 3,
   "id": "b7b5b31b-c5ee-46e6-b511-fd1713082fe4",
   "metadata": {},
   "outputs": [],
   "source": [
    "from qtmpy import qtmconfig\n",
    "qtmconfig.fft_backend = 'pyfftw'"
   ]
  },
  {
   "cell_type": "code",
   "execution_count": 4,
   "id": "c877c8b0-3ecf-4786-97f7-0e12eac09267",
   "metadata": {},
   "outputs": [
    {
     "name": "stdout",
     "output_type": "stream",
     "text": [
      "([0.5, 0.5, 0.5], [-0.5, 0.5, 0.5], [-0.5, -0.5, 0.5])\n",
      "1.2303084603837058\n",
      "([1.0, 1.1102230246251565e-16, 1.0], [-1.0000000000000002, 1.0000000000000002, 8.695696296261264e-17], [0.0, -1.0, 1.0])\n"
     ]
    }
   ],
   "source": [
    "from qtmpy.lattice import RealLattice, ReciLattice\n",
    "\n",
    "reallat = RealLattice.from_alat(alat, *latvec_alat)\n",
    "recilat = ReciLattice.from_reallat(reallat)\n",
    "\n",
    "print(reallat.axes_alat)\n",
    "print(recilat.tpiba)\n",
    "print(recilat.axes_tpiba)"
   ]
  },
  {
   "cell_type": "code",
   "execution_count": 5,
   "id": "9ae2d402-3c72-4743-bf2c-64bc89427f1d",
   "metadata": {},
   "outputs": [
    {
     "name": "stdout",
     "output_type": "stream",
     "text": [
      "(18, 18, 18)\n",
      "2243\n",
      "G_1:  [  0.0   0.0   0.0   0.0   0.0   0.0   0.0   0.0   0.0   0.0 ...  -1.0  -1.0  -1.0  -1.0  -1.0  -1.0  -1.0  -1.0  -1.0  -1.0]\n",
      "G_2:  [  0.0   0.0   0.0   0.0   0.0   0.0   0.0   0.0   0.0   0.0 ...  -1.0  -1.0  -1.0  -1.0  -1.0  -1.0  -1.0  -1.0  -1.0  -1.0]\n",
      "G_3:  [  0.0   1.0   2.0   3.0   4.0   5.0   6.0   7.0  -7.0  -6.0 ...   5.0   6.0   7.0  -7.0  -6.0  -5.0  -4.0  -3.0  -2.0  -1.0]\n",
      "G^2:  [  0.0   3.0  12.1  27.2  48.4  75.7 109.0 148.3 148.3 109.0 ...  78.7 112.0 151.4 151.4 112.0  78.7  51.5  30.3  15.1   6.1]\n"
     ]
    }
   ],
   "source": [
    "from qtmpy.gspace.gspc import GSpace\n",
    "\n",
    "gspc = GSpace(recilat, 4 * ecutwfn)\n",
    "print(gspc.grid_shape)\n",
    "print(gspc.size_g)\n",
    "with np.printoptions(**print_args):\n",
    "    for i in range(3):\n",
    "        print(f'G_{i+1}: ', gspc.g_cryst[i])\n",
    "    print(f'G^2: ', gspc.g_norm2)"
   ]
  },
  {
   "cell_type": "code",
   "execution_count": 6,
   "id": "959f84b1-b98b-4e7c-8a97-df9d307cfaf2",
   "metadata": {},
   "outputs": [
    {
     "name": "stdout",
     "output_type": "stream",
     "text": [
      "empty\n",
      "type: <class 'qtmpy.containers.field.FieldG'>\n",
      "basis: 'g', shape: (4, 10)\n",
      "\n",
      "rfield\n",
      "type: <class 'qtmpy.containers.field.FieldR'>\n",
      "basis: 'r', shape: (4, 10)\n",
      "\n",
      "indexing\n",
      "type: <class 'qtmpy.containers.field.FieldR'>\n",
      "basis: 'r', shape: (10,)\n",
      "\n",
      "slicing\n",
      "type: <class 'qtmpy.containers.field.FieldR'>\n",
      "basis: 'r', shape: (4, 5)\n",
      "\n",
      "unpacking\n",
      "type: <class 'qtmpy.containers.field.FieldR'>\n",
      "basis: 'r', shape: ()\n",
      "\n",
      "type: <class 'qtmpy.containers.field.FieldR'>\n",
      "basis: 'r', shape: ()\n",
      "\n",
      "add\n",
      "type: <class 'qtmpy.containers.field.FieldR'>\n",
      "basis: 'r', shape: ()\n",
      "\n",
      "add bcast\n",
      "type: <class 'qtmpy.containers.field.FieldR'>\n",
      "basis: 'r', shape: (2, 3)\n",
      "\n",
      "mismatch\n",
      "mismatch in 'basis_type' between two 'Buffer' instances.\n"
     ]
    }
   ],
   "source": [
    "from qtmpy.containers import FieldG, FieldR\n",
    "\n",
    "def print_info(f):\n",
    "    typ = type(f)\n",
    "    basis = getattr(f, 'basis_type', 'N\\A')\n",
    "    shape = getattr(f, 'shape', 'N\\A')\n",
    "    print(f\"type: {str(type(f)):35}\\nbasis: '{basis}', shape: {shape}\\n\")\n",
    "\n",
    "# Creating a empty GField instance\n",
    "print('empty')\n",
    "a_g = FieldG.empty(gspc, (4, 10))\n",
    "print_info(a_g)\n",
    "\n",
    "# Converting to RField instance\n",
    "print('rfield')\n",
    "a_r = a_g.to_fieldr()\n",
    "print_info(a_r)\n",
    "\n",
    "# Indexing\n",
    "print('indexing')\n",
    "arr_idx = a_r[2]\n",
    "print_info(arr_idx)\n",
    "\n",
    "# Slicing\n",
    "print('slicing')\n",
    "arr_sl = a_r[:, :5]\n",
    "print_info(arr_sl)\n",
    "\n",
    "# Unpacking\n",
    "print('unpacking')\n",
    "x, y = a_r[0, :2]\n",
    "print_info(x)\n",
    "print_info(y)\n",
    "\n",
    "# Binary operations\n",
    "print('add')\n",
    "z = x + y\n",
    "print_info(z)\n",
    "\n",
    "# Binary operations with broadcasting\n",
    "print('add bcast')\n",
    "z = x + a_r[:2,:3]\n",
    "print_info(z)\n",
    "\n",
    "# Operations between mismatched basis; raises exception\n",
    "print('mismatch')\n",
    "try:\n",
    "    z = x + x.to_fieldg()\n",
    "except TypeError as e:\n",
    "    print(e)\n",
    "## TypeError: mismatch in 'basis_type' between two Field instances"
   ]
  },
  {
   "cell_type": "code",
   "execution_count": 7,
   "id": "d94e2ca4-d919-4312-9a66-631e0ab5942e",
   "metadata": {},
   "outputs": [
    {
     "name": "stdout",
     "output_type": "stream",
     "text": [
      "type: <class 'qtmpy.containers.field.FieldG'>\n",
      "basis: 'g', shape: (4, 10)\n",
      "\n",
      "type: <class 'qtmpy.containers.field.FieldG'>\n",
      "basis: 'g', shape: (10,)\n",
      "\n",
      "True\n",
      "type: <class 'qtmpy.containers.field.FieldG'>\n",
      "basis: 'g', shape: ()\n",
      "\n",
      "True\n"
     ]
    }
   ],
   "source": [
    "a_g = FieldG.empty(gspc, (4, 10))\n",
    "print_info(a_g)\n",
    "a_g.g[:] = np.random.rand(*a_g.data.shape)\n",
    "\n",
    "s = sum(a_g)\n",
    "print_info(s)\n",
    "print(np.allclose(s.data, np.sum(a_g.data, axis=0)))\n",
    "\n",
    "s = sum(sum(a_g))\n",
    "print_info(s)\n",
    "print(np.allclose(s.data, np.sum(a_g.data, axis=(0, 1))))"
   ]
  },
  {
   "cell_type": "code",
   "execution_count": 8,
   "id": "bcedfcad-2918-481e-9a53-cecad018027d",
   "metadata": {},
   "outputs": [
    {
     "name": "stdout",
     "output_type": "stream",
     "text": [
      "[ 0.00000000e+00  2.22044605e-16 -1.23030846e+00 ...  7.38185076e+00\n",
      "  2.46061692e+00  2.46061692e+00]\n",
      "True\n",
      "True\n",
      "True\n",
      "True\n",
      "<class 'qtmpy.containers.field.FieldG'>\n",
      "True\n"
     ]
    }
   ],
   "source": [
    "from qtmpy.pot.hartree import hartree\n",
    "\n",
    "print(gspc.g_cart[0, gspc.idxsort])\n",
    "dat = np.load('hart.npz')\n",
    "\n",
    "# print('new')\n",
    "# with np.printoptions(**print_args):\n",
    "#     for i in range(3):\n",
    "#         print(f'G_{i+1}: ', gspc.g_cryst[i][gspc.idxsort])\n",
    "#     print(f'G^2: ', gspc.g_norm2[gspc.idxsort])\n",
    "# print('-'*10)\n",
    "\n",
    "\n",
    "g_cryst = dat['g_cryst']\n",
    "g_cart = dat['g_cart']\n",
    "g_norm2 = dat['g_norm2']\n",
    "# print('reference')\n",
    "# with np.printoptions(**print_args):\n",
    "#     for i in range(3):\n",
    "#         print(f'G_{i+1}: ', g_cryst[i])\n",
    "#     print(f'G^2: ', g_norm2)    \n",
    "\n",
    "print(np.allclose(g_cryst, gspc.g_cryst[:, gspc.idxsort]))\n",
    "print(np.allclose(g_cart, gspc.g_cart[:, gspc.idxsort]))\n",
    "print(np.allclose(g_norm2, gspc.g_norm2[gspc.idxsort]))\n",
    "\n",
    "rho_g = FieldG.empty(gspc, 2)\n",
    "rho_g.g[gspc.idxsort] = dat['rho_g']\n",
    "print(np.allclose(dat['rho_g'], rho_g.data[:, gspc.idxsort]))\n",
    "\n",
    "vhart_r = hartree(rho_g)\n",
    "vhart_g = vhart_r.to_fieldg()\n",
    "print(np.allclose(dat['v_g'], vhart_g.g[gspc.idxsort]))"
   ]
  },
  {
   "cell_type": "code",
   "execution_count": 11,
   "id": "dbb7d2e0-c974-4fa5-b735-8e0acdbe7414",
   "metadata": {},
   "outputs": [
    {
     "ename": "ImportError",
     "evalue": "cannot import name 'GWavefun' from 'qtmpy.containers' (/home/lightpeak008/qtmpy/src/qtmpy/containers/__init__.py)",
     "output_type": "error",
     "traceback": [
      "\u001B[0;31m---------------------------------------------------------------------------\u001B[0m",
      "\u001B[0;31mImportError\u001B[0m                               Traceback (most recent call last)",
      "Cell \u001B[0;32mIn[11], line 2\u001B[0m\n\u001B[1;32m      1\u001B[0m \u001B[38;5;28;01mfrom\u001B[39;00m \u001B[38;5;21;01mqtmpy\u001B[39;00m\u001B[38;5;21;01m.\u001B[39;00m\u001B[38;5;21;01mgspace\u001B[39;00m \u001B[38;5;28;01mimport\u001B[39;00m GkSpace\n\u001B[0;32m----> 2\u001B[0m \u001B[38;5;28;01mfrom\u001B[39;00m \u001B[38;5;21;01mqtmpy\u001B[39;00m\u001B[38;5;21;01m.\u001B[39;00m\u001B[38;5;21;01mcontainers\u001B[39;00m \u001B[38;5;28;01mimport\u001B[39;00m GWavefun\n\u001B[1;32m      4\u001B[0m nbnd \u001B[38;5;241m=\u001B[39m \u001B[38;5;241m10\u001B[39m\n\u001B[1;32m      6\u001B[0m gkspc \u001B[38;5;241m=\u001B[39m GkSpace(gspc, [\u001B[38;5;241m0.\u001B[39m, \u001B[38;5;241m0.\u001B[39m, \u001B[38;5;241m0.\u001B[39m])\n",
      "\u001B[0;31mImportError\u001B[0m: cannot import name 'GWavefun' from 'qtmpy.containers' (/home/lightpeak008/qtmpy/src/qtmpy/containers/__init__.py)"
     ]
    }
   ],
   "source": [
    "from qtmpy.gspace import GkSpace\n",
    "from qtmpy.containers import GWavefun\n",
    "\n",
    "nbnd = 10\n",
    "\n",
    "gkspc = GkSpace(gspc, [0., 0., 0.])\n",
    "wfn = GWavefun.empty(gkspc, nbnd)"
   ]
  },
  {
   "cell_type": "code",
   "execution_count": null,
   "id": "a0afb750-282f-4659-b0e8-2b352001edb3",
   "metadata": {},
   "outputs": [],
   "source": [
    "import numpy as np\n",
    "import pyfftw\n",
    "\n",
    "a = np.empty(1000, dtype='c16')\n",
    "\n",
    "print(pyfftw.simd_alignment)\n",
    "print(pyfftw.is_byte_aligned(a))\n",
    "print(np.dtype('c16').alignment)\n",
    "print(np.dtype('f16').alignment)"
   ]
  },
  {
   "cell_type": "code",
   "execution_count": null,
   "id": "c6cfefd2-41a6-4ec8-a69f-d0a7e4489134",
   "metadata": {},
   "outputs": [],
   "source": []
  },
  {
   "cell_type": "code",
   "execution_count": null,
   "id": "a9c9c392-1f00-402c-871c-9732b234c670",
   "metadata": {},
   "outputs": [],
   "source": []
  }
 ],
 "metadata": {
  "kernelspec": {
   "display_name": "Python 3 (ipykernel)",
   "language": "python",
   "name": "python3"
  },
  "language_info": {
   "codemirror_mode": {
    "name": "ipython",
    "version": 3
   },
   "file_extension": ".py",
   "mimetype": "text/x-python",
   "name": "python",
   "nbconvert_exporter": "python",
   "pygments_lexer": "ipython3",
   "version": "3.11.0"
  }
 },
 "nbformat": 4,
 "nbformat_minor": 5
}
