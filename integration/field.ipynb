{
 "cells": [
  {
   "cell_type": "code",
   "execution_count": 1,
   "id": "1c0c812f-2c86-46f8-9a80-8e3495fe3c66",
   "metadata": {},
   "outputs": [],
   "source": [
    "%load_ext autoreload\n",
    "%autoreload 2\n",
    "\n",
    "import sys\n",
    "\n",
    "linewidth = 100\n",
    "formatter = {\n",
    "    'float': lambda num: f'{num:5.1f}',\n",
    "    'int': lambda num: f'{float(num):5.1f}',\n",
    "}\n",
    "print_args = {\n",
    "#     'threshold': sys.maxsize,\n",
    "    'threshold': 100,\n",
    "    'linewidth': 200,\n",
    "    'formatter': formatter,\n",
    "    'edgeitems': 10,\n",
    "}\n"
   ]
  },
  {
   "cell_type": "code",
   "execution_count": 2,
   "id": "67b9805e-2ca6-47e7-8b6a-849f96443b2a",
   "metadata": {},
   "outputs": [
    {
     "name": "stdout",
     "output_type": "stream",
     "text": [
      "20.0\n"
     ]
    }
   ],
   "source": [
    "import numpy as np\n",
    "from qtm.constants import RYDBERG\n",
    "\n",
    "alat = 5.107\n",
    "latvec_alat = 0.5 * np.array([\n",
    "    [ 1,  1,  1],\n",
    "    [-1,  1,  1],\n",
    "    [-1, -1,  1]\n",
    "])\n",
    "\n",
    "ecutwfn = 40 * RYDBERG\n",
    "print(ecutwfn)"
   ]
  },
  {
   "cell_type": "code",
   "execution_count": 3,
   "id": "b7b5b31b-c5ee-46e6-b511-fd1713082fe4",
   "metadata": {},
   "outputs": [],
   "source": [
    "from qtm import qtmconfig\n",
    "qtmconfig.fft_backend = 'pyfftw'"
   ]
  },
  {
   "cell_type": "code",
   "execution_count": 4,
   "id": "c877c8b0-3ecf-4786-97f7-0e12eac09267",
   "metadata": {},
   "outputs": [
    {
     "name": "stdout",
     "output_type": "stream",
     "text": [
      "([0.5, 0.5, 0.5], [-0.5, 0.5, 0.5], [-0.5, -0.5, 0.5])\n",
      "1.2303084603837058\n",
      "([1.0, 1.1102230246251565e-16, 1.0], [-1.0000000000000002, 1.0000000000000002, 8.695696296261264e-17], [0.0, -1.0, 1.0])\n"
     ]
    }
   ],
   "source": [
    "from qtm.lattice import RealLattice, ReciLattice\n",
    "\n",
    "reallat = RealLattice.from_alat(alat, *latvec_alat)\n",
    "recilat = ReciLattice.from_reallat(reallat)\n",
    "\n",
    "print(reallat.axes_alat)\n",
    "print(recilat.tpiba)\n",
    "print(recilat.axes_tpiba)"
   ]
  },
  {
   "cell_type": "code",
   "execution_count": 5,
   "id": "9ae2d402-3c72-4743-bf2c-64bc89427f1d",
   "metadata": {},
   "outputs": [
    {
     "name": "stdout",
     "output_type": "stream",
     "text": [
      "(18, 18, 18)\n",
      "2243\n",
      "G_1:  [  0.0   0.0   0.0   0.0   0.0   0.0   0.0   0.0   0.0   0.0 ...  -1.0  -1.0  -1.0  -1.0  -1.0  -1.0  -1.0  -1.0  -1.0  -1.0]\n",
      "G_2:  [  0.0   0.0   0.0   0.0   0.0   0.0   0.0   0.0   0.0   0.0 ...  -1.0  -1.0  -1.0  -1.0  -1.0  -1.0  -1.0  -1.0  -1.0  -1.0]\n",
      "G_3:  [  0.0   1.0   2.0   3.0   4.0   5.0   6.0   7.0  -7.0  -6.0 ...   5.0   6.0   7.0  -7.0  -6.0  -5.0  -4.0  -3.0  -2.0  -1.0]\n",
      "G^2:  [  0.0   3.0  12.1  27.2  48.4  75.7 109.0 148.3 148.3 109.0 ...  78.7 112.0 151.4 151.4 112.0  78.7  51.5  30.3  15.1   6.1]\n"
     ]
    }
   ],
   "source": [
    "from qtm.gspace.gspc import GSpace\n",
    "\n",
    "gspc = GSpace(recilat, 4 * ecutwfn)\n",
    "print(gspc.grid_shape)\n",
    "print(gspc.size_g)\n",
    "with np.printoptions(**print_args):\n",
    "    for i in range(3):\n",
    "        print(f'G_{i+1}: ', gspc.g_cryst[i])\n",
    "    print(f'G^2: ', gspc.g_norm2)"
   ]
  },
  {
   "cell_type": "code",
   "execution_count": 6,
   "id": "959f84b1-b98b-4e7c-8a97-df9d307cfaf2",
   "metadata": {},
   "outputs": [
    {
     "name": "stdout",
     "output_type": "stream",
     "text": [
      "empty\n",
      "type: <class 'qtm.containers.field.FieldG'>\n",
      "basis: 'g', shape: (4, 10)\n",
      "\n",
      "rfield\n",
      "type: <class 'qtm.containers.field.FieldR'>\n",
      "basis: 'r', shape: (4, 10)\n",
      "\n",
      "indexing\n",
      "type: <class 'qtm.containers.field.FieldR'>\n",
      "basis: 'r', shape: (10,)\n",
      "\n",
      "slicing\n",
      "type: <class 'qtm.containers.field.FieldR'>\n",
      "basis: 'r', shape: (4, 5)\n",
      "\n",
      "unpacking\n",
      "type: <class 'qtm.containers.field.FieldR'>\n",
      "basis: 'r', shape: ()\n",
      "\n",
      "type: <class 'qtm.containers.field.FieldR'>\n",
      "basis: 'r', shape: ()\n",
      "\n",
      "add\n",
      "type: <class 'qtm.containers.field.FieldR'>\n",
      "basis: 'r', shape: ()\n",
      "\n",
      "add bcast\n",
      "type: <class 'qtm.containers.field.FieldR'>\n",
      "basis: 'r', shape: (2, 3)\n",
      "\n",
      "mismatch\n"
     ]
    },
    {
     "ename": "AttributeError",
     "evalue": "'FieldR' object has no attribute 'to_fieldg'",
     "output_type": "error",
     "traceback": [
      "\u001B[0;31m---------------------------------------------------------------------------\u001B[0m",
      "\u001B[0;31mAttributeError\u001B[0m                            Traceback (most recent call last)",
      "Cell \u001B[0;32mIn[6], line 48\u001B[0m\n\u001B[1;32m     46\u001B[0m \u001B[38;5;28mprint\u001B[39m(\u001B[38;5;124m'\u001B[39m\u001B[38;5;124mmismatch\u001B[39m\u001B[38;5;124m'\u001B[39m)\n\u001B[1;32m     47\u001B[0m \u001B[38;5;28;01mtry\u001B[39;00m:\n\u001B[0;32m---> 48\u001B[0m     z \u001B[38;5;241m=\u001B[39m x \u001B[38;5;241m+\u001B[39m \u001B[43mx\u001B[49m\u001B[38;5;241;43m.\u001B[39;49m\u001B[43mto_fieldg\u001B[49m()\n\u001B[1;32m     49\u001B[0m \u001B[38;5;28;01mexcept\u001B[39;00m \u001B[38;5;167;01mTypeError\u001B[39;00m \u001B[38;5;28;01mas\u001B[39;00m e:\n\u001B[1;32m     50\u001B[0m     \u001B[38;5;28mprint\u001B[39m(e)\n",
      "\u001B[0;31mAttributeError\u001B[0m: 'FieldR' object has no attribute 'to_fieldg'"
     ]
    }
   ],
   "source": [
    "from qtm.containers import FieldG, FieldR\n",
    "\n",
    "def print_info(f):\n",
    "    typ = type(f)\n",
    "    basis = getattr(f, 'basis_type', 'N\\A')\n",
    "    shape = getattr(f, 'shape', 'N\\A')\n",
    "    print(f\"type: {str(type(f)):35}\\nbasis: '{basis}', shape: {shape}\\n\")\n",
    "\n",
    "# Creating a empty GField instance\n",
    "print('empty')\n",
    "a_g = FieldG.empty(gspc, (4, 10))\n",
    "print_info(a_g)\n",
    "\n",
    "# Converting to RField instance\n",
    "print('rfield')\n",
    "a_r = a_g.to_r()\n",
    "print_info(a_r)\n",
    "\n",
    "# Indexing\n",
    "print('indexing')\n",
    "arr_idx = a_r[2]\n",
    "print_info(arr_idx)\n",
    "\n",
    "# Slicing\n",
    "print('slicing')\n",
    "arr_sl = a_r[:, :5]\n",
    "print_info(arr_sl)\n",
    "\n",
    "# Unpacking\n",
    "print('unpacking')\n",
    "x, y = a_r[0, :2]\n",
    "print_info(x)\n",
    "print_info(y)\n",
    "\n",
    "# Binary operations\n",
    "print('add')\n",
    "z = x + y\n",
    "print_info(z)\n",
    "\n",
    "# Binary operations with broadcasting\n",
    "print('add bcast')\n",
    "z = x + a_r[:2,:3]\n",
    "print_info(z)\n",
    "\n",
    "# Operations between mismatched basis; raises exception\n",
    "print('mismatch')\n",
    "try:\n",
    "    z = x + x.to_fieldg()\n",
    "except TypeError as e:\n",
    "    print(e)\n",
    "## TypeError: mismatch in 'basis_type' between two Field instances"
   ]
  },
  {
   "cell_type": "code",
   "execution_count": null,
   "id": "5a3ad3f6-5a98-4d41-aee4-b0a418d5ec36",
   "metadata": {},
   "outputs": [],
   "source": []
  },
  {
   "cell_type": "code",
   "execution_count": 7,
   "id": "d94e2ca4-d919-4312-9a66-631e0ab5942e",
   "metadata": {},
   "outputs": [
    {
     "name": "stdout",
     "output_type": "stream",
     "text": [
      "type: <class 'qtm.containers.field.FieldG'>\n",
      "basis: 'g', shape: (4, 10)\n",
      "\n",
      "type: <class 'qtm.containers.field.FieldG'>\n",
      "basis: 'g', shape: (10,)\n",
      "\n",
      "True\n",
      "type: <class 'qtm.containers.field.FieldG'>\n",
      "basis: 'g', shape: ()\n",
      "\n",
      "True\n"
     ]
    },
    {
     "data": {
      "text/plain": [
       "<qtm.containers.field.FieldG at 0x7f4f8b06c3d0>"
      ]
     },
     "execution_count": 7,
     "metadata": {},
     "output_type": "execute_result"
    }
   ],
   "source": [
    "a_g = FieldG.empty(gspc, (4, 10))\n",
    "print_info(a_g)\n",
    "a_g.g[:] = np.random.rand(*a_g.data.shape)\n",
    "\n",
    "s = sum(a_g)\n",
    "print_info(s)\n",
    "print(np.allclose(s.data, np.sum(a_g.data, axis=0)))\n",
    "\n",
    "s = sum(sum(a_g))\n",
    "print_info(s)\n",
    "print(np.allclose(s.data, np.sum(a_g.data, axis=(0, 1))))\n",
    "\n",
    "a_g.conj()"
   ]
  },
  {
   "cell_type": "code",
   "execution_count": 9,
   "id": "3b511862-2409-40f8-a6ed-66e92da28103",
   "metadata": {},
   "outputs": [
    {
     "data": {
      "text/plain": [
       "(10,)"
      ]
     },
     "execution_count": 9,
     "metadata": {},
     "output_type": "execute_result"
    }
   ],
   "source": [
    "np.sum(a_g, axis=0).shape"
   ]
  },
  {
   "cell_type": "code",
   "execution_count": null,
   "id": "bcedfcad-2918-481e-9a53-cecad018027d",
   "metadata": {},
   "outputs": [],
   "source": [
    "from qtmpy.pot.hartree import hartree\n",
    "\n",
    "print(gspc.g_cart[0, gspc.idxsort])\n",
    "dat = np.load('hart.npz')\n",
    "\n",
    "# print('new')\n",
    "# with np.printoptions(**print_args):\n",
    "#     for i in range(3):\n",
    "#         print(f'G_{i+1}: ', gspc.g_cryst[i][gspc.idxsort])\n",
    "#     print(f'G^2: ', gspc.g_norm2[gspc.idxsort])\n",
    "# print('-'*10)\n",
    "\n",
    "\n",
    "g_cryst = dat['g_cryst']\n",
    "g_cart = dat['g_cart']\n",
    "g_norm2 = dat['g_norm2']\n",
    "# print('reference')\n",
    "# with np.printoptions(**print_args):\n",
    "#     for i in range(3):\n",
    "#         print(f'G_{i+1}: ', g_cryst[i])\n",
    "#     print(f'G^2: ', g_norm2)    \n",
    "\n",
    "print(np.allclose(g_cryst, gspc.g_cryst[:, gspc.idxsort]))\n",
    "print(np.allclose(g_cart, gspc.g_cart[:, gspc.idxsort]))\n",
    "print(np.allclose(g_norm2, gspc.g_norm2[gspc.idxsort]))\n",
    "\n",
    "rho_g = FieldG.empty(gspc, 2)\n",
    "rho_g.g[gspc.idxsort] = dat['rho_g']\n",
    "print(np.allclose(dat['rho_g'], rho_g.data[:, gspc.idxsort]))\n",
    "\n",
    "vhart_r = hartree(rho_g)\n",
    "vhart_g = vhart_r.to_fieldg()\n",
    "print(np.allclose(dat['v_g'], vhart_g.g[gspc.idxsort]))"
   ]
  },
  {
   "cell_type": "code",
   "execution_count": null,
   "id": "dbb7d2e0-c974-4fa5-b735-8e0acdbe7414",
   "metadata": {},
   "outputs": [],
   "source": [
    "from qtm.gspace import GkSpace\n",
    "from qtm.containers import WavefunG\n",
    "\n",
    "nbnd = 10\n",
    "\n",
    "gkspc = GkSpace(gspc, [0., 0., 0.])\n",
    "wfn = WavefunG.empty(gkspc, nbnd)"
   ]
  },
  {
   "cell_type": "code",
   "execution_count": null,
   "id": "a0afb750-282f-4659-b0e8-2b352001edb3",
   "metadata": {},
   "outputs": [],
   "source": [
    "import numpy as np\n",
    "import pyfftw\n",
    "\n",
    "a = np.empty(1000, dtype='c16')\n",
    "\n",
    "print(pyfftw.simd_alignment)\n",
    "print(pyfftw.is_byte_aligned(a))\n",
    "print(np.dtype('c16').alignment)\n",
    "print(np.dtype('f16').alignment)"
   ]
  },
  {
   "cell_type": "code",
   "execution_count": null,
   "id": "2703f5b8-98f5-48ed-99ce-13ca00ac7bbc",
   "metadata": {},
   "outputs": [],
   "source": [
    "import numpy as np\n",
    "\n",
    "def create_rand_c16(shape):\n",
    "    return np.random.rand(*shape) + 1j*np.random.rand(*shape)\n",
    "\n",
    "bra_shape = (2, 3, 4)\n",
    "ket_shape = (5, 6)\n",
    "numgk = 100\n",
    "\n",
    "bra = create_rand_c16((*bra_shape, numgk))\n",
    "ket = create_rand_c16((*ket_shape, numgk))\n",
    "\n",
    "braket = bra.reshape(-1, numgk).conj() @ ket.reshape(-1, numgk).T\n",
    "braket = braket.reshape((*bra_shape, *ket_shape))"
   ]
  },
  {
   "cell_type": "code",
   "execution_count": null,
   "id": "2ce71c3d-7445-42c7-9289-111677a035b8",
   "metadata": {},
   "outputs": [],
   "source": [
    "from scipy.linalg.blas import zgemm\n",
    "\n",
    "out = create_rand_c16((np.prod(ket_shape), np.prod(bra_shape)))\n",
    "\n",
    "a = bra.reshape(-1, numgk).T\n",
    "# print(a.flags)\n",
    "b = ket.reshape(-1, numgk).T\n",
    "# print(b.flags)\n",
    "\n",
    "c = out.T\n",
    "c = np.copy(c, order='C')\n",
    "print(c.flags)\n",
    "\n",
    "print(a.shape, b.shape, c.shape)\n",
    "c[:] = 10\n",
    "val = zgemm(\n",
    "    alpha=1.0, a=a, trans_a=2,\n",
    "    b=b, trans_b=0,\n",
    "    c=c, overwrite_c=0, beta=1\n",
    ")\n",
    "\n",
    "val = val.reshape((*bra_shape, *ket_shape))\n",
    "print(np.allclose(braket, val-10))"
   ]
  },
  {
   "cell_type": "code",
   "execution_count": null,
   "id": "ece3c5a9-a3be-4e3d-8eaf-bd3fd145d7ce",
   "metadata": {},
   "outputs": [],
   "source": [
    "import numpy as np\n",
    "from scipy.linalg.blas import get_blas_funcs\n",
    "from scipy.linalg.blas import find_best_blas_type\n",
    "\n",
    "shape = (10, 12)\n",
    "a = np.random.rand(*shape) + 1j * np.random.rand(*shape)\n",
    "\n",
    "func = get_blas_funcs('gemm', (a,),)\n",
    "print(func.__dict__)\n",
    "func = find_best_blas_type((a.T,))\n",
    "print(func)"
   ]
  },
  {
   "cell_type": "code",
   "execution_count": null,
   "id": "f16e7cff-a69a-4383-be22-3c5c0b7b1219",
   "metadata": {},
   "outputs": [],
   "source": []
  }
 ],
 "metadata": {
  "kernelspec": {
   "display_name": "Python 3 (ipykernel)",
   "language": "python",
   "name": "python3"
  },
  "language_info": {
   "codemirror_mode": {
    "name": "ipython",
    "version": 3
   },
   "file_extension": ".py",
   "mimetype": "text/x-python",
   "name": "python",
   "nbconvert_exporter": "python",
   "pygments_lexer": "ipython3",
   "version": "3.11.4"
  }
 },
 "nbformat": 4,
 "nbformat_minor": 5
}
