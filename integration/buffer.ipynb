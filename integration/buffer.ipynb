{
 "cells": [
  {
   "cell_type": "code",
   "execution_count": 1,
   "id": "c4707fa3-3ab1-4d59-9434-b299899ad52e",
   "metadata": {},
   "outputs": [],
   "source": [
    "%load_ext autoreload\n",
    "%autoreload 2\n",
    "\n",
    "%load_ext line_profiler"
   ]
  },
  {
   "cell_type": "code",
   "execution_count": null,
   "id": "5bb2c522-b8ca-4378-8078-d4c3c420976b",
   "metadata": {},
   "outputs": [],
   "source": []
  },
  {
   "cell_type": "code",
   "execution_count": 2,
   "id": "9c5dcf73-521f-42cb-900f-a029db75fdc3",
   "metadata": {},
   "outputs": [],
   "source": [
    "import sys\n",
    "\n",
    "linewidth = 100\n",
    "formatter = {\n",
    "    'float': lambda num: f'{num:5.1f}',\n",
    "    'int': lambda num: f'{float(num):5.1f}',\n",
    "}\n",
    "print_args = {\n",
    "#     'threshold': sys.maxsize,\n",
    "    'threshold': 100,\n",
    "    'linewidth': 100,\n",
    "    'formatter': formatter,\n",
    "    'edgeitems': 6,\n",
    "}\n"
   ]
  },
  {
   "cell_type": "code",
   "execution_count": 3,
   "id": "3bc64212-7267-4f30-a3e4-1a8a0bad591a",
   "metadata": {},
   "outputs": [],
   "source": [
    "import numpy as np\n",
    "from qtmpy.constants import RYDBERG\n",
    "\n",
    "alat = 5.107\n",
    "latvec_alat = 0.5 * np.array([\n",
    "    [ 1,  1,  1],\n",
    "    [-1,  1,  1],\n",
    "    [-1, -1,  1]\n",
    "])\n",
    "\n",
    "ecutwfn = 40 * RYDBERG"
   ]
  },
  {
   "cell_type": "code",
   "execution_count": 4,
   "id": "4a4d6ce3-1eac-421a-8c02-339d14bdf638",
   "metadata": {},
   "outputs": [
    {
     "name": "stdout",
     "output_type": "stream",
     "text": [
      "([0.5, 0.5, 0.5], [-0.5, 0.5, 0.5], [-0.5, -0.5, 0.5])\n",
      "1.2303084603837058\n",
      "([1.0, 1.1102230246251565e-16, 1.0], [-1.0000000000000002, 1.0000000000000002, 8.695696296261264e-17], [0.0, -1.0, 1.0])\n"
     ]
    }
   ],
   "source": [
    "from qtmpy.lattice import RealLattice, ReciLattice\n",
    "\n",
    "reallat = RealLattice.from_alat(alat, *latvec_alat)\n",
    "recilat = ReciLattice.from_reallat(reallat)\n",
    "\n",
    "print(reallat.axes_alat)\n",
    "print(recilat.tpiba)\n",
    "print(recilat.axes_tpiba)"
   ]
  },
  {
   "cell_type": "code",
   "execution_count": 5,
   "id": "e5251e04-b958-449b-89bf-c8a8a012e12a",
   "metadata": {},
   "outputs": [
    {
     "name": "stdout",
     "output_type": "stream",
     "text": [
      "(18, 18, 18)\n",
      "2243\n",
      "G_1:  [  0.0   0.0   0.0   0.0   0.0   0.0 ...  -1.0  -1.0  -1.0  -1.0  -1.0  -1.0]\n",
      "G_2:  [  0.0   0.0   0.0   0.0   0.0   0.0 ...  -1.0  -1.0  -1.0  -1.0  -1.0  -1.0]\n",
      "G_3:  [  0.0   1.0   2.0   3.0   4.0   5.0 ...  -6.0  -5.0  -4.0  -3.0  -2.0  -1.0]\n",
      "G^2:  [  0.0   3.0  12.1  27.2  48.4  75.7 ... 112.0  78.7  51.5  30.3  15.1   6.1]\n"
     ]
    }
   ],
   "source": [
    "from qtmpy.gspace.gspc import GSpace\n",
    "\n",
    "gspc_rho = GSpace(recilat, 4 * ecutwfn)\n",
    "print(gspc_rho.grid_shape)\n",
    "print(gspc_rho.size)\n",
    "with np.printoptions(**print_args):\n",
    "    for i in range(3):\n",
    "        print(f'G_{i+1}: ', gspc_rho.g_cryst[i])\n",
    "    print(f'G^2: ', gspc_rho.g_norm2)"
   ]
  },
  {
   "cell_type": "code",
   "execution_count": 6,
   "id": "36a1c651-1e3d-4314-b09d-29c65f418cbd",
   "metadata": {},
   "outputs": [
    {
     "name": "stdout",
     "output_type": "stream",
     "text": [
      "<class 'qtmpy.field.field_mixin.QTMBuffer'> True\n",
      "----------\n"
     ]
    }
   ],
   "source": [
    "from qtmpy.field.field_mixin import QTMBuffer\n",
    "    \n",
    "gspc = gspc_rho\n",
    "\n",
    "arr = QTMBuffer(gspc, np.empty(gspc.size, dtype='c16'))\n",
    "print(type(arr), hasattr(arr, 'gspc'))\n",
    "print('-'*10)\n",
    "\n",
    "# sl = arr[:5]\n",
    "# print(type(sl), hasattr(sl, 'gspc'))\n",
    "# val = np.linalg.norm(arr)\n",
    "# print(type(val), hasattr(val, 'gspc'))"
   ]
  },
  {
   "cell_type": "code",
   "execution_count": 31,
   "id": "2a9dad01-8f55-497f-a342-492f27bd2f9b",
   "metadata": {},
   "outputs": [
    {
     "name": "stdout",
     "output_type": "stream",
     "text": [
      "(nan+nanj)\n",
      "<class 'numpy.ndarray'> <class 'numpy.ndarray'>\n",
      "<qtmpy.field.field_mixin.QTMBuffer object at 0x7fb5c4db7b10>\n",
      "[ 0.+0.j  0.+0.j nan+0.j ...  0.+0.j  0.+0.j  0.+0.j]\n"
     ]
    }
   ],
   "source": [
    "a1 = np.empty(gspc.size, dtype='c16')\n",
    "a2 = np.empty((5, gspc.size), dtype='c16')\n",
    "print(np.sum(a1 + a2))\n",
    "\n",
    "x = QTMBuffer(gspc, a1)\n",
    "y = QTMBuffer(gspc, a2)\n",
    "print(type(a1), type(a2))\n",
    "b = x + y\n",
    "c = np.sum(b, axis=0)\n",
    "print(c)\n",
    "print(c.array - np.sum(a1 + a2, axis=0))"
   ]
  },
  {
   "cell_type": "code",
   "execution_count": 131,
   "id": "73532540-bdba-4649-bfc3-8eeecd2b59ed",
   "metadata": {},
   "outputs": [],
   "source": [
    "from qtmpy.gspace import GSpaceBase\n",
    "import numpy as np\n",
    "\n",
    "class Buffer(np.ndarray):\n",
    "    \n",
    "    ndarray = np.ndarray\n",
    "    \n",
    "    @staticmethod\n",
    "    def _get_basis(arr: np.ndarray, gspc: GSpaceBase):\n",
    "        shape = getattr(arr, 'shape', None)\n",
    "        if shape is None:\n",
    "            return\n",
    "        \n",
    "        if arr.shape[-1] == gspc.size:\n",
    "            basis_type = 'g'\n",
    "            basis_shape = (gspc.size, )\n",
    "        elif arr.shape[-3:] == gspc.grid_shape:\n",
    "            basis_type = 'r'\n",
    "            basis_shape = gspc.grid_shape\n",
    "        else:\n",
    "            return\n",
    "        \n",
    "        basis_ndim = len(basis_shape)\n",
    "        \n",
    "        dtype = getattr(arr, 'dtype', None)\n",
    "        if dtype is None:\n",
    "            return\n",
    "        \n",
    "        basis_strides = []\n",
    "        stride = dtype.itemsize\n",
    "        for dim in reversed(basis_shape):\n",
    "            basis_strides.append(stride)\n",
    "            stride *= dim\n",
    "        basis_strides = tuple(basis_strides)\n",
    "        if arr.strides[-basis_ndim:] != basis_strides:\n",
    "            return\n",
    "        \n",
    "        return basis_type, basis_shape, basis_ndim, basis_strides\n",
    "            \n",
    "    def __new__(cls, input_array, gspc):\n",
    "        print(\"New\")\n",
    "        dtype = getattr(input_array, 'dtype', None)\n",
    "        if dtype is None:\n",
    "            raise ValueError(\"array does not have attribute 'dtype'.\")\n",
    "        if dtype != 'c16':\n",
    "            raise TypeError(\"dtype of array must be 'complex128'. \"\n",
    "                            f\"got dtype = {dtype}\")\n",
    "            \n",
    "        if not isinstance(gspc, GSpace):\n",
    "            raise TypeError(\"'gspc' must be a 'GSpaceBase' instance. \"\n",
    "                            f\"got type {type(gspc)}\")\n",
    "        basis = cls._get_basis(input_array, gspc)\n",
    "        \n",
    "        if basis is None:\n",
    "            return input_array\n",
    "        obj = np.asarray(input_array, dtype='c16').view(cls)\n",
    "        obj.gspc = gspc\n",
    "        (obj._basis_type, obj._basis_shape, \n",
    "         obj._basis_ndim, obj._basis_strides) = basis\n",
    "        return obj\n",
    "    \n",
    "    def __array_finalize__(self, obj):\n",
    "        print(\"Finalize: \", type(obj))\n",
    "        if obj is None:\n",
    "            return\n",
    "        self.gspc = getattr(obj, 'gspc', None)\n",
    "        self._basis_type = getattr(obj, '_basis_type', None)\n",
    "        self._basis_shape = getattr(obj, '_basis_shape', None)\n",
    "        self._basis_ndim = getattr(obj, '_basis_ndim', None)\n",
    "        self._basis_strides = getattr(obj, '_basis_strides', None)\n",
    "        \n",
    "    @property\n",
    "    def basis_type(self):\n",
    "        return self._basis_type\n",
    "    \n",
    "    @property\n",
    "    def basis_shape(self):\n",
    "        return self._basis_shape\n",
    "    \n",
    "    @property\n",
    "    def basis_ndim(self):\n",
    "        return self._basis_ndim\n",
    "    \n",
    "    @property\n",
    "    def basis_strides(self):\n",
    "        return self._basis_strides\n",
    "    \n",
    "    def __array_ufunc__(self, ufunc, method, *inputs, out=None, **kwargs):\n",
    "        args = []\n",
    "        in_no = []\n",
    "        for i, input_ in enumerate(inputs):\n",
    "            if isinstance(input_, A):\n",
    "                in_no.append(i)\n",
    "                args.append(input_.view(np.ndarray))\n",
    "            else:\n",
    "                args.append(input_)\n",
    "\n",
    "        outputs = out\n",
    "        out_no = []\n",
    "        if outputs:\n",
    "            out_args = []\n",
    "            for j, output in enumerate(outputs):\n",
    "                if isinstance(output, Buffer):\n",
    "                    out_no.append(j)\n",
    "                    out_args.append(output.view(np.ndarray))\n",
    "                else:\n",
    "                    out_args.append(output)\n",
    "            kwargs['out'] = tuple(out_args)\n",
    "        else:\n",
    "            outputs = (None,) * ufunc.nout\n",
    "\n",
    "        out = super().__array_ufunc__(ufunc, method, *args, **kwargs)\n",
    "        if out is NotImplemented:\n",
    "            return NotImplemented\n",
    "\n",
    "        print(out)\n",
    "        if out is not None:\n",
    "            print('ufunc basis: ', basis)\n",
    "            if basis is None:\n",
    "                return np.asarray(out)\n",
    "            return Buffer(out, self.gspc)\n",
    "        \n",
    "    def __getitem__(self, item):\n",
    "        arr_sl = np.asarray(self).__getitem__(item)\n",
    "        print('get', type(self), type(arr_sl))\n",
    "        basis = self._get_basis(arr_sl, self.gspc)\n",
    "        if basis is None:\n",
    "            return np.asarray(self).__getitem__(item)\n",
    "        return super().__getitem__(item)"
   ]
  },
  {
   "cell_type": "code",
   "execution_count": 132,
   "id": "2339cfa1-b33a-4b1c-ba5c-c12c1b25351b",
   "metadata": {},
   "outputs": [
    {
     "name": "stdout",
     "output_type": "stream",
     "text": [
      "New\n",
      "Finalize:  <class 'numpy.ndarray'>\n",
      "<class '__main__.Buffer'> True\n",
      "----------\n",
      "get <class '__main__.Buffer'> <class 'numpy.ndarray'>\n",
      "<class 'numpy.ndarray'> False\n",
      "<class 'numpy.float64'> False\n"
     ]
    }
   ],
   "source": [
    "# arr = Buffer(np.zeros(10))\n",
    "# print(type(arr), hasattr(arr, 'gspc'))\n",
    "# print('-'*10)\n",
    "gspc = gspc_rho\n",
    "\n",
    "arr = Buffer(np.empty(gspc.size, dtype='c16'), gspc)\n",
    "print(type(arr), hasattr(arr, 'gspc'))\n",
    "print('-'*10)\n",
    "\n",
    "sl = arr[:5]\n",
    "print(type(sl), hasattr(sl, 'gspc'))\n",
    "val = np.linalg.norm(arr)\n",
    "print(type(val), hasattr(val, 'gspc'))"
   ]
  },
  {
   "cell_type": "code",
   "execution_count": 133,
   "id": "47370883-505a-4749-b1d0-01fdbe1f4c37",
   "metadata": {},
   "outputs": [
    {
     "name": "stdout",
     "output_type": "stream",
     "text": [
      "<class 'numpy.ndarray'>\n"
     ]
    },
    {
     "data": {
      "text/plain": [
       "True"
      ]
     },
     "execution_count": 133,
     "metadata": {},
     "output_type": "execute_result"
    }
   ],
   "source": [
    "print(type(np.asarray(arr)))\n",
    "arr.base is np.asarray(arr).base"
   ]
  },
  {
   "cell_type": "code",
   "execution_count": 134,
   "id": "222c5b29-6b5b-4ea6-b8e6-1aabfa57450b",
   "metadata": {},
   "outputs": [
    {
     "name": "stdout",
     "output_type": "stream",
     "text": [
      "New\n",
      "Finalize:  <class 'numpy.ndarray'>\n",
      "New\n",
      "Finalize:  <class 'numpy.ndarray'>\n",
      "<class '__main__.Buffer'> <class '__main__.Buffer'>\n"
     ]
    },
    {
     "ename": "NameError",
     "evalue": "name 'A' is not defined",
     "output_type": "error",
     "traceback": [
      "\u001B[0;31m---------------------------------------------------------------------------\u001B[0m",
      "\u001B[0;31mNameError\u001B[0m                                 Traceback (most recent call last)",
      "Cell \u001B[0;32mIn[134], line 4\u001B[0m\n\u001B[1;32m      2\u001B[0m a2 \u001B[38;5;241m=\u001B[39m Buffer(np\u001B[38;5;241m.\u001B[39mempty((\u001B[38;5;241m5\u001B[39m, gspc\u001B[38;5;241m.\u001B[39msize), dtype\u001B[38;5;241m=\u001B[39m\u001B[38;5;124m'\u001B[39m\u001B[38;5;124mc16\u001B[39m\u001B[38;5;124m'\u001B[39m), gspc)\n\u001B[1;32m      3\u001B[0m \u001B[38;5;28mprint\u001B[39m(\u001B[38;5;28mtype\u001B[39m(a1), \u001B[38;5;28mtype\u001B[39m(a2))\n\u001B[0;32m----> 4\u001B[0m b \u001B[38;5;241m=\u001B[39m \u001B[43ma1\u001B[49m\u001B[43m \u001B[49m\u001B[38;5;241;43m+\u001B[39;49m\u001B[43m \u001B[49m\u001B[43ma2\u001B[49m\n\u001B[1;32m      5\u001B[0m \u001B[38;5;28mprint\u001B[39m(\u001B[38;5;124m'\u001B[39m\u001B[38;5;124msum\u001B[39m\u001B[38;5;124m'\u001B[39m, \u001B[38;5;28mtype\u001B[39m(b), \u001B[38;5;28mhasattr\u001B[39m(b, \u001B[38;5;124m'\u001B[39m\u001B[38;5;124mgspc\u001B[39m\u001B[38;5;124m'\u001B[39m))\n\u001B[1;32m      6\u001B[0m c \u001B[38;5;241m=\u001B[39m b[\u001B[38;5;241m0\u001B[39m]\n",
      "Cell \u001B[0;32mIn[131], line 92\u001B[0m, in \u001B[0;36mBuffer.__array_ufunc__\u001B[0;34m(self, ufunc, method, out, *inputs, **kwargs)\u001B[0m\n\u001B[1;32m     90\u001B[0m in_no \u001B[38;5;241m=\u001B[39m []\n\u001B[1;32m     91\u001B[0m \u001B[38;5;28;01mfor\u001B[39;00m i, input_ \u001B[38;5;129;01min\u001B[39;00m \u001B[38;5;28menumerate\u001B[39m(inputs):\n\u001B[0;32m---> 92\u001B[0m     \u001B[38;5;28;01mif\u001B[39;00m \u001B[38;5;28misinstance\u001B[39m(input_, \u001B[43mA\u001B[49m):\n\u001B[1;32m     93\u001B[0m         in_no\u001B[38;5;241m.\u001B[39mappend(i)\n\u001B[1;32m     94\u001B[0m         args\u001B[38;5;241m.\u001B[39mappend(input_\u001B[38;5;241m.\u001B[39mview(np\u001B[38;5;241m.\u001B[39mndarray))\n",
      "\u001B[0;31mNameError\u001B[0m: name 'A' is not defined"
     ]
    }
   ],
   "source": [
    "a1 = Buffer(np.empty(gspc.size, dtype='c16'), gspc)\n",
    "a2 = Buffer(np.empty((5, gspc.size), dtype='c16'), gspc)\n",
    "print(type(a1), type(a2))\n",
    "b = a1 + a2\n",
    "print('sum', type(b), hasattr(b, 'gspc'))\n",
    "c = b[0]\n",
    "print('b[0]', type(c), hasattr(c, 'gspc'))\n",
    "c = b.reshape(-1).copy()\n",
    "print('reshape', type(c), hasattr(c, 'gspc'))"
   ]
  },
  {
   "cell_type": "code",
   "execution_count": null,
   "id": "042c3e44-cd4d-4b0f-99fd-37e3841253ff",
   "metadata": {},
   "outputs": [],
   "source": []
  },
  {
   "cell_type": "code",
   "execution_count": 16,
   "id": "ead58dc8-3fa5-4616-9572-cbe65474fdb8",
   "metadata": {},
   "outputs": [
    {
     "name": "stdout",
     "output_type": "stream",
     "text": [
      "(96, 32, 8)\n",
      "8\n",
      "32\n",
      "96\n",
      "(96, 32, 8)\n"
     ]
    }
   ],
   "source": [
    "import numpy as np\n",
    "a = np.arange(24).reshape(2,3,4)\n",
    "print(a.strides)\n",
    "\n",
    "basis_strides = []\n",
    "stride = a.dtype.itemsize\n",
    "for dim in reversed(a.shape):\n",
    "    print(stride)\n",
    "    basis_strides.append(stride)\n",
    "    stride *= dim\n",
    "basis_strides = tuple(reversed(basis_strides))\n",
    "print(basis_strides)"
   ]
  },
  {
   "cell_type": "code",
   "execution_count": null,
   "id": "babb9250-b536-422f-9149-b34990c26d50",
   "metadata": {},
   "outputs": [],
   "source": []
  }
 ],
 "metadata": {
  "kernelspec": {
   "display_name": "Python 3 (ipykernel)",
   "language": "python",
   "name": "python3"
  },
  "language_info": {
   "codemirror_mode": {
    "name": "ipython",
    "version": 3
   },
   "file_extension": ".py",
   "mimetype": "text/x-python",
   "name": "python",
   "nbconvert_exporter": "python",
   "pygments_lexer": "ipython3",
   "version": "3.11.0"
  }
 },
 "nbformat": 4,
 "nbformat_minor": 5
}
