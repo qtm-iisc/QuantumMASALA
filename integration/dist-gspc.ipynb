{
 "cells": [
  {
   "cell_type": "code",
   "execution_count": 1,
   "id": "c35903d3-2a82-4415-834d-40fc5f4fce54",
   "metadata": {},
   "outputs": [],
   "source": [
    "%load_ext autoreload\n",
    "%load_ext line_profiler\n",
    "%autoreload 2"
   ]
  },
  {
   "cell_type": "code",
   "execution_count": 2,
   "id": "b231eb71-bbe1-4aaa-ac6c-34c43635d421",
   "metadata": {},
   "outputs": [],
   "source": [
    "import sys\n",
    "\n",
    "linewidth = 100\n",
    "formatter = {\n",
    "    'float': lambda num: f'{num:5.1f}',\n",
    "    'int': lambda num: f'{float(num):5.1f}',\n",
    "}\n",
    "print_args = {\n",
    "    'threshold': sys.maxsize,\n",
    "#     'threshold': 100,\n",
    "    'linewidth': 100,\n",
    "    'formatter': formatter,\n",
    "    'edgeitems': 6,\n",
    "}"
   ]
  },
  {
   "cell_type": "code",
   "execution_count": 3,
   "id": "c0dd0183-82bb-482e-a148-ce55e23d6d76",
   "metadata": {},
   "outputs": [],
   "source": [
    "import numpy as np\n",
    "from qtm.constants import RYDBERG\n",
    "\n",
    "from qtm.lattice import RealLattice, ReciLattice\n",
    "from qtm.gspace import GSpace, GkSpace\n",
    "\n",
    "alat = 5.107\n",
    "latvec_alat = 0.5 * np.array([\n",
    "    [ 1,  1,  1],\n",
    "    [-1,  1,  1],\n",
    "    [-1, -1,  1]\n",
    "])\n",
    "\n",
    "reallat = RealLattice.from_alat(alat, *latvec_alat)\n",
    "recilat = ReciLattice.from_reallat(reallat)\n",
    "\n",
    "ecutwfn = 40 * RYDBERG\n",
    "grho = GSpace(recilat, 4 * ecutwfn)\n",
    "gwfn = GkSpace(grho, [0., 0., 0.])\n",
    "# print(grho.grid_shape, grho.size_g)\n",
    "# print(gwfn.grid_shape, gwfn.size_g)"
   ]
  },
  {
   "cell_type": "code",
   "execution_count": 4,
   "id": "d5204c28-6862-4152-9879-9606327fe71a",
   "metadata": {},
   "outputs": [
    {
     "name": "stdout",
     "output_type": "stream",
     "text": [
      "(1, 2243) (1, 5832)\n",
      "True\n",
      "True\n"
     ]
    }
   ],
   "source": [
    "gspc = grho\n",
    "\n",
    "arr_g = gspc.create_buffer_g(1)\n",
    "arr_r = gspc.create_buffer_r(1)\n",
    "print(arr_g.shape, arr_r.shape)\n",
    "\n",
    "rng = np.random.default_rng(12345)\n",
    "\n",
    "arr_g[:] = rng.random(gspc.size_g) \\\n",
    "    + 1j * rng.random(gspc.size_g)\n",
    "\n",
    "arr_r[:] = 0\n",
    "arr_r.put(gspc.idxgrid, arr_g)\n",
    "\n",
    "arr_r = np.fft.ifftn(arr_r.reshape(gspc.grid_shape))\n",
    "arr_r = arr_r.reshape((1, -1))\n",
    "\n",
    "out = gspc.create_buffer_r(1)\n",
    "gspc.g2r(arr_g, out)\n",
    "print(np.allclose(out, arr_r))\n",
    "\n",
    "out = gspc.create_buffer_g(1)\n",
    "gspc.r2g(arr_r, out)\n",
    "print(np.allclose(out, arr_g))"
   ]
  },
  {
   "cell_type": "code",
   "execution_count": 5,
   "id": "61b5da43-6508-4ec0-a4c4-12a6dd90c36f",
   "metadata": {},
   "outputs": [
    {
     "name": "stdout",
     "output_type": "stream",
     "text": [
      "True\n"
     ]
    }
   ],
   "source": [
    "print(np.all(np.sort(gspc.idxgrid) == gspc.idxgrid))"
   ]
  },
  {
   "cell_type": "code",
   "execution_count": 6,
   "id": "709e14d3-e0e1-422b-b716-8c6e58edd4f2",
   "metadata": {},
   "outputs": [
    {
     "name": "stdout",
     "output_type": "stream",
     "text": [
      "True\n",
      "True\n",
      "True\n",
      "True\n"
     ]
    }
   ],
   "source": [
    "from qtm.mpi.comm import QTMComm\n",
    "from qtm.mpi.gspace import DistGSpace\n",
    "from qtm.gspace.fft.utils import cryst2idxgrid\n",
    "\n",
    "class DummyComm(QTMComm):\n",
    "    \n",
    "    def __init__(self, size, rank):\n",
    "        self.size, self.rank = size, rank\n",
    "    \n",
    "    def Get_size(self):\n",
    "        return self.size\n",
    "    \n",
    "    def Get_rank(self):\n",
    "        return self.rank\n",
    "\n",
    "size = 4\n",
    "\n",
    "nx, ny, nz = gspc.grid_shape\n",
    "idxgrid = gspc.idxgrid\n",
    "ix, iy, iz = np.unravel_index(idxgrid, gspc.grid_shape, order='C')\n",
    "\n",
    "l_iglocal = []\n",
    "for rank in range(size):\n",
    "    comm = DummyComm(size, rank)\n",
    "    dist_gspc = DistGSpace(comm, gspc)\n",
    "    # print(dist_gspc.size_g)\n",
    "    l_iglocal.append(dist_gspc.ig_loc)\n",
    "\n",
    "# igall = np.concatenate(l_iglocal)\n",
    "# print(np.all(igall[dist_gspc.gather2glob] \n",
    "#              == np.arange(gspc.size_g, dtype='i8')))\n",
    "\n",
    "\n",
    "# idx = np.argsort(\n",
    "#     np.searchsorted(dist_gspc.iyz_key, iy*nz + iz),\n",
    "#     kind='stable'\n",
    "# )\n",
    "# print(np.nonzero(\n",
    "#     np.arange(gspc.size_g, dtype='i8')[idx] != igall\n",
    "# ))"
   ]
  },
  {
   "cell_type": "code",
   "execution_count": null,
   "id": "366e7ad4-4449-45c6-ad6d-433652f92a75",
   "metadata": {},
   "outputs": [],
   "source": []
  },
  {
   "cell_type": "code",
   "execution_count": 7,
   "id": "80c2ce46-2a35-40b0-9a8f-23ad3eb532c5",
   "metadata": {},
   "outputs": [
    {
     "name": "stdout",
     "output_type": "stream",
     "text": [
      "(8, 6, 1)\n",
      "<Cluster(cluster_id='1690363503-3irn', profile='default')>\n",
      "100%|███████████████████████████████████████████████████████████████████████████████████████████████████████████████████████████████████████████████████████████████████████████████████████████████████████████████████████████████████| 4/4 [00:06<00:00,  1.51s/engine]\n"
     ]
    },
    {
     "data": {
      "text/plain": [
       "[0, 1, 2, 3]"
      ]
     },
     "execution_count": 7,
     "metadata": {},
     "output_type": "execute_result"
    }
   ],
   "source": [
    "import ipyparallel as ipp\n",
    "print(ipp.version_info)\n",
    "\n",
    "nproc = 4\n",
    "cluster = ipp.Cluster(engines='mpi', n=nproc, shutdown_atexit=False)\n",
    "print(cluster)\n",
    "client = cluster.start_and_connect_sync(activate=True)\n",
    "view = client[:]\n",
    "client.ids"
   ]
  },
  {
   "cell_type": "code",
   "execution_count": 8,
   "id": "9181dedf-b6b3-45d8-a159-5ce7c7b046b3",
   "metadata": {},
   "outputs": [
    {
     "name": "stdout",
     "output_type": "stream",
     "text": [
      "PROFILE          CLUSTER ID                       RUNNING ENGINES LAUNCHER\n",
      "default          1690363503-3irn                  True          4 MPI\n"
     ]
    }
   ],
   "source": [
    "!ipcluster list"
   ]
  },
  {
   "cell_type": "code",
   "execution_count": 9,
   "id": "29f1a14d-16f7-4fb6-a60e-259dbfc0b52c",
   "metadata": {},
   "outputs": [
    {
     "name": "stdout",
     "output_type": "stream",
     "text": [
      "%autopx enabled\n"
     ]
    }
   ],
   "source": [
    "%autopx --block --group-outputs=engines"
   ]
  },
  {
   "cell_type": "code",
   "execution_count": 10,
   "id": "b2e0670b-a4f6-4f7d-8394-02ac1f8c1b09",
   "metadata": {},
   "outputs": [],
   "source": [
    "import numpy as np\n",
    "\n",
    "from qtm.lattice import RealLattice, ReciLattice\n",
    "from qtm.gspace import GSpace, GkSpace\n",
    "\n",
    "from qtm.constants import RYDBERG\n",
    "\n",
    "alat = 5.107\n",
    "latvec_alat = 0.5 * np.array([\n",
    "    [ 1,  1,  1],\n",
    "    [-1,  1,  1],\n",
    "    [-1, -1,  1]\n",
    "])\n",
    "ecutwfn = 40 * RYDBERG\n",
    "\n",
    "reallat = RealLattice.from_alat(alat, *latvec_alat)\n",
    "recilat = ReciLattice.from_reallat(reallat)\n",
    "\n",
    "grho = GSpace(recilat, 4 * ecutwfn)\n",
    "gwfn = GkSpace(grho, [0., 0., 0.])"
   ]
  },
  {
   "cell_type": "code",
   "execution_count": 11,
   "id": "53ab48e6-591c-4b35-9fc8-830ef8921a24",
   "metadata": {},
   "outputs": [
    {
     "data": {
      "text/plain": [
       "[stdout:1] True\n",
       "True\n"
      ]
     },
     "metadata": {},
     "output_type": "display_data"
    },
    {
     "data": {
      "text/plain": [
       "[stdout:2] True\n",
       "True\n"
      ]
     },
     "metadata": {},
     "output_type": "display_data"
    },
    {
     "data": {
      "text/plain": [
       "[stdout:0] True\n",
       "True\n"
      ]
     },
     "metadata": {},
     "output_type": "display_data"
    },
    {
     "data": {
      "text/plain": [
       "[stdout:3] True\n",
       "True\n"
      ]
     },
     "metadata": {},
     "output_type": "display_data"
    }
   ],
   "source": [
    "gspc = grho\n",
    "\n",
    "arr_g = gspc.create_buffer_g(1)\n",
    "arr_r = gspc.create_buffer_r(1)\n",
    "\n",
    "rng = np.random.default_rng(12345)\n",
    "arr_g[:] = rng.random(gspc.size_g) \\\n",
    "    + 1j * rng.random(gspc.size_g)\n",
    "\n",
    "arr_r[:] = 0\n",
    "arr_r.put(gspc.idxgrid, arr_g)\n",
    "\n",
    "arr_r = np.fft.ifftn(arr_r.reshape(gspc.grid_shape))\n",
    "arr_r = arr_r.reshape((1, -1))\n",
    "\n",
    "out = gspc.create_buffer_r(1)\n",
    "gspc.g2r(arr_g, out)\n",
    "print(np.allclose(out, arr_r))\n",
    "\n",
    "out = gspc.create_buffer_g(1)\n",
    "gspc.r2g(arr_r, out)\n",
    "print(np.allclose(out, arr_g))"
   ]
  },
  {
   "cell_type": "code",
   "execution_count": 12,
   "id": "21371772-a289-48bb-9d2c-b6276bfa6ddd",
   "metadata": {},
   "outputs": [
    {
     "data": {
      "text/plain": [
       "[stdout:1] True\n"
      ]
     },
     "metadata": {},
     "output_type": "display_data"
    },
    {
     "data": {
      "text/plain": [
       "[stdout:2] True\n"
      ]
     },
     "metadata": {},
     "output_type": "display_data"
    },
    {
     "data": {
      "text/plain": [
       "[stdout:3] True\n"
      ]
     },
     "metadata": {},
     "output_type": "display_data"
    },
    {
     "data": {
      "text/plain": [
       "[stdout:0] True\n"
      ]
     },
     "metadata": {},
     "output_type": "display_data"
    }
   ],
   "source": [
    "from mpi4py.MPI import COMM_WORLD\n",
    "from qtm.mpi.comm import QTMComm\n",
    "from qtm.mpi.gspace import DistGSpace\n",
    "\n",
    "comm_world = QTMComm(COMM_WORLD)\n",
    "size, rank = comm_world.size, comm_world.rank\n",
    "dist_gspc = DistGSpace(comm_world, gspc)"
   ]
  },
  {
   "cell_type": "code",
   "execution_count": 14,
   "id": "6aef3681-c14a-4950-8c60-9eb8668782a0",
   "metadata": {},
   "outputs": [],
   "source": [
    "# from qtm.mpi.utils import scatter_range, scatter_len\n",
    "\n",
    "# nx, ns = (5, 9)\n",
    "\n",
    "# # Creating global data and slicing it for local data\n",
    "# glob_shape = (nx, ns)\n",
    "# glob_array = np.arange(np.prod(glob_shape)).reshape(glob_shape)\n",
    "\n",
    "# loc_range = scatter_range(range(glob_shape[1]), size, rank)\n",
    "# loc_start, loc_stop = loc_range.start, loc_range.stop\n",
    "# loc_shape = (glob_shape[0], loc_stop - loc_start)\n",
    "\n",
    "# loc_array = np.empty(loc_shape)\n",
    "# loc_array[:] = glob_array[:, loc_start:loc_stop]\n",
    "# print()\n",
    "# # print(loc_array)\n",
    "\n",
    "# inp = loc_array\n",
    "# out = np.empty((glob_shape[1], scatter_len(glob_shape[0], size, rank)))\n",
    "\n",
    "# dist_gspc._transpose(inp, out)\n",
    "# # print(out)\n",
    "\n",
    "# inp[:] = 0\n",
    "# dist_gspc._transpose(out, inp)\n",
    "# # print(inp)"
   ]
  },
  {
   "cell_type": "code",
   "execution_count": 15,
   "id": "4fc678c6-0956-4f89-8485-0a531c33687c",
   "metadata": {},
   "outputs": [],
   "source": [
    "# print(dist_gspc.ig_loc)"
   ]
  },
  {
   "cell_type": "code",
   "execution_count": 16,
   "id": "50cbb426-ad33-4354-bcb5-9fc69b841ced",
   "metadata": {},
   "outputs": [
    {
     "data": {
      "text/plain": [
       "[stdout:0] (18, 18, 5) (667,)\n"
      ]
     },
     "metadata": {},
     "output_type": "display_data"
    },
    {
     "data": {
      "text/plain": [
       "[stdout:3] (18, 18, 4) (624,)\n"
      ]
     },
     "metadata": {},
     "output_type": "display_data"
    },
    {
     "data": {
      "text/plain": [
       "[stdout:2] (18, 18, 4) (441,)\n"
      ]
     },
     "metadata": {},
     "output_type": "display_data"
    },
    {
     "data": {
      "text/plain": [
       "[stdout:1] (18, 18, 5) (511,)\n"
      ]
     },
     "metadata": {},
     "output_type": "display_data"
    }
   ],
   "source": [
    "from qtm.mpi.utils import scatter_len, scatter_range\n",
    "\n",
    "arr_r_, arr_g_ = arr_r[0].reshape(gspc.grid_shape), arr_g[0]\n",
    "\n",
    "ix_loc = scatter_range(range(dist_gspc.nz), size, rank)\n",
    "ix_start, ix_stop = ix_loc.start, ix_loc.stop\n",
    "arr_r_loc = arr_r_[..., ix_start:ix_stop]\n",
    "arr_g_loc = arr_g_[dist_gspc.ig_loc]\n",
    "\n",
    "print(arr_r_loc.shape, arr_g_loc.shape)"
   ]
  },
  {
   "cell_type": "code",
   "execution_count": 17,
   "id": "68382a01-f9d8-40af-97ef-10a5fa57dd4b",
   "metadata": {},
   "outputs": [
    {
     "data": {
      "text/plain": [
       "[stdout:1] (1620,) (1620,)\n",
       "True\n"
      ]
     },
     "metadata": {},
     "output_type": "display_data"
    },
    {
     "data": {
      "text/plain": [
       "[stdout:2] (1296,) (1296,)\n",
       "True\n"
      ]
     },
     "metadata": {},
     "output_type": "display_data"
    },
    {
     "data": {
      "text/plain": [
       "[stdout:3] (1296,) (1296,)\n",
       "True\n"
      ]
     },
     "metadata": {},
     "output_type": "display_data"
    },
    {
     "data": {
      "text/plain": [
       "[stdout:0] (1620,) (1620,)\n",
       "True\n"
      ]
     },
     "metadata": {},
     "output_type": "display_data"
    }
   ],
   "source": [
    "out = dist_gspc.g2r(arr_g_loc)\n",
    "print(out.shape, arr_r_loc.ravel().shape)\n",
    "print(np.allclose(out , arr_r_loc.ravel()))"
   ]
  },
  {
   "cell_type": "code",
   "execution_count": 18,
   "id": "a8336d6e-f3f0-490d-a603-c6f289ba3731",
   "metadata": {},
   "outputs": [
    {
     "data": {
      "text/plain": [
       "[stdout:0] True\n",
       "(667,)\n"
      ]
     },
     "metadata": {},
     "output_type": "display_data"
    },
    {
     "data": {
      "text/plain": [
       "[stdout:2] True\n",
       "(441,)\n"
      ]
     },
     "metadata": {},
     "output_type": "display_data"
    },
    {
     "data": {
      "text/plain": [
       "[stdout:1] True\n",
       "(511,)\n"
      ]
     },
     "metadata": {},
     "output_type": "display_data"
    },
    {
     "data": {
      "text/plain": [
       "[stdout:3] True\n",
       "(624,)\n"
      ]
     },
     "metadata": {},
     "output_type": "display_data"
    }
   ],
   "source": [
    "out = dist_gspc.r2g(arr_r_loc.ravel())\n",
    "print(np.allclose(out , arr_g_loc.ravel()))\n",
    "print(out.shape)"
   ]
  },
  {
   "cell_type": "code",
   "execution_count": null,
   "id": "25cad634-31a1-4a00-8d1f-f2e0e9c4617d",
   "metadata": {},
   "outputs": [],
   "source": []
  },
  {
   "cell_type": "code",
   "execution_count": 19,
   "id": "b3b60a49-044a-4136-9858-cba496bb1de2",
   "metadata": {},
   "outputs": [
    {
     "name": "stdout",
     "output_type": "stream",
     "text": [
      "%autopx disabled\n"
     ]
    }
   ],
   "source": [
    "%autopx --block --group-outputs=engines"
   ]
  },
  {
   "cell_type": "code",
   "execution_count": 20,
   "id": "55a25ef6-2fba-4f49-804e-79819c62f036",
   "metadata": {},
   "outputs": [],
   "source": [
    "cluster.stop_cluster_sync()"
   ]
  },
  {
   "cell_type": "code",
   "execution_count": 21,
   "id": "c1f8efbd-2a60-4179-ba36-fa4d90306f20",
   "metadata": {},
   "outputs": [
    {
     "name": "stdout",
     "output_type": "stream",
     "text": [
      "PROFILE          CLUSTER ID                       RUNNING ENGINES LAUNCHER\n",
      "default          1690365451-v2ci                  False         4 MPI\n"
     ]
    }
   ],
   "source": [
    "!ipcluster list"
   ]
  },
  {
   "cell_type": "code",
   "execution_count": null,
   "id": "aacadb72-4e10-47c8-a90f-982c694750eb",
   "metadata": {},
   "outputs": [],
   "source": []
  }
 ],
 "metadata": {
  "kernelspec": {
   "display_name": "Python 3 (ipykernel)",
   "language": "python",
   "name": "python3"
  },
  "language_info": {
   "codemirror_mode": {
    "name": "ipython",
    "version": 3
   },
   "file_extension": ".py",
   "mimetype": "text/x-python",
   "name": "python",
   "nbconvert_exporter": "python",
   "pygments_lexer": "ipython3",
   "version": "3.11.4"
  }
 },
 "nbformat": 4,
 "nbformat_minor": 5
}
